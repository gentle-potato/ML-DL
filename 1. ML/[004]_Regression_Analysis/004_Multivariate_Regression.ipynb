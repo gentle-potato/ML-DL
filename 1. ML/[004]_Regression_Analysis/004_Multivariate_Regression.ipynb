{
  "nbformat": 4,
  "nbformat_minor": 0,
  "metadata": {
    "colab": {
      "name": "004_Multivariate_Regression.ipynb",
      "provenance": [],
      "collapsed_sections": [],
      "toc_visible": true
    },
    "kernelspec": {
      "name": "python3",
      "display_name": "Python 3"
    },
    "language_info": {
      "name": "python"
    }
  },
  "cells": [
    {
      "cell_type": "markdown",
      "metadata": {
        "id": "dzWZ61jsLnSb"
      },
      "source": [
        "# **다중 회귀 분석(Multivariate Regression)**"
      ]
    },
    {
      "cell_type": "code",
      "metadata": {
        "id": "dlL_ZU2CL7wL"
      },
      "source": [
        "import warnings\n",
        "warnings.filterwarnings('ignore')"
      ],
      "execution_count": 1,
      "outputs": []
    },
    {
      "cell_type": "markdown",
      "metadata": {
        "id": "QNLFuvMXMAM4"
      },
      "source": [
        "# **실습용 데이터 설정**"
      ]
    },
    {
      "cell_type": "markdown",
      "metadata": {
        "id": "bBUP0qZeMI1B"
      },
      "source": [
        "- pandas DataFrame\n",
        "  - Insurance.csv"
      ]
    },
    {
      "cell_type": "code",
      "metadata": {
        "colab": {
          "base_uri": "https://localhost:8080/"
        },
        "id": "mE_OMi1sMOr3",
        "outputId": "be27d91a-2941-46ed-8265-756c7befbaed"
      },
      "source": [
        "import pandas as pd\n",
        "\n",
        "url = 'https://raw.githubusercontent.com/rusita-ai/pyData/master/Insurance.csv'\n",
        "DF = pd.read_csv(url)\n",
        "\n",
        "DF.info()"
      ],
      "execution_count": 2,
      "outputs": [
        {
          "output_type": "stream",
          "text": [
            "<class 'pandas.core.frame.DataFrame'>\n",
            "RangeIndex: 1338 entries, 0 to 1337\n",
            "Data columns (total 7 columns):\n",
            " #   Column    Non-Null Count  Dtype  \n",
            "---  ------    --------------  -----  \n",
            " 0   age       1338 non-null   int64  \n",
            " 1   sex       1338 non-null   object \n",
            " 2   bmi       1338 non-null   float64\n",
            " 3   children  1338 non-null   int64  \n",
            " 4   smoker    1338 non-null   object \n",
            " 5   region    1338 non-null   object \n",
            " 6   expenses  1338 non-null   float64\n",
            "dtypes: float64(2), int64(2), object(3)\n",
            "memory usage: 73.3+ KB\n"
          ],
          "name": "stdout"
        }
      ]
    },
    {
      "cell_type": "code",
      "metadata": {
        "colab": {
          "base_uri": "https://localhost:8080/",
          "height": 142
        },
        "id": "E1N0zQ7vMrwW",
        "outputId": "33259b20-74f1-4447-d38f-2c503ffff5a6"
      },
      "source": [
        "DF.head(3)"
      ],
      "execution_count": 3,
      "outputs": [
        {
          "output_type": "execute_result",
          "data": {
            "text/html": [
              "<div>\n",
              "<style scoped>\n",
              "    .dataframe tbody tr th:only-of-type {\n",
              "        vertical-align: middle;\n",
              "    }\n",
              "\n",
              "    .dataframe tbody tr th {\n",
              "        vertical-align: top;\n",
              "    }\n",
              "\n",
              "    .dataframe thead th {\n",
              "        text-align: right;\n",
              "    }\n",
              "</style>\n",
              "<table border=\"1\" class=\"dataframe\">\n",
              "  <thead>\n",
              "    <tr style=\"text-align: right;\">\n",
              "      <th></th>\n",
              "      <th>age</th>\n",
              "      <th>sex</th>\n",
              "      <th>bmi</th>\n",
              "      <th>children</th>\n",
              "      <th>smoker</th>\n",
              "      <th>region</th>\n",
              "      <th>expenses</th>\n",
              "    </tr>\n",
              "  </thead>\n",
              "  <tbody>\n",
              "    <tr>\n",
              "      <th>0</th>\n",
              "      <td>19</td>\n",
              "      <td>female</td>\n",
              "      <td>27.90</td>\n",
              "      <td>0</td>\n",
              "      <td>yes</td>\n",
              "      <td>southwest</td>\n",
              "      <td>16884.9240</td>\n",
              "    </tr>\n",
              "    <tr>\n",
              "      <th>1</th>\n",
              "      <td>18</td>\n",
              "      <td>male</td>\n",
              "      <td>33.77</td>\n",
              "      <td>1</td>\n",
              "      <td>no</td>\n",
              "      <td>southeast</td>\n",
              "      <td>1725.5523</td>\n",
              "    </tr>\n",
              "    <tr>\n",
              "      <th>2</th>\n",
              "      <td>28</td>\n",
              "      <td>male</td>\n",
              "      <td>33.00</td>\n",
              "      <td>3</td>\n",
              "      <td>no</td>\n",
              "      <td>southeast</td>\n",
              "      <td>4449.4620</td>\n",
              "    </tr>\n",
              "  </tbody>\n",
              "</table>\n",
              "</div>"
            ],
            "text/plain": [
              "   age     sex    bmi  children smoker     region    expenses\n",
              "0   19  female  27.90         0    yes  southwest  16884.9240\n",
              "1   18    male  33.77         1     no  southeast   1725.5523\n",
              "2   28    male  33.00         3     no  southeast   4449.4620"
            ]
          },
          "metadata": {
            "tags": []
          },
          "execution_count": 3
        }
      ]
    },
    {
      "cell_type": "markdown",
      "metadata": {
        "id": "OvjIkkplNsbb"
      },
      "source": [
        "# **I. 탐색적 데이터 분석**"
      ]
    },
    {
      "cell_type": "markdown",
      "metadata": {
        "id": "BqBx-HXoN17L"
      },
      "source": [
        "- 시각화 패키지"
      ]
    },
    {
      "cell_type": "code",
      "metadata": {
        "id": "1Hy3QNNNOAPf"
      },
      "source": [
        "import matplotlib.pyplot as plt\n",
        "import seaborn as sns"
      ],
      "execution_count": 4,
      "outputs": []
    },
    {
      "cell_type": "markdown",
      "metadata": {
        "id": "P8CAzBuhOE19"
      },
      "source": [
        "## **1) 전체 의료비 분포**"
      ]
    },
    {
      "cell_type": "code",
      "metadata": {
        "colab": {
          "base_uri": "https://localhost:8080/",
          "height": 399
        },
        "id": "RYonHkC5Obyr",
        "outputId": "ae31cd5e-b83e-4625-ce4a-086e200d788c"
      },
      "source": [
        "plt.figure(figsize=(9, 6))\n",
        "sns.distplot(DF.expenses,\n",
        "             hist=True,\n",
        "             kde=True)\n",
        "plt.show()"
      ],
      "execution_count": 5,
      "outputs": [
        {
          "output_type": "display_data",
          "data": {
            "image/png": "[encoded data removed]",
            "text/plain": [
              "<Figure size 648x432 with 1 Axes>"
            ]
          },
          "metadata": {
            "tags": [],
            "needs_background": "light"
          }
        }
      ]
    },
    {
      "cell_type": "code",
      "metadata": {
        "colab": {
          "base_uri": "https://localhost:8080/",
          "height": 361
        },
        "id": "Ih4e_wKdOkvq",
        "outputId": "0ae91cb4-41f5-435a-d357-931b89ce9ae6"
      },
      "source": [
        "plt.figure(figsize=(9, 6))\n",
        "sns.boxplot(y='expenses', data=DF)\n",
        "plt.show()"
      ],
      "execution_count": 6,
      "outputs": [
        {
          "output_type": "display_data",
          "data": {
            "image/png": "[encoded data removed]",
            "text/plain": [
              "<Figure size 648x432 with 1 Axes>"
            ]
          },
          "metadata": {
            "tags": [],
            "needs_background": "light"
          }
        }
      ]
    },
    {
      "cell_type": "markdown",
      "metadata": {
        "id": "L-5scJLEPitQ"
      },
      "source": [
        "> ## **2) 성별별 의료비 분포**"
      ]
    },
    {
      "cell_type": "code",
      "metadata": {
        "colab": {
          "base_uri": "https://localhost:8080/",
          "height": 388
        },
        "id": "hcY01yp4PpYa",
        "outputId": "947a990e-26ff-4e60-89be-979f599d118f"
      },
      "source": [
        "plt.figure(figsize=(9, 6))\n",
        "sns.boxplot(x='sex', y='expenses', data=DF)\n",
        "plt.show()"
      ],
      "execution_count": 7,
      "outputs": [
        {
          "output_type": "display_data",
          "data": {
            "image/png": "[encoded data removed]",
            "text/plain": [
              "<Figure size 648x432 with 1 Axes>"
            ]
          },
          "metadata": {
            "tags": [],
            "needs_background": "light"
          }
        }
      ]
    },
    {
      "cell_type": "code",
      "metadata": {
        "colab": {
          "base_uri": "https://localhost:8080/"
        },
        "id": "nO7TSXSsPww8",
        "outputId": "58c7923d-d825-4bd0-e85a-0386a0b63eac"
      },
      "source": [
        "DF.sex.value_counts()"
      ],
      "execution_count": 8,
      "outputs": [
        {
          "output_type": "execute_result",
          "data": {
            "text/plain": [
              "male      676\n",
              "female    662\n",
              "Name: sex, dtype: int64"
            ]
          },
          "metadata": {
            "tags": []
          },
          "execution_count": 8
        }
      ]
    },
    {
      "cell_type": "markdown",
      "metadata": {
        "id": "YrQ4Oku6P19H"
      },
      "source": [
        "> ## **3) 자녀 수별 의료비 분포**"
      ]
    },
    {
      "cell_type": "code",
      "metadata": {
        "colab": {
          "base_uri": "https://localhost:8080/",
          "height": 388
        },
        "id": "0OdJdOG_P6UM",
        "outputId": "90696404-ff93-4c91-eaf3-b34d83590cb3"
      },
      "source": [
        "plt.figure(figsize=(9, 6))\n",
        "sns.boxplot(x='children', y='expenses', data=DF)\n",
        "plt.show()"
      ],
      "execution_count": 9,
      "outputs": [
        {
          "output_type": "display_data",
          "data": {
            "image/png": "[encoded data removed]",
            "text/plain": [
              "<Figure size 648x432 with 1 Axes>"
            ]
          },
          "metadata": {
            "tags": [],
            "needs_background": "light"
          }
        }
      ]
    },
    {
      "cell_type": "code",
      "metadata": {
        "colab": {
          "base_uri": "https://localhost:8080/"
        },
        "id": "EFhHsZgNQDrb",
        "outputId": "c0d6184c-b491-4203-d2c1-0e504125631c"
      },
      "source": [
        "DF.children.value_counts()"
      ],
      "execution_count": 10,
      "outputs": [
        {
          "output_type": "execute_result",
          "data": {
            "text/plain": [
              "0    574\n",
              "1    324\n",
              "2    240\n",
              "3    157\n",
              "4     25\n",
              "5     18\n",
              "Name: children, dtype: int64"
            ]
          },
          "metadata": {
            "tags": []
          },
          "execution_count": 10
        }
      ]
    },
    {
      "cell_type": "markdown",
      "metadata": {
        "id": "7KT09qgPQIMi"
      },
      "source": [
        "> ## **4) 흡연 여부별 의료비 분포**"
      ]
    },
    {
      "cell_type": "code",
      "metadata": {
        "colab": {
          "base_uri": "https://localhost:8080/",
          "height": 388
        },
        "id": "uBOjTU6_QL-F",
        "outputId": "c6aaf7ea-f4ad-4e9e-fc65-619fa0af607d"
      },
      "source": [
        "plt.figure(figsize=(9, 6))\n",
        "sns.boxplot(x='smoker', y='expenses', data=DF)\n",
        "plt.show()"
      ],
      "execution_count": 11,
      "outputs": [
        {
          "output_type": "display_data",
          "data": {
            "image/png": "[encoded data removed]",
            "text/plain": [
              "<Figure size 648x432 with 1 Axes>"
            ]
          },
          "metadata": {
            "tags": [],
            "needs_background": "light"
          }
        }
      ]
    },
    {
      "cell_type": "code",
      "metadata": {
        "colab": {
          "base_uri": "https://localhost:8080/"
        },
        "id": "RIFYFOqKQZad",
        "outputId": "cbf97693-02f2-4c4f-e3c3-0c1cff5db3da"
      },
      "source": [
        "DF.smoker.value_counts()"
      ],
      "execution_count": 12,
      "outputs": [
        {
          "output_type": "execute_result",
          "data": {
            "text/plain": [
              "no     1064\n",
              "yes     274\n",
              "Name: smoker, dtype: int64"
            ]
          },
          "metadata": {
            "tags": []
          },
          "execution_count": 12
        }
      ]
    },
    {
      "cell_type": "markdown",
      "metadata": {
        "id": "PV1ztY5TQdbE"
      },
      "source": [
        "> ## **5) 거주 지역별 의료비 분포**"
      ]
    },
    {
      "cell_type": "code",
      "metadata": {
        "colab": {
          "base_uri": "https://localhost:8080/",
          "height": 388
        },
        "id": "jcHxGKoRQh2G",
        "outputId": "dc4e6a93-0d74-4c6f-bdb2-f9271a15a2c2"
      },
      "source": [
        "plt.figure(figsize=(9, 6))\n",
        "sns.boxplot(x='region', y='expenses', data=DF)\n",
        "plt.show()"
      ],
      "execution_count": 13,
      "outputs": [
        {
          "output_type": "display_data",
          "data": {
            "image/png": "[encoded data removed]",
            "text/plain": [
              "<Figure size 648x432 with 1 Axes>"
            ]
          },
          "metadata": {
            "tags": [],
            "needs_background": "light"
          }
        }
      ]
    },
    {
      "cell_type": "code",
      "metadata": {
        "colab": {
          "base_uri": "https://localhost:8080/"
        },
        "id": "o0gyDdK1Qqn_",
        "outputId": "1dcdab73-e0cb-4bdd-f2f8-db3ea0130fb2"
      },
      "source": [
        "DF.region.value_counts()"
      ],
      "execution_count": 14,
      "outputs": [
        {
          "output_type": "execute_result",
          "data": {
            "text/plain": [
              "southeast    364\n",
              "northwest    325\n",
              "southwest    325\n",
              "northeast    324\n",
              "Name: region, dtype: int64"
            ]
          },
          "metadata": {
            "tags": []
          },
          "execution_count": 14
        }
      ]
    },
    {
      "cell_type": "markdown",
      "metadata": {
        "id": "YLLW-hgxQubU"
      },
      "source": [
        "> ## **6) BMI 분포 및 의료비와의 관계**"
      ]
    },
    {
      "cell_type": "markdown",
      "metadata": {
        "id": "QUE7rTe8QzWt"
      },
      "source": [
        "- BMI 분포"
      ]
    },
    {
      "cell_type": "code",
      "metadata": {
        "colab": {
          "base_uri": "https://localhost:8080/",
          "height": 388
        },
        "id": "kH_k1wwmQ1m0",
        "outputId": "3b9f04c2-1fa3-4088-b836-4175e6cccdb0"
      },
      "source": [
        "plt. figure(figsize=(9, 6))\n",
        "sns.distplot(DF.bmi,\n",
        "            hist=True,\n",
        "            kde=True)\n",
        "plt.show()"
      ],
      "execution_count": 15,
      "outputs": [
        {
          "output_type": "display_data",
          "data": {
            "image/png": "[encoded data removed]",
            "text/plain": [
              "<Figure size 648x432 with 1 Axes>"
            ]
          },
          "metadata": {
            "tags": [],
            "needs_background": "light"
          }
        }
      ]
    },
    {
      "cell_type": "markdown",
      "metadata": {
        "id": "7QrR3B_iQ9g2"
      },
      "source": [
        "- BMI와 의료비 간의 관계"
      ]
    },
    {
      "cell_type": "code",
      "metadata": {
        "colab": {
          "base_uri": "https://localhost:8080/",
          "height": 388
        },
        "id": "REaQrtNmRG38",
        "outputId": "0b3a63c1-8a75-4a4d-85b1-aa5f1480424b"
      },
      "source": [
        "plt.figure(figsize=(9, 6))\n",
        "sns.scatterplot(x=DF.bmi, y=DF.expenses)\n",
        "plt.show()"
      ],
      "execution_count": 16,
      "outputs": [
        {
          "output_type": "display_data",
          "data": {
            "image/png": "[encoded data removed]",
            "text/plain": [
              "<Figure size 648x432 with 1 Axes>"
            ]
          },
          "metadata": {
            "tags": [],
            "needs_background": "light"
          }
        }
      ]
    },
    {
      "cell_type": "markdown",
      "metadata": {
        "id": "WZLO0NnpRcJZ"
      },
      "source": [
        "# **II. Modelng - <span style=\"color:red\">sklearn Package</span>**"
      ]
    },
    {
      "cell_type": "markdown",
      "metadata": {
        "id": "sdppPCOCRqYM"
      },
      "source": [
        "> ## **1) Integer Encoding**"
      ]
    },
    {
      "cell_type": "markdown",
      "metadata": {
        "id": "v4jhBqCHSZ5k"
      },
      "source": [
        "- object to int64"
      ]
    },
    {
      "cell_type": "code",
      "metadata": {
        "colab": {
          "base_uri": "https://localhost:8080/"
        },
        "id": "gNdZQ-OxScU6",
        "outputId": "3c33c01e-b038-47d2-81e7-0c36e63a7d6c"
      },
      "source": [
        "DF.info()"
      ],
      "execution_count": 17,
      "outputs": [
        {
          "output_type": "stream",
          "text": [
            "<class 'pandas.core.frame.DataFrame'>\n",
            "RangeIndex: 1338 entries, 0 to 1337\n",
            "Data columns (total 7 columns):\n",
            " #   Column    Non-Null Count  Dtype  \n",
            "---  ------    --------------  -----  \n",
            " 0   age       1338 non-null   int64  \n",
            " 1   sex       1338 non-null   object \n",
            " 2   bmi       1338 non-null   float64\n",
            " 3   children  1338 non-null   int64  \n",
            " 4   smoker    1338 non-null   object \n",
            " 5   region    1338 non-null   object \n",
            " 6   expenses  1338 non-null   float64\n",
            "dtypes: float64(2), int64(2), object(3)\n",
            "memory usage: 73.3+ KB\n"
          ],
          "name": "stdout"
        }
      ]
    },
    {
      "cell_type": "markdown",
      "metadata": {
        "id": "QEYmMniJSfRa"
      },
      "source": [
        "- LabelEncoder()\n",
        "  - 'sex', 'smoker', 'region' to int64"
      ]
    },
    {
      "cell_type": "code",
      "metadata": {
        "id": "AQfXxITASyh0"
      },
      "source": [
        "from sklearn.preprocessing import LabelEncoder\n",
        "\n",
        "encoder1 = LabelEncoder()\n",
        "DF['sex'] = encoder1.fit_transform(DF.sex)"
      ],
      "execution_count": 18,
      "outputs": []
    },
    {
      "cell_type": "code",
      "metadata": {
        "id": "XhrzojvxTFy2"
      },
      "source": [
        "encoder2 = LabelEncoder()\n",
        "DF['smoker'] = encoder1.fit_transform(DF.smoker)"
      ],
      "execution_count": 19,
      "outputs": []
    },
    {
      "cell_type": "code",
      "metadata": {
        "id": "9ntyBfJgTPfF"
      },
      "source": [
        "encoder3 = LabelEncoder()\n",
        "DF['region'] = encoder1.fit_transform(DF.region)"
      ],
      "execution_count": 20,
      "outputs": []
    },
    {
      "cell_type": "markdown",
      "metadata": {
        "id": "2QSG0JN4TSSn"
      },
      "source": [
        "- Encoding 결과 확인"
      ]
    },
    {
      "cell_type": "code",
      "metadata": {
        "colab": {
          "base_uri": "https://localhost:8080/"
        },
        "id": "lDxCqJ5ATVLT",
        "outputId": "ad9a4504-1c72-4481-d8a8-6aac61a60830"
      },
      "source": [
        "DF.info()"
      ],
      "execution_count": 21,
      "outputs": [
        {
          "output_type": "stream",
          "text": [
            "<class 'pandas.core.frame.DataFrame'>\n",
            "RangeIndex: 1338 entries, 0 to 1337\n",
            "Data columns (total 7 columns):\n",
            " #   Column    Non-Null Count  Dtype  \n",
            "---  ------    --------------  -----  \n",
            " 0   age       1338 non-null   int64  \n",
            " 1   sex       1338 non-null   int64  \n",
            " 2   bmi       1338 non-null   float64\n",
            " 3   children  1338 non-null   int64  \n",
            " 4   smoker    1338 non-null   int64  \n",
            " 5   region    1338 non-null   int64  \n",
            " 6   expenses  1338 non-null   float64\n",
            "dtypes: float64(2), int64(5)\n",
            "memory usage: 73.3 KB\n"
          ],
          "name": "stdout"
        }
      ]
    },
    {
      "cell_type": "markdown",
      "metadata": {
        "id": "EayiVTjkTXQv"
      },
      "source": [
        "- 변경된 값 확인"
      ]
    },
    {
      "cell_type": "code",
      "metadata": {
        "colab": {
          "base_uri": "https://localhost:8080/",
          "height": 204
        },
        "id": "AvUg4RFLTcF3",
        "outputId": "99937bb8-f65a-4ec4-a42c-fedc296a1e6f"
      },
      "source": [
        "DF.head()"
      ],
      "execution_count": 22,
      "outputs": [
        {
          "output_type": "execute_result",
          "data": {
            "text/html": [
              "<div>\n",
              "<style scoped>\n",
              "    .dataframe tbody tr th:only-of-type {\n",
              "        vertical-align: middle;\n",
              "    }\n",
              "\n",
              "    .dataframe tbody tr th {\n",
              "        vertical-align: top;\n",
              "    }\n",
              "\n",
              "    .dataframe thead th {\n",
              "        text-align: right;\n",
              "    }\n",
              "</style>\n",
              "<table border=\"1\" class=\"dataframe\">\n",
              "  <thead>\n",
              "    <tr style=\"text-align: right;\">\n",
              "      <th></th>\n",
              "      <th>age</th>\n",
              "      <th>sex</th>\n",
              "      <th>bmi</th>\n",
              "      <th>children</th>\n",
              "      <th>smoker</th>\n",
              "      <th>region</th>\n",
              "      <th>expenses</th>\n",
              "    </tr>\n",
              "  </thead>\n",
              "  <tbody>\n",
              "    <tr>\n",
              "      <th>0</th>\n",
              "      <td>19</td>\n",
              "      <td>0</td>\n",
              "      <td>27.900</td>\n",
              "      <td>0</td>\n",
              "      <td>1</td>\n",
              "      <td>3</td>\n",
              "      <td>16884.92400</td>\n",
              "    </tr>\n",
              "    <tr>\n",
              "      <th>1</th>\n",
              "      <td>18</td>\n",
              "      <td>1</td>\n",
              "      <td>33.770</td>\n",
              "      <td>1</td>\n",
              "      <td>0</td>\n",
              "      <td>2</td>\n",
              "      <td>1725.55230</td>\n",
              "    </tr>\n",
              "    <tr>\n",
              "      <th>2</th>\n",
              "      <td>28</td>\n",
              "      <td>1</td>\n",
              "      <td>33.000</td>\n",
              "      <td>3</td>\n",
              "      <td>0</td>\n",
              "      <td>2</td>\n",
              "      <td>4449.46200</td>\n",
              "    </tr>\n",
              "    <tr>\n",
              "      <th>3</th>\n",
              "      <td>33</td>\n",
              "      <td>1</td>\n",
              "      <td>22.705</td>\n",
              "      <td>0</td>\n",
              "      <td>0</td>\n",
              "      <td>1</td>\n",
              "      <td>21984.47061</td>\n",
              "    </tr>\n",
              "    <tr>\n",
              "      <th>4</th>\n",
              "      <td>32</td>\n",
              "      <td>1</td>\n",
              "      <td>28.880</td>\n",
              "      <td>0</td>\n",
              "      <td>0</td>\n",
              "      <td>1</td>\n",
              "      <td>3866.85520</td>\n",
              "    </tr>\n",
              "  </tbody>\n",
              "</table>\n",
              "</div>"
            ],
            "text/plain": [
              "   age  sex     bmi  children  smoker  region     expenses\n",
              "0   19    0  27.900         0       1       3  16884.92400\n",
              "1   18    1  33.770         1       0       2   1725.55230\n",
              "2   28    1  33.000         3       0       2   4449.46200\n",
              "3   33    1  22.705         0       0       1  21984.47061\n",
              "4   32    1  28.880         0       0       1   3866.85520"
            ]
          },
          "metadata": {
            "tags": []
          },
          "execution_count": 22
        }
      ]
    },
    {
      "cell_type": "markdown",
      "metadata": {
        "id": "_ji4miShThf9"
      },
      "source": [
        "> ## **2) Train & Test Array Split(7:3)**"
      ]
    },
    {
      "cell_type": "code",
      "metadata": {
        "colab": {
          "base_uri": "https://localhost:8080/"
        },
        "id": "wobjJB6WTyeN",
        "outputId": "1af8c8d0-24cf-436c-a453-56fbffa4bd69"
      },
      "source": [
        "from sklearn.model_selection import train_test_split\n",
        "\n",
        "X = DF[['age', 'sex']]\n",
        "y = DF['expenses']\n",
        "\n",
        "X_train, X_test, y_train, y_test = train_test_split(X, y, test_size=0.3, random_state=2045)\n",
        "\n",
        "print('Train Data :', X_train.shape, y_train.shape)\n",
        "print('Test Data :', X_test.shape, y_test.shape)"
      ],
      "execution_count": 23,
      "outputs": [
        {
          "output_type": "stream",
          "text": [
            "Train Data : (936, 2) (936,)\n",
            "Test Data : (402, 2) (402,)\n"
          ],
          "name": "stdout"
        }
      ]
    },
    {
      "cell_type": "markdown",
      "metadata": {
        "id": "DlQ6fjmIUM2T"
      },
      "source": [
        "> ## **3) .fit()**"
      ]
    },
    {
      "cell_type": "code",
      "metadata": {
        "colab": {
          "base_uri": "https://localhost:8080/"
        },
        "id": "TdAuUst3UV_d",
        "outputId": "a4561201-d819-491c-9c24-d1ea1f2f5d60"
      },
      "source": [
        "from sklearn.linear_model import LinearRegression\n",
        "RA = LinearRegression()\n",
        "RA.fit(X_train, y_train)"
      ],
      "execution_count": 24,
      "outputs": [
        {
          "output_type": "execute_result",
          "data": {
            "text/plain": [
              "LinearRegression(copy_X=True, fit_intercept=True, n_jobs=None, normalize=False)"
            ]
          },
          "metadata": {
            "tags": []
          },
          "execution_count": 24
        }
      ]
    },
    {
      "cell_type": "markdown",
      "metadata": {
        "id": "36jAh3tzUeL4"
      },
      "source": [
        "> ## **4) .predict()**"
      ]
    },
    {
      "cell_type": "code",
      "metadata": {
        "id": "4r_tYv2pUiEw"
      },
      "source": [
        "y_hat = RA.predict(X_test)"
      ],
      "execution_count": 25,
      "outputs": []
    },
    {
      "cell_type": "markdown",
      "metadata": {
        "id": "D5gNdEHyUkWb"
      },
      "source": [
        "> # **5) 오차(Error)값 확인**"
      ]
    },
    {
      "cell_type": "markdown",
      "metadata": {
        "id": "jtfiC6flUuiA"
      },
      "source": [
        "- Mean Squared Error - sklearn"
      ]
    },
    {
      "cell_type": "code",
      "metadata": {
        "colab": {
          "base_uri": "https://localhost:8080/"
        },
        "id": "6HDYH6ZpUy6V",
        "outputId": "e6282dc3-ba0a-40f3-e5ce-264b6e9c511d"
      },
      "source": [
        "from sklearn.metrics import mean_squared_error\n",
        "import numpy as np\n",
        "\n",
        "mse1 = mean_squared_error(y_test, y_hat)\n",
        "\n",
        "np.sqrt(mse1)"
      ],
      "execution_count": 26,
      "outputs": [
        {
          "output_type": "execute_result",
          "data": {
            "text/plain": [
              "10633.607635499553"
            ]
          },
          "metadata": {
            "tags": []
          },
          "execution_count": 26
        }
      ]
    },
    {
      "cell_type": "markdown",
      "metadata": {
        "id": "KobNnyFAVCn8"
      },
      "source": [
        "# **III. Modeling - <span style=\"color:blue\">statsmodels Package</span>**"
      ]
    },
    {
      "cell_type": "code",
      "metadata": {
        "colab": {
          "base_uri": "https://localhost:8080/"
        },
        "id": "MWLFeSQhVLHv",
        "outputId": "1c88a9ee-b2db-4c08-f32d-7441a8161b8e"
      },
      "source": [
        "import pandas as pd\n",
        "\n",
        "url = 'https://raw.githubusercontent.com/rusita-ai/pyData/master/Insurance.csv'\n",
        "DF = pd.read_csv(url)\n",
        "\n",
        "DF.info()"
      ],
      "execution_count": 27,
      "outputs": [
        {
          "output_type": "stream",
          "text": [
            "<class 'pandas.core.frame.DataFrame'>\n",
            "RangeIndex: 1338 entries, 0 to 1337\n",
            "Data columns (total 7 columns):\n",
            " #   Column    Non-Null Count  Dtype  \n",
            "---  ------    --------------  -----  \n",
            " 0   age       1338 non-null   int64  \n",
            " 1   sex       1338 non-null   object \n",
            " 2   bmi       1338 non-null   float64\n",
            " 3   children  1338 non-null   int64  \n",
            " 4   smoker    1338 non-null   object \n",
            " 5   region    1338 non-null   object \n",
            " 6   expenses  1338 non-null   float64\n",
            "dtypes: float64(2), int64(2), object(3)\n",
            "memory usage: 73.3+ KB\n"
          ],
          "name": "stdout"
        }
      ]
    },
    {
      "cell_type": "markdown",
      "metadata": {
        "id": "6i0i9D5gVRR6"
      },
      "source": [
        "> ## **1) Data Preprocessing**"
      ]
    },
    {
      "cell_type": "markdown",
      "metadata": {
        "id": "EI3TdEQJVYYv"
      },
      "source": [
        "- Train & Test DataFrame Split(7:3)"
      ]
    },
    {
      "cell_type": "code",
      "metadata": {
        "colab": {
          "base_uri": "https://localhost:8080/"
        },
        "id": "317reQcvVcC4",
        "outputId": "e9b64934-e9ca-451e-8c49-0f6ab5d93de6"
      },
      "source": [
        "from sklearn.model_selection import train_test_split\n",
        "\n",
        "train_set, test_set = train_test_split(DF, test_size=0.3, random_state = 2045)\n",
        "\n",
        "train_set.shape, test_set.shape"
      ],
      "execution_count": 28,
      "outputs": [
        {
          "output_type": "execute_result",
          "data": {
            "text/plain": [
              "((936, 7), (402, 7))"
            ]
          },
          "metadata": {
            "tags": []
          },
          "execution_count": 28
        }
      ]
    },
    {
      "cell_type": "code",
      "metadata": {
        "colab": {
          "base_uri": "https://localhost:8080/"
        },
        "id": "2wW4TWpwVmsw",
        "outputId": "cebc450c-f418-4de0-eb1a-c93f26e4f41b"
      },
      "source": [
        "train_set.info()"
      ],
      "execution_count": 29,
      "outputs": [
        {
          "output_type": "stream",
          "text": [
            "<class 'pandas.core.frame.DataFrame'>\n",
            "Int64Index: 936 entries, 8 to 887\n",
            "Data columns (total 7 columns):\n",
            " #   Column    Non-Null Count  Dtype  \n",
            "---  ------    --------------  -----  \n",
            " 0   age       936 non-null    int64  \n",
            " 1   sex       936 non-null    object \n",
            " 2   bmi       936 non-null    float64\n",
            " 3   children  936 non-null    int64  \n",
            " 4   smoker    936 non-null    object \n",
            " 5   region    936 non-null    object \n",
            " 6   expenses  936 non-null    float64\n",
            "dtypes: float64(2), int64(2), object(3)\n",
            "memory usage: 58.5+ KB\n"
          ],
          "name": "stdout"
        }
      ]
    },
    {
      "cell_type": "markdown",
      "metadata": {
        "id": "5KA5HYINVrh5"
      },
      "source": [
        "> ## **2) expenses ~ age + sex**"
      ]
    },
    {
      "cell_type": "markdown",
      "metadata": {
        "id": "TTtImjf5Vw_I"
      },
      "source": [
        "- train_set으로 모델 생성\n",
        "- OLS(최소제곱법) : Ordinary Least Squares"
      ]
    },
    {
      "cell_type": "code",
      "metadata": {
        "id": "eqQOELfiV4hm"
      },
      "source": [
        "import statsmodels.formula.api as smf\n",
        "\n",
        "Model_1 = smf.ols(formula='expenses ~ age + sex',\n",
        "                  data=train_set).fit()"
      ],
      "execution_count": 30,
      "outputs": []
    },
    {
      "cell_type": "markdown",
      "metadata": {
        "id": "NmFBDrGQWH_t"
      },
      "source": [
        "> ## **3) y_hat 생성**"
      ]
    },
    {
      "cell_type": "markdown",
      "metadata": {
        "id": "qM-L8tbjWOAW"
      },
      "source": [
        "- test_set으로 y_hat(예측값) 생성"
      ]
    },
    {
      "cell_type": "code",
      "metadata": {
        "id": "N_5Vu-hpWR_i"
      },
      "source": [
        "y_hat_1 = Model_1.predict(test_set[['age', 'sex']])"
      ],
      "execution_count": 31,
      "outputs": []
    },
    {
      "cell_type": "markdown",
      "metadata": {
        "id": "0JWdoeI4WYQm"
      },
      "source": [
        "> ## **4) 오차(Error)값 확인**"
      ]
    },
    {
      "cell_type": "markdown",
      "metadata": {
        "id": "JoZBn1AnWhFl"
      },
      "source": [
        "- Mean Squared Error - sklearn"
      ]
    },
    {
      "cell_type": "code",
      "metadata": {
        "colab": {
          "base_uri": "https://localhost:8080/"
        },
        "id": "7-nsMqE1WnIE",
        "outputId": "f2e5529d-4392-4e7a-9eb1-bbc4658127ca"
      },
      "source": [
        "mse2 = mean_squared_error(test_set.expenses, y_hat_1)\n",
        "\n",
        "np.sqrt(mse2)"
      ],
      "execution_count": 32,
      "outputs": [
        {
          "output_type": "execute_result",
          "data": {
            "text/plain": [
              "10633.607635499557"
            ]
          },
          "metadata": {
            "tags": []
          },
          "execution_count": 32
        }
      ]
    },
    {
      "cell_type": "markdown",
      "metadata": {
        "id": "QQHCU20AWv-O"
      },
      "source": [
        "# **IV. Package별 오차값 비교**"
      ]
    },
    {
      "cell_type": "code",
      "metadata": {
        "colab": {
          "base_uri": "https://localhost:8080/"
        },
        "id": "RY8hxOasW1BD",
        "outputId": "bba228c9-64a3-46e2-860b-5b509495ba8b"
      },
      "source": [
        "print('sklearn     :', np.sqrt(mse1))\n",
        "print('statsmodels :', np.sqrt(mse2))"
      ],
      "execution_count": 33,
      "outputs": [
        {
          "output_type": "stream",
          "text": [
            "sklearn     : 10633.607635499553\n",
            "statsmodels : 10633.607635499557\n"
          ],
          "name": "stdout"
        }
      ]
    },
    {
      "cell_type": "code",
      "metadata": {
        "id": "dMri-K9XW-mh"
      },
      "source": [
        ""
      ],
      "execution_count": 33,
      "outputs": []
    }
  ]
}