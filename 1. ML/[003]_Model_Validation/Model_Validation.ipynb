{
  "nbformat": 4,
  "nbformat_minor": 0,
  "metadata": {
    "colab": {
      "name": "Model_Validation.ipynb",
      "provenance": [],
      "collapsed_sections": [],
      "toc_visible": true
    },
    "kernelspec": {
      "name": "python3",
      "display_name": "Python 3"
    },
    "language_info": {
      "name": "python"
    }
  },
  "cells": [
    {
      "cell_type": "markdown",
      "metadata": {
        "id": "1KUDEJ64qTre"
      },
      "source": [
        "# **Model Validation**"
      ]
    },
    {
      "cell_type": "code",
      "metadata": {
        "id": "Ld5Q_AHDqX39"
      },
      "source": [
        "import warnings\n",
        "warnings.filterwarnings('ignore')"
      ],
      "execution_count": 1,
      "outputs": []
    },
    {
      "cell_type": "markdown",
      "metadata": {
        "id": "V49mJWxoqla5"
      },
      "source": [
        "# **I. Model Capacity**"
      ]
    },
    {
      "cell_type": "markdown",
      "metadata": {
        "id": "IaogDlXEqwKU"
      },
      "source": [
        "- import Packages"
      ]
    },
    {
      "cell_type": "code",
      "metadata": {
        "id": "P3D1NnQ_qk0I"
      },
      "source": [
        "import pandas as pd\n",
        "import matplotlib.pyplot as plt\n",
        "import seaborn as sns"
      ],
      "execution_count": 2,
      "outputs": []
    },
    {
      "cell_type": "markdown",
      "metadata": {
        "id": "VSGZ0FY_q57o"
      },
      "source": [
        "- pandas DataFrame\n",
        "  - 'Electric.csv' from GitHub"
      ]
    },
    {
      "cell_type": "code",
      "metadata": {
        "colab": {
          "base_uri": "https://localhost:8080/"
        },
        "id": "iSH0aV9Wq2XR",
        "outputId": "057b3ca7-399f-4310-d517-a70246fa2e32"
      },
      "source": [
        "url = 'https://raw.githubusercontent.com/rusita-ai/pyData/master/Electric.csv'\n",
        "\n",
        "Elec = pd.read_csv(url)\n",
        "\n",
        "Elec.info()"
      ],
      "execution_count": 3,
      "outputs": [
        {
          "output_type": "stream",
          "text": [
            "<class 'pandas.core.frame.DataFrame'>\n",
            "RangeIndex: 768 entries, 0 to 767\n",
            "Data columns (total 9 columns):\n",
            " #   Column                     Non-Null Count  Dtype  \n",
            "---  ------                     --------------  -----  \n",
            " 0   compactness                768 non-null    float64\n",
            " 1   surface_area               768 non-null    float64\n",
            " 2   wall_area                  768 non-null    float64\n",
            " 3   roof_area                  768 non-null    float64\n",
            " 4   height                     768 non-null    float64\n",
            " 5   orientation                768 non-null    int64  \n",
            " 6   glazing_area               768 non-null    float64\n",
            " 7   glazing_area_distribution  768 non-null    int64  \n",
            " 8   electricity                768 non-null    float64\n",
            "dtypes: float64(7), int64(2)\n",
            "memory usage: 54.1 KB\n"
          ],
          "name": "stdout"
        }
      ]
    },
    {
      "cell_type": "code",
      "metadata": {
        "colab": {
          "base_uri": "https://localhost:8080/",
          "height": 204
        },
        "id": "2E3OahxerH1N",
        "outputId": "bcc15272-5be5-4dd3-8038-301bbb2548ff"
      },
      "source": [
        "Elec.head()"
      ],
      "execution_count": 4,
      "outputs": [
        {
          "output_type": "execute_result",
          "data": {
            "text/html": [
              "<div>\n",
              "<style scoped>\n",
              "    .dataframe tbody tr th:only-of-type {\n",
              "        vertical-align: middle;\n",
              "    }\n",
              "\n",
              "    .dataframe tbody tr th {\n",
              "        vertical-align: top;\n",
              "    }\n",
              "\n",
              "    .dataframe thead th {\n",
              "        text-align: right;\n",
              "    }\n",
              "</style>\n",
              "<table border=\"1\" class=\"dataframe\">\n",
              "  <thead>\n",
              "    <tr style=\"text-align: right;\">\n",
              "      <th></th>\n",
              "      <th>compactness</th>\n",
              "      <th>surface_area</th>\n",
              "      <th>wall_area</th>\n",
              "      <th>roof_area</th>\n",
              "      <th>height</th>\n",
              "      <th>orientation</th>\n",
              "      <th>glazing_area</th>\n",
              "      <th>glazing_area_distribution</th>\n",
              "      <th>electricity</th>\n",
              "    </tr>\n",
              "  </thead>\n",
              "  <tbody>\n",
              "    <tr>\n",
              "      <th>0</th>\n",
              "      <td>0.98</td>\n",
              "      <td>514.5</td>\n",
              "      <td>294.0</td>\n",
              "      <td>110.25</td>\n",
              "      <td>7.0</td>\n",
              "      <td>2</td>\n",
              "      <td>0.0</td>\n",
              "      <td>0</td>\n",
              "      <td>155.5</td>\n",
              "    </tr>\n",
              "    <tr>\n",
              "      <th>1</th>\n",
              "      <td>0.98</td>\n",
              "      <td>514.5</td>\n",
              "      <td>294.0</td>\n",
              "      <td>110.25</td>\n",
              "      <td>7.0</td>\n",
              "      <td>3</td>\n",
              "      <td>0.0</td>\n",
              "      <td>0</td>\n",
              "      <td>155.5</td>\n",
              "    </tr>\n",
              "    <tr>\n",
              "      <th>2</th>\n",
              "      <td>0.98</td>\n",
              "      <td>514.5</td>\n",
              "      <td>294.0</td>\n",
              "      <td>110.25</td>\n",
              "      <td>7.0</td>\n",
              "      <td>4</td>\n",
              "      <td>0.0</td>\n",
              "      <td>0</td>\n",
              "      <td>155.5</td>\n",
              "    </tr>\n",
              "    <tr>\n",
              "      <th>3</th>\n",
              "      <td>0.98</td>\n",
              "      <td>514.5</td>\n",
              "      <td>294.0</td>\n",
              "      <td>110.25</td>\n",
              "      <td>7.0</td>\n",
              "      <td>5</td>\n",
              "      <td>0.0</td>\n",
              "      <td>0</td>\n",
              "      <td>155.5</td>\n",
              "    </tr>\n",
              "    <tr>\n",
              "      <th>4</th>\n",
              "      <td>0.90</td>\n",
              "      <td>563.5</td>\n",
              "      <td>318.5</td>\n",
              "      <td>122.50</td>\n",
              "      <td>7.0</td>\n",
              "      <td>2</td>\n",
              "      <td>0.0</td>\n",
              "      <td>0</td>\n",
              "      <td>208.4</td>\n",
              "    </tr>\n",
              "  </tbody>\n",
              "</table>\n",
              "</div>"
            ],
            "text/plain": [
              "   compactness  surface_area  ...  glazing_area_distribution  electricity\n",
              "0         0.98         514.5  ...                          0        155.5\n",
              "1         0.98         514.5  ...                          0        155.5\n",
              "2         0.98         514.5  ...                          0        155.5\n",
              "3         0.98         514.5  ...                          0        155.5\n",
              "4         0.90         563.5  ...                          0        208.4\n",
              "\n",
              "[5 rows x 9 columns]"
            ]
          },
          "metadata": {
            "tags": []
          },
          "execution_count": 4
        }
      ]
    },
    {
      "cell_type": "markdown",
      "metadata": {
        "id": "_195OAjjrRrf"
      },
      "source": [
        "- 산점도(surface_area vs. electricity)"
      ]
    },
    {
      "cell_type": "code",
      "metadata": {
        "colab": {
          "base_uri": "https://localhost:8080/",
          "height": 280
        },
        "id": "zaFPRrI6rM9s",
        "outputId": "ada581bd-9b94-4f09-b9b4-fac48b38d30c"
      },
      "source": [
        "sns.scatterplot(Elec['surface_area'], Elec['electricity'])\n",
        "plt.show()"
      ],
      "execution_count": 5,
      "outputs": [
        {
          "output_type": "display_data",
          "data": {
            "image/png": "[encoded data removed]",
            "text/plain": [
              "<Figure size 432x288 with 1 Axes>"
            ]
          },
          "metadata": {
            "tags": [],
            "needs_background": "light"
          }
        }
      ]
    },
    {
      "cell_type": "markdown",
      "metadata": {
        "id": "9wCkqvRhrhR6"
      },
      "source": [
        "## **1) 1차 모델 시각화**"
      ]
    },
    {
      "cell_type": "code",
      "metadata": {
        "colab": {
          "base_uri": "https://localhost:8080/",
          "height": 280
        },
        "id": "d7HkNE6ArcMP",
        "outputId": "52c47001-961b-4af4-bb0a-6305302ffa60"
      },
      "source": [
        "sns.regplot(x='surface_area', y='electricity', data=Elec,\n",
        "           line_kws={'color':'red'},\n",
        "           scatter_kws={'edgecolor':'white'})\n",
        "plt.xlim(505, 820)\n",
        "plt.show()"
      ],
      "execution_count": 6,
      "outputs": [
        {
          "output_type": "display_data",
          "data": {
            "image/png": "[encoded data removed]",
            "text/plain": [
              "<Figure size 432x288 with 1 Axes>"
            ]
          },
          "metadata": {
            "tags": [],
            "needs_background": "light"
          }
        }
      ]
    },
    {
      "cell_type": "markdown",
      "metadata": {
        "id": "QRwZCMHor-aB"
      },
      "source": [
        "## **2) 2차 모델 시각화**"
      ]
    },
    {
      "cell_type": "code",
      "metadata": {
        "colab": {
          "base_uri": "https://localhost:8080/",
          "height": 280
        },
        "id": "Q_fHx7dSr1DT",
        "outputId": "73c370bc-6967-4c8b-8ac8-28bafb97c12a"
      },
      "source": [
        "sns.regplot(x='surface_area', y='electricity', data=Elec,\n",
        "           line_kws={'color':'blue'},\n",
        "           scatter_kws={'edgecolor':'white'},\n",
        "           order=2)\n",
        "plt.xlim(505, 820)\n",
        "plt.show()"
      ],
      "execution_count": 7,
      "outputs": [
        {
          "output_type": "display_data",
          "data": {
            "image/png": "[encoded data removed]",
            "text/plain": [
              "<Figure size 432x288 with 1 Axes>"
            ]
          },
          "metadata": {
            "tags": [],
            "needs_background": "light"
          }
        }
      ]
    },
    {
      "cell_type": "markdown",
      "metadata": {
        "id": "g2QZ1J9tsFT5"
      },
      "source": [
        "## **3) 5차 모델 시각화**"
      ]
    },
    {
      "cell_type": "code",
      "metadata": {
        "colab": {
          "base_uri": "https://localhost:8080/",
          "height": 280
        },
        "id": "Xpr6kNcdsGHy",
        "outputId": "9ddfd2e8-15e4-40cb-85ed-80038316439b"
      },
      "source": [
        "sns.regplot(x='surface_area', y='electricity', data=Elec,\n",
        "           line_kws={'color':'green'},\n",
        "           scatter_kws={'edgecolor':'white'},\n",
        "           order=5)\n",
        "plt.xlim(505, 820)\n",
        "plt.show()"
      ],
      "execution_count": 8,
      "outputs": [
        {
          "output_type": "display_data",
          "data": {
            "image/png": "[encoded data removed]",
            "text/plain": [
              "<Figure size 432x288 with 1 Axes>"
            ]
          },
          "metadata": {
            "tags": [],
            "needs_background": "light"
          }
        }
      ]
    },
    {
      "cell_type": "markdown",
      "metadata": {
        "id": "ZBWDweeWsGaF"
      },
      "source": [
        "## **4) 9차 모델 시각화**"
      ]
    },
    {
      "cell_type": "code",
      "metadata": {
        "colab": {
          "base_uri": "https://localhost:8080/",
          "height": 284
        },
        "id": "-Ikzlin6sG8_",
        "outputId": "a64e185d-837a-4c58-b8b5-81133be784d6"
      },
      "source": [
        "sns.regplot(x='surface_area', y='electricity', data=Elec,\n",
        "           line_kws={'color':'orange'},\n",
        "           scatter_kws={'edgecolor':'white'},\n",
        "           order=9)\n",
        "plt.xlim(505, 820)\n",
        "plt.ylim(50, 450)\n",
        "plt.show()"
      ],
      "execution_count": 9,
      "outputs": [
        {
          "output_type": "display_data",
          "data": {
            "image/png": "[encoded data removed]",
            "text/plain": [
              "<Figure size 432x288 with 1 Axes>"
            ]
          },
          "metadata": {
            "tags": [],
            "needs_background": "light"
          }
        }
      ]
    },
    {
      "cell_type": "markdown",
      "metadata": {
        "id": "c5jUaTj0srSW"
      },
      "source": [
        "## **5) 4개 모델 비교 시각화**"
      ]
    },
    {
      "cell_type": "code",
      "metadata": {
        "colab": {
          "base_uri": "https://localhost:8080/",
          "height": 293
        },
        "id": "QqfzpzjEsnjK",
        "outputId": "05f62e05-1490-48fb-93a3-149e605c724b"
      },
      "source": [
        "sns.regplot(x='surface_area', y='electricity', data=Elec,\n",
        "           line_kws={'color':'red'},\n",
        "           scatter_kws={'edgecolor':'white'})\n",
        "sns.regplot(x='surface_area', y='electricity', data=Elec,\n",
        "           line_kws={'color':'blue'},\n",
        "           scatter_kws={'edgecolor':'white'},\n",
        "           order=2)\n",
        "sns.regplot(x='surface_area', y='electricity', data=Elec,\n",
        "           line_kws={'color':'green'},\n",
        "           scatter_kws={'edgecolor':'white'},\n",
        "           order=5)\n",
        "sns.regplot(x='surface_area', y='electricity', data=Elec,\n",
        "           line_kws={'color':'orange'},\n",
        "           scatter_kws={'edgecolor':'white'},\n",
        "           order=9)\n",
        "plt.xlim(505, 820)\n",
        "plt.ylim(50, 450)\n",
        "plt.xticks(rotation=35)\n",
        "plt.yticks(rotation=90)\n",
        "plt.show()"
      ],
      "execution_count": 10,
      "outputs": [
        {
          "output_type": "display_data",
          "data": {
            "image/png": "[encoded data removed]",
            "text/plain": [
              "<Figure size 432x288 with 1 Axes>"
            ]
          },
          "metadata": {
            "tags": [],
            "needs_background": "light"
          }
        }
      ]
    },
    {
      "cell_type": "markdown",
      "metadata": {
        "id": "HGJ1fM7XtPCz"
      },
      "source": [
        "# **II. Training Error**"
      ]
    },
    {
      "cell_type": "markdown",
      "metadata": {
        "id": "H9PDZ8Oytg1h"
      },
      "source": [
        "- import Packages"
      ]
    },
    {
      "cell_type": "code",
      "metadata": {
        "id": "qGDUwU78tBbp"
      },
      "source": [
        "import pandas as pd\n",
        "import numpy as np\n",
        "import matplotlib.pyplot as plt\n",
        "import seaborn as sns"
      ],
      "execution_count": 11,
      "outputs": []
    },
    {
      "cell_type": "markdown",
      "metadata": {
        "id": "7Z6wJOG9tqsX"
      },
      "source": [
        "- pandas DataFrame\n",
        "  - 'Electric.csv' from GitHub"
      ]
    },
    {
      "cell_type": "code",
      "metadata": {
        "colab": {
          "base_uri": "https://localhost:8080/"
        },
        "id": "bJreBC6ItNFn",
        "outputId": "c031fe85-f211-4633-a04c-5037e05d1227"
      },
      "source": [
        "url = 'https://raw.githubusercontent.com/rusita-ai/pyData/master/Electric.csv'\n",
        "\n",
        "Elec = pd.read_csv(url)\n",
        "\n",
        "Elec.info()"
      ],
      "execution_count": 12,
      "outputs": [
        {
          "output_type": "stream",
          "text": [
            "<class 'pandas.core.frame.DataFrame'>\n",
            "RangeIndex: 768 entries, 0 to 767\n",
            "Data columns (total 9 columns):\n",
            " #   Column                     Non-Null Count  Dtype  \n",
            "---  ------                     --------------  -----  \n",
            " 0   compactness                768 non-null    float64\n",
            " 1   surface_area               768 non-null    float64\n",
            " 2   wall_area                  768 non-null    float64\n",
            " 3   roof_area                  768 non-null    float64\n",
            " 4   height                     768 non-null    float64\n",
            " 5   orientation                768 non-null    int64  \n",
            " 6   glazing_area               768 non-null    float64\n",
            " 7   glazing_area_distribution  768 non-null    int64  \n",
            " 8   electricity                768 non-null    float64\n",
            "dtypes: float64(7), int64(2)\n",
            "memory usage: 54.1 KB\n"
          ],
          "name": "stdout"
        }
      ]
    },
    {
      "cell_type": "markdown",
      "metadata": {
        "id": "l0q4v05Rt7sG"
      },
      "source": [
        "## **1) 1차 모델 Training Error**"
      ]
    },
    {
      "cell_type": "markdown",
      "metadata": {
        "id": "EUg9NzawuAa3"
      },
      "source": [
        "- X_train and y_train"
      ]
    },
    {
      "cell_type": "code",
      "metadata": {
        "colab": {
          "base_uri": "https://localhost:8080/"
        },
        "id": "JaL_qC3qt4il",
        "outputId": "ebaba249-b143-40bf-a4d2-84c8ca4c2002"
      },
      "source": [
        "X_train = Elec[['surface_area']]\n",
        "y_train = Elec['electricity']\n",
        "\n",
        "X_train.shape, y_train.shape"
      ],
      "execution_count": 13,
      "outputs": [
        {
          "output_type": "execute_result",
          "data": {
            "text/plain": [
              "((768, 1), (768,))"
            ]
          },
          "metadata": {
            "tags": []
          },
          "execution_count": 13
        }
      ]
    },
    {
      "cell_type": "markdown",
      "metadata": {
        "id": "-01SgGjzuMDo"
      },
      "source": [
        "- 모델 생성"
      ]
    },
    {
      "cell_type": "code",
      "metadata": {
        "colab": {
          "base_uri": "https://localhost:8080/"
        },
        "id": "VHz_v7q3uJzG",
        "outputId": "b778058a-a66d-40d6-afba-6603b5bbbf8c"
      },
      "source": [
        "from sklearn.linear_model import LinearRegression\n",
        "\n",
        "Model_1 = LinearRegression()\n",
        "Model_1.fit(X_train, y_train)"
      ],
      "execution_count": 14,
      "outputs": [
        {
          "output_type": "execute_result",
          "data": {
            "text/plain": [
              "LinearRegression(copy_X=True, fit_intercept=True, n_jobs=None, normalize=False)"
            ]
          },
          "metadata": {
            "tags": []
          },
          "execution_count": 14
        }
      ]
    },
    {
      "cell_type": "markdown",
      "metadata": {
        "id": "GqtyEeK4uYnt"
      },
      "source": [
        "- 모델 정보(학습 결과) 확인"
      ]
    },
    {
      "cell_type": "code",
      "metadata": {
        "colab": {
          "base_uri": "https://localhost:8080/"
        },
        "id": "WI6GsOx7uXY6",
        "outputId": "ebafe338-1f6d-4d41-8da4-89ee164d64b6"
      },
      "source": [
        "print(Model_1.coef_)\n",
        "print(Model_1.intercept_)"
      ],
      "execution_count": 15,
      "outputs": [
        {
          "output_type": "stream",
          "text": [
            "[-0.75387157]\n",
            "729.4538243006992\n"
          ],
          "name": "stdout"
        }
      ]
    },
    {
      "cell_type": "markdown",
      "metadata": {
        "id": "Hvk4VENYuqFi"
      },
      "source": [
        "- y_hat(예측값) 생성"
      ]
    },
    {
      "cell_type": "code",
      "metadata": {
        "colab": {
          "base_uri": "https://localhost:8080/"
        },
        "id": "q79_9P1IuhpG",
        "outputId": "22d40d60-9b8c-461c-c23a-d30de4ebf35d"
      },
      "source": [
        "y_hat_1 = Model_1.predict(X_train)\n",
        "\n",
        "len(y_hat_1)"
      ],
      "execution_count": 16,
      "outputs": [
        {
          "output_type": "execute_result",
          "data": {
            "text/plain": [
              "768"
            ]
          },
          "metadata": {
            "tags": []
          },
          "execution_count": 16
        }
      ]
    },
    {
      "cell_type": "markdown",
      "metadata": {
        "id": "pE2FQt9au0In"
      },
      "source": [
        "- MSE(Mean Squared Error) 계산"
      ]
    },
    {
      "cell_type": "code",
      "metadata": {
        "colab": {
          "base_uri": "https://localhost:8080/"
        },
        "id": "4x3BuRK_upCc",
        "outputId": "4f378d83-3d88-4039-ea8f-ca32710ca395"
      },
      "source": [
        "TR_Err_1 = np.mean((y_train - y_hat_1) ** 2)\n",
        "\n",
        "TR_Err_1"
      ],
      "execution_count": 17,
      "outputs": [
        {
          "output_type": "execute_result",
          "data": {
            "text/plain": [
              "5763.983779426347"
            ]
          },
          "metadata": {
            "tags": []
          },
          "execution_count": 17
        }
      ]
    },
    {
      "cell_type": "markdown",
      "metadata": {
        "id": "U3f1FWd0vCak"
      },
      "source": [
        "## **2) 5차 모델 Training Error**"
      ]
    },
    {
      "cell_type": "markdown",
      "metadata": {
        "id": "_ZKF6ET9vIVk"
      },
      "source": [
        "- X 다항차수 변환\n",
        "  - (768, 1) to (768, 5)"
      ]
    },
    {
      "cell_type": "code",
      "metadata": {
        "id": "5vsF-z-_u-YG"
      },
      "source": [
        "from sklearn.preprocessing import PolynomialFeatures\n",
        "\n",
        "poly = PolynomialFeatures(degree=5, include_bias=False)\n",
        "PX_5 = poly.fit_transform(X_train)"
      ],
      "execution_count": 18,
      "outputs": []
    },
    {
      "cell_type": "code",
      "metadata": {
        "colab": {
          "base_uri": "https://localhost:8080/"
        },
        "id": "rHaNgqpvvcur",
        "outputId": "bd091710-7018-44b3-bea7-c6d49d6b76cb"
      },
      "source": [
        "PX_5"
      ],
      "execution_count": 19,
      "outputs": [
        {
          "output_type": "execute_result",
          "data": {
            "text/plain": [
              "array([[5.14500000e+02, 2.64710250e+05, 1.36193424e+08, 7.00715165e+10,\n",
              "        3.60517952e+13],\n",
              "       [5.14500000e+02, 2.64710250e+05, 1.36193424e+08, 7.00715165e+10,\n",
              "        3.60517952e+13],\n",
              "       [5.14500000e+02, 2.64710250e+05, 1.36193424e+08, 7.00715165e+10,\n",
              "        3.60517952e+13],\n",
              "       ...,\n",
              "       [8.08500000e+02, 6.53672250e+05, 5.28494014e+08, 4.27287410e+11,\n",
              "        3.45461871e+14],\n",
              "       [8.08500000e+02, 6.53672250e+05, 5.28494014e+08, 4.27287410e+11,\n",
              "        3.45461871e+14],\n",
              "       [8.08500000e+02, 6.53672250e+05, 5.28494014e+08, 4.27287410e+11,\n",
              "        3.45461871e+14]])"
            ]
          },
          "metadata": {
            "tags": []
          },
          "execution_count": 19
        }
      ]
    },
    {
      "cell_type": "code",
      "metadata": {
        "colab": {
          "base_uri": "https://localhost:8080/"
        },
        "id": "f-Sqa4ztvgSc",
        "outputId": "0a8a7f33-70cb-43cc-9a70-46548f372944"
      },
      "source": [
        "X_train.shape, PX_5.shape"
      ],
      "execution_count": 20,
      "outputs": [
        {
          "output_type": "execute_result",
          "data": {
            "text/plain": [
              "((768, 1), (768, 5))"
            ]
          },
          "metadata": {
            "tags": []
          },
          "execution_count": 20
        }
      ]
    },
    {
      "cell_type": "markdown",
      "metadata": {
        "id": "Q4JhWtqkvk5j"
      },
      "source": [
        "- 5차 모델 생성"
      ]
    },
    {
      "cell_type": "code",
      "metadata": {
        "colab": {
          "base_uri": "https://localhost:8080/"
        },
        "id": "dvPZNEgJvkEc",
        "outputId": "a312791f-0eb2-4fbd-ac4b-028aa0836071"
      },
      "source": [
        "from sklearn.linear_model import LinearRegression\n",
        "\n",
        "Model_5 = LinearRegression()\n",
        "Model_5.fit(PX_5, y_train)"
      ],
      "execution_count": 21,
      "outputs": [
        {
          "output_type": "execute_result",
          "data": {
            "text/plain": [
              "LinearRegression(copy_X=True, fit_intercept=True, n_jobs=None, normalize=False)"
            ]
          },
          "metadata": {
            "tags": []
          },
          "execution_count": 21
        }
      ]
    },
    {
      "cell_type": "markdown",
      "metadata": {
        "id": "UkXYtWo2vuc1"
      },
      "source": [
        "- 모델 정보(학습 결과) 확인"
      ]
    },
    {
      "cell_type": "code",
      "metadata": {
        "colab": {
          "base_uri": "https://localhost:8080/"
        },
        "id": "32VWQxE4vtXW",
        "outputId": "feb27ec9-c14b-4266-f7c5-02ee766b3e57"
      },
      "source": [
        "np.set_printoptions(suppress=True, precision=10)\n",
        "\n",
        "print(Model_5.coef_)\n",
        "print(Model_5.intercept_)"
      ],
      "execution_count": 22,
      "outputs": [
        {
          "output_type": "stream",
          "text": [
            "[-0.0003155148 -0.1029296835  0.0003787616 -0.0000005032  0.0000000002]\n",
            "2906.221625380881\n"
          ],
          "name": "stdout"
        }
      ]
    },
    {
      "cell_type": "markdown",
      "metadata": {
        "id": "p7Xi3-MjwNg6"
      },
      "source": [
        "- y_hat(예측값) 생성"
      ]
    },
    {
      "cell_type": "code",
      "metadata": {
        "colab": {
          "base_uri": "https://localhost:8080/"
        },
        "id": "HL45xPJQv7fn",
        "outputId": "a2e73fc8-41f4-4d9c-e5da-606e737b4ef3"
      },
      "source": [
        "PX_5_pred = poly.fit_transform(X_train)\n",
        "\n",
        "y_hat_5 = Model_5.predict(PX_5_pred)\n",
        "\n",
        "y_hat_5.shape"
      ],
      "execution_count": 23,
      "outputs": [
        {
          "output_type": "execute_result",
          "data": {
            "text/plain": [
              "(768,)"
            ]
          },
          "metadata": {
            "tags": []
          },
          "execution_count": 23
        }
      ]
    },
    {
      "cell_type": "markdown",
      "metadata": {
        "id": "NmZlw48SwZ2g"
      },
      "source": [
        "- MSE(Mean Squared Error) 계산"
      ]
    },
    {
      "cell_type": "code",
      "metadata": {
        "colab": {
          "base_uri": "https://localhost:8080/"
        },
        "id": "92wG3UnnwMBc",
        "outputId": "258203ad-2cb5-4a7c-b3fd-ed288fd1de3f"
      },
      "source": [
        "TR_Err_5 = np.mean((y_train - y_hat_5) ** 2)\n",
        "\n",
        "TR_Err_5"
      ],
      "execution_count": 24,
      "outputs": [
        {
          "output_type": "execute_result",
          "data": {
            "text/plain": [
              "4177.726328606075"
            ]
          },
          "metadata": {
            "tags": []
          },
          "execution_count": 24
        }
      ]
    },
    {
      "cell_type": "markdown",
      "metadata": {
        "id": "Y8M5zJCswnjj"
      },
      "source": [
        "## **3) 9차 모델 Training Error**"
      ]
    },
    {
      "cell_type": "markdown",
      "metadata": {
        "id": "kWRNtXGiwnbV"
      },
      "source": [
        "- X 다항차수 변환\n",
        "  - (768, 1) to (768, 9)"
      ]
    },
    {
      "cell_type": "code",
      "metadata": {
        "id": "iD4uUfBFwjFI"
      },
      "source": [
        "from sklearn.preprocessing import PolynomialFeatures\n",
        "\n",
        "poly = PolynomialFeatures(degree=9, include_bias=False)\n",
        "PX_9 = poly.fit_transform(X_train)"
      ],
      "execution_count": 25,
      "outputs": []
    },
    {
      "cell_type": "code",
      "metadata": {
        "colab": {
          "base_uri": "https://localhost:8080/"
        },
        "id": "VO964hA8w9CP",
        "outputId": "4b2ae117-0b3d-4c58-8359-e217291e4d26"
      },
      "source": [
        "X_train.shape, PX_9.shape"
      ],
      "execution_count": 26,
      "outputs": [
        {
          "output_type": "execute_result",
          "data": {
            "text/plain": [
              "((768, 1), (768, 9))"
            ]
          },
          "metadata": {
            "tags": []
          },
          "execution_count": 26
        }
      ]
    },
    {
      "cell_type": "markdown",
      "metadata": {
        "id": "aDGxUpxZxFVW"
      },
      "source": [
        "- 9차 모델 생성"
      ]
    },
    {
      "cell_type": "code",
      "metadata": {
        "colab": {
          "base_uri": "https://localhost:8080/"
        },
        "id": "Atgusbuhw_O4",
        "outputId": "9afb59f6-70f4-470c-fc9b-8633696054b7"
      },
      "source": [
        "from sklearn.linear_model import LinearRegression\n",
        "\n",
        "Model_9 = LinearRegression()\n",
        "Model_9.fit(PX_9, y_train)"
      ],
      "execution_count": 27,
      "outputs": [
        {
          "output_type": "execute_result",
          "data": {
            "text/plain": [
              "LinearRegression(copy_X=True, fit_intercept=True, n_jobs=None, normalize=False)"
            ]
          },
          "metadata": {
            "tags": []
          },
          "execution_count": 27
        }
      ]
    },
    {
      "cell_type": "markdown",
      "metadata": {
        "id": "j_Hlolw0xOkO"
      },
      "source": [
        "- 모델 정보(학습 결과) 확인"
      ]
    },
    {
      "cell_type": "code",
      "metadata": {
        "colab": {
          "base_uri": "https://localhost:8080/"
        },
        "id": "ainb0qTKxMvC",
        "outputId": "03badd7b-6c4e-4483-a24a-126d9d5303ab"
      },
      "source": [
        "print(Model_9.coef_)\n",
        "print(Model_9.intercept_)"
      ],
      "execution_count": 28,
      "outputs": [
        {
          "output_type": "stream",
          "text": [
            "[ 0.  0.  0.  0.  0.  0. -0.  0. -0.]\n",
            "-440.08258373871365\n"
          ],
          "name": "stdout"
        }
      ]
    },
    {
      "cell_type": "markdown",
      "metadata": {
        "id": "rWAZ7xSwxVwG"
      },
      "source": [
        "- y_hat(예측값) 생성"
      ]
    },
    {
      "cell_type": "code",
      "metadata": {
        "colab": {
          "base_uri": "https://localhost:8080/"
        },
        "id": "t-O3ck-PxUxH",
        "outputId": "d1e9b09a-71ba-4dad-dd50-8a4de2bcea2d"
      },
      "source": [
        "PX_9_pred = poly.fit_transform(X_train)\n",
        "\n",
        "y_hat_9 = Model_9.predict(PX_9_pred)\n",
        "\n",
        "y_hat_9.shape"
      ],
      "execution_count": 29,
      "outputs": [
        {
          "output_type": "execute_result",
          "data": {
            "text/plain": [
              "(768,)"
            ]
          },
          "metadata": {
            "tags": []
          },
          "execution_count": 29
        }
      ]
    },
    {
      "cell_type": "markdown",
      "metadata": {
        "id": "LEY2BdU0xhWl"
      },
      "source": [
        "- MSE(Mean Squared Error) 계산"
      ]
    },
    {
      "cell_type": "code",
      "metadata": {
        "colab": {
          "base_uri": "https://localhost:8080/"
        },
        "id": "sk_GxrP6xe_b",
        "outputId": "86097710-6734-4ffb-a291-76eeba7de0ee"
      },
      "source": [
        "TR_Err_9 = np.mean((y_train - y_hat_9) ** 2)\n",
        "\n",
        "TR_Err_9"
      ],
      "execution_count": 30,
      "outputs": [
        {
          "output_type": "execute_result",
          "data": {
            "text/plain": [
              "4086.7199908150374"
            ]
          },
          "metadata": {
            "tags": []
          },
          "execution_count": 30
        }
      ]
    },
    {
      "cell_type": "markdown",
      "metadata": {
        "id": "OaxNJ5jdxukO"
      },
      "source": [
        "## **4) 3개 모델 Training Error 비교**"
      ]
    },
    {
      "cell_type": "code",
      "metadata": {
        "colab": {
          "base_uri": "https://localhost:8080/"
        },
        "id": "CrOCznSPxofB",
        "outputId": "605cd2c2-a6b2-4dc9-cdfe-91e6fa4732cb"
      },
      "source": [
        "print('1차 모델 :', TR_Err_1)\n",
        "print('5차 모델 :', TR_Err_5)\n",
        "print('9차 모델 :', TR_Err_9)"
      ],
      "execution_count": 31,
      "outputs": [
        {
          "output_type": "stream",
          "text": [
            "1차 모델 : 5763.983779426347\n",
            "5차 모델 : 4177.726328606075\n",
            "9차 모델 : 4086.7199908150374\n"
          ],
          "name": "stdout"
        }
      ]
    },
    {
      "cell_type": "markdown",
      "metadata": {
        "id": "E7Uz7gHyx9ZF"
      },
      "source": [
        "## **5) 잔차(Residual) 시각화**"
      ]
    },
    {
      "cell_type": "markdown",
      "metadata": {
        "id": "9CzMrqrJybq6"
      },
      "source": [
        "- 1차 모델"
      ]
    },
    {
      "cell_type": "code",
      "metadata": {
        "colab": {
          "base_uri": "https://localhost:8080/",
          "height": 284
        },
        "id": "kIcGgu2Bx8Rl",
        "outputId": "1f466b45-bf9e-445f-d57e-bdd51671ffa4"
      },
      "source": [
        "sns.residplot(x='surface_area',\n",
        "              y='electricity',\n",
        "              data=Elec,\n",
        "              order=1,\n",
        "              scatter_kws={'edgecolor':'white'})\n",
        "plt.ylim(-300, 300)\n",
        "plt.show()"
      ],
      "execution_count": 32,
      "outputs": [
        {
          "output_type": "display_data",
          "data": {
            "image/png": "[encoded data removed]",
            "text/plain": [
              "<Figure size 432x288 with 1 Axes>"
            ]
          },
          "metadata": {
            "tags": [],
            "needs_background": "light"
          }
        }
      ]
    },
    {
      "cell_type": "markdown",
      "metadata": {
        "id": "3CGsnYc2ydaJ"
      },
      "source": [
        "- 5차 모델"
      ]
    },
    {
      "cell_type": "code",
      "metadata": {
        "colab": {
          "base_uri": "https://localhost:8080/",
          "height": 284
        },
        "id": "Ftr2mrjXySZB",
        "outputId": "4040ff49-42d6-4ae0-e1df-3b3a313cc920"
      },
      "source": [
        "sns.residplot(x='surface_area',\n",
        "              y='electricity',\n",
        "              data=Elec,\n",
        "              order=5,\n",
        "              scatter_kws={'edgecolor':'white'})\n",
        "plt.ylim(-300, 300)\n",
        "plt.show()"
      ],
      "execution_count": 33,
      "outputs": [
        {
          "output_type": "display_data",
          "data": {
            "image/png": "[encoded data removed]",
            "text/plain": [
              "<Figure size 432x288 with 1 Axes>"
            ]
          },
          "metadata": {
            "tags": [],
            "needs_background": "light"
          }
        }
      ]
    },
    {
      "cell_type": "markdown",
      "metadata": {
        "id": "xXGP2pCKykbo"
      },
      "source": [
        "- 9차 모델"
      ]
    },
    {
      "cell_type": "code",
      "metadata": {
        "colab": {
          "base_uri": "https://localhost:8080/",
          "height": 284
        },
        "id": "2EYTKC2pyjCd",
        "outputId": "695f9b1e-0029-4a5f-c0d1-54cc374a0971"
      },
      "source": [
        "sns.residplot(x='surface_area',\n",
        "              y='electricity',\n",
        "              data=Elec,\n",
        "              order=9,\n",
        "              scatter_kws={'edgecolor':'white'})\n",
        "plt.ylim(-300, 300)\n",
        "plt.show()"
      ],
      "execution_count": 34,
      "outputs": [
        {
          "output_type": "display_data",
          "data": {
            "image/png": "[encoded data removed]",
            "text/plain": [
              "<Figure size 432x288 with 1 Axes>"
            ]
          },
          "metadata": {
            "tags": [],
            "needs_background": "light"
          }
        }
      ]
    },
    {
      "cell_type": "markdown",
      "metadata": {
        "id": "FYBG99IJypPl"
      },
      "source": [
        "# **III. Testing Error**"
      ]
    },
    {
      "cell_type": "markdown",
      "metadata": {
        "id": "oT-d6cYGypGm"
      },
      "source": [
        "- import Packages"
      ]
    },
    {
      "cell_type": "code",
      "metadata": {
        "id": "mHffbxCZyng2"
      },
      "source": [
        "import pandas as pd\n",
        "import matplotlib.pyplot as plt\n",
        "import seaborn as sns"
      ],
      "execution_count": 35,
      "outputs": []
    },
    {
      "cell_type": "markdown",
      "metadata": {
        "id": "_Orx5qN4yzOU"
      },
      "source": [
        "- pandas DataFrame\n",
        "  - 'Electric.csv' from GitHub"
      ]
    },
    {
      "cell_type": "code",
      "metadata": {
        "colab": {
          "base_uri": "https://localhost:8080/"
        },
        "id": "OPd6GnCayyfW",
        "outputId": "ae17686f-c0d5-4b40-96d1-766cfbcd3605"
      },
      "source": [
        "url = 'https://raw.githubusercontent.com/rusita-ai/pyData/master/Electric.csv'\n",
        "\n",
        "Elec = pd.read_csv(url)\n",
        "\n",
        "Elec.shape"
      ],
      "execution_count": 36,
      "outputs": [
        {
          "output_type": "execute_result",
          "data": {
            "text/plain": [
              "(768, 9)"
            ]
          },
          "metadata": {
            "tags": []
          },
          "execution_count": 36
        }
      ]
    },
    {
      "cell_type": "markdown",
      "metadata": {
        "id": "iwbhB-LWzJtK"
      },
      "source": [
        "> ## **Train_Data vs. Test_Data**"
      ]
    },
    {
      "cell_type": "markdown",
      "metadata": {
        "id": "JERbRHMizZJ_"
      },
      "source": [
        "### (1) DataFrame Split"
      ]
    },
    {
      "cell_type": "markdown",
      "metadata": {
        "id": "W6Mtgs20zcpM"
      },
      "source": [
        "- 8:2 Split(614:154)\n",
        "- 80% Train_DF & 20% Test_DF"
      ]
    },
    {
      "cell_type": "code",
      "metadata": {
        "id": "u5jtvFfzy9zH"
      },
      "source": [
        "from sklearn.model_selection import train_test_split\n",
        "\n",
        "TR_Elec, TE_Elec = train_test_split(Elec, test_size=0.2,\n",
        "                                    random_state=2045)"
      ],
      "execution_count": 37,
      "outputs": []
    },
    {
      "cell_type": "code",
      "metadata": {
        "colab": {
          "base_uri": "https://localhost:8080/"
        },
        "id": "9SUr121ozth4",
        "outputId": "d8f68124-e750-421c-acc0-de552b355218"
      },
      "source": [
        "TR_Elec.shape, TE_Elec.shape"
      ],
      "execution_count": 38,
      "outputs": [
        {
          "output_type": "execute_result",
          "data": {
            "text/plain": [
              "((614, 9), (154, 9))"
            ]
          },
          "metadata": {
            "tags": []
          },
          "execution_count": 38
        }
      ]
    },
    {
      "cell_type": "markdown",
      "metadata": {
        "id": "-0TxiJUBzx1D"
      },
      "source": [
        "- 80% TR_Elec DataFrame"
      ]
    },
    {
      "cell_type": "code",
      "metadata": {
        "colab": {
          "base_uri": "https://localhost:8080/",
          "height": 204
        },
        "id": "utkpk3X6zwpa",
        "outputId": "754a0990-d9b4-4a56-fb9e-0c4cd321caaf"
      },
      "source": [
        "TR_Elec.head()"
      ],
      "execution_count": 39,
      "outputs": [
        {
          "output_type": "execute_result",
          "data": {
            "text/html": [
              "<div>\n",
              "<style scoped>\n",
              "    .dataframe tbody tr th:only-of-type {\n",
              "        vertical-align: middle;\n",
              "    }\n",
              "\n",
              "    .dataframe tbody tr th {\n",
              "        vertical-align: top;\n",
              "    }\n",
              "\n",
              "    .dataframe thead th {\n",
              "        text-align: right;\n",
              "    }\n",
              "</style>\n",
              "<table border=\"1\" class=\"dataframe\">\n",
              "  <thead>\n",
              "    <tr style=\"text-align: right;\">\n",
              "      <th></th>\n",
              "      <th>compactness</th>\n",
              "      <th>surface_area</th>\n",
              "      <th>wall_area</th>\n",
              "      <th>roof_area</th>\n",
              "      <th>height</th>\n",
              "      <th>orientation</th>\n",
              "      <th>glazing_area</th>\n",
              "      <th>glazing_area_distribution</th>\n",
              "      <th>electricity</th>\n",
              "    </tr>\n",
              "  </thead>\n",
              "  <tbody>\n",
              "    <tr>\n",
              "      <th>555</th>\n",
              "      <td>0.74</td>\n",
              "      <td>686.0</td>\n",
              "      <td>245.0</td>\n",
              "      <td>220.5</td>\n",
              "      <td>3.5</td>\n",
              "      <td>5</td>\n",
              "      <td>0.40</td>\n",
              "      <td>1</td>\n",
              "      <td>145.5</td>\n",
              "    </tr>\n",
              "    <tr>\n",
              "      <th>355</th>\n",
              "      <td>0.79</td>\n",
              "      <td>637.0</td>\n",
              "      <td>343.0</td>\n",
              "      <td>147.0</td>\n",
              "      <td>7.0</td>\n",
              "      <td>5</td>\n",
              "      <td>0.25</td>\n",
              "      <td>2</td>\n",
              "      <td>389.8</td>\n",
              "    </tr>\n",
              "    <tr>\n",
              "      <th>200</th>\n",
              "      <td>0.86</td>\n",
              "      <td>588.0</td>\n",
              "      <td>294.0</td>\n",
              "      <td>147.0</td>\n",
              "      <td>7.0</td>\n",
              "      <td>2</td>\n",
              "      <td>0.10</td>\n",
              "      <td>4</td>\n",
              "      <td>264.4</td>\n",
              "    </tr>\n",
              "    <tr>\n",
              "      <th>669</th>\n",
              "      <td>0.62</td>\n",
              "      <td>808.5</td>\n",
              "      <td>367.5</td>\n",
              "      <td>220.5</td>\n",
              "      <td>3.5</td>\n",
              "      <td>3</td>\n",
              "      <td>0.40</td>\n",
              "      <td>3</td>\n",
              "      <td>163.5</td>\n",
              "    </tr>\n",
              "    <tr>\n",
              "      <th>561</th>\n",
              "      <td>0.69</td>\n",
              "      <td>735.0</td>\n",
              "      <td>294.0</td>\n",
              "      <td>220.5</td>\n",
              "      <td>3.5</td>\n",
              "      <td>3</td>\n",
              "      <td>0.40</td>\n",
              "      <td>1</td>\n",
              "      <td>147.0</td>\n",
              "    </tr>\n",
              "  </tbody>\n",
              "</table>\n",
              "</div>"
            ],
            "text/plain": [
              "     compactness  surface_area  ...  glazing_area_distribution  electricity\n",
              "555         0.74         686.0  ...                          1        145.5\n",
              "355         0.79         637.0  ...                          2        389.8\n",
              "200         0.86         588.0  ...                          4        264.4\n",
              "669         0.62         808.5  ...                          3        163.5\n",
              "561         0.69         735.0  ...                          1        147.0\n",
              "\n",
              "[5 rows x 9 columns]"
            ]
          },
          "metadata": {
            "tags": []
          },
          "execution_count": 39
        }
      ]
    },
    {
      "cell_type": "markdown",
      "metadata": {
        "id": "Yo7WbZ5-0AkT"
      },
      "source": [
        "- 20% TE_Elec DataFrame"
      ]
    },
    {
      "cell_type": "code",
      "metadata": {
        "colab": {
          "base_uri": "https://localhost:8080/",
          "height": 204
        },
        "id": "tC_w87ESz3m3",
        "outputId": "b141c5dc-dad2-413e-f301-36a0248dd41f"
      },
      "source": [
        "TE_Elec.head()"
      ],
      "execution_count": 40,
      "outputs": [
        {
          "output_type": "execute_result",
          "data": {
            "text/html": [
              "<div>\n",
              "<style scoped>\n",
              "    .dataframe tbody tr th:only-of-type {\n",
              "        vertical-align: middle;\n",
              "    }\n",
              "\n",
              "    .dataframe tbody tr th {\n",
              "        vertical-align: top;\n",
              "    }\n",
              "\n",
              "    .dataframe thead th {\n",
              "        text-align: right;\n",
              "    }\n",
              "</style>\n",
              "<table border=\"1\" class=\"dataframe\">\n",
              "  <thead>\n",
              "    <tr style=\"text-align: right;\">\n",
              "      <th></th>\n",
              "      <th>compactness</th>\n",
              "      <th>surface_area</th>\n",
              "      <th>wall_area</th>\n",
              "      <th>roof_area</th>\n",
              "      <th>height</th>\n",
              "      <th>orientation</th>\n",
              "      <th>glazing_area</th>\n",
              "      <th>glazing_area_distribution</th>\n",
              "      <th>electricity</th>\n",
              "    </tr>\n",
              "  </thead>\n",
              "  <tbody>\n",
              "    <tr>\n",
              "      <th>414</th>\n",
              "      <td>0.71</td>\n",
              "      <td>710.5</td>\n",
              "      <td>269.5</td>\n",
              "      <td>220.50</td>\n",
              "      <td>3.5</td>\n",
              "      <td>4</td>\n",
              "      <td>0.25</td>\n",
              "      <td>3</td>\n",
              "      <td>121.0</td>\n",
              "    </tr>\n",
              "    <tr>\n",
              "      <th>475</th>\n",
              "      <td>0.64</td>\n",
              "      <td>784.0</td>\n",
              "      <td>343.0</td>\n",
              "      <td>220.50</td>\n",
              "      <td>3.5</td>\n",
              "      <td>5</td>\n",
              "      <td>0.25</td>\n",
              "      <td>4</td>\n",
              "      <td>166.2</td>\n",
              "    </tr>\n",
              "    <tr>\n",
              "      <th>511</th>\n",
              "      <td>0.71</td>\n",
              "      <td>710.5</td>\n",
              "      <td>269.5</td>\n",
              "      <td>220.50</td>\n",
              "      <td>3.5</td>\n",
              "      <td>5</td>\n",
              "      <td>0.25</td>\n",
              "      <td>5</td>\n",
              "      <td>122.7</td>\n",
              "    </tr>\n",
              "    <tr>\n",
              "      <th>213</th>\n",
              "      <td>0.76</td>\n",
              "      <td>661.5</td>\n",
              "      <td>416.5</td>\n",
              "      <td>122.50</td>\n",
              "      <td>7.0</td>\n",
              "      <td>3</td>\n",
              "      <td>0.10</td>\n",
              "      <td>4</td>\n",
              "      <td>323.8</td>\n",
              "    </tr>\n",
              "    <tr>\n",
              "      <th>339</th>\n",
              "      <td>0.98</td>\n",
              "      <td>514.5</td>\n",
              "      <td>294.0</td>\n",
              "      <td>110.25</td>\n",
              "      <td>7.0</td>\n",
              "      <td>5</td>\n",
              "      <td>0.25</td>\n",
              "      <td>2</td>\n",
              "      <td>286.0</td>\n",
              "    </tr>\n",
              "  </tbody>\n",
              "</table>\n",
              "</div>"
            ],
            "text/plain": [
              "     compactness  surface_area  ...  glazing_area_distribution  electricity\n",
              "414         0.71         710.5  ...                          3        121.0\n",
              "475         0.64         784.0  ...                          4        166.2\n",
              "511         0.71         710.5  ...                          5        122.7\n",
              "213         0.76         661.5  ...                          4        323.8\n",
              "339         0.98         514.5  ...                          2        286.0\n",
              "\n",
              "[5 rows x 9 columns]"
            ]
          },
          "metadata": {
            "tags": []
          },
          "execution_count": 40
        }
      ]
    },
    {
      "cell_type": "markdown",
      "metadata": {
        "id": "mnxsMG1J0Euq"
      },
      "source": [
        "### (2) Array Split"
      ]
    },
    {
      "cell_type": "markdown",
      "metadata": {
        "id": "NZgk8h440H8g"
      },
      "source": [
        "- X_train, X_test & y_train, y_test"
      ]
    },
    {
      "cell_type": "code",
      "metadata": {
        "id": "4dkHvN0M0C5b"
      },
      "source": [
        "from sklearn.model_selection import train_test_split\n",
        "\n",
        "X_train, X_test, y_train, y_test = train_test_split(Elec[['surface_area']],\n",
        "                                                    Elec['electricity'],\n",
        "                                                    test_size=0.2,\n",
        "                                                    random_state=2045)"
      ],
      "execution_count": 41,
      "outputs": []
    },
    {
      "cell_type": "code",
      "metadata": {
        "colab": {
          "base_uri": "https://localhost:8080/"
        },
        "id": "rH4_xIMr0h05",
        "outputId": "0d5fcac9-2b1f-4ced-92a0-8a7e7f6914ab"
      },
      "source": [
        "X_train.shape, y_train.shape, X_test.shape, y_test.shape"
      ],
      "execution_count": 42,
      "outputs": [
        {
          "output_type": "execute_result",
          "data": {
            "text/plain": [
              "((614, 1), (614,), (154, 1), (154,))"
            ]
          },
          "metadata": {
            "tags": []
          },
          "execution_count": 42
        }
      ]
    },
    {
      "cell_type": "markdown",
      "metadata": {
        "id": "0Np6yM5O0oWi"
      },
      "source": [
        "- 80% X_train Array"
      ]
    },
    {
      "cell_type": "code",
      "metadata": {
        "colab": {
          "base_uri": "https://localhost:8080/",
          "height": 204
        },
        "id": "QCEalESb0m2R",
        "outputId": "e9022f36-6d32-4ecd-db8a-e448b4b71960"
      },
      "source": [
        "X_train.head()"
      ],
      "execution_count": 43,
      "outputs": [
        {
          "output_type": "execute_result",
          "data": {
            "text/html": [
              "<div>\n",
              "<style scoped>\n",
              "    .dataframe tbody tr th:only-of-type {\n",
              "        vertical-align: middle;\n",
              "    }\n",
              "\n",
              "    .dataframe tbody tr th {\n",
              "        vertical-align: top;\n",
              "    }\n",
              "\n",
              "    .dataframe thead th {\n",
              "        text-align: right;\n",
              "    }\n",
              "</style>\n",
              "<table border=\"1\" class=\"dataframe\">\n",
              "  <thead>\n",
              "    <tr style=\"text-align: right;\">\n",
              "      <th></th>\n",
              "      <th>surface_area</th>\n",
              "    </tr>\n",
              "  </thead>\n",
              "  <tbody>\n",
              "    <tr>\n",
              "      <th>555</th>\n",
              "      <td>686.0</td>\n",
              "    </tr>\n",
              "    <tr>\n",
              "      <th>355</th>\n",
              "      <td>637.0</td>\n",
              "    </tr>\n",
              "    <tr>\n",
              "      <th>200</th>\n",
              "      <td>588.0</td>\n",
              "    </tr>\n",
              "    <tr>\n",
              "      <th>669</th>\n",
              "      <td>808.5</td>\n",
              "    </tr>\n",
              "    <tr>\n",
              "      <th>561</th>\n",
              "      <td>735.0</td>\n",
              "    </tr>\n",
              "  </tbody>\n",
              "</table>\n",
              "</div>"
            ],
            "text/plain": [
              "     surface_area\n",
              "555         686.0\n",
              "355         637.0\n",
              "200         588.0\n",
              "669         808.5\n",
              "561         735.0"
            ]
          },
          "metadata": {
            "tags": []
          },
          "execution_count": 43
        }
      ]
    },
    {
      "cell_type": "markdown",
      "metadata": {
        "id": "ZnPyWruE0tKi"
      },
      "source": [
        "- 80% y_train Array"
      ]
    },
    {
      "cell_type": "code",
      "metadata": {
        "colab": {
          "base_uri": "https://localhost:8080/"
        },
        "id": "YwShR_M80sFu",
        "outputId": "30ddc7a0-4aef-47c9-94c0-72fcbb5f9d14"
      },
      "source": [
        "y_train.head()"
      ],
      "execution_count": 44,
      "outputs": [
        {
          "output_type": "execute_result",
          "data": {
            "text/plain": [
              "555    145.5\n",
              "355    389.8\n",
              "200    264.4\n",
              "669    163.5\n",
              "561    147.0\n",
              "Name: electricity, dtype: float64"
            ]
          },
          "metadata": {
            "tags": []
          },
          "execution_count": 44
        }
      ]
    },
    {
      "cell_type": "markdown",
      "metadata": {
        "id": "h83k60fJ03Jw"
      },
      "source": [
        "### (3) Distribution Visualization"
      ]
    },
    {
      "cell_type": "markdown",
      "metadata": {
        "id": "J34x0zwf07Nk"
      },
      "source": [
        "- Train Data"
      ]
    },
    {
      "cell_type": "code",
      "metadata": {
        "colab": {
          "base_uri": "https://localhost:8080/",
          "height": 280
        },
        "id": "D_uS_EsY0z8e",
        "outputId": "d44a6a44-d1f9-49f0-aa98-5cc889535f10"
      },
      "source": [
        "sns.scatterplot(TR_Elec['surface_area'], TR_Elec['electricity'])\n",
        "plt.show()"
      ],
      "execution_count": 45,
      "outputs": [
        {
          "output_type": "display_data",
          "data": {
            "image/png": "[encoded data removed]",
            "text/plain": [
              "<Figure size 432x288 with 1 Axes>"
            ]
          },
          "metadata": {
            "tags": [],
            "needs_background": "light"
          }
        }
      ]
    },
    {
      "cell_type": "code",
      "metadata": {
        "colab": {
          "base_uri": "https://localhost:8080/",
          "height": 280
        },
        "id": "2wi1maNY1DlF",
        "outputId": "02ed13a6-3ef7-4f67-d8e0-21e306207902"
      },
      "source": [
        "sns.scatterplot(TE_Elec['surface_area'], TE_Elec['electricity'])\n",
        "plt.show()"
      ],
      "execution_count": 46,
      "outputs": [
        {
          "output_type": "display_data",
          "data": {
            "image/png": "[encoded data removed]",
            "text/plain": [
              "<Figure size 432x288 with 1 Axes>"
            ]
          },
          "metadata": {
            "tags": [],
            "needs_background": "light"
          }
        }
      ]
    },
    {
      "cell_type": "markdown",
      "metadata": {
        "id": "PUKBihX11dfV"
      },
      "source": [
        "## **1) 1차 모델 Testing Error**"
      ]
    },
    {
      "cell_type": "markdown",
      "metadata": {
        "id": "10u5zgxl1h9R"
      },
      "source": [
        "- Train_Data로 모델 생성"
      ]
    },
    {
      "cell_type": "code",
      "metadata": {
        "colab": {
          "base_uri": "https://localhost:8080/"
        },
        "id": "-XXyynxw1NOV",
        "outputId": "4f183801-1a5e-485c-b74d-79f4559d013d"
      },
      "source": [
        "from sklearn.linear_model import LinearRegression\n",
        "\n",
        "Model_1 = LinearRegression()\n",
        "Model_1.fit(X_train, y_train)"
      ],
      "execution_count": 47,
      "outputs": [
        {
          "output_type": "execute_result",
          "data": {
            "text/plain": [
              "LinearRegression(copy_X=True, fit_intercept=True, n_jobs=None, normalize=False)"
            ]
          },
          "metadata": {
            "tags": []
          },
          "execution_count": 47
        }
      ]
    },
    {
      "cell_type": "markdown",
      "metadata": {
        "id": "nnUPnJd01wYt"
      },
      "source": [
        "- Test_Data로 y_hat(예측값) 생성"
      ]
    },
    {
      "cell_type": "code",
      "metadata": {
        "colab": {
          "base_uri": "https://localhost:8080/"
        },
        "id": "MvXkzTX31vaa",
        "outputId": "d8036a2c-65db-4ec9-b716-6341a53d47f4"
      },
      "source": [
        "y_hat_1 = Model_1.predict(X_test)\n",
        "\n",
        "y_hat_1.shape"
      ],
      "execution_count": 48,
      "outputs": [
        {
          "output_type": "execute_result",
          "data": {
            "text/plain": [
              "(154,)"
            ]
          },
          "metadata": {
            "tags": []
          },
          "execution_count": 48
        }
      ]
    },
    {
      "cell_type": "markdown",
      "metadata": {
        "id": "wsjy8sk71-XN"
      },
      "source": [
        "- Test_Data로 MSE(Mean Squared Error) 계산"
      ]
    },
    {
      "cell_type": "code",
      "metadata": {
        "colab": {
          "base_uri": "https://localhost:8080/"
        },
        "id": "1oRwlm_716c3",
        "outputId": "bc709f0c-2f0c-4fb7-d355-935b14b29f4b"
      },
      "source": [
        "from sklearn.metrics import mean_squared_error\n",
        "\n",
        "TE_Err_1 = mean_squared_error(y_test, y_hat_1)\n",
        "\n",
        "TE_Err_1"
      ],
      "execution_count": 49,
      "outputs": [
        {
          "output_type": "execute_result",
          "data": {
            "text/plain": [
              "6044.176547629271"
            ]
          },
          "metadata": {
            "tags": []
          },
          "execution_count": 49
        }
      ]
    },
    {
      "cell_type": "markdown",
      "metadata": {
        "id": "1yRSYWdw2PKb"
      },
      "source": [
        "## **2) 5차 모델 Testing Error**"
      ]
    },
    {
      "cell_type": "markdown",
      "metadata": {
        "id": "F0bpSuwt2Vj-"
      },
      "source": [
        "- Train_Data로 모델 생성"
      ]
    },
    {
      "cell_type": "code",
      "metadata": {
        "id": "UW71Q8xH2N_Y"
      },
      "source": [
        "from sklearn.preprocessing import PolynomialFeatures\n",
        "\n",
        "poly = PolynomialFeatures(degree=5, include_bias=False)\n",
        "PX_5_TR = poly.fit_transform(X_train)"
      ],
      "execution_count": 50,
      "outputs": []
    },
    {
      "cell_type": "code",
      "metadata": {
        "colab": {
          "base_uri": "https://localhost:8080/"
        },
        "id": "9kCseVk32tET",
        "outputId": "43bbc948-f983-4d02-b027-a4a0308533b1"
      },
      "source": [
        "from sklearn.linear_model import LinearRegression\n",
        "\n",
        "Model_5 = LinearRegression()\n",
        "Model_5.fit(PX_5_TR, y_train)"
      ],
      "execution_count": 51,
      "outputs": [
        {
          "output_type": "execute_result",
          "data": {
            "text/plain": [
              "LinearRegression(copy_X=True, fit_intercept=True, n_jobs=None, normalize=False)"
            ]
          },
          "metadata": {
            "tags": []
          },
          "execution_count": 51
        }
      ]
    },
    {
      "cell_type": "markdown",
      "metadata": {
        "id": "-Z53uZ7A22y2"
      },
      "source": [
        "- Test_Data로 y_hat(예측값) 생성"
      ]
    },
    {
      "cell_type": "code",
      "metadata": {
        "id": "G2lZ5Yfr22KX"
      },
      "source": [
        "PX_5_TE = poly.fit_transform(X_test)\n",
        "\n",
        "y_hat_5 = Model_5.predict(PX_5_TE)"
      ],
      "execution_count": 52,
      "outputs": []
    },
    {
      "cell_type": "markdown",
      "metadata": {
        "id": "KXxi_3Dg3KbT"
      },
      "source": [
        "- Test_Data로 MSE(Mean Squared Error) 계산"
      ]
    },
    {
      "cell_type": "code",
      "metadata": {
        "colab": {
          "base_uri": "https://localhost:8080/"
        },
        "id": "4rhJffXY3JZ9",
        "outputId": "6de2918f-07ea-4228-b40b-857fdcf81265"
      },
      "source": [
        "from sklearn.metrics import mean_squared_error\n",
        "\n",
        "TE_Err_5 = mean_squared_error(y_test, y_hat_5)\n",
        "\n",
        "TE_Err_5"
      ],
      "execution_count": 53,
      "outputs": [
        {
          "output_type": "execute_result",
          "data": {
            "text/plain": [
              "4330.604566409499"
            ]
          },
          "metadata": {
            "tags": []
          },
          "execution_count": 53
        }
      ]
    },
    {
      "cell_type": "markdown",
      "metadata": {
        "id": "wZpO2H5I3aeC"
      },
      "source": [
        "## **3) 9차 모델 Testing Error**"
      ]
    },
    {
      "cell_type": "markdown",
      "metadata": {
        "id": "ywubulEK3f4_"
      },
      "source": [
        "- Train_Data로 모델 생성"
      ]
    },
    {
      "cell_type": "code",
      "metadata": {
        "id": "C13W44nk3Zjt"
      },
      "source": [
        "from sklearn.preprocessing import PolynomialFeatures\n",
        "\n",
        "poly = PolynomialFeatures(degree=9, include_bias=False)\n",
        "PX_9_TR = poly.fit_transform(X_train)"
      ],
      "execution_count": 54,
      "outputs": []
    },
    {
      "cell_type": "code",
      "metadata": {
        "colab": {
          "base_uri": "https://localhost:8080/"
        },
        "id": "_3BH94143plq",
        "outputId": "68edf746-5872-46a5-853d-1f51a5413628"
      },
      "source": [
        "from sklearn.linear_model import LinearRegression\n",
        "\n",
        "Model_9 = LinearRegression()\n",
        "Model_9.fit(PX_9_TR, y_train)"
      ],
      "execution_count": 55,
      "outputs": [
        {
          "output_type": "execute_result",
          "data": {
            "text/plain": [
              "LinearRegression(copy_X=True, fit_intercept=True, n_jobs=None, normalize=False)"
            ]
          },
          "metadata": {
            "tags": []
          },
          "execution_count": 55
        }
      ]
    },
    {
      "cell_type": "markdown",
      "metadata": {
        "id": "uLoZY7yH3zg4"
      },
      "source": [
        "- Test_Data로 y_hat(예측값) 생성"
      ]
    },
    {
      "cell_type": "code",
      "metadata": {
        "id": "ETnLomQz3y0Y"
      },
      "source": [
        "PX_9_TE = poly.fit_transform(X_test)\n",
        "\n",
        "y_hat_9 = Model_9.predict(PX_9_TE)"
      ],
      "execution_count": 56,
      "outputs": []
    },
    {
      "cell_type": "markdown",
      "metadata": {
        "id": "Dwi1rHLS4BOz"
      },
      "source": [
        "- Test_Data로 MSE(Mean Squared Error) 계산"
      ]
    },
    {
      "cell_type": "code",
      "metadata": {
        "colab": {
          "base_uri": "https://localhost:8080/"
        },
        "id": "ehKoQMs_4AGC",
        "outputId": "bafdfd6d-b371-4677-81f8-0e239b3769a6"
      },
      "source": [
        "from sklearn.metrics import mean_squared_error\n",
        "\n",
        "TE_Err_9 = mean_squared_error(y_test, y_hat_9)\n",
        "\n",
        "TE_Err_9"
      ],
      "execution_count": 57,
      "outputs": [
        {
          "output_type": "execute_result",
          "data": {
            "text/plain": [
              "4238.689067137633"
            ]
          },
          "metadata": {
            "tags": []
          },
          "execution_count": 57
        }
      ]
    },
    {
      "cell_type": "markdown",
      "metadata": {
        "id": "9fluUP_R4On1"
      },
      "source": [
        "## **4) 3개 모델 Testing Error 비교**"
      ]
    },
    {
      "cell_type": "code",
      "metadata": {
        "colab": {
          "base_uri": "https://localhost:8080/"
        },
        "id": "nC8EPwMG4M4S",
        "outputId": "ac768fe4-685c-4acc-f27e-6d06332b5686"
      },
      "source": [
        "print('1차 모델 :', TE_Err_1)\n",
        "print('5차 모델 :', TE_Err_5)\n",
        "print('9차 모델 :', TE_Err_9)"
      ],
      "execution_count": 58,
      "outputs": [
        {
          "output_type": "stream",
          "text": [
            "1차 모델 : 6044.176547629271\n",
            "5차 모델 : 4330.604566409499\n",
            "9차 모델 : 4238.689067137633\n"
          ],
          "name": "stdout"
        }
      ]
    },
    {
      "cell_type": "markdown",
      "metadata": {
        "id": "d71G9bvB7xYT"
      },
      "source": [
        "# **IV. Validation Approach**"
      ]
    },
    {
      "cell_type": "markdown",
      "metadata": {
        "id": "h-7nbvIq98JB"
      },
      "source": [
        "- import Packages"
      ]
    },
    {
      "cell_type": "code",
      "metadata": {
        "id": "9mLgOttW4eDp"
      },
      "source": [
        "import pandas as pd"
      ],
      "execution_count": 59,
      "outputs": []
    },
    {
      "cell_type": "markdown",
      "metadata": {
        "id": "S3hr7lhE-AqA"
      },
      "source": [
        "- pandas DataFrame"
      ]
    },
    {
      "cell_type": "code",
      "metadata": {
        "colab": {
          "base_uri": "https://localhost:8080/"
        },
        "id": "fj5C6AFE9_cx",
        "outputId": "b06a59f8-2823-4072-c220-33a6adfba9eb"
      },
      "source": [
        "url = 'https://raw.githubusercontent.com/rusita-ai/pyData/master/Electric.csv'\n",
        "\n",
        "Elec = pd.read_csv(url)\n",
        "\n",
        "Elec.info()"
      ],
      "execution_count": 60,
      "outputs": [
        {
          "output_type": "stream",
          "text": [
            "<class 'pandas.core.frame.DataFrame'>\n",
            "RangeIndex: 768 entries, 0 to 767\n",
            "Data columns (total 9 columns):\n",
            " #   Column                     Non-Null Count  Dtype  \n",
            "---  ------                     --------------  -----  \n",
            " 0   compactness                768 non-null    float64\n",
            " 1   surface_area               768 non-null    float64\n",
            " 2   wall_area                  768 non-null    float64\n",
            " 3   roof_area                  768 non-null    float64\n",
            " 4   height                     768 non-null    float64\n",
            " 5   orientation                768 non-null    int64  \n",
            " 6   glazing_area               768 non-null    float64\n",
            " 7   glazing_area_distribution  768 non-null    int64  \n",
            " 8   electricity                768 non-null    float64\n",
            "dtypes: float64(7), int64(2)\n",
            "memory usage: 54.1 KB\n"
          ],
          "name": "stdout"
        }
      ]
    },
    {
      "cell_type": "markdown",
      "metadata": {
        "id": "dhw-evrm-cjH"
      },
      "source": [
        "> ## **Train vs. Validation vs. Test**\n",
        "- 6:2:2 Split(462:153:153)"
      ]
    },
    {
      "cell_type": "markdown",
      "metadata": {
        "id": "elv5wAR--oVC"
      },
      "source": [
        "> ## **sklearn Package 사용**\n",
        "- train_test_split()"
      ]
    },
    {
      "cell_type": "markdown",
      "metadata": {
        "id": "18wylZYQK2Uq"
      },
      "source": [
        "- 20% Test_Data(153)"
      ]
    },
    {
      "cell_type": "code",
      "metadata": {
        "colab": {
          "base_uri": "https://localhost:8080/"
        },
        "id": "OtPVffjN-E7b",
        "outputId": "dd595532-54d0-4656-ce65-5039ce11c3a4"
      },
      "source": [
        "from sklearn.model_selection import train_test_split\n",
        "\n",
        "X_remain, X_test, y_remain, y_test = train_test_split(Elec[['surface_area']],\n",
        "                                                      Elec['electricity'],\n",
        "                                                      test_size=int(len(Elec) * 0.2),\n",
        "                                                      random_state=2045)\n",
        "\n",
        "print(X_remain.shape, y_remain.shape)\n",
        "print(X_test.shape, y_test.shape)"
      ],
      "execution_count": 61,
      "outputs": [
        {
          "output_type": "stream",
          "text": [
            "(615, 1) (615,)\n",
            "(153, 1) (153,)\n"
          ],
          "name": "stdout"
        }
      ]
    },
    {
      "cell_type": "markdown",
      "metadata": {
        "id": "ISYvj6zTnern"
      },
      "source": [
        "- 60% Train_Data(462) & 20% Validation_Data(153)"
      ]
    },
    {
      "cell_type": "code",
      "metadata": {
        "colab": {
          "base_uri": "https://localhost:8080/"
        },
        "id": "HbjqjVPInlAH",
        "outputId": "c0e51504-a202-4962-b4c2-3008ab167da2"
      },
      "source": [
        "X_train, X_valid, y_train, y_valid = train_test_split(X_remain, y_remain,\n",
        "                                                    test_size=int(len(Elec) * 0.2),\n",
        "                                                    random_state=2045)\n",
        "\n",
        "print(X_train.shape, y_train.shape)\n",
        "print(X_valid.shape, y_valid.shape)\n",
        "print(X_test.shape, y_test.shape)"
      ],
      "execution_count": 62,
      "outputs": [
        {
          "output_type": "stream",
          "text": [
            "(462, 1) (462,)\n",
            "(153, 1) (153,)\n",
            "(153, 1) (153,)\n"
          ],
          "name": "stdout"
        }
      ]
    },
    {
      "cell_type": "markdown",
      "metadata": {
        "id": "5rsmPyCYoCq0"
      },
      "source": [
        "> ## **1) 5차 모델 Validation Error**"
      ]
    },
    {
      "cell_type": "markdown",
      "metadata": {
        "id": "YF2ue6nfoZcq"
      },
      "source": [
        "- Train_Data로 모델 생성"
      ]
    },
    {
      "cell_type": "code",
      "metadata": {
        "id": "NC4TpuXwoctX"
      },
      "source": [
        "from sklearn.preprocessing import PolynomialFeatures\n",
        "\n",
        "poly = PolynomialFeatures(degree=5, include_bias=False)\n",
        "PX_5_TR = poly.fit_transform(X_train)"
      ],
      "execution_count": 63,
      "outputs": []
    },
    {
      "cell_type": "code",
      "metadata": {
        "colab": {
          "base_uri": "https://localhost:8080/"
        },
        "id": "Bl-7dxFu17G3",
        "outputId": "e338c02f-ca96-4dc2-d7e1-d64cce40e1e5"
      },
      "source": [
        "from sklearn.linear_model import LinearRegression\n",
        "\n",
        "Model_5 = LinearRegression()\n",
        "Model_5.fit(PX_5_TR, y_train)"
      ],
      "execution_count": 64,
      "outputs": [
        {
          "output_type": "execute_result",
          "data": {
            "text/plain": [
              "LinearRegression(copy_X=True, fit_intercept=True, n_jobs=None, normalize=False)"
            ]
          },
          "metadata": {
            "tags": []
          },
          "execution_count": 64
        }
      ]
    },
    {
      "cell_type": "markdown",
      "metadata": {
        "id": "C3aiifDp2Eh0"
      },
      "source": [
        "- Validation_Data로 y_hat(예측값) 생성 및 MSE(Mean Squared Error) 계산"
      ]
    },
    {
      "cell_type": "code",
      "metadata": {
        "id": "ajCOWZ_m2POn"
      },
      "source": [
        "PX_5_VD = poly.fit_transform(X_valid)\n",
        "\n",
        "y_hat_5 = Model_5.predict(PX_5_VD)"
      ],
      "execution_count": 65,
      "outputs": []
    },
    {
      "cell_type": "code",
      "metadata": {
        "colab": {
          "base_uri": "https://localhost:8080/"
        },
        "id": "M-li-7S_2c7g",
        "outputId": "8c399d2f-8eac-4eb2-e4ce-923e5cdf294a"
      },
      "source": [
        "from sklearn.metrics import mean_squared_error\n",
        "\n",
        "MSE_5 = mean_squared_error(y_valid, y_hat_5)\n",
        "\n",
        "MSE_5"
      ],
      "execution_count": 66,
      "outputs": [
        {
          "output_type": "execute_result",
          "data": {
            "text/plain": [
              "4136.4312593408395"
            ]
          },
          "metadata": {
            "tags": []
          },
          "execution_count": 66
        }
      ]
    },
    {
      "cell_type": "markdown",
      "metadata": {
        "id": "6GOC642P2orh"
      },
      "source": [
        "> ## **2) 9차 모델 Validation Error**"
      ]
    },
    {
      "cell_type": "markdown",
      "metadata": {
        "id": "G5hPuqsc2tgc"
      },
      "source": [
        "- Train_Data로 모델 생성"
      ]
    },
    {
      "cell_type": "code",
      "metadata": {
        "id": "cM_VSxZp2xMV"
      },
      "source": [
        "from sklearn.preprocessing import PolynomialFeatures\n",
        "poly = PolynomialFeatures(degree=9, include_bias=False)\n",
        "PX_9_TR = poly.fit_transform(X_train)"
      ],
      "execution_count": 67,
      "outputs": []
    },
    {
      "cell_type": "code",
      "metadata": {
        "colab": {
          "base_uri": "https://localhost:8080/"
        },
        "id": "_EO-ZRdK29bW",
        "outputId": "ee87d763-4087-403c-80c0-111fc155e9b9"
      },
      "source": [
        "Model_9 = LinearRegression()\n",
        "Model_9.fit(PX_9_TR, y_train)"
      ],
      "execution_count": 68,
      "outputs": [
        {
          "output_type": "execute_result",
          "data": {
            "text/plain": [
              "LinearRegression(copy_X=True, fit_intercept=True, n_jobs=None, normalize=False)"
            ]
          },
          "metadata": {
            "tags": []
          },
          "execution_count": 68
        }
      ]
    },
    {
      "cell_type": "markdown",
      "metadata": {
        "id": "xtfvj3263C5L"
      },
      "source": [
        "- Validation_Data로 y_hat(예측값) 생성 및 MSE(Mean Squared Error) 계산"
      ]
    },
    {
      "cell_type": "code",
      "metadata": {
        "id": "N7RXl0nt3Uw3"
      },
      "source": [
        "PX9_valid = poly.fit_transform(X_valid)\n",
        "\n",
        "y_hat_9 = Model_9.predict(PX9_valid)"
      ],
      "execution_count": 69,
      "outputs": []
    },
    {
      "cell_type": "code",
      "metadata": {
        "colab": {
          "base_uri": "https://localhost:8080/"
        },
        "id": "5nMnPJNp3d3y",
        "outputId": "3f2c9697-b92a-4537-a4b3-3f5c9821396c"
      },
      "source": [
        "MSE_9 = mean_squared_error(y_valid, y_hat_9)\n",
        "\n",
        "MSE_9"
      ],
      "execution_count": 70,
      "outputs": [
        {
          "output_type": "execute_result",
          "data": {
            "text/plain": [
              "3955.9733124909912"
            ]
          },
          "metadata": {
            "tags": []
          },
          "execution_count": 70
        }
      ]
    },
    {
      "cell_type": "markdown",
      "metadata": {
        "id": "Je7xCg8h3jZ9"
      },
      "source": [
        "> ## **3) 2개 모델 Validation Error 비교**"
      ]
    },
    {
      "cell_type": "code",
      "metadata": {
        "colab": {
          "base_uri": "https://localhost:8080/"
        },
        "id": "cfSmVrI-3qbm",
        "outputId": "79cb2da6-b409-471f-a543-602f28d653f9"
      },
      "source": [
        "print('5차 모델 MSE_5 :', MSE_5)\n",
        "print('9차 모델 MSE_9 :', MSE_9)"
      ],
      "execution_count": 71,
      "outputs": [
        {
          "output_type": "stream",
          "text": [
            "5차 모델 MSE_5 : 4136.4312593408395\n",
            "9차 모델 MSE_9 : 3955.9733124909912\n"
          ],
          "name": "stdout"
        }
      ]
    },
    {
      "cell_type": "markdown",
      "metadata": {
        "id": "zhAcs6Nn3029"
      },
      "source": [
        "> ## **4) 최종 9차 모델을 Test_Data에 적용**"
      ]
    },
    {
      "cell_type": "markdown",
      "metadata": {
        "id": "3n1kAGN-36lh"
      },
      "source": [
        "- Test_Data로 y_hat(예측값) 생성 및 MSE(Mean Squared Error) 계산"
      ]
    },
    {
      "cell_type": "code",
      "metadata": {
        "colab": {
          "base_uri": "https://localhost:8080/"
        },
        "id": "JiuUdIa14ENd",
        "outputId": "53433e55-cddb-4622-d654-a98f3b83dea7"
      },
      "source": [
        "PX9_TE = poly.fit_transform(X_test)\n",
        "\n",
        "mean_squared_error(y_test, Model_9.predict(PX9_TE))"
      ],
      "execution_count": 72,
      "outputs": [
        {
          "output_type": "execute_result",
          "data": {
            "text/plain": [
              "4220.88573210769"
            ]
          },
          "metadata": {
            "tags": []
          },
          "execution_count": 72
        }
      ]
    },
    {
      "cell_type": "code",
      "metadata": {
        "id": "dZ6B5_3k4Nbs"
      },
      "source": [
        ""
      ],
      "execution_count": 72,
      "outputs": []
    }
  ]
}