{
  "nbformat": 4,
  "nbformat_minor": 0,
  "metadata": {
    "colab": {
      "name": "003_Cross Entopy Error.ipynb",
      "provenance": [],
      "collapsed_sections": []
    },
    "kernelspec": {
      "name": "python3",
      "display_name": "Python 3"
    },
    "language_info": {
      "name": "python"
    }
  },
  "cells": [
    {
      "cell_type": "markdown",
      "metadata": {
        "id": "aZP5RgC3ygKx"
      },
      "source": [
        "# **Cross Entropy Error**"
      ]
    },
    {
      "cell_type": "code",
      "metadata": {
        "id": "zohTZJAkyu0O"
      },
      "source": [
        "import warnings\n",
        "warnings.filterwarnings('ignore')"
      ],
      "execution_count": 1,
      "outputs": []
    },
    {
      "cell_type": "markdown",
      "metadata": {
        "id": "hhUKL0ynyyUa"
      },
      "source": [
        "# **I. Cross Entropy**"
      ]
    },
    {
      "cell_type": "markdown",
      "metadata": {
        "id": "bAJiyhzby2L6"
      },
      "source": [
        "- 서로 다른 사건의 확률을 곱하여 Entropy를 계산\n",
        "  - $y$ : 실제값, $\\hat y$ : 예측값(can be incorrecy)\n",
        "- $y$를 Cross Entropy의 가중치로 적용\n",
        "  - Binary Cross Entropy Error = $-y \\times log(\\hat y) - (1-y) \\times log(-1\\hat y)$\n",
        "  - Categorical Cross Entropy Error = $-y \\times log(\\hat y)$"
      ]
    },
    {
      "cell_type": "markdown",
      "metadata": {
        "id": "bapwMJbMzSkl"
      },
      "source": [
        "> ## **1) $y = 1$ vs. $\\hat y = 1$**"
      ]
    },
    {
      "cell_type": "code",
      "metadata": {
        "colab": {
          "base_uri": "https://localhost:8080/"
        },
        "id": "RieLYSdg0R6S",
        "outputId": "7f2f6698-0327-499b-c5e7-7e1876e9a08c"
      },
      "source": [
        "import numpy as np\n",
        "\n",
        "y = 1\n",
        "y_hat = 1\n",
        "\n",
        "-y * np.log(y_hat)"
      ],
      "execution_count": 2,
      "outputs": [
        {
          "output_type": "execute_result",
          "data": {
            "text/plain": [
              "-0.0"
            ]
          },
          "metadata": {
            "tags": []
          },
          "execution_count": 2
        }
      ]
    },
    {
      "cell_type": "markdown",
      "metadata": {
        "id": "UREzOLTb0bVn"
      },
      "source": [
        "> ## **2) $y = 1$ vs. $\\hat y = 0.0001$**"
      ]
    },
    {
      "cell_type": "code",
      "metadata": {
        "colab": {
          "base_uri": "https://localhost:8080/"
        },
        "id": "Lzs1dH_l0ft5",
        "outputId": "5c618a81-a7fd-4ff0-da68-847794e25d37"
      },
      "source": [
        "y = 1\n",
        "y_hat = 0.0001\n",
        "\n",
        "-y * np.log(y_hat)"
      ],
      "execution_count": 3,
      "outputs": [
        {
          "output_type": "execute_result",
          "data": {
            "text/plain": [
              "9.210340371976182"
            ]
          },
          "metadata": {
            "tags": []
          },
          "execution_count": 3
        }
      ]
    },
    {
      "cell_type": "markdown",
      "metadata": {
        "id": "X7xkRBtG0lBO"
      },
      "source": [
        "> ## **3) $y = 0$ vs. $\\hat y = 0$**"
      ]
    },
    {
      "cell_type": "code",
      "metadata": {
        "colab": {
          "base_uri": "https://localhost:8080/"
        },
        "id": "mjYV--4X0qJY",
        "outputId": "723b448d-38c9-4f6d-a2b1-c6ed0a21076a"
      },
      "source": [
        "y = 0\n",
        "y_hat = 0\n",
        "\n",
        "-(1 - y) * np.log(1 - y_hat)"
      ],
      "execution_count": 4,
      "outputs": [
        {
          "output_type": "execute_result",
          "data": {
            "text/plain": [
              "-0.0"
            ]
          },
          "metadata": {
            "tags": []
          },
          "execution_count": 4
        }
      ]
    },
    {
      "cell_type": "markdown",
      "metadata": {
        "id": "KXf1MYVU0v_i"
      },
      "source": [
        "> ## **4) $y = 0$ vs. $\\hat y = 0.9999$**"
      ]
    },
    {
      "cell_type": "code",
      "metadata": {
        "colab": {
          "base_uri": "https://localhost:8080/"
        },
        "id": "dgXl3Im702xg",
        "outputId": "1f086c33-e7ab-45ff-dc88-da81ce793587"
      },
      "source": [
        "y = 0\n",
        "y_hat = 0.9999\n",
        "\n",
        "-(1 - y) * np.log(1 - y_hat)"
      ],
      "execution_count": 5,
      "outputs": [
        {
          "output_type": "execute_result",
          "data": {
            "text/plain": [
              "9.210340371976294"
            ]
          },
          "metadata": {
            "tags": []
          },
          "execution_count": 5
        }
      ]
    },
    {
      "cell_type": "markdown",
      "metadata": {
        "id": "_Fr0qvLI08qI"
      },
      "source": [
        "# **II. Information Theory**"
      ]
    },
    {
      "cell_type": "markdown",
      "metadata": {
        "id": "Ma21PbDi1BYD"
      },
      "source": [
        "## **1) 발생 확률이 서로 다른 사건 A, B, C - Information Gain**"
      ]
    },
    {
      "cell_type": "markdown",
      "metadata": {
        "id": "hduVC8eI1HwY"
      },
      "source": [
        "- Information Gain(정보 이득량)\n",
        "  - **자주 발생하지 않는 사건은 자주 발생하는 사건보다 전달하는 정보량이 많음**\n",
        "  - Information Gain(정보 이득량)은 정보의 희귀성(발생 가능성)에 반비례\n",
        "  - $I(x) = -log(P(x))$"
      ]
    },
    {
      "cell_type": "code",
      "metadata": {
        "colab": {
          "base_uri": "https://localhost:8080/"
        },
        "id": "qB9XiQr51dco",
        "outputId": "58a1b7dc-42b8-4796-dbdc-16cfd6c2a3d8"
      },
      "source": [
        "A = 0.9\n",
        "B = 0.5\n",
        "C = 0.1\n",
        "\n",
        "print('%.3f' % -np.log(A), '%.3f' % -np.log(B), '%.3f' % -np.log(C))"
      ],
      "execution_count": 6,
      "outputs": [
        {
          "output_type": "stream",
          "text": [
            "0.105 0.693 2.303\n"
          ],
          "name": "stdout"
        }
      ]
    },
    {
      "cell_type": "markdown",
      "metadata": {
        "id": "_E_4l6lq2Tpe"
      },
      "source": [
        "> ## **2) AlphaGo와 Apes의 바둑 대결 승리 확률 - Degree of Surprise**"
      ]
    },
    {
      "cell_type": "markdown",
      "metadata": {
        "id": "i105IsI72c0Q"
      },
      "source": [
        "- Degree of Surprise(놀람의 정도)\n",
        "  - 예상하기 어려운 정보에 더 높은 가치를 매기는 것"
      ]
    },
    {
      "cell_type": "code",
      "metadata": {
        "colab": {
          "base_uri": "https://localhost:8080/"
        },
        "id": "U7OvgH7a2il7",
        "outputId": "cf2feb70-9c87-45a6-c85e-ea01e4f5e49d"
      },
      "source": [
        "Alphago = 0.999\n",
        "Apes = 0.001\n",
        "\n",
        "print('%.3f' % -np.log(Alphago), '%.3f' % -np.log(Apes))"
      ],
      "execution_count": 7,
      "outputs": [
        {
          "output_type": "stream",
          "text": [
            "0.001 6.908\n"
          ],
          "name": "stdout"
        }
      ]
    },
    {
      "cell_type": "markdown",
      "metadata": {
        "id": "zMWab_KN2sVa"
      },
      "source": [
        "# **III. Entropy**"
      ]
    },
    {
      "cell_type": "markdown",
      "metadata": {
        "id": "7MMTFLky2x7Z"
      },
      "source": [
        "- 불확실성의 정도\n",
        "  - Entropy = $E(-log(P(x))$\n",
        "- 확률변수의 평균 정보량(기댓값)\n",
        "  - $-sum(p(x) \\times log(p(x)))$\n",
        "- 불확실성(Entropy)이 낮으면 분류 정확도가 높아짐"
      ]
    },
    {
      "cell_type": "markdown",
      "metadata": {
        "id": "hnVYJ-7h3LE4"
      },
      "source": [
        "> ## **1) 승률이 비슷한 두 팀의 Entropy**"
      ]
    },
    {
      "cell_type": "code",
      "metadata": {
        "colab": {
          "base_uri": "https://localhost:8080/"
        },
        "id": "wynvYt4V3UAq",
        "outputId": "88ae371d-ab6b-4831-ca74-4d0a2dc44d77"
      },
      "source": [
        "P1 = 0.5\n",
        "P2 = 0.5\n",
        "\n",
        "-P1 * np.log(P1) - P2 * np.log(P2)"
      ],
      "execution_count": 8,
      "outputs": [
        {
          "output_type": "execute_result",
          "data": {
            "text/plain": [
              "0.6931471805599453"
            ]
          },
          "metadata": {
            "tags": []
          },
          "execution_count": 8
        }
      ]
    },
    {
      "cell_type": "markdown",
      "metadata": {
        "id": "zNZpIOh434Dm"
      },
      "source": [
        "> ## **승률 차이가 큰 두 팀의 Entropy**"
      ]
    },
    {
      "cell_type": "code",
      "metadata": {
        "colab": {
          "base_uri": "https://localhost:8080/"
        },
        "id": "L_IjFuec3-FR",
        "outputId": "12506ef2-7d0b-4cee-9d87-0e815d8a49ff"
      },
      "source": [
        "P1 = 0.999\n",
        "P2 = 0.001\n",
        "\n",
        "-P1 * np.log(P1) - P2 * np.log(P2)"
      ],
      "execution_count": 9,
      "outputs": [
        {
          "output_type": "execute_result",
          "data": {
            "text/plain": [
              "0.007907255112232087"
            ]
          },
          "metadata": {
            "tags": []
          },
          "execution_count": 9
        }
      ]
    },
    {
      "cell_type": "code",
      "metadata": {
        "id": "TTLy43ah3_mr"
      },
      "source": [
        ""
      ],
      "execution_count": 9,
      "outputs": []
    }
  ]
}