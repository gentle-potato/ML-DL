{
  "nbformat": 4,
  "nbformat_minor": 0,
  "metadata": {
    "colab": {
      "name": "002_Binary_Classification.ipynb",
      "provenance": [],
      "collapsed_sections": [],
      "toc_visible": true
    },
    "kernelspec": {
      "name": "python3",
      "display_name": "Python 3"
    },
    "language_info": {
      "name": "python"
    }
  },
  "cells": [
    {
      "cell_type": "markdown",
      "metadata": {
        "id": "kZxw5Z13q_Qk"
      },
      "source": [
        "# **Binary Classification - 이진 분류**"
      ]
    },
    {
      "cell_type": "code",
      "metadata": {
        "id": "029v7ac5rgmX"
      },
      "source": [
        "import warnings\n",
        "warnings.filterwarnings('ignore')"
      ],
      "execution_count": 1,
      "outputs": []
    },
    {
      "cell_type": "markdown",
      "metadata": {
        "id": "8XDQjCt0rlOR"
      },
      "source": [
        "# **실습용 데이터 설정**"
      ]
    },
    {
      "cell_type": "markdown",
      "metadata": {
        "id": "jyZ1AY0DroC3"
      },
      "source": [
        "- pandas DataFrame\n",
        "  - Default.csv"
      ]
    },
    {
      "cell_type": "code",
      "metadata": {
        "colab": {
          "base_uri": "https://localhost:8080/"
        },
        "id": "lxMriOR-rsa-",
        "outputId": "e7ac2db3-527f-4491-bd9f-489191dfa513"
      },
      "source": [
        "import pandas as pd\n",
        "\n",
        "DF = pd.read_csv('https://raw.githubusercontent.com/rusita-ai/pyData/master/Default.csv')\n",
        "\n",
        "DF.info()"
      ],
      "execution_count": 2,
      "outputs": [
        {
          "output_type": "stream",
          "text": [
            "<class 'pandas.core.frame.DataFrame'>\n",
            "RangeIndex: 10000 entries, 0 to 9999\n",
            "Data columns (total 4 columns):\n",
            " #   Column   Non-Null Count  Dtype  \n",
            "---  ------   --------------  -----  \n",
            " 0   default  10000 non-null  object \n",
            " 1   student  10000 non-null  object \n",
            " 2   balance  10000 non-null  float64\n",
            " 3   income   10000 non-null  float64\n",
            "dtypes: float64(2), object(2)\n",
            "memory usage: 312.6+ KB\n"
          ],
          "name": "stdout"
        }
      ]
    },
    {
      "cell_type": "code",
      "metadata": {
        "colab": {
          "base_uri": "https://localhost:8080/",
          "height": 204
        },
        "id": "vm3mv9eJryv4",
        "outputId": "0d4067fe-b7fb-49ec-eb66-d3a3c46ebc30"
      },
      "source": [
        "DF.head()"
      ],
      "execution_count": 3,
      "outputs": [
        {
          "output_type": "execute_result",
          "data": {
            "text/html": [
              "<div>\n",
              "<style scoped>\n",
              "    .dataframe tbody tr th:only-of-type {\n",
              "        vertical-align: middle;\n",
              "    }\n",
              "\n",
              "    .dataframe tbody tr th {\n",
              "        vertical-align: top;\n",
              "    }\n",
              "\n",
              "    .dataframe thead th {\n",
              "        text-align: right;\n",
              "    }\n",
              "</style>\n",
              "<table border=\"1\" class=\"dataframe\">\n",
              "  <thead>\n",
              "    <tr style=\"text-align: right;\">\n",
              "      <th></th>\n",
              "      <th>default</th>\n",
              "      <th>student</th>\n",
              "      <th>balance</th>\n",
              "      <th>income</th>\n",
              "    </tr>\n",
              "  </thead>\n",
              "  <tbody>\n",
              "    <tr>\n",
              "      <th>0</th>\n",
              "      <td>No</td>\n",
              "      <td>No</td>\n",
              "      <td>729.526495</td>\n",
              "      <td>44361.62507</td>\n",
              "    </tr>\n",
              "    <tr>\n",
              "      <th>1</th>\n",
              "      <td>No</td>\n",
              "      <td>Yes</td>\n",
              "      <td>817.180407</td>\n",
              "      <td>12106.13470</td>\n",
              "    </tr>\n",
              "    <tr>\n",
              "      <th>2</th>\n",
              "      <td>No</td>\n",
              "      <td>No</td>\n",
              "      <td>1073.549164</td>\n",
              "      <td>31767.13895</td>\n",
              "    </tr>\n",
              "    <tr>\n",
              "      <th>3</th>\n",
              "      <td>No</td>\n",
              "      <td>No</td>\n",
              "      <td>529.250605</td>\n",
              "      <td>35704.49394</td>\n",
              "    </tr>\n",
              "    <tr>\n",
              "      <th>4</th>\n",
              "      <td>No</td>\n",
              "      <td>No</td>\n",
              "      <td>785.655883</td>\n",
              "      <td>38463.49588</td>\n",
              "    </tr>\n",
              "  </tbody>\n",
              "</table>\n",
              "</div>"
            ],
            "text/plain": [
              "  default student      balance       income\n",
              "0      No      No   729.526495  44361.62507\n",
              "1      No     Yes   817.180407  12106.13470\n",
              "2      No      No  1073.549164  31767.13895\n",
              "3      No      No   529.250605  35704.49394\n",
              "4      No      No   785.655883  38463.49588"
            ]
          },
          "metadata": {
            "tags": []
          },
          "execution_count": 3
        }
      ]
    },
    {
      "cell_type": "markdown",
      "metadata": {
        "id": "9Zf8wlAzr1A-"
      },
      "source": [
        "# **I. 탐색적 데이터 분석(EDA)**"
      ]
    },
    {
      "cell_type": "markdown",
      "metadata": {
        "id": "ZHasi24ur52m"
      },
      "source": [
        "> ## **1) 빈도분석**"
      ]
    },
    {
      "cell_type": "code",
      "metadata": {
        "colab": {
          "base_uri": "https://localhost:8080/"
        },
        "id": "limscOAIr8Cs",
        "outputId": "22ed78d2-35d5-4f13-e1f2-5a9a98b6a80c"
      },
      "source": [
        "DF.default.value_counts()"
      ],
      "execution_count": 4,
      "outputs": [
        {
          "output_type": "execute_result",
          "data": {
            "text/plain": [
              "No     9667\n",
              "Yes     333\n",
              "Name: default, dtype: int64"
            ]
          },
          "metadata": {
            "tags": []
          },
          "execution_count": 4
        }
      ]
    },
    {
      "cell_type": "markdown",
      "metadata": {
        "id": "JK5shou5r_Dz"
      },
      "source": [
        "> ## **2) 분포 시각화**"
      ]
    },
    {
      "cell_type": "code",
      "metadata": {
        "colab": {
          "base_uri": "https://localhost:8080/",
          "height": 374
        },
        "id": "0rM8_7vIsC_W",
        "outputId": "004df6eb-ac29-4734-dffc-422e31b82c49"
      },
      "source": [
        "import matplotlib.pyplot as plt\n",
        "\n",
        "plt.figure(figsize=(9, 6))\n",
        "plt.boxplot([DF[DF.default == 'No'].balance,\n",
        "             DF[DF.default == 'Yes']. balance],\n",
        "             labels=['No', 'Yes'])\n",
        "plt.show()"
      ],
      "execution_count": 5,
      "outputs": [
        {
          "output_type": "display_data",
          "data": {
            "image/png": "[encoded data removed]",
            "text/plain": [
              "<Figure size 648x432 with 1 Axes>"
            ]
          },
          "metadata": {
            "tags": [],
            "needs_background": "light"
          }
        }
      ]
    },
    {
      "cell_type": "markdown",
      "metadata": {
        "id": "LMG5E0UQsb1B"
      },
      "source": [
        "# **II. Data Preprocessing**"
      ]
    },
    {
      "cell_type": "markdown",
      "metadata": {
        "id": "hAgr_aWSsi1N"
      },
      "source": [
        "> ## **1) Standardization**"
      ]
    },
    {
      "cell_type": "code",
      "metadata": {
        "id": "JdV2Dpjxsloz"
      },
      "source": [
        "X = DF[['balance']]\n",
        "y = DF['default']"
      ],
      "execution_count": 6,
      "outputs": []
    },
    {
      "cell_type": "code",
      "metadata": {
        "colab": {
          "base_uri": "https://localhost:8080/"
        },
        "id": "AakQTYQ3srOx",
        "outputId": "005704ad-f836-4ccb-ca76-23cc5522f35e"
      },
      "source": [
        "from sklearn.preprocessing import StandardScaler\n",
        "\n",
        "scaler = StandardScaler()\n",
        "X_Scaled = scaler.fit_transform(X)\n",
        "\n",
        "X_Scaled[:5]"
      ],
      "execution_count": 7,
      "outputs": [
        {
          "output_type": "execute_result",
          "data": {
            "text/plain": [
              "array([[-0.21883482],\n",
              "       [-0.03761593],\n",
              "       [ 0.49241019],\n",
              "       [-0.6328925 ],\n",
              "       [-0.10279088]])"
            ]
          },
          "metadata": {
            "tags": []
          },
          "execution_count": 7
        }
      ]
    },
    {
      "cell_type": "markdown",
      "metadata": {
        "id": "GpU0cxRrs3jm"
      },
      "source": [
        "> ## **2) Train & Test Split**"
      ]
    },
    {
      "cell_type": "markdown",
      "metadata": {
        "id": "ip5bxc7Zs8Z9"
      },
      "source": [
        "- 7:3"
      ]
    },
    {
      "cell_type": "code",
      "metadata": {
        "colab": {
          "base_uri": "https://localhost:8080/"
        },
        "id": "AWCCoIX_s9po",
        "outputId": "00092fad-31bd-41b0-943f-3a248f807b77"
      },
      "source": [
        "from sklearn.model_selection import train_test_split\n",
        "\n",
        "X_train, X_test, y_train, y_test = train_test_split(X_Scaled, y,\n",
        "                                                    test_size=0.3,\n",
        "                                                    random_state=2045)\n",
        "\n",
        "print('Train Data :', X_train.shape, y_train.shape)\n",
        "print('Test Data :', X_test.shape, y_test.shape)"
      ],
      "execution_count": 8,
      "outputs": [
        {
          "output_type": "stream",
          "text": [
            "Train Data : (7000, 1) (7000,)\n",
            "Test Data : (3000, 1) (3000,)\n"
          ],
          "name": "stdout"
        }
      ]
    },
    {
      "cell_type": "markdown",
      "metadata": {
        "id": "84lo6cXrtTTX"
      },
      "source": [
        "# **III. Modeling**"
      ]
    },
    {
      "cell_type": "markdown",
      "metadata": {
        "id": "53z-2TI2tnSA"
      },
      "source": [
        "> ## **1) Train_Data로 Model 생성**"
      ]
    },
    {
      "cell_type": "code",
      "metadata": {
        "colab": {
          "base_uri": "https://localhost:8080/"
        },
        "id": "e_XClVM-trRr",
        "outputId": "9eca25ef-8024-49de-e8e2-c2128ddf15fe"
      },
      "source": [
        "from sklearn.linear_model import LogisticRegression\n",
        "\n",
        "Model_lr = LogisticRegression()\n",
        "Model_lr.fit(X_train, y_train)"
      ],
      "execution_count": 9,
      "outputs": [
        {
          "output_type": "execute_result",
          "data": {
            "text/plain": [
              "LogisticRegression(C=1.0, class_weight=None, dual=False, fit_intercept=True,\n",
              "                   intercept_scaling=1, l1_ratio=None, max_iter=100,\n",
              "                   multi_class='auto', n_jobs=None, penalty='l2',\n",
              "                   random_state=None, solver='lbfgs', tol=0.0001, verbose=0,\n",
              "                   warm_start=False)"
            ]
          },
          "metadata": {
            "tags": []
          },
          "execution_count": 9
        }
      ]
    },
    {
      "cell_type": "markdown",
      "metadata": {
        "id": "-h9tMnfrtviZ"
      },
      "source": [
        "> ## **2) Test_Data에 Model 적용**"
      ]
    },
    {
      "cell_type": "code",
      "metadata": {
        "colab": {
          "base_uri": "https://localhost:8080/"
        },
        "id": "iWRAVsItt7ZR",
        "outputId": "91410afd-cd99-4ebf-f12d-5306aeb0291b"
      },
      "source": [
        "y_hat = Model_lr.predict(X_test)\n",
        "\n",
        "y_hat"
      ],
      "execution_count": 10,
      "outputs": [
        {
          "output_type": "execute_result",
          "data": {
            "text/plain": [
              "array(['No', 'No', 'No', ..., 'No', 'No', 'No'], dtype=object)"
            ]
          },
          "metadata": {
            "tags": []
          },
          "execution_count": 10
        }
      ]
    },
    {
      "cell_type": "markdown",
      "metadata": {
        "id": "fKpKOVD6uAxP"
      },
      "source": [
        "# **IV. Model Validation**"
      ]
    },
    {
      "cell_type": "markdown",
      "metadata": {
        "id": "fEwE-GLMuFPs"
      },
      "source": [
        "> ## **1) Accuracy**"
      ]
    },
    {
      "cell_type": "markdown",
      "metadata": {
        "id": "2OnWZNSJuICY"
      },
      "source": [
        "- Train Accuracy"
      ]
    },
    {
      "cell_type": "code",
      "metadata": {
        "colab": {
          "base_uri": "https://localhost:8080/"
        },
        "id": "IOQ24LsbuKQ4",
        "outputId": "03d2d5b5-e55c-494f-ba51-0ad0bb376030"
      },
      "source": [
        "Model_lr.score(X_train, y_train)"
      ],
      "execution_count": 11,
      "outputs": [
        {
          "output_type": "execute_result",
          "data": {
            "text/plain": [
              "0.9724285714285714"
            ]
          },
          "metadata": {
            "tags": []
          },
          "execution_count": 11
        }
      ]
    },
    {
      "cell_type": "markdown",
      "metadata": {
        "id": "SB3vcMG4uM43"
      },
      "source": [
        "- Test Accuracy"
      ]
    },
    {
      "cell_type": "code",
      "metadata": {
        "colab": {
          "base_uri": "https://localhost:8080/"
        },
        "id": "PzRvGf87uQfA",
        "outputId": "06c3e1d4-2b7e-4d45-da2b-63a5216c600b"
      },
      "source": [
        "Model_lr.score(X_test, y_test)"
      ],
      "execution_count": 12,
      "outputs": [
        {
          "output_type": "execute_result",
          "data": {
            "text/plain": [
              "0.9736666666666667"
            ]
          },
          "metadata": {
            "tags": []
          },
          "execution_count": 12
        }
      ]
    },
    {
      "cell_type": "markdown",
      "metadata": {
        "id": "7z5uogfhuSnG"
      },
      "source": [
        "> ## **2) Confusion Matrix**"
      ]
    },
    {
      "cell_type": "markdown",
      "metadata": {
        "id": "RftGFUauuWc7"
      },
      "source": [
        "- 'No(상환)' 기준"
      ]
    },
    {
      "cell_type": "code",
      "metadata": {
        "colab": {
          "base_uri": "https://localhost:8080/"
        },
        "id": "-14AqHt4uZEk",
        "outputId": "ac6f5afb-0075-4c3a-a08b-87431a7b2165"
      },
      "source": [
        "from sklearn.metrics import confusion_matrix\n",
        "\n",
        "confusion_matrix(y_test, y_hat)"
      ],
      "execution_count": 13,
      "outputs": [
        {
          "output_type": "execute_result",
          "data": {
            "text/plain": [
              "array([[2889,    7],\n",
              "       [  72,   32]])"
            ]
          },
          "metadata": {
            "tags": []
          },
          "execution_count": 13
        }
      ]
    },
    {
      "cell_type": "markdown",
      "metadata": {
        "id": "NDXCkPoiugvA"
      },
      "source": [
        "- 'Yes(연체)' 기준"
      ]
    },
    {
      "cell_type": "code",
      "metadata": {
        "colab": {
          "base_uri": "https://localhost:8080/"
        },
        "id": "2kLdUTgNuk_k",
        "outputId": "00dadb5d-f7ba-454a-984f-e31b7ed99f02"
      },
      "source": [
        "from sklearn.metrics import confusion_matrix\n",
        "\n",
        "confusion_matrix(y_test, y_hat, labels=['Yes', 'No'])"
      ],
      "execution_count": 14,
      "outputs": [
        {
          "output_type": "execute_result",
          "data": {
            "text/plain": [
              "array([[  32,   72],\n",
              "       [   7, 2889]])"
            ]
          },
          "metadata": {
            "tags": []
          },
          "execution_count": 14
        }
      ]
    },
    {
      "cell_type": "markdown",
      "metadata": {
        "id": "yUrLwJPCusRB"
      },
      "source": [
        "> ## **3) Accuracy, Precision, Recall - 'No(상환)**"
      ]
    },
    {
      "cell_type": "code",
      "metadata": {
        "colab": {
          "base_uri": "https://localhost:8080/"
        },
        "id": "joexN3KDu1oW",
        "outputId": "b2122a8f-c0b5-4c72-cfc6-5f800219f4e8"
      },
      "source": [
        "from sklearn.metrics import accuracy_score, precision_score, recall_score\n",
        "\n",
        "print(accuracy_score(y_test, y_hat))\n",
        "print(precision_score(y_test, y_hat, pos_label='No'))   # 양성 레이블을 지정해줘야 함\n",
        "print(recall_score(y_test, y_hat, pos_label='No'))      # 양성 레이블을 지정해줘야 함"
      ],
      "execution_count": 15,
      "outputs": [
        {
          "output_type": "stream",
          "text": [
            "0.9736666666666667\n",
            "0.9756838905775076\n",
            "0.9975828729281768\n"
          ],
          "name": "stdout"
        }
      ]
    },
    {
      "cell_type": "markdown",
      "metadata": {
        "id": "eSh07S5rvQkL"
      },
      "source": [
        "> ## **4) Accuracy, Precision, Recall - 'Yes(연체)**"
      ]
    },
    {
      "cell_type": "code",
      "metadata": {
        "colab": {
          "base_uri": "https://localhost:8080/"
        },
        "id": "C1YsU13UvYpS",
        "outputId": "dc61b26e-f647-4e0f-fad1-035804e74c60"
      },
      "source": [
        "from sklearn.metrics import accuracy_score, precision_score, recall_score\n",
        "\n",
        "print(accuracy_score(y_test, y_hat))\n",
        "print(precision_score(y_test, y_hat, pos_label='Yes'))   # 양성 레이블을 지정해줘야 함\n",
        "print(recall_score(y_test, y_hat, pos_label='Yes'))      # 양성 레이블을 지정해줘야 함"
      ],
      "execution_count": 16,
      "outputs": [
        {
          "output_type": "stream",
          "text": [
            "0.9736666666666667\n",
            "0.8205128205128205\n",
            "0.3076923076923077\n"
          ],
          "name": "stdout"
        }
      ]
    },
    {
      "cell_type": "markdown",
      "metadata": {
        "id": "MyIDRCPGvcJc"
      },
      "source": [
        "> ## **5) F1_Score - 'No(상환)'**"
      ]
    },
    {
      "cell_type": "code",
      "metadata": {
        "colab": {
          "base_uri": "https://localhost:8080/"
        },
        "id": "0nzRCHvdvhRw",
        "outputId": "67556bad-0c00-4fab-8951-3f85f58a847a"
      },
      "source": [
        "from sklearn.metrics import f1_score\n",
        "\n",
        "f1_score(y_test, y_hat, pos_label='No')"
      ],
      "execution_count": 17,
      "outputs": [
        {
          "output_type": "execute_result",
          "data": {
            "text/plain": [
              "0.9865118661430767"
            ]
          },
          "metadata": {
            "tags": []
          },
          "execution_count": 17
        }
      ]
    },
    {
      "cell_type": "markdown",
      "metadata": {
        "id": "-6wMBvFFvrbu"
      },
      "source": [
        "> ## **6) F1_Score - 'Yes(연체)'**"
      ]
    },
    {
      "cell_type": "code",
      "metadata": {
        "colab": {
          "base_uri": "https://localhost:8080/"
        },
        "id": "9gxX5Bh9vvui",
        "outputId": "562fc051-8ffb-423f-ea11-263af04439ee"
      },
      "source": [
        "from sklearn.metrics import f1_score\n",
        "\n",
        "f1_score(y_test, y_hat, pos_label='Yes')"
      ],
      "execution_count": 18,
      "outputs": [
        {
          "output_type": "execute_result",
          "data": {
            "text/plain": [
              "0.44755244755244755"
            ]
          },
          "metadata": {
            "tags": []
          },
          "execution_count": 18
        }
      ]
    },
    {
      "cell_type": "markdown",
      "metadata": {
        "id": "XqlikRGXv9Ec"
      },
      "source": [
        "> ## **7) Classification Report**"
      ]
    },
    {
      "cell_type": "code",
      "metadata": {
        "colab": {
          "base_uri": "https://localhost:8080/"
        },
        "id": "BwXoGn4PwQvH",
        "outputId": "2171bd4d-127d-4fd0-9600-f798c8a375a1"
      },
      "source": [
        "from sklearn.metrics import classification_report\n",
        "\n",
        "print(classification_report(y_test, y_hat,\n",
        "                            target_names=['No', 'Yes'],\n",
        "                            digits=5))"
      ],
      "execution_count": 19,
      "outputs": [
        {
          "output_type": "stream",
          "text": [
            "              precision    recall  f1-score   support\n",
            "\n",
            "          No    0.97568   0.99758   0.98651      2896\n",
            "         Yes    0.82051   0.30769   0.44755       104\n",
            "\n",
            "    accuracy                        0.97367      3000\n",
            "   macro avg    0.89810   0.65264   0.71703      3000\n",
            "weighted avg    0.97030   0.97367   0.96783      3000\n",
            "\n"
          ],
          "name": "stdout"
        }
      ]
    },
    {
      "cell_type": "code",
      "metadata": {
        "id": "H-dIixOfwU8E"
      },
      "source": [
        ""
      ],
      "execution_count": 19,
      "outputs": []
    }
  ]
}