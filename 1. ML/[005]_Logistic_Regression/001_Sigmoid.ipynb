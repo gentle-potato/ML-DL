{
  "nbformat": 4,
  "nbformat_minor": 0,
  "metadata": {
    "colab": {
      "name": "001_Sigmoid.ipynb",
      "provenance": [],
      "collapsed_sections": [],
      "toc_visible": true
    },
    "kernelspec": {
      "name": "python3",
      "display_name": "Python 3"
    },
    "language_info": {
      "name": "python"
    }
  },
  "cells": [
    {
      "cell_type": "markdown",
      "metadata": {
        "id": "owq16C75pjRX"
      },
      "source": [
        "# **Sigmoid Function**"
      ]
    },
    {
      "cell_type": "code",
      "metadata": {
        "id": "VpzppN5NpsjO"
      },
      "source": [
        "import warnings\n",
        "warnings.filterwarnings('ignore')"
      ],
      "execution_count": 1,
      "outputs": []
    },
    {
      "cell_type": "markdown",
      "metadata": {
        "id": "KpYT9CPopzXE"
      },
      "source": [
        "# **I. Sigmoid Activation**"
      ]
    },
    {
      "cell_type": "markdown",
      "metadata": {
        "id": "pk9kGsV_p2lr"
      },
      "source": [
        "> ## **1) sigmoid() 정의**"
      ]
    },
    {
      "cell_type": "code",
      "metadata": {
        "id": "lLjaaJnqqQHo"
      },
      "source": [
        "import numpy as np\n",
        "\n",
        "def sigmoid(x):\n",
        "  y_hat = 1 / (1 + np.exp(-x))\n",
        "  return y_hat"
      ],
      "execution_count": 2,
      "outputs": []
    },
    {
      "cell_type": "markdown",
      "metadata": {
        "id": "e-NCkwkZqagl"
      },
      "source": [
        "> ## **2) sigmoid() 실행**"
      ]
    },
    {
      "cell_type": "code",
      "metadata": {
        "colab": {
          "base_uri": "https://localhost:8080/"
        },
        "id": "daYmP685qfbj",
        "outputId": "f0308d20-461e-4b98-f10b-435592d5b6d7"
      },
      "source": [
        "sigmoid(0)"
      ],
      "execution_count": 3,
      "outputs": [
        {
          "output_type": "execute_result",
          "data": {
            "text/plain": [
              "0.5"
            ]
          },
          "metadata": {
            "tags": []
          },
          "execution_count": 3
        }
      ]
    },
    {
      "cell_type": "code",
      "metadata": {
        "colab": {
          "base_uri": "https://localhost:8080/"
        },
        "id": "5p0dMmGZqhY3",
        "outputId": "e7484056-e47c-4c3a-99dc-ba936e9a14c5"
      },
      "source": [
        "sigmoid(1000000)"
      ],
      "execution_count": 4,
      "outputs": [
        {
          "output_type": "execute_result",
          "data": {
            "text/plain": [
              "1.0"
            ]
          },
          "metadata": {
            "tags": []
          },
          "execution_count": 4
        }
      ]
    },
    {
      "cell_type": "code",
      "metadata": {
        "colab": {
          "base_uri": "https://localhost:8080/"
        },
        "id": "4ZDryNHbqi-y",
        "outputId": "e5058cf9-095f-437d-aa34-e971f61b0567"
      },
      "source": [
        "sigmoid(-1000000)"
      ],
      "execution_count": 5,
      "outputs": [
        {
          "output_type": "execute_result",
          "data": {
            "text/plain": [
              "0.0"
            ]
          },
          "metadata": {
            "tags": []
          },
          "execution_count": 5
        }
      ]
    },
    {
      "cell_type": "markdown",
      "metadata": {
        "id": "KKtJiH0Gql3l"
      },
      "source": [
        "> ## **3) sigmoid() 시각화**"
      ]
    },
    {
      "cell_type": "code",
      "metadata": {
        "colab": {
          "base_uri": "https://localhost:8080/",
          "height": 374
        },
        "id": "Lwe12qW0qp6c",
        "outputId": "a2ed33e6-cbe4-424e-a7e9-3ae6c600a04d"
      },
      "source": [
        "import matplotlib.pyplot as plt\n",
        "\n",
        "n = np.linspace(-10.0, 10.0, 2000)\n",
        "\n",
        "plt.figure(figsize=(9, 6))\n",
        "plt.plot(n, sigmoid(n))\n",
        "plt.show()"
      ],
      "execution_count": 6,
      "outputs": [
        {
          "output_type": "display_data",
          "data": {
            "image/png": "[encoded data removed]",
            "text/plain": [
              "<Figure size 648x432 with 1 Axes>"
            ]
          },
          "metadata": {
            "tags": [],
            "needs_background": "light"
          }
        }
      ]
    },
    {
      "cell_type": "code",
      "metadata": {
        "id": "ewgu-D93q034"
      },
      "source": [
        ""
      ],
      "execution_count": null,
      "outputs": []
    }
  ]
}