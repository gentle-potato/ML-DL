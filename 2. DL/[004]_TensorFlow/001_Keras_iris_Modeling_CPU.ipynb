{
  "nbformat": 4,
  "nbformat_minor": 0,
  "metadata": {
    "colab": {
      "name": "001_Keras_iris_Modeling_CPU.ipynb",
      "provenance": [],
      "collapsed_sections": [],
      "toc_visible": true
    },
    "kernelspec": {
      "name": "python3",
      "display_name": "Python 3"
    },
    "language_info": {
      "name": "python"
    }
  },
  "cells": [
    {
      "cell_type": "markdown",
      "metadata": {
        "id": "YZsFrHc7OV_1"
      },
      "source": [
        "# **Keras iris Modeling**"
      ]
    },
    {
      "cell_type": "code",
      "metadata": {
        "id": "ApS--LlyPRle"
      },
      "source": [
        "import warnings\n",
        "warnings.filterwarnings('ignore')"
      ],
      "execution_count": 1,
      "outputs": []
    },
    {
      "cell_type": "markdown",
      "metadata": {
        "id": "j0Cg7bMIPUk9"
      },
      "source": [
        "- 실습용 데이터 설정\n",
        "  - iris.csv"
      ]
    },
    {
      "cell_type": "code",
      "metadata": {
        "id": "R3-bokr4PXL7"
      },
      "source": [
        "import seaborn as sns\n",
        "\n",
        "iris = sns.load_dataset('iris')"
      ],
      "execution_count": 2,
      "outputs": []
    },
    {
      "cell_type": "markdown",
      "metadata": {
        "id": "5hpFYKq6Pcwa"
      },
      "source": [
        "- pandas DataFrame"
      ]
    },
    {
      "cell_type": "code",
      "metadata": {
        "colab": {
          "base_uri": "https://localhost:8080/"
        },
        "id": "KHQFJk6APiGy",
        "outputId": "73a284f7-201e-4200-d15f-f7e2ce81b0fa"
      },
      "source": [
        "iris.info()"
      ],
      "execution_count": 3,
      "outputs": [
        {
          "output_type": "stream",
          "text": [
            "<class 'pandas.core.frame.DataFrame'>\n",
            "RangeIndex: 150 entries, 0 to 149\n",
            "Data columns (total 5 columns):\n",
            " #   Column        Non-Null Count  Dtype  \n",
            "---  ------        --------------  -----  \n",
            " 0   sepal_length  150 non-null    float64\n",
            " 1   sepal_width   150 non-null    float64\n",
            " 2   petal_length  150 non-null    float64\n",
            " 3   petal_width   150 non-null    float64\n",
            " 4   species       150 non-null    object \n",
            "dtypes: float64(4), object(1)\n",
            "memory usage: 6.0+ KB\n"
          ],
          "name": "stdout"
        }
      ]
    },
    {
      "cell_type": "code",
      "metadata": {
        "colab": {
          "base_uri": "https://localhost:8080/",
          "height": 204
        },
        "id": "b0p0VKvvPjLl",
        "outputId": "da23f787-ac8e-4193-d80c-5302996f6cec"
      },
      "source": [
        "iris.head()"
      ],
      "execution_count": 4,
      "outputs": [
        {
          "output_type": "execute_result",
          "data": {
            "text/html": [
              "<div>\n",
              "<style scoped>\n",
              "    .dataframe tbody tr th:only-of-type {\n",
              "        vertical-align: middle;\n",
              "    }\n",
              "\n",
              "    .dataframe tbody tr th {\n",
              "        vertical-align: top;\n",
              "    }\n",
              "\n",
              "    .dataframe thead th {\n",
              "        text-align: right;\n",
              "    }\n",
              "</style>\n",
              "<table border=\"1\" class=\"dataframe\">\n",
              "  <thead>\n",
              "    <tr style=\"text-align: right;\">\n",
              "      <th></th>\n",
              "      <th>sepal_length</th>\n",
              "      <th>sepal_width</th>\n",
              "      <th>petal_length</th>\n",
              "      <th>petal_width</th>\n",
              "      <th>species</th>\n",
              "    </tr>\n",
              "  </thead>\n",
              "  <tbody>\n",
              "    <tr>\n",
              "      <th>0</th>\n",
              "      <td>5.1</td>\n",
              "      <td>3.5</td>\n",
              "      <td>1.4</td>\n",
              "      <td>0.2</td>\n",
              "      <td>setosa</td>\n",
              "    </tr>\n",
              "    <tr>\n",
              "      <th>1</th>\n",
              "      <td>4.9</td>\n",
              "      <td>3.0</td>\n",
              "      <td>1.4</td>\n",
              "      <td>0.2</td>\n",
              "      <td>setosa</td>\n",
              "    </tr>\n",
              "    <tr>\n",
              "      <th>2</th>\n",
              "      <td>4.7</td>\n",
              "      <td>3.2</td>\n",
              "      <td>1.3</td>\n",
              "      <td>0.2</td>\n",
              "      <td>setosa</td>\n",
              "    </tr>\n",
              "    <tr>\n",
              "      <th>3</th>\n",
              "      <td>4.6</td>\n",
              "      <td>3.1</td>\n",
              "      <td>1.5</td>\n",
              "      <td>0.2</td>\n",
              "      <td>setosa</td>\n",
              "    </tr>\n",
              "    <tr>\n",
              "      <th>4</th>\n",
              "      <td>5.0</td>\n",
              "      <td>3.6</td>\n",
              "      <td>1.4</td>\n",
              "      <td>0.2</td>\n",
              "      <td>setosa</td>\n",
              "    </tr>\n",
              "  </tbody>\n",
              "</table>\n",
              "</div>"
            ],
            "text/plain": [
              "   sepal_length  sepal_width  petal_length  petal_width species\n",
              "0           5.1          3.5           1.4          0.2  setosa\n",
              "1           4.9          3.0           1.4          0.2  setosa\n",
              "2           4.7          3.2           1.3          0.2  setosa\n",
              "3           4.6          3.1           1.5          0.2  setosa\n",
              "4           5.0          3.6           1.4          0.2  setosa"
            ]
          },
          "metadata": {
            "tags": []
          },
          "execution_count": 4
        }
      ]
    },
    {
      "cell_type": "markdown",
      "metadata": {
        "id": "g1c9fsdLPk1G"
      },
      "source": [
        "# **I. Data Preprocessing**"
      ]
    },
    {
      "cell_type": "markdown",
      "metadata": {
        "id": "v0pEFnTFPo9F"
      },
      "source": [
        "> ## **1) iris.species 빈도분석**"
      ]
    },
    {
      "cell_type": "markdown",
      "metadata": {
        "id": "kEhsU0oQPuJk"
      },
      "source": [
        "- species : setosa, virginica, versicolor"
      ]
    },
    {
      "cell_type": "code",
      "metadata": {
        "colab": {
          "base_uri": "https://localhost:8080/"
        },
        "id": "556ICbBLPydJ",
        "outputId": "69996b84-2bcb-40fc-ee91-20b6c50f00a8"
      },
      "source": [
        "iris.species.value_counts()"
      ],
      "execution_count": 5,
      "outputs": [
        {
          "output_type": "execute_result",
          "data": {
            "text/plain": [
              "setosa        50\n",
              "versicolor    50\n",
              "virginica     50\n",
              "Name: species, dtype: int64"
            ]
          },
          "metadata": {
            "tags": []
          },
          "execution_count": 5
        }
      ]
    },
    {
      "cell_type": "markdown",
      "metadata": {
        "id": "NUgqUTL3P0fj"
      },
      "source": [
        "> ## **2) DataFrame to Array & Casting**"
      ]
    },
    {
      "cell_type": "code",
      "metadata": {
        "colab": {
          "base_uri": "https://localhost:8080/"
        },
        "id": "KugiscIbP8H5",
        "outputId": "db42ca61-069f-469b-af2f-aa3fbd01e4b7"
      },
      "source": [
        "iris_AR = iris.values\n",
        "\n",
        "iris_AR"
      ],
      "execution_count": 6,
      "outputs": [
        {
          "output_type": "execute_result",
          "data": {
            "text/plain": [
              "array([[5.1, 3.5, 1.4, 0.2, 'setosa'],\n",
              "       [4.9, 3.0, 1.4, 0.2, 'setosa'],\n",
              "       [4.7, 3.2, 1.3, 0.2, 'setosa'],\n",
              "       [4.6, 3.1, 1.5, 0.2, 'setosa'],\n",
              "       [5.0, 3.6, 1.4, 0.2, 'setosa'],\n",
              "       [5.4, 3.9, 1.7, 0.4, 'setosa'],\n",
              "       [4.6, 3.4, 1.4, 0.3, 'setosa'],\n",
              "       [5.0, 3.4, 1.5, 0.2, 'setosa'],\n",
              "       [4.4, 2.9, 1.4, 0.2, 'setosa'],\n",
              "       [4.9, 3.1, 1.5, 0.1, 'setosa'],\n",
              "       [5.4, 3.7, 1.5, 0.2, 'setosa'],\n",
              "       [4.8, 3.4, 1.6, 0.2, 'setosa'],\n",
              "       [4.8, 3.0, 1.4, 0.1, 'setosa'],\n",
              "       [4.3, 3.0, 1.1, 0.1, 'setosa'],\n",
              "       [5.8, 4.0, 1.2, 0.2, 'setosa'],\n",
              "       [5.7, 4.4, 1.5, 0.4, 'setosa'],\n",
              "       [5.4, 3.9, 1.3, 0.4, 'setosa'],\n",
              "       [5.1, 3.5, 1.4, 0.3, 'setosa'],\n",
              "       [5.7, 3.8, 1.7, 0.3, 'setosa'],\n",
              "       [5.1, 3.8, 1.5, 0.3, 'setosa'],\n",
              "       [5.4, 3.4, 1.7, 0.2, 'setosa'],\n",
              "       [5.1, 3.7, 1.5, 0.4, 'setosa'],\n",
              "       [4.6, 3.6, 1.0, 0.2, 'setosa'],\n",
              "       [5.1, 3.3, 1.7, 0.5, 'setosa'],\n",
              "       [4.8, 3.4, 1.9, 0.2, 'setosa'],\n",
              "       [5.0, 3.0, 1.6, 0.2, 'setosa'],\n",
              "       [5.0, 3.4, 1.6, 0.4, 'setosa'],\n",
              "       [5.2, 3.5, 1.5, 0.2, 'setosa'],\n",
              "       [5.2, 3.4, 1.4, 0.2, 'setosa'],\n",
              "       [4.7, 3.2, 1.6, 0.2, 'setosa'],\n",
              "       [4.8, 3.1, 1.6, 0.2, 'setosa'],\n",
              "       [5.4, 3.4, 1.5, 0.4, 'setosa'],\n",
              "       [5.2, 4.1, 1.5, 0.1, 'setosa'],\n",
              "       [5.5, 4.2, 1.4, 0.2, 'setosa'],\n",
              "       [4.9, 3.1, 1.5, 0.2, 'setosa'],\n",
              "       [5.0, 3.2, 1.2, 0.2, 'setosa'],\n",
              "       [5.5, 3.5, 1.3, 0.2, 'setosa'],\n",
              "       [4.9, 3.6, 1.4, 0.1, 'setosa'],\n",
              "       [4.4, 3.0, 1.3, 0.2, 'setosa'],\n",
              "       [5.1, 3.4, 1.5, 0.2, 'setosa'],\n",
              "       [5.0, 3.5, 1.3, 0.3, 'setosa'],\n",
              "       [4.5, 2.3, 1.3, 0.3, 'setosa'],\n",
              "       [4.4, 3.2, 1.3, 0.2, 'setosa'],\n",
              "       [5.0, 3.5, 1.6, 0.6, 'setosa'],\n",
              "       [5.1, 3.8, 1.9, 0.4, 'setosa'],\n",
              "       [4.8, 3.0, 1.4, 0.3, 'setosa'],\n",
              "       [5.1, 3.8, 1.6, 0.2, 'setosa'],\n",
              "       [4.6, 3.2, 1.4, 0.2, 'setosa'],\n",
              "       [5.3, 3.7, 1.5, 0.2, 'setosa'],\n",
              "       [5.0, 3.3, 1.4, 0.2, 'setosa'],\n",
              "       [7.0, 3.2, 4.7, 1.4, 'versicolor'],\n",
              "       [6.4, 3.2, 4.5, 1.5, 'versicolor'],\n",
              "       [6.9, 3.1, 4.9, 1.5, 'versicolor'],\n",
              "       [5.5, 2.3, 4.0, 1.3, 'versicolor'],\n",
              "       [6.5, 2.8, 4.6, 1.5, 'versicolor'],\n",
              "       [5.7, 2.8, 4.5, 1.3, 'versicolor'],\n",
              "       [6.3, 3.3, 4.7, 1.6, 'versicolor'],\n",
              "       [4.9, 2.4, 3.3, 1.0, 'versicolor'],\n",
              "       [6.6, 2.9, 4.6, 1.3, 'versicolor'],\n",
              "       [5.2, 2.7, 3.9, 1.4, 'versicolor'],\n",
              "       [5.0, 2.0, 3.5, 1.0, 'versicolor'],\n",
              "       [5.9, 3.0, 4.2, 1.5, 'versicolor'],\n",
              "       [6.0, 2.2, 4.0, 1.0, 'versicolor'],\n",
              "       [6.1, 2.9, 4.7, 1.4, 'versicolor'],\n",
              "       [5.6, 2.9, 3.6, 1.3, 'versicolor'],\n",
              "       [6.7, 3.1, 4.4, 1.4, 'versicolor'],\n",
              "       [5.6, 3.0, 4.5, 1.5, 'versicolor'],\n",
              "       [5.8, 2.7, 4.1, 1.0, 'versicolor'],\n",
              "       [6.2, 2.2, 4.5, 1.5, 'versicolor'],\n",
              "       [5.6, 2.5, 3.9, 1.1, 'versicolor'],\n",
              "       [5.9, 3.2, 4.8, 1.8, 'versicolor'],\n",
              "       [6.1, 2.8, 4.0, 1.3, 'versicolor'],\n",
              "       [6.3, 2.5, 4.9, 1.5, 'versicolor'],\n",
              "       [6.1, 2.8, 4.7, 1.2, 'versicolor'],\n",
              "       [6.4, 2.9, 4.3, 1.3, 'versicolor'],\n",
              "       [6.6, 3.0, 4.4, 1.4, 'versicolor'],\n",
              "       [6.8, 2.8, 4.8, 1.4, 'versicolor'],\n",
              "       [6.7, 3.0, 5.0, 1.7, 'versicolor'],\n",
              "       [6.0, 2.9, 4.5, 1.5, 'versicolor'],\n",
              "       [5.7, 2.6, 3.5, 1.0, 'versicolor'],\n",
              "       [5.5, 2.4, 3.8, 1.1, 'versicolor'],\n",
              "       [5.5, 2.4, 3.7, 1.0, 'versicolor'],\n",
              "       [5.8, 2.7, 3.9, 1.2, 'versicolor'],\n",
              "       [6.0, 2.7, 5.1, 1.6, 'versicolor'],\n",
              "       [5.4, 3.0, 4.5, 1.5, 'versicolor'],\n",
              "       [6.0, 3.4, 4.5, 1.6, 'versicolor'],\n",
              "       [6.7, 3.1, 4.7, 1.5, 'versicolor'],\n",
              "       [6.3, 2.3, 4.4, 1.3, 'versicolor'],\n",
              "       [5.6, 3.0, 4.1, 1.3, 'versicolor'],\n",
              "       [5.5, 2.5, 4.0, 1.3, 'versicolor'],\n",
              "       [5.5, 2.6, 4.4, 1.2, 'versicolor'],\n",
              "       [6.1, 3.0, 4.6, 1.4, 'versicolor'],\n",
              "       [5.8, 2.6, 4.0, 1.2, 'versicolor'],\n",
              "       [5.0, 2.3, 3.3, 1.0, 'versicolor'],\n",
              "       [5.6, 2.7, 4.2, 1.3, 'versicolor'],\n",
              "       [5.7, 3.0, 4.2, 1.2, 'versicolor'],\n",
              "       [5.7, 2.9, 4.2, 1.3, 'versicolor'],\n",
              "       [6.2, 2.9, 4.3, 1.3, 'versicolor'],\n",
              "       [5.1, 2.5, 3.0, 1.1, 'versicolor'],\n",
              "       [5.7, 2.8, 4.1, 1.3, 'versicolor'],\n",
              "       [6.3, 3.3, 6.0, 2.5, 'virginica'],\n",
              "       [5.8, 2.7, 5.1, 1.9, 'virginica'],\n",
              "       [7.1, 3.0, 5.9, 2.1, 'virginica'],\n",
              "       [6.3, 2.9, 5.6, 1.8, 'virginica'],\n",
              "       [6.5, 3.0, 5.8, 2.2, 'virginica'],\n",
              "       [7.6, 3.0, 6.6, 2.1, 'virginica'],\n",
              "       [4.9, 2.5, 4.5, 1.7, 'virginica'],\n",
              "       [7.3, 2.9, 6.3, 1.8, 'virginica'],\n",
              "       [6.7, 2.5, 5.8, 1.8, 'virginica'],\n",
              "       [7.2, 3.6, 6.1, 2.5, 'virginica'],\n",
              "       [6.5, 3.2, 5.1, 2.0, 'virginica'],\n",
              "       [6.4, 2.7, 5.3, 1.9, 'virginica'],\n",
              "       [6.8, 3.0, 5.5, 2.1, 'virginica'],\n",
              "       [5.7, 2.5, 5.0, 2.0, 'virginica'],\n",
              "       [5.8, 2.8, 5.1, 2.4, 'virginica'],\n",
              "       [6.4, 3.2, 5.3, 2.3, 'virginica'],\n",
              "       [6.5, 3.0, 5.5, 1.8, 'virginica'],\n",
              "       [7.7, 3.8, 6.7, 2.2, 'virginica'],\n",
              "       [7.7, 2.6, 6.9, 2.3, 'virginica'],\n",
              "       [6.0, 2.2, 5.0, 1.5, 'virginica'],\n",
              "       [6.9, 3.2, 5.7, 2.3, 'virginica'],\n",
              "       [5.6, 2.8, 4.9, 2.0, 'virginica'],\n",
              "       [7.7, 2.8, 6.7, 2.0, 'virginica'],\n",
              "       [6.3, 2.7, 4.9, 1.8, 'virginica'],\n",
              "       [6.7, 3.3, 5.7, 2.1, 'virginica'],\n",
              "       [7.2, 3.2, 6.0, 1.8, 'virginica'],\n",
              "       [6.2, 2.8, 4.8, 1.8, 'virginica'],\n",
              "       [6.1, 3.0, 4.9, 1.8, 'virginica'],\n",
              "       [6.4, 2.8, 5.6, 2.1, 'virginica'],\n",
              "       [7.2, 3.0, 5.8, 1.6, 'virginica'],\n",
              "       [7.4, 2.8, 6.1, 1.9, 'virginica'],\n",
              "       [7.9, 3.8, 6.4, 2.0, 'virginica'],\n",
              "       [6.4, 2.8, 5.6, 2.2, 'virginica'],\n",
              "       [6.3, 2.8, 5.1, 1.5, 'virginica'],\n",
              "       [6.1, 2.6, 5.6, 1.4, 'virginica'],\n",
              "       [7.7, 3.0, 6.1, 2.3, 'virginica'],\n",
              "       [6.3, 3.4, 5.6, 2.4, 'virginica'],\n",
              "       [6.4, 3.1, 5.5, 1.8, 'virginica'],\n",
              "       [6.0, 3.0, 4.8, 1.8, 'virginica'],\n",
              "       [6.9, 3.1, 5.4, 2.1, 'virginica'],\n",
              "       [6.7, 3.1, 5.6, 2.4, 'virginica'],\n",
              "       [6.9, 3.1, 5.1, 2.3, 'virginica'],\n",
              "       [5.8, 2.7, 5.1, 1.9, 'virginica'],\n",
              "       [6.8, 3.2, 5.9, 2.3, 'virginica'],\n",
              "       [6.7, 3.3, 5.7, 2.5, 'virginica'],\n",
              "       [6.7, 3.0, 5.2, 2.3, 'virginica'],\n",
              "       [6.3, 2.5, 5.0, 1.9, 'virginica'],\n",
              "       [6.5, 3.0, 5.2, 2.0, 'virginica'],\n",
              "       [6.2, 3.4, 5.4, 2.3, 'virginica'],\n",
              "       [5.9, 3.0, 5.1, 1.8, 'virginica']], dtype=object)"
            ]
          },
          "metadata": {
            "tags": []
          },
          "execution_count": 6
        }
      ]
    },
    {
      "cell_type": "markdown",
      "metadata": {
        "id": "qwp8pwctQAXO"
      },
      "source": [
        "- object to float"
      ]
    },
    {
      "cell_type": "code",
      "metadata": {
        "colab": {
          "base_uri": "https://localhost:8080/"
        },
        "id": "k3ZyEoACQJ6R",
        "outputId": "07da87fc-e9d6-4501-93ee-78ec04b1be26"
      },
      "source": [
        "AR_X = iris_AR[:, 0:4].astype(float)\n",
        "AR_y = iris_AR[:, 4]\n",
        "\n",
        "AR_X.shape, AR_y.shape"
      ],
      "execution_count": 7,
      "outputs": [
        {
          "output_type": "execute_result",
          "data": {
            "text/plain": [
              "((150, 4), (150,))"
            ]
          },
          "metadata": {
            "tags": []
          },
          "execution_count": 7
        }
      ]
    },
    {
      "cell_type": "markdown",
      "metadata": {
        "id": "XjTdYWLvQTSh"
      },
      "source": [
        "> ## **3) One Hot Encoding with sklearn & Keras**"
      ]
    },
    {
      "cell_type": "markdown",
      "metadata": {
        "id": "1FTDQ3ndQaKz"
      },
      "source": [
        "- LabelEncoder()\n",
        "  - ['setosa', 'virginica', 'versicolor'] to [0, 1, 2]"
      ]
    },
    {
      "cell_type": "code",
      "metadata": {
        "colab": {
          "base_uri": "https://localhost:8080/"
        },
        "id": "zxNH9Oa-Qi1f",
        "outputId": "c1c5bdfa-fc02-43e1-896c-c8aa2ce3d5ed"
      },
      "source": [
        "from sklearn.preprocessing import LabelEncoder\n",
        "\n",
        "encoder = LabelEncoder()\n",
        "AR_yLBE = encoder.fit_transform(AR_y)\n",
        "\n",
        "AR_yLBE"
      ],
      "execution_count": 8,
      "outputs": [
        {
          "output_type": "execute_result",
          "data": {
            "text/plain": [
              "array([0, 0, 0, 0, 0, 0, 0, 0, 0, 0, 0, 0, 0, 0, 0, 0, 0, 0, 0, 0, 0, 0,\n",
              "       0, 0, 0, 0, 0, 0, 0, 0, 0, 0, 0, 0, 0, 0, 0, 0, 0, 0, 0, 0, 0, 0,\n",
              "       0, 0, 0, 0, 0, 0, 1, 1, 1, 1, 1, 1, 1, 1, 1, 1, 1, 1, 1, 1, 1, 1,\n",
              "       1, 1, 1, 1, 1, 1, 1, 1, 1, 1, 1, 1, 1, 1, 1, 1, 1, 1, 1, 1, 1, 1,\n",
              "       1, 1, 1, 1, 1, 1, 1, 1, 1, 1, 1, 1, 2, 2, 2, 2, 2, 2, 2, 2, 2, 2,\n",
              "       2, 2, 2, 2, 2, 2, 2, 2, 2, 2, 2, 2, 2, 2, 2, 2, 2, 2, 2, 2, 2, 2,\n",
              "       2, 2, 2, 2, 2, 2, 2, 2, 2, 2, 2, 2, 2, 2, 2, 2, 2, 2])"
            ]
          },
          "metadata": {
            "tags": []
          },
          "execution_count": 8
        }
      ]
    },
    {
      "cell_type": "markdown",
      "metadata": {
        "id": "n4GyetFBQwgl"
      },
      "source": [
        "- One-Hot Encoding - to_categorical()"
      ]
    },
    {
      "cell_type": "code",
      "metadata": {
        "colab": {
          "base_uri": "https://localhost:8080/"
        },
        "id": "f0Dx1au-Q5Sw",
        "outputId": "e423e680-248a-493b-c7d8-16f59e1d1c40"
      },
      "source": [
        "from tensorflow.keras.utils import to_categorical\n",
        "\n",
        "AR_yOHE = to_categorical(AR_yLBE)\n",
        "\n",
        "AR_yOHE"
      ],
      "execution_count": 9,
      "outputs": [
        {
          "output_type": "execute_result",
          "data": {
            "text/plain": [
              "array([[1., 0., 0.],\n",
              "       [1., 0., 0.],\n",
              "       [1., 0., 0.],\n",
              "       [1., 0., 0.],\n",
              "       [1., 0., 0.],\n",
              "       [1., 0., 0.],\n",
              "       [1., 0., 0.],\n",
              "       [1., 0., 0.],\n",
              "       [1., 0., 0.],\n",
              "       [1., 0., 0.],\n",
              "       [1., 0., 0.],\n",
              "       [1., 0., 0.],\n",
              "       [1., 0., 0.],\n",
              "       [1., 0., 0.],\n",
              "       [1., 0., 0.],\n",
              "       [1., 0., 0.],\n",
              "       [1., 0., 0.],\n",
              "       [1., 0., 0.],\n",
              "       [1., 0., 0.],\n",
              "       [1., 0., 0.],\n",
              "       [1., 0., 0.],\n",
              "       [1., 0., 0.],\n",
              "       [1., 0., 0.],\n",
              "       [1., 0., 0.],\n",
              "       [1., 0., 0.],\n",
              "       [1., 0., 0.],\n",
              "       [1., 0., 0.],\n",
              "       [1., 0., 0.],\n",
              "       [1., 0., 0.],\n",
              "       [1., 0., 0.],\n",
              "       [1., 0., 0.],\n",
              "       [1., 0., 0.],\n",
              "       [1., 0., 0.],\n",
              "       [1., 0., 0.],\n",
              "       [1., 0., 0.],\n",
              "       [1., 0., 0.],\n",
              "       [1., 0., 0.],\n",
              "       [1., 0., 0.],\n",
              "       [1., 0., 0.],\n",
              "       [1., 0., 0.],\n",
              "       [1., 0., 0.],\n",
              "       [1., 0., 0.],\n",
              "       [1., 0., 0.],\n",
              "       [1., 0., 0.],\n",
              "       [1., 0., 0.],\n",
              "       [1., 0., 0.],\n",
              "       [1., 0., 0.],\n",
              "       [1., 0., 0.],\n",
              "       [1., 0., 0.],\n",
              "       [1., 0., 0.],\n",
              "       [0., 1., 0.],\n",
              "       [0., 1., 0.],\n",
              "       [0., 1., 0.],\n",
              "       [0., 1., 0.],\n",
              "       [0., 1., 0.],\n",
              "       [0., 1., 0.],\n",
              "       [0., 1., 0.],\n",
              "       [0., 1., 0.],\n",
              "       [0., 1., 0.],\n",
              "       [0., 1., 0.],\n",
              "       [0., 1., 0.],\n",
              "       [0., 1., 0.],\n",
              "       [0., 1., 0.],\n",
              "       [0., 1., 0.],\n",
              "       [0., 1., 0.],\n",
              "       [0., 1., 0.],\n",
              "       [0., 1., 0.],\n",
              "       [0., 1., 0.],\n",
              "       [0., 1., 0.],\n",
              "       [0., 1., 0.],\n",
              "       [0., 1., 0.],\n",
              "       [0., 1., 0.],\n",
              "       [0., 1., 0.],\n",
              "       [0., 1., 0.],\n",
              "       [0., 1., 0.],\n",
              "       [0., 1., 0.],\n",
              "       [0., 1., 0.],\n",
              "       [0., 1., 0.],\n",
              "       [0., 1., 0.],\n",
              "       [0., 1., 0.],\n",
              "       [0., 1., 0.],\n",
              "       [0., 1., 0.],\n",
              "       [0., 1., 0.],\n",
              "       [0., 1., 0.],\n",
              "       [0., 1., 0.],\n",
              "       [0., 1., 0.],\n",
              "       [0., 1., 0.],\n",
              "       [0., 1., 0.],\n",
              "       [0., 1., 0.],\n",
              "       [0., 1., 0.],\n",
              "       [0., 1., 0.],\n",
              "       [0., 1., 0.],\n",
              "       [0., 1., 0.],\n",
              "       [0., 1., 0.],\n",
              "       [0., 1., 0.],\n",
              "       [0., 1., 0.],\n",
              "       [0., 1., 0.],\n",
              "       [0., 1., 0.],\n",
              "       [0., 1., 0.],\n",
              "       [0., 1., 0.],\n",
              "       [0., 0., 1.],\n",
              "       [0., 0., 1.],\n",
              "       [0., 0., 1.],\n",
              "       [0., 0., 1.],\n",
              "       [0., 0., 1.],\n",
              "       [0., 0., 1.],\n",
              "       [0., 0., 1.],\n",
              "       [0., 0., 1.],\n",
              "       [0., 0., 1.],\n",
              "       [0., 0., 1.],\n",
              "       [0., 0., 1.],\n",
              "       [0., 0., 1.],\n",
              "       [0., 0., 1.],\n",
              "       [0., 0., 1.],\n",
              "       [0., 0., 1.],\n",
              "       [0., 0., 1.],\n",
              "       [0., 0., 1.],\n",
              "       [0., 0., 1.],\n",
              "       [0., 0., 1.],\n",
              "       [0., 0., 1.],\n",
              "       [0., 0., 1.],\n",
              "       [0., 0., 1.],\n",
              "       [0., 0., 1.],\n",
              "       [0., 0., 1.],\n",
              "       [0., 0., 1.],\n",
              "       [0., 0., 1.],\n",
              "       [0., 0., 1.],\n",
              "       [0., 0., 1.],\n",
              "       [0., 0., 1.],\n",
              "       [0., 0., 1.],\n",
              "       [0., 0., 1.],\n",
              "       [0., 0., 1.],\n",
              "       [0., 0., 1.],\n",
              "       [0., 0., 1.],\n",
              "       [0., 0., 1.],\n",
              "       [0., 0., 1.],\n",
              "       [0., 0., 1.],\n",
              "       [0., 0., 1.],\n",
              "       [0., 0., 1.],\n",
              "       [0., 0., 1.],\n",
              "       [0., 0., 1.],\n",
              "       [0., 0., 1.],\n",
              "       [0., 0., 1.],\n",
              "       [0., 0., 1.],\n",
              "       [0., 0., 1.],\n",
              "       [0., 0., 1.],\n",
              "       [0., 0., 1.],\n",
              "       [0., 0., 1.],\n",
              "       [0., 0., 1.],\n",
              "       [0., 0., 1.]], dtype=float32)"
            ]
          },
          "metadata": {
            "tags": []
          },
          "execution_count": 9
        }
      ]
    },
    {
      "cell_type": "markdown",
      "metadata": {
        "id": "9HONDw__RGUN"
      },
      "source": [
        "> ## **4) Version Check**"
      ]
    },
    {
      "cell_type": "markdown",
      "metadata": {
        "id": "ACGB4R0FRR_3"
      },
      "source": [
        "- TensorFlow Version"
      ]
    },
    {
      "cell_type": "code",
      "metadata": {
        "colab": {
          "base_uri": "https://localhost:8080/",
          "height": 35
        },
        "id": "KSKBwQuzRjpp",
        "outputId": "b87de4fe-25c1-4536-b01b-55d278fbdb9a"
      },
      "source": [
        "import tensorflow\n",
        "\n",
        "tensorflow.__version__"
      ],
      "execution_count": 10,
      "outputs": [
        {
          "output_type": "execute_result",
          "data": {
            "application/vnd.google.colaboratory.intrinsic+json": {
              "type": "string"
            },
            "text/plain": [
              "'2.5.0'"
            ]
          },
          "metadata": {
            "tags": []
          },
          "execution_count": 10
        }
      ]
    },
    {
      "cell_type": "markdown",
      "metadata": {
        "id": "VZvozU7SRods"
      },
      "source": [
        "- Keras Version"
      ]
    },
    {
      "cell_type": "code",
      "metadata": {
        "colab": {
          "base_uri": "https://localhost:8080/",
          "height": 35
        },
        "id": "A8GpAysERq5B",
        "outputId": "4a964a56-9595-4fe5-c064-01195531a243"
      },
      "source": [
        "tensorflow.keras.__version__"
      ],
      "execution_count": 11,
      "outputs": [
        {
          "output_type": "execute_result",
          "data": {
            "application/vnd.google.colaboratory.intrinsic+json": {
              "type": "string"
            },
            "text/plain": [
              "'2.5.0'"
            ]
          },
          "metadata": {
            "tags": []
          },
          "execution_count": 11
        }
      ]
    },
    {
      "cell_type": "markdown",
      "metadata": {
        "id": "Kh6eEhq9RtXZ"
      },
      "source": [
        "> ## **5) train_test_split()**"
      ]
    },
    {
      "cell_type": "markdown",
      "metadata": {
        "id": "DVRgHUD8RxN2"
      },
      "source": [
        "- 7:3"
      ]
    },
    {
      "cell_type": "code",
      "metadata": {
        "colab": {
          "base_uri": "https://localhost:8080/"
        },
        "id": "-6kKcNkjRyiq",
        "outputId": "18258c7c-d3fc-433a-ce74-bc333702543a"
      },
      "source": [
        "from sklearn.model_selection import train_test_split\n",
        "\n",
        "X_train, X_test, y_train, y_test = train_test_split(AR_X, AR_yOHE,\n",
        "                                                    test_size=0.3,\n",
        "                                                    random_state=2045)\n",
        "\n",
        "X_train.shape, X_test.shape, y_train.shape, y_test.shape"
      ],
      "execution_count": 12,
      "outputs": [
        {
          "output_type": "execute_result",
          "data": {
            "text/plain": [
              "((105, 4), (45, 4), (105, 3), (45, 3))"
            ]
          },
          "metadata": {
            "tags": []
          },
          "execution_count": 12
        }
      ]
    },
    {
      "cell_type": "markdown",
      "metadata": {
        "id": "QpfyIFCiSKB7"
      },
      "source": [
        "# **II. Keras Modeling**"
      ]
    },
    {
      "cell_type": "markdown",
      "metadata": {
        "id": "3AweK599SM72"
      },
      "source": [
        "> ## **1) Keras Models & Layers Import**"
      ]
    },
    {
      "cell_type": "code",
      "metadata": {
        "id": "GQL-ahZoSbPC"
      },
      "source": [
        "from tensorflow.keras import models\n",
        "from tensorflow.keras import layers"
      ],
      "execution_count": 13,
      "outputs": []
    },
    {
      "cell_type": "markdown",
      "metadata": {
        "id": "AAwCURs8SkKf"
      },
      "source": [
        "> ## **2) Model Define**"
      ]
    },
    {
      "cell_type": "markdown",
      "metadata": {
        "id": "-u-gqLDGSncA"
      },
      "source": [
        "- 모델 신경망 구조 정의"
      ]
    },
    {
      "cell_type": "code",
      "metadata": {
        "id": "wSAXqVYhSqh8"
      },
      "source": [
        "Model_iris = models.Sequential()\n",
        "\n",
        "Model_iris.add(layers.Dense(16, activation='relu', input_shape=(4, )))   # (Hidden) Layer의 Neuron이 16개, activation function은 ReLU(Sigmoid나 Tanh도 사용 가능), input이 4개\n",
        "Model_iris.add(layers.Dense(8, activation='relu'))\n",
        "Model_iris.add(layers.Dense(3, activation='softmax'))                    # output이 3개, 다중 분류이기 때문에 activation function은 Softmax가 좋음(이 경우에는 Sigmoid나 Softmax만 사용 가능)"
      ],
      "execution_count": 14,
      "outputs": []
    },
    {
      "cell_type": "markdown",
      "metadata": {
        "id": "FdXWE3gnUWuu"
      },
      "source": [
        "- 모델 구조 확인\n",
        "  - Layer & Parameters"
      ]
    },
    {
      "cell_type": "code",
      "metadata": {
        "colab": {
          "base_uri": "https://localhost:8080/"
        },
        "id": "gqwrIRdOUaiX",
        "outputId": "37420cad-4ccd-4ddc-990d-bb1292615ff0"
      },
      "source": [
        "Model_iris.summary()"
      ],
      "execution_count": 15,
      "outputs": [
        {
          "output_type": "stream",
          "text": [
            "Model: \"sequential\"\n",
            "_________________________________________________________________\n",
            "Layer (type)                 Output Shape              Param #   \n",
            "=================================================================\n",
            "dense (Dense)                (None, 16)                80        \n",
            "_________________________________________________________________\n",
            "dense_1 (Dense)              (None, 8)                 136       \n",
            "_________________________________________________________________\n",
            "dense_2 (Dense)              (None, 3)                 27        \n",
            "=================================================================\n",
            "Total params: 243\n",
            "Trainable params: 243\n",
            "Non-trainable params: 0\n",
            "_________________________________________________________________\n"
          ],
          "name": "stdout"
        }
      ]
    },
    {
      "cell_type": "markdown",
      "metadata": {
        "id": "Zfeq_vIWUdam"
      },
      "source": [
        "- 모델 레이어 시각화"
      ]
    },
    {
      "cell_type": "code",
      "metadata": {
        "colab": {
          "base_uri": "https://localhost:8080/",
          "height": 422
        },
        "id": "u1FmwjM4UkcR",
        "outputId": "2336363a-85e1-4760-d8c4-689453dba004"
      },
      "source": [
        "from tensorflow.keras import utils\n",
        "\n",
        "utils.plot_model(Model_iris, show_shapes=True, show_dtype=True)"
      ],
      "execution_count": 16,
      "outputs": [
        {
          "output_type": "execute_result",
          "data": {
            "image/png": "[encoded data removed]",
            "text/plain": [
              "<IPython.core.display.Image object>"
            ]
          },
          "metadata": {
            "tags": []
          },
          "execution_count": 16
        }
      ]
    },
    {
      "cell_type": "markdown",
      "metadata": {
        "id": "63-8st6jUxzE"
      },
      "source": [
        "> ## **3) Model Compile**"
      ]
    },
    {
      "cell_type": "markdown",
      "metadata": {
        "id": "pzVfjmUMU22k"
      },
      "source": [
        "- 모델 학습 방법 설정"
      ]
    },
    {
      "cell_type": "code",
      "metadata": {
        "id": "NjFs6VuaU45J"
      },
      "source": [
        "Model_iris.compile(loss='categorical_crossentropy',               # 상황에 따라 binary_crossentropy나 mean_squared_error 사용\n",
        "                   optimizer='adam',                              # SGD, Momentum, Adagrad, RMSPop, AdaDelta 등 사용 가능\n",
        "                   metrics=['accuracy'])"
      ],
      "execution_count": 17,
      "outputs": []
    },
    {
      "cell_type": "markdown",
      "metadata": {
        "id": "YGpPJmy9VC20"
      },
      "source": [
        "> ## **4) Model Fit**"
      ]
    },
    {
      "cell_type": "markdown",
      "metadata": {
        "id": "mINMgadkVxiW"
      },
      "source": [
        "- 모델 학습 수행"
      ]
    },
    {
      "cell_type": "code",
      "metadata": {
        "colab": {
          "base_uri": "https://localhost:8080/"
        },
        "id": "9AdJZqljV1Fu",
        "outputId": "ac308127-7336-4f5d-8784-d154c70a2c8a"
      },
      "source": [
        "History_iris = Model_iris.fit(X_train, y_train,\n",
        "                              epochs=500,\n",
        "                              batch_size=7,                       # 전체 Train Set 데이터가 105개이므로 15 * 500만큼 학습 수행\n",
        "                              validation_data=(X_test, y_test))"
      ],
      "execution_count": 18,
      "outputs": [
        {
          "output_type": "stream",
          "text": [
            "Epoch 1/500\n",
            "15/15 [==============================] - 1s 16ms/step - loss: 1.0864 - accuracy: 0.4571 - val_loss: 1.0797 - val_accuracy: 0.5333\n",
            "Epoch 2/500\n",
            "15/15 [==============================] - 0s 3ms/step - loss: 1.0591 - accuracy: 0.4667 - val_loss: 1.0620 - val_accuracy: 0.4667\n",
            "Epoch 3/500\n",
            "15/15 [==============================] - 0s 4ms/step - loss: 1.0497 - accuracy: 0.5238 - val_loss: 1.0524 - val_accuracy: 0.5556\n",
            "Epoch 4/500\n",
            "15/15 [==============================] - 0s 3ms/step - loss: 1.0262 - accuracy: 0.5714 - val_loss: 1.0323 - val_accuracy: 0.5556\n",
            "Epoch 5/500\n",
            "15/15 [==============================] - 0s 3ms/step - loss: 1.0138 - accuracy: 0.6095 - val_loss: 1.0191 - val_accuracy: 0.5778\n",
            "Epoch 6/500\n",
            "15/15 [==============================] - 0s 3ms/step - loss: 1.0002 - accuracy: 0.6095 - val_loss: 1.0038 - val_accuracy: 0.5778\n",
            "Epoch 7/500\n",
            "15/15 [==============================] - 0s 3ms/step - loss: 0.9846 - accuracy: 0.6000 - val_loss: 0.9901 - val_accuracy: 0.5778\n",
            "Epoch 8/500\n",
            "15/15 [==============================] - 0s 3ms/step - loss: 0.9732 - accuracy: 0.5905 - val_loss: 0.9746 - val_accuracy: 0.5778\n",
            "Epoch 9/500\n",
            "15/15 [==============================] - 0s 4ms/step - loss: 0.9543 - accuracy: 0.6095 - val_loss: 0.9571 - val_accuracy: 0.5778\n",
            "Epoch 10/500\n",
            "15/15 [==============================] - 0s 3ms/step - loss: 0.9417 - accuracy: 0.6095 - val_loss: 0.9370 - val_accuracy: 0.5556\n",
            "Epoch 11/500\n",
            "15/15 [==============================] - 0s 3ms/step - loss: 0.9204 - accuracy: 0.6095 - val_loss: 0.9187 - val_accuracy: 0.5778\n",
            "Epoch 12/500\n",
            "15/15 [==============================] - 0s 4ms/step - loss: 0.9039 - accuracy: 0.6095 - val_loss: 0.8962 - val_accuracy: 0.5778\n",
            "Epoch 13/500\n",
            "15/15 [==============================] - 0s 4ms/step - loss: 0.8812 - accuracy: 0.6190 - val_loss: 0.8735 - val_accuracy: 0.6000\n",
            "Epoch 14/500\n",
            "15/15 [==============================] - 0s 3ms/step - loss: 0.8616 - accuracy: 0.5905 - val_loss: 0.8514 - val_accuracy: 0.6000\n",
            "Epoch 15/500\n",
            "15/15 [==============================] - 0s 4ms/step - loss: 0.8394 - accuracy: 0.6286 - val_loss: 0.8306 - val_accuracy: 0.6444\n",
            "Epoch 16/500\n",
            "15/15 [==============================] - 0s 3ms/step - loss: 0.8187 - accuracy: 0.7333 - val_loss: 0.8070 - val_accuracy: 0.7778\n",
            "Epoch 17/500\n",
            "15/15 [==============================] - 0s 4ms/step - loss: 0.7982 - accuracy: 0.7619 - val_loss: 0.7855 - val_accuracy: 0.8667\n",
            "Epoch 18/500\n",
            "15/15 [==============================] - 0s 3ms/step - loss: 0.7752 - accuracy: 0.8381 - val_loss: 0.7634 - val_accuracy: 0.9111\n",
            "Epoch 19/500\n",
            "15/15 [==============================] - 0s 4ms/step - loss: 0.7542 - accuracy: 0.8381 - val_loss: 0.7416 - val_accuracy: 0.9333\n",
            "Epoch 20/500\n",
            "15/15 [==============================] - 0s 3ms/step - loss: 0.7323 - accuracy: 0.8952 - val_loss: 0.7178 - val_accuracy: 0.9778\n",
            "Epoch 21/500\n",
            "15/15 [==============================] - 0s 4ms/step - loss: 0.7115 - accuracy: 0.8571 - val_loss: 0.6933 - val_accuracy: 0.8222\n",
            "Epoch 22/500\n",
            "15/15 [==============================] - 0s 3ms/step - loss: 0.6863 - accuracy: 0.8667 - val_loss: 0.6708 - val_accuracy: 0.9778\n",
            "Epoch 23/500\n",
            "15/15 [==============================] - 0s 3ms/step - loss: 0.6701 - accuracy: 0.9238 - val_loss: 0.6452 - val_accuracy: 1.0000\n",
            "Epoch 24/500\n",
            "15/15 [==============================] - 0s 3ms/step - loss: 0.6416 - accuracy: 0.9333 - val_loss: 0.6226 - val_accuracy: 0.9778\n",
            "Epoch 25/500\n",
            "15/15 [==============================] - 0s 3ms/step - loss: 0.6227 - accuracy: 0.8667 - val_loss: 0.5994 - val_accuracy: 0.8889\n",
            "Epoch 26/500\n",
            "15/15 [==============================] - 0s 4ms/step - loss: 0.5977 - accuracy: 0.9048 - val_loss: 0.5718 - val_accuracy: 0.9778\n",
            "Epoch 27/500\n",
            "15/15 [==============================] - 0s 3ms/step - loss: 0.5788 - accuracy: 0.9524 - val_loss: 0.5513 - val_accuracy: 1.0000\n",
            "Epoch 28/500\n",
            "15/15 [==============================] - 0s 4ms/step - loss: 0.5591 - accuracy: 0.9143 - val_loss: 0.5305 - val_accuracy: 0.9778\n",
            "Epoch 29/500\n",
            "15/15 [==============================] - 0s 3ms/step - loss: 0.5382 - accuracy: 0.9429 - val_loss: 0.5067 - val_accuracy: 1.0000\n",
            "Epoch 30/500\n",
            "15/15 [==============================] - 0s 3ms/step - loss: 0.5213 - accuracy: 0.9238 - val_loss: 0.4879 - val_accuracy: 0.9778\n",
            "Epoch 31/500\n",
            "15/15 [==============================] - 0s 4ms/step - loss: 0.5015 - accuracy: 0.9238 - val_loss: 0.4678 - val_accuracy: 1.0000\n",
            "Epoch 32/500\n",
            "15/15 [==============================] - 0s 3ms/step - loss: 0.4818 - accuracy: 0.9429 - val_loss: 0.4505 - val_accuracy: 1.0000\n",
            "Epoch 33/500\n",
            "15/15 [==============================] - 0s 4ms/step - loss: 0.4686 - accuracy: 0.9619 - val_loss: 0.4338 - val_accuracy: 1.0000\n",
            "Epoch 34/500\n",
            "15/15 [==============================] - 0s 3ms/step - loss: 0.4522 - accuracy: 0.9429 - val_loss: 0.4187 - val_accuracy: 1.0000\n",
            "Epoch 35/500\n",
            "15/15 [==============================] - 0s 4ms/step - loss: 0.4392 - accuracy: 0.9429 - val_loss: 0.4032 - val_accuracy: 1.0000\n",
            "Epoch 36/500\n",
            "15/15 [==============================] - 0s 3ms/step - loss: 0.4311 - accuracy: 0.9333 - val_loss: 0.3918 - val_accuracy: 1.0000\n",
            "Epoch 37/500\n",
            "15/15 [==============================] - 0s 3ms/step - loss: 0.4126 - accuracy: 0.9524 - val_loss: 0.3766 - val_accuracy: 1.0000\n",
            "Epoch 38/500\n",
            "15/15 [==============================] - 0s 3ms/step - loss: 0.4044 - accuracy: 0.9524 - val_loss: 0.3657 - val_accuracy: 1.0000\n",
            "Epoch 39/500\n",
            "15/15 [==============================] - 0s 4ms/step - loss: 0.3937 - accuracy: 0.9333 - val_loss: 0.3560 - val_accuracy: 1.0000\n",
            "Epoch 40/500\n",
            "15/15 [==============================] - 0s 3ms/step - loss: 0.3790 - accuracy: 0.9429 - val_loss: 0.3431 - val_accuracy: 1.0000\n",
            "Epoch 41/500\n",
            "15/15 [==============================] - 0s 3ms/step - loss: 0.3722 - accuracy: 0.9619 - val_loss: 0.3338 - val_accuracy: 1.0000\n",
            "Epoch 42/500\n",
            "15/15 [==============================] - 0s 3ms/step - loss: 0.3637 - accuracy: 0.9524 - val_loss: 0.3265 - val_accuracy: 1.0000\n",
            "Epoch 43/500\n",
            "15/15 [==============================] - 0s 3ms/step - loss: 0.3526 - accuracy: 0.9429 - val_loss: 0.3141 - val_accuracy: 1.0000\n",
            "Epoch 44/500\n",
            "15/15 [==============================] - 0s 3ms/step - loss: 0.3427 - accuracy: 0.9524 - val_loss: 0.3058 - val_accuracy: 1.0000\n",
            "Epoch 45/500\n",
            "15/15 [==============================] - 0s 4ms/step - loss: 0.3358 - accuracy: 0.9714 - val_loss: 0.2980 - val_accuracy: 1.0000\n",
            "Epoch 46/500\n",
            "15/15 [==============================] - 0s 3ms/step - loss: 0.3254 - accuracy: 0.9714 - val_loss: 0.2897 - val_accuracy: 1.0000\n",
            "Epoch 47/500\n",
            "15/15 [==============================] - 0s 4ms/step - loss: 0.3186 - accuracy: 0.9524 - val_loss: 0.2825 - val_accuracy: 1.0000\n",
            "Epoch 48/500\n",
            "15/15 [==============================] - 0s 3ms/step - loss: 0.3149 - accuracy: 0.9619 - val_loss: 0.2742 - val_accuracy: 1.0000\n",
            "Epoch 49/500\n",
            "15/15 [==============================] - 0s 3ms/step - loss: 0.3036 - accuracy: 0.9619 - val_loss: 0.2674 - val_accuracy: 1.0000\n",
            "Epoch 50/500\n",
            "15/15 [==============================] - 0s 3ms/step - loss: 0.2972 - accuracy: 0.9714 - val_loss: 0.2603 - val_accuracy: 1.0000\n",
            "Epoch 51/500\n",
            "15/15 [==============================] - 0s 4ms/step - loss: 0.2906 - accuracy: 0.9714 - val_loss: 0.2547 - val_accuracy: 1.0000\n",
            "Epoch 52/500\n",
            "15/15 [==============================] - 0s 3ms/step - loss: 0.2872 - accuracy: 0.9619 - val_loss: 0.2476 - val_accuracy: 1.0000\n",
            "Epoch 53/500\n",
            "15/15 [==============================] - 0s 3ms/step - loss: 0.2771 - accuracy: 0.9714 - val_loss: 0.2410 - val_accuracy: 1.0000\n",
            "Epoch 54/500\n",
            "15/15 [==============================] - 0s 4ms/step - loss: 0.2728 - accuracy: 0.9714 - val_loss: 0.2351 - val_accuracy: 1.0000\n",
            "Epoch 55/500\n",
            "15/15 [==============================] - 0s 3ms/step - loss: 0.2653 - accuracy: 0.9714 - val_loss: 0.2291 - val_accuracy: 1.0000\n",
            "Epoch 56/500\n",
            "15/15 [==============================] - 0s 3ms/step - loss: 0.2616 - accuracy: 0.9714 - val_loss: 0.2234 - val_accuracy: 1.0000\n",
            "Epoch 57/500\n",
            "15/15 [==============================] - 0s 3ms/step - loss: 0.2608 - accuracy: 0.9524 - val_loss: 0.2184 - val_accuracy: 1.0000\n",
            "Epoch 58/500\n",
            "15/15 [==============================] - 0s 3ms/step - loss: 0.2514 - accuracy: 0.9714 - val_loss: 0.2158 - val_accuracy: 0.9778\n",
            "Epoch 59/500\n",
            "15/15 [==============================] - 0s 4ms/step - loss: 0.2469 - accuracy: 0.9714 - val_loss: 0.2074 - val_accuracy: 1.0000\n",
            "Epoch 60/500\n",
            "15/15 [==============================] - 0s 3ms/step - loss: 0.2419 - accuracy: 0.9714 - val_loss: 0.2033 - val_accuracy: 1.0000\n",
            "Epoch 61/500\n",
            "15/15 [==============================] - 0s 4ms/step - loss: 0.2365 - accuracy: 0.9714 - val_loss: 0.1974 - val_accuracy: 1.0000\n",
            "Epoch 62/500\n",
            "15/15 [==============================] - 0s 3ms/step - loss: 0.2317 - accuracy: 0.9714 - val_loss: 0.1925 - val_accuracy: 1.0000\n",
            "Epoch 63/500\n",
            "15/15 [==============================] - 0s 3ms/step - loss: 0.2267 - accuracy: 0.9714 - val_loss: 0.1880 - val_accuracy: 1.0000\n",
            "Epoch 64/500\n",
            "15/15 [==============================] - 0s 4ms/step - loss: 0.2215 - accuracy: 0.9714 - val_loss: 0.1834 - val_accuracy: 1.0000\n",
            "Epoch 65/500\n",
            "15/15 [==============================] - 0s 4ms/step - loss: 0.2183 - accuracy: 0.9714 - val_loss: 0.1794 - val_accuracy: 1.0000\n",
            "Epoch 66/500\n",
            "15/15 [==============================] - 0s 3ms/step - loss: 0.2137 - accuracy: 0.9714 - val_loss: 0.1752 - val_accuracy: 1.0000\n",
            "Epoch 67/500\n",
            "15/15 [==============================] - 0s 3ms/step - loss: 0.2109 - accuracy: 0.9714 - val_loss: 0.1709 - val_accuracy: 1.0000\n",
            "Epoch 68/500\n",
            "15/15 [==============================] - 0s 3ms/step - loss: 0.2070 - accuracy: 0.9714 - val_loss: 0.1670 - val_accuracy: 1.0000\n",
            "Epoch 69/500\n",
            "15/15 [==============================] - 0s 4ms/step - loss: 0.2026 - accuracy: 0.9714 - val_loss: 0.1633 - val_accuracy: 1.0000\n",
            "Epoch 70/500\n",
            "15/15 [==============================] - 0s 3ms/step - loss: 0.2007 - accuracy: 0.9619 - val_loss: 0.1597 - val_accuracy: 1.0000\n",
            "Epoch 71/500\n",
            "15/15 [==============================] - 0s 4ms/step - loss: 0.1962 - accuracy: 0.9714 - val_loss: 0.1557 - val_accuracy: 1.0000\n",
            "Epoch 72/500\n",
            "15/15 [==============================] - 0s 3ms/step - loss: 0.1933 - accuracy: 0.9714 - val_loss: 0.1521 - val_accuracy: 1.0000\n",
            "Epoch 73/500\n",
            "15/15 [==============================] - 0s 4ms/step - loss: 0.1899 - accuracy: 0.9714 - val_loss: 0.1514 - val_accuracy: 0.9778\n",
            "Epoch 74/500\n",
            "15/15 [==============================] - 0s 4ms/step - loss: 0.1901 - accuracy: 0.9714 - val_loss: 0.1456 - val_accuracy: 1.0000\n",
            "Epoch 75/500\n",
            "15/15 [==============================] - 0s 4ms/step - loss: 0.1921 - accuracy: 0.9429 - val_loss: 0.1441 - val_accuracy: 0.9778\n",
            "Epoch 76/500\n",
            "15/15 [==============================] - 0s 4ms/step - loss: 0.1815 - accuracy: 0.9714 - val_loss: 0.1392 - val_accuracy: 1.0000\n",
            "Epoch 77/500\n",
            "15/15 [==============================] - 0s 3ms/step - loss: 0.1831 - accuracy: 0.9524 - val_loss: 0.1387 - val_accuracy: 0.9778\n",
            "Epoch 78/500\n",
            "15/15 [==============================] - 0s 4ms/step - loss: 0.1787 - accuracy: 0.9714 - val_loss: 0.1334 - val_accuracy: 1.0000\n",
            "Epoch 79/500\n",
            "15/15 [==============================] - 0s 3ms/step - loss: 0.1729 - accuracy: 0.9714 - val_loss: 0.1318 - val_accuracy: 0.9778\n",
            "Epoch 80/500\n",
            "15/15 [==============================] - 0s 4ms/step - loss: 0.1704 - accuracy: 0.9714 - val_loss: 0.1288 - val_accuracy: 1.0000\n",
            "Epoch 81/500\n",
            "15/15 [==============================] - 0s 3ms/step - loss: 0.1686 - accuracy: 0.9714 - val_loss: 0.1266 - val_accuracy: 0.9778\n",
            "Epoch 82/500\n",
            "15/15 [==============================] - 0s 4ms/step - loss: 0.1675 - accuracy: 0.9714 - val_loss: 0.1230 - val_accuracy: 1.0000\n",
            "Epoch 83/500\n",
            "15/15 [==============================] - 0s 4ms/step - loss: 0.1676 - accuracy: 0.9714 - val_loss: 0.1217 - val_accuracy: 0.9778\n",
            "Epoch 84/500\n",
            "15/15 [==============================] - 0s 3ms/step - loss: 0.1634 - accuracy: 0.9714 - val_loss: 0.1181 - val_accuracy: 1.0000\n",
            "Epoch 85/500\n",
            "15/15 [==============================] - 0s 3ms/step - loss: 0.1596 - accuracy: 0.9714 - val_loss: 0.1185 - val_accuracy: 0.9778\n",
            "Epoch 86/500\n",
            "15/15 [==============================] - 0s 3ms/step - loss: 0.1594 - accuracy: 0.9714 - val_loss: 0.1138 - val_accuracy: 1.0000\n",
            "Epoch 87/500\n",
            "15/15 [==============================] - 0s 4ms/step - loss: 0.1556 - accuracy: 0.9714 - val_loss: 0.1127 - val_accuracy: 0.9778\n",
            "Epoch 88/500\n",
            "15/15 [==============================] - 0s 3ms/step - loss: 0.1547 - accuracy: 0.9714 - val_loss: 0.1106 - val_accuracy: 1.0000\n",
            "Epoch 89/500\n",
            "15/15 [==============================] - 0s 3ms/step - loss: 0.1512 - accuracy: 0.9714 - val_loss: 0.1077 - val_accuracy: 1.0000\n",
            "Epoch 90/500\n",
            "15/15 [==============================] - 0s 3ms/step - loss: 0.1500 - accuracy: 0.9714 - val_loss: 0.1062 - val_accuracy: 1.0000\n",
            "Epoch 91/500\n",
            "15/15 [==============================] - 0s 3ms/step - loss: 0.1487 - accuracy: 0.9714 - val_loss: 0.1038 - val_accuracy: 1.0000\n",
            "Epoch 92/500\n",
            "15/15 [==============================] - 0s 3ms/step - loss: 0.1462 - accuracy: 0.9714 - val_loss: 0.1069 - val_accuracy: 0.9778\n",
            "Epoch 93/500\n",
            "15/15 [==============================] - 0s 3ms/step - loss: 0.1454 - accuracy: 0.9619 - val_loss: 0.1000 - val_accuracy: 1.0000\n",
            "Epoch 94/500\n",
            "15/15 [==============================] - 0s 5ms/step - loss: 0.1441 - accuracy: 0.9714 - val_loss: 0.0990 - val_accuracy: 1.0000\n",
            "Epoch 95/500\n",
            "15/15 [==============================] - 0s 3ms/step - loss: 0.1420 - accuracy: 0.9714 - val_loss: 0.1011 - val_accuracy: 0.9778\n",
            "Epoch 96/500\n",
            "15/15 [==============================] - 0s 3ms/step - loss: 0.1408 - accuracy: 0.9619 - val_loss: 0.0963 - val_accuracy: 0.9778\n",
            "Epoch 97/500\n",
            "15/15 [==============================] - 0s 3ms/step - loss: 0.1383 - accuracy: 0.9714 - val_loss: 0.0936 - val_accuracy: 1.0000\n",
            "Epoch 98/500\n",
            "15/15 [==============================] - 0s 3ms/step - loss: 0.1388 - accuracy: 0.9714 - val_loss: 0.0940 - val_accuracy: 0.9778\n",
            "Epoch 99/500\n",
            "15/15 [==============================] - 0s 3ms/step - loss: 0.1384 - accuracy: 0.9714 - val_loss: 0.0918 - val_accuracy: 0.9778\n",
            "Epoch 100/500\n",
            "15/15 [==============================] - 0s 3ms/step - loss: 0.1352 - accuracy: 0.9714 - val_loss: 0.0914 - val_accuracy: 0.9778\n",
            "Epoch 101/500\n",
            "15/15 [==============================] - 0s 4ms/step - loss: 0.1327 - accuracy: 0.9714 - val_loss: 0.0883 - val_accuracy: 1.0000\n",
            "Epoch 102/500\n",
            "15/15 [==============================] - 0s 3ms/step - loss: 0.1351 - accuracy: 0.9714 - val_loss: 0.0867 - val_accuracy: 1.0000\n",
            "Epoch 103/500\n",
            "15/15 [==============================] - 0s 3ms/step - loss: 0.1432 - accuracy: 0.9333 - val_loss: 0.0944 - val_accuracy: 0.9778\n",
            "Epoch 104/500\n",
            "15/15 [==============================] - 0s 3ms/step - loss: 0.1283 - accuracy: 0.9714 - val_loss: 0.0837 - val_accuracy: 1.0000\n",
            "Epoch 105/500\n",
            "15/15 [==============================] - 0s 3ms/step - loss: 0.1361 - accuracy: 0.9619 - val_loss: 0.0826 - val_accuracy: 1.0000\n",
            "Epoch 106/500\n",
            "15/15 [==============================] - 0s 4ms/step - loss: 0.1313 - accuracy: 0.9619 - val_loss: 0.0900 - val_accuracy: 0.9778\n",
            "Epoch 107/500\n",
            "15/15 [==============================] - 0s 3ms/step - loss: 0.1388 - accuracy: 0.9524 - val_loss: 0.0806 - val_accuracy: 1.0000\n",
            "Epoch 108/500\n",
            "15/15 [==============================] - 0s 4ms/step - loss: 0.1326 - accuracy: 0.9619 - val_loss: 0.0835 - val_accuracy: 0.9778\n",
            "Epoch 109/500\n",
            "15/15 [==============================] - 0s 4ms/step - loss: 0.1270 - accuracy: 0.9714 - val_loss: 0.0794 - val_accuracy: 0.9778\n",
            "Epoch 110/500\n",
            "15/15 [==============================] - 0s 3ms/step - loss: 0.1238 - accuracy: 0.9714 - val_loss: 0.0785 - val_accuracy: 0.9778\n",
            "Epoch 111/500\n",
            "15/15 [==============================] - 0s 3ms/step - loss: 0.1237 - accuracy: 0.9714 - val_loss: 0.0766 - val_accuracy: 1.0000\n",
            "Epoch 112/500\n",
            "15/15 [==============================] - 0s 3ms/step - loss: 0.1259 - accuracy: 0.9714 - val_loss: 0.0763 - val_accuracy: 0.9778\n",
            "Epoch 113/500\n",
            "15/15 [==============================] - 0s 4ms/step - loss: 0.1256 - accuracy: 0.9619 - val_loss: 0.0753 - val_accuracy: 0.9778\n",
            "Epoch 114/500\n",
            "15/15 [==============================] - 0s 4ms/step - loss: 0.1197 - accuracy: 0.9714 - val_loss: 0.0748 - val_accuracy: 0.9778\n",
            "Epoch 115/500\n",
            "15/15 [==============================] - 0s 3ms/step - loss: 0.1209 - accuracy: 0.9714 - val_loss: 0.0741 - val_accuracy: 0.9778\n",
            "Epoch 116/500\n",
            "15/15 [==============================] - 0s 4ms/step - loss: 0.1208 - accuracy: 0.9714 - val_loss: 0.0707 - val_accuracy: 1.0000\n",
            "Epoch 117/500\n",
            "15/15 [==============================] - 0s 3ms/step - loss: 0.1225 - accuracy: 0.9714 - val_loss: 0.0740 - val_accuracy: 0.9778\n",
            "Epoch 118/500\n",
            "15/15 [==============================] - 0s 4ms/step - loss: 0.1165 - accuracy: 0.9714 - val_loss: 0.0695 - val_accuracy: 1.0000\n",
            "Epoch 119/500\n",
            "15/15 [==============================] - 0s 5ms/step - loss: 0.1168 - accuracy: 0.9714 - val_loss: 0.0696 - val_accuracy: 0.9778\n",
            "Epoch 120/500\n",
            "15/15 [==============================] - 0s 3ms/step - loss: 0.1162 - accuracy: 0.9714 - val_loss: 0.0677 - val_accuracy: 1.0000\n",
            "Epoch 121/500\n",
            "15/15 [==============================] - 0s 3ms/step - loss: 0.1142 - accuracy: 0.9714 - val_loss: 0.0720 - val_accuracy: 0.9778\n",
            "Epoch 122/500\n",
            "15/15 [==============================] - 0s 4ms/step - loss: 0.1193 - accuracy: 0.9619 - val_loss: 0.0715 - val_accuracy: 0.9778\n",
            "Epoch 123/500\n",
            "15/15 [==============================] - 0s 3ms/step - loss: 0.1117 - accuracy: 0.9714 - val_loss: 0.0650 - val_accuracy: 1.0000\n",
            "Epoch 124/500\n",
            "15/15 [==============================] - 0s 3ms/step - loss: 0.1128 - accuracy: 0.9714 - val_loss: 0.0658 - val_accuracy: 0.9778\n",
            "Epoch 125/500\n",
            "15/15 [==============================] - 0s 3ms/step - loss: 0.1107 - accuracy: 0.9714 - val_loss: 0.0688 - val_accuracy: 0.9778\n",
            "Epoch 126/500\n",
            "15/15 [==============================] - 0s 4ms/step - loss: 0.1124 - accuracy: 0.9619 - val_loss: 0.0675 - val_accuracy: 0.9778\n",
            "Epoch 127/500\n",
            "15/15 [==============================] - 0s 3ms/step - loss: 0.1092 - accuracy: 0.9714 - val_loss: 0.0634 - val_accuracy: 0.9778\n",
            "Epoch 128/500\n",
            "15/15 [==============================] - 0s 3ms/step - loss: 0.1105 - accuracy: 0.9714 - val_loss: 0.0643 - val_accuracy: 0.9778\n",
            "Epoch 129/500\n",
            "15/15 [==============================] - 0s 3ms/step - loss: 0.1087 - accuracy: 0.9714 - val_loss: 0.0619 - val_accuracy: 1.0000\n",
            "Epoch 130/500\n",
            "15/15 [==============================] - 0s 4ms/step - loss: 0.1090 - accuracy: 0.9714 - val_loss: 0.0613 - val_accuracy: 0.9778\n",
            "Epoch 131/500\n",
            "15/15 [==============================] - 0s 3ms/step - loss: 0.1064 - accuracy: 0.9714 - val_loss: 0.0634 - val_accuracy: 0.9778\n",
            "Epoch 132/500\n",
            "15/15 [==============================] - 0s 3ms/step - loss: 0.1098 - accuracy: 0.9524 - val_loss: 0.0626 - val_accuracy: 0.9778\n",
            "Epoch 133/500\n",
            "15/15 [==============================] - 0s 4ms/step - loss: 0.1088 - accuracy: 0.9714 - val_loss: 0.0591 - val_accuracy: 1.0000\n",
            "Epoch 134/500\n",
            "15/15 [==============================] - 0s 4ms/step - loss: 0.1073 - accuracy: 0.9714 - val_loss: 0.0599 - val_accuracy: 0.9778\n",
            "Epoch 135/500\n",
            "15/15 [==============================] - 0s 3ms/step - loss: 0.1066 - accuracy: 0.9714 - val_loss: 0.0585 - val_accuracy: 0.9778\n",
            "Epoch 136/500\n",
            "15/15 [==============================] - 0s 3ms/step - loss: 0.1080 - accuracy: 0.9714 - val_loss: 0.0610 - val_accuracy: 0.9778\n",
            "Epoch 137/500\n",
            "15/15 [==============================] - 0s 3ms/step - loss: 0.1042 - accuracy: 0.9714 - val_loss: 0.0581 - val_accuracy: 0.9778\n",
            "Epoch 138/500\n",
            "15/15 [==============================] - 0s 3ms/step - loss: 0.1031 - accuracy: 0.9714 - val_loss: 0.0589 - val_accuracy: 0.9778\n",
            "Epoch 139/500\n",
            "15/15 [==============================] - 0s 3ms/step - loss: 0.1043 - accuracy: 0.9714 - val_loss: 0.0565 - val_accuracy: 0.9778\n",
            "Epoch 140/500\n",
            "15/15 [==============================] - 0s 3ms/step - loss: 0.1044 - accuracy: 0.9714 - val_loss: 0.0575 - val_accuracy: 0.9778\n",
            "Epoch 141/500\n",
            "15/15 [==============================] - 0s 3ms/step - loss: 0.1020 - accuracy: 0.9714 - val_loss: 0.0573 - val_accuracy: 0.9778\n",
            "Epoch 142/500\n",
            "15/15 [==============================] - 0s 3ms/step - loss: 0.1013 - accuracy: 0.9714 - val_loss: 0.0554 - val_accuracy: 0.9778\n",
            "Epoch 143/500\n",
            "15/15 [==============================] - 0s 3ms/step - loss: 0.1073 - accuracy: 0.9714 - val_loss: 0.0534 - val_accuracy: 1.0000\n",
            "Epoch 144/500\n",
            "15/15 [==============================] - 0s 4ms/step - loss: 0.1016 - accuracy: 0.9619 - val_loss: 0.0633 - val_accuracy: 0.9778\n",
            "Epoch 145/500\n",
            "15/15 [==============================] - 0s 3ms/step - loss: 0.1026 - accuracy: 0.9429 - val_loss: 0.0543 - val_accuracy: 0.9778\n",
            "Epoch 146/500\n",
            "15/15 [==============================] - 0s 3ms/step - loss: 0.1038 - accuracy: 0.9714 - val_loss: 0.0524 - val_accuracy: 1.0000\n",
            "Epoch 147/500\n",
            "15/15 [==============================] - 0s 3ms/step - loss: 0.1011 - accuracy: 0.9714 - val_loss: 0.0542 - val_accuracy: 0.9778\n",
            "Epoch 148/500\n",
            "15/15 [==============================] - 0s 4ms/step - loss: 0.1015 - accuracy: 0.9714 - val_loss: 0.0525 - val_accuracy: 0.9778\n",
            "Epoch 149/500\n",
            "15/15 [==============================] - 0s 4ms/step - loss: 0.1006 - accuracy: 0.9714 - val_loss: 0.0506 - val_accuracy: 1.0000\n",
            "Epoch 150/500\n",
            "15/15 [==============================] - 0s 3ms/step - loss: 0.1003 - accuracy: 0.9714 - val_loss: 0.0560 - val_accuracy: 0.9778\n",
            "Epoch 151/500\n",
            "15/15 [==============================] - 0s 3ms/step - loss: 0.0972 - accuracy: 0.9714 - val_loss: 0.0510 - val_accuracy: 0.9778\n",
            "Epoch 152/500\n",
            "15/15 [==============================] - 0s 4ms/step - loss: 0.0996 - accuracy: 0.9714 - val_loss: 0.0507 - val_accuracy: 0.9778\n",
            "Epoch 153/500\n",
            "15/15 [==============================] - 0s 4ms/step - loss: 0.1034 - accuracy: 0.9429 - val_loss: 0.0560 - val_accuracy: 0.9778\n",
            "Epoch 154/500\n",
            "15/15 [==============================] - 0s 4ms/step - loss: 0.0966 - accuracy: 0.9714 - val_loss: 0.0490 - val_accuracy: 1.0000\n",
            "Epoch 155/500\n",
            "15/15 [==============================] - 0s 3ms/step - loss: 0.0997 - accuracy: 0.9714 - val_loss: 0.0512 - val_accuracy: 0.9778\n",
            "Epoch 156/500\n",
            "15/15 [==============================] - 0s 3ms/step - loss: 0.0976 - accuracy: 0.9714 - val_loss: 0.0518 - val_accuracy: 0.9778\n",
            "Epoch 157/500\n",
            "15/15 [==============================] - 0s 3ms/step - loss: 0.0985 - accuracy: 0.9714 - val_loss: 0.0492 - val_accuracy: 0.9778\n",
            "Epoch 158/500\n",
            "15/15 [==============================] - 0s 3ms/step - loss: 0.0962 - accuracy: 0.9714 - val_loss: 0.0563 - val_accuracy: 0.9778\n",
            "Epoch 159/500\n",
            "15/15 [==============================] - 0s 4ms/step - loss: 0.0965 - accuracy: 0.9619 - val_loss: 0.0470 - val_accuracy: 1.0000\n",
            "Epoch 160/500\n",
            "15/15 [==============================] - 0s 3ms/step - loss: 0.0941 - accuracy: 0.9714 - val_loss: 0.0493 - val_accuracy: 0.9778\n",
            "Epoch 161/500\n",
            "15/15 [==============================] - 0s 3ms/step - loss: 0.0986 - accuracy: 0.9714 - val_loss: 0.0507 - val_accuracy: 0.9778\n",
            "Epoch 162/500\n",
            "15/15 [==============================] - 0s 3ms/step - loss: 0.0936 - accuracy: 0.9714 - val_loss: 0.0466 - val_accuracy: 0.9778\n",
            "Epoch 163/500\n",
            "15/15 [==============================] - 0s 3ms/step - loss: 0.0943 - accuracy: 0.9714 - val_loss: 0.0487 - val_accuracy: 0.9778\n",
            "Epoch 164/500\n",
            "15/15 [==============================] - 0s 3ms/step - loss: 0.0929 - accuracy: 0.9714 - val_loss: 0.0490 - val_accuracy: 0.9778\n",
            "Epoch 165/500\n",
            "15/15 [==============================] - 0s 4ms/step - loss: 0.0959 - accuracy: 0.9714 - val_loss: 0.0510 - val_accuracy: 0.9778\n",
            "Epoch 166/500\n",
            "15/15 [==============================] - 0s 3ms/step - loss: 0.0987 - accuracy: 0.9619 - val_loss: 0.0440 - val_accuracy: 1.0000\n",
            "Epoch 167/500\n",
            "15/15 [==============================] - 0s 3ms/step - loss: 0.0983 - accuracy: 0.9619 - val_loss: 0.0527 - val_accuracy: 0.9778\n",
            "Epoch 168/500\n",
            "15/15 [==============================] - 0s 3ms/step - loss: 0.0940 - accuracy: 0.9714 - val_loss: 0.0465 - val_accuracy: 0.9778\n",
            "Epoch 169/500\n",
            "15/15 [==============================] - 0s 4ms/step - loss: 0.0941 - accuracy: 0.9714 - val_loss: 0.0467 - val_accuracy: 0.9778\n",
            "Epoch 170/500\n",
            "15/15 [==============================] - 0s 3ms/step - loss: 0.0910 - accuracy: 0.9714 - val_loss: 0.0475 - val_accuracy: 0.9778\n",
            "Epoch 171/500\n",
            "15/15 [==============================] - 0s 3ms/step - loss: 0.0905 - accuracy: 0.9714 - val_loss: 0.0478 - val_accuracy: 0.9778\n",
            "Epoch 172/500\n",
            "15/15 [==============================] - 0s 3ms/step - loss: 0.0908 - accuracy: 0.9714 - val_loss: 0.0446 - val_accuracy: 0.9778\n",
            "Epoch 173/500\n",
            "15/15 [==============================] - 0s 4ms/step - loss: 0.0924 - accuracy: 0.9714 - val_loss: 0.0446 - val_accuracy: 0.9778\n",
            "Epoch 174/500\n",
            "15/15 [==============================] - 0s 3ms/step - loss: 0.0890 - accuracy: 0.9714 - val_loss: 0.0471 - val_accuracy: 0.9778\n",
            "Epoch 175/500\n",
            "15/15 [==============================] - 0s 3ms/step - loss: 0.0900 - accuracy: 0.9714 - val_loss: 0.0455 - val_accuracy: 0.9778\n",
            "Epoch 176/500\n",
            "15/15 [==============================] - 0s 3ms/step - loss: 0.0897 - accuracy: 0.9714 - val_loss: 0.0442 - val_accuracy: 0.9778\n",
            "Epoch 177/500\n",
            "15/15 [==============================] - 0s 3ms/step - loss: 0.0913 - accuracy: 0.9714 - val_loss: 0.0480 - val_accuracy: 0.9778\n",
            "Epoch 178/500\n",
            "15/15 [==============================] - 0s 3ms/step - loss: 0.0902 - accuracy: 0.9714 - val_loss: 0.0433 - val_accuracy: 0.9778\n",
            "Epoch 179/500\n",
            "15/15 [==============================] - 0s 5ms/step - loss: 0.0903 - accuracy: 0.9714 - val_loss: 0.0464 - val_accuracy: 0.9778\n",
            "Epoch 180/500\n",
            "15/15 [==============================] - 0s 3ms/step - loss: 0.0890 - accuracy: 0.9714 - val_loss: 0.0429 - val_accuracy: 0.9778\n",
            "Epoch 181/500\n",
            "15/15 [==============================] - 0s 4ms/step - loss: 0.0873 - accuracy: 0.9714 - val_loss: 0.0446 - val_accuracy: 0.9778\n",
            "Epoch 182/500\n",
            "15/15 [==============================] - 0s 4ms/step - loss: 0.0906 - accuracy: 0.9714 - val_loss: 0.0434 - val_accuracy: 0.9778\n",
            "Epoch 183/500\n",
            "15/15 [==============================] - 0s 4ms/step - loss: 0.0909 - accuracy: 0.9714 - val_loss: 0.0409 - val_accuracy: 0.9778\n",
            "Epoch 184/500\n",
            "15/15 [==============================] - 0s 4ms/step - loss: 0.0868 - accuracy: 0.9714 - val_loss: 0.0477 - val_accuracy: 0.9778\n",
            "Epoch 185/500\n",
            "15/15 [==============================] - 0s 3ms/step - loss: 0.0887 - accuracy: 0.9619 - val_loss: 0.0449 - val_accuracy: 0.9778\n",
            "Epoch 186/500\n",
            "15/15 [==============================] - 0s 3ms/step - loss: 0.0915 - accuracy: 0.9714 - val_loss: 0.0387 - val_accuracy: 1.0000\n",
            "Epoch 187/500\n",
            "15/15 [==============================] - 0s 3ms/step - loss: 0.0852 - accuracy: 0.9619 - val_loss: 0.0483 - val_accuracy: 0.9778\n",
            "Epoch 188/500\n",
            "15/15 [==============================] - 0s 3ms/step - loss: 0.0882 - accuracy: 0.9714 - val_loss: 0.0426 - val_accuracy: 0.9778\n",
            "Epoch 189/500\n",
            "15/15 [==============================] - 0s 4ms/step - loss: 0.0867 - accuracy: 0.9714 - val_loss: 0.0451 - val_accuracy: 0.9778\n",
            "Epoch 190/500\n",
            "15/15 [==============================] - 0s 3ms/step - loss: 0.0910 - accuracy: 0.9714 - val_loss: 0.0422 - val_accuracy: 0.9778\n",
            "Epoch 191/500\n",
            "15/15 [==============================] - 0s 3ms/step - loss: 0.0852 - accuracy: 0.9714 - val_loss: 0.0437 - val_accuracy: 0.9778\n",
            "Epoch 192/500\n",
            "15/15 [==============================] - 0s 3ms/step - loss: 0.0862 - accuracy: 0.9714 - val_loss: 0.0464 - val_accuracy: 0.9778\n",
            "Epoch 193/500\n",
            "15/15 [==============================] - 0s 3ms/step - loss: 0.0879 - accuracy: 0.9714 - val_loss: 0.0421 - val_accuracy: 0.9778\n",
            "Epoch 194/500\n",
            "15/15 [==============================] - 0s 4ms/step - loss: 0.0867 - accuracy: 0.9714 - val_loss: 0.0386 - val_accuracy: 0.9778\n",
            "Epoch 195/500\n",
            "15/15 [==============================] - 0s 3ms/step - loss: 0.0923 - accuracy: 0.9619 - val_loss: 0.0399 - val_accuracy: 0.9778\n",
            "Epoch 196/500\n",
            "15/15 [==============================] - 0s 3ms/step - loss: 0.0896 - accuracy: 0.9619 - val_loss: 0.0527 - val_accuracy: 0.9778\n",
            "Epoch 197/500\n",
            "15/15 [==============================] - 0s 3ms/step - loss: 0.0878 - accuracy: 0.9619 - val_loss: 0.0376 - val_accuracy: 1.0000\n",
            "Epoch 198/500\n",
            "15/15 [==============================] - 0s 4ms/step - loss: 0.0905 - accuracy: 0.9619 - val_loss: 0.0458 - val_accuracy: 0.9778\n",
            "Epoch 199/500\n",
            "15/15 [==============================] - 0s 3ms/step - loss: 0.0968 - accuracy: 0.9619 - val_loss: 0.0363 - val_accuracy: 1.0000\n",
            "Epoch 200/500\n",
            "15/15 [==============================] - 0s 3ms/step - loss: 0.0821 - accuracy: 0.9714 - val_loss: 0.0526 - val_accuracy: 0.9778\n",
            "Epoch 201/500\n",
            "15/15 [==============================] - 0s 4ms/step - loss: 0.0851 - accuracy: 0.9714 - val_loss: 0.0411 - val_accuracy: 0.9778\n",
            "Epoch 202/500\n",
            "15/15 [==============================] - 0s 3ms/step - loss: 0.0853 - accuracy: 0.9714 - val_loss: 0.0402 - val_accuracy: 0.9778\n",
            "Epoch 203/500\n",
            "15/15 [==============================] - 0s 3ms/step - loss: 0.0826 - accuracy: 0.9714 - val_loss: 0.0443 - val_accuracy: 0.9778\n",
            "Epoch 204/500\n",
            "15/15 [==============================] - 0s 3ms/step - loss: 0.0847 - accuracy: 0.9714 - val_loss: 0.0388 - val_accuracy: 0.9778\n",
            "Epoch 205/500\n",
            "15/15 [==============================] - 0s 4ms/step - loss: 0.0849 - accuracy: 0.9810 - val_loss: 0.0466 - val_accuracy: 0.9778\n",
            "Epoch 206/500\n",
            "15/15 [==============================] - 0s 3ms/step - loss: 0.0849 - accuracy: 0.9810 - val_loss: 0.0366 - val_accuracy: 0.9778\n",
            "Epoch 207/500\n",
            "15/15 [==============================] - 0s 4ms/step - loss: 0.0907 - accuracy: 0.9714 - val_loss: 0.0415 - val_accuracy: 0.9778\n",
            "Epoch 208/500\n",
            "15/15 [==============================] - 0s 3ms/step - loss: 0.0925 - accuracy: 0.9619 - val_loss: 0.0352 - val_accuracy: 1.0000\n",
            "Epoch 209/500\n",
            "15/15 [==============================] - 0s 3ms/step - loss: 0.0831 - accuracy: 0.9810 - val_loss: 0.0481 - val_accuracy: 0.9778\n",
            "Epoch 210/500\n",
            "15/15 [==============================] - 0s 3ms/step - loss: 0.0941 - accuracy: 0.9524 - val_loss: 0.0381 - val_accuracy: 0.9778\n",
            "Epoch 211/500\n",
            "15/15 [==============================] - 0s 4ms/step - loss: 0.0874 - accuracy: 0.9619 - val_loss: 0.0422 - val_accuracy: 0.9778\n",
            "Epoch 212/500\n",
            "15/15 [==============================] - 0s 3ms/step - loss: 0.0821 - accuracy: 0.9714 - val_loss: 0.0375 - val_accuracy: 0.9778\n",
            "Epoch 213/500\n",
            "15/15 [==============================] - 0s 3ms/step - loss: 0.0810 - accuracy: 0.9714 - val_loss: 0.0384 - val_accuracy: 0.9778\n",
            "Epoch 214/500\n",
            "15/15 [==============================] - 0s 3ms/step - loss: 0.0817 - accuracy: 0.9714 - val_loss: 0.0383 - val_accuracy: 0.9778\n",
            "Epoch 215/500\n",
            "15/15 [==============================] - 0s 3ms/step - loss: 0.0814 - accuracy: 0.9714 - val_loss: 0.0413 - val_accuracy: 0.9778\n",
            "Epoch 216/500\n",
            "15/15 [==============================] - 0s 5ms/step - loss: 0.0804 - accuracy: 0.9714 - val_loss: 0.0382 - val_accuracy: 0.9778\n",
            "Epoch 217/500\n",
            "15/15 [==============================] - 0s 4ms/step - loss: 0.0811 - accuracy: 0.9714 - val_loss: 0.0391 - val_accuracy: 0.9778\n",
            "Epoch 218/500\n",
            "15/15 [==============================] - 0s 3ms/step - loss: 0.0801 - accuracy: 0.9714 - val_loss: 0.0366 - val_accuracy: 0.9778\n",
            "Epoch 219/500\n",
            "15/15 [==============================] - 0s 4ms/step - loss: 0.0804 - accuracy: 0.9714 - val_loss: 0.0394 - val_accuracy: 0.9778\n",
            "Epoch 220/500\n",
            "15/15 [==============================] - 0s 4ms/step - loss: 0.0807 - accuracy: 0.9714 - val_loss: 0.0385 - val_accuracy: 0.9778\n",
            "Epoch 221/500\n",
            "15/15 [==============================] - 0s 3ms/step - loss: 0.0807 - accuracy: 0.9714 - val_loss: 0.0351 - val_accuracy: 0.9778\n",
            "Epoch 222/500\n",
            "15/15 [==============================] - 0s 4ms/step - loss: 0.0788 - accuracy: 0.9714 - val_loss: 0.0429 - val_accuracy: 0.9778\n",
            "Epoch 223/500\n",
            "15/15 [==============================] - 0s 3ms/step - loss: 0.0922 - accuracy: 0.9714 - val_loss: 0.0450 - val_accuracy: 0.9778\n",
            "Epoch 224/500\n",
            "15/15 [==============================] - 0s 3ms/step - loss: 0.0815 - accuracy: 0.9714 - val_loss: 0.0318 - val_accuracy: 1.0000\n",
            "Epoch 225/500\n",
            "15/15 [==============================] - 0s 5ms/step - loss: 0.0906 - accuracy: 0.9714 - val_loss: 0.0418 - val_accuracy: 0.9778\n",
            "Epoch 226/500\n",
            "15/15 [==============================] - 0s 3ms/step - loss: 0.0828 - accuracy: 0.9619 - val_loss: 0.0375 - val_accuracy: 0.9778\n",
            "Epoch 227/500\n",
            "15/15 [==============================] - 0s 4ms/step - loss: 0.0856 - accuracy: 0.9619 - val_loss: 0.0370 - val_accuracy: 0.9778\n",
            "Epoch 228/500\n",
            "15/15 [==============================] - 0s 3ms/step - loss: 0.0853 - accuracy: 0.9714 - val_loss: 0.0417 - val_accuracy: 0.9778\n",
            "Epoch 229/500\n",
            "15/15 [==============================] - 0s 5ms/step - loss: 0.0781 - accuracy: 0.9714 - val_loss: 0.0344 - val_accuracy: 0.9778\n",
            "Epoch 230/500\n",
            "15/15 [==============================] - 0s 4ms/step - loss: 0.0829 - accuracy: 0.9714 - val_loss: 0.0399 - val_accuracy: 0.9778\n",
            "Epoch 231/500\n",
            "15/15 [==============================] - 0s 5ms/step - loss: 0.0808 - accuracy: 0.9714 - val_loss: 0.0374 - val_accuracy: 0.9778\n",
            "Epoch 232/500\n",
            "15/15 [==============================] - 0s 3ms/step - loss: 0.0783 - accuracy: 0.9714 - val_loss: 0.0372 - val_accuracy: 0.9778\n",
            "Epoch 233/500\n",
            "15/15 [==============================] - 0s 3ms/step - loss: 0.0797 - accuracy: 0.9714 - val_loss: 0.0350 - val_accuracy: 0.9778\n",
            "Epoch 234/500\n",
            "15/15 [==============================] - 0s 3ms/step - loss: 0.0831 - accuracy: 0.9619 - val_loss: 0.0437 - val_accuracy: 0.9778\n",
            "Epoch 235/500\n",
            "15/15 [==============================] - 0s 5ms/step - loss: 0.0769 - accuracy: 0.9810 - val_loss: 0.0325 - val_accuracy: 0.9778\n",
            "Epoch 236/500\n",
            "15/15 [==============================] - 0s 4ms/step - loss: 0.0791 - accuracy: 0.9619 - val_loss: 0.0364 - val_accuracy: 0.9778\n",
            "Epoch 237/500\n",
            "15/15 [==============================] - 0s 3ms/step - loss: 0.0806 - accuracy: 0.9714 - val_loss: 0.0403 - val_accuracy: 0.9778\n",
            "Epoch 238/500\n",
            "15/15 [==============================] - 0s 4ms/step - loss: 0.0830 - accuracy: 0.9810 - val_loss: 0.0334 - val_accuracy: 0.9778\n",
            "Epoch 239/500\n",
            "15/15 [==============================] - 0s 4ms/step - loss: 0.0883 - accuracy: 0.9714 - val_loss: 0.0407 - val_accuracy: 0.9778\n",
            "Epoch 240/500\n",
            "15/15 [==============================] - 0s 3ms/step - loss: 0.0751 - accuracy: 0.9810 - val_loss: 0.0345 - val_accuracy: 0.9778\n",
            "Epoch 241/500\n",
            "15/15 [==============================] - 0s 4ms/step - loss: 0.0770 - accuracy: 0.9714 - val_loss: 0.0372 - val_accuracy: 0.9778\n",
            "Epoch 242/500\n",
            "15/15 [==============================] - 0s 4ms/step - loss: 0.0761 - accuracy: 0.9714 - val_loss: 0.0352 - val_accuracy: 0.9778\n",
            "Epoch 243/500\n",
            "15/15 [==============================] - 0s 3ms/step - loss: 0.0797 - accuracy: 0.9905 - val_loss: 0.0379 - val_accuracy: 0.9778\n",
            "Epoch 244/500\n",
            "15/15 [==============================] - 0s 3ms/step - loss: 0.0780 - accuracy: 0.9714 - val_loss: 0.0377 - val_accuracy: 0.9778\n",
            "Epoch 245/500\n",
            "15/15 [==============================] - 0s 3ms/step - loss: 0.0756 - accuracy: 0.9714 - val_loss: 0.0370 - val_accuracy: 0.9778\n",
            "Epoch 246/500\n",
            "15/15 [==============================] - 0s 3ms/step - loss: 0.0767 - accuracy: 0.9714 - val_loss: 0.0376 - val_accuracy: 0.9778\n",
            "Epoch 247/500\n",
            "15/15 [==============================] - 0s 3ms/step - loss: 0.0765 - accuracy: 0.9810 - val_loss: 0.0415 - val_accuracy: 0.9778\n",
            "Epoch 248/500\n",
            "15/15 [==============================] - 0s 4ms/step - loss: 0.0800 - accuracy: 0.9714 - val_loss: 0.0318 - val_accuracy: 0.9778\n",
            "Epoch 249/500\n",
            "15/15 [==============================] - 0s 3ms/step - loss: 0.0808 - accuracy: 0.9714 - val_loss: 0.0426 - val_accuracy: 0.9778\n",
            "Epoch 250/500\n",
            "15/15 [==============================] - 0s 4ms/step - loss: 0.0773 - accuracy: 0.9714 - val_loss: 0.0342 - val_accuracy: 0.9778\n",
            "Epoch 251/500\n",
            "15/15 [==============================] - 0s 5ms/step - loss: 0.0748 - accuracy: 0.9714 - val_loss: 0.0404 - val_accuracy: 0.9778\n",
            "Epoch 252/500\n",
            "15/15 [==============================] - 0s 3ms/step - loss: 0.0764 - accuracy: 0.9905 - val_loss: 0.0406 - val_accuracy: 0.9778\n",
            "Epoch 253/500\n",
            "15/15 [==============================] - 0s 3ms/step - loss: 0.0754 - accuracy: 0.9714 - val_loss: 0.0333 - val_accuracy: 0.9778\n",
            "Epoch 254/500\n",
            "15/15 [==============================] - 0s 5ms/step - loss: 0.0745 - accuracy: 0.9714 - val_loss: 0.0399 - val_accuracy: 0.9778\n",
            "Epoch 255/500\n",
            "15/15 [==============================] - 0s 4ms/step - loss: 0.0752 - accuracy: 0.9905 - val_loss: 0.0407 - val_accuracy: 0.9778\n",
            "Epoch 256/500\n",
            "15/15 [==============================] - 0s 4ms/step - loss: 0.0782 - accuracy: 0.9714 - val_loss: 0.0322 - val_accuracy: 0.9778\n",
            "Epoch 257/500\n",
            "15/15 [==============================] - 0s 3ms/step - loss: 0.0746 - accuracy: 0.9714 - val_loss: 0.0371 - val_accuracy: 0.9778\n",
            "Epoch 258/500\n",
            "15/15 [==============================] - 0s 3ms/step - loss: 0.0728 - accuracy: 0.9905 - val_loss: 0.0441 - val_accuracy: 0.9778\n",
            "Epoch 259/500\n",
            "15/15 [==============================] - 0s 3ms/step - loss: 0.0744 - accuracy: 0.9905 - val_loss: 0.0370 - val_accuracy: 0.9778\n",
            "Epoch 260/500\n",
            "15/15 [==============================] - 0s 4ms/step - loss: 0.0764 - accuracy: 0.9714 - val_loss: 0.0363 - val_accuracy: 0.9778\n",
            "Epoch 261/500\n",
            "15/15 [==============================] - 0s 3ms/step - loss: 0.0742 - accuracy: 0.9905 - val_loss: 0.0355 - val_accuracy: 0.9778\n",
            "Epoch 262/500\n",
            "15/15 [==============================] - 0s 3ms/step - loss: 0.0751 - accuracy: 0.9714 - val_loss: 0.0356 - val_accuracy: 0.9778\n",
            "Epoch 263/500\n",
            "15/15 [==============================] - 0s 4ms/step - loss: 0.0739 - accuracy: 0.9714 - val_loss: 0.0349 - val_accuracy: 0.9778\n",
            "Epoch 264/500\n",
            "15/15 [==============================] - 0s 3ms/step - loss: 0.0786 - accuracy: 0.9905 - val_loss: 0.0381 - val_accuracy: 0.9778\n",
            "Epoch 265/500\n",
            "15/15 [==============================] - 0s 5ms/step - loss: 0.0742 - accuracy: 0.9714 - val_loss: 0.0336 - val_accuracy: 0.9778\n",
            "Epoch 266/500\n",
            "15/15 [==============================] - 0s 3ms/step - loss: 0.0766 - accuracy: 0.9810 - val_loss: 0.0346 - val_accuracy: 0.9778\n",
            "Epoch 267/500\n",
            "15/15 [==============================] - 0s 3ms/step - loss: 0.0743 - accuracy: 0.9714 - val_loss: 0.0374 - val_accuracy: 0.9778\n",
            "Epoch 268/500\n",
            "15/15 [==============================] - 0s 4ms/step - loss: 0.0742 - accuracy: 0.9810 - val_loss: 0.0388 - val_accuracy: 0.9778\n",
            "Epoch 269/500\n",
            "15/15 [==============================] - 0s 4ms/step - loss: 0.0750 - accuracy: 0.9810 - val_loss: 0.0370 - val_accuracy: 0.9778\n",
            "Epoch 270/500\n",
            "15/15 [==============================] - 0s 3ms/step - loss: 0.0720 - accuracy: 0.9810 - val_loss: 0.0339 - val_accuracy: 0.9778\n",
            "Epoch 271/500\n",
            "15/15 [==============================] - 0s 4ms/step - loss: 0.0780 - accuracy: 0.9619 - val_loss: 0.0384 - val_accuracy: 0.9778\n",
            "Epoch 272/500\n",
            "15/15 [==============================] - 0s 4ms/step - loss: 0.0761 - accuracy: 0.9714 - val_loss: 0.0352 - val_accuracy: 0.9778\n",
            "Epoch 273/500\n",
            "15/15 [==============================] - 0s 4ms/step - loss: 0.0734 - accuracy: 0.9714 - val_loss: 0.0348 - val_accuracy: 0.9778\n",
            "Epoch 274/500\n",
            "15/15 [==============================] - 0s 3ms/step - loss: 0.0736 - accuracy: 0.9810 - val_loss: 0.0393 - val_accuracy: 0.9778\n",
            "Epoch 275/500\n",
            "15/15 [==============================] - 0s 3ms/step - loss: 0.0726 - accuracy: 0.9810 - val_loss: 0.0346 - val_accuracy: 0.9778\n",
            "Epoch 276/500\n",
            "15/15 [==============================] - 0s 4ms/step - loss: 0.0727 - accuracy: 0.9810 - val_loss: 0.0369 - val_accuracy: 0.9778\n",
            "Epoch 277/500\n",
            "15/15 [==============================] - 0s 3ms/step - loss: 0.0730 - accuracy: 0.9810 - val_loss: 0.0379 - val_accuracy: 0.9778\n",
            "Epoch 278/500\n",
            "15/15 [==============================] - 0s 5ms/step - loss: 0.0725 - accuracy: 0.9905 - val_loss: 0.0337 - val_accuracy: 0.9778\n",
            "Epoch 279/500\n",
            "15/15 [==============================] - 0s 4ms/step - loss: 0.0737 - accuracy: 0.9714 - val_loss: 0.0337 - val_accuracy: 0.9778\n",
            "Epoch 280/500\n",
            "15/15 [==============================] - 0s 3ms/step - loss: 0.0746 - accuracy: 0.9810 - val_loss: 0.0348 - val_accuracy: 0.9778\n",
            "Epoch 281/500\n",
            "15/15 [==============================] - 0s 3ms/step - loss: 0.0718 - accuracy: 0.9810 - val_loss: 0.0352 - val_accuracy: 0.9778\n",
            "Epoch 282/500\n",
            "15/15 [==============================] - 0s 4ms/step - loss: 0.0718 - accuracy: 0.9714 - val_loss: 0.0365 - val_accuracy: 0.9778\n",
            "Epoch 283/500\n",
            "15/15 [==============================] - 0s 3ms/step - loss: 0.0729 - accuracy: 0.9905 - val_loss: 0.0401 - val_accuracy: 0.9778\n",
            "Epoch 284/500\n",
            "15/15 [==============================] - 0s 4ms/step - loss: 0.0731 - accuracy: 0.9810 - val_loss: 0.0329 - val_accuracy: 0.9778\n",
            "Epoch 285/500\n",
            "15/15 [==============================] - 0s 3ms/step - loss: 0.0718 - accuracy: 0.9714 - val_loss: 0.0316 - val_accuracy: 0.9778\n",
            "Epoch 286/500\n",
            "15/15 [==============================] - 0s 4ms/step - loss: 0.0744 - accuracy: 0.9810 - val_loss: 0.0353 - val_accuracy: 0.9778\n",
            "Epoch 287/500\n",
            "15/15 [==============================] - 0s 5ms/step - loss: 0.0712 - accuracy: 0.9810 - val_loss: 0.0335 - val_accuracy: 0.9778\n",
            "Epoch 288/500\n",
            "15/15 [==============================] - 0s 4ms/step - loss: 0.0729 - accuracy: 0.9714 - val_loss: 0.0335 - val_accuracy: 0.9778\n",
            "Epoch 289/500\n",
            "15/15 [==============================] - 0s 4ms/step - loss: 0.0749 - accuracy: 0.9905 - val_loss: 0.0329 - val_accuracy: 0.9778\n",
            "Epoch 290/500\n",
            "15/15 [==============================] - 0s 4ms/step - loss: 0.0714 - accuracy: 0.9810 - val_loss: 0.0348 - val_accuracy: 0.9778\n",
            "Epoch 291/500\n",
            "15/15 [==============================] - 0s 3ms/step - loss: 0.0754 - accuracy: 0.9714 - val_loss: 0.0386 - val_accuracy: 0.9778\n",
            "Epoch 292/500\n",
            "15/15 [==============================] - 0s 3ms/step - loss: 0.0754 - accuracy: 0.9619 - val_loss: 0.0290 - val_accuracy: 0.9778\n",
            "Epoch 293/500\n",
            "15/15 [==============================] - 0s 3ms/step - loss: 0.0706 - accuracy: 0.9810 - val_loss: 0.0415 - val_accuracy: 0.9778\n",
            "Epoch 294/500\n",
            "15/15 [==============================] - 0s 3ms/step - loss: 0.0716 - accuracy: 0.9905 - val_loss: 0.0392 - val_accuracy: 0.9778\n",
            "Epoch 295/500\n",
            "15/15 [==============================] - 0s 3ms/step - loss: 0.0720 - accuracy: 0.9905 - val_loss: 0.0355 - val_accuracy: 0.9778\n",
            "Epoch 296/500\n",
            "15/15 [==============================] - 0s 3ms/step - loss: 0.0717 - accuracy: 0.9905 - val_loss: 0.0318 - val_accuracy: 0.9778\n",
            "Epoch 297/500\n",
            "15/15 [==============================] - 0s 4ms/step - loss: 0.0734 - accuracy: 0.9714 - val_loss: 0.0353 - val_accuracy: 0.9778\n",
            "Epoch 298/500\n",
            "15/15 [==============================] - 0s 4ms/step - loss: 0.0716 - accuracy: 0.9714 - val_loss: 0.0397 - val_accuracy: 0.9778\n",
            "Epoch 299/500\n",
            "15/15 [==============================] - 0s 3ms/step - loss: 0.0757 - accuracy: 0.9810 - val_loss: 0.0393 - val_accuracy: 0.9778\n",
            "Epoch 300/500\n",
            "15/15 [==============================] - 0s 4ms/step - loss: 0.0696 - accuracy: 0.9714 - val_loss: 0.0298 - val_accuracy: 0.9778\n",
            "Epoch 301/500\n",
            "15/15 [==============================] - 0s 4ms/step - loss: 0.0767 - accuracy: 0.9619 - val_loss: 0.0377 - val_accuracy: 0.9778\n",
            "Epoch 302/500\n",
            "15/15 [==============================] - 0s 3ms/step - loss: 0.0694 - accuracy: 0.9810 - val_loss: 0.0335 - val_accuracy: 0.9778\n",
            "Epoch 303/500\n",
            "15/15 [==============================] - 0s 4ms/step - loss: 0.0689 - accuracy: 0.9810 - val_loss: 0.0335 - val_accuracy: 0.9778\n",
            "Epoch 304/500\n",
            "15/15 [==============================] - 0s 3ms/step - loss: 0.0739 - accuracy: 0.9810 - val_loss: 0.0389 - val_accuracy: 0.9778\n",
            "Epoch 305/500\n",
            "15/15 [==============================] - 0s 3ms/step - loss: 0.0706 - accuracy: 0.9714 - val_loss: 0.0319 - val_accuracy: 0.9778\n",
            "Epoch 306/500\n",
            "15/15 [==============================] - 0s 3ms/step - loss: 0.0748 - accuracy: 0.9714 - val_loss: 0.0347 - val_accuracy: 0.9778\n",
            "Epoch 307/500\n",
            "15/15 [==============================] - 0s 3ms/step - loss: 0.0701 - accuracy: 0.9714 - val_loss: 0.0315 - val_accuracy: 0.9778\n",
            "Epoch 308/500\n",
            "15/15 [==============================] - 0s 3ms/step - loss: 0.0715 - accuracy: 0.9905 - val_loss: 0.0385 - val_accuracy: 0.9778\n",
            "Epoch 309/500\n",
            "15/15 [==============================] - 0s 3ms/step - loss: 0.0686 - accuracy: 0.9810 - val_loss: 0.0333 - val_accuracy: 0.9778\n",
            "Epoch 310/500\n",
            "15/15 [==============================] - 0s 3ms/step - loss: 0.0740 - accuracy: 0.9619 - val_loss: 0.0375 - val_accuracy: 0.9778\n",
            "Epoch 311/500\n",
            "15/15 [==============================] - 0s 3ms/step - loss: 0.0695 - accuracy: 0.9810 - val_loss: 0.0385 - val_accuracy: 0.9778\n",
            "Epoch 312/500\n",
            "15/15 [==============================] - 0s 3ms/step - loss: 0.0683 - accuracy: 0.9905 - val_loss: 0.0330 - val_accuracy: 0.9778\n",
            "Epoch 313/500\n",
            "15/15 [==============================] - 0s 4ms/step - loss: 0.0725 - accuracy: 0.9619 - val_loss: 0.0316 - val_accuracy: 0.9778\n",
            "Epoch 314/500\n",
            "15/15 [==============================] - 0s 4ms/step - loss: 0.0705 - accuracy: 0.9905 - val_loss: 0.0389 - val_accuracy: 0.9778\n",
            "Epoch 315/500\n",
            "15/15 [==============================] - 0s 4ms/step - loss: 0.0713 - accuracy: 0.9714 - val_loss: 0.0341 - val_accuracy: 0.9778\n",
            "Epoch 316/500\n",
            "15/15 [==============================] - 0s 5ms/step - loss: 0.0711 - accuracy: 0.9810 - val_loss: 0.0319 - val_accuracy: 0.9778\n",
            "Epoch 317/500\n",
            "15/15 [==============================] - 0s 3ms/step - loss: 0.0748 - accuracy: 0.9810 - val_loss: 0.0374 - val_accuracy: 0.9778\n",
            "Epoch 318/500\n",
            "15/15 [==============================] - 0s 4ms/step - loss: 0.0680 - accuracy: 0.9905 - val_loss: 0.0333 - val_accuracy: 0.9778\n",
            "Epoch 319/500\n",
            "15/15 [==============================] - 0s 5ms/step - loss: 0.0677 - accuracy: 0.9714 - val_loss: 0.0325 - val_accuracy: 0.9778\n",
            "Epoch 320/500\n",
            "15/15 [==============================] - 0s 4ms/step - loss: 0.0711 - accuracy: 0.9810 - val_loss: 0.0364 - val_accuracy: 0.9778\n",
            "Epoch 321/500\n",
            "15/15 [==============================] - 0s 3ms/step - loss: 0.0695 - accuracy: 0.9810 - val_loss: 0.0305 - val_accuracy: 0.9778\n",
            "Epoch 322/500\n",
            "15/15 [==============================] - 0s 4ms/step - loss: 0.0753 - accuracy: 0.9810 - val_loss: 0.0439 - val_accuracy: 0.9778\n",
            "Epoch 323/500\n",
            "15/15 [==============================] - 0s 4ms/step - loss: 0.0720 - accuracy: 0.9619 - val_loss: 0.0296 - val_accuracy: 0.9778\n",
            "Epoch 324/500\n",
            "15/15 [==============================] - 0s 4ms/step - loss: 0.0708 - accuracy: 0.9810 - val_loss: 0.0370 - val_accuracy: 0.9778\n",
            "Epoch 325/500\n",
            "15/15 [==============================] - 0s 3ms/step - loss: 0.0688 - accuracy: 0.9810 - val_loss: 0.0335 - val_accuracy: 0.9778\n",
            "Epoch 326/500\n",
            "15/15 [==============================] - 0s 3ms/step - loss: 0.0693 - accuracy: 0.9905 - val_loss: 0.0405 - val_accuracy: 0.9778\n",
            "Epoch 327/500\n",
            "15/15 [==============================] - 0s 3ms/step - loss: 0.0698 - accuracy: 0.9810 - val_loss: 0.0348 - val_accuracy: 0.9778\n",
            "Epoch 328/500\n",
            "15/15 [==============================] - 0s 3ms/step - loss: 0.0677 - accuracy: 0.9810 - val_loss: 0.0295 - val_accuracy: 0.9778\n",
            "Epoch 329/500\n",
            "15/15 [==============================] - 0s 3ms/step - loss: 0.0706 - accuracy: 0.9619 - val_loss: 0.0311 - val_accuracy: 0.9778\n",
            "Epoch 330/500\n",
            "15/15 [==============================] - 0s 4ms/step - loss: 0.0659 - accuracy: 0.9905 - val_loss: 0.0383 - val_accuracy: 0.9778\n",
            "Epoch 331/500\n",
            "15/15 [==============================] - 0s 4ms/step - loss: 0.0699 - accuracy: 0.9810 - val_loss: 0.0320 - val_accuracy: 0.9778\n",
            "Epoch 332/500\n",
            "15/15 [==============================] - 0s 3ms/step - loss: 0.0784 - accuracy: 0.9810 - val_loss: 0.0418 - val_accuracy: 0.9778\n",
            "Epoch 333/500\n",
            "15/15 [==============================] - 0s 3ms/step - loss: 0.0799 - accuracy: 0.9714 - val_loss: 0.0262 - val_accuracy: 0.9778\n",
            "Epoch 334/500\n",
            "15/15 [==============================] - 0s 4ms/step - loss: 0.0664 - accuracy: 0.9810 - val_loss: 0.0390 - val_accuracy: 0.9778\n",
            "Epoch 335/500\n",
            "15/15 [==============================] - 0s 3ms/step - loss: 0.0678 - accuracy: 0.9905 - val_loss: 0.0350 - val_accuracy: 0.9778\n",
            "Epoch 336/500\n",
            "15/15 [==============================] - 0s 4ms/step - loss: 0.0677 - accuracy: 0.9905 - val_loss: 0.0407 - val_accuracy: 0.9778\n",
            "Epoch 337/500\n",
            "15/15 [==============================] - 0s 3ms/step - loss: 0.0659 - accuracy: 0.9810 - val_loss: 0.0309 - val_accuracy: 0.9778\n",
            "Epoch 338/500\n",
            "15/15 [==============================] - 0s 3ms/step - loss: 0.0673 - accuracy: 0.9810 - val_loss: 0.0320 - val_accuracy: 0.9778\n",
            "Epoch 339/500\n",
            "15/15 [==============================] - 0s 5ms/step - loss: 0.0682 - accuracy: 0.9714 - val_loss: 0.0412 - val_accuracy: 0.9778\n",
            "Epoch 340/500\n",
            "15/15 [==============================] - 0s 3ms/step - loss: 0.0688 - accuracy: 0.9714 - val_loss: 0.0329 - val_accuracy: 0.9778\n",
            "Epoch 341/500\n",
            "15/15 [==============================] - 0s 5ms/step - loss: 0.0661 - accuracy: 0.9905 - val_loss: 0.0356 - val_accuracy: 0.9778\n",
            "Epoch 342/500\n",
            "15/15 [==============================] - 0s 3ms/step - loss: 0.0678 - accuracy: 0.9810 - val_loss: 0.0447 - val_accuracy: 0.9778\n",
            "Epoch 343/500\n",
            "15/15 [==============================] - 0s 3ms/step - loss: 0.0688 - accuracy: 0.9905 - val_loss: 0.0299 - val_accuracy: 0.9778\n",
            "Epoch 344/500\n",
            "15/15 [==============================] - 0s 4ms/step - loss: 0.0719 - accuracy: 0.9714 - val_loss: 0.0379 - val_accuracy: 0.9778\n",
            "Epoch 345/500\n",
            "15/15 [==============================] - 0s 4ms/step - loss: 0.0674 - accuracy: 0.9810 - val_loss: 0.0310 - val_accuracy: 0.9778\n",
            "Epoch 346/500\n",
            "15/15 [==============================] - 0s 3ms/step - loss: 0.0690 - accuracy: 0.9714 - val_loss: 0.0385 - val_accuracy: 0.9778\n",
            "Epoch 347/500\n",
            "15/15 [==============================] - 0s 3ms/step - loss: 0.0676 - accuracy: 0.9905 - val_loss: 0.0363 - val_accuracy: 0.9778\n",
            "Epoch 348/500\n",
            "15/15 [==============================] - 0s 4ms/step - loss: 0.0691 - accuracy: 0.9810 - val_loss: 0.0429 - val_accuracy: 0.9778\n",
            "Epoch 349/500\n",
            "15/15 [==============================] - 0s 5ms/step - loss: 0.0659 - accuracy: 0.9905 - val_loss: 0.0329 - val_accuracy: 0.9778\n",
            "Epoch 350/500\n",
            "15/15 [==============================] - 0s 5ms/step - loss: 0.0664 - accuracy: 0.9714 - val_loss: 0.0330 - val_accuracy: 0.9778\n",
            "Epoch 351/500\n",
            "15/15 [==============================] - 0s 4ms/step - loss: 0.0661 - accuracy: 0.9905 - val_loss: 0.0415 - val_accuracy: 0.9778\n",
            "Epoch 352/500\n",
            "15/15 [==============================] - 0s 3ms/step - loss: 0.0671 - accuracy: 0.9810 - val_loss: 0.0370 - val_accuracy: 0.9778\n",
            "Epoch 353/500\n",
            "15/15 [==============================] - 0s 3ms/step - loss: 0.0662 - accuracy: 0.9810 - val_loss: 0.0309 - val_accuracy: 0.9778\n",
            "Epoch 354/500\n",
            "15/15 [==============================] - 0s 4ms/step - loss: 0.0662 - accuracy: 0.9905 - val_loss: 0.0390 - val_accuracy: 0.9778\n",
            "Epoch 355/500\n",
            "15/15 [==============================] - 0s 4ms/step - loss: 0.0665 - accuracy: 0.9810 - val_loss: 0.0320 - val_accuracy: 0.9778\n",
            "Epoch 356/500\n",
            "15/15 [==============================] - 0s 4ms/step - loss: 0.0683 - accuracy: 0.9714 - val_loss: 0.0369 - val_accuracy: 0.9778\n",
            "Epoch 357/500\n",
            "15/15 [==============================] - 0s 3ms/step - loss: 0.0664 - accuracy: 0.9810 - val_loss: 0.0375 - val_accuracy: 0.9778\n",
            "Epoch 358/500\n",
            "15/15 [==============================] - 0s 3ms/step - loss: 0.0659 - accuracy: 0.9905 - val_loss: 0.0362 - val_accuracy: 0.9778\n",
            "Epoch 359/500\n",
            "15/15 [==============================] - 0s 3ms/step - loss: 0.0660 - accuracy: 0.9905 - val_loss: 0.0366 - val_accuracy: 0.9778\n",
            "Epoch 360/500\n",
            "15/15 [==============================] - 0s 4ms/step - loss: 0.0648 - accuracy: 0.9905 - val_loss: 0.0356 - val_accuracy: 0.9778\n",
            "Epoch 361/500\n",
            "15/15 [==============================] - 0s 3ms/step - loss: 0.0660 - accuracy: 0.9905 - val_loss: 0.0347 - val_accuracy: 0.9778\n",
            "Epoch 362/500\n",
            "15/15 [==============================] - 0s 3ms/step - loss: 0.0662 - accuracy: 0.9810 - val_loss: 0.0342 - val_accuracy: 0.9778\n",
            "Epoch 363/500\n",
            "15/15 [==============================] - 0s 5ms/step - loss: 0.0645 - accuracy: 0.9905 - val_loss: 0.0324 - val_accuracy: 0.9778\n",
            "Epoch 364/500\n",
            "15/15 [==============================] - 0s 3ms/step - loss: 0.0697 - accuracy: 0.9714 - val_loss: 0.0307 - val_accuracy: 0.9778\n",
            "Epoch 365/500\n",
            "15/15 [==============================] - 0s 4ms/step - loss: 0.0701 - accuracy: 0.9810 - val_loss: 0.0448 - val_accuracy: 0.9778\n",
            "Epoch 366/500\n",
            "15/15 [==============================] - 0s 4ms/step - loss: 0.0657 - accuracy: 0.9905 - val_loss: 0.0318 - val_accuracy: 0.9778\n",
            "Epoch 367/500\n",
            "15/15 [==============================] - 0s 4ms/step - loss: 0.0643 - accuracy: 0.9905 - val_loss: 0.0357 - val_accuracy: 0.9778\n",
            "Epoch 368/500\n",
            "15/15 [==============================] - 0s 4ms/step - loss: 0.0681 - accuracy: 0.9810 - val_loss: 0.0400 - val_accuracy: 0.9778\n",
            "Epoch 369/500\n",
            "15/15 [==============================] - 0s 4ms/step - loss: 0.0639 - accuracy: 0.9905 - val_loss: 0.0326 - val_accuracy: 0.9778\n",
            "Epoch 370/500\n",
            "15/15 [==============================] - 0s 4ms/step - loss: 0.0701 - accuracy: 0.9714 - val_loss: 0.0322 - val_accuracy: 0.9778\n",
            "Epoch 371/500\n",
            "15/15 [==============================] - 0s 3ms/step - loss: 0.0669 - accuracy: 0.9810 - val_loss: 0.0429 - val_accuracy: 0.9778\n",
            "Epoch 372/500\n",
            "15/15 [==============================] - 0s 4ms/step - loss: 0.0713 - accuracy: 0.9619 - val_loss: 0.0320 - val_accuracy: 0.9778\n",
            "Epoch 373/500\n",
            "15/15 [==============================] - 0s 3ms/step - loss: 0.0636 - accuracy: 0.9905 - val_loss: 0.0368 - val_accuracy: 0.9778\n",
            "Epoch 374/500\n",
            "15/15 [==============================] - 0s 4ms/step - loss: 0.0649 - accuracy: 0.9810 - val_loss: 0.0349 - val_accuracy: 0.9778\n",
            "Epoch 375/500\n",
            "15/15 [==============================] - 0s 4ms/step - loss: 0.0643 - accuracy: 0.9905 - val_loss: 0.0335 - val_accuracy: 0.9778\n",
            "Epoch 376/500\n",
            "15/15 [==============================] - 0s 3ms/step - loss: 0.0662 - accuracy: 0.9810 - val_loss: 0.0354 - val_accuracy: 0.9778\n",
            "Epoch 377/500\n",
            "15/15 [==============================] - 0s 5ms/step - loss: 0.0661 - accuracy: 0.9905 - val_loss: 0.0313 - val_accuracy: 0.9778\n",
            "Epoch 378/500\n",
            "15/15 [==============================] - 0s 4ms/step - loss: 0.0702 - accuracy: 0.9810 - val_loss: 0.0396 - val_accuracy: 0.9778\n",
            "Epoch 379/500\n",
            "15/15 [==============================] - 0s 4ms/step - loss: 0.0637 - accuracy: 0.9905 - val_loss: 0.0310 - val_accuracy: 0.9778\n",
            "Epoch 380/500\n",
            "15/15 [==============================] - 0s 3ms/step - loss: 0.0647 - accuracy: 0.9905 - val_loss: 0.0361 - val_accuracy: 0.9778\n",
            "Epoch 381/500\n",
            "15/15 [==============================] - 0s 3ms/step - loss: 0.0644 - accuracy: 0.9905 - val_loss: 0.0360 - val_accuracy: 0.9778\n",
            "Epoch 382/500\n",
            "15/15 [==============================] - 0s 4ms/step - loss: 0.0683 - accuracy: 0.9810 - val_loss: 0.0358 - val_accuracy: 0.9778\n",
            "Epoch 383/500\n",
            "15/15 [==============================] - 0s 4ms/step - loss: 0.0671 - accuracy: 0.9714 - val_loss: 0.0314 - val_accuracy: 0.9778\n",
            "Epoch 384/500\n",
            "15/15 [==============================] - 0s 3ms/step - loss: 0.0627 - accuracy: 0.9905 - val_loss: 0.0365 - val_accuracy: 0.9778\n",
            "Epoch 385/500\n",
            "15/15 [==============================] - 0s 3ms/step - loss: 0.0686 - accuracy: 0.9810 - val_loss: 0.0288 - val_accuracy: 0.9778\n",
            "Epoch 386/500\n",
            "15/15 [==============================] - 0s 3ms/step - loss: 0.0642 - accuracy: 0.9905 - val_loss: 0.0372 - val_accuracy: 0.9778\n",
            "Epoch 387/500\n",
            "15/15 [==============================] - 0s 3ms/step - loss: 0.0675 - accuracy: 0.9810 - val_loss: 0.0331 - val_accuracy: 0.9778\n",
            "Epoch 388/500\n",
            "15/15 [==============================] - 0s 4ms/step - loss: 0.0637 - accuracy: 0.9810 - val_loss: 0.0388 - val_accuracy: 0.9778\n",
            "Epoch 389/500\n",
            "15/15 [==============================] - 0s 3ms/step - loss: 0.0764 - accuracy: 0.9810 - val_loss: 0.0361 - val_accuracy: 0.9778\n",
            "Epoch 390/500\n",
            "15/15 [==============================] - 0s 4ms/step - loss: 0.0629 - accuracy: 0.9810 - val_loss: 0.0265 - val_accuracy: 0.9778\n",
            "Epoch 391/500\n",
            "15/15 [==============================] - 0s 3ms/step - loss: 0.0644 - accuracy: 0.9714 - val_loss: 0.0354 - val_accuracy: 0.9778\n",
            "Epoch 392/500\n",
            "15/15 [==============================] - 0s 3ms/step - loss: 0.0620 - accuracy: 0.9905 - val_loss: 0.0384 - val_accuracy: 0.9778\n",
            "Epoch 393/500\n",
            "15/15 [==============================] - 0s 4ms/step - loss: 0.0652 - accuracy: 0.9810 - val_loss: 0.0350 - val_accuracy: 0.9778\n",
            "Epoch 394/500\n",
            "15/15 [==============================] - 0s 3ms/step - loss: 0.0649 - accuracy: 0.9810 - val_loss: 0.0337 - val_accuracy: 0.9778\n",
            "Epoch 395/500\n",
            "15/15 [==============================] - 0s 4ms/step - loss: 0.0643 - accuracy: 0.9810 - val_loss: 0.0389 - val_accuracy: 0.9778\n",
            "Epoch 396/500\n",
            "15/15 [==============================] - 0s 3ms/step - loss: 0.0696 - accuracy: 0.9714 - val_loss: 0.0330 - val_accuracy: 0.9778\n",
            "Epoch 397/500\n",
            "15/15 [==============================] - 0s 3ms/step - loss: 0.0634 - accuracy: 0.9810 - val_loss: 0.0421 - val_accuracy: 0.9778\n",
            "Epoch 398/500\n",
            "15/15 [==============================] - 0s 4ms/step - loss: 0.0695 - accuracy: 0.9714 - val_loss: 0.0298 - val_accuracy: 0.9778\n",
            "Epoch 399/500\n",
            "15/15 [==============================] - 0s 5ms/step - loss: 0.0685 - accuracy: 0.9810 - val_loss: 0.0386 - val_accuracy: 0.9778\n",
            "Epoch 400/500\n",
            "15/15 [==============================] - 0s 4ms/step - loss: 0.0627 - accuracy: 0.9905 - val_loss: 0.0334 - val_accuracy: 0.9778\n",
            "Epoch 401/500\n",
            "15/15 [==============================] - 0s 4ms/step - loss: 0.0640 - accuracy: 0.9905 - val_loss: 0.0307 - val_accuracy: 0.9778\n",
            "Epoch 402/500\n",
            "15/15 [==============================] - 0s 4ms/step - loss: 0.0679 - accuracy: 0.9810 - val_loss: 0.0440 - val_accuracy: 0.9778\n",
            "Epoch 403/500\n",
            "15/15 [==============================] - 0s 4ms/step - loss: 0.0695 - accuracy: 0.9810 - val_loss: 0.0403 - val_accuracy: 0.9778\n",
            "Epoch 404/500\n",
            "15/15 [==============================] - 0s 4ms/step - loss: 0.0792 - accuracy: 0.9619 - val_loss: 0.0239 - val_accuracy: 0.9778\n",
            "Epoch 405/500\n",
            "15/15 [==============================] - 0s 3ms/step - loss: 0.0608 - accuracy: 0.9905 - val_loss: 0.0436 - val_accuracy: 0.9778\n",
            "Epoch 406/500\n",
            "15/15 [==============================] - 0s 4ms/step - loss: 0.0652 - accuracy: 0.9905 - val_loss: 0.0345 - val_accuracy: 0.9778\n",
            "Epoch 407/500\n",
            "15/15 [==============================] - 0s 4ms/step - loss: 0.0630 - accuracy: 0.9810 - val_loss: 0.0320 - val_accuracy: 0.9778\n",
            "Epoch 408/500\n",
            "15/15 [==============================] - 0s 4ms/step - loss: 0.0654 - accuracy: 0.9810 - val_loss: 0.0420 - val_accuracy: 0.9778\n",
            "Epoch 409/500\n",
            "15/15 [==============================] - 0s 4ms/step - loss: 0.0619 - accuracy: 0.9905 - val_loss: 0.0297 - val_accuracy: 0.9778\n",
            "Epoch 410/500\n",
            "15/15 [==============================] - 0s 4ms/step - loss: 0.0637 - accuracy: 0.9905 - val_loss: 0.0344 - val_accuracy: 0.9778\n",
            "Epoch 411/500\n",
            "15/15 [==============================] - 0s 4ms/step - loss: 0.0641 - accuracy: 0.9810 - val_loss: 0.0344 - val_accuracy: 0.9778\n",
            "Epoch 412/500\n",
            "15/15 [==============================] - 0s 3ms/step - loss: 0.0647 - accuracy: 0.9810 - val_loss: 0.0389 - val_accuracy: 0.9778\n",
            "Epoch 413/500\n",
            "15/15 [==============================] - 0s 3ms/step - loss: 0.0603 - accuracy: 0.9810 - val_loss: 0.0318 - val_accuracy: 0.9778\n",
            "Epoch 414/500\n",
            "15/15 [==============================] - 0s 4ms/step - loss: 0.0643 - accuracy: 0.9714 - val_loss: 0.0323 - val_accuracy: 0.9778\n",
            "Epoch 415/500\n",
            "15/15 [==============================] - 0s 4ms/step - loss: 0.0611 - accuracy: 0.9905 - val_loss: 0.0368 - val_accuracy: 0.9778\n",
            "Epoch 416/500\n",
            "15/15 [==============================] - 0s 4ms/step - loss: 0.0613 - accuracy: 0.9905 - val_loss: 0.0364 - val_accuracy: 0.9778\n",
            "Epoch 417/500\n",
            "15/15 [==============================] - 0s 3ms/step - loss: 0.0670 - accuracy: 0.9810 - val_loss: 0.0298 - val_accuracy: 0.9778\n",
            "Epoch 418/500\n",
            "15/15 [==============================] - 0s 3ms/step - loss: 0.0651 - accuracy: 0.9810 - val_loss: 0.0388 - val_accuracy: 0.9778\n",
            "Epoch 419/500\n",
            "15/15 [==============================] - 0s 4ms/step - loss: 0.0620 - accuracy: 0.9810 - val_loss: 0.0396 - val_accuracy: 0.9778\n",
            "Epoch 420/500\n",
            "15/15 [==============================] - 0s 3ms/step - loss: 0.0662 - accuracy: 0.9714 - val_loss: 0.0300 - val_accuracy: 0.9778\n",
            "Epoch 421/500\n",
            "15/15 [==============================] - 0s 4ms/step - loss: 0.0628 - accuracy: 0.9714 - val_loss: 0.0359 - val_accuracy: 0.9778\n",
            "Epoch 422/500\n",
            "15/15 [==============================] - 0s 4ms/step - loss: 0.0657 - accuracy: 0.9810 - val_loss: 0.0398 - val_accuracy: 0.9778\n",
            "Epoch 423/500\n",
            "15/15 [==============================] - 0s 3ms/step - loss: 0.0645 - accuracy: 0.9810 - val_loss: 0.0290 - val_accuracy: 0.9778\n",
            "Epoch 424/500\n",
            "15/15 [==============================] - 0s 3ms/step - loss: 0.0622 - accuracy: 0.9810 - val_loss: 0.0339 - val_accuracy: 0.9778\n",
            "Epoch 425/500\n",
            "15/15 [==============================] - 0s 3ms/step - loss: 0.0634 - accuracy: 0.9810 - val_loss: 0.0388 - val_accuracy: 0.9778\n",
            "Epoch 426/500\n",
            "15/15 [==============================] - 0s 3ms/step - loss: 0.0646 - accuracy: 0.9905 - val_loss: 0.0348 - val_accuracy: 0.9778\n",
            "Epoch 427/500\n",
            "15/15 [==============================] - 0s 4ms/step - loss: 0.0651 - accuracy: 0.9810 - val_loss: 0.0400 - val_accuracy: 0.9778\n",
            "Epoch 428/500\n",
            "15/15 [==============================] - 0s 4ms/step - loss: 0.0670 - accuracy: 0.9810 - val_loss: 0.0350 - val_accuracy: 0.9778\n",
            "Epoch 429/500\n",
            "15/15 [==============================] - 0s 4ms/step - loss: 0.0625 - accuracy: 0.9905 - val_loss: 0.0408 - val_accuracy: 0.9778\n",
            "Epoch 430/500\n",
            "15/15 [==============================] - 0s 4ms/step - loss: 0.0610 - accuracy: 0.9810 - val_loss: 0.0327 - val_accuracy: 0.9778\n",
            "Epoch 431/500\n",
            "15/15 [==============================] - 0s 5ms/step - loss: 0.0615 - accuracy: 0.9905 - val_loss: 0.0373 - val_accuracy: 0.9778\n",
            "Epoch 432/500\n",
            "15/15 [==============================] - 0s 3ms/step - loss: 0.0619 - accuracy: 0.9810 - val_loss: 0.0339 - val_accuracy: 0.9778\n",
            "Epoch 433/500\n",
            "15/15 [==============================] - 0s 4ms/step - loss: 0.0619 - accuracy: 0.9905 - val_loss: 0.0342 - val_accuracy: 0.9778\n",
            "Epoch 434/500\n",
            "15/15 [==============================] - 0s 3ms/step - loss: 0.0608 - accuracy: 0.9905 - val_loss: 0.0322 - val_accuracy: 0.9778\n",
            "Epoch 435/500\n",
            "15/15 [==============================] - 0s 3ms/step - loss: 0.0610 - accuracy: 0.9905 - val_loss: 0.0342 - val_accuracy: 0.9778\n",
            "Epoch 436/500\n",
            "15/15 [==============================] - 0s 4ms/step - loss: 0.0619 - accuracy: 0.9905 - val_loss: 0.0350 - val_accuracy: 0.9778\n",
            "Epoch 437/500\n",
            "15/15 [==============================] - 0s 3ms/step - loss: 0.0631 - accuracy: 0.9810 - val_loss: 0.0367 - val_accuracy: 0.9778\n",
            "Epoch 438/500\n",
            "15/15 [==============================] - 0s 3ms/step - loss: 0.0642 - accuracy: 0.9810 - val_loss: 0.0358 - val_accuracy: 0.9778\n",
            "Epoch 439/500\n",
            "15/15 [==============================] - 0s 3ms/step - loss: 0.0613 - accuracy: 0.9905 - val_loss: 0.0350 - val_accuracy: 0.9778\n",
            "Epoch 440/500\n",
            "15/15 [==============================] - 0s 5ms/step - loss: 0.0636 - accuracy: 0.9905 - val_loss: 0.0291 - val_accuracy: 0.9778\n",
            "Epoch 441/500\n",
            "15/15 [==============================] - 0s 3ms/step - loss: 0.0624 - accuracy: 0.9810 - val_loss: 0.0344 - val_accuracy: 0.9778\n",
            "Epoch 442/500\n",
            "15/15 [==============================] - 0s 4ms/step - loss: 0.0624 - accuracy: 0.9810 - val_loss: 0.0429 - val_accuracy: 0.9778\n",
            "Epoch 443/500\n",
            "15/15 [==============================] - 0s 4ms/step - loss: 0.0594 - accuracy: 0.9905 - val_loss: 0.0337 - val_accuracy: 0.9778\n",
            "Epoch 444/500\n",
            "15/15 [==============================] - 0s 3ms/step - loss: 0.0652 - accuracy: 0.9714 - val_loss: 0.0309 - val_accuracy: 0.9778\n",
            "Epoch 445/500\n",
            "15/15 [==============================] - 0s 4ms/step - loss: 0.0648 - accuracy: 0.9810 - val_loss: 0.0410 - val_accuracy: 0.9778\n",
            "Epoch 446/500\n",
            "15/15 [==============================] - 0s 5ms/step - loss: 0.0610 - accuracy: 0.9905 - val_loss: 0.0334 - val_accuracy: 0.9778\n",
            "Epoch 447/500\n",
            "15/15 [==============================] - 0s 4ms/step - loss: 0.0673 - accuracy: 0.9714 - val_loss: 0.0313 - val_accuracy: 0.9778\n",
            "Epoch 448/500\n",
            "15/15 [==============================] - 0s 4ms/step - loss: 0.0674 - accuracy: 0.9714 - val_loss: 0.0466 - val_accuracy: 0.9778\n",
            "Epoch 449/500\n",
            "15/15 [==============================] - 0s 4ms/step - loss: 0.0846 - accuracy: 0.9619 - val_loss: 0.0247 - val_accuracy: 0.9778\n",
            "Epoch 450/500\n",
            "15/15 [==============================] - 0s 4ms/step - loss: 0.0573 - accuracy: 0.9810 - val_loss: 0.0436 - val_accuracy: 0.9778\n",
            "Epoch 451/500\n",
            "15/15 [==============================] - 0s 4ms/step - loss: 0.0633 - accuracy: 0.9810 - val_loss: 0.0396 - val_accuracy: 0.9778\n",
            "Epoch 452/500\n",
            "15/15 [==============================] - 0s 5ms/step - loss: 0.0609 - accuracy: 0.9810 - val_loss: 0.0368 - val_accuracy: 0.9778\n",
            "Epoch 453/500\n",
            "15/15 [==============================] - 0s 5ms/step - loss: 0.0608 - accuracy: 0.9905 - val_loss: 0.0352 - val_accuracy: 0.9778\n",
            "Epoch 454/500\n",
            "15/15 [==============================] - 0s 4ms/step - loss: 0.0619 - accuracy: 0.9810 - val_loss: 0.0355 - val_accuracy: 0.9778\n",
            "Epoch 455/500\n",
            "15/15 [==============================] - 0s 3ms/step - loss: 0.0591 - accuracy: 0.9905 - val_loss: 0.0362 - val_accuracy: 0.9778\n",
            "Epoch 456/500\n",
            "15/15 [==============================] - 0s 3ms/step - loss: 0.0624 - accuracy: 0.9810 - val_loss: 0.0374 - val_accuracy: 0.9778\n",
            "Epoch 457/500\n",
            "15/15 [==============================] - 0s 4ms/step - loss: 0.0605 - accuracy: 0.9810 - val_loss: 0.0328 - val_accuracy: 0.9778\n",
            "Epoch 458/500\n",
            "15/15 [==============================] - 0s 3ms/step - loss: 0.0623 - accuracy: 0.9810 - val_loss: 0.0414 - val_accuracy: 0.9778\n",
            "Epoch 459/500\n",
            "15/15 [==============================] - 0s 4ms/step - loss: 0.0624 - accuracy: 0.9905 - val_loss: 0.0353 - val_accuracy: 0.9778\n",
            "Epoch 460/500\n",
            "15/15 [==============================] - 0s 4ms/step - loss: 0.0633 - accuracy: 0.9810 - val_loss: 0.0343 - val_accuracy: 0.9778\n",
            "Epoch 461/500\n",
            "15/15 [==============================] - 0s 4ms/step - loss: 0.0612 - accuracy: 0.9810 - val_loss: 0.0358 - val_accuracy: 0.9778\n",
            "Epoch 462/500\n",
            "15/15 [==============================] - 0s 3ms/step - loss: 0.0627 - accuracy: 0.9905 - val_loss: 0.0338 - val_accuracy: 0.9778\n",
            "Epoch 463/500\n",
            "15/15 [==============================] - 0s 5ms/step - loss: 0.0615 - accuracy: 0.9810 - val_loss: 0.0433 - val_accuracy: 0.9778\n",
            "Epoch 464/500\n",
            "15/15 [==============================] - 0s 5ms/step - loss: 0.0592 - accuracy: 0.9905 - val_loss: 0.0309 - val_accuracy: 0.9778\n",
            "Epoch 465/500\n",
            "15/15 [==============================] - 0s 4ms/step - loss: 0.0635 - accuracy: 0.9810 - val_loss: 0.0404 - val_accuracy: 0.9778\n",
            "Epoch 466/500\n",
            "15/15 [==============================] - 0s 3ms/step - loss: 0.0593 - accuracy: 0.9810 - val_loss: 0.0332 - val_accuracy: 0.9778\n",
            "Epoch 467/500\n",
            "15/15 [==============================] - 0s 3ms/step - loss: 0.0738 - accuracy: 0.9714 - val_loss: 0.0313 - val_accuracy: 0.9778\n",
            "Epoch 468/500\n",
            "15/15 [==============================] - 0s 3ms/step - loss: 0.0636 - accuracy: 0.9810 - val_loss: 0.0457 - val_accuracy: 0.9778\n",
            "Epoch 469/500\n",
            "15/15 [==============================] - 0s 4ms/step - loss: 0.0586 - accuracy: 0.9905 - val_loss: 0.0324 - val_accuracy: 0.9778\n",
            "Epoch 470/500\n",
            "15/15 [==============================] - 0s 3ms/step - loss: 0.0615 - accuracy: 0.9905 - val_loss: 0.0303 - val_accuracy: 0.9778\n",
            "Epoch 471/500\n",
            "15/15 [==============================] - 0s 4ms/step - loss: 0.0609 - accuracy: 0.9810 - val_loss: 0.0340 - val_accuracy: 0.9778\n",
            "Epoch 472/500\n",
            "15/15 [==============================] - 0s 3ms/step - loss: 0.0607 - accuracy: 0.9810 - val_loss: 0.0414 - val_accuracy: 0.9778\n",
            "Epoch 473/500\n",
            "15/15 [==============================] - 0s 5ms/step - loss: 0.0606 - accuracy: 0.9810 - val_loss: 0.0331 - val_accuracy: 0.9778\n",
            "Epoch 474/500\n",
            "15/15 [==============================] - 0s 3ms/step - loss: 0.0609 - accuracy: 0.9905 - val_loss: 0.0339 - val_accuracy: 0.9778\n",
            "Epoch 475/500\n",
            "15/15 [==============================] - 0s 4ms/step - loss: 0.0612 - accuracy: 0.9810 - val_loss: 0.0355 - val_accuracy: 0.9778\n",
            "Epoch 476/500\n",
            "15/15 [==============================] - 0s 3ms/step - loss: 0.0734 - accuracy: 0.9714 - val_loss: 0.0454 - val_accuracy: 0.9778\n",
            "Epoch 477/500\n",
            "15/15 [==============================] - 0s 3ms/step - loss: 0.0673 - accuracy: 0.9714 - val_loss: 0.0258 - val_accuracy: 0.9778\n",
            "Epoch 478/500\n",
            "15/15 [==============================] - 0s 4ms/step - loss: 0.0580 - accuracy: 0.9810 - val_loss: 0.0433 - val_accuracy: 0.9778\n",
            "Epoch 479/500\n",
            "15/15 [==============================] - 0s 5ms/step - loss: 0.0632 - accuracy: 0.9810 - val_loss: 0.0346 - val_accuracy: 0.9778\n",
            "Epoch 480/500\n",
            "15/15 [==============================] - 0s 5ms/step - loss: 0.0668 - accuracy: 0.9714 - val_loss: 0.0381 - val_accuracy: 0.9778\n",
            "Epoch 481/500\n",
            "15/15 [==============================] - 0s 3ms/step - loss: 0.0631 - accuracy: 0.9810 - val_loss: 0.0296 - val_accuracy: 0.9778\n",
            "Epoch 482/500\n",
            "15/15 [==============================] - 0s 3ms/step - loss: 0.0689 - accuracy: 0.9619 - val_loss: 0.0426 - val_accuracy: 0.9778\n",
            "Epoch 483/500\n",
            "15/15 [==============================] - 0s 4ms/step - loss: 0.0599 - accuracy: 0.9905 - val_loss: 0.0323 - val_accuracy: 0.9778\n",
            "Epoch 484/500\n",
            "15/15 [==============================] - 0s 3ms/step - loss: 0.0610 - accuracy: 0.9905 - val_loss: 0.0374 - val_accuracy: 0.9778\n",
            "Epoch 485/500\n",
            "15/15 [==============================] - 0s 3ms/step - loss: 0.0645 - accuracy: 0.9810 - val_loss: 0.0372 - val_accuracy: 0.9778\n",
            "Epoch 486/500\n",
            "15/15 [==============================] - 0s 3ms/step - loss: 0.0627 - accuracy: 0.9905 - val_loss: 0.0446 - val_accuracy: 0.9778\n",
            "Epoch 487/500\n",
            "15/15 [==============================] - 0s 3ms/step - loss: 0.0564 - accuracy: 0.9810 - val_loss: 0.0295 - val_accuracy: 0.9778\n",
            "Epoch 488/500\n",
            "15/15 [==============================] - 0s 4ms/step - loss: 0.0624 - accuracy: 0.9714 - val_loss: 0.0319 - val_accuracy: 0.9778\n",
            "Epoch 489/500\n",
            "15/15 [==============================] - 0s 4ms/step - loss: 0.0597 - accuracy: 0.9905 - val_loss: 0.0491 - val_accuracy: 0.9778\n",
            "Epoch 490/500\n",
            "15/15 [==============================] - 0s 4ms/step - loss: 0.0593 - accuracy: 0.9810 - val_loss: 0.0345 - val_accuracy: 0.9778\n",
            "Epoch 491/500\n",
            "15/15 [==============================] - 0s 3ms/step - loss: 0.0592 - accuracy: 0.9905 - val_loss: 0.0316 - val_accuracy: 0.9778\n",
            "Epoch 492/500\n",
            "15/15 [==============================] - 0s 4ms/step - loss: 0.0625 - accuracy: 0.9714 - val_loss: 0.0435 - val_accuracy: 0.9778\n",
            "Epoch 493/500\n",
            "15/15 [==============================] - 0s 4ms/step - loss: 0.0639 - accuracy: 0.9810 - val_loss: 0.0354 - val_accuracy: 0.9778\n",
            "Epoch 494/500\n",
            "15/15 [==============================] - 0s 4ms/step - loss: 0.0615 - accuracy: 0.9905 - val_loss: 0.0352 - val_accuracy: 0.9778\n",
            "Epoch 495/500\n",
            "15/15 [==============================] - 0s 4ms/step - loss: 0.0594 - accuracy: 0.9810 - val_loss: 0.0340 - val_accuracy: 0.9778\n",
            "Epoch 496/500\n",
            "15/15 [==============================] - 0s 4ms/step - loss: 0.0575 - accuracy: 0.9905 - val_loss: 0.0432 - val_accuracy: 0.9778\n",
            "Epoch 497/500\n",
            "15/15 [==============================] - 0s 3ms/step - loss: 0.0666 - accuracy: 0.9810 - val_loss: 0.0324 - val_accuracy: 0.9778\n",
            "Epoch 498/500\n",
            "15/15 [==============================] - 0s 5ms/step - loss: 0.0597 - accuracy: 0.9810 - val_loss: 0.0342 - val_accuracy: 0.9778\n",
            "Epoch 499/500\n",
            "15/15 [==============================] - 0s 3ms/step - loss: 0.0588 - accuracy: 0.9905 - val_loss: 0.0378 - val_accuracy: 0.9778\n",
            "Epoch 500/500\n",
            "15/15 [==============================] - 0s 4ms/step - loss: 0.0590 - accuracy: 0.9810 - val_loss: 0.0337 - val_accuracy: 0.9778\n"
          ],
          "name": "stdout"
        }
      ]
    },
    {
      "cell_type": "markdown",
      "metadata": {
        "id": "_1BTi-3wWh67"
      },
      "source": [
        "> ## **5) 학습 결과 시각화**"
      ]
    },
    {
      "cell_type": "code",
      "metadata": {
        "colab": {
          "base_uri": "https://localhost:8080/",
          "height": 378
        },
        "id": "gZIzDIXlW-n6",
        "outputId": "75e487fa-6e52-4983-d827-d1796057a1a0"
      },
      "source": [
        "import matplotlib.pyplot as plt\n",
        "\n",
        "plt.figure(figsize=(9, 6))\n",
        "plt.ylim(0, 1.2)\n",
        "plt.plot(History_iris.history['loss'])\n",
        "plt.plot(History_iris.history['val_loss'])\n",
        "plt.plot(History_iris.history['accuracy'])\n",
        "plt.plot(History_iris.history['val_accuracy'])\n",
        "plt.legend(['loss', 'val_loss', 'accuracy', 'val_accuracy'])\n",
        "plt.grid()\n",
        "plt.show()"
      ],
      "execution_count": 19,
      "outputs": [
        {
          "output_type": "display_data",
          "data": {
            "image/png": "[encoded data removed]",
            "text/plain": [
              "<Figure size 648x432 with 1 Axes>"
            ]
          },
          "metadata": {
            "tags": [],
            "needs_background": "light"
          }
        }
      ]
    },
    {
      "cell_type": "markdown",
      "metadata": {
        "id": "1Rm0dIYKXdfl"
      },
      "source": [
        "> ## **6) Model Evaluate**"
      ]
    },
    {
      "cell_type": "markdown",
      "metadata": {
        "id": "dC_xWiIcYEuo"
      },
      "source": [
        "- Loss & Accuracy"
      ]
    },
    {
      "cell_type": "code",
      "metadata": {
        "colab": {
          "base_uri": "https://localhost:8080/"
        },
        "id": "9xUwLdgFYHFo",
        "outputId": "b6e077af-372c-4f4a-f389-534e86856f20"
      },
      "source": [
        "loss, accuracy = Model_iris.evaluate(X_test, y_test)\n",
        "\n",
        "print('Loss = {:.2f}'.format(loss))\n",
        "print('Accuracy = {:.2f}'.format(accuracy))"
      ],
      "execution_count": 20,
      "outputs": [
        {
          "output_type": "stream",
          "text": [
            "2/2 [==============================] - 0s 5ms/step - loss: 0.0337 - accuracy: 0.9778\n",
            "Loss = 0.03\n",
            "Accuracy = 0.98\n"
          ],
          "name": "stdout"
        }
      ]
    },
    {
      "cell_type": "markdown",
      "metadata": {
        "id": "BfOnD2f8Ypbk"
      },
      "source": [
        "> ## **7) Model Predict**"
      ]
    },
    {
      "cell_type": "markdown",
      "metadata": {
        "id": "XLHDzfq1ZPxg"
      },
      "source": [
        "- Probability"
      ]
    },
    {
      "cell_type": "code",
      "metadata": {
        "colab": {
          "base_uri": "https://localhost:8080/"
        },
        "id": "BhokvfCOZSK_",
        "outputId": "ae645414-f521-4ef7-eb5d-5b5597337526"
      },
      "source": [
        "import numpy as np\n",
        "np.set_printoptions(suppress=True, precision=5)\n",
        "\n",
        "Model_iris.predict(X_test)"
      ],
      "execution_count": 21,
      "outputs": [
        {
          "output_type": "execute_result",
          "data": {
            "text/plain": [
              "array([[0.99964, 0.00036, 0.     ],\n",
              "       [0.99904, 0.00096, 0.     ],\n",
              "       [0.00574, 0.99426, 0.     ],\n",
              "       [0.     , 0.00047, 0.99953],\n",
              "       [0.99983, 0.00017, 0.     ],\n",
              "       [0.0004 , 0.99958, 0.00002],\n",
              "       [0.     , 0.00398, 0.99602],\n",
              "       [0.99991, 0.00009, 0.     ],\n",
              "       [0.     , 0.00088, 0.99912],\n",
              "       [0.99969, 0.00031, 0.     ],\n",
              "       [0.     , 0.93756, 0.06244],\n",
              "       [0.     , 0.00167, 0.99833],\n",
              "       [0.     , 0.99845, 0.00155],\n",
              "       [0.99996, 0.00004, 0.     ],\n",
              "       [0.99987, 0.00013, 0.     ],\n",
              "       [0.00001, 0.99747, 0.00252],\n",
              "       [0.     , 0.98978, 0.01022],\n",
              "       [0.99966, 0.00034, 0.     ],\n",
              "       [0.00001, 0.99972, 0.00028],\n",
              "       [0.9999 , 0.0001 , 0.     ],\n",
              "       [0.99971, 0.00029, 0.     ],\n",
              "       [0.99968, 0.00032, 0.     ],\n",
              "       [0.     , 0.00055, 0.99945],\n",
              "       [0.99979, 0.00021, 0.     ],\n",
              "       [0.     , 0.05482, 0.94518],\n",
              "       [0.     , 0.01086, 0.98914],\n",
              "       [0.99984, 0.00016, 0.     ],\n",
              "       [0.     , 0.99772, 0.00228],\n",
              "       [0.     , 0.99702, 0.00298],\n",
              "       [0.     , 0.04726, 0.95274],\n",
              "       [0.99989, 0.00011, 0.     ],\n",
              "       [0.     , 0.99867, 0.00133],\n",
              "       [0.99991, 0.00009, 0.     ],\n",
              "       [0.     , 0.72051, 0.27949],\n",
              "       [0.     , 0.99695, 0.00305],\n",
              "       [0.00018, 0.99981, 0.00002],\n",
              "       [0.     , 0.00029, 0.99971],\n",
              "       [0.00012, 0.99978, 0.00011],\n",
              "       [0.99975, 0.00025, 0.     ],\n",
              "       [0.00001, 0.99821, 0.00178],\n",
              "       [0.     , 0.00054, 0.99946],\n",
              "       [0.99949, 0.00051, 0.     ],\n",
              "       [0.     , 0.00225, 0.99775],\n",
              "       [0.     , 0.00151, 0.99849],\n",
              "       [0.     , 0.01098, 0.98902]], dtype=float32)"
            ]
          },
          "metadata": {
            "tags": []
          },
          "execution_count": 21
        }
      ]
    },
    {
      "cell_type": "markdown",
      "metadata": {
        "id": "25SuXV7eZdEk"
      },
      "source": [
        "- Class"
      ]
    },
    {
      "cell_type": "code",
      "metadata": {
        "colab": {
          "base_uri": "https://localhost:8080/"
        },
        "id": "8qSFVlgBZsbS",
        "outputId": "a7b1ac90-a788-4b4c-a1dc-10ec2dcc8fab"
      },
      "source": [
        "y_hat = Model_iris.predict_classes(X_test)\n",
        "\n",
        "y_hat"
      ],
      "execution_count": 22,
      "outputs": [
        {
          "output_type": "execute_result",
          "data": {
            "text/plain": [
              "array([0, 0, 1, 2, 0, 1, 2, 0, 2, 0, 1, 2, 1, 0, 0, 1, 1, 0, 1, 0, 0, 0,\n",
              "       2, 0, 2, 2, 0, 1, 1, 2, 0, 1, 0, 1, 1, 1, 2, 1, 0, 1, 2, 0, 2, 2,\n",
              "       2])"
            ]
          },
          "metadata": {
            "tags": []
          },
          "execution_count": 22
        }
      ]
    },
    {
      "cell_type": "markdown",
      "metadata": {
        "id": "ncxN8X1rZv4I"
      },
      "source": [
        "- Probabilty to Class"
      ]
    },
    {
      "cell_type": "code",
      "metadata": {
        "colab": {
          "base_uri": "https://localhost:8080/"
        },
        "id": "5Fw9WiAJZ1Ew",
        "outputId": "90e26d4a-3ba1-4380-b289-f4f2d24bf874"
      },
      "source": [
        "np.argmax(Model_iris.predict(X_test), axis=1)"
      ],
      "execution_count": 23,
      "outputs": [
        {
          "output_type": "execute_result",
          "data": {
            "text/plain": [
              "array([0, 0, 1, 2, 0, 1, 2, 0, 2, 0, 1, 2, 1, 0, 0, 1, 1, 0, 1, 0, 0, 0,\n",
              "       2, 0, 2, 2, 0, 1, 1, 2, 0, 1, 0, 1, 1, 1, 2, 1, 0, 1, 2, 0, 2, 2,\n",
              "       2])"
            ]
          },
          "metadata": {
            "tags": []
          },
          "execution_count": 23
        }
      ]
    },
    {
      "cell_type": "markdown",
      "metadata": {
        "id": "3jGrDGUIZ5mS"
      },
      "source": [
        "- One-Hot Encoding to Array\n",
        "   - np.argmax() : 다차원 배열의 차원에 따라 가장 큰 값의 인덱스 반환\n",
        "   - axis=1 : 열 기준"
      ]
    },
    {
      "cell_type": "code",
      "metadata": {
        "colab": {
          "base_uri": "https://localhost:8080/"
        },
        "id": "V4bc9kJAaH1V",
        "outputId": "f50f4f09-b19a-4af7-bdad-419669440f9d"
      },
      "source": [
        "y = np.argmax(y_test, axis=1)\n",
        "\n",
        "y"
      ],
      "execution_count": 24,
      "outputs": [
        {
          "output_type": "execute_result",
          "data": {
            "text/plain": [
              "array([0, 0, 1, 2, 0, 1, 2, 0, 2, 0, 1, 2, 1, 0, 0, 1, 1, 0, 1, 0, 0, 0,\n",
              "       2, 0, 2, 2, 0, 1, 1, 2, 0, 1, 0, 2, 1, 1, 2, 1, 0, 1, 2, 0, 2, 2,\n",
              "       2])"
            ]
          },
          "metadata": {
            "tags": []
          },
          "execution_count": 24
        }
      ]
    },
    {
      "cell_type": "markdown",
      "metadata": {
        "id": "FVWPSTj9aUqt"
      },
      "source": [
        "- Confusion Matrix & Classification Report"
      ]
    },
    {
      "cell_type": "code",
      "metadata": {
        "colab": {
          "base_uri": "https://localhost:8080/"
        },
        "id": "OpHSJ7AFab4l",
        "outputId": "c273ad01-67c2-4208-b6ac-18d038ed69fa"
      },
      "source": [
        "from sklearn.metrics import confusion_matrix, classification_report\n",
        "\n",
        "confusion_matrix(y, y_hat)"
      ],
      "execution_count": 25,
      "outputs": [
        {
          "output_type": "execute_result",
          "data": {
            "text/plain": [
              "array([[17,  0,  0],\n",
              "       [ 0, 14,  0],\n",
              "       [ 0,  1, 13]])"
            ]
          },
          "metadata": {
            "tags": []
          },
          "execution_count": 25
        }
      ]
    },
    {
      "cell_type": "code",
      "metadata": {
        "colab": {
          "base_uri": "https://localhost:8080/"
        },
        "id": "aJYLFD5IakAu",
        "outputId": "ef737f1c-0c67-47b2-be97-915baf7cba88"
      },
      "source": [
        "print(classification_report(y, y_hat,\n",
        "                            target_names=['setosa', 'virginica', 'versicolor']))"
      ],
      "execution_count": 26,
      "outputs": [
        {
          "output_type": "stream",
          "text": [
            "              precision    recall  f1-score   support\n",
            "\n",
            "      setosa       1.00      1.00      1.00        17\n",
            "   virginica       0.93      1.00      0.97        14\n",
            "  versicolor       1.00      0.93      0.96        14\n",
            "\n",
            "    accuracy                           0.98        45\n",
            "   macro avg       0.98      0.98      0.98        45\n",
            "weighted avg       0.98      0.98      0.98        45\n",
            "\n"
          ],
          "name": "stdout"
        }
      ]
    },
    {
      "cell_type": "markdown",
      "metadata": {
        "id": "bIECxqNCauH7"
      },
      "source": [
        "# **III. Model Save & Load**"
      ]
    },
    {
      "cell_type": "markdown",
      "metadata": {
        "id": "y25EPvUBa2fu"
      },
      "source": [
        "> ## **1) File System**"
      ]
    },
    {
      "cell_type": "markdown",
      "metadata": {
        "id": "rSMmoM35pTUL"
      },
      "source": [
        "- Save to Colab File System"
      ]
    },
    {
      "cell_type": "code",
      "metadata": {
        "colab": {
          "base_uri": "https://localhost:8080/"
        },
        "id": "Du7-vg-8pW9s",
        "outputId": "cf7c9606-8f38-43c7-ab06-75e8171d6306"
      },
      "source": [
        "!ls -l   # !dir"
      ],
      "execution_count": 27,
      "outputs": [
        {
          "output_type": "stream",
          "text": [
            "total 76\n",
            "drwx------ 5 root root  4096 Aug  4 10:15 drive\n",
            "-rw-r--r-- 1 root root 34600 Aug  4 10:12 Model_iris.h5\n",
            "-rw-r--r-- 1 root root 29384 Aug  4 10:20 model.png\n",
            "drwxr-xr-x 1 root root  4096 Jul 16 13:20 sample_data\n"
          ],
          "name": "stdout"
        }
      ]
    },
    {
      "cell_type": "code",
      "metadata": {
        "colab": {
          "base_uri": "https://localhost:8080/"
        },
        "id": "-im8thWppZYC",
        "outputId": "388b4518-cb40-4869-abf8-182c6204b326"
      },
      "source": [
        "Model_iris.save('Model_iris.h5')\n",
        "\n",
        "!ls -l"
      ],
      "execution_count": 28,
      "outputs": [
        {
          "output_type": "stream",
          "text": [
            "total 76\n",
            "drwx------ 5 root root  4096 Aug  4 10:15 drive\n",
            "-rw-r--r-- 1 root root 34600 Aug  4 10:21 Model_iris.h5\n",
            "-rw-r--r-- 1 root root 29384 Aug  4 10:20 model.png\n",
            "drwxr-xr-x 1 root root  4096 Jul 16 13:20 sample_data\n"
          ],
          "name": "stdout"
        }
      ]
    },
    {
      "cell_type": "markdown",
      "metadata": {
        "id": "eu4DvtFFpkWe"
      },
      "source": [
        "- Download Colab File System to Local File System"
      ]
    },
    {
      "cell_type": "code",
      "metadata": {
        "id": "OhYDQJxDpp5a"
      },
      "source": [
        "# from google.colab import files\n",
        "\n",
        "# files.download('Model_iris.h5')"
      ],
      "execution_count": 29,
      "outputs": []
    },
    {
      "cell_type": "markdown",
      "metadata": {
        "id": "azZBNet6pvcZ"
      },
      "source": [
        "- Load from Colab File System"
      ]
    },
    {
      "cell_type": "code",
      "metadata": {
        "id": "TWvsPAYup9yz"
      },
      "source": [
        "from keras.models import load_model\n",
        "\n",
        "Model_local = load_model('Model_iris.h5')"
      ],
      "execution_count": 30,
      "outputs": []
    },
    {
      "cell_type": "code",
      "metadata": {
        "colab": {
          "base_uri": "https://localhost:8080/"
        },
        "id": "UzYW5YsCqEbo",
        "outputId": "90f08178-fbd9-4239-8d8d-80b5d7b6bf61"
      },
      "source": [
        "Model_local.predict_classes(X_test)"
      ],
      "execution_count": 31,
      "outputs": [
        {
          "output_type": "execute_result",
          "data": {
            "text/plain": [
              "array([0, 0, 1, 2, 0, 1, 2, 0, 2, 0, 1, 2, 1, 0, 0, 1, 1, 0, 1, 0, 0, 0,\n",
              "       2, 0, 2, 2, 0, 1, 1, 2, 0, 1, 0, 1, 1, 1, 2, 1, 0, 1, 2, 0, 2, 2,\n",
              "       2])"
            ]
          },
          "metadata": {
            "tags": []
          },
          "execution_count": 31
        }
      ]
    },
    {
      "cell_type": "markdown",
      "metadata": {
        "id": "8An6aycHqHFg"
      },
      "source": [
        "> ## **2) Google Drive**"
      ]
    },
    {
      "cell_type": "markdown",
      "metadata": {
        "id": "42wM4m6YqK7c"
      },
      "source": [
        "- Mount Google Drive"
      ]
    },
    {
      "cell_type": "code",
      "metadata": {
        "colab": {
          "base_uri": "https://localhost:8080/"
        },
        "id": "ORuKAWhFqMzG",
        "outputId": "0678bb7f-f21c-4d52-dbf4-1c12e55b7167"
      },
      "source": [
        "from google.colab import drive\n",
        "\n",
        "drive.mount('/content/drive')"
      ],
      "execution_count": 32,
      "outputs": [
        {
          "output_type": "stream",
          "text": [
            "Drive already mounted at /content/drive; to attempt to forcibly remount, call drive.mount(\"/content/drive\", force_remount=True).\n"
          ],
          "name": "stdout"
        }
      ]
    },
    {
      "cell_type": "markdown",
      "metadata": {
        "id": "AG8IyIMqqS_Y"
      },
      "source": [
        "- Check Mounted Drive"
      ]
    },
    {
      "cell_type": "code",
      "metadata": {
        "colab": {
          "base_uri": "https://localhost:8080/"
        },
        "id": "NSqzzfrWqdZH",
        "outputId": "e5b8eb53-7215-4838-d462-50d5277b8c86"
      },
      "source": [
        "!ls -l '/content/drive/My Drive/Colab Notebooks/datasets'"
      ],
      "execution_count": 33,
      "outputs": [
        {
          "output_type": "stream",
          "text": [
            "total 3850167\n",
            "-rw------- 1 root root   31374019 Mar 31 15:04 Camel.zip\n",
            "-rw------- 1 root root      20066 Mar 31 15:04 cat.1700.jpg\n",
            "-rw------- 1 root root   69155672 Mar 31 15:04 creditCardFraud.zip\n",
            "-rw------- 1 root root   82003032 Mar 31 15:05 DataSet.pkl\n",
            "-rw------- 1 root root   90618980 Mar 31 15:05 dogs_and_cats_small.zip\n",
            "-rw------- 1 root root   54561944 Mar 31 15:06 Face.zip\n",
            "-rw------- 1 root root  862182613 Mar 31 15:10 GloVe.zip\n",
            "-rw------- 1 root root  149574867 Jul 18 08:17 horse-or-human.zip\n",
            "-rw------- 1 root root 1245927936 Mar 31 15:20 imagenetV2.zip\n",
            "-rw------- 1 root root    8204887 Mar 31 15:06 Images_500.zip\n",
            "-rw------- 1 root root   60711700 Mar 31 15:06 IMDB.zip\n",
            "-rw------- 1 root root    4240457 Mar 31 15:07 Kaggle_Customer_Satisfaction.zip\n",
            "-rw------- 1 root root   80596565 Mar 31 15:08 ko_w2v.zip\n",
            "-rw------- 1 root root   12929865 Mar 31 15:08 Logo_Data.zip\n",
            "-rw------- 1 root root   18272469 Mar 31 15:09 MNIST.csv\n",
            "-rw------- 1 root root    7903524 Mar 31 15:09 naverRatings.zip\n",
            "-rw------- 1 root root   22824989 Mar 31 15:10 Online_Retail.zip\n",
            "-rw------- 1 root root        741 Mar 31 15:10 PII.csv\n",
            "-rw------- 1 root root 1141460846 Mar 31 15:20 waferImages.zip\n"
          ],
          "name": "stdout"
        }
      ]
    },
    {
      "cell_type": "code",
      "metadata": {
        "colab": {
          "base_uri": "https://localhost:8080/",
          "height": 142
        },
        "id": "VyqH1NqHqjZ-",
        "outputId": "9b4c904c-f185-4e38-f29c-1b1b720d95aa"
      },
      "source": [
        "import pandas as pd\n",
        "\n",
        "DF = pd.read_csv('/content/drive/My Drive/Colab Notebooks/datasets/PII.csv')\n",
        "\n",
        "DF.head(3)"
      ],
      "execution_count": 34,
      "outputs": [
        {
          "output_type": "execute_result",
          "data": {
            "text/html": [
              "<div>\n",
              "<style scoped>\n",
              "    .dataframe tbody tr th:only-of-type {\n",
              "        vertical-align: middle;\n",
              "    }\n",
              "\n",
              "    .dataframe tbody tr th {\n",
              "        vertical-align: top;\n",
              "    }\n",
              "\n",
              "    .dataframe thead th {\n",
              "        text-align: right;\n",
              "    }\n",
              "</style>\n",
              "<table border=\"1\" class=\"dataframe\">\n",
              "  <thead>\n",
              "    <tr style=\"text-align: right;\">\n",
              "      <th></th>\n",
              "      <th>Name</th>\n",
              "      <th>Gender</th>\n",
              "      <th>Age</th>\n",
              "      <th>Grade</th>\n",
              "      <th>Picture</th>\n",
              "      <th>BloodType</th>\n",
              "      <th>Height</th>\n",
              "      <th>Weight</th>\n",
              "    </tr>\n",
              "  </thead>\n",
              "  <tbody>\n",
              "    <tr>\n",
              "      <th>0</th>\n",
              "      <td>송태섭</td>\n",
              "      <td>남자</td>\n",
              "      <td>21</td>\n",
              "      <td>3</td>\n",
              "      <td>무</td>\n",
              "      <td>B</td>\n",
              "      <td>179.1</td>\n",
              "      <td>63.9</td>\n",
              "    </tr>\n",
              "    <tr>\n",
              "      <th>1</th>\n",
              "      <td>최유정</td>\n",
              "      <td>여자</td>\n",
              "      <td>23</td>\n",
              "      <td>1</td>\n",
              "      <td>유</td>\n",
              "      <td>A</td>\n",
              "      <td>177.1</td>\n",
              "      <td>54.9</td>\n",
              "    </tr>\n",
              "    <tr>\n",
              "      <th>2</th>\n",
              "      <td>이한나</td>\n",
              "      <td>여자</td>\n",
              "      <td>20</td>\n",
              "      <td>1</td>\n",
              "      <td>무</td>\n",
              "      <td>A</td>\n",
              "      <td>167.9</td>\n",
              "      <td>50.2</td>\n",
              "    </tr>\n",
              "  </tbody>\n",
              "</table>\n",
              "</div>"
            ],
            "text/plain": [
              "  Name Gender  Age  Grade Picture BloodType  Height  Weight\n",
              "0  송태섭     남자   21      3       무         B   179.1    63.9\n",
              "1  최유정     여자   23      1       유         A   177.1    54.9\n",
              "2  이한나     여자   20      1       무         A   167.9    50.2"
            ]
          },
          "metadata": {
            "tags": []
          },
          "execution_count": 34
        }
      ]
    },
    {
      "cell_type": "code",
      "metadata": {
        "colab": {
          "base_uri": "https://localhost:8080/"
        },
        "id": "UsQbGGotqsDr",
        "outputId": "d4ea1064-cd4b-49f4-ed86-fc9b5df0524e"
      },
      "source": [
        "Model_iris.save('/content/drive/My Drive/Colab Notebooks/models/001_Model_iris.h5')\n",
        "\n",
        "!ls -l '/content/drive/My Drive/Colab Notebooks/models'"
      ],
      "execution_count": 35,
      "outputs": [
        {
          "output_type": "stream",
          "text": [
            "total 34\n",
            "-rw------- 1 root root 34600 Aug  4 10:21 001_Model_iris.h5\n"
          ],
          "name": "stdout"
        }
      ]
    },
    {
      "cell_type": "markdown",
      "metadata": {
        "id": "Mx9ItTrfq9s3"
      },
      "source": [
        "- Load from Mounted Google Drive Directory"
      ]
    },
    {
      "cell_type": "code",
      "metadata": {
        "id": "giZS1JnwrUKM"
      },
      "source": [
        "from keras.models import load_model\n",
        "\n",
        "Model_google = load_model('/content/drive/My Drive/Colab Notebooks/models/001_Model_iris.h5')"
      ],
      "execution_count": 36,
      "outputs": []
    },
    {
      "cell_type": "code",
      "metadata": {
        "colab": {
          "base_uri": "https://localhost:8080/"
        },
        "id": "I4z4lG2qrbs9",
        "outputId": "485234d1-8a52-46e4-f72b-81ffdf334cb6"
      },
      "source": [
        "Model_google.predict_classes(X_test)"
      ],
      "execution_count": 37,
      "outputs": [
        {
          "output_type": "execute_result",
          "data": {
            "text/plain": [
              "array([0, 0, 1, 2, 0, 1, 2, 0, 2, 0, 1, 2, 1, 0, 0, 1, 1, 0, 1, 0, 0, 0,\n",
              "       2, 0, 2, 2, 0, 1, 1, 2, 0, 1, 0, 1, 1, 1, 2, 1, 0, 1, 2, 0, 2, 2,\n",
              "       2])"
            ]
          },
          "metadata": {
            "tags": []
          },
          "execution_count": 37
        }
      ]
    },
    {
      "cell_type": "code",
      "metadata": {
        "id": "Y2gnDkb2rea2"
      },
      "source": [
        ""
      ],
      "execution_count": 37,
      "outputs": []
    }
  ]
}