{
  "nbformat": 4,
  "nbformat_minor": 0,
  "metadata": {
    "colab": {
      "name": "002_Keras_Fraud_Detection_Modeling_CPU.ipynb",
      "provenance": [],
      "collapsed_sections": [],
      "toc_visible": true
    },
    "kernelspec": {
      "name": "python3",
      "display_name": "Python 3"
    },
    "language_info": {
      "name": "python"
    }
  },
  "cells": [
    {
      "cell_type": "markdown",
      "metadata": {
        "id": "2mEBEeWF7Gag"
      },
      "source": [
        "# **Kaggle 신용카드 사기 검출(Google Drive Mount)**"
      ]
    },
    {
      "cell_type": "markdown",
      "metadata": {
        "id": "7bKMti7H7Q-O"
      },
      "source": [
        "https://www.kaggle.com/mlg-ulb/creditcardfraud"
      ]
    },
    {
      "cell_type": "markdown",
      "metadata": {
        "id": "ArvJx6tB7V3n"
      },
      "source": [
        "# **Credit Card Fraud Detection**\n",
        "- creditcard.csv(284,807*31)\n",
        "- Class : 0(정상), 1(사기)\n",
        "- 사기 검출(Fraud Detection), 이상 탐지(Anomaly Detection)"
      ]
    },
    {
      "cell_type": "code",
      "metadata": {
        "id": "z7IpW49A7tnG"
      },
      "source": [
        "import warnings\n",
        "warnings.filterwarnings('ignore')"
      ],
      "execution_count": 1,
      "outputs": []
    },
    {
      "cell_type": "markdown",
      "metadata": {
        "id": "YHPPeGU87xDr"
      },
      "source": [
        "# **I. Google Drive Mount**"
      ]
    },
    {
      "cell_type": "markdown",
      "metadata": {
        "id": "dSnJj0BE70tp"
      },
      "source": [
        "- 'creditCardFraud.zip' 파일을 구글 드라이브에 업로두 후 진행"
      ]
    },
    {
      "cell_type": "code",
      "metadata": {
        "colab": {
          "base_uri": "https://localhost:8080/"
        },
        "id": "U2CSq3YK77bQ",
        "outputId": "e095ef04-888a-4838-d3aa-196e5e5c6c4c"
      },
      "source": [
        "from google.colab import drive\n",
        "\n",
        "drive.mount('/content/drive')"
      ],
      "execution_count": 2,
      "outputs": [
        {
          "output_type": "stream",
          "text": [
            "Drive already mounted at /content/drive; to attempt to forcibly remount, call drive.mount(\"/content/drive\", force_remount=True).\n"
          ],
          "name": "stdout"
        }
      ]
    },
    {
      "cell_type": "markdown",
      "metadata": {
        "id": "WkDUduHJ8B0I"
      },
      "source": [
        "- 마운트 결과 확인"
      ]
    },
    {
      "cell_type": "code",
      "metadata": {
        "colab": {
          "base_uri": "https://localhost:8080/"
        },
        "id": "APOUofp58HuZ",
        "outputId": "7017b2de-be2c-4665-80f4-cbded13d0936"
      },
      "source": [
        "!ls -l '/content/drive/My Drive/Colab Notebooks/datasets/creditCardFraud.zip'"
      ],
      "execution_count": 3,
      "outputs": [
        {
          "output_type": "stream",
          "text": [
            "-rw------- 1 root root 69155672 Mar 31 15:04 '/content/drive/My Drive/Colab Notebooks/datasets/creditCardFraud.zip'\n"
          ],
          "name": "stdout"
        }
      ]
    },
    {
      "cell_type": "markdown",
      "metadata": {
        "id": "IkDtxjbe8MbA"
      },
      "source": [
        "# **II. Data Preprocessing**"
      ]
    },
    {
      "cell_type": "markdown",
      "metadata": {
        "id": "-4NfkGrH8QCh"
      },
      "source": [
        "> ## **1) Unzip 'creditCardFraud.zip**"
      ]
    },
    {
      "cell_type": "markdown",
      "metadata": {
        "id": "_2mhBOIF8Vc6"
      },
      "source": [
        "- Colab 파일 시스템에 'creditcard.csv' 파일 생성"
      ]
    },
    {
      "cell_type": "code",
      "metadata": {
        "colab": {
          "base_uri": "https://localhost:8080/"
        },
        "id": "vbNOT6q18dPO",
        "outputId": "d7f0c8e2-a0b7-46f0-fb59-5498a516fdfe"
      },
      "source": [
        "!unzip /content/drive/My\\ Drive/Colab\\ Notebooks/datasets/creditCardFraud.zip"
      ],
      "execution_count": 4,
      "outputs": [
        {
          "output_type": "stream",
          "text": [
            "Archive:  /content/drive/My Drive/Colab Notebooks/datasets/creditCardFraud.zip\n",
            "replace creditcard.csv? [y]es, [n]o, [A]ll, [N]one, [r]ename: y\n",
            "  inflating: creditcard.csv          \n"
          ],
          "name": "stdout"
        }
      ]
    },
    {
      "cell_type": "markdown",
      "metadata": {
        "id": "RXlwe7YU8gr1"
      },
      "source": [
        "- creditcard.csv 파일 확인"
      ]
    },
    {
      "cell_type": "code",
      "metadata": {
        "colab": {
          "base_uri": "https://localhost:8080/"
        },
        "id": "71Qo-O2N8lYW",
        "outputId": "0a1d94f5-9f75-4fff-a5f2-7883de0a2cef"
      },
      "source": [
        "!ls -l"
      ],
      "execution_count": 5,
      "outputs": [
        {
          "output_type": "stream",
          "text": [
            "total 147304\n",
            "-rw-r--r-- 1 root root 150828752 Sep 20  2019 creditcard.csv\n",
            "drwx------ 5 root root      4096 Aug  5 01:32 drive\n",
            "drwxr-xr-x 1 root root      4096 Jul 16 13:20 sample_data\n"
          ],
          "name": "stdout"
        }
      ]
    },
    {
      "cell_type": "markdown",
      "metadata": {
        "id": "MgzPqNSt8m5B"
      },
      "source": [
        "> ## **2) 데이터 읽어오기**"
      ]
    },
    {
      "cell_type": "markdown",
      "metadata": {
        "id": "_MbVAerg8qOB"
      },
      "source": [
        "- pandas DaraFrame"
      ]
    },
    {
      "cell_type": "code",
      "metadata": {
        "colab": {
          "base_uri": "https://localhost:8080/"
        },
        "id": "HpYdr1Ow8sd1",
        "outputId": "aceb60c6-edb0-4426-8570-d161240a8bdb"
      },
      "source": [
        "import pandas as pd\n",
        "\n",
        "DF = pd.read_csv('creditcard.csv')\n",
        "\n",
        "DF.info()"
      ],
      "execution_count": 6,
      "outputs": [
        {
          "output_type": "stream",
          "text": [
            "<class 'pandas.core.frame.DataFrame'>\n",
            "RangeIndex: 284807 entries, 0 to 284806\n",
            "Data columns (total 31 columns):\n",
            " #   Column  Non-Null Count   Dtype  \n",
            "---  ------  --------------   -----  \n",
            " 0   Time    284807 non-null  float64\n",
            " 1   V1      284807 non-null  float64\n",
            " 2   V2      284807 non-null  float64\n",
            " 3   V3      284807 non-null  float64\n",
            " 4   V4      284807 non-null  float64\n",
            " 5   V5      284807 non-null  float64\n",
            " 6   V6      284807 non-null  float64\n",
            " 7   V7      284807 non-null  float64\n",
            " 8   V8      284807 non-null  float64\n",
            " 9   V9      284807 non-null  float64\n",
            " 10  V10     284807 non-null  float64\n",
            " 11  V11     284807 non-null  float64\n",
            " 12  V12     284807 non-null  float64\n",
            " 13  V13     284807 non-null  float64\n",
            " 14  V14     284807 non-null  float64\n",
            " 15  V15     284807 non-null  float64\n",
            " 16  V16     284807 non-null  float64\n",
            " 17  V17     284807 non-null  float64\n",
            " 18  V18     284807 non-null  float64\n",
            " 19  V19     284807 non-null  float64\n",
            " 20  V20     284807 non-null  float64\n",
            " 21  V21     284807 non-null  float64\n",
            " 22  V22     284807 non-null  float64\n",
            " 23  V23     284807 non-null  float64\n",
            " 24  V24     284807 non-null  float64\n",
            " 25  V25     284807 non-null  float64\n",
            " 26  V26     284807 non-null  float64\n",
            " 27  V27     284807 non-null  float64\n",
            " 28  V28     284807 non-null  float64\n",
            " 29  Amount  284807 non-null  float64\n",
            " 30  Class   284807 non-null  int64  \n",
            "dtypes: float64(30), int64(1)\n",
            "memory usage: 67.4 MB\n"
          ],
          "name": "stdout"
        }
      ]
    },
    {
      "cell_type": "code",
      "metadata": {
        "colab": {
          "base_uri": "https://localhost:8080/",
          "height": 224
        },
        "id": "2MqkvRau8vHF",
        "outputId": "7d7a1c9b-9fb8-45f9-b71f-b797c73902ab"
      },
      "source": [
        "DF.head()"
      ],
      "execution_count": 7,
      "outputs": [
        {
          "output_type": "execute_result",
          "data": {
            "text/html": [
              "<div>\n",
              "<style scoped>\n",
              "    .dataframe tbody tr th:only-of-type {\n",
              "        vertical-align: middle;\n",
              "    }\n",
              "\n",
              "    .dataframe tbody tr th {\n",
              "        vertical-align: top;\n",
              "    }\n",
              "\n",
              "    .dataframe thead th {\n",
              "        text-align: right;\n",
              "    }\n",
              "</style>\n",
              "<table border=\"1\" class=\"dataframe\">\n",
              "  <thead>\n",
              "    <tr style=\"text-align: right;\">\n",
              "      <th></th>\n",
              "      <th>Time</th>\n",
              "      <th>V1</th>\n",
              "      <th>V2</th>\n",
              "      <th>V3</th>\n",
              "      <th>V4</th>\n",
              "      <th>V5</th>\n",
              "      <th>V6</th>\n",
              "      <th>V7</th>\n",
              "      <th>V8</th>\n",
              "      <th>V9</th>\n",
              "      <th>V10</th>\n",
              "      <th>V11</th>\n",
              "      <th>V12</th>\n",
              "      <th>V13</th>\n",
              "      <th>V14</th>\n",
              "      <th>V15</th>\n",
              "      <th>V16</th>\n",
              "      <th>V17</th>\n",
              "      <th>V18</th>\n",
              "      <th>V19</th>\n",
              "      <th>V20</th>\n",
              "      <th>V21</th>\n",
              "      <th>V22</th>\n",
              "      <th>V23</th>\n",
              "      <th>V24</th>\n",
              "      <th>V25</th>\n",
              "      <th>V26</th>\n",
              "      <th>V27</th>\n",
              "      <th>V28</th>\n",
              "      <th>Amount</th>\n",
              "      <th>Class</th>\n",
              "    </tr>\n",
              "  </thead>\n",
              "  <tbody>\n",
              "    <tr>\n",
              "      <th>0</th>\n",
              "      <td>0.0</td>\n",
              "      <td>-1.359807</td>\n",
              "      <td>-0.072781</td>\n",
              "      <td>2.536347</td>\n",
              "      <td>1.378155</td>\n",
              "      <td>-0.338321</td>\n",
              "      <td>0.462388</td>\n",
              "      <td>0.239599</td>\n",
              "      <td>0.098698</td>\n",
              "      <td>0.363787</td>\n",
              "      <td>0.090794</td>\n",
              "      <td>-0.551600</td>\n",
              "      <td>-0.617801</td>\n",
              "      <td>-0.991390</td>\n",
              "      <td>-0.311169</td>\n",
              "      <td>1.468177</td>\n",
              "      <td>-0.470401</td>\n",
              "      <td>0.207971</td>\n",
              "      <td>0.025791</td>\n",
              "      <td>0.403993</td>\n",
              "      <td>0.251412</td>\n",
              "      <td>-0.018307</td>\n",
              "      <td>0.277838</td>\n",
              "      <td>-0.110474</td>\n",
              "      <td>0.066928</td>\n",
              "      <td>0.128539</td>\n",
              "      <td>-0.189115</td>\n",
              "      <td>0.133558</td>\n",
              "      <td>-0.021053</td>\n",
              "      <td>149.62</td>\n",
              "      <td>0</td>\n",
              "    </tr>\n",
              "    <tr>\n",
              "      <th>1</th>\n",
              "      <td>0.0</td>\n",
              "      <td>1.191857</td>\n",
              "      <td>0.266151</td>\n",
              "      <td>0.166480</td>\n",
              "      <td>0.448154</td>\n",
              "      <td>0.060018</td>\n",
              "      <td>-0.082361</td>\n",
              "      <td>-0.078803</td>\n",
              "      <td>0.085102</td>\n",
              "      <td>-0.255425</td>\n",
              "      <td>-0.166974</td>\n",
              "      <td>1.612727</td>\n",
              "      <td>1.065235</td>\n",
              "      <td>0.489095</td>\n",
              "      <td>-0.143772</td>\n",
              "      <td>0.635558</td>\n",
              "      <td>0.463917</td>\n",
              "      <td>-0.114805</td>\n",
              "      <td>-0.183361</td>\n",
              "      <td>-0.145783</td>\n",
              "      <td>-0.069083</td>\n",
              "      <td>-0.225775</td>\n",
              "      <td>-0.638672</td>\n",
              "      <td>0.101288</td>\n",
              "      <td>-0.339846</td>\n",
              "      <td>0.167170</td>\n",
              "      <td>0.125895</td>\n",
              "      <td>-0.008983</td>\n",
              "      <td>0.014724</td>\n",
              "      <td>2.69</td>\n",
              "      <td>0</td>\n",
              "    </tr>\n",
              "    <tr>\n",
              "      <th>2</th>\n",
              "      <td>1.0</td>\n",
              "      <td>-1.358354</td>\n",
              "      <td>-1.340163</td>\n",
              "      <td>1.773209</td>\n",
              "      <td>0.379780</td>\n",
              "      <td>-0.503198</td>\n",
              "      <td>1.800499</td>\n",
              "      <td>0.791461</td>\n",
              "      <td>0.247676</td>\n",
              "      <td>-1.514654</td>\n",
              "      <td>0.207643</td>\n",
              "      <td>0.624501</td>\n",
              "      <td>0.066084</td>\n",
              "      <td>0.717293</td>\n",
              "      <td>-0.165946</td>\n",
              "      <td>2.345865</td>\n",
              "      <td>-2.890083</td>\n",
              "      <td>1.109969</td>\n",
              "      <td>-0.121359</td>\n",
              "      <td>-2.261857</td>\n",
              "      <td>0.524980</td>\n",
              "      <td>0.247998</td>\n",
              "      <td>0.771679</td>\n",
              "      <td>0.909412</td>\n",
              "      <td>-0.689281</td>\n",
              "      <td>-0.327642</td>\n",
              "      <td>-0.139097</td>\n",
              "      <td>-0.055353</td>\n",
              "      <td>-0.059752</td>\n",
              "      <td>378.66</td>\n",
              "      <td>0</td>\n",
              "    </tr>\n",
              "    <tr>\n",
              "      <th>3</th>\n",
              "      <td>1.0</td>\n",
              "      <td>-0.966272</td>\n",
              "      <td>-0.185226</td>\n",
              "      <td>1.792993</td>\n",
              "      <td>-0.863291</td>\n",
              "      <td>-0.010309</td>\n",
              "      <td>1.247203</td>\n",
              "      <td>0.237609</td>\n",
              "      <td>0.377436</td>\n",
              "      <td>-1.387024</td>\n",
              "      <td>-0.054952</td>\n",
              "      <td>-0.226487</td>\n",
              "      <td>0.178228</td>\n",
              "      <td>0.507757</td>\n",
              "      <td>-0.287924</td>\n",
              "      <td>-0.631418</td>\n",
              "      <td>-1.059647</td>\n",
              "      <td>-0.684093</td>\n",
              "      <td>1.965775</td>\n",
              "      <td>-1.232622</td>\n",
              "      <td>-0.208038</td>\n",
              "      <td>-0.108300</td>\n",
              "      <td>0.005274</td>\n",
              "      <td>-0.190321</td>\n",
              "      <td>-1.175575</td>\n",
              "      <td>0.647376</td>\n",
              "      <td>-0.221929</td>\n",
              "      <td>0.062723</td>\n",
              "      <td>0.061458</td>\n",
              "      <td>123.50</td>\n",
              "      <td>0</td>\n",
              "    </tr>\n",
              "    <tr>\n",
              "      <th>4</th>\n",
              "      <td>2.0</td>\n",
              "      <td>-1.158233</td>\n",
              "      <td>0.877737</td>\n",
              "      <td>1.548718</td>\n",
              "      <td>0.403034</td>\n",
              "      <td>-0.407193</td>\n",
              "      <td>0.095921</td>\n",
              "      <td>0.592941</td>\n",
              "      <td>-0.270533</td>\n",
              "      <td>0.817739</td>\n",
              "      <td>0.753074</td>\n",
              "      <td>-0.822843</td>\n",
              "      <td>0.538196</td>\n",
              "      <td>1.345852</td>\n",
              "      <td>-1.119670</td>\n",
              "      <td>0.175121</td>\n",
              "      <td>-0.451449</td>\n",
              "      <td>-0.237033</td>\n",
              "      <td>-0.038195</td>\n",
              "      <td>0.803487</td>\n",
              "      <td>0.408542</td>\n",
              "      <td>-0.009431</td>\n",
              "      <td>0.798278</td>\n",
              "      <td>-0.137458</td>\n",
              "      <td>0.141267</td>\n",
              "      <td>-0.206010</td>\n",
              "      <td>0.502292</td>\n",
              "      <td>0.219422</td>\n",
              "      <td>0.215153</td>\n",
              "      <td>69.99</td>\n",
              "      <td>0</td>\n",
              "    </tr>\n",
              "  </tbody>\n",
              "</table>\n",
              "</div>"
            ],
            "text/plain": [
              "   Time        V1        V2        V3  ...       V27       V28  Amount  Class\n",
              "0   0.0 -1.359807 -0.072781  2.536347  ...  0.133558 -0.021053  149.62      0\n",
              "1   0.0  1.191857  0.266151  0.166480  ... -0.008983  0.014724    2.69      0\n",
              "2   1.0 -1.358354 -1.340163  1.773209  ... -0.055353 -0.059752  378.66      0\n",
              "3   1.0 -0.966272 -0.185226  1.792993  ...  0.062723  0.061458  123.50      0\n",
              "4   2.0 -1.158233  0.877737  1.548718  ...  0.219422  0.215153   69.99      0\n",
              "\n",
              "[5 rows x 31 columns]"
            ]
          },
          "metadata": {
            "tags": []
          },
          "execution_count": 7
        }
      ]
    },
    {
      "cell_type": "markdown",
      "metadata": {
        "id": "UBMOV-El8xLu"
      },
      "source": [
        "- 0(정상) Class와 1(사기) Class 개수"
      ]
    },
    {
      "cell_type": "code",
      "metadata": {
        "colab": {
          "base_uri": "https://localhost:8080/"
        },
        "id": "3PuDuyTo811U",
        "outputId": "7525151a-ae7c-483d-b06c-360c8ab4a486"
      },
      "source": [
        "DF.Class.value_counts()"
      ],
      "execution_count": 8,
      "outputs": [
        {
          "output_type": "execute_result",
          "data": {
            "text/plain": [
              "0    284315\n",
              "1       492\n",
              "Name: Class, dtype: int64"
            ]
          },
          "metadata": {
            "tags": []
          },
          "execution_count": 8
        }
      ]
    },
    {
      "cell_type": "code",
      "metadata": {
        "colab": {
          "base_uri": "https://localhost:8080/"
        },
        "id": "IpwotbHY83_x",
        "outputId": "4c043188-7c74-42f4-9af2-995028f49321"
      },
      "source": [
        "(DF.Class.value_counts() / DF.shape[0]) * 100"
      ],
      "execution_count": 9,
      "outputs": [
        {
          "output_type": "execute_result",
          "data": {
            "text/plain": [
              "0    99.827251\n",
              "1     0.172749\n",
              "Name: Class, dtype: float64"
            ]
          },
          "metadata": {
            "tags": []
          },
          "execution_count": 9
        }
      ]
    },
    {
      "cell_type": "markdown",
      "metadata": {
        "id": "9--v5AiW9AtF"
      },
      "source": [
        "> ## **3) Time 열(Column) 삭제**"
      ]
    },
    {
      "cell_type": "code",
      "metadata": {
        "colab": {
          "base_uri": "https://localhost:8080/",
          "height": 100
        },
        "id": "amEIelwO9Eks",
        "outputId": "edd28879-bc49-4696-abe5-5cf3676a2dc6"
      },
      "source": [
        "DF.drop('Time', axis=1, inplace=True)\n",
        "\n",
        "DF.head(1)"
      ],
      "execution_count": 10,
      "outputs": [
        {
          "output_type": "execute_result",
          "data": {
            "text/html": [
              "<div>\n",
              "<style scoped>\n",
              "    .dataframe tbody tr th:only-of-type {\n",
              "        vertical-align: middle;\n",
              "    }\n",
              "\n",
              "    .dataframe tbody tr th {\n",
              "        vertical-align: top;\n",
              "    }\n",
              "\n",
              "    .dataframe thead th {\n",
              "        text-align: right;\n",
              "    }\n",
              "</style>\n",
              "<table border=\"1\" class=\"dataframe\">\n",
              "  <thead>\n",
              "    <tr style=\"text-align: right;\">\n",
              "      <th></th>\n",
              "      <th>V1</th>\n",
              "      <th>V2</th>\n",
              "      <th>V3</th>\n",
              "      <th>V4</th>\n",
              "      <th>V5</th>\n",
              "      <th>V6</th>\n",
              "      <th>V7</th>\n",
              "      <th>V8</th>\n",
              "      <th>V9</th>\n",
              "      <th>V10</th>\n",
              "      <th>V11</th>\n",
              "      <th>V12</th>\n",
              "      <th>V13</th>\n",
              "      <th>V14</th>\n",
              "      <th>V15</th>\n",
              "      <th>V16</th>\n",
              "      <th>V17</th>\n",
              "      <th>V18</th>\n",
              "      <th>V19</th>\n",
              "      <th>V20</th>\n",
              "      <th>V21</th>\n",
              "      <th>V22</th>\n",
              "      <th>V23</th>\n",
              "      <th>V24</th>\n",
              "      <th>V25</th>\n",
              "      <th>V26</th>\n",
              "      <th>V27</th>\n",
              "      <th>V28</th>\n",
              "      <th>Amount</th>\n",
              "      <th>Class</th>\n",
              "    </tr>\n",
              "  </thead>\n",
              "  <tbody>\n",
              "    <tr>\n",
              "      <th>0</th>\n",
              "      <td>-1.359807</td>\n",
              "      <td>-0.072781</td>\n",
              "      <td>2.536347</td>\n",
              "      <td>1.378155</td>\n",
              "      <td>-0.338321</td>\n",
              "      <td>0.462388</td>\n",
              "      <td>0.239599</td>\n",
              "      <td>0.098698</td>\n",
              "      <td>0.363787</td>\n",
              "      <td>0.090794</td>\n",
              "      <td>-0.5516</td>\n",
              "      <td>-0.617801</td>\n",
              "      <td>-0.99139</td>\n",
              "      <td>-0.311169</td>\n",
              "      <td>1.468177</td>\n",
              "      <td>-0.470401</td>\n",
              "      <td>0.207971</td>\n",
              "      <td>0.025791</td>\n",
              "      <td>0.403993</td>\n",
              "      <td>0.251412</td>\n",
              "      <td>-0.018307</td>\n",
              "      <td>0.277838</td>\n",
              "      <td>-0.110474</td>\n",
              "      <td>0.066928</td>\n",
              "      <td>0.128539</td>\n",
              "      <td>-0.189115</td>\n",
              "      <td>0.133558</td>\n",
              "      <td>-0.021053</td>\n",
              "      <td>149.62</td>\n",
              "      <td>0</td>\n",
              "    </tr>\n",
              "  </tbody>\n",
              "</table>\n",
              "</div>"
            ],
            "text/plain": [
              "         V1        V2        V3        V4  ...       V27       V28  Amount  Class\n",
              "0 -1.359807 -0.072781  2.536347  1.378155  ...  0.133558 -0.021053  149.62      0\n",
              "\n",
              "[1 rows x 30 columns]"
            ]
          },
          "metadata": {
            "tags": []
          },
          "execution_count": 10
        }
      ]
    },
    {
      "cell_type": "markdown",
      "metadata": {
        "id": "zDiNnH4C9KBI"
      },
      "source": [
        "> ## **4) train_test_split()**"
      ]
    },
    {
      "cell_type": "markdown",
      "metadata": {
        "id": "lFTT_rri9W2-"
      },
      "source": [
        "- X(Input), y(Output) 지정"
      ]
    },
    {
      "cell_type": "code",
      "metadata": {
        "colab": {
          "base_uri": "https://localhost:8080/"
        },
        "id": "_z_m4bZK9Z9x",
        "outputId": "6c3cf1b3-00cd-4e07-87dd-8f0808b26fc1"
      },
      "source": [
        "X = DF.iloc[:, :-1]\n",
        "y = DF.iloc[:, -1]\n",
        "\n",
        "X.shape, y.shape"
      ],
      "execution_count": 11,
      "outputs": [
        {
          "output_type": "execute_result",
          "data": {
            "text/plain": [
              "((284807, 29), (284807,))"
            ]
          },
          "metadata": {
            "tags": []
          },
          "execution_count": 11
        }
      ]
    },
    {
      "cell_type": "markdown",
      "metadata": {
        "id": "o34hmGaE9lx_"
      },
      "source": [
        "- With 'Stratify'"
      ]
    },
    {
      "cell_type": "code",
      "metadata": {
        "colab": {
          "base_uri": "https://localhost:8080/"
        },
        "id": "WcXMhCCO9rNB",
        "outputId": "c38607bc-9fd4-421b-b046-625ada0005e5"
      },
      "source": [
        "from sklearn.model_selection import train_test_split\n",
        "\n",
        "X_train, X_test, y_train, y_test = train_test_split(X, y,\n",
        "                                                    test_size=0.3,\n",
        "                                                    random_state=2045,\n",
        "                                                    stratify=y)\n",
        "\n",
        "X_train.shape, y_train.shape, X_test.shape, y_test.shape"
      ],
      "execution_count": 12,
      "outputs": [
        {
          "output_type": "execute_result",
          "data": {
            "text/plain": [
              "((199364, 29), (199364,), (85443, 29), (85443,))"
            ]
          },
          "metadata": {
            "tags": []
          },
          "execution_count": 12
        }
      ]
    },
    {
      "cell_type": "markdown",
      "metadata": {
        "id": "UUGFx5iQ99fP"
      },
      "source": [
        "- Train_Data와 Test_Data의 1(부정) 비율이 균형"
      ]
    },
    {
      "cell_type": "code",
      "metadata": {
        "colab": {
          "base_uri": "https://localhost:8080/"
        },
        "id": "0bwoximf-Hds",
        "outputId": "5d9c5970-549c-45fb-8073-3fdb8c4e56d0"
      },
      "source": [
        "print('Train_Data :\\n', (y_train.value_counts() / y_train.shape[0]) * 100)\n",
        "print('\\nTest_Data :\\n', (y_test.value_counts() / y_test.shape[0]) * 100)"
      ],
      "execution_count": 13,
      "outputs": [
        {
          "output_type": "stream",
          "text": [
            "Train_Data :\n",
            " 0    99.827451\n",
            "1     0.172549\n",
            "Name: Class, dtype: float64\n",
            "\n",
            "Test_Data :\n",
            " 0    99.826785\n",
            "1     0.173215\n",
            "Name: Class, dtype: float64\n"
          ],
          "name": "stdout"
        }
      ]
    },
    {
      "cell_type": "markdown",
      "metadata": {
        "id": "CcxhcCjN-aG6"
      },
      "source": [
        "# **III. Keras Modeling**"
      ]
    },
    {
      "cell_type": "markdown",
      "metadata": {
        "id": "19SiU2cC-muF"
      },
      "source": [
        "> ## **1) Import TensorFlow**"
      ]
    },
    {
      "cell_type": "markdown",
      "metadata": {
        "id": "Oj-YecTA-prM"
      },
      "source": [
        "- TensorFlow Verision 확인"
      ]
    },
    {
      "cell_type": "code",
      "metadata": {
        "colab": {
          "base_uri": "https://localhost:8080/",
          "height": 35
        },
        "id": "kH86rfw2-sZB",
        "outputId": "e84a62a1-c8ab-4aa1-a997-d3dc9d389694"
      },
      "source": [
        "import tensorflow\n",
        "\n",
        "tensorflow.__version__"
      ],
      "execution_count": 14,
      "outputs": [
        {
          "output_type": "execute_result",
          "data": {
            "application/vnd.google.colaboratory.intrinsic+json": {
              "type": "string"
            },
            "text/plain": [
              "'2.5.0'"
            ]
          },
          "metadata": {
            "tags": []
          },
          "execution_count": 14
        }
      ]
    },
    {
      "cell_type": "markdown",
      "metadata": {
        "id": "i8wlVSNL-wT9"
      },
      "source": [
        "> ## **2) Model Define**"
      ]
    },
    {
      "cell_type": "markdown",
      "metadata": {
        "id": "oApHOKC4-zTc"
      },
      "source": [
        "- 모델 신경망 구조 정의"
      ]
    },
    {
      "cell_type": "code",
      "metadata": {
        "id": "-MFI39ds-166"
      },
      "source": [
        "from tensorflow.keras import models\n",
        "from tensorflow.keras import layers\n",
        "\n",
        "ccfd = models.Sequential()\n",
        "\n",
        "ccfd.add(layers.Dense(128, activation='relu', input_shape=(29, )))\n",
        "ccfd.add(layers.Dense(64, activation='relu'))\n",
        "ccfd.add(layers.Dense(32, activation='relu'))\n",
        "ccfd.add(layers.Dense(1, activation='sigmoid'))   # 이진 분류이므로 노드가 한 개만 있으면 되고, Activation Function으로 Sigmoid 사용"
      ],
      "execution_count": 15,
      "outputs": []
    },
    {
      "cell_type": "markdown",
      "metadata": {
        "id": "9ECGrRC__WPp"
      },
      "source": [
        "- 모델 구조 사용"
      ]
    },
    {
      "cell_type": "code",
      "metadata": {
        "colab": {
          "base_uri": "https://localhost:8080/"
        },
        "id": "Y91kkG1Y_YUR",
        "outputId": "597adce3-8a0c-4e89-ba14-b3660a8bd1fc"
      },
      "source": [
        "ccfd.summary()"
      ],
      "execution_count": 16,
      "outputs": [
        {
          "output_type": "stream",
          "text": [
            "Model: \"sequential\"\n",
            "_________________________________________________________________\n",
            "Layer (type)                 Output Shape              Param #   \n",
            "=================================================================\n",
            "dense (Dense)                (None, 128)               3840      \n",
            "_________________________________________________________________\n",
            "dense_1 (Dense)              (None, 64)                8256      \n",
            "_________________________________________________________________\n",
            "dense_2 (Dense)              (None, 32)                2080      \n",
            "_________________________________________________________________\n",
            "dense_3 (Dense)              (None, 1)                 33        \n",
            "=================================================================\n",
            "Total params: 14,209\n",
            "Trainable params: 14,209\n",
            "Non-trainable params: 0\n",
            "_________________________________________________________________\n"
          ],
          "name": "stdout"
        }
      ]
    },
    {
      "cell_type": "markdown",
      "metadata": {
        "id": "-NAgfO2s_aM8"
      },
      "source": [
        "> ## **3) Model Compile**"
      ]
    },
    {
      "cell_type": "markdown",
      "metadata": {
        "id": "fRAdL5xm_eRx"
      },
      "source": [
        "- 모델 학습 방법 설정"
      ]
    },
    {
      "cell_type": "code",
      "metadata": {
        "id": "2paxinhs_gL8"
      },
      "source": [
        "ccfd.compile(loss='binary_crossentropy',   # 이진 분류이므로\n",
        "             optimizer='adam',\n",
        "             metrics=['Recall'])           # Positive를 Negative로 틀리게 분류 시 문제가 발생하므로 Recall(재현율) 사용"
      ],
      "execution_count": 17,
      "outputs": []
    },
    {
      "cell_type": "markdown",
      "metadata": {
        "id": "84TDZueaAzTQ"
      },
      "source": [
        "> ## **4) Model Fit**"
      ]
    },
    {
      "cell_type": "code",
      "metadata": {
        "colab": {
          "base_uri": "https://localhost:8080/"
        },
        "id": "5R1eB9QAA6bh",
        "outputId": "9263e820-989f-4248-81cc-3d29c7ced768"
      },
      "source": [
        "%%time\n",
        "\n",
        "Hist_ccfd = ccfd.fit(X_train, y_train,\n",
        "                     epochs=50,\n",
        "                     batch_size=1024,\n",
        "                     validation_data=(X_test, y_test))"
      ],
      "execution_count": 18,
      "outputs": [
        {
          "output_type": "stream",
          "text": [
            "Epoch 1/50\n",
            "195/195 [==============================] - 2s 8ms/step - loss: 0.0752 - recall: 0.3721 - val_loss: 0.0089 - val_recall: 0.6757\n",
            "Epoch 2/50\n",
            "195/195 [==============================] - 1s 6ms/step - loss: 0.0154 - recall: 0.6657 - val_loss: 0.0045 - val_recall: 0.8243\n",
            "Epoch 3/50\n",
            "195/195 [==============================] - 1s 6ms/step - loss: 0.0336 - recall: 0.6279 - val_loss: 0.0382 - val_recall: 0.5946\n",
            "Epoch 4/50\n",
            "195/195 [==============================] - 1s 6ms/step - loss: 0.0228 - recall: 0.6977 - val_loss: 0.0065 - val_recall: 0.8176\n",
            "Epoch 5/50\n",
            "195/195 [==============================] - 1s 7ms/step - loss: 0.0103 - recall: 0.7297 - val_loss: 0.0052 - val_recall: 0.8378\n",
            "Epoch 6/50\n",
            "195/195 [==============================] - 1s 6ms/step - loss: 0.0041 - recall: 0.7616 - val_loss: 0.0034 - val_recall: 0.8514\n",
            "Epoch 7/50\n",
            "195/195 [==============================] - 1s 6ms/step - loss: 0.0036 - recall: 0.7762 - val_loss: 0.0028 - val_recall: 0.8378\n",
            "Epoch 8/50\n",
            "195/195 [==============================] - 1s 7ms/step - loss: 0.0039 - recall: 0.7703 - val_loss: 0.0046 - val_recall: 0.8581\n",
            "Epoch 9/50\n",
            "195/195 [==============================] - 1s 6ms/step - loss: 0.0038 - recall: 0.7849 - val_loss: 0.0027 - val_recall: 0.7973\n",
            "Epoch 10/50\n",
            "195/195 [==============================] - 1s 6ms/step - loss: 0.0034 - recall: 0.7703 - val_loss: 0.0069 - val_recall: 0.6892\n",
            "Epoch 11/50\n",
            "195/195 [==============================] - 1s 6ms/step - loss: 0.0056 - recall: 0.7762 - val_loss: 0.0029 - val_recall: 0.8581\n",
            "Epoch 12/50\n",
            "195/195 [==============================] - 1s 6ms/step - loss: 0.0030 - recall: 0.7994 - val_loss: 0.0034 - val_recall: 0.8108\n",
            "Epoch 13/50\n",
            "195/195 [==============================] - 1s 6ms/step - loss: 0.0030 - recall: 0.8023 - val_loss: 0.0027 - val_recall: 0.8311\n",
            "Epoch 14/50\n",
            "195/195 [==============================] - 1s 6ms/step - loss: 0.0039 - recall: 0.7936 - val_loss: 0.0030 - val_recall: 0.8446\n",
            "Epoch 15/50\n",
            "195/195 [==============================] - 1s 6ms/step - loss: 0.0038 - recall: 0.7762 - val_loss: 0.0029 - val_recall: 0.8514\n",
            "Epoch 16/50\n",
            "195/195 [==============================] - 1s 6ms/step - loss: 0.0031 - recall: 0.8081 - val_loss: 0.0029 - val_recall: 0.7635\n",
            "Epoch 17/50\n",
            "195/195 [==============================] - 1s 6ms/step - loss: 0.0029 - recall: 0.8052 - val_loss: 0.0029 - val_recall: 0.7703\n",
            "Epoch 18/50\n",
            "195/195 [==============================] - 1s 6ms/step - loss: 0.0034 - recall: 0.7994 - val_loss: 0.0032 - val_recall: 0.8649\n",
            "Epoch 19/50\n",
            "195/195 [==============================] - 1s 6ms/step - loss: 0.0064 - recall: 0.7820 - val_loss: 0.0046 - val_recall: 0.7703\n",
            "Epoch 20/50\n",
            "195/195 [==============================] - 1s 6ms/step - loss: 0.0084 - recall: 0.7762 - val_loss: 0.0189 - val_recall: 0.7568\n",
            "Epoch 21/50\n",
            "195/195 [==============================] - 1s 6ms/step - loss: 0.0234 - recall: 0.7122 - val_loss: 0.0155 - val_recall: 0.7635\n",
            "Epoch 22/50\n",
            "195/195 [==============================] - 1s 6ms/step - loss: 0.0081 - recall: 0.7762 - val_loss: 0.0046 - val_recall: 0.8311\n",
            "Epoch 23/50\n",
            "195/195 [==============================] - 1s 6ms/step - loss: 0.0032 - recall: 0.8110 - val_loss: 0.0034 - val_recall: 0.8108\n",
            "Epoch 24/50\n",
            "195/195 [==============================] - 1s 6ms/step - loss: 0.0092 - recall: 0.8023 - val_loss: 0.0132 - val_recall: 0.8041\n",
            "Epoch 25/50\n",
            "195/195 [==============================] - 1s 6ms/step - loss: 0.0058 - recall: 0.7849 - val_loss: 0.0042 - val_recall: 0.8716\n",
            "Epoch 26/50\n",
            "195/195 [==============================] - 1s 6ms/step - loss: 0.0100 - recall: 0.7762 - val_loss: 0.0038 - val_recall: 0.7838\n",
            "Epoch 27/50\n",
            "195/195 [==============================] - 1s 6ms/step - loss: 0.0058 - recall: 0.8052 - val_loss: 0.0051 - val_recall: 0.8514\n",
            "Epoch 28/50\n",
            "195/195 [==============================] - 1s 6ms/step - loss: 0.0034 - recall: 0.8314 - val_loss: 0.0033 - val_recall: 0.8446\n",
            "Epoch 29/50\n",
            "195/195 [==============================] - 1s 7ms/step - loss: 0.0022 - recall: 0.8459 - val_loss: 0.0031 - val_recall: 0.8176\n",
            "Epoch 30/50\n",
            "195/195 [==============================] - 1s 6ms/step - loss: 0.0021 - recall: 0.8517 - val_loss: 0.0042 - val_recall: 0.8649\n",
            "Epoch 31/50\n",
            "195/195 [==============================] - 1s 6ms/step - loss: 0.0022 - recall: 0.8488 - val_loss: 0.0031 - val_recall: 0.8581\n",
            "Epoch 32/50\n",
            "195/195 [==============================] - 1s 6ms/step - loss: 0.0021 - recall: 0.8285 - val_loss: 0.0034 - val_recall: 0.8446\n",
            "Epoch 33/50\n",
            "195/195 [==============================] - 1s 6ms/step - loss: 0.0021 - recall: 0.8459 - val_loss: 0.0031 - val_recall: 0.7500\n",
            "Epoch 34/50\n",
            "195/195 [==============================] - 1s 6ms/step - loss: 0.0021 - recall: 0.8488 - val_loss: 0.0030 - val_recall: 0.8446\n",
            "Epoch 35/50\n",
            "195/195 [==============================] - 1s 6ms/step - loss: 0.0022 - recall: 0.8372 - val_loss: 0.0037 - val_recall: 0.7703\n",
            "Epoch 36/50\n",
            "195/195 [==============================] - 1s 6ms/step - loss: 0.0025 - recall: 0.8314 - val_loss: 0.0038 - val_recall: 0.8446\n",
            "Epoch 37/50\n",
            "195/195 [==============================] - 1s 6ms/step - loss: 0.0022 - recall: 0.8576 - val_loss: 0.0036 - val_recall: 0.7838\n",
            "Epoch 38/50\n",
            "195/195 [==============================] - 1s 7ms/step - loss: 0.0022 - recall: 0.8605 - val_loss: 0.0035 - val_recall: 0.8514\n",
            "Epoch 39/50\n",
            "195/195 [==============================] - 1s 6ms/step - loss: 0.0019 - recall: 0.8576 - val_loss: 0.0032 - val_recall: 0.8176\n",
            "Epoch 40/50\n",
            "195/195 [==============================] - 1s 6ms/step - loss: 0.0020 - recall: 0.8605 - val_loss: 0.0031 - val_recall: 0.8446\n",
            "Epoch 41/50\n",
            "195/195 [==============================] - 1s 6ms/step - loss: 0.0019 - recall: 0.8488 - val_loss: 0.0032 - val_recall: 0.7703\n",
            "Epoch 42/50\n",
            "195/195 [==============================] - 1s 6ms/step - loss: 0.0016 - recall: 0.8663 - val_loss: 0.0033 - val_recall: 0.8581\n",
            "Epoch 43/50\n",
            "195/195 [==============================] - 1s 6ms/step - loss: 0.0019 - recall: 0.8547 - val_loss: 0.0035 - val_recall: 0.8378\n",
            "Epoch 44/50\n",
            "195/195 [==============================] - 1s 7ms/step - loss: 0.0017 - recall: 0.8663 - val_loss: 0.0039 - val_recall: 0.8311\n",
            "Epoch 45/50\n",
            "195/195 [==============================] - 1s 6ms/step - loss: 0.0016 - recall: 0.8634 - val_loss: 0.0035 - val_recall: 0.8446\n",
            "Epoch 46/50\n",
            "195/195 [==============================] - 1s 7ms/step - loss: 0.0019 - recall: 0.8605 - val_loss: 0.0037 - val_recall: 0.8378\n",
            "Epoch 47/50\n",
            "195/195 [==============================] - 1s 6ms/step - loss: 0.0017 - recall: 0.8663 - val_loss: 0.0036 - val_recall: 0.8446\n",
            "Epoch 48/50\n",
            "195/195 [==============================] - 1s 6ms/step - loss: 0.0016 - recall: 0.8634 - val_loss: 0.0040 - val_recall: 0.7027\n",
            "Epoch 49/50\n",
            "195/195 [==============================] - 1s 6ms/step - loss: 0.0017 - recall: 0.8605 - val_loss: 0.0050 - val_recall: 0.7973\n",
            "Epoch 50/50\n",
            "195/195 [==============================] - 1s 6ms/step - loss: 0.0020 - recall: 0.8605 - val_loss: 0.0040 - val_recall: 0.7635\n",
            "CPU times: user 1min 18s, sys: 5 s, total: 1min 23s\n",
            "Wall time: 59.1 s\n"
          ],
          "name": "stdout"
        }
      ]
    },
    {
      "cell_type": "markdown",
      "metadata": {
        "id": "DgVe59YhBEZn"
      },
      "source": [
        "> ## **5) 학습 결과 시각화**"
      ]
    },
    {
      "cell_type": "markdown",
      "metadata": {
        "id": "ymScSn4zBee9"
      },
      "source": [
        "- Loss Visualization"
      ]
    },
    {
      "cell_type": "code",
      "metadata": {
        "colab": {
          "base_uri": "https://localhost:8080/",
          "height": 404
        },
        "id": "VBkbQXFbBtIj",
        "outputId": "7b65420b-9cde-45df-af70-6782490bc5af"
      },
      "source": [
        "import matplotlib.pyplot as plt\n",
        "\n",
        "epochs = range(1, len(Hist_ccfd.history['loss']) + 1)\n",
        "\n",
        "plt.figure(figsize=(9, 6))\n",
        "plt.plot(epochs, Hist_ccfd.history['loss'])\n",
        "plt.plot(epochs, Hist_ccfd.history['val_loss'])\n",
        "plt.title('Training & Validation Loss')\n",
        "plt.xlabel('Epochs')\n",
        "plt.ylabel('Loss')\n",
        "plt.legend(['Training Loss', 'Validation Loss'])\n",
        "plt.grid()\n",
        "plt.show()"
      ],
      "execution_count": 19,
      "outputs": [
        {
          "output_type": "display_data",
          "data": {
            "image/png": "[encoded data removed]",
            "text/plain": [
              "<Figure size 648x432 with 1 Axes>"
            ]
          },
          "metadata": {
            "tags": [],
            "needs_background": "light"
          }
        }
      ]
    },
    {
      "cell_type": "markdown",
      "metadata": {
        "id": "kvD-b8HQCzRu"
      },
      "source": [
        "- Recall Visualization"
      ]
    },
    {
      "cell_type": "code",
      "metadata": {
        "colab": {
          "base_uri": "https://localhost:8080/",
          "height": 404
        },
        "id": "dS2L6d8wC7px",
        "outputId": "98367e36-7838-41e2-f0d6-19d5bfbe1b43"
      },
      "source": [
        "import matplotlib.pyplot as plt\n",
        "\n",
        "epochs = range(1, len(Hist_ccfd.history['recall']) + 1)\n",
        "\n",
        "plt.figure(figsize=(9, 6))\n",
        "plt.plot(epochs, Hist_ccfd.history['recall'])\n",
        "plt.plot(epochs, Hist_ccfd.history['val_recall'])\n",
        "plt.title('Training & Validation Recall')\n",
        "plt.xlabel('Epochs')\n",
        "plt.ylabel('Recall')\n",
        "plt.legend(['Training Recall', 'Validation Recall'])\n",
        "plt.grid()\n",
        "plt.show()"
      ],
      "execution_count": 20,
      "outputs": [
        {
          "output_type": "display_data",
          "data": {
            "image/png": "[encoded data removed]",
            "text/plain": [
              "<Figure size 648x432 with 1 Axes>"
            ]
          },
          "metadata": {
            "tags": [],
            "needs_background": "light"
          }
        }
      ]
    },
    {
      "cell_type": "markdown",
      "metadata": {
        "id": "wCZ25920DIZ_"
      },
      "source": [
        "> ## **6) Model Evaluate**"
      ]
    },
    {
      "cell_type": "markdown",
      "metadata": {
        "id": "I41sattVDTgm"
      },
      "source": [
        "- Loss & Accuracy"
      ]
    },
    {
      "cell_type": "code",
      "metadata": {
        "colab": {
          "base_uri": "https://localhost:8080/"
        },
        "id": "XodYLtD3DVwM",
        "outputId": "334cffb6-8eeb-4ca7-f98e-474eab8f396b"
      },
      "source": [
        "loss, recall = ccfd.evaluate(X_test, y_test)\n",
        "\n",
        "print('Loss = {:.5f}'.format(loss))\n",
        "print('Recall = {:.5f}'.format(recall))"
      ],
      "execution_count": 21,
      "outputs": [
        {
          "output_type": "stream",
          "text": [
            "2671/2671 [==============================] - 3s 1ms/step - loss: 0.0040 - recall: 0.7635\n",
            "Loss = 0.00402\n",
            "Recall = 0.76351\n"
          ],
          "name": "stdout"
        }
      ]
    },
    {
      "cell_type": "markdown",
      "metadata": {
        "id": "GP6HblkmDjEI"
      },
      "source": [
        "> ## **7) Model Predict**"
      ]
    },
    {
      "cell_type": "code",
      "metadata": {
        "id": "SZk4cPyvMGKM"
      },
      "source": [
        "y_hat = ccfd.predict_classes(X_test)"
      ],
      "execution_count": 22,
      "outputs": []
    },
    {
      "cell_type": "code",
      "metadata": {
        "colab": {
          "base_uri": "https://localhost:8080/"
        },
        "id": "Wi1kcAkjMKDt",
        "outputId": "492a23a5-e471-4611-9f5d-6a8d7935bcb9"
      },
      "source": [
        "from sklearn.metrics import confusion_matrix\n",
        "\n",
        "confusion_matrix(y_test, y_hat)"
      ],
      "execution_count": 23,
      "outputs": [
        {
          "output_type": "execute_result",
          "data": {
            "text/plain": [
              "array([[85286,     9],\n",
              "       [   35,   113]])"
            ]
          },
          "metadata": {
            "tags": []
          },
          "execution_count": 23
        }
      ]
    },
    {
      "cell_type": "code",
      "metadata": {
        "colab": {
          "base_uri": "https://localhost:8080/"
        },
        "id": "wKe_-1ArMQPN",
        "outputId": "cd9bf679-c51b-485f-ca45-e7f4b705e004"
      },
      "source": [
        "from sklearn.metrics import accuracy_score, precision_score, recall_score\n",
        "\n",
        "print(accuracy_score(y_test, y_hat))\n",
        "print(precision_score(y_test, y_hat, pos_label=1))   # 검출하고자 하는 양성 레이블을 1(사기)로 지정\n",
        "print(recall_score(y_test, y_hat, pos_label=1))"
      ],
      "execution_count": 24,
      "outputs": [
        {
          "output_type": "stream",
          "text": [
            "0.9994850368081645\n",
            "0.9262295081967213\n",
            "0.7635135135135135\n"
          ],
          "name": "stdout"
        }
      ]
    },
    {
      "cell_type": "code",
      "metadata": {
        "id": "Rp9OhVhIMwNZ"
      },
      "source": [
        ""
      ],
      "execution_count": 24,
      "outputs": []
    }
  ]
}