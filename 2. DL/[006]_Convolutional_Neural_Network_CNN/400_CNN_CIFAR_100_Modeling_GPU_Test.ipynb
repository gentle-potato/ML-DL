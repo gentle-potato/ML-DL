{
  "nbformat": 4,
  "nbformat_minor": 0,
  "metadata": {
    "colab": {
      "name": "400_CNN_CIFAR_100_Modeling_GPU_Test.ipynb",
      "provenance": [],
      "collapsed_sections": []
    },
    "kernelspec": {
      "name": "python3",
      "display_name": "Python 3"
    },
    "accelerator": "GPU"
  },
  "cells": [
    {
      "cell_type": "markdown",
      "metadata": {
        "id": "q2Pr7oBdYLdf"
      },
      "source": [
        "# **CIFAR100 - Categorical Classification**"
      ]
    },
    {
      "cell_type": "markdown",
      "metadata": {
        "id": "9Yrk9dQsuXHP"
      },
      "source": [
        "> # **Convolutional Neural Network**"
      ]
    },
    {
      "cell_type": "code",
      "metadata": {
        "id": "RbPgODpVzdHI"
      },
      "source": [
        "import warnings\n",
        "warnings.filterwarnings('ignore')"
      ],
      "execution_count": 1,
      "outputs": []
    },
    {
      "cell_type": "markdown",
      "metadata": {
        "id": "tUvJIk2aRFtw"
      },
      "source": [
        "* import TensorFlow"
      ]
    },
    {
      "cell_type": "code",
      "metadata": {
        "id": "GR4j3p6N_rDV",
        "colab": {
          "base_uri": "https://localhost:8080/",
          "height": 35
        },
        "outputId": "8160a089-beab-4fbd-f6d1-b24cf0e2dfbc"
      },
      "source": [
        "import tensorflow\n",
        "\n",
        "tensorflow.__version__"
      ],
      "execution_count": 2,
      "outputs": [
        {
          "output_type": "execute_result",
          "data": {
            "application/vnd.google.colaboratory.intrinsic+json": {
              "type": "string"
            },
            "text/plain": [
              "'2.5.0'"
            ]
          },
          "metadata": {
            "tags": []
          },
          "execution_count": 2
        }
      ]
    },
    {
      "cell_type": "markdown",
      "metadata": {
        "id": "H49A769LYp-a"
      },
      "source": [
        "# **I. CIFAR100 Data_Set Load**"
      ]
    },
    {
      "cell_type": "code",
      "metadata": {
        "id": "DxstjE8b_6Te"
      },
      "source": [
        "from tensorflow.keras.datasets import cifar100\n",
        "\n",
        "(X_train, y_train), (X_test, y_test) = cifar100.load_data(label_mode = 'fine')"
      ],
      "execution_count": 3,
      "outputs": []
    },
    {
      "cell_type": "markdown",
      "metadata": {
        "id": "Mk9XL5vGHor6"
      },
      "source": [
        "# **II. Data Preprocessing**"
      ]
    },
    {
      "cell_type": "markdown",
      "metadata": {
        "id": "ec8zU4XCZRUF"
      },
      "source": [
        "> ## **1) Reshape and Normalization**"
      ]
    },
    {
      "cell_type": "markdown",
      "metadata": {
        "id": "olI6ZPtEIb8H"
      },
      "source": [
        "* reshape"
      ]
    },
    {
      "cell_type": "code",
      "metadata": {
        "id": "8-toPn1ZAmFd"
      },
      "source": [
        "X_train = X_train.reshape((50000, 32, 32, 3))\n",
        "X_test = X_test.reshape((10000, 32, 32, 3))"
      ],
      "execution_count": 4,
      "outputs": []
    },
    {
      "cell_type": "markdown",
      "metadata": {
        "id": "UN-xPWjYIeWL"
      },
      "source": [
        "* Normalization"
      ]
    },
    {
      "cell_type": "code",
      "metadata": {
        "id": "SoGHuYeFIGBj"
      },
      "source": [
        "X_train = X_train.astype(float) / 255\n",
        "X_test = X_test.astype(float) / 255"
      ],
      "execution_count": 5,
      "outputs": []
    },
    {
      "cell_type": "markdown",
      "metadata": {
        "id": "BtSROU80aF12"
      },
      "source": [
        "> ## **2) One-Hot Encoding**"
      ]
    },
    {
      "cell_type": "code",
      "metadata": {
        "id": "eC48Oym3Ao8E"
      },
      "source": [
        "from tensorflow.keras.utils import to_categorical\n",
        "\n",
        "y_train = to_categorical(y_train)\n",
        "y_test = to_categorical(y_test)"
      ],
      "execution_count": 6,
      "outputs": []
    },
    {
      "cell_type": "markdown",
      "metadata": {
        "id": "NTwZiSjiop3v"
      },
      "source": [
        "# **III. MNIST Keras Modeling**"
      ]
    },
    {
      "cell_type": "markdown",
      "metadata": {
        "id": "j5CT0TurJCkc"
      },
      "source": [
        "> ## **1) Model Define**"
      ]
    },
    {
      "cell_type": "code",
      "metadata": {
        "id": "II0DskRdAcHS"
      },
      "source": [
        "from tensorflow.keras import models\n",
        "from tensorflow.keras import layers\n",
        "\n",
        "model = models.Sequential()\n",
        "model.add(layers.Conv2D(filters=128, kernel_size=(3, 3), padding='same', activation='relu', input_shape=(32, 32, 3)))\n",
        "model.add(layers.MaxPool2D(pool_size=(2, 2)))\n",
        "model.add(layers.Conv2D(filters=128, kernel_size=(3, 3), activation='relu'))\n",
        "model.add(layers.MaxPool2D(pool_size=(2, 2)))\n",
        "model.add(layers.Conv2D(filters=128, kernel_size=(3, 3), activation='relu'))\n",
        "\n",
        "model.add(layers.Flatten())\n",
        "model.add(layers.Dense(units=256, activation='relu'))\n",
        "model.add(layers.Dropout(0.5))\n",
        "model.add(layers.Dense(units=100, activation='softmax'))"
      ],
      "execution_count": 7,
      "outputs": []
    },
    {
      "cell_type": "code",
      "metadata": {
        "id": "kQ02_BOz8-ek",
        "colab": {
          "base_uri": "https://localhost:8080/"
        },
        "outputId": "f7a1c872-3d47-4e82-85f0-13604cdf9e6a"
      },
      "source": [
        "model.summary()"
      ],
      "execution_count": 8,
      "outputs": [
        {
          "output_type": "stream",
          "text": [
            "Model: \"sequential\"\n",
            "_________________________________________________________________\n",
            "Layer (type)                 Output Shape              Param #   \n",
            "=================================================================\n",
            "conv2d (Conv2D)              (None, 32, 32, 128)       3584      \n",
            "_________________________________________________________________\n",
            "max_pooling2d (MaxPooling2D) (None, 16, 16, 128)       0         \n",
            "_________________________________________________________________\n",
            "conv2d_1 (Conv2D)            (None, 14, 14, 128)       147584    \n",
            "_________________________________________________________________\n",
            "max_pooling2d_1 (MaxPooling2 (None, 7, 7, 128)         0         \n",
            "_________________________________________________________________\n",
            "conv2d_2 (Conv2D)            (None, 5, 5, 128)         147584    \n",
            "_________________________________________________________________\n",
            "flatten (Flatten)            (None, 3200)              0         \n",
            "_________________________________________________________________\n",
            "dense (Dense)                (None, 256)               819456    \n",
            "_________________________________________________________________\n",
            "dropout (Dropout)            (None, 256)               0         \n",
            "_________________________________________________________________\n",
            "dense_1 (Dense)              (None, 100)               25700     \n",
            "=================================================================\n",
            "Total params: 1,143,908\n",
            "Trainable params: 1,143,908\n",
            "Non-trainable params: 0\n",
            "_________________________________________________________________\n"
          ],
          "name": "stdout"
        }
      ]
    },
    {
      "cell_type": "markdown",
      "metadata": {
        "id": "tpjBDBeYoyuj"
      },
      "source": [
        "> ## **2) Model Compile**"
      ]
    },
    {
      "cell_type": "markdown",
      "metadata": {
        "id": "f3sxkQa0JoUr"
      },
      "source": [
        "* 모델 학습 방법 설정"
      ]
    },
    {
      "cell_type": "code",
      "metadata": {
        "id": "AyK_t1qwAi6M"
      },
      "source": [
        "model.compile(loss='categorical_crossentropy',\n",
        "              optimizer='rmsprop',\n",
        "              metrics=['accuracy'])"
      ],
      "execution_count": 9,
      "outputs": []
    },
    {
      "cell_type": "markdown",
      "metadata": {
        "id": "umiq4B-Xo3OB"
      },
      "source": [
        "> ## **3) Model Fit**"
      ]
    },
    {
      "cell_type": "markdown",
      "metadata": {
        "id": "1KuXREziKMD1"
      },
      "source": [
        "* 약 5분"
      ]
    },
    {
      "cell_type": "code",
      "metadata": {
        "id": "zxwqwAqRAqRP",
        "colab": {
          "base_uri": "https://localhost:8080/"
        },
        "outputId": "488b777e-995c-4e15-fd78-23399e120f75"
      },
      "source": [
        "%%time\n",
        "\n",
        "Hist_model = model.fit(X_train, y_train,\n",
        "                       epochs=50,\n",
        "                       batch_size=128,\n",
        "                       validation_split=0.2)"
      ],
      "execution_count": 10,
      "outputs": [
        {
          "output_type": "stream",
          "text": [
            "Epoch 1/50\n",
            "313/313 [==============================] - 11s 17ms/step - loss: 4.2371 - accuracy: 0.0584 - val_loss: 3.7469 - val_accuracy: 0.1456\n",
            "Epoch 2/50\n",
            "313/313 [==============================] - 5s 16ms/step - loss: 3.6446 - accuracy: 0.1479 - val_loss: 3.2720 - val_accuracy: 0.2216\n",
            "Epoch 3/50\n",
            "313/313 [==============================] - 5s 17ms/step - loss: 3.2875 - accuracy: 0.2105 - val_loss: 3.2606 - val_accuracy: 0.2189\n",
            "Epoch 4/50\n",
            "313/313 [==============================] - 5s 16ms/step - loss: 3.0344 - accuracy: 0.2563 - val_loss: 2.9123 - val_accuracy: 0.2810\n",
            "Epoch 5/50\n",
            "313/313 [==============================] - 5s 16ms/step - loss: 2.8134 - accuracy: 0.2984 - val_loss: 2.6815 - val_accuracy: 0.3276\n",
            "Epoch 6/50\n",
            "313/313 [==============================] - 5s 16ms/step - loss: 2.6555 - accuracy: 0.3290 - val_loss: 2.6267 - val_accuracy: 0.3471\n",
            "Epoch 7/50\n",
            "313/313 [==============================] - 5s 16ms/step - loss: 2.4874 - accuracy: 0.3667 - val_loss: 2.5546 - val_accuracy: 0.3578\n",
            "Epoch 8/50\n",
            "313/313 [==============================] - 5s 16ms/step - loss: 2.3372 - accuracy: 0.3976 - val_loss: 2.4771 - val_accuracy: 0.3710\n",
            "Epoch 9/50\n",
            "313/313 [==============================] - 5s 16ms/step - loss: 2.2024 - accuracy: 0.4234 - val_loss: 2.4546 - val_accuracy: 0.3795\n",
            "Epoch 10/50\n",
            "313/313 [==============================] - 5s 16ms/step - loss: 2.0756 - accuracy: 0.4527 - val_loss: 2.3842 - val_accuracy: 0.3986\n",
            "Epoch 11/50\n",
            "313/313 [==============================] - 5s 16ms/step - loss: 1.9641 - accuracy: 0.4744 - val_loss: 2.4507 - val_accuracy: 0.3953\n",
            "Epoch 12/50\n",
            "313/313 [==============================] - 5s 16ms/step - loss: 1.8499 - accuracy: 0.5006 - val_loss: 2.4243 - val_accuracy: 0.4099\n",
            "Epoch 13/50\n",
            "313/313 [==============================] - 5s 16ms/step - loss: 1.7402 - accuracy: 0.5236 - val_loss: 2.6588 - val_accuracy: 0.3929\n",
            "Epoch 14/50\n",
            "313/313 [==============================] - 5s 16ms/step - loss: 1.6570 - accuracy: 0.5401 - val_loss: 2.4210 - val_accuracy: 0.4114\n",
            "Epoch 15/50\n",
            "313/313 [==============================] - 5s 16ms/step - loss: 1.5589 - accuracy: 0.5677 - val_loss: 2.4124 - val_accuracy: 0.4056\n",
            "Epoch 16/50\n",
            "313/313 [==============================] - 5s 16ms/step - loss: 1.4768 - accuracy: 0.5833 - val_loss: 2.6227 - val_accuracy: 0.4041\n",
            "Epoch 17/50\n",
            "313/313 [==============================] - 5s 17ms/step - loss: 1.4025 - accuracy: 0.6043 - val_loss: 2.5167 - val_accuracy: 0.4087\n",
            "Epoch 18/50\n",
            "313/313 [==============================] - 5s 16ms/step - loss: 1.3402 - accuracy: 0.6177 - val_loss: 2.5598 - val_accuracy: 0.3973\n",
            "Epoch 19/50\n",
            "313/313 [==============================] - 5s 16ms/step - loss: 1.2788 - accuracy: 0.6355 - val_loss: 3.0422 - val_accuracy: 0.4137\n",
            "Epoch 20/50\n",
            "313/313 [==============================] - 5s 16ms/step - loss: 1.2312 - accuracy: 0.6456 - val_loss: 2.9408 - val_accuracy: 0.4106\n",
            "Epoch 21/50\n",
            "313/313 [==============================] - 5s 17ms/step - loss: 1.1912 - accuracy: 0.6608 - val_loss: 2.8940 - val_accuracy: 0.4040\n",
            "Epoch 22/50\n",
            "313/313 [==============================] - 5s 16ms/step - loss: 1.1620 - accuracy: 0.6679 - val_loss: 2.6803 - val_accuracy: 0.3929\n",
            "Epoch 23/50\n",
            "313/313 [==============================] - 5s 16ms/step - loss: 1.1411 - accuracy: 0.6752 - val_loss: 2.9349 - val_accuracy: 0.3859\n",
            "Epoch 24/50\n",
            "313/313 [==============================] - 5s 16ms/step - loss: 1.1089 - accuracy: 0.6837 - val_loss: 3.0945 - val_accuracy: 0.4030\n",
            "Epoch 25/50\n",
            "313/313 [==============================] - 5s 16ms/step - loss: 1.1037 - accuracy: 0.6874 - val_loss: 3.1589 - val_accuracy: 0.4000\n",
            "Epoch 26/50\n",
            "313/313 [==============================] - 5s 17ms/step - loss: 1.0813 - accuracy: 0.6946 - val_loss: 3.2852 - val_accuracy: 0.4144\n",
            "Epoch 27/50\n",
            "313/313 [==============================] - 5s 16ms/step - loss: 1.0678 - accuracy: 0.7002 - val_loss: 4.1742 - val_accuracy: 0.4065\n",
            "Epoch 28/50\n",
            "313/313 [==============================] - 5s 16ms/step - loss: 1.0526 - accuracy: 0.7027 - val_loss: 3.4778 - val_accuracy: 0.4019\n",
            "Epoch 29/50\n",
            "313/313 [==============================] - 5s 16ms/step - loss: 1.0517 - accuracy: 0.7042 - val_loss: 3.6375 - val_accuracy: 0.4147\n",
            "Epoch 30/50\n",
            "313/313 [==============================] - 5s 16ms/step - loss: 1.0344 - accuracy: 0.7107 - val_loss: 3.6673 - val_accuracy: 0.4052\n",
            "Epoch 31/50\n",
            "313/313 [==============================] - 5s 16ms/step - loss: 1.0283 - accuracy: 0.7124 - val_loss: 4.3050 - val_accuracy: 0.4026\n",
            "Epoch 32/50\n",
            "313/313 [==============================] - 5s 16ms/step - loss: 1.0354 - accuracy: 0.7157 - val_loss: 3.0099 - val_accuracy: 0.3639\n",
            "Epoch 33/50\n",
            "313/313 [==============================] - 5s 16ms/step - loss: 1.0391 - accuracy: 0.7149 - val_loss: 3.6619 - val_accuracy: 0.3999\n",
            "Epoch 34/50\n",
            "313/313 [==============================] - 5s 16ms/step - loss: 1.0294 - accuracy: 0.7153 - val_loss: 4.5088 - val_accuracy: 0.4120\n",
            "Epoch 35/50\n",
            "313/313 [==============================] - 5s 17ms/step - loss: 1.0325 - accuracy: 0.7183 - val_loss: 4.3901 - val_accuracy: 0.4053\n",
            "Epoch 36/50\n",
            "313/313 [==============================] - 5s 16ms/step - loss: 1.0385 - accuracy: 0.7167 - val_loss: 3.2484 - val_accuracy: 0.3705\n",
            "Epoch 37/50\n",
            "313/313 [==============================] - 5s 16ms/step - loss: 1.0309 - accuracy: 0.7179 - val_loss: 3.7434 - val_accuracy: 0.4096\n",
            "Epoch 38/50\n",
            "313/313 [==============================] - 5s 16ms/step - loss: 1.0423 - accuracy: 0.7194 - val_loss: 5.2745 - val_accuracy: 0.4083\n",
            "Epoch 39/50\n",
            "313/313 [==============================] - 5s 16ms/step - loss: 1.0371 - accuracy: 0.7231 - val_loss: 3.3559 - val_accuracy: 0.3635\n",
            "Epoch 40/50\n",
            "313/313 [==============================] - 5s 16ms/step - loss: 1.0421 - accuracy: 0.7203 - val_loss: 5.0617 - val_accuracy: 0.4083\n",
            "Epoch 41/50\n",
            "313/313 [==============================] - 5s 16ms/step - loss: 1.0383 - accuracy: 0.7217 - val_loss: 3.8149 - val_accuracy: 0.4025\n",
            "Epoch 42/50\n",
            "313/313 [==============================] - 5s 16ms/step - loss: 1.0312 - accuracy: 0.7247 - val_loss: 3.6862 - val_accuracy: 0.3715\n",
            "Epoch 43/50\n",
            "313/313 [==============================] - 5s 16ms/step - loss: 1.0350 - accuracy: 0.7210 - val_loss: 4.5548 - val_accuracy: 0.3936\n",
            "Epoch 44/50\n",
            "313/313 [==============================] - 5s 16ms/step - loss: 1.0527 - accuracy: 0.7192 - val_loss: 4.0045 - val_accuracy: 0.3910\n",
            "Epoch 45/50\n",
            "313/313 [==============================] - 5s 16ms/step - loss: 1.0545 - accuracy: 0.7192 - val_loss: 4.1845 - val_accuracy: 0.4074\n",
            "Epoch 46/50\n",
            "313/313 [==============================] - 5s 16ms/step - loss: 1.0691 - accuracy: 0.7158 - val_loss: 4.3933 - val_accuracy: 0.3958\n",
            "Epoch 47/50\n",
            "313/313 [==============================] - 5s 16ms/step - loss: 1.1024 - accuracy: 0.7120 - val_loss: 4.7425 - val_accuracy: 0.3942\n",
            "Epoch 48/50\n",
            "313/313 [==============================] - 5s 16ms/step - loss: 1.0885 - accuracy: 0.7140 - val_loss: 5.2961 - val_accuracy: 0.3944\n",
            "Epoch 49/50\n",
            "313/313 [==============================] - 5s 16ms/step - loss: 1.0980 - accuracy: 0.7113 - val_loss: 4.5729 - val_accuracy: 0.4054\n",
            "Epoch 50/50\n",
            "313/313 [==============================] - 5s 16ms/step - loss: 1.1006 - accuracy: 0.7102 - val_loss: 3.7591 - val_accuracy: 0.3421\n",
            "CPU times: user 3min 50s, sys: 15.4 s, total: 4min 6s\n",
            "Wall time: 4min 18s\n"
          ],
          "name": "stdout"
        }
      ]
    },
    {
      "cell_type": "markdown",
      "metadata": {
        "id": "FnnIyFtNKhbD"
      },
      "source": [
        "> ## **4) 학습 결과 시각화**"
      ]
    },
    {
      "cell_type": "markdown",
      "metadata": {
        "id": "YgXRhVauKqOm"
      },
      "source": [
        "* Loss Visualization"
      ]
    },
    {
      "cell_type": "code",
      "metadata": {
        "id": "OQ4ke8BbKi50",
        "colab": {
          "base_uri": "https://localhost:8080/",
          "height": 404
        },
        "outputId": "14183ba3-e36f-4e3b-bc05-26a19b49fdca"
      },
      "source": [
        "import matplotlib.pyplot as plt\n",
        "\n",
        "epochs = range(1, len(Hist_model.history['loss']) + 1)\n",
        "\n",
        "plt.figure(figsize=(9, 6))\n",
        "plt.plot(epochs, Hist_model.history['loss'])\n",
        "plt.plot(epochs, Hist_model.history['val_loss'])\n",
        "# plt.ylim(0, 0.4)\n",
        "plt.title('Training & Validation Loss')\n",
        "plt.xlabel('Epochs')\n",
        "plt.ylabel('Loss')\n",
        "plt.legend(['Training Loss', 'Validation Loss'])\n",
        "plt.grid()\n",
        "plt.show()"
      ],
      "execution_count": 11,
      "outputs": [
        {
          "output_type": "display_data",
          "data": {
            "image/png": "[encoded data removed]",
            "text/plain": [
              "<Figure size 648x432 with 1 Axes>"
            ]
          },
          "metadata": {
            "tags": [],
            "needs_background": "light"
          }
        }
      ]
    },
    {
      "cell_type": "markdown",
      "metadata": {
        "id": "_uJSOLBko7lh"
      },
      "source": [
        "> ## **5) Model Evaluate**"
      ]
    },
    {
      "cell_type": "markdown",
      "metadata": {
        "id": "i-TqAB2ALGzZ"
      },
      "source": [
        "* Loss & Accuracy"
      ]
    },
    {
      "cell_type": "code",
      "metadata": {
        "id": "OF30PuZsAxQJ",
        "colab": {
          "base_uri": "https://localhost:8080/"
        },
        "outputId": "3239a990-68d3-4b23-aadb-2f343cad155a"
      },
      "source": [
        "loss, accuracy = model.evaluate(X_test, y_test)\n",
        "\n",
        "print('Loss = {:.5f}'.format(loss))\n",
        "print('Accuracy = {:.5f}'.format(accuracy))"
      ],
      "execution_count": 12,
      "outputs": [
        {
          "output_type": "stream",
          "text": [
            "313/313 [==============================] - 1s 4ms/step - loss: 3.7515 - accuracy: 0.3472\n",
            "Loss = 3.75153\n",
            "Accuracy = 0.34720\n"
          ],
          "name": "stdout"
        }
      ]
    },
    {
      "cell_type": "code",
      "metadata": {
        "id": "TEIUf92nuQMK"
      },
      "source": [
        ""
      ],
      "execution_count": 12,
      "outputs": []
    }
  ]
}