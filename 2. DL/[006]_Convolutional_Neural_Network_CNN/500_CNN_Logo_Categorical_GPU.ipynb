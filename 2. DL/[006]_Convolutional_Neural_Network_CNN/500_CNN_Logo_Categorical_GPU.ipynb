{
  "nbformat": 4,
  "nbformat_minor": 0,
  "metadata": {
    "colab": {
      "name": "500_CNN_Logo_Categorical_GPU.ipynb",
      "provenance": [],
      "collapsed_sections": [],
      "toc_visible": true
    },
    "kernelspec": {
      "name": "python3",
      "display_name": "Python 3"
    },
    "language_info": {
      "name": "python"
    },
    "accelerator": "GPU"
  },
  "cells": [
    {
      "cell_type": "markdown",
      "metadata": {
        "id": "KSLfjIA8klcW"
      },
      "source": [
        "# **이미지 데이터 셋을 이용한 CNN Modeling**"
      ]
    },
    {
      "cell_type": "markdown",
      "metadata": {
        "id": "ACb9BpEzlBiV"
      },
      "source": [
        "## **Logo_Data_Set Categorical Classification**\n",
        "- Train_Data : 498\n",
        "- Test_Data : 177"
      ]
    },
    {
      "cell_type": "code",
      "metadata": {
        "id": "aAjA-d1ClrXK"
      },
      "source": [
        "import warnings\n",
        "warnings.filterwarnings('ignore')"
      ],
      "execution_count": 1,
      "outputs": []
    },
    {
      "cell_type": "markdown",
      "metadata": {
        "id": "kX3wHozimuwU"
      },
      "source": [
        "## **Import TensorFlow**"
      ]
    },
    {
      "cell_type": "code",
      "metadata": {
        "colab": {
          "base_uri": "https://localhost:8080/",
          "height": 35
        },
        "id": "jaSAd2fdm2KG",
        "outputId": "66e81444-f4ef-41b3-da8d-11e90e3026ad"
      },
      "source": [
        "import tensorflow\n",
        "\n",
        "tensorflow.__version__"
      ],
      "execution_count": 2,
      "outputs": [
        {
          "output_type": "execute_result",
          "data": {
            "application/vnd.google.colaboratory.intrinsic+json": {
              "type": "string"
            },
            "text/plain": [
              "'2.5.0'"
            ]
          },
          "metadata": {
            "tags": []
          },
          "execution_count": 2
        }
      ]
    },
    {
      "cell_type": "markdown",
      "metadata": {
        "id": "AzK-P6IHm5oz"
      },
      "source": [
        "# **I. Google Drive Mount**"
      ]
    },
    {
      "cell_type": "markdown",
      "metadata": {
        "id": "ZMPXZe4cm8zp"
      },
      "source": [
        "- 'Logo_Data.zip' 디렉토리를 구글 드라이브에 업로드"
      ]
    },
    {
      "cell_type": "code",
      "metadata": {
        "colab": {
          "base_uri": "https://localhost:8080/"
        },
        "id": "loL1HJMtnCQR",
        "outputId": "67077e60-eaab-45d5-daec-4b16ac74e522"
      },
      "source": [
        "from google.colab import drive\n",
        "\n",
        "drive.mount('/content/drive')"
      ],
      "execution_count": 3,
      "outputs": [
        {
          "output_type": "stream",
          "text": [
            "Drive already mounted at /content/drive; to attempt to forcibly remount, call drive.mount(\"/content/drive\", force_remount=True).\n"
          ],
          "name": "stdout"
        }
      ]
    },
    {
      "cell_type": "markdown",
      "metadata": {
        "id": "zKExueUenH4S"
      },
      "source": [
        "- 마운트 결과 확인"
      ]
    },
    {
      "cell_type": "code",
      "metadata": {
        "colab": {
          "base_uri": "https://localhost:8080/"
        },
        "id": "4N5Nr9T9ne_4",
        "outputId": "5da42095-ae24-4565-d0bb-10d2502eebaa"
      },
      "source": [
        "!ls -l '/content/drive/My Drive/Colab Notebooks/datasets/Logo_Data.zip'"
      ],
      "execution_count": 4,
      "outputs": [
        {
          "output_type": "stream",
          "text": [
            "-rw------- 1 root root 12929865 Mar 31 15:08 '/content/drive/My Drive/Colab Notebooks/datasets/Logo_Data.zip'\n"
          ],
          "name": "stdout"
        }
      ]
    },
    {
      "cell_type": "markdown",
      "metadata": {
        "id": "xjUjSaofnhFe"
      },
      "source": [
        "# **II. Data Preprocessing**"
      ]
    },
    {
      "cell_type": "markdown",
      "metadata": {
        "id": "rcKukC4AnlMQ"
      },
      "source": [
        "> ## **1) Unzip 'Logo_Data.zip**"
      ]
    },
    {
      "cell_type": "code",
      "metadata": {
        "colab": {
          "base_uri": "https://localhost:8080/"
        },
        "id": "oDUEmYdXnoyK",
        "outputId": "efe89ecb-6eb0-42b6-a5a4-910d596e03e1"
      },
      "source": [
        "!unzip /content/drive/My\\ Drive/Colab\\ Notebooks/datasets/Logo_Data.zip"
      ],
      "execution_count": 5,
      "outputs": [
        {
          "output_type": "stream",
          "text": [
            "Archive:  /content/drive/My Drive/Colab Notebooks/datasets/Logo_Data.zip\n",
            "replace test/Adidas/4606245138.jpg? [y]es, [n]o, [A]ll, [N]one, [r]ename: A\n",
            "  inflating: test/Adidas/4606245138.jpg  \n",
            " extracting: test/Adidas/Adidas_17.png  \n",
            " extracting: test/Adidas/Adidas_18.png  \n",
            " extracting: test/Adidas/Adidas_20.png  \n",
            " extracting: test/Adidas/Adidas_4.png  \n",
            " extracting: test/Adidas/Adidas_6.png  \n",
            " extracting: test/Adidas/Adidas_7.png  \n",
            "  inflating: test/Apple/4748791597.jpg  \n",
            "  inflating: test/Apple/Apple_10.jpg  \n",
            " extracting: test/Apple/Apple_12.png  \n",
            " extracting: test/Apple/Apple_14.png  \n",
            " extracting: test/Apple/Apple_16.png  \n",
            " extracting: test/Apple/Apple_18.png  \n",
            " extracting: test/Apple/Apple_20.png  \n",
            "  inflating: test/BMW/3744679341.jpg  \n",
            "  inflating: test/BMW/BMW_11.jpg     \n",
            "  inflating: test/BMW/BMW_14.jpg     \n",
            "  inflating: test/BMW/BMW_17.jpg     \n",
            "  inflating: test/BMW/BMW_8.jpg      \n",
            "  inflating: test/Citroen/2588612032.jpg  \n",
            "  inflating: test/Citroen/Citroen_1.jpg  \n",
            "  inflating: test/Citroen/Citroen_11.jpg  \n",
            " extracting: test/Citroen/Citroen_15.png  \n",
            " extracting: test/Citroen/Citroen_8.png  \n",
            " extracting: test/Citroen/Citroen_9.png  \n",
            " extracting: test/Cocacola/Cocacola_10.png  \n",
            "  inflating: test/Cocacola/Cocacola_12.jpg  \n",
            "  inflating: test/Cocacola/Cocacola_14.jpg  \n",
            "  inflating: test/Cocacola/Cocacola_17.jpg  \n",
            " extracting: test/Cocacola/Cocacola_4.png  \n",
            "  inflating: test/Cocacola/Cocacola_5.jpg  \n",
            " extracting: test/Cocacola/Cocacola_6.png  \n",
            "  inflating: test/DHL/402320572.jpg  \n",
            "  inflating: test/DHL/4293357063.jpg  \n",
            "  inflating: test/DHL/57857859.jpg   \n",
            " extracting: test/DHL/DHL_11.png     \n",
            " extracting: test/DHL/DHL_12.png     \n",
            "  inflating: test/DHL/DHL_2.jpg      \n",
            " extracting: test/DHL/DHL_20.png     \n",
            " extracting: test/DHL/DHL_4.png      \n",
            " extracting: test/Fedex/Fedex_10.png  \n",
            "  inflating: test/Fedex/Fedex_13.jpg  \n",
            " extracting: test/Fedex/Fedex_20.png  \n",
            "  inflating: test/Ferrari/2485192693.jpg  \n",
            " extracting: test/Ferrari/Ferrari_14.png  \n",
            " extracting: test/Ferrari/Ferrari_15.png  \n",
            "  inflating: test/Ferrari/Ferrari_16.jpg  \n",
            " extracting: test/Ferrari/Ferrari_18.png  \n",
            " extracting: test/Ferrari/Ferrari_5.png  \n",
            "  inflating: test/Ford/Ford_1.jpg    \n",
            " extracting: test/Ford/Ford_12.png   \n",
            "  inflating: test/Ford/Ford_13.jpg   \n",
            " extracting: test/Ford/Ford_20.png   \n",
            " extracting: test/Ford/Ford_3.png    \n",
            " extracting: test/Ford/Ford_7.png    \n",
            "  inflating: test/Ford/Ford_8.jpg    \n",
            "  inflating: test/Google/3579847658.jpg  \n",
            " extracting: test/Google/Google_11.png  \n",
            "  inflating: test/Google/Google_13.jpg  \n",
            "  inflating: test/Google/Google_14.jpg  \n",
            " extracting: test/Google/Google_15.png  \n",
            " extracting: test/Google/Google_17.png  \n",
            " extracting: test/Google/Google_19.png  \n",
            " extracting: test/Google/Google_4.png  \n",
            "  inflating: test/Google/Google_5.jpg  \n",
            "  inflating: test/Heineken/3809296569.jpg  \n",
            "  inflating: test/Heineken/4009411354.jpg  \n",
            "  inflating: test/Heineken/4158918782.jpg  \n",
            "  inflating: test/Heineken/Heineken_15.jpg  \n",
            "  inflating: test/Heineken/Heineken_18.jpg  \n",
            " extracting: test/Heineken/Heineken_5.png  \n",
            " extracting: test/Heineken/Heineken_7.png  \n",
            "  inflating: test/HP/3388835839.jpg  \n",
            "  inflating: test/HP/4584663944.jpg  \n",
            "  inflating: test/HP/HP_12.jpg       \n",
            " extracting: test/HP/HP_13.png       \n",
            " extracting: test/HP/HP_2.png        \n",
            " extracting: test/HP/HP_8.png        \n",
            "  inflating: test/Intel/Intel_15.jpg  \n",
            " extracting: test/Intel/Intel_19.png  \n",
            " extracting: test/Intel/Intel_20.png  \n",
            "  inflating: test/Intel/Intel_3.jpg  \n",
            " extracting: test/Intel/Intel_4.png  \n",
            "  inflating: test/McDonalds/4630159289.jpg  \n",
            "  inflating: test/McDonalds/6651198.jpg  \n",
            " extracting: test/McDonalds/McDonalds_15.jpg  \n",
            " extracting: test/McDonalds/McDonalds_2.jpg  \n",
            " extracting: test/McDonalds/McDonalds_6.jpg  \n",
            "  inflating: test/McDonalds/McDonalds_8.jpg  \n",
            "  inflating: test/Mini/179101388.jpg  \n",
            "  inflating: test/Mini/3539346318.jpg  \n",
            "  inflating: test/Mini/866547165.jpg  \n",
            " extracting: test/Mini/Mini_10.jpg   \n",
            "  inflating: test/Mini/Mini_12.jpg   \n",
            " extracting: test/Mini/Mini_15.jpg   \n",
            "  inflating: test/Mini/Mini_3.jpg    \n",
            "  inflating: test/Mini/Mini_5.jpg    \n",
            " extracting: test/Mini/Mini_9.jpg    \n",
            "  inflating: test/Nbc/3040021292.jpg  \n",
            " extracting: test/Nbc/319239030.jpg  \n",
            " extracting: test/Nbc/Nbc_1.jpg      \n",
            "  inflating: test/Nbc/Nbc_11.jpg     \n",
            "  inflating: test/Nbc/Nbc_15.jpg     \n",
            " extracting: test/Nbc/Nbc_17.jpg     \n",
            "  inflating: test/Nbc/Nbc_2.jpg      \n",
            "  inflating: test/Nbc/Nbc_3.jpg      \n",
            " extracting: test/Nbc/Nbc_6.jpg      \n",
            " extracting: test/Nbc/Nbc_7.jpg      \n",
            " extracting: test/Nbc/Nbc_8.jpg      \n",
            "  inflating: test/Nike/3007900027.jpg  \n",
            "  inflating: test/Nike/3489974023.jpg  \n",
            " extracting: test/Nike/Nike_1.jpg    \n",
            " extracting: test/Nike/Nike_13.jpg   \n",
            " extracting: test/Nike/Nike_15.jpg   \n",
            " extracting: test/Nike/Nike_18.jpg   \n",
            " extracting: test/Nike/Nike_19.jpg   \n",
            " extracting: test/Nike/Nike_8.jpg    \n",
            "  inflating: test/Pepsi/3162394630.jpg  \n",
            "  inflating: test/Pepsi/4154476008.jpg  \n",
            " extracting: test/Pepsi/Pepsi_16.jpg  \n",
            "  inflating: test/Pepsi/Pepsi_19.jpg  \n",
            "  inflating: test/Pepsi/Pepsi_20.jpg  \n",
            "  inflating: test/Pepsi/Pepsi_4.jpg  \n",
            " extracting: test/Pepsi/Pepsi_6.jpg  \n",
            "  inflating: test/Porsche/3753448903.jpg  \n",
            "  inflating: test/Porsche/4497419735.jpg  \n",
            "  inflating: test/Porsche/Porsche_12.jpg  \n",
            " extracting: test/Porsche/Porsche_17.jpg  \n",
            " extracting: test/Porsche/Porsche_20.jpg  \n",
            " extracting: test/Porsche/Porsche_7.jpg  \n",
            "  inflating: test/Puma/2371203118.jpg  \n",
            "  inflating: test/Puma/2928144547.jpg  \n",
            " extracting: test/Puma/Puma_11.jpg   \n",
            "  inflating: test/Puma/Puma_17.jpg   \n",
            "  inflating: test/Puma/Puma_19.jpg   \n",
            "  inflating: test/RedBull/4557167995.jpg  \n",
            "  inflating: test/RedBull/RedBull_12.jpg  \n",
            " extracting: test/RedBull/RedBull_6.jpg  \n",
            " extracting: test/RedBull/RedBull_8.jpg  \n",
            "  inflating: test/RedBull/RedBull_9.jpg  \n",
            "  inflating: test/Sprite/3511285732.jpg  \n",
            "  inflating: test/Sprite/Sprite_13.jpg  \n",
            " extracting: test/Sprite/Sprite_16.jpg  \n",
            " extracting: test/Sprite/Sprite_2.jpg  \n",
            "  inflating: test/Sprite/Sprite_3.jpg  \n",
            "  inflating: test/Sprite/Sprite_7.jpg  \n",
            "  inflating: test/Starbucks/3201373046.jpg  \n",
            "  inflating: test/Starbucks/633730707.jpg  \n",
            " extracting: test/Starbucks/Starbucks_15.jpg  \n",
            " extracting: test/Starbucks/Starbucks_2.jpg  \n",
            "  inflating: test/Starbucks/Starbucks_3.jpg  \n",
            "  inflating: test/Starbucks/Starbucks_5.jpg  \n",
            "  inflating: test/Texaco/2936435251.jpg  \n",
            " extracting: test/Texaco/Texaco_1.jpg  \n",
            " extracting: test/Texaco/Texaco_11.jpg  \n",
            "  inflating: test/Texaco/Texaco_13.jpg  \n",
            " extracting: test/Texaco/Texaco_15.jpg  \n",
            "  inflating: test/Texaco/Texaco_17.jpg  \n",
            "  inflating: test/Texaco/Texaco_20.jpg  \n",
            "  inflating: test/Texaco/Texaco_4.jpg  \n",
            "  inflating: test/Texaco/Texaco_6.jpg  \n",
            " extracting: test/Unicef/3646612994.jpg  \n",
            "  inflating: test/Unicef/Unicef_1.jpg  \n",
            " extracting: test/Unicef/Unicef_11.jpg  \n",
            "  inflating: test/Unicef/Unicef_12.jpg  \n",
            "  inflating: test/Unicef/Unicef_15.jpg  \n",
            " extracting: test/Unicef/Unicef_20.jpg  \n",
            "  inflating: test/Unicef/Unicef_7.jpg  \n",
            " extracting: test/Unicef/Unicef_9.jpg  \n",
            " extracting: test/Vodafone/Vodafone_19.jpg  \n",
            " extracting: test/Vodafone/Vodafone_2.jpg  \n",
            " extracting: test/Vodafone/Vodafone_6.jpg  \n",
            "  inflating: test/Yahoo/2744069024.jpg  \n",
            "  inflating: test/Yahoo/362354171.jpg  \n",
            " extracting: test/Yahoo/Yahoo_13.jpg  \n",
            "  inflating: test/Yahoo/Yahoo_16.jpg  \n",
            "  inflating: test/Yahoo/Yahoo_20.jpg  \n",
            "  inflating: train/Adidas/2403695909.jpg  \n",
            "  inflating: train/Adidas/2912587920.jpg  \n",
            "  inflating: train/Adidas/3441398196.jpg  \n",
            "  inflating: train/Adidas/4605630935.jpg  \n",
            " extracting: train/Adidas/Adidas_1.png  \n",
            " extracting: train/Adidas/Adidas_10.png  \n",
            " extracting: train/Adidas/Adidas_11.png  \n",
            " extracting: train/Adidas/Adidas_12.png  \n",
            " extracting: train/Adidas/Adidas_13.png  \n",
            " extracting: train/Adidas/Adidas_14.png  \n",
            " extracting: train/Adidas/Adidas_15.png  \n",
            " extracting: train/Adidas/Adidas_16.png  \n",
            " extracting: train/Adidas/Adidas_19.png  \n",
            " extracting: train/Adidas/Adidas_2.png  \n",
            " extracting: train/Adidas/Adidas_3.png  \n",
            " extracting: train/Adidas/Adidas_5.png  \n",
            " extracting: train/Adidas/Adidas_8.png  \n",
            "  inflating: train/Adidas/Adidas_9.jpg  \n",
            "  inflating: train/Apple/161270014.jpg  \n",
            "  inflating: train/Apple/3276332721.jpg  \n",
            "  inflating: train/Apple/3842830049.jpg  \n",
            "  inflating: train/Apple/51409302.jpg  \n",
            " extracting: train/Apple/Apple_1.png  \n",
            " extracting: train/Apple/Apple_11.png  \n",
            "  inflating: train/Apple/Apple_13.jpg  \n",
            " extracting: train/Apple/Apple_15.png  \n",
            "  inflating: train/Apple/Apple_17.jpg  \n",
            "  inflating: train/Apple/Apple_19.jpg  \n",
            " extracting: train/Apple/Apple_2.png  \n",
            " extracting: train/Apple/Apple_3.png  \n",
            " extracting: train/Apple/Apple_4.png  \n",
            " extracting: train/Apple/Apple_5.png  \n",
            " extracting: train/Apple/Apple_6.png  \n",
            " extracting: train/Apple/Apple_7.png  \n",
            "  inflating: train/Apple/Apple_8.jpg  \n",
            " extracting: train/Apple/Apple_9.png  \n",
            "  inflating: train/BMW/2802471529.jpg  \n",
            "  inflating: train/BMW/3159686523.jpg  \n",
            "  inflating: train/BMW/388978947.jpg  \n",
            "  inflating: train/BMW/401253895.jpg  \n",
            " extracting: train/BMW/BMW_1.png     \n",
            " extracting: train/BMW/BMW_10.png    \n",
            "  inflating: train/BMW/BMW_12.jpg    \n",
            "  inflating: train/BMW/BMW_13.jpg    \n",
            "  inflating: train/BMW/BMW_15.jpg    \n",
            "  inflating: train/BMW/BMW_16.jpg    \n",
            "  inflating: train/BMW/BMW_18.jpg    \n",
            "  inflating: train/BMW/BMW_19.jpg    \n",
            "  inflating: train/BMW/BMW_2.jpg     \n",
            "  inflating: train/BMW/BMW_20.jpg    \n",
            "  inflating: train/BMW/BMW_3.jpg     \n",
            " extracting: train/BMW/BMW_4.png     \n",
            "  inflating: train/BMW/BMW_5.jpg     \n",
            " extracting: train/BMW/BMW_6.png     \n",
            "  inflating: train/BMW/BMW_7.jpg     \n",
            " extracting: train/BMW/BMW_9.png     \n",
            "  inflating: train/Citroen/2950778947.jpg  \n",
            "  inflating: train/Citroen/3272258283.jpg  \n",
            "  inflating: train/Citroen/4735811136.jpg  \n",
            "  inflating: train/Citroen/477690498.jpg  \n",
            " extracting: train/Citroen/Citroen_10.png  \n",
            " extracting: train/Citroen/Citroen_12.png  \n",
            " extracting: train/Citroen/Citroen_13.png  \n",
            " extracting: train/Citroen/Citroen_14.png  \n",
            "  inflating: train/Citroen/Citroen_16.jpg  \n",
            "  inflating: train/Citroen/Citroen_17.jpg  \n",
            "  inflating: train/Citroen/Citroen_18.jpg  \n",
            "  inflating: train/Citroen/Citroen_19.jpg  \n",
            " extracting: train/Citroen/Citroen_2.png  \n",
            "  inflating: train/Citroen/Citroen_20.jpg  \n",
            "  inflating: train/Citroen/Citroen_3.jpg  \n",
            " extracting: train/Citroen/Citroen_4.png  \n",
            "  inflating: train/Citroen/Citroen_5.jpg  \n",
            " extracting: train/Citroen/Citroen_6.png  \n",
            " extracting: train/Citroen/Citroen_7.png  \n",
            "  inflating: train/Cocacola/2145962231.jpg  \n",
            "  inflating: train/Cocacola/2180367311.jpg  \n",
            " extracting: train/Cocacola/2471468427.jpg  \n",
            "  inflating: train/Cocacola/3666600356.jpg  \n",
            "  inflating: train/Cocacola/3887773624.jpg  \n",
            " extracting: train/Cocacola/Cocacola_1.png  \n",
            " extracting: train/Cocacola/Cocacola_11.png  \n",
            " extracting: train/Cocacola/Cocacola_13.png  \n",
            " extracting: train/Cocacola/Cocacola_15.png  \n",
            "  inflating: train/Cocacola/Cocacola_16.jpg  \n",
            " extracting: train/Cocacola/Cocacola_18.png  \n",
            "  inflating: train/Cocacola/Cocacola_19.jpg  \n",
            "  inflating: train/Cocacola/Cocacola_2.jpg  \n",
            " extracting: train/Cocacola/Cocacola_20.png  \n",
            " extracting: train/Cocacola/Cocacola_3.png  \n",
            " extracting: train/Cocacola/Cocacola_7.png  \n",
            " extracting: train/Cocacola/Cocacola_8.png  \n",
            " extracting: train/Cocacola/Cocacola_9.png  \n",
            "  inflating: train/DHL/2399621710.jpg  \n",
            "  inflating: train/DHL/4273898682.jpg  \n",
            " extracting: train/DHL/DHL_1.png     \n",
            " extracting: train/DHL/DHL_10.png    \n",
            " extracting: train/DHL/DHL_13.png    \n",
            "  inflating: train/DHL/DHL_14.jpg    \n",
            " extracting: train/DHL/DHL_15.png    \n",
            " extracting: train/DHL/DHL_16.png    \n",
            "  inflating: train/DHL/DHL_17.jpg    \n",
            " extracting: train/DHL/DHL_18.png    \n",
            " extracting: train/DHL/DHL_19.png    \n",
            "  inflating: train/DHL/DHL_3.png     \n",
            " extracting: train/DHL/DHL_5.png     \n",
            " extracting: train/DHL/DHL_6.png     \n",
            " extracting: train/DHL/DHL_7.png     \n",
            " extracting: train/DHL/DHL_8.png     \n",
            " extracting: train/DHL/DHL_9.png     \n",
            " extracting: train/Fedex/2276226904.jpg  \n",
            "  inflating: train/Fedex/2286135438.jpg  \n",
            "  inflating: train/Fedex/3907703753.jpg  \n",
            "  inflating: train/Fedex/4057075142.jpg  \n",
            "  inflating: train/Fedex/4159635668.jpg  \n",
            " extracting: train/Fedex/Fedex_1.png  \n",
            "  inflating: train/Fedex/Fedex_11.jpg  \n",
            " extracting: train/Fedex/Fedex_12.png  \n",
            " extracting: train/Fedex/Fedex_14.png  \n",
            " extracting: train/Fedex/Fedex_15.png  \n",
            "  inflating: train/Fedex/Fedex_16.jpg  \n",
            "  inflating: train/Fedex/Fedex_17.jpg  \n",
            " extracting: train/Fedex/Fedex_18.png  \n",
            " extracting: train/Fedex/Fedex_19.png  \n",
            "  inflating: train/Fedex/Fedex_2.jpg  \n",
            " extracting: train/Fedex/Fedex_3.png  \n",
            " extracting: train/Fedex/Fedex_4.png  \n",
            " extracting: train/Fedex/Fedex_5.png  \n",
            "  inflating: train/Fedex/Fedex_6.jpg  \n",
            " extracting: train/Fedex/Fedex_7.png  \n",
            " extracting: train/Fedex/Fedex_8.png  \n",
            " extracting: train/Fedex/Fedex_9.png  \n",
            "  inflating: train/Ferrari/190150061.jpg  \n",
            "  inflating: train/Ferrari/3035356063.jpg  \n",
            "  inflating: train/Ferrari/4498492208.jpg  \n",
            "  inflating: train/Ferrari/4755458545.jpg  \n",
            " extracting: train/Ferrari/Ferrari_1.png  \n",
            " extracting: train/Ferrari/Ferrari_10.png  \n",
            " extracting: train/Ferrari/Ferrari_11.png  \n",
            " extracting: train/Ferrari/Ferrari_12.png  \n",
            " extracting: train/Ferrari/Ferrari_13.png  \n",
            "  inflating: train/Ferrari/Ferrari_17.jpg  \n",
            "  inflating: train/Ferrari/Ferrari_19.jpg  \n",
            " extracting: train/Ferrari/Ferrari_2.png  \n",
            "  inflating: train/Ferrari/Ferrari_20.jpg  \n",
            " extracting: train/Ferrari/Ferrari_3.png  \n",
            " extracting: train/Ferrari/Ferrari_4.png  \n",
            "  inflating: train/Ferrari/Ferrari_6.jpg  \n",
            " extracting: train/Ferrari/Ferrari_7.png  \n",
            " extracting: train/Ferrari/Ferrari_8.png  \n",
            "  inflating: train/Ferrari/Ferrari_9.jpg  \n",
            "  inflating: train/Ford/106523337.jpg  \n",
            "  inflating: train/Ford/2395651545.jpg  \n",
            "  inflating: train/Ford/3419576364.jpg  \n",
            " extracting: train/Ford/4649660427.jpg  \n",
            "  inflating: train/Ford/4726790962.jpg  \n",
            "  inflating: train/Ford/Ford_10.jpg  \n",
            "  inflating: train/Ford/Ford_11.jpg  \n",
            " extracting: train/Ford/Ford_14.png  \n",
            "  inflating: train/Ford/Ford_15.jpg  \n",
            " extracting: train/Ford/Ford_16.png  \n",
            "  inflating: train/Ford/Ford_17.jpg  \n",
            "  inflating: train/Ford/Ford_18.jpg  \n",
            "  inflating: train/Ford/Ford_19.jpg  \n",
            " extracting: train/Ford/Ford_2.png   \n",
            " extracting: train/Ford/Ford_4.png   \n",
            "  inflating: train/Ford/Ford_5.jpg   \n",
            " extracting: train/Ford/Ford_6.png   \n",
            "  inflating: train/Ford/Ford_9.jpg   \n",
            "  inflating: train/Google/2550417833.jpg  \n",
            "  inflating: train/Google/2758671363.jpg  \n",
            "  inflating: train/Google/2770852623.jpg  \n",
            "  inflating: train/Google/2777979648.jpg  \n",
            " extracting: train/Google/Google_1.png  \n",
            " extracting: train/Google/Google_10.png  \n",
            "  inflating: train/Google/Google_12.jpg  \n",
            "  inflating: train/Google/Google_16.jpg  \n",
            " extracting: train/Google/Google_18.png  \n",
            " extracting: train/Google/Google_2.png  \n",
            "  inflating: train/Google/Google_20.jpg  \n",
            "  inflating: train/Google/Google_3.jpg  \n",
            " extracting: train/Google/Google_6.png  \n",
            " extracting: train/Google/Google_7.png  \n",
            "  inflating: train/Google/Google_8.jpg  \n",
            "  inflating: train/Google/Google_9.jpg  \n",
            "  inflating: train/Heineken/2214052591.jpg  \n",
            "  inflating: train/Heineken/3434798835.jpg  \n",
            " extracting: train/Heineken/Heineken_1.png  \n",
            " extracting: train/Heineken/Heineken_10.png  \n",
            "  inflating: train/Heineken/Heineken_11.jpg  \n",
            " extracting: train/Heineken/Heineken_12.png  \n",
            " extracting: train/Heineken/Heineken_13.png  \n",
            " extracting: train/Heineken/Heineken_14.png  \n",
            " extracting: train/Heineken/Heineken_16.png  \n",
            " extracting: train/Heineken/Heineken_17.png  \n",
            " extracting: train/Heineken/Heineken_19.png  \n",
            "  inflating: train/Heineken/Heineken_2.jpg  \n",
            " extracting: train/Heineken/Heineken_20.png  \n",
            " extracting: train/Heineken/Heineken_3.png  \n",
            " extracting: train/Heineken/Heineken_4.png  \n",
            " extracting: train/Heineken/Heineken_6.png  \n",
            "  inflating: train/Heineken/Heineken_8.jpg  \n",
            " extracting: train/Heineken/Heineken_9.png  \n",
            "  inflating: train/HP/2729425057.jpg  \n",
            "  inflating: train/HP/4427558055.jpg  \n",
            " extracting: train/HP/500605830.jpg  \n",
            " extracting: train/HP/HP_1.png       \n",
            " extracting: train/HP/HP_10.png      \n",
            "  inflating: train/HP/HP_11.jpg      \n",
            "  inflating: train/HP/HP_14.jpg      \n",
            "  inflating: train/HP/HP_15.jpg      \n",
            " extracting: train/HP/HP_16.png      \n",
            "  inflating: train/HP/HP_17.jpg      \n",
            "  inflating: train/HP/HP_18.jpg      \n",
            "  inflating: train/HP/HP_19.jpg      \n",
            "  inflating: train/HP/HP_20.jpg      \n",
            " extracting: train/HP/HP_3.png       \n",
            " extracting: train/HP/HP_4.png       \n",
            " extracting: train/HP/HP_5.png       \n",
            "  inflating: train/HP/HP_6.jpg       \n",
            " extracting: train/HP/HP_7.png       \n",
            " extracting: train/HP/HP_9.png       \n",
            "  inflating: train/Intel/2256917485.jpg  \n",
            "  inflating: train/Intel/2548030356.jpg  \n",
            "  inflating: train/Intel/2867903303.jpg  \n",
            "  inflating: train/Intel/3063112468.jpg  \n",
            "  inflating: train/Intel/3489964654.jpg  \n",
            " extracting: train/Intel/Intel_1.png  \n",
            "  inflating: train/Intel/Intel_10.jpg  \n",
            " extracting: train/Intel/Intel_11.png  \n",
            "  inflating: train/Intel/Intel_12.jpg  \n",
            "  inflating: train/Intel/Intel_13.jpg  \n",
            " extracting: train/Intel/Intel_14.png  \n",
            "  inflating: train/Intel/Intel_16.jpg  \n",
            "  inflating: train/Intel/Intel_17.jpg  \n",
            "  inflating: train/Intel/Intel_18.jpg  \n",
            " extracting: train/Intel/Intel_2.png  \n",
            " extracting: train/Intel/Intel_5.png  \n",
            " extracting: train/Intel/Intel_6.png  \n",
            " extracting: train/Intel/Intel_7.png  \n",
            " extracting: train/Intel/Intel_8.png  \n",
            " extracting: train/Intel/Intel_9.png  \n",
            "  inflating: train/McDonalds/133298345.jpg  \n",
            "  inflating: train/McDonalds/2796230679.jpg  \n",
            "  inflating: train/McDonalds/3024711242.jpg  \n",
            " extracting: train/McDonalds/McDonalds_1.png  \n",
            " extracting: train/McDonalds/McDonalds_10.png  \n",
            " extracting: train/McDonalds/McDonalds_11.png  \n",
            " extracting: train/McDonalds/McDonalds_12.png  \n",
            " extracting: train/McDonalds/McDonalds_13.jpg  \n",
            "  inflating: train/McDonalds/McDonalds_14.jpg  \n",
            " extracting: train/McDonalds/McDonalds_16.jpg  \n",
            "  inflating: train/McDonalds/McDonalds_17.jpg  \n",
            "  inflating: train/McDonalds/McDonalds_18.jpg  \n",
            "  inflating: train/McDonalds/McDonalds_19.jpg  \n",
            " extracting: train/McDonalds/McDonalds_20.jpg  \n",
            " extracting: train/McDonalds/McDonalds_3.jpg  \n",
            " extracting: train/McDonalds/McDonalds_4.jpg  \n",
            "  inflating: train/McDonalds/McDonalds_5.jpg  \n",
            " extracting: train/McDonalds/McDonalds_7.jpg  \n",
            "  inflating: train/McDonalds/McDonalds_9.jpg  \n",
            "  inflating: train/Mini/4082747499.jpg  \n",
            " extracting: train/Mini/556390286.jpg  \n",
            " extracting: train/Mini/Mini_1.jpg   \n",
            "  inflating: train/Mini/Mini_11.jpg  \n",
            "  inflating: train/Mini/Mini_13.jpg  \n",
            "  inflating: train/Mini/Mini_14.jpg  \n",
            "  inflating: train/Mini/Mini_16.jpg  \n",
            "  inflating: train/Mini/Mini_17.jpg  \n",
            " extracting: train/Mini/Mini_18.jpg  \n",
            "  inflating: train/Mini/Mini_19.jpg  \n",
            "  inflating: train/Mini/Mini_2.jpg   \n",
            "  inflating: train/Mini/Mini_20.jpg  \n",
            " extracting: train/Mini/Mini_4.jpg   \n",
            "  inflating: train/Mini/Mini_6.jpg   \n",
            " extracting: train/Mini/Mini_7.jpg   \n",
            " extracting: train/Mini/Mini_8.jpg   \n",
            "  inflating: train/Nbc/3386938907.jpg  \n",
            "  inflating: train/Nbc/3815108969.jpg  \n",
            " extracting: train/Nbc/4025944647.jpg  \n",
            "  inflating: train/Nbc/Nbc_10.jpg    \n",
            "  inflating: train/Nbc/Nbc_12.jpg    \n",
            "  inflating: train/Nbc/Nbc_13.jpg    \n",
            " extracting: train/Nbc/Nbc_14.jpg    \n",
            "  inflating: train/Nbc/Nbc_16.jpg    \n",
            " extracting: train/Nbc/Nbc_18.jpg    \n",
            "  inflating: train/Nbc/Nbc_19.jpg    \n",
            " extracting: train/Nbc/Nbc_20.jpg    \n",
            " extracting: train/Nbc/Nbc_4.jpg     \n",
            " extracting: train/Nbc/Nbc_5.jpg     \n",
            " extracting: train/Nbc/Nbc_9.jpg     \n",
            "  inflating: train/Nike/2290821691.jpg  \n",
            "  inflating: train/Nike/2796858810.jpg  \n",
            "  inflating: train/Nike/4170039938.jpg  \n",
            " extracting: train/Nike/Nike_10.jpg  \n",
            " extracting: train/Nike/Nike_11.jpg  \n",
            " extracting: train/Nike/Nike_12.jpg  \n",
            "  inflating: train/Nike/Nike_14.jpg  \n",
            " extracting: train/Nike/Nike_16.jpg  \n",
            " extracting: train/Nike/Nike_17.jpg  \n",
            " extracting: train/Nike/Nike_2.jpg   \n",
            "  inflating: train/Nike/Nike_20.jpg  \n",
            " extracting: train/Nike/Nike_3.jpg   \n",
            " extracting: train/Nike/Nike_4.jpg   \n",
            " extracting: train/Nike/Nike_5.jpg   \n",
            " extracting: train/Nike/Nike_6.jpg   \n",
            " extracting: train/Nike/Nike_7.jpg   \n",
            " extracting: train/Nike/Nike_9.jpg   \n",
            "  inflating: train/Pepsi/2960555079.jpg  \n",
            "  inflating: train/Pepsi/3253037891.jpg  \n",
            "  inflating: train/Pepsi/408737814.jpg  \n",
            " extracting: train/Pepsi/Pepsi_1.jpg  \n",
            "  inflating: train/Pepsi/Pepsi_10.jpg  \n",
            " extracting: train/Pepsi/Pepsi_11.jpg  \n",
            " extracting: train/Pepsi/Pepsi_12.jpg  \n",
            " extracting: train/Pepsi/Pepsi_13.jpg  \n",
            "  inflating: train/Pepsi/Pepsi_14.jpg  \n",
            "  inflating: train/Pepsi/Pepsi_15.jpg  \n",
            " extracting: train/Pepsi/Pepsi_17.jpg  \n",
            " extracting: train/Pepsi/Pepsi_18.jpg  \n",
            " extracting: train/Pepsi/Pepsi_2.jpg  \n",
            "  inflating: train/Pepsi/Pepsi_3.jpg  \n",
            " extracting: train/Pepsi/Pepsi_5.jpg  \n",
            "  inflating: train/Pepsi/Pepsi_7.jpg  \n",
            " extracting: train/Pepsi/Pepsi_8.jpg  \n",
            " extracting: train/Pepsi/Pepsi_9.jpg  \n",
            "  inflating: train/Porsche/3983151197.jpg  \n",
            "  inflating: train/Porsche/4083428928.jpg  \n",
            "  inflating: train/Porsche/4510963350.jpg  \n",
            "  inflating: train/Porsche/Porsche_1.jpg  \n",
            " extracting: train/Porsche/Porsche_10.jpg  \n",
            "  inflating: train/Porsche/Porsche_11.jpg  \n",
            " extracting: train/Porsche/Porsche_13.jpg  \n",
            " extracting: train/Porsche/Porsche_14.jpg  \n",
            " extracting: train/Porsche/Porsche_15.jpg  \n",
            "  inflating: train/Porsche/Porsche_16.jpg  \n",
            " extracting: train/Porsche/Porsche_18.jpg  \n",
            "  inflating: train/Porsche/Porsche_19.jpg  \n",
            " extracting: train/Porsche/Porsche_2.jpg  \n",
            "  inflating: train/Porsche/Porsche_3.jpg  \n",
            "  inflating: train/Porsche/Porsche_4.jpg  \n",
            " extracting: train/Porsche/Porsche_5.jpg  \n",
            " extracting: train/Porsche/Porsche_6.jpg  \n",
            "  inflating: train/Porsche/Porsche_8.jpg  \n",
            " extracting: train/Porsche/Porsche_9.jpg  \n",
            "  inflating: train/Puma/2480104079.jpg  \n",
            " extracting: train/Puma/295018779.jpg  \n",
            "  inflating: train/Puma/4663657629.jpg  \n",
            " extracting: train/Puma/Puma_1.jpg   \n",
            " extracting: train/Puma/Puma_10.jpg  \n",
            " extracting: train/Puma/Puma_12.jpg  \n",
            "  inflating: train/Puma/Puma_13.jpg  \n",
            " extracting: train/Puma/Puma_14.jpg  \n",
            " extracting: train/Puma/Puma_15.jpg  \n",
            " extracting: train/Puma/Puma_16.jpg  \n",
            " extracting: train/Puma/Puma_18.jpg  \n",
            " extracting: train/Puma/Puma_2.jpg   \n",
            " extracting: train/Puma/Puma_20.jpg  \n",
            " extracting: train/Puma/Puma_3.jpg   \n",
            " extracting: train/Puma/Puma_4.jpg   \n",
            " extracting: train/Puma/Puma_5.jpg   \n",
            " extracting: train/Puma/Puma_6.jpg   \n",
            " extracting: train/Puma/Puma_7.jpg   \n",
            " extracting: train/Puma/Puma_8.jpg   \n",
            " extracting: train/Puma/Puma_9.jpg   \n",
            "  inflating: train/RedBull/308998475.jpg  \n",
            "  inflating: train/RedBull/3570289087.jpg  \n",
            "  inflating: train/RedBull/4053579706.jpg  \n",
            "  inflating: train/RedBull/4560358253.jpg  \n",
            " extracting: train/RedBull/RedBull_1.jpg  \n",
            " extracting: train/RedBull/RedBull_10.jpg  \n",
            " extracting: train/RedBull/RedBull_11.jpg  \n",
            "  inflating: train/RedBull/RedBull_13.jpg  \n",
            " extracting: train/RedBull/RedBull_14.jpg  \n",
            " extracting: train/RedBull/RedBull_15.jpg  \n",
            " extracting: train/RedBull/RedBull_16.jpg  \n",
            " extracting: train/RedBull/RedBull_17.jpg  \n",
            "  inflating: train/RedBull/RedBull_18.jpg  \n",
            "  inflating: train/RedBull/RedBull_19.jpg  \n",
            " extracting: train/RedBull/RedBull_2.jpg  \n",
            " extracting: train/RedBull/RedBull_20.jpg  \n",
            " extracting: train/RedBull/RedBull_3.jpg  \n",
            " extracting: train/RedBull/RedBull_4.jpg  \n",
            " extracting: train/RedBull/RedBull_5.jpg  \n",
            " extracting: train/RedBull/RedBull_7.jpg  \n",
            "  inflating: train/Sprite/2801900357.jpg  \n",
            " extracting: train/Sprite/3408864234.jpg  \n",
            " extracting: train/Sprite/3613991290.jpg  \n",
            "  inflating: train/Sprite/3891379215.jpg  \n",
            "  inflating: train/Sprite/Sprite_1.jpg  \n",
            "  inflating: train/Sprite/Sprite_10.jpg  \n",
            " extracting: train/Sprite/Sprite_11.jpg  \n",
            "  inflating: train/Sprite/Sprite_12.jpg  \n",
            "  inflating: train/Sprite/Sprite_14.jpg  \n",
            " extracting: train/Sprite/Sprite_15.jpg  \n",
            "  inflating: train/Sprite/Sprite_17.jpg  \n",
            " extracting: train/Sprite/Sprite_18.jpg  \n",
            "  inflating: train/Sprite/Sprite_19.jpg  \n",
            "  inflating: train/Sprite/Sprite_20.jpg  \n",
            "  inflating: train/Sprite/Sprite_4.jpg  \n",
            " extracting: train/Sprite/Sprite_5.jpg  \n",
            " extracting: train/Sprite/Sprite_6.jpg  \n",
            "  inflating: train/Sprite/Sprite_8.jpg  \n",
            "  inflating: train/Sprite/Sprite_9.jpg  \n",
            "  inflating: train/Starbucks/2630005498.jpg  \n",
            "  inflating: train/Starbucks/2974513280.jpg  \n",
            "  inflating: train/Starbucks/3007219950.jpg  \n",
            "  inflating: train/Starbucks/Starbucks_1.jpg  \n",
            "  inflating: train/Starbucks/Starbucks_10.jpg  \n",
            " extracting: train/Starbucks/Starbucks_11.jpg  \n",
            "  inflating: train/Starbucks/Starbucks_12.jpg  \n",
            "  inflating: train/Starbucks/Starbucks_13.jpg  \n",
            "  inflating: train/Starbucks/Starbucks_14.jpg  \n",
            "  inflating: train/Starbucks/Starbucks_16.jpg  \n",
            "  inflating: train/Starbucks/Starbucks_17.jpg  \n",
            " extracting: train/Starbucks/Starbucks_18.jpg  \n",
            "  inflating: train/Starbucks/Starbucks_19.jpg  \n",
            "  inflating: train/Starbucks/Starbucks_20.jpg  \n",
            " extracting: train/Starbucks/Starbucks_4.jpg  \n",
            " extracting: train/Starbucks/Starbucks_6.jpg  \n",
            "  inflating: train/Starbucks/Starbucks_7.jpg  \n",
            "  inflating: train/Starbucks/Starbucks_8.jpg  \n",
            "  inflating: train/Starbucks/Starbucks_9.jpg  \n",
            "  inflating: train/Texaco/2987576045.jpg  \n",
            "  inflating: train/Texaco/3198284747.jpg  \n",
            "  inflating: train/Texaco/3907303622.jpg  \n",
            "  inflating: train/Texaco/4434794457.jpg  \n",
            "  inflating: train/Texaco/Texaco_10.jpg  \n",
            "  inflating: train/Texaco/Texaco_12.jpg  \n",
            "  inflating: train/Texaco/Texaco_14.jpg  \n",
            "  inflating: train/Texaco/Texaco_16.jpg  \n",
            " extracting: train/Texaco/Texaco_18.jpg  \n",
            "  inflating: train/Texaco/Texaco_19.jpg  \n",
            " extracting: train/Texaco/Texaco_2.jpg  \n",
            " extracting: train/Texaco/Texaco_3.jpg  \n",
            " extracting: train/Texaco/Texaco_5.jpg  \n",
            " extracting: train/Texaco/Texaco_7.jpg  \n",
            " extracting: train/Texaco/Texaco_8.jpg  \n",
            "  inflating: train/Texaco/Texaco_9.jpg  \n",
            "  inflating: train/Unicef/4288066623.jpg  \n",
            "  inflating: train/Unicef/4294940735.jpg  \n",
            "  inflating: train/Unicef/4446333664.jpg  \n",
            "  inflating: train/Unicef/4621621817.jpg  \n",
            "  inflating: train/Unicef/Unicef_10.jpg  \n",
            " extracting: train/Unicef/Unicef_13.jpg  \n",
            "  inflating: train/Unicef/Unicef_14.jpg  \n",
            " extracting: train/Unicef/Unicef_16.jpg  \n",
            " extracting: train/Unicef/Unicef_17.jpg  \n",
            " extracting: train/Unicef/Unicef_18.jpg  \n",
            " extracting: train/Unicef/Unicef_19.jpg  \n",
            "  inflating: train/Unicef/Unicef_2.jpg  \n",
            " extracting: train/Unicef/Unicef_3.jpg  \n",
            "  inflating: train/Unicef/Unicef_4.jpg  \n",
            " extracting: train/Unicef/Unicef_5.jpg  \n",
            " extracting: train/Unicef/Unicef_6.jpg  \n",
            "  inflating: train/Unicef/Unicef_8.jpg  \n",
            "  inflating: train/Vodafone/110022360.jpg  \n",
            "  inflating: train/Vodafone/3107265036.jpg  \n",
            "  inflating: train/Vodafone/3331911222.jpg  \n",
            "  inflating: train/Vodafone/4484828876.jpg  \n",
            "  inflating: train/Vodafone/4734939463.jpg  \n",
            "  inflating: train/Vodafone/Vodafone_1.jpg  \n",
            " extracting: train/Vodafone/Vodafone_10.jpg  \n",
            "  inflating: train/Vodafone/Vodafone_11.jpg  \n",
            " extracting: train/Vodafone/Vodafone_12.jpg  \n",
            "  inflating: train/Vodafone/Vodafone_13.jpg  \n",
            "  inflating: train/Vodafone/Vodafone_14.jpg  \n",
            "  inflating: train/Vodafone/Vodafone_15.jpg  \n",
            "  inflating: train/Vodafone/Vodafone_16.jpg  \n",
            "  inflating: train/Vodafone/Vodafone_17.jpg  \n",
            "  inflating: train/Vodafone/Vodafone_18.jpg  \n",
            " extracting: train/Vodafone/Vodafone_20.jpg  \n",
            "  inflating: train/Vodafone/Vodafone_3.jpg  \n",
            " extracting: train/Vodafone/Vodafone_4.jpg  \n",
            " extracting: train/Vodafone/Vodafone_5.jpg  \n",
            "  inflating: train/Vodafone/Vodafone_7.jpg  \n",
            " extracting: train/Vodafone/Vodafone_8.jpg  \n",
            "  inflating: train/Vodafone/Vodafone_9.jpg  \n",
            "  inflating: train/Yahoo/1803593030.jpg  \n",
            "  inflating: train/Yahoo/2553484499.jpg  \n",
            "  inflating: train/Yahoo/2810241569.jpg  \n",
            " extracting: train/Yahoo/Yahoo_1.jpg  \n",
            "  inflating: train/Yahoo/Yahoo_10.jpg  \n",
            "  inflating: train/Yahoo/Yahoo_11.jpg  \n",
            "  inflating: train/Yahoo/Yahoo_12.jpg  \n",
            "  inflating: train/Yahoo/Yahoo_14.jpg  \n",
            " extracting: train/Yahoo/Yahoo_15.jpg  \n",
            " extracting: train/Yahoo/Yahoo_17.jpg  \n",
            "  inflating: train/Yahoo/Yahoo_18.jpg  \n",
            "  inflating: train/Yahoo/Yahoo_19.jpg  \n",
            " extracting: train/Yahoo/Yahoo_2.jpg  \n",
            " extracting: train/Yahoo/Yahoo_3.jpg  \n",
            " extracting: train/Yahoo/Yahoo_4.jpg  \n",
            " extracting: train/Yahoo/Yahoo_5.jpg  \n",
            "  inflating: train/Yahoo/Yahoo_6.jpg  \n",
            "  inflating: train/Yahoo/Yahoo_7.jpg  \n",
            " extracting: train/Yahoo/Yahoo_8.jpg  \n",
            "  inflating: train/Yahoo/Yahoo_9.jpg  \n"
          ],
          "name": "stdout"
        }
      ]
    },
    {
      "cell_type": "markdown",
      "metadata": {
        "id": "9GirpUYqnrN2"
      },
      "source": [
        "> ## **2) Image_File Directory Setting**\n",
        "- train_dir\n",
        "- valid_dir\n",
        "- test_dir"
      ]
    },
    {
      "cell_type": "code",
      "metadata": {
        "id": "PRUpOncWnwKa"
      },
      "source": [
        "train_dir = 'train'\n",
        "valid_dir = 'test'\n",
        "test_dir = 'test'"
      ],
      "execution_count": 6,
      "outputs": []
    },
    {
      "cell_type": "markdown",
      "metadata": {
        "id": "4wNf9X3BoESp"
      },
      "source": [
        "> ## **3) ImageDataGenerator() & flow_from_directory()**"
      ]
    },
    {
      "cell_type": "markdown",
      "metadata": {
        "id": "XEBBVJFuoJjX"
      },
      "source": [
        "- Normarlization\n",
        "  - ImageDataGenerator()\n",
        "- Resizing & GeneratorExit\n",
        "  - flow_from_directory()"
      ]
    },
    {
      "cell_type": "code",
      "metadata": {
        "colab": {
          "base_uri": "https://localhost:8080/"
        },
        "id": "-srj5hfUoTKF",
        "outputId": "c774e643-9623-4175-d08a-398d6056e0ae"
      },
      "source": [
        "from tensorflow.keras.preprocessing.image import ImageDataGenerator\n",
        "\n",
        "train_datagen = ImageDataGenerator(rescale=1./255)\n",
        "valid_datagen = ImageDataGenerator(rescale=1./255)\n",
        "\n",
        "train_generator = train_datagen.flow_from_directory(train_dir,\n",
        "                                                    target_size=(75, 75),\n",
        "                                                    batch_size=8,\n",
        "                                                    class_mode='categorical')\n",
        "\n",
        "valid_generator = valid_datagen.flow_from_directory(valid_dir,\n",
        "                                                    target_size=(75, 75),\n",
        "                                                    batch_size=8,\n",
        "                                                    class_mode='categorical')"
      ],
      "execution_count": 7,
      "outputs": [
        {
          "output_type": "stream",
          "text": [
            "Found 498 images belonging to 27 classes.\n",
            "Found 177 images belonging to 27 classes.\n"
          ],
          "name": "stdout"
        }
      ]
    },
    {
      "cell_type": "markdown",
      "metadata": {
        "id": "V9-FO41MpDpQ"
      },
      "source": [
        "> ## **4) Test train_generator**"
      ]
    },
    {
      "cell_type": "code",
      "metadata": {
        "colab": {
          "base_uri": "https://localhost:8080/"
        },
        "id": "hSHI_DvvpiCP",
        "outputId": "0a007425-08c4-48b8-97b6-27a759791fd1"
      },
      "source": [
        "for data_batch, labels_batch in train_generator:\n",
        "  print('배치 데이터 크기 :', data_batch.shape)\n",
        "  print('배치 레이블 크기 :', labels_batch.shape)\n",
        "  break"
      ],
      "execution_count": 8,
      "outputs": [
        {
          "output_type": "stream",
          "text": [
            "배치 데이터 크기 : (8, 75, 75, 3)\n",
            "배치 레이블 크기 : (8, 27)\n"
          ],
          "name": "stdout"
        }
      ]
    },
    {
      "cell_type": "code",
      "metadata": {
        "colab": {
          "base_uri": "https://localhost:8080/"
        },
        "id": "e8dXEmcxp4ru",
        "outputId": "d7276788-c855-4e78-bcbe-a155b6015825"
      },
      "source": [
        "labels_batch"
      ],
      "execution_count": 9,
      "outputs": [
        {
          "output_type": "execute_result",
          "data": {
            "text/plain": [
              "array([[0., 0., 0., 0., 0., 0., 0., 0., 1., 0., 0., 0., 0., 0., 0., 0.,\n",
              "        0., 0., 0., 0., 0., 0., 0., 0., 0., 0., 0.],\n",
              "       [0., 0., 1., 0., 0., 0., 0., 0., 0., 0., 0., 0., 0., 0., 0., 0.,\n",
              "        0., 0., 0., 0., 0., 0., 0., 0., 0., 0., 0.],\n",
              "       [0., 0., 0., 0., 0., 0., 0., 0., 0., 1., 0., 0., 0., 0., 0., 0.,\n",
              "        0., 0., 0., 0., 0., 0., 0., 0., 0., 0., 0.],\n",
              "       [0., 0., 0., 0., 0., 0., 0., 0., 0., 0., 0., 0., 0., 0., 0., 0.,\n",
              "        0., 0., 0., 1., 0., 0., 0., 0., 0., 0., 0.],\n",
              "       [0., 0., 0., 0., 0., 0., 0., 0., 0., 0., 0., 1., 0., 0., 0., 0.,\n",
              "        0., 0., 0., 0., 0., 0., 0., 0., 0., 0., 0.],\n",
              "       [0., 0., 0., 0., 1., 0., 0., 0., 0., 0., 0., 0., 0., 0., 0., 0.,\n",
              "        0., 0., 0., 0., 0., 0., 0., 0., 0., 0., 0.],\n",
              "       [0., 0., 0., 0., 0., 1., 0., 0., 0., 0., 0., 0., 0., 0., 0., 0.,\n",
              "        0., 0., 0., 0., 0., 0., 0., 0., 0., 0., 0.],\n",
              "       [0., 0., 0., 0., 0., 0., 0., 0., 0., 0., 0., 0., 0., 0., 0., 0.,\n",
              "        1., 0., 0., 0., 0., 0., 0., 0., 0., 0., 0.]], dtype=float32)"
            ]
          },
          "metadata": {
            "tags": []
          },
          "execution_count": 9
        }
      ]
    },
    {
      "cell_type": "markdown",
      "metadata": {
        "id": "H0a_gMH2p6vz"
      },
      "source": [
        "# **III. CNN Keras Modeling**"
      ]
    },
    {
      "cell_type": "markdown",
      "metadata": {
        "id": "DR_rghPYp-iK"
      },
      "source": [
        "> ## **1) Model Define**"
      ]
    },
    {
      "cell_type": "markdown",
      "metadata": {
        "id": "2mAapaGvqBaH"
      },
      "source": [
        "- Feature Extraction & Classification"
      ]
    },
    {
      "cell_type": "code",
      "metadata": {
        "id": "JiBKVLW3qD-y"
      },
      "source": [
        "from tensorflow.keras import models\n",
        "from tensorflow.keras import layers\n",
        "\n",
        "model = models.Sequential()\n",
        "model.add(layers.Conv2D(32, (3, 3), activation='relu', input_shape=(75, 75, 3)))\n",
        "model.add(layers.MaxPooling2D(2, 2))\n",
        "model.add(layers.Conv2D(64, (3, 3), activation = 'relu'))\n",
        "model.add(layers.MaxPooling2D((2, 2)))\n",
        "model.add(layers.Conv2D(128, (3, 3), activation = 'relu'))\n",
        "model.add(layers.MaxPooling2D((2, 2)))\n",
        "\n",
        "model.add(layers.Flatten())\n",
        "model.add(layers.Dense(512, activation = 'relu'))\n",
        "model.add(layers.Dense(27, activation = 'softmax'))"
      ],
      "execution_count": 10,
      "outputs": []
    },
    {
      "cell_type": "code",
      "metadata": {
        "colab": {
          "base_uri": "https://localhost:8080/"
        },
        "id": "ZZ2Q2Gm5qiOd",
        "outputId": "2976cce7-14d2-414f-9788-5559eedd76be"
      },
      "source": [
        "model.summary()"
      ],
      "execution_count": 11,
      "outputs": [
        {
          "output_type": "stream",
          "text": [
            "Model: \"sequential\"\n",
            "_________________________________________________________________\n",
            "Layer (type)                 Output Shape              Param #   \n",
            "=================================================================\n",
            "conv2d (Conv2D)              (None, 73, 73, 32)        896       \n",
            "_________________________________________________________________\n",
            "max_pooling2d (MaxPooling2D) (None, 36, 36, 32)        0         \n",
            "_________________________________________________________________\n",
            "conv2d_1 (Conv2D)            (None, 34, 34, 64)        18496     \n",
            "_________________________________________________________________\n",
            "max_pooling2d_1 (MaxPooling2 (None, 17, 17, 64)        0         \n",
            "_________________________________________________________________\n",
            "conv2d_2 (Conv2D)            (None, 15, 15, 128)       73856     \n",
            "_________________________________________________________________\n",
            "max_pooling2d_2 (MaxPooling2 (None, 7, 7, 128)         0         \n",
            "_________________________________________________________________\n",
            "flatten (Flatten)            (None, 6272)              0         \n",
            "_________________________________________________________________\n",
            "dense (Dense)                (None, 512)               3211776   \n",
            "_________________________________________________________________\n",
            "dense_1 (Dense)              (None, 27)                13851     \n",
            "=================================================================\n",
            "Total params: 3,318,875\n",
            "Trainable params: 3,318,875\n",
            "Non-trainable params: 0\n",
            "_________________________________________________________________\n"
          ],
          "name": "stdout"
        }
      ]
    },
    {
      "cell_type": "markdown",
      "metadata": {
        "id": "Ibhfuss8qp-v"
      },
      "source": [
        "> ## **2) Model Compile**"
      ]
    },
    {
      "cell_type": "markdown",
      "metadata": {
        "id": "EZ3SvGUgqtng"
      },
      "source": [
        "- 모델 학습 방법 설정"
      ]
    },
    {
      "cell_type": "code",
      "metadata": {
        "id": "wjp2wM8nqvbt"
      },
      "source": [
        "model.compile(loss='categorical_crossentropy',\n",
        "              optimizer='adam',\n",
        "              metrics=['accuracy'])"
      ],
      "execution_count": 12,
      "outputs": []
    },
    {
      "cell_type": "markdown",
      "metadata": {
        "id": "gTtpp94GrGTU"
      },
      "source": [
        "> ## **3) Model Fit**"
      ]
    },
    {
      "cell_type": "markdown",
      "metadata": {
        "id": "sQ97kyzorJA5"
      },
      "source": [
        "- 약 5분"
      ]
    },
    {
      "cell_type": "code",
      "metadata": {
        "colab": {
          "base_uri": "https://localhost:8080/"
        },
        "id": "_851hceJrK3c",
        "outputId": "a5b96d6a-1207-4b12-ade0-038e93996370"
      },
      "source": [
        "%%time\n",
        "\n",
        "Hist_dandc = model.fit(train_generator,\n",
        "                       steps_per_epoch=62,\n",
        "                       epochs=200,\n",
        "                       validation_data=valid_generator,\n",
        "                       validation_steps=22)"
      ],
      "execution_count": 13,
      "outputs": [
        {
          "output_type": "stream",
          "text": [
            "Epoch 1/200\n",
            "62/62 [==============================] - 3s 25ms/step - loss: 3.2492 - accuracy: 0.0612 - val_loss: 3.0255 - val_accuracy: 0.1136\n",
            "Epoch 2/200\n",
            "62/62 [==============================] - 1s 21ms/step - loss: 2.6053 - accuracy: 0.2653 - val_loss: 2.3884 - val_accuracy: 0.3750\n",
            "Epoch 3/200\n",
            "62/62 [==============================] - 1s 20ms/step - loss: 1.7280 - accuracy: 0.5469 - val_loss: 1.9463 - val_accuracy: 0.4659\n",
            "Epoch 4/200\n",
            "62/62 [==============================] - 1s 20ms/step - loss: 1.0557 - accuracy: 0.7020 - val_loss: 1.8129 - val_accuracy: 0.5114\n",
            "Epoch 5/200\n",
            "62/62 [==============================] - 1s 20ms/step - loss: 0.5921 - accuracy: 0.8143 - val_loss: 2.0467 - val_accuracy: 0.5511\n",
            "Epoch 6/200\n",
            "62/62 [==============================] - 1s 20ms/step - loss: 0.3526 - accuracy: 0.9041 - val_loss: 1.8458 - val_accuracy: 0.5966\n",
            "Epoch 7/200\n",
            "62/62 [==============================] - 1s 20ms/step - loss: 0.3057 - accuracy: 0.9204 - val_loss: 2.3343 - val_accuracy: 0.5682\n",
            "Epoch 8/200\n",
            "62/62 [==============================] - 1s 20ms/step - loss: 0.1933 - accuracy: 0.9531 - val_loss: 2.4281 - val_accuracy: 0.5909\n",
            "Epoch 9/200\n",
            "62/62 [==============================] - 1s 20ms/step - loss: 0.0968 - accuracy: 0.9735 - val_loss: 2.7060 - val_accuracy: 0.5909\n",
            "Epoch 10/200\n",
            "62/62 [==============================] - 1s 20ms/step - loss: 0.0461 - accuracy: 0.9918 - val_loss: 2.3699 - val_accuracy: 0.6136\n",
            "Epoch 11/200\n",
            "62/62 [==============================] - 1s 20ms/step - loss: 0.0053 - accuracy: 1.0000 - val_loss: 2.4969 - val_accuracy: 0.6023\n",
            "Epoch 12/200\n",
            "62/62 [==============================] - 1s 21ms/step - loss: 0.0022 - accuracy: 1.0000 - val_loss: 2.6743 - val_accuracy: 0.6136\n",
            "Epoch 13/200\n",
            "62/62 [==============================] - 1s 21ms/step - loss: 0.0011 - accuracy: 1.0000 - val_loss: 2.7293 - val_accuracy: 0.6023\n",
            "Epoch 14/200\n",
            "62/62 [==============================] - 1s 21ms/step - loss: 7.1235e-04 - accuracy: 1.0000 - val_loss: 2.7517 - val_accuracy: 0.6023\n",
            "Epoch 15/200\n",
            "62/62 [==============================] - 1s 21ms/step - loss: 5.4332e-04 - accuracy: 1.0000 - val_loss: 2.8551 - val_accuracy: 0.6023\n",
            "Epoch 16/200\n",
            "62/62 [==============================] - 1s 21ms/step - loss: 4.4721e-04 - accuracy: 1.0000 - val_loss: 2.9070 - val_accuracy: 0.5966\n",
            "Epoch 17/200\n",
            "62/62 [==============================] - 1s 20ms/step - loss: 3.7279e-04 - accuracy: 1.0000 - val_loss: 2.9481 - val_accuracy: 0.6023\n",
            "Epoch 18/200\n",
            "62/62 [==============================] - 1s 21ms/step - loss: 3.1113e-04 - accuracy: 1.0000 - val_loss: 2.9278 - val_accuracy: 0.5966\n",
            "Epoch 19/200\n",
            "62/62 [==============================] - 1s 21ms/step - loss: 2.6134e-04 - accuracy: 1.0000 - val_loss: 3.0182 - val_accuracy: 0.5909\n",
            "Epoch 20/200\n",
            "62/62 [==============================] - 1s 21ms/step - loss: 2.2444e-04 - accuracy: 1.0000 - val_loss: 3.0782 - val_accuracy: 0.5909\n",
            "Epoch 21/200\n",
            "62/62 [==============================] - 1s 21ms/step - loss: 1.9697e-04 - accuracy: 1.0000 - val_loss: 3.1080 - val_accuracy: 0.5909\n",
            "Epoch 22/200\n",
            "62/62 [==============================] - 1s 21ms/step - loss: 1.7342e-04 - accuracy: 1.0000 - val_loss: 3.1353 - val_accuracy: 0.5909\n",
            "Epoch 23/200\n",
            "62/62 [==============================] - 1s 21ms/step - loss: 1.5349e-04 - accuracy: 1.0000 - val_loss: 3.1586 - val_accuracy: 0.5966\n",
            "Epoch 24/200\n",
            "62/62 [==============================] - 1s 20ms/step - loss: 1.3960e-04 - accuracy: 1.0000 - val_loss: 3.1895 - val_accuracy: 0.6023\n",
            "Epoch 25/200\n",
            "62/62 [==============================] - 1s 21ms/step - loss: 1.2245e-04 - accuracy: 1.0000 - val_loss: 3.1952 - val_accuracy: 0.6080\n",
            "Epoch 26/200\n",
            "62/62 [==============================] - 1s 21ms/step - loss: 1.1471e-04 - accuracy: 1.0000 - val_loss: 3.1685 - val_accuracy: 0.6080\n",
            "Epoch 27/200\n",
            "62/62 [==============================] - 1s 21ms/step - loss: 9.7687e-05 - accuracy: 1.0000 - val_loss: 3.2579 - val_accuracy: 0.6023\n",
            "Epoch 28/200\n",
            "62/62 [==============================] - 1s 21ms/step - loss: 9.6344e-05 - accuracy: 1.0000 - val_loss: 3.2206 - val_accuracy: 0.6136\n",
            "Epoch 29/200\n",
            "62/62 [==============================] - 1s 21ms/step - loss: 8.5772e-05 - accuracy: 1.0000 - val_loss: 3.3116 - val_accuracy: 0.6080\n",
            "Epoch 30/200\n",
            "62/62 [==============================] - 1s 21ms/step - loss: 7.9232e-05 - accuracy: 1.0000 - val_loss: 3.3110 - val_accuracy: 0.6136\n",
            "Epoch 31/200\n",
            "62/62 [==============================] - 1s 20ms/step - loss: 7.2467e-05 - accuracy: 1.0000 - val_loss: 3.3032 - val_accuracy: 0.6080\n",
            "Epoch 32/200\n",
            "62/62 [==============================] - 1s 20ms/step - loss: 6.8285e-05 - accuracy: 1.0000 - val_loss: 3.3770 - val_accuracy: 0.6023\n",
            "Epoch 33/200\n",
            "62/62 [==============================] - 1s 21ms/step - loss: 6.1684e-05 - accuracy: 1.0000 - val_loss: 3.3207 - val_accuracy: 0.6080\n",
            "Epoch 34/200\n",
            "62/62 [==============================] - 1s 21ms/step - loss: 5.8032e-05 - accuracy: 1.0000 - val_loss: 3.3614 - val_accuracy: 0.6080\n",
            "Epoch 35/200\n",
            "62/62 [==============================] - 1s 21ms/step - loss: 5.2557e-05 - accuracy: 1.0000 - val_loss: 3.3464 - val_accuracy: 0.6080\n",
            "Epoch 36/200\n",
            "62/62 [==============================] - 1s 20ms/step - loss: 4.8257e-05 - accuracy: 1.0000 - val_loss: 3.4483 - val_accuracy: 0.6080\n",
            "Epoch 37/200\n",
            "62/62 [==============================] - 1s 21ms/step - loss: 4.5882e-05 - accuracy: 1.0000 - val_loss: 3.4768 - val_accuracy: 0.6023\n",
            "Epoch 38/200\n",
            "62/62 [==============================] - 1s 21ms/step - loss: 4.2446e-05 - accuracy: 1.0000 - val_loss: 3.4958 - val_accuracy: 0.6023\n",
            "Epoch 39/200\n",
            "62/62 [==============================] - 1s 21ms/step - loss: 3.9972e-05 - accuracy: 1.0000 - val_loss: 3.5122 - val_accuracy: 0.6023\n",
            "Epoch 40/200\n",
            "62/62 [==============================] - 1s 21ms/step - loss: 3.6686e-05 - accuracy: 1.0000 - val_loss: 3.5016 - val_accuracy: 0.6023\n",
            "Epoch 41/200\n",
            "62/62 [==============================] - 1s 21ms/step - loss: 3.4959e-05 - accuracy: 1.0000 - val_loss: 3.5492 - val_accuracy: 0.5966\n",
            "Epoch 42/200\n",
            "62/62 [==============================] - 1s 20ms/step - loss: 3.2718e-05 - accuracy: 1.0000 - val_loss: 3.5629 - val_accuracy: 0.5966\n",
            "Epoch 43/200\n",
            "62/62 [==============================] - 1s 20ms/step - loss: 2.9873e-05 - accuracy: 1.0000 - val_loss: 3.5810 - val_accuracy: 0.5966\n",
            "Epoch 44/200\n",
            "62/62 [==============================] - 1s 20ms/step - loss: 2.9024e-05 - accuracy: 1.0000 - val_loss: 3.5929 - val_accuracy: 0.5966\n",
            "Epoch 45/200\n",
            "62/62 [==============================] - 1s 21ms/step - loss: 2.7465e-05 - accuracy: 1.0000 - val_loss: 3.6110 - val_accuracy: 0.5966\n",
            "Epoch 46/200\n",
            "62/62 [==============================] - 1s 21ms/step - loss: 2.5830e-05 - accuracy: 1.0000 - val_loss: 3.6287 - val_accuracy: 0.5966\n",
            "Epoch 47/200\n",
            "62/62 [==============================] - 1s 20ms/step - loss: 2.4569e-05 - accuracy: 1.0000 - val_loss: 3.6439 - val_accuracy: 0.5966\n",
            "Epoch 48/200\n",
            "62/62 [==============================] - 1s 20ms/step - loss: 2.1859e-05 - accuracy: 1.0000 - val_loss: 3.6559 - val_accuracy: 0.6023\n",
            "Epoch 49/200\n",
            "62/62 [==============================] - 1s 21ms/step - loss: 2.1852e-05 - accuracy: 1.0000 - val_loss: 3.6706 - val_accuracy: 0.6023\n",
            "Epoch 50/200\n",
            "62/62 [==============================] - 1s 21ms/step - loss: 2.0120e-05 - accuracy: 1.0000 - val_loss: 3.6881 - val_accuracy: 0.6023\n",
            "Epoch 51/200\n",
            "62/62 [==============================] - 1s 21ms/step - loss: 1.9468e-05 - accuracy: 1.0000 - val_loss: 3.7015 - val_accuracy: 0.5966\n",
            "Epoch 52/200\n",
            "62/62 [==============================] - 1s 21ms/step - loss: 1.8438e-05 - accuracy: 1.0000 - val_loss: 3.6887 - val_accuracy: 0.6080\n",
            "Epoch 53/200\n",
            "62/62 [==============================] - 1s 21ms/step - loss: 1.7616e-05 - accuracy: 1.0000 - val_loss: 3.7220 - val_accuracy: 0.6023\n",
            "Epoch 54/200\n",
            "62/62 [==============================] - 1s 20ms/step - loss: 1.6618e-05 - accuracy: 1.0000 - val_loss: 3.7430 - val_accuracy: 0.5966\n",
            "Epoch 55/200\n",
            "62/62 [==============================] - 1s 21ms/step - loss: 1.6005e-05 - accuracy: 1.0000 - val_loss: 3.7603 - val_accuracy: 0.5966\n",
            "Epoch 56/200\n",
            "62/62 [==============================] - 1s 20ms/step - loss: 1.4325e-05 - accuracy: 1.0000 - val_loss: 3.7723 - val_accuracy: 0.5966\n",
            "Epoch 57/200\n",
            "62/62 [==============================] - 1s 20ms/step - loss: 1.3837e-05 - accuracy: 1.0000 - val_loss: 3.7542 - val_accuracy: 0.6023\n",
            "Epoch 58/200\n",
            "62/62 [==============================] - 1s 21ms/step - loss: 1.3265e-05 - accuracy: 1.0000 - val_loss: 3.7960 - val_accuracy: 0.5966\n",
            "Epoch 59/200\n",
            "62/62 [==============================] - 1s 21ms/step - loss: 1.3001e-05 - accuracy: 1.0000 - val_loss: 3.8011 - val_accuracy: 0.5966\n",
            "Epoch 60/200\n",
            "62/62 [==============================] - 1s 21ms/step - loss: 1.2245e-05 - accuracy: 1.0000 - val_loss: 3.7945 - val_accuracy: 0.6023\n",
            "Epoch 61/200\n",
            "62/62 [==============================] - 1s 21ms/step - loss: 1.1770e-05 - accuracy: 1.0000 - val_loss: 3.8340 - val_accuracy: 0.5966\n",
            "Epoch 62/200\n",
            "62/62 [==============================] - 1s 21ms/step - loss: 1.1144e-05 - accuracy: 1.0000 - val_loss: 3.8469 - val_accuracy: 0.5966\n",
            "Epoch 63/200\n",
            "62/62 [==============================] - 1s 20ms/step - loss: 1.0687e-05 - accuracy: 1.0000 - val_loss: 3.7835 - val_accuracy: 0.6023\n",
            "Epoch 64/200\n",
            "62/62 [==============================] - 1s 20ms/step - loss: 1.0152e-05 - accuracy: 1.0000 - val_loss: 3.8703 - val_accuracy: 0.5966\n",
            "Epoch 65/200\n",
            "62/62 [==============================] - 1s 20ms/step - loss: 9.5798e-06 - accuracy: 1.0000 - val_loss: 3.8808 - val_accuracy: 0.5966\n",
            "Epoch 66/200\n",
            "62/62 [==============================] - 1s 20ms/step - loss: 9.1673e-06 - accuracy: 1.0000 - val_loss: 3.8928 - val_accuracy: 0.5966\n",
            "Epoch 67/200\n",
            "62/62 [==============================] - 1s 21ms/step - loss: 8.2052e-06 - accuracy: 1.0000 - val_loss: 3.9054 - val_accuracy: 0.5966\n",
            "Epoch 68/200\n",
            "62/62 [==============================] - 1s 20ms/step - loss: 8.3343e-06 - accuracy: 1.0000 - val_loss: 3.8311 - val_accuracy: 0.6023\n",
            "Epoch 69/200\n",
            "62/62 [==============================] - 1s 20ms/step - loss: 7.9964e-06 - accuracy: 1.0000 - val_loss: 3.9306 - val_accuracy: 0.5966\n",
            "Epoch 70/200\n",
            "62/62 [==============================] - 1s 21ms/step - loss: 7.5591e-06 - accuracy: 1.0000 - val_loss: 3.9431 - val_accuracy: 0.5966\n",
            "Epoch 71/200\n",
            "62/62 [==============================] - 1s 20ms/step - loss: 7.2686e-06 - accuracy: 1.0000 - val_loss: 3.8967 - val_accuracy: 0.6023\n",
            "Epoch 72/200\n",
            "62/62 [==============================] - 1s 21ms/step - loss: 6.8229e-06 - accuracy: 1.0000 - val_loss: 3.9664 - val_accuracy: 0.5966\n",
            "Epoch 73/200\n",
            "62/62 [==============================] - 1s 20ms/step - loss: 6.3101e-06 - accuracy: 1.0000 - val_loss: 3.8922 - val_accuracy: 0.6023\n",
            "Epoch 74/200\n",
            "62/62 [==============================] - 1s 20ms/step - loss: 6.2656e-06 - accuracy: 1.0000 - val_loss: 3.9865 - val_accuracy: 0.5966\n",
            "Epoch 75/200\n",
            "62/62 [==============================] - 1s 21ms/step - loss: 5.9197e-06 - accuracy: 1.0000 - val_loss: 3.9939 - val_accuracy: 0.5966\n",
            "Epoch 76/200\n",
            "62/62 [==============================] - 1s 21ms/step - loss: 5.8657e-06 - accuracy: 1.0000 - val_loss: 3.9857 - val_accuracy: 0.6023\n",
            "Epoch 77/200\n",
            "62/62 [==============================] - 1s 22ms/step - loss: 5.5168e-06 - accuracy: 1.0000 - val_loss: 4.0208 - val_accuracy: 0.5966\n",
            "Epoch 78/200\n",
            "62/62 [==============================] - 1s 21ms/step - loss: 5.1794e-06 - accuracy: 1.0000 - val_loss: 4.0242 - val_accuracy: 0.5966\n",
            "Epoch 79/200\n",
            "62/62 [==============================] - 1s 21ms/step - loss: 4.8505e-06 - accuracy: 1.0000 - val_loss: 4.0099 - val_accuracy: 0.6023\n",
            "Epoch 80/200\n",
            "62/62 [==============================] - 1s 20ms/step - loss: 4.8038e-06 - accuracy: 1.0000 - val_loss: 4.0508 - val_accuracy: 0.5966\n",
            "Epoch 81/200\n",
            "62/62 [==============================] - 1s 20ms/step - loss: 4.4907e-06 - accuracy: 1.0000 - val_loss: 4.0589 - val_accuracy: 0.5966\n",
            "Epoch 82/200\n",
            "62/62 [==============================] - 1s 21ms/step - loss: 4.2873e-06 - accuracy: 1.0000 - val_loss: 4.0038 - val_accuracy: 0.6023\n",
            "Epoch 83/200\n",
            "62/62 [==============================] - 1s 21ms/step - loss: 4.3146e-06 - accuracy: 1.0000 - val_loss: 4.0825 - val_accuracy: 0.5909\n",
            "Epoch 84/200\n",
            "62/62 [==============================] - 1s 20ms/step - loss: 4.0997e-06 - accuracy: 1.0000 - val_loss: 4.0908 - val_accuracy: 0.5909\n",
            "Epoch 85/200\n",
            "62/62 [==============================] - 1s 21ms/step - loss: 3.8852e-06 - accuracy: 1.0000 - val_loss: 4.1033 - val_accuracy: 0.5909\n",
            "Epoch 86/200\n",
            "62/62 [==============================] - 1s 21ms/step - loss: 3.7747e-06 - accuracy: 1.0000 - val_loss: 4.1244 - val_accuracy: 0.5909\n",
            "Epoch 87/200\n",
            "62/62 [==============================] - 1s 21ms/step - loss: 3.5171e-06 - accuracy: 1.0000 - val_loss: 4.1342 - val_accuracy: 0.5909\n",
            "Epoch 88/200\n",
            "62/62 [==============================] - 1s 21ms/step - loss: 3.3561e-06 - accuracy: 1.0000 - val_loss: 4.0500 - val_accuracy: 0.5966\n",
            "Epoch 89/200\n",
            "62/62 [==============================] - 1s 21ms/step - loss: 3.2986e-06 - accuracy: 1.0000 - val_loss: 4.1476 - val_accuracy: 0.5909\n",
            "Epoch 90/200\n",
            "62/62 [==============================] - 1s 22ms/step - loss: 3.0756e-06 - accuracy: 1.0000 - val_loss: 4.1381 - val_accuracy: 0.5966\n",
            "Epoch 91/200\n",
            "62/62 [==============================] - 1s 21ms/step - loss: 3.0009e-06 - accuracy: 1.0000 - val_loss: 4.1685 - val_accuracy: 0.5909\n",
            "Epoch 92/200\n",
            "62/62 [==============================] - 1s 21ms/step - loss: 2.8600e-06 - accuracy: 1.0000 - val_loss: 4.1746 - val_accuracy: 0.5909\n",
            "Epoch 93/200\n",
            "62/62 [==============================] - 1s 20ms/step - loss: 2.6931e-06 - accuracy: 1.0000 - val_loss: 4.1874 - val_accuracy: 0.5909\n",
            "Epoch 94/200\n",
            "62/62 [==============================] - 1s 21ms/step - loss: 2.6664e-06 - accuracy: 1.0000 - val_loss: 4.1587 - val_accuracy: 0.5966\n",
            "Epoch 95/200\n",
            "62/62 [==============================] - 1s 21ms/step - loss: 2.5316e-06 - accuracy: 1.0000 - val_loss: 4.2051 - val_accuracy: 0.5909\n",
            "Epoch 96/200\n",
            "62/62 [==============================] - 1s 21ms/step - loss: 2.3761e-06 - accuracy: 1.0000 - val_loss: 4.2189 - val_accuracy: 0.5909\n",
            "Epoch 97/200\n",
            "62/62 [==============================] - 1s 21ms/step - loss: 2.3005e-06 - accuracy: 1.0000 - val_loss: 4.2265 - val_accuracy: 0.5909\n",
            "Epoch 98/200\n",
            "62/62 [==============================] - 1s 21ms/step - loss: 2.1715e-06 - accuracy: 1.0000 - val_loss: 4.2353 - val_accuracy: 0.5909\n",
            "Epoch 99/200\n",
            "62/62 [==============================] - 1s 21ms/step - loss: 2.1404e-06 - accuracy: 1.0000 - val_loss: 4.1925 - val_accuracy: 0.5966\n",
            "Epoch 100/200\n",
            "62/62 [==============================] - 1s 21ms/step - loss: 2.0499e-06 - accuracy: 1.0000 - val_loss: 4.2527 - val_accuracy: 0.5909\n",
            "Epoch 101/200\n",
            "62/62 [==============================] - 1s 21ms/step - loss: 1.9146e-06 - accuracy: 1.0000 - val_loss: 4.2601 - val_accuracy: 0.5909\n",
            "Epoch 102/200\n",
            "62/62 [==============================] - 1s 21ms/step - loss: 1.9193e-06 - accuracy: 1.0000 - val_loss: 4.2637 - val_accuracy: 0.5909\n",
            "Epoch 103/200\n",
            "62/62 [==============================] - 1s 21ms/step - loss: 1.8224e-06 - accuracy: 1.0000 - val_loss: 4.2077 - val_accuracy: 0.5966\n",
            "Epoch 104/200\n",
            "62/62 [==============================] - 1s 20ms/step - loss: 1.7446e-06 - accuracy: 1.0000 - val_loss: 4.2163 - val_accuracy: 0.5966\n",
            "Epoch 105/200\n",
            "62/62 [==============================] - 1s 20ms/step - loss: 1.6828e-06 - accuracy: 1.0000 - val_loss: 4.2981 - val_accuracy: 0.5909\n",
            "Epoch 106/200\n",
            "62/62 [==============================] - 1s 21ms/step - loss: 1.5862e-06 - accuracy: 1.0000 - val_loss: 4.3075 - val_accuracy: 0.5909\n",
            "Epoch 107/200\n",
            "62/62 [==============================] - 1s 21ms/step - loss: 1.5096e-06 - accuracy: 1.0000 - val_loss: 4.2610 - val_accuracy: 0.5966\n",
            "Epoch 108/200\n",
            "62/62 [==============================] - 1s 21ms/step - loss: 1.4288e-06 - accuracy: 1.0000 - val_loss: 4.2892 - val_accuracy: 0.5966\n",
            "Epoch 109/200\n",
            "62/62 [==============================] - 1s 21ms/step - loss: 1.3573e-06 - accuracy: 1.0000 - val_loss: 4.3312 - val_accuracy: 0.5909\n",
            "Epoch 110/200\n",
            "62/62 [==============================] - 1s 21ms/step - loss: 1.3475e-06 - accuracy: 1.0000 - val_loss: 4.3434 - val_accuracy: 0.5909\n",
            "Epoch 111/200\n",
            "62/62 [==============================] - 1s 21ms/step - loss: 1.2833e-06 - accuracy: 1.0000 - val_loss: 4.3070 - val_accuracy: 0.5966\n",
            "Epoch 112/200\n",
            "62/62 [==============================] - 1s 21ms/step - loss: 1.2410e-06 - accuracy: 1.0000 - val_loss: 4.3623 - val_accuracy: 0.5909\n",
            "Epoch 113/200\n",
            "62/62 [==============================] - 1s 21ms/step - loss: 1.2035e-06 - accuracy: 1.0000 - val_loss: 4.3687 - val_accuracy: 0.5966\n",
            "Epoch 114/200\n",
            "62/62 [==============================] - 1s 21ms/step - loss: 1.1600e-06 - accuracy: 1.0000 - val_loss: 4.2877 - val_accuracy: 0.5966\n",
            "Epoch 115/200\n",
            "62/62 [==============================] - 1s 21ms/step - loss: 1.0661e-06 - accuracy: 1.0000 - val_loss: 4.3870 - val_accuracy: 0.5909\n",
            "Epoch 116/200\n",
            "62/62 [==============================] - 1s 21ms/step - loss: 1.0364e-06 - accuracy: 1.0000 - val_loss: 4.3656 - val_accuracy: 0.5909\n",
            "Epoch 117/200\n",
            "62/62 [==============================] - 1s 21ms/step - loss: 1.0223e-06 - accuracy: 1.0000 - val_loss: 4.4056 - val_accuracy: 0.5909\n",
            "Epoch 118/200\n",
            "62/62 [==============================] - 1s 21ms/step - loss: 9.7824e-07 - accuracy: 1.0000 - val_loss: 4.4134 - val_accuracy: 0.5909\n",
            "Epoch 119/200\n",
            "62/62 [==============================] - 1s 21ms/step - loss: 9.5708e-07 - accuracy: 1.0000 - val_loss: 4.4254 - val_accuracy: 0.5909\n",
            "Epoch 120/200\n",
            "62/62 [==============================] - 1s 21ms/step - loss: 9.1791e-07 - accuracy: 1.0000 - val_loss: 4.4337 - val_accuracy: 0.5852\n",
            "Epoch 121/200\n",
            "62/62 [==============================] - 1s 21ms/step - loss: 8.6877e-07 - accuracy: 1.0000 - val_loss: 4.4322 - val_accuracy: 0.5909\n",
            "Epoch 122/200\n",
            "62/62 [==============================] - 1s 21ms/step - loss: 8.1305e-07 - accuracy: 1.0000 - val_loss: 4.3842 - val_accuracy: 0.5909\n",
            "Epoch 123/200\n",
            "62/62 [==============================] - 1s 21ms/step - loss: 8.0186e-07 - accuracy: 1.0000 - val_loss: 4.4649 - val_accuracy: 0.5852\n",
            "Epoch 124/200\n",
            "62/62 [==============================] - 1s 21ms/step - loss: 7.7924e-07 - accuracy: 1.0000 - val_loss: 4.4680 - val_accuracy: 0.5852\n",
            "Epoch 125/200\n",
            "62/62 [==============================] - 1s 21ms/step - loss: 7.4737e-07 - accuracy: 1.0000 - val_loss: 4.3643 - val_accuracy: 0.5909\n",
            "Epoch 126/200\n",
            "62/62 [==============================] - 1s 21ms/step - loss: 7.2888e-07 - accuracy: 1.0000 - val_loss: 4.3996 - val_accuracy: 0.5909\n",
            "Epoch 127/200\n",
            "62/62 [==============================] - 1s 21ms/step - loss: 7.0431e-07 - accuracy: 1.0000 - val_loss: 4.4958 - val_accuracy: 0.5852\n",
            "Epoch 128/200\n",
            "62/62 [==============================] - 1s 21ms/step - loss: 6.7195e-07 - accuracy: 1.0000 - val_loss: 4.5017 - val_accuracy: 0.5852\n",
            "Epoch 129/200\n",
            "62/62 [==============================] - 1s 22ms/step - loss: 6.3984e-07 - accuracy: 1.0000 - val_loss: 4.5130 - val_accuracy: 0.5852\n",
            "Epoch 130/200\n",
            "62/62 [==============================] - 1s 21ms/step - loss: 6.1916e-07 - accuracy: 1.0000 - val_loss: 4.4873 - val_accuracy: 0.5909\n",
            "Epoch 131/200\n",
            "62/62 [==============================] - 1s 21ms/step - loss: 6.0845e-07 - accuracy: 1.0000 - val_loss: 4.4821 - val_accuracy: 0.5909\n",
            "Epoch 132/200\n",
            "62/62 [==============================] - 1s 21ms/step - loss: 5.8072e-07 - accuracy: 1.0000 - val_loss: 4.5214 - val_accuracy: 0.5909\n",
            "Epoch 133/200\n",
            "62/62 [==============================] - 1s 21ms/step - loss: 5.5493e-07 - accuracy: 1.0000 - val_loss: 4.5492 - val_accuracy: 0.5852\n",
            "Epoch 134/200\n",
            "62/62 [==============================] - 1s 21ms/step - loss: 5.3085e-07 - accuracy: 1.0000 - val_loss: 4.5513 - val_accuracy: 0.5852\n",
            "Epoch 135/200\n",
            "62/62 [==============================] - 1s 21ms/step - loss: 5.0384e-07 - accuracy: 1.0000 - val_loss: 4.5623 - val_accuracy: 0.5852\n",
            "Epoch 136/200\n",
            "62/62 [==============================] - 1s 21ms/step - loss: 4.9971e-07 - accuracy: 1.0000 - val_loss: 4.4587 - val_accuracy: 0.5909\n",
            "Epoch 137/200\n",
            "62/62 [==============================] - 1s 21ms/step - loss: 4.6759e-07 - accuracy: 1.0000 - val_loss: 4.5721 - val_accuracy: 0.5909\n",
            "Epoch 138/200\n",
            "62/62 [==============================] - 1s 21ms/step - loss: 4.6881e-07 - accuracy: 1.0000 - val_loss: 4.5579 - val_accuracy: 0.5909\n",
            "Epoch 139/200\n",
            "62/62 [==============================] - 1s 21ms/step - loss: 4.4472e-07 - accuracy: 1.0000 - val_loss: 4.6046 - val_accuracy: 0.5852\n",
            "Epoch 140/200\n",
            "62/62 [==============================] - 1s 21ms/step - loss: 4.2064e-07 - accuracy: 1.0000 - val_loss: 4.6081 - val_accuracy: 0.5852\n",
            "Epoch 141/200\n",
            "62/62 [==============================] - 1s 21ms/step - loss: 4.0580e-07 - accuracy: 1.0000 - val_loss: 4.6178 - val_accuracy: 0.5909\n",
            "Epoch 142/200\n",
            "62/62 [==============================] - 1s 21ms/step - loss: 4.0166e-07 - accuracy: 1.0000 - val_loss: 4.6167 - val_accuracy: 0.5909\n",
            "Epoch 143/200\n",
            "62/62 [==============================] - 1s 21ms/step - loss: 3.8390e-07 - accuracy: 1.0000 - val_loss: 4.5821 - val_accuracy: 0.5909\n",
            "Epoch 144/200\n",
            "62/62 [==============================] - 1s 22ms/step - loss: 3.6176e-07 - accuracy: 1.0000 - val_loss: 4.6362 - val_accuracy: 0.5909\n",
            "Epoch 145/200\n",
            "62/62 [==============================] - 1s 21ms/step - loss: 3.5057e-07 - accuracy: 1.0000 - val_loss: 4.6582 - val_accuracy: 0.5909\n",
            "Epoch 146/200\n",
            "62/62 [==============================] - 1s 21ms/step - loss: 3.4619e-07 - accuracy: 1.0000 - val_loss: 4.6664 - val_accuracy: 0.5909\n",
            "Epoch 147/200\n",
            "62/62 [==============================] - 1s 20ms/step - loss: 3.3379e-07 - accuracy: 1.0000 - val_loss: 4.6742 - val_accuracy: 0.5852\n",
            "Epoch 148/200\n",
            "62/62 [==============================] - 1s 21ms/step - loss: 3.2162e-07 - accuracy: 1.0000 - val_loss: 4.6859 - val_accuracy: 0.5852\n",
            "Epoch 149/200\n",
            "62/62 [==============================] - 1s 21ms/step - loss: 3.1019e-07 - accuracy: 1.0000 - val_loss: 4.6905 - val_accuracy: 0.5852\n",
            "Epoch 150/200\n",
            "62/62 [==============================] - 1s 21ms/step - loss: 3.0021e-07 - accuracy: 1.0000 - val_loss: 4.7044 - val_accuracy: 0.5852\n",
            "Epoch 151/200\n",
            "62/62 [==============================] - 1s 21ms/step - loss: 2.8781e-07 - accuracy: 1.0000 - val_loss: 4.6142 - val_accuracy: 0.5909\n",
            "Epoch 152/200\n",
            "62/62 [==============================] - 1s 21ms/step - loss: 2.8367e-07 - accuracy: 1.0000 - val_loss: 4.7220 - val_accuracy: 0.5852\n",
            "Epoch 153/200\n",
            "62/62 [==============================] - 1s 21ms/step - loss: 2.6445e-07 - accuracy: 1.0000 - val_loss: 4.7312 - val_accuracy: 0.5852\n",
            "Epoch 154/200\n",
            "62/62 [==============================] - 1s 21ms/step - loss: 2.5861e-07 - accuracy: 1.0000 - val_loss: 4.7397 - val_accuracy: 0.5852\n",
            "Epoch 155/200\n",
            "62/62 [==============================] - 1s 22ms/step - loss: 2.5302e-07 - accuracy: 1.0000 - val_loss: 4.7484 - val_accuracy: 0.5852\n",
            "Epoch 156/200\n",
            "62/62 [==============================] - 1s 21ms/step - loss: 2.4450e-07 - accuracy: 1.0000 - val_loss: 4.6856 - val_accuracy: 0.5909\n",
            "Epoch 157/200\n",
            "62/62 [==============================] - 1s 23ms/step - loss: 2.3088e-07 - accuracy: 1.0000 - val_loss: 4.7649 - val_accuracy: 0.5852\n",
            "Epoch 158/200\n",
            "62/62 [==============================] - 1s 21ms/step - loss: 2.2552e-07 - accuracy: 1.0000 - val_loss: 4.6895 - val_accuracy: 0.5909\n",
            "Epoch 159/200\n",
            "62/62 [==============================] - 1s 22ms/step - loss: 2.1482e-07 - accuracy: 1.0000 - val_loss: 4.7786 - val_accuracy: 0.5852\n",
            "Epoch 160/200\n",
            "62/62 [==============================] - 1s 21ms/step - loss: 2.0071e-07 - accuracy: 1.0000 - val_loss: 4.7832 - val_accuracy: 0.5909\n",
            "Epoch 161/200\n",
            "62/62 [==============================] - 1s 21ms/step - loss: 1.9755e-07 - accuracy: 1.0000 - val_loss: 4.7915 - val_accuracy: 0.5909\n",
            "Epoch 162/200\n",
            "62/62 [==============================] - 1s 22ms/step - loss: 1.9468e-07 - accuracy: 1.0000 - val_loss: 4.7501 - val_accuracy: 0.5909\n",
            "Epoch 163/200\n",
            "62/62 [==============================] - 1s 21ms/step - loss: 1.8879e-07 - accuracy: 1.0000 - val_loss: 4.7344 - val_accuracy: 0.5966\n",
            "Epoch 164/200\n",
            "62/62 [==============================] - 1s 22ms/step - loss: 1.8271e-07 - accuracy: 1.0000 - val_loss: 4.8214 - val_accuracy: 0.5909\n",
            "Epoch 165/200\n",
            "62/62 [==============================] - 1s 21ms/step - loss: 1.7857e-07 - accuracy: 1.0000 - val_loss: 4.7086 - val_accuracy: 0.5966\n",
            "Epoch 166/200\n",
            "62/62 [==============================] - 1s 22ms/step - loss: 1.7079e-07 - accuracy: 1.0000 - val_loss: 4.8350 - val_accuracy: 0.5909\n",
            "Epoch 167/200\n",
            "62/62 [==============================] - 1s 22ms/step - loss: 1.5376e-07 - accuracy: 1.0000 - val_loss: 4.8423 - val_accuracy: 0.5909\n",
            "Epoch 168/200\n",
            "62/62 [==============================] - 1s 22ms/step - loss: 1.5692e-07 - accuracy: 1.0000 - val_loss: 4.8510 - val_accuracy: 0.5909\n",
            "Epoch 169/200\n",
            "62/62 [==============================] - 1s 22ms/step - loss: 1.5692e-07 - accuracy: 1.0000 - val_loss: 4.8243 - val_accuracy: 0.5966\n",
            "Epoch 170/200\n",
            "62/62 [==============================] - 1s 21ms/step - loss: 1.4840e-07 - accuracy: 1.0000 - val_loss: 4.8666 - val_accuracy: 0.5909\n",
            "Epoch 171/200\n",
            "62/62 [==============================] - 1s 22ms/step - loss: 1.4500e-07 - accuracy: 1.0000 - val_loss: 4.8456 - val_accuracy: 0.5966\n",
            "Epoch 172/200\n",
            "62/62 [==============================] - 1s 21ms/step - loss: 1.3916e-07 - accuracy: 1.0000 - val_loss: 4.8870 - val_accuracy: 0.5909\n",
            "Epoch 173/200\n",
            "62/62 [==============================] - 1s 22ms/step - loss: 1.3454e-07 - accuracy: 1.0000 - val_loss: 4.8152 - val_accuracy: 0.5966\n",
            "Epoch 174/200\n",
            "62/62 [==============================] - 1s 22ms/step - loss: 1.3210e-07 - accuracy: 1.0000 - val_loss: 4.9050 - val_accuracy: 0.5909\n",
            "Epoch 175/200\n",
            "62/62 [==============================] - 1s 21ms/step - loss: 1.2164e-07 - accuracy: 1.0000 - val_loss: 4.9137 - val_accuracy: 0.5909\n",
            "Epoch 176/200\n",
            "62/62 [==============================] - 1s 23ms/step - loss: 1.2189e-07 - accuracy: 1.0000 - val_loss: 4.9220 - val_accuracy: 0.5909\n",
            "Epoch 177/200\n",
            "62/62 [==============================] - 1s 22ms/step - loss: 1.1410e-07 - accuracy: 1.0000 - val_loss: 4.8614 - val_accuracy: 0.5966\n",
            "Epoch 178/200\n",
            "62/62 [==============================] - 1s 22ms/step - loss: 1.1191e-07 - accuracy: 1.0000 - val_loss: 4.9413 - val_accuracy: 0.5909\n",
            "Epoch 179/200\n",
            "62/62 [==============================] - 1s 21ms/step - loss: 1.0850e-07 - accuracy: 1.0000 - val_loss: 4.8778 - val_accuracy: 0.5966\n",
            "Epoch 180/200\n",
            "62/62 [==============================] - 1s 22ms/step - loss: 1.0437e-07 - accuracy: 1.0000 - val_loss: 4.9584 - val_accuracy: 0.5909\n",
            "Epoch 181/200\n",
            "62/62 [==============================] - 1s 22ms/step - loss: 1.0315e-07 - accuracy: 1.0000 - val_loss: 4.9533 - val_accuracy: 0.5966\n",
            "Epoch 182/200\n",
            "62/62 [==============================] - 1s 21ms/step - loss: 9.7070e-08 - accuracy: 1.0000 - val_loss: 4.9723 - val_accuracy: 0.5909\n",
            "Epoch 183/200\n",
            "62/62 [==============================] - 1s 23ms/step - loss: 9.3178e-08 - accuracy: 1.0000 - val_loss: 4.9761 - val_accuracy: 0.5966\n",
            "Epoch 184/200\n",
            "62/62 [==============================] - 1s 22ms/step - loss: 9.1475e-08 - accuracy: 1.0000 - val_loss: 4.8928 - val_accuracy: 0.6080\n",
            "Epoch 185/200\n",
            "62/62 [==============================] - 1s 21ms/step - loss: 8.7826e-08 - accuracy: 1.0000 - val_loss: 4.9966 - val_accuracy: 0.5909\n",
            "Epoch 186/200\n",
            "62/62 [==============================] - 1s 22ms/step - loss: 8.4906e-08 - accuracy: 1.0000 - val_loss: 5.0051 - val_accuracy: 0.5909\n",
            "Epoch 187/200\n",
            "62/62 [==============================] - 1s 21ms/step - loss: 8.0041e-08 - accuracy: 1.0000 - val_loss: 5.0143 - val_accuracy: 0.5852\n",
            "Epoch 188/200\n",
            "62/62 [==============================] - 1s 21ms/step - loss: 8.1014e-08 - accuracy: 1.0000 - val_loss: 4.8432 - val_accuracy: 0.5966\n",
            "Epoch 189/200\n",
            "62/62 [==============================] - 1s 22ms/step - loss: 7.2255e-08 - accuracy: 1.0000 - val_loss: 4.9825 - val_accuracy: 0.5966\n",
            "Epoch 190/200\n",
            "62/62 [==============================] - 1s 21ms/step - loss: 7.3715e-08 - accuracy: 1.0000 - val_loss: 5.0401 - val_accuracy: 0.5909\n",
            "Epoch 191/200\n",
            "62/62 [==============================] - 1s 21ms/step - loss: 7.1282e-08 - accuracy: 1.0000 - val_loss: 5.0474 - val_accuracy: 0.5909\n",
            "Epoch 192/200\n",
            "62/62 [==============================] - 1s 21ms/step - loss: 6.7146e-08 - accuracy: 1.0000 - val_loss: 5.0610 - val_accuracy: 0.5852\n",
            "Epoch 193/200\n",
            "62/62 [==============================] - 1s 21ms/step - loss: 6.4227e-08 - accuracy: 1.0000 - val_loss: 5.0649 - val_accuracy: 0.5852\n",
            "Epoch 194/200\n",
            "62/62 [==============================] - 1s 21ms/step - loss: 6.4470e-08 - accuracy: 1.0000 - val_loss: 5.0749 - val_accuracy: 0.5852\n",
            "Epoch 195/200\n",
            "62/62 [==============================] - 1s 22ms/step - loss: 6.0334e-08 - accuracy: 1.0000 - val_loss: 5.0861 - val_accuracy: 0.5852\n",
            "Epoch 196/200\n",
            "62/62 [==============================] - 1s 22ms/step - loss: 5.7902e-08 - accuracy: 1.0000 - val_loss: 5.0931 - val_accuracy: 0.5852\n",
            "Epoch 197/200\n",
            "62/62 [==============================] - 1s 22ms/step - loss: 5.7415e-08 - accuracy: 1.0000 - val_loss: 5.0523 - val_accuracy: 0.5909\n",
            "Epoch 198/200\n",
            "62/62 [==============================] - 1s 21ms/step - loss: 5.4496e-08 - accuracy: 1.0000 - val_loss: 5.0838 - val_accuracy: 0.5909\n",
            "Epoch 199/200\n",
            "62/62 [==============================] - 1s 22ms/step - loss: 5.3523e-08 - accuracy: 1.0000 - val_loss: 5.1184 - val_accuracy: 0.5852\n",
            "Epoch 200/200\n",
            "62/62 [==============================] - 1s 22ms/step - loss: 4.9387e-08 - accuracy: 1.0000 - val_loss: 5.1368 - val_accuracy: 0.5852\n",
            "CPU times: user 5min 34s, sys: 24.6 s, total: 5min 59s\n",
            "Wall time: 6min 31s\n"
          ],
          "name": "stdout"
        }
      ]
    },
    {
      "cell_type": "markdown",
      "metadata": {
        "id": "rQ5aILFerckV"
      },
      "source": [
        "> ## **4) 학습 결과 시각화**"
      ]
    },
    {
      "cell_type": "markdown",
      "metadata": {
        "id": "9O-OveskrrHq"
      },
      "source": [
        "- Loss Visualization"
      ]
    },
    {
      "cell_type": "code",
      "metadata": {
        "colab": {
          "base_uri": "https://localhost:8080/",
          "height": 404
        },
        "id": "JWs-bLL3rtse",
        "outputId": "c5b1507b-dbfe-462f-f854-a9f415fd2260"
      },
      "source": [
        "import matplotlib.pyplot as plt\n",
        "\n",
        "epochs = range(1, len(Hist_dandc.history['loss']) + 1)\n",
        "\n",
        "plt.figure(figsize=(9, 6))\n",
        "plt.plot(epochs, Hist_dandc.history['loss'])\n",
        "plt.plot(epochs, Hist_dandc.history['val_loss'])\n",
        "\n",
        "plt.title('Training & Validation Loss')\n",
        "plt.xlabel('Epochs')\n",
        "plt.ylabel('Loss')\n",
        "plt.legend(['Training Loss', 'Validation Loss'])\n",
        "plt.grid()\n",
        "plt.show()"
      ],
      "execution_count": 14,
      "outputs": [
        {
          "output_type": "display_data",
          "data": {
            "image/png": "[encoded data removed]",
            "text/plain": [
              "<Figure size 648x432 with 1 Axes>"
            ]
          },
          "metadata": {
            "tags": [],
            "needs_background": "light"
          }
        }
      ]
    },
    {
      "cell_type": "markdown",
      "metadata": {
        "id": "mm4iEgHyrz7k"
      },
      "source": [
        "- Accuracy Visualization"
      ]
    },
    {
      "cell_type": "code",
      "metadata": {
        "colab": {
          "base_uri": "https://localhost:8080/",
          "height": 404
        },
        "id": "OyxnsIg5r2qg",
        "outputId": "58059927-d47d-4bac-f404-aeb6c8d23c15"
      },
      "source": [
        "import matplotlib.pyplot as plt\n",
        "\n",
        "epochs = range(1, len(Hist_dandc.history['loss']) + 1)\n",
        "\n",
        "plt.figure(figsize=(9, 6))\n",
        "plt.plot(epochs, Hist_dandc.history['accuracy'])\n",
        "plt.plot(epochs, Hist_dandc.history['val_accuracy'])\n",
        "\n",
        "plt.title('Training & Validation Accuracy')\n",
        "plt.xlabel('Epochs')\n",
        "plt.ylabel('Accuracy')\n",
        "plt.legend(['Training Accuracy', 'Validation Accuracy'])\n",
        "plt.grid()\n",
        "plt.show()"
      ],
      "execution_count": 15,
      "outputs": [
        {
          "output_type": "display_data",
          "data": {
            "image/png": "[encoded data removed]",
            "text/plain": [
              "<Figure size 648x432 with 1 Axes>"
            ]
          },
          "metadata": {
            "tags": [],
            "needs_background": "light"
          }
        }
      ]
    },
    {
      "cell_type": "markdown",
      "metadata": {
        "id": "La9wXUvqr61W"
      },
      "source": [
        "> ## **5) Model Evaluate**"
      ]
    },
    {
      "cell_type": "markdown",
      "metadata": {
        "id": "kHQ3JcXUr-qg"
      },
      "source": [
        "- test_generator"
      ]
    },
    {
      "cell_type": "code",
      "metadata": {
        "colab": {
          "base_uri": "https://localhost:8080/"
        },
        "id": "iPNdSyWrsAhc",
        "outputId": "edbf9dc3-6474-4f3c-f3fc-757d2a4ac432"
      },
      "source": [
        "test_datagen = ImageDataGenerator(rescale=1./255)\n",
        "\n",
        "test_generator = test_datagen.flow_from_directory(test_dir,\n",
        "                                                  target_size=(75, 75),\n",
        "                                                  batch_size=8,\n",
        "                                                  class_mode='categorical')"
      ],
      "execution_count": 16,
      "outputs": [
        {
          "output_type": "stream",
          "text": [
            "Found 177 images belonging to 27 classes.\n"
          ],
          "name": "stdout"
        }
      ]
    },
    {
      "cell_type": "markdown",
      "metadata": {
        "id": "0O1BDn2asV1j"
      },
      "source": [
        "- Loss & Accuracy"
      ]
    },
    {
      "cell_type": "code",
      "metadata": {
        "colab": {
          "base_uri": "https://localhost:8080/"
        },
        "id": "jQW9Nd2WsXz-",
        "outputId": "ef05ec7e-38bb-4d0d-80f6-28b6a3a1bd20"
      },
      "source": [
        "loss, accuracy = model.evaluate(test_generator,\n",
        "                                steps=22)\n",
        "\n",
        "print('Loss = {:.5f}'.format(loss))\n",
        "print('Accuracy = {:.5f}'.format(accuracy))"
      ],
      "execution_count": 17,
      "outputs": [
        {
          "output_type": "stream",
          "text": [
            "22/22 [==============================] - 0s 13ms/step - loss: 5.1182 - accuracy: 0.5909\n",
            "Loss = 5.11822\n",
            "Accuracy = 0.59091\n"
          ],
          "name": "stdout"
        }
      ]
    },
    {
      "cell_type": "code",
      "metadata": {
        "id": "1rDxF8vvshk2"
      },
      "source": [
        ""
      ],
      "execution_count": 17,
      "outputs": []
    }
  ]
}