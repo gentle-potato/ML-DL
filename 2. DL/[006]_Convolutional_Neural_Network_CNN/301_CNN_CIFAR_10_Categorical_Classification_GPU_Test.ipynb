{
  "nbformat": 4,
  "nbformat_minor": 0,
  "metadata": {
    "colab": {
      "name": "301_CNN_CIFAR_10_Categorical_Classification_GPU_Test.ipynb",
      "provenance": [],
      "collapsed_sections": []
    },
    "kernelspec": {
      "name": "python3",
      "display_name": "Python 3"
    },
    "accelerator": "GPU"
  },
  "cells": [
    {
      "cell_type": "markdown",
      "metadata": {
        "id": "q2Pr7oBdYLdf"
      },
      "source": [
        "# **CIFAR 10 - Categorical Classification**"
      ]
    },
    {
      "cell_type": "markdown",
      "metadata": {
        "id": "fqQ7t_8nxrhH"
      },
      "source": [
        "> # **Convolutional Neural Network**"
      ]
    },
    {
      "cell_type": "code",
      "metadata": {
        "id": "RbPgODpVzdHI"
      },
      "source": [
        "import warnings\n",
        "warnings.filterwarnings('ignore')"
      ],
      "execution_count": 1,
      "outputs": []
    },
    {
      "cell_type": "markdown",
      "metadata": {
        "id": "tUvJIk2aRFtw"
      },
      "source": [
        "* import TensorFlow"
      ]
    },
    {
      "cell_type": "code",
      "metadata": {
        "id": "GR4j3p6N_rDV",
        "colab": {
          "base_uri": "https://localhost:8080/",
          "height": 35
        },
        "outputId": "35a6de3b-f8bf-4962-e8cb-4b4f331ddc17"
      },
      "source": [
        "import tensorflow\n",
        "\n",
        "tensorflow.__version__"
      ],
      "execution_count": 2,
      "outputs": [
        {
          "output_type": "execute_result",
          "data": {
            "application/vnd.google.colaboratory.intrinsic+json": {
              "type": "string"
            },
            "text/plain": [
              "'2.5.0'"
            ]
          },
          "metadata": {
            "tags": []
          },
          "execution_count": 2
        }
      ]
    },
    {
      "cell_type": "markdown",
      "metadata": {
        "id": "H49A769LYp-a"
      },
      "source": [
        "# **I. CIFAR 10 Data_Set Load & Review**"
      ]
    },
    {
      "cell_type": "markdown",
      "metadata": {
        "id": "vb6EIkRcbPb4"
      },
      "source": [
        "> ## **1) Load CIFAR 10 Data_Set**"
      ]
    },
    {
      "cell_type": "code",
      "metadata": {
        "id": "DxstjE8b_6Te"
      },
      "source": [
        "from tensorflow.keras.datasets import cifar10\n",
        "\n",
        "(X_train, y_train), (X_test, y_test) = cifar10.load_data()"
      ],
      "execution_count": 3,
      "outputs": []
    },
    {
      "cell_type": "markdown",
      "metadata": {
        "id": "Mt11QE0EHCiJ"
      },
      "source": [
        "* Train_Data Information"
      ]
    },
    {
      "cell_type": "code",
      "metadata": {
        "id": "KT_Mr_Hb__VH",
        "colab": {
          "base_uri": "https://localhost:8080/"
        },
        "outputId": "ca39b0de-33ff-48aa-f9fb-6d82ddaab9fa"
      },
      "source": [
        "print(len(X_train))\n",
        "print(X_train.shape)\n",
        "\n",
        "print('')\n",
        "\n",
        "print(len(y_train))\n",
        "print(y_train[0:5])"
      ],
      "execution_count": 4,
      "outputs": [
        {
          "output_type": "stream",
          "text": [
            "50000\n",
            "(50000, 32, 32, 3)\n",
            "\n",
            "50000\n",
            "[[6]\n",
            " [9]\n",
            " [9]\n",
            " [4]\n",
            " [1]]\n"
          ],
          "name": "stdout"
        }
      ]
    },
    {
      "cell_type": "markdown",
      "metadata": {
        "id": "QolAqIwgHGRI"
      },
      "source": [
        "* Test_Data Information"
      ]
    },
    {
      "cell_type": "code",
      "metadata": {
        "id": "NtkD2BKUANZE",
        "colab": {
          "base_uri": "https://localhost:8080/"
        },
        "outputId": "5e263c1f-649b-440d-b59b-573544226fa0"
      },
      "source": [
        "print(len(X_test))\n",
        "print(X_test.shape)\n",
        "\n",
        "print('')\n",
        "\n",
        "print(len(y_test))\n",
        "print(y_test[0:5])"
      ],
      "execution_count": 5,
      "outputs": [
        {
          "output_type": "stream",
          "text": [
            "10000\n",
            "(10000, 32, 32, 3)\n",
            "\n",
            "10000\n",
            "[[3]\n",
            " [8]\n",
            " [8]\n",
            " [0]\n",
            " [6]]\n"
          ],
          "name": "stdout"
        }
      ]
    },
    {
      "cell_type": "markdown",
      "metadata": {
        "id": "Mk9XL5vGHor6"
      },
      "source": [
        "# **II. Data Preprocessing**"
      ]
    },
    {
      "cell_type": "markdown",
      "metadata": {
        "id": "ec8zU4XCZRUF"
      },
      "source": [
        "> ## **1) Normalization**"
      ]
    },
    {
      "cell_type": "code",
      "metadata": {
        "id": "SoGHuYeFIGBj"
      },
      "source": [
        "X_train = X_train.astype(float) / 255\n",
        "X_test = X_test.astype(float) / 255"
      ],
      "execution_count": 6,
      "outputs": []
    },
    {
      "cell_type": "code",
      "metadata": {
        "id": "m1HezAboV-x8",
        "colab": {
          "base_uri": "https://localhost:8080/"
        },
        "outputId": "768a20f3-9cf9-4a0b-c83c-1bd26b220ec1"
      },
      "source": [
        "print(X_train[0])"
      ],
      "execution_count": 7,
      "outputs": [
        {
          "output_type": "stream",
          "text": [
            "[[[0.23137255 0.24313725 0.24705882]\n",
            "  [0.16862745 0.18039216 0.17647059]\n",
            "  [0.19607843 0.18823529 0.16862745]\n",
            "  ...\n",
            "  [0.61960784 0.51764706 0.42352941]\n",
            "  [0.59607843 0.49019608 0.4       ]\n",
            "  [0.58039216 0.48627451 0.40392157]]\n",
            "\n",
            " [[0.0627451  0.07843137 0.07843137]\n",
            "  [0.         0.         0.        ]\n",
            "  [0.07058824 0.03137255 0.        ]\n",
            "  ...\n",
            "  [0.48235294 0.34509804 0.21568627]\n",
            "  [0.46666667 0.3254902  0.19607843]\n",
            "  [0.47843137 0.34117647 0.22352941]]\n",
            "\n",
            " [[0.09803922 0.09411765 0.08235294]\n",
            "  [0.0627451  0.02745098 0.        ]\n",
            "  [0.19215686 0.10588235 0.03137255]\n",
            "  ...\n",
            "  [0.4627451  0.32941176 0.19607843]\n",
            "  [0.47058824 0.32941176 0.19607843]\n",
            "  [0.42745098 0.28627451 0.16470588]]\n",
            "\n",
            " ...\n",
            "\n",
            " [[0.81568627 0.66666667 0.37647059]\n",
            "  [0.78823529 0.6        0.13333333]\n",
            "  [0.77647059 0.63137255 0.10196078]\n",
            "  ...\n",
            "  [0.62745098 0.52156863 0.2745098 ]\n",
            "  [0.21960784 0.12156863 0.02745098]\n",
            "  [0.20784314 0.13333333 0.07843137]]\n",
            "\n",
            " [[0.70588235 0.54509804 0.37647059]\n",
            "  [0.67843137 0.48235294 0.16470588]\n",
            "  [0.72941176 0.56470588 0.11764706]\n",
            "  ...\n",
            "  [0.72156863 0.58039216 0.36862745]\n",
            "  [0.38039216 0.24313725 0.13333333]\n",
            "  [0.3254902  0.20784314 0.13333333]]\n",
            "\n",
            " [[0.69411765 0.56470588 0.45490196]\n",
            "  [0.65882353 0.50588235 0.36862745]\n",
            "  [0.70196078 0.55686275 0.34117647]\n",
            "  ...\n",
            "  [0.84705882 0.72156863 0.54901961]\n",
            "  [0.59215686 0.4627451  0.32941176]\n",
            "  [0.48235294 0.36078431 0.28235294]]]\n"
          ],
          "name": "stdout"
        }
      ]
    },
    {
      "cell_type": "markdown",
      "metadata": {
        "id": "BtSROU80aF12"
      },
      "source": [
        "> ## **2) One-Hot Encoding**"
      ]
    },
    {
      "cell_type": "code",
      "metadata": {
        "id": "eC48Oym3Ao8E"
      },
      "source": [
        "from tensorflow.keras.utils import to_categorical\n",
        "\n",
        "y_train = to_categorical(y_train)\n",
        "y_test = to_categorical(y_test)"
      ],
      "execution_count": 8,
      "outputs": []
    },
    {
      "cell_type": "code",
      "metadata": {
        "id": "q1O-NsoJMyWU",
        "colab": {
          "base_uri": "https://localhost:8080/"
        },
        "outputId": "2fb59027-1b60-476e-cdfd-e7c596f5dfeb"
      },
      "source": [
        "print(y_train[:5])"
      ],
      "execution_count": 9,
      "outputs": [
        {
          "output_type": "stream",
          "text": [
            "[[0. 0. 0. 0. 0. 0. 1. 0. 0. 0.]\n",
            " [0. 0. 0. 0. 0. 0. 0. 0. 0. 1.]\n",
            " [0. 0. 0. 0. 0. 0. 0. 0. 0. 1.]\n",
            " [0. 0. 0. 0. 1. 0. 0. 0. 0. 0.]\n",
            " [0. 1. 0. 0. 0. 0. 0. 0. 0. 0.]]\n"
          ],
          "name": "stdout"
        }
      ]
    },
    {
      "cell_type": "markdown",
      "metadata": {
        "id": "NTwZiSjiop3v"
      },
      "source": [
        "# **III. Keras Modeling**"
      ]
    },
    {
      "cell_type": "markdown",
      "metadata": {
        "id": "j5CT0TurJCkc"
      },
      "source": [
        "> ## **1) Model Define**"
      ]
    },
    {
      "cell_type": "markdown",
      "metadata": {
        "id": "ydDCl0jTJD58"
      },
      "source": [
        "* 모델 신경망 구조 정의\n",
        " - CNN & DNN"
      ]
    },
    {
      "cell_type": "code",
      "metadata": {
        "id": "II0DskRdAcHS"
      },
      "source": [
        "from tensorflow.keras import models\n",
        "from tensorflow.keras import layers\n",
        "\n",
        "model = models.Sequential()\n",
        "model.add(layers.Conv2D(filters=32, kernel_size=(3, 3), activation='relu', input_shape=(32, 32, 3)))\n",
        "model.add(layers.MaxPool2D(pool_size=(2, 2)))\n",
        "model.add(layers.Conv2D(filters=64, kernel_size=(3, 3), activation='relu'))\n",
        "model.add(layers.MaxPool2D(pool_size=(2, 2)))\n",
        "model.add(layers.Conv2D(filters=64, kernel_size=(3, 3), activation='relu'))\n",
        "\n",
        "model.add(layers.Flatten())\n",
        "model.add(layers.Dense(units=64, activation='relu'))\n",
        "model.add(layers.Dense(units=10, activation='softmax'))"
      ],
      "execution_count": 10,
      "outputs": []
    },
    {
      "cell_type": "markdown",
      "metadata": {
        "id": "PqrObAHZJTN8"
      },
      "source": [
        "* 모델 구조 확인"
      ]
    },
    {
      "cell_type": "code",
      "metadata": {
        "id": "wbtjOA4XMTUd",
        "colab": {
          "base_uri": "https://localhost:8080/"
        },
        "outputId": "0bc99800-c89b-40f5-c094-c8ccdd82ff29"
      },
      "source": [
        "model.summary()"
      ],
      "execution_count": 11,
      "outputs": [
        {
          "output_type": "stream",
          "text": [
            "Model: \"sequential\"\n",
            "_________________________________________________________________\n",
            "Layer (type)                 Output Shape              Param #   \n",
            "=================================================================\n",
            "conv2d (Conv2D)              (None, 30, 30, 32)        896       \n",
            "_________________________________________________________________\n",
            "max_pooling2d (MaxPooling2D) (None, 15, 15, 32)        0         \n",
            "_________________________________________________________________\n",
            "conv2d_1 (Conv2D)            (None, 13, 13, 64)        18496     \n",
            "_________________________________________________________________\n",
            "max_pooling2d_1 (MaxPooling2 (None, 6, 6, 64)          0         \n",
            "_________________________________________________________________\n",
            "conv2d_2 (Conv2D)            (None, 4, 4, 64)          36928     \n",
            "_________________________________________________________________\n",
            "flatten (Flatten)            (None, 1024)              0         \n",
            "_________________________________________________________________\n",
            "dense (Dense)                (None, 64)                65600     \n",
            "_________________________________________________________________\n",
            "dense_1 (Dense)              (None, 10)                650       \n",
            "=================================================================\n",
            "Total params: 122,570\n",
            "Trainable params: 122,570\n",
            "Non-trainable params: 0\n",
            "_________________________________________________________________\n"
          ],
          "name": "stdout"
        }
      ]
    },
    {
      "cell_type": "markdown",
      "metadata": {
        "id": "tpjBDBeYoyuj"
      },
      "source": [
        "> ## **2) Model Compile**"
      ]
    },
    {
      "cell_type": "markdown",
      "metadata": {
        "id": "f3sxkQa0JoUr"
      },
      "source": [
        "* 모델 학습 방법 설정"
      ]
    },
    {
      "cell_type": "code",
      "metadata": {
        "id": "AyK_t1qwAi6M"
      },
      "source": [
        "model.compile(loss='categorical_crossentropy',\n",
        "              optimizer='rmsprop',\n",
        "              metrics=['accuracy'])"
      ],
      "execution_count": 12,
      "outputs": []
    },
    {
      "cell_type": "markdown",
      "metadata": {
        "id": "umiq4B-Xo3OB"
      },
      "source": [
        "> ## **3) Model Fit**"
      ]
    },
    {
      "cell_type": "markdown",
      "metadata": {
        "id": "1KuXREziKMD1"
      },
      "source": [
        "* 약 4분"
      ]
    },
    {
      "cell_type": "code",
      "metadata": {
        "id": "zxwqwAqRAqRP",
        "colab": {
          "base_uri": "https://localhost:8080/"
        },
        "outputId": "2b6574ea-0634-455c-af50-684fc17b4431"
      },
      "source": [
        "%%time\n",
        "\n",
        "Hist_model = model.fit(X_train, y_train,\n",
        "                       epochs=100,\n",
        "                       batch_size=128,\n",
        "                       validation_split=0.2)"
      ],
      "execution_count": 13,
      "outputs": [
        {
          "output_type": "stream",
          "text": [
            "Epoch 1/100\n",
            "313/313 [==============================] - 5s 8ms/step - loss: 1.8604 - accuracy: 0.3280 - val_loss: 1.6755 - val_accuracy: 0.3859\n",
            "Epoch 2/100\n",
            "313/313 [==============================] - 2s 7ms/step - loss: 1.4840 - accuracy: 0.4712 - val_loss: 1.3302 - val_accuracy: 0.5297\n",
            "Epoch 3/100\n",
            "313/313 [==============================] - 2s 7ms/step - loss: 1.3022 - accuracy: 0.5370 - val_loss: 1.2951 - val_accuracy: 0.5376\n",
            "Epoch 4/100\n",
            "313/313 [==============================] - 2s 7ms/step - loss: 1.1755 - accuracy: 0.5850 - val_loss: 1.2057 - val_accuracy: 0.5781\n",
            "Epoch 5/100\n",
            "313/313 [==============================] - 2s 7ms/step - loss: 1.0744 - accuracy: 0.6218 - val_loss: 1.1555 - val_accuracy: 0.5973\n",
            "Epoch 6/100\n",
            "313/313 [==============================] - 2s 7ms/step - loss: 0.9984 - accuracy: 0.6501 - val_loss: 1.2461 - val_accuracy: 0.5665\n",
            "Epoch 7/100\n",
            "313/313 [==============================] - 2s 7ms/step - loss: 0.9329 - accuracy: 0.6754 - val_loss: 0.9878 - val_accuracy: 0.6493\n",
            "Epoch 8/100\n",
            "313/313 [==============================] - 2s 7ms/step - loss: 0.8732 - accuracy: 0.6945 - val_loss: 1.0369 - val_accuracy: 0.6414\n",
            "Epoch 9/100\n",
            "313/313 [==============================] - 2s 7ms/step - loss: 0.8159 - accuracy: 0.7148 - val_loss: 1.0134 - val_accuracy: 0.6529\n",
            "Epoch 10/100\n",
            "313/313 [==============================] - 2s 7ms/step - loss: 0.7701 - accuracy: 0.7324 - val_loss: 1.1362 - val_accuracy: 0.6328\n",
            "Epoch 11/100\n",
            "313/313 [==============================] - 2s 7ms/step - loss: 0.7226 - accuracy: 0.7480 - val_loss: 1.0215 - val_accuracy: 0.6519\n",
            "Epoch 12/100\n",
            "313/313 [==============================] - 2s 7ms/step - loss: 0.6807 - accuracy: 0.7625 - val_loss: 0.8918 - val_accuracy: 0.7000\n",
            "Epoch 13/100\n",
            "313/313 [==============================] - 2s 7ms/step - loss: 0.6402 - accuracy: 0.7778 - val_loss: 0.9180 - val_accuracy: 0.7020\n",
            "Epoch 14/100\n",
            "313/313 [==============================] - 2s 7ms/step - loss: 0.6006 - accuracy: 0.7897 - val_loss: 0.9514 - val_accuracy: 0.6864\n",
            "Epoch 15/100\n",
            "313/313 [==============================] - 2s 7ms/step - loss: 0.5662 - accuracy: 0.8044 - val_loss: 0.9488 - val_accuracy: 0.6979\n",
            "Epoch 16/100\n",
            "313/313 [==============================] - 2s 7ms/step - loss: 0.5312 - accuracy: 0.8153 - val_loss: 0.9862 - val_accuracy: 0.6982\n",
            "Epoch 17/100\n",
            "313/313 [==============================] - 2s 7ms/step - loss: 0.5002 - accuracy: 0.8257 - val_loss: 1.0465 - val_accuracy: 0.6796\n",
            "Epoch 18/100\n",
            "313/313 [==============================] - 2s 7ms/step - loss: 0.4650 - accuracy: 0.8360 - val_loss: 1.0049 - val_accuracy: 0.6871\n",
            "Epoch 19/100\n",
            "313/313 [==============================] - 2s 7ms/step - loss: 0.4334 - accuracy: 0.8490 - val_loss: 1.0436 - val_accuracy: 0.6936\n",
            "Epoch 20/100\n",
            "313/313 [==============================] - 2s 7ms/step - loss: 0.4027 - accuracy: 0.8599 - val_loss: 1.2068 - val_accuracy: 0.6711\n",
            "Epoch 21/100\n",
            "313/313 [==============================] - 2s 7ms/step - loss: 0.3765 - accuracy: 0.8694 - val_loss: 1.0613 - val_accuracy: 0.7024\n",
            "Epoch 22/100\n",
            "313/313 [==============================] - 2s 7ms/step - loss: 0.3485 - accuracy: 0.8777 - val_loss: 1.1997 - val_accuracy: 0.6784\n",
            "Epoch 23/100\n",
            "313/313 [==============================] - 2s 7ms/step - loss: 0.3211 - accuracy: 0.8880 - val_loss: 1.2048 - val_accuracy: 0.6830\n",
            "Epoch 24/100\n",
            "313/313 [==============================] - 2s 7ms/step - loss: 0.2971 - accuracy: 0.8949 - val_loss: 1.1896 - val_accuracy: 0.7010\n",
            "Epoch 25/100\n",
            "313/313 [==============================] - 2s 7ms/step - loss: 0.2732 - accuracy: 0.9044 - val_loss: 1.2849 - val_accuracy: 0.6869\n",
            "Epoch 26/100\n",
            "313/313 [==============================] - 2s 7ms/step - loss: 0.2536 - accuracy: 0.9119 - val_loss: 1.5062 - val_accuracy: 0.6718\n",
            "Epoch 27/100\n",
            "313/313 [==============================] - 2s 7ms/step - loss: 0.2323 - accuracy: 0.9191 - val_loss: 1.3553 - val_accuracy: 0.6916\n",
            "Epoch 28/100\n",
            "313/313 [==============================] - 2s 7ms/step - loss: 0.2124 - accuracy: 0.9252 - val_loss: 1.4409 - val_accuracy: 0.6871\n",
            "Epoch 29/100\n",
            "313/313 [==============================] - 2s 7ms/step - loss: 0.1964 - accuracy: 0.9307 - val_loss: 1.5364 - val_accuracy: 0.6786\n",
            "Epoch 30/100\n",
            "313/313 [==============================] - 2s 7ms/step - loss: 0.1806 - accuracy: 0.9366 - val_loss: 1.5365 - val_accuracy: 0.7013\n",
            "Epoch 31/100\n",
            "313/313 [==============================] - 2s 7ms/step - loss: 0.1640 - accuracy: 0.9438 - val_loss: 1.7612 - val_accuracy: 0.6757\n",
            "Epoch 32/100\n",
            "313/313 [==============================] - 2s 7ms/step - loss: 0.1539 - accuracy: 0.9455 - val_loss: 1.7968 - val_accuracy: 0.6839\n",
            "Epoch 33/100\n",
            "313/313 [==============================] - 2s 7ms/step - loss: 0.1374 - accuracy: 0.9507 - val_loss: 1.8049 - val_accuracy: 0.6730\n",
            "Epoch 34/100\n",
            "313/313 [==============================] - 2s 7ms/step - loss: 0.1293 - accuracy: 0.9545 - val_loss: 1.7761 - val_accuracy: 0.6947\n",
            "Epoch 35/100\n",
            "313/313 [==============================] - 2s 7ms/step - loss: 0.1222 - accuracy: 0.9578 - val_loss: 2.3466 - val_accuracy: 0.6458\n",
            "Epoch 36/100\n",
            "313/313 [==============================] - 2s 7ms/step - loss: 0.1087 - accuracy: 0.9617 - val_loss: 2.3096 - val_accuracy: 0.6642\n",
            "Epoch 37/100\n",
            "313/313 [==============================] - 2s 7ms/step - loss: 0.1070 - accuracy: 0.9625 - val_loss: 1.9910 - val_accuracy: 0.6926\n",
            "Epoch 38/100\n",
            "313/313 [==============================] - 2s 7ms/step - loss: 0.1020 - accuracy: 0.9658 - val_loss: 2.0213 - val_accuracy: 0.6936\n",
            "Epoch 39/100\n",
            "313/313 [==============================] - 2s 7ms/step - loss: 0.0962 - accuracy: 0.9664 - val_loss: 2.1330 - val_accuracy: 0.6920\n",
            "Epoch 40/100\n",
            "313/313 [==============================] - 2s 7ms/step - loss: 0.0902 - accuracy: 0.9690 - val_loss: 2.3871 - val_accuracy: 0.6776\n",
            "Epoch 41/100\n",
            "313/313 [==============================] - 2s 7ms/step - loss: 0.0855 - accuracy: 0.9699 - val_loss: 2.3135 - val_accuracy: 0.6776\n",
            "Epoch 42/100\n",
            "313/313 [==============================] - 2s 7ms/step - loss: 0.0802 - accuracy: 0.9722 - val_loss: 2.6091 - val_accuracy: 0.6657\n",
            "Epoch 43/100\n",
            "313/313 [==============================] - 2s 7ms/step - loss: 0.0778 - accuracy: 0.9734 - val_loss: 2.2700 - val_accuracy: 0.6887\n",
            "Epoch 44/100\n",
            "313/313 [==============================] - 2s 7ms/step - loss: 0.0787 - accuracy: 0.9739 - val_loss: 2.7579 - val_accuracy: 0.6659\n",
            "Epoch 45/100\n",
            "313/313 [==============================] - 2s 7ms/step - loss: 0.0735 - accuracy: 0.9744 - val_loss: 2.5391 - val_accuracy: 0.6895\n",
            "Epoch 46/100\n",
            "313/313 [==============================] - 2s 7ms/step - loss: 0.0708 - accuracy: 0.9763 - val_loss: 2.5295 - val_accuracy: 0.6893\n",
            "Epoch 47/100\n",
            "313/313 [==============================] - 2s 7ms/step - loss: 0.0704 - accuracy: 0.9754 - val_loss: 2.6972 - val_accuracy: 0.6789\n",
            "Epoch 48/100\n",
            "313/313 [==============================] - 2s 7ms/step - loss: 0.0644 - accuracy: 0.9774 - val_loss: 2.8648 - val_accuracy: 0.6666\n",
            "Epoch 49/100\n",
            "313/313 [==============================] - 2s 7ms/step - loss: 0.0625 - accuracy: 0.9784 - val_loss: 2.8876 - val_accuracy: 0.6778\n",
            "Epoch 50/100\n",
            "313/313 [==============================] - 2s 7ms/step - loss: 0.0674 - accuracy: 0.9776 - val_loss: 2.8963 - val_accuracy: 0.6819\n",
            "Epoch 51/100\n",
            "313/313 [==============================] - 2s 7ms/step - loss: 0.0643 - accuracy: 0.9785 - val_loss: 2.8404 - val_accuracy: 0.6878\n",
            "Epoch 52/100\n",
            "313/313 [==============================] - 2s 7ms/step - loss: 0.0631 - accuracy: 0.9787 - val_loss: 3.0099 - val_accuracy: 0.6767\n",
            "Epoch 53/100\n",
            "313/313 [==============================] - 2s 7ms/step - loss: 0.0632 - accuracy: 0.9790 - val_loss: 2.8880 - val_accuracy: 0.6781\n",
            "Epoch 54/100\n",
            "313/313 [==============================] - 2s 7ms/step - loss: 0.0614 - accuracy: 0.9797 - val_loss: 2.9330 - val_accuracy: 0.6908\n",
            "Epoch 55/100\n",
            "313/313 [==============================] - 2s 7ms/step - loss: 0.0540 - accuracy: 0.9811 - val_loss: 3.4130 - val_accuracy: 0.6651\n",
            "Epoch 56/100\n",
            "313/313 [==============================] - 2s 7ms/step - loss: 0.0585 - accuracy: 0.9811 - val_loss: 3.0063 - val_accuracy: 0.6869\n",
            "Epoch 57/100\n",
            "313/313 [==============================] - 2s 7ms/step - loss: 0.0577 - accuracy: 0.9811 - val_loss: 3.2705 - val_accuracy: 0.6730\n",
            "Epoch 58/100\n",
            "313/313 [==============================] - 2s 7ms/step - loss: 0.0585 - accuracy: 0.9806 - val_loss: 3.1346 - val_accuracy: 0.6785\n",
            "Epoch 59/100\n",
            "313/313 [==============================] - 2s 7ms/step - loss: 0.0572 - accuracy: 0.9814 - val_loss: 3.4559 - val_accuracy: 0.6668\n",
            "Epoch 60/100\n",
            "313/313 [==============================] - 2s 7ms/step - loss: 0.0583 - accuracy: 0.9806 - val_loss: 3.2368 - val_accuracy: 0.6759\n",
            "Epoch 61/100\n",
            "313/313 [==============================] - 2s 7ms/step - loss: 0.0568 - accuracy: 0.9823 - val_loss: 3.5114 - val_accuracy: 0.6779\n",
            "Epoch 62/100\n",
            "313/313 [==============================] - 2s 7ms/step - loss: 0.0546 - accuracy: 0.9817 - val_loss: 3.5145 - val_accuracy: 0.6697\n",
            "Epoch 63/100\n",
            "313/313 [==============================] - 2s 7ms/step - loss: 0.0545 - accuracy: 0.9817 - val_loss: 3.5001 - val_accuracy: 0.6724\n",
            "Epoch 64/100\n",
            "313/313 [==============================] - 2s 7ms/step - loss: 0.0528 - accuracy: 0.9823 - val_loss: 3.3481 - val_accuracy: 0.6829\n",
            "Epoch 65/100\n",
            "313/313 [==============================] - 2s 7ms/step - loss: 0.0514 - accuracy: 0.9836 - val_loss: 3.6414 - val_accuracy: 0.6777\n",
            "Epoch 66/100\n",
            "313/313 [==============================] - 2s 7ms/step - loss: 0.0526 - accuracy: 0.9832 - val_loss: 3.6454 - val_accuracy: 0.6785\n",
            "Epoch 67/100\n",
            "313/313 [==============================] - 2s 7ms/step - loss: 0.0574 - accuracy: 0.9819 - val_loss: 3.4877 - val_accuracy: 0.6825\n",
            "Epoch 68/100\n",
            "313/313 [==============================] - 2s 7ms/step - loss: 0.0518 - accuracy: 0.9833 - val_loss: 3.6149 - val_accuracy: 0.6816\n",
            "Epoch 69/100\n",
            "313/313 [==============================] - 2s 7ms/step - loss: 0.0500 - accuracy: 0.9837 - val_loss: 3.4777 - val_accuracy: 0.6861\n",
            "Epoch 70/100\n",
            "313/313 [==============================] - 2s 7ms/step - loss: 0.0543 - accuracy: 0.9834 - val_loss: 4.0347 - val_accuracy: 0.6613\n",
            "Epoch 71/100\n",
            "313/313 [==============================] - 2s 7ms/step - loss: 0.0489 - accuracy: 0.9843 - val_loss: 3.9970 - val_accuracy: 0.6725\n",
            "Epoch 72/100\n",
            "313/313 [==============================] - 2s 7ms/step - loss: 0.0545 - accuracy: 0.9841 - val_loss: 4.0168 - val_accuracy: 0.6771\n",
            "Epoch 73/100\n",
            "313/313 [==============================] - 2s 7ms/step - loss: 0.0507 - accuracy: 0.9839 - val_loss: 3.9028 - val_accuracy: 0.6782\n",
            "Epoch 74/100\n",
            "313/313 [==============================] - 2s 7ms/step - loss: 0.0530 - accuracy: 0.9838 - val_loss: 4.1444 - val_accuracy: 0.6756\n",
            "Epoch 75/100\n",
            "313/313 [==============================] - 2s 7ms/step - loss: 0.0486 - accuracy: 0.9848 - val_loss: 4.0931 - val_accuracy: 0.6766\n",
            "Epoch 76/100\n",
            "313/313 [==============================] - 2s 7ms/step - loss: 0.0508 - accuracy: 0.9843 - val_loss: 3.9692 - val_accuracy: 0.6721\n",
            "Epoch 77/100\n",
            "313/313 [==============================] - 2s 7ms/step - loss: 0.0511 - accuracy: 0.9839 - val_loss: 3.9200 - val_accuracy: 0.6812\n",
            "Epoch 78/100\n",
            "313/313 [==============================] - 2s 7ms/step - loss: 0.0496 - accuracy: 0.9848 - val_loss: 3.8747 - val_accuracy: 0.6862\n",
            "Epoch 79/100\n",
            "313/313 [==============================] - 2s 7ms/step - loss: 0.0498 - accuracy: 0.9855 - val_loss: 4.1470 - val_accuracy: 0.6791\n",
            "Epoch 80/100\n",
            "313/313 [==============================] - 2s 7ms/step - loss: 0.0500 - accuracy: 0.9840 - val_loss: 4.1710 - val_accuracy: 0.6786\n",
            "Epoch 81/100\n",
            "313/313 [==============================] - 2s 7ms/step - loss: 0.0516 - accuracy: 0.9855 - val_loss: 3.9989 - val_accuracy: 0.6867\n",
            "Epoch 82/100\n",
            "313/313 [==============================] - 2s 7ms/step - loss: 0.0520 - accuracy: 0.9838 - val_loss: 4.3987 - val_accuracy: 0.6740\n",
            "Epoch 83/100\n",
            "313/313 [==============================] - 2s 7ms/step - loss: 0.0518 - accuracy: 0.9843 - val_loss: 4.2063 - val_accuracy: 0.6786\n",
            "Epoch 84/100\n",
            "313/313 [==============================] - 2s 7ms/step - loss: 0.0453 - accuracy: 0.9866 - val_loss: 4.2593 - val_accuracy: 0.6843\n",
            "Epoch 85/100\n",
            "313/313 [==============================] - 2s 7ms/step - loss: 0.0477 - accuracy: 0.9853 - val_loss: 4.1861 - val_accuracy: 0.6855\n",
            "Epoch 86/100\n",
            "313/313 [==============================] - 2s 7ms/step - loss: 0.0433 - accuracy: 0.9868 - val_loss: 4.3295 - val_accuracy: 0.6825\n",
            "Epoch 87/100\n",
            "313/313 [==============================] - 2s 7ms/step - loss: 0.0452 - accuracy: 0.9858 - val_loss: 4.4885 - val_accuracy: 0.6812\n",
            "Epoch 88/100\n",
            "313/313 [==============================] - 2s 7ms/step - loss: 0.0452 - accuracy: 0.9860 - val_loss: 4.3853 - val_accuracy: 0.6894\n",
            "Epoch 89/100\n",
            "313/313 [==============================] - 2s 7ms/step - loss: 0.0529 - accuracy: 0.9858 - val_loss: 4.3623 - val_accuracy: 0.6775\n",
            "Epoch 90/100\n",
            "313/313 [==============================] - 2s 7ms/step - loss: 0.0475 - accuracy: 0.9862 - val_loss: 4.5222 - val_accuracy: 0.6823\n",
            "Epoch 91/100\n",
            "313/313 [==============================] - 2s 7ms/step - loss: 0.0475 - accuracy: 0.9853 - val_loss: 4.7931 - val_accuracy: 0.6802\n",
            "Epoch 92/100\n",
            "313/313 [==============================] - 2s 7ms/step - loss: 0.0426 - accuracy: 0.9871 - val_loss: 4.7468 - val_accuracy: 0.6711\n",
            "Epoch 93/100\n",
            "313/313 [==============================] - 2s 7ms/step - loss: 0.0482 - accuracy: 0.9865 - val_loss: 4.7017 - val_accuracy: 0.6730\n",
            "Epoch 94/100\n",
            "313/313 [==============================] - 2s 7ms/step - loss: 0.0430 - accuracy: 0.9868 - val_loss: 4.4657 - val_accuracy: 0.6805\n",
            "Epoch 95/100\n",
            "313/313 [==============================] - 2s 7ms/step - loss: 0.0474 - accuracy: 0.9865 - val_loss: 4.8753 - val_accuracy: 0.6733\n",
            "Epoch 96/100\n",
            "313/313 [==============================] - 2s 7ms/step - loss: 0.0445 - accuracy: 0.9869 - val_loss: 4.7055 - val_accuracy: 0.6787\n",
            "Epoch 97/100\n",
            "313/313 [==============================] - 2s 7ms/step - loss: 0.0459 - accuracy: 0.9867 - val_loss: 5.0937 - val_accuracy: 0.6791\n",
            "Epoch 98/100\n",
            "313/313 [==============================] - 2s 7ms/step - loss: 0.0473 - accuracy: 0.9868 - val_loss: 4.8263 - val_accuracy: 0.6757\n",
            "Epoch 99/100\n",
            "313/313 [==============================] - 2s 7ms/step - loss: 0.0435 - accuracy: 0.9870 - val_loss: 4.6816 - val_accuracy: 0.6801\n",
            "Epoch 100/100\n",
            "313/313 [==============================] - 2s 7ms/step - loss: 0.0456 - accuracy: 0.9864 - val_loss: 4.9984 - val_accuracy: 0.6735\n",
            "CPU times: user 3min 46s, sys: 19.3 s, total: 4min 6s\n",
            "Wall time: 4min 22s\n"
          ],
          "name": "stdout"
        }
      ]
    },
    {
      "cell_type": "markdown",
      "metadata": {
        "id": "FnnIyFtNKhbD"
      },
      "source": [
        "> ## **4) 학습 결과 시각화**"
      ]
    },
    {
      "cell_type": "markdown",
      "metadata": {
        "id": "YgXRhVauKqOm"
      },
      "source": [
        "* Loss Visualization"
      ]
    },
    {
      "cell_type": "code",
      "metadata": {
        "id": "OQ4ke8BbKi50",
        "colab": {
          "base_uri": "https://localhost:8080/",
          "height": 404
        },
        "outputId": "2ff549c2-a1e0-4d20-81c3-2f6e624f8ddb"
      },
      "source": [
        "import matplotlib.pyplot as plt\n",
        "\n",
        "epochs = range(1, len(Hist_model.history['loss']) + 1)\n",
        "\n",
        "plt.figure(figsize=(9, 6))\n",
        "plt.plot(epochs, Hist_model.history['loss'])\n",
        "plt.plot(epochs, Hist_model.history['val_loss'])\n",
        "# plt.ylim(0, 0.25)\n",
        "plt.title('Training & Validation Loss')\n",
        "plt.xlabel('Epochs')\n",
        "plt.ylabel('Loss')\n",
        "plt.legend(['Training Loss', 'Validation Loss'])\n",
        "plt.grid()\n",
        "plt.show()"
      ],
      "execution_count": 14,
      "outputs": [
        {
          "output_type": "display_data",
          "data": {
            "image/png": "[encoded data removed]",
            "text/plain": [
              "<Figure size 648x432 with 1 Axes>"
            ]
          },
          "metadata": {
            "tags": [],
            "needs_background": "light"
          }
        }
      ]
    },
    {
      "cell_type": "markdown",
      "metadata": {
        "id": "_uJSOLBko7lh"
      },
      "source": [
        "> ## **5) Model Evaluate**"
      ]
    },
    {
      "cell_type": "markdown",
      "metadata": {
        "id": "i-TqAB2ALGzZ"
      },
      "source": [
        "* Loss & Accuracy"
      ]
    },
    {
      "cell_type": "code",
      "metadata": {
        "id": "OF30PuZsAxQJ",
        "colab": {
          "base_uri": "https://localhost:8080/"
        },
        "outputId": "80f99d05-cb65-49fd-cad2-f252bb789936"
      },
      "source": [
        "loss, accuracy = model.evaluate(X_test, y_test)\n",
        "\n",
        "print('Loss = {:.5f}'.format(loss))\n",
        "print('Accuracy = {:.5f}'.format(accuracy))"
      ],
      "execution_count": 15,
      "outputs": [
        {
          "output_type": "stream",
          "text": [
            "313/313 [==============================] - 1s 3ms/step - loss: 5.1109 - accuracy: 0.6729\n",
            "Loss = 5.11091\n",
            "Accuracy = 0.67290\n"
          ],
          "name": "stdout"
        }
      ]
    },
    {
      "cell_type": "code",
      "metadata": {
        "id": "QVUWDNCRpzxQ"
      },
      "source": [
        ""
      ],
      "execution_count": 15,
      "outputs": []
    }
  ]
}