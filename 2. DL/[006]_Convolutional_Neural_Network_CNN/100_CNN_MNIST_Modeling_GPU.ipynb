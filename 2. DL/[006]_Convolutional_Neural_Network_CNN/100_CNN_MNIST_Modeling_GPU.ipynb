{
  "nbformat": 4,
  "nbformat_minor": 0,
  "metadata": {
    "colab": {
      "name": "100_CNN_MNIST_Modeling_GPU.ipynb",
      "provenance": [],
      "collapsed_sections": [],
      "toc_visible": true
    },
    "kernelspec": {
      "name": "python3",
      "display_name": "Python 3"
    },
    "language_info": {
      "name": "python"
    },
    "accelerator": "GPU"
  },
  "cells": [
    {
      "cell_type": "markdown",
      "metadata": {
        "id": "BbvZC1wRSRFH"
      },
      "source": [
        "# **MNIST - Categorical Classification**"
      ]
    },
    {
      "cell_type": "markdown",
      "metadata": {
        "id": "lSDzxV3qSa4h"
      },
      "source": [
        "> # **Convolutional Neural Network**"
      ]
    },
    {
      "cell_type": "code",
      "metadata": {
        "id": "ezzUytnVSgjs"
      },
      "source": [
        "import warnings\n",
        "warnings.filterwarnings('ignore')"
      ],
      "execution_count": null,
      "outputs": []
    },
    {
      "cell_type": "markdown",
      "metadata": {
        "id": "LfmEst5pSkg5"
      },
      "source": [
        "- import TesorFlow"
      ]
    },
    {
      "cell_type": "code",
      "metadata": {
        "colab": {
          "base_uri": "https://localhost:8080/",
          "height": 35
        },
        "id": "ZvtpvTK8TVqx",
        "outputId": "f1825bc9-8c4d-484a-aba4-513ee08503ad"
      },
      "source": [
        "import tensorflow\n",
        "\n",
        "tensorflow.__version__"
      ],
      "execution_count": null,
      "outputs": [
        {
          "output_type": "execute_result",
          "data": {
            "application/vnd.google.colaboratory.intrinsic+json": {
              "type": "string"
            },
            "text/plain": [
              "'2.5.0'"
            ]
          },
          "metadata": {
            "tags": []
          },
          "execution_count": 2
        }
      ]
    },
    {
      "cell_type": "markdown",
      "metadata": {
        "id": "iz5e-U6uTYz6"
      },
      "source": [
        "# **I. MNIST Data_Set Load**"
      ]
    },
    {
      "cell_type": "code",
      "metadata": {
        "id": "dC9KfK4mTdeu"
      },
      "source": [
        "from tensorflow.keras.datasets import mnist\n",
        "\n",
        "(X_train, y_train), (X_test, y_test) = mnist.load_data()"
      ],
      "execution_count": null,
      "outputs": []
    },
    {
      "cell_type": "markdown",
      "metadata": {
        "id": "cdkNQBn_TlLB"
      },
      "source": [
        "# **II. Data Preprocessing**"
      ]
    },
    {
      "cell_type": "markdown",
      "metadata": {
        "id": "x2dfp7FhToXe"
      },
      "source": [
        "> ## **1) Reshape and Normalization**"
      ]
    },
    {
      "cell_type": "markdown",
      "metadata": {
        "id": "HEsF5vJ6T1B8"
      },
      "source": [
        "- reshape"
      ]
    },
    {
      "cell_type": "code",
      "metadata": {
        "id": "XGW2gJZxT3Hc"
      },
      "source": [
        "X_train = X_train.reshape((60000, 28, 28, 1))   # 3차원\n",
        "X_test = X_test.reshape((10000, 28, 28, 1))     # 3차원"
      ],
      "execution_count": null,
      "outputs": []
    },
    {
      "cell_type": "markdown",
      "metadata": {
        "id": "7LZ_T_9NUBaP"
      },
      "source": [
        "- Normalization"
      ]
    },
    {
      "cell_type": "code",
      "metadata": {
        "id": "YF87fI3CUDUk"
      },
      "source": [
        "X_train = X_train.astype(float) / 255\n",
        "X_test = X_test.astype(float) / 255"
      ],
      "execution_count": null,
      "outputs": []
    },
    {
      "cell_type": "markdown",
      "metadata": {
        "id": "4tyZA8XiUKKQ"
      },
      "source": [
        "> ## **2) One-Hot Encoding**"
      ]
    },
    {
      "cell_type": "code",
      "metadata": {
        "id": "WeTuTZWaUYFi"
      },
      "source": [
        "from tensorflow.keras.utils import to_categorical\n",
        "\n",
        "y_train = to_categorical(y_train)\n",
        "y_test = to_categorical(y_test)"
      ],
      "execution_count": null,
      "outputs": []
    },
    {
      "cell_type": "markdown",
      "metadata": {
        "id": "eFCoNWqOUg3b"
      },
      "source": [
        "# **III. MNIST Keras Modeling**"
      ]
    },
    {
      "cell_type": "markdown",
      "metadata": {
        "id": "PTAj_DtWU2ym"
      },
      "source": [
        "> ## **1) Model Define**"
      ]
    },
    {
      "cell_type": "markdown",
      "metadata": {
        "id": "8ZsPZ8WUU55m"
      },
      "source": [
        "- Feature Extraction Layer - <span style=\"color:orange\">***CNN***</span>"
      ]
    },
    {
      "cell_type": "code",
      "metadata": {
        "id": "2WF4VMKfU-DJ"
      },
      "source": [
        "from tensorflow.keras import models\n",
        "from tensorflow.keras import layers\n",
        "\n",
        "model = models.Sequential()\n",
        "model.add(layers.Conv2D(filters=32, kernel_size=(3, 3), activation='relu', input_shape=(28, 28, 1)))\n",
        "model.add(layers.MaxPool2D(pool_size=(2, 2)))\n",
        "model.add(layers.Conv2D(filters=64, kernel_size=(3, 3), activation='relu'))\n",
        "model.add(layers.MaxPool2D(pool_size=(2, 2)))\n",
        "model.add(layers.Conv2D(filters=64, kernel_size=(3, 3), activation='relu'))"
      ],
      "execution_count": null,
      "outputs": []
    },
    {
      "cell_type": "code",
      "metadata": {
        "colab": {
          "base_uri": "https://localhost:8080/"
        },
        "id": "naGjrNiqVxyB",
        "outputId": "ec09dfaa-4a25-47e5-b405-c5e4139d6d90"
      },
      "source": [
        "model.summary()"
      ],
      "execution_count": null,
      "outputs": [
        {
          "output_type": "stream",
          "text": [
            "Model: \"sequential\"\n",
            "_________________________________________________________________\n",
            "Layer (type)                 Output Shape              Param #   \n",
            "=================================================================\n",
            "conv2d (Conv2D)              (None, 26, 26, 32)        320       \n",
            "_________________________________________________________________\n",
            "max_pooling2d (MaxPooling2D) (None, 13, 13, 32)        0         \n",
            "_________________________________________________________________\n",
            "conv2d_1 (Conv2D)            (None, 11, 11, 64)        18496     \n",
            "_________________________________________________________________\n",
            "max_pooling2d_1 (MaxPooling2 (None, 5, 5, 64)          0         \n",
            "_________________________________________________________________\n",
            "conv2d_2 (Conv2D)            (None, 3, 3, 64)          36928     \n",
            "=================================================================\n",
            "Total params: 55,744\n",
            "Trainable params: 55,744\n",
            "Non-trainable params: 0\n",
            "_________________________________________________________________\n"
          ],
          "name": "stdout"
        }
      ]
    },
    {
      "cell_type": "markdown",
      "metadata": {
        "id": "-gSrvbDbVzBL"
      },
      "source": [
        "- Classification Layer - <span style=\"color:orange\">***DNN***</span>"
      ]
    },
    {
      "cell_type": "code",
      "metadata": {
        "id": "vhFIfnNRWKm2"
      },
      "source": [
        "model.add(layers.Flatten())\n",
        "model.add(layers.Dense(units=64, activation='relu'))\n",
        "model.add(layers.Dense(units=10, activation='softmax'))"
      ],
      "execution_count": null,
      "outputs": []
    },
    {
      "cell_type": "code",
      "metadata": {
        "colab": {
          "base_uri": "https://localhost:8080/"
        },
        "id": "z26mSfp2WdgZ",
        "outputId": "3cd847d2-4d94-4f62-ca78-e16ff882e2ba"
      },
      "source": [
        "model.summary()"
      ],
      "execution_count": null,
      "outputs": [
        {
          "output_type": "stream",
          "text": [
            "Model: \"sequential\"\n",
            "_________________________________________________________________\n",
            "Layer (type)                 Output Shape              Param #   \n",
            "=================================================================\n",
            "conv2d (Conv2D)              (None, 26, 26, 32)        320       \n",
            "_________________________________________________________________\n",
            "max_pooling2d (MaxPooling2D) (None, 13, 13, 32)        0         \n",
            "_________________________________________________________________\n",
            "conv2d_1 (Conv2D)            (None, 11, 11, 64)        18496     \n",
            "_________________________________________________________________\n",
            "max_pooling2d_1 (MaxPooling2 (None, 5, 5, 64)          0         \n",
            "_________________________________________________________________\n",
            "conv2d_2 (Conv2D)            (None, 3, 3, 64)          36928     \n",
            "_________________________________________________________________\n",
            "flatten (Flatten)            (None, 576)               0         \n",
            "_________________________________________________________________\n",
            "dense (Dense)                (None, 64)                36928     \n",
            "_________________________________________________________________\n",
            "dense_1 (Dense)              (None, 10)                650       \n",
            "=================================================================\n",
            "Total params: 93,322\n",
            "Trainable params: 93,322\n",
            "Non-trainable params: 0\n",
            "_________________________________________________________________\n"
          ],
          "name": "stdout"
        }
      ]
    },
    {
      "cell_type": "markdown",
      "metadata": {
        "id": "L2ko76e7Weoj"
      },
      "source": [
        "> ## **2) Model Compile**"
      ]
    },
    {
      "cell_type": "markdown",
      "metadata": {
        "id": "zAVqdgjkWtlM"
      },
      "source": [
        "- 모델 학습 방법 설정"
      ]
    },
    {
      "cell_type": "code",
      "metadata": {
        "id": "g2qX5GjEW5Rl"
      },
      "source": [
        "model.compile(loss='categorical_crossentropy',\n",
        "              optimizer='rmsprop',\n",
        "              metrics=['accuracy'])"
      ],
      "execution_count": null,
      "outputs": []
    },
    {
      "cell_type": "markdown",
      "metadata": {
        "id": "fLXtPAuFXAt5"
      },
      "source": [
        "> ## **3) Model Fit**"
      ]
    },
    {
      "cell_type": "markdown",
      "metadata": {
        "id": "WPaEUT6kXJNg"
      },
      "source": [
        "- 약 5분"
      ]
    },
    {
      "cell_type": "code",
      "metadata": {
        "colab": {
          "base_uri": "https://localhost:8080/"
        },
        "id": "jYl2z5EGXKbQ",
        "outputId": "eb2095b5-8683-4f57-ec38-80d0ce37cc37"
      },
      "source": [
        "%%time\n",
        "\n",
        "Hist_mnist = model.fit(X_train, y_train,\n",
        "                       epochs=100,\n",
        "                       batch_size=128,\n",
        "                       validation_split=0.2)"
      ],
      "execution_count": null,
      "outputs": [
        {
          "output_type": "stream",
          "text": [
            "Epoch 1/100\n",
            "375/375 [==============================] - 6s 12ms/step - loss: 0.2668 - accuracy: 0.9166 - val_loss: 0.0766 - val_accuracy: 0.9751\n",
            "Epoch 2/100\n",
            "375/375 [==============================] - 4s 10ms/step - loss: 0.0645 - accuracy: 0.9798 - val_loss: 0.0476 - val_accuracy: 0.9860\n",
            "Epoch 3/100\n",
            "375/375 [==============================] - 4s 10ms/step - loss: 0.0411 - accuracy: 0.9871 - val_loss: 0.0479 - val_accuracy: 0.9870\n",
            "Epoch 4/100\n",
            "375/375 [==============================] - 4s 10ms/step - loss: 0.0306 - accuracy: 0.9899 - val_loss: 0.0431 - val_accuracy: 0.9869\n",
            "Epoch 5/100\n",
            "375/375 [==============================] - 4s 10ms/step - loss: 0.0238 - accuracy: 0.9923 - val_loss: 0.0411 - val_accuracy: 0.9884\n",
            "Epoch 6/100\n",
            "375/375 [==============================] - 4s 10ms/step - loss: 0.0182 - accuracy: 0.9942 - val_loss: 0.0431 - val_accuracy: 0.9882\n",
            "Epoch 7/100\n",
            "375/375 [==============================] - 4s 10ms/step - loss: 0.0159 - accuracy: 0.9948 - val_loss: 0.0397 - val_accuracy: 0.9893\n",
            "Epoch 8/100\n",
            "375/375 [==============================] - 4s 11ms/step - loss: 0.0120 - accuracy: 0.9961 - val_loss: 0.0404 - val_accuracy: 0.9905\n",
            "Epoch 9/100\n",
            "375/375 [==============================] - 4s 10ms/step - loss: 0.0099 - accuracy: 0.9968 - val_loss: 0.0381 - val_accuracy: 0.9903\n",
            "Epoch 10/100\n",
            "375/375 [==============================] - 4s 10ms/step - loss: 0.0089 - accuracy: 0.9973 - val_loss: 0.0434 - val_accuracy: 0.9902\n",
            "Epoch 11/100\n",
            "375/375 [==============================] - 4s 10ms/step - loss: 0.0062 - accuracy: 0.9977 - val_loss: 0.0453 - val_accuracy: 0.9906\n",
            "Epoch 12/100\n",
            "375/375 [==============================] - 4s 10ms/step - loss: 0.0055 - accuracy: 0.9982 - val_loss: 0.0558 - val_accuracy: 0.9892\n",
            "Epoch 13/100\n",
            "375/375 [==============================] - 4s 11ms/step - loss: 0.0057 - accuracy: 0.9980 - val_loss: 0.0508 - val_accuracy: 0.9907\n",
            "Epoch 14/100\n",
            "375/375 [==============================] - 4s 10ms/step - loss: 0.0045 - accuracy: 0.9985 - val_loss: 0.0487 - val_accuracy: 0.9912\n",
            "Epoch 15/100\n",
            "375/375 [==============================] - 4s 10ms/step - loss: 0.0033 - accuracy: 0.9989 - val_loss: 0.0518 - val_accuracy: 0.9898\n",
            "Epoch 16/100\n",
            "375/375 [==============================] - 4s 11ms/step - loss: 0.0032 - accuracy: 0.9990 - val_loss: 0.0560 - val_accuracy: 0.9901\n",
            "Epoch 17/100\n",
            "375/375 [==============================] - 4s 10ms/step - loss: 0.0036 - accuracy: 0.9986 - val_loss: 0.0606 - val_accuracy: 0.9893\n",
            "Epoch 18/100\n",
            "375/375 [==============================] - 4s 10ms/step - loss: 0.0032 - accuracy: 0.9990 - val_loss: 0.0608 - val_accuracy: 0.9904\n",
            "Epoch 19/100\n",
            "375/375 [==============================] - 4s 10ms/step - loss: 0.0024 - accuracy: 0.9992 - val_loss: 0.0644 - val_accuracy: 0.9916\n",
            "Epoch 20/100\n",
            "375/375 [==============================] - 4s 11ms/step - loss: 0.0028 - accuracy: 0.9992 - val_loss: 0.0644 - val_accuracy: 0.9912\n",
            "Epoch 21/100\n",
            "375/375 [==============================] - 4s 10ms/step - loss: 0.0026 - accuracy: 0.9991 - val_loss: 0.0618 - val_accuracy: 0.9906\n",
            "Epoch 22/100\n",
            "375/375 [==============================] - 4s 10ms/step - loss: 0.0020 - accuracy: 0.9994 - val_loss: 0.0665 - val_accuracy: 0.9913\n",
            "Epoch 23/100\n",
            "375/375 [==============================] - 4s 10ms/step - loss: 0.0022 - accuracy: 0.9994 - val_loss: 0.0702 - val_accuracy: 0.9922\n",
            "Epoch 24/100\n",
            "375/375 [==============================] - 4s 10ms/step - loss: 0.0013 - accuracy: 0.9996 - val_loss: 0.0781 - val_accuracy: 0.9908\n",
            "Epoch 25/100\n",
            "375/375 [==============================] - 4s 11ms/step - loss: 0.0025 - accuracy: 0.9994 - val_loss: 0.0832 - val_accuracy: 0.9904\n",
            "Epoch 26/100\n",
            "375/375 [==============================] - 4s 11ms/step - loss: 0.0017 - accuracy: 0.9994 - val_loss: 0.0948 - val_accuracy: 0.9898\n",
            "Epoch 27/100\n",
            "375/375 [==============================] - 4s 10ms/step - loss: 0.0012 - accuracy: 0.9997 - val_loss: 0.0753 - val_accuracy: 0.9912\n",
            "Epoch 28/100\n",
            "375/375 [==============================] - 4s 10ms/step - loss: 0.0012 - accuracy: 0.9996 - val_loss: 0.0684 - val_accuracy: 0.9918\n",
            "Epoch 29/100\n",
            "375/375 [==============================] - 4s 11ms/step - loss: 0.0016 - accuracy: 0.9995 - val_loss: 0.0903 - val_accuracy: 0.9908\n",
            "Epoch 30/100\n",
            "375/375 [==============================] - 4s 10ms/step - loss: 0.0018 - accuracy: 0.9994 - val_loss: 0.0691 - val_accuracy: 0.9919\n",
            "Epoch 31/100\n",
            "375/375 [==============================] - 4s 10ms/step - loss: 0.0019 - accuracy: 0.9994 - val_loss: 0.0915 - val_accuracy: 0.9904\n",
            "Epoch 32/100\n",
            "375/375 [==============================] - 4s 10ms/step - loss: 0.0015 - accuracy: 0.9995 - val_loss: 0.0728 - val_accuracy: 0.9917\n",
            "Epoch 33/100\n",
            "375/375 [==============================] - 4s 10ms/step - loss: 0.0018 - accuracy: 0.9995 - val_loss: 0.0849 - val_accuracy: 0.9907\n",
            "Epoch 34/100\n",
            "375/375 [==============================] - 4s 10ms/step - loss: 0.0011 - accuracy: 0.9997 - val_loss: 0.0862 - val_accuracy: 0.9911\n",
            "Epoch 35/100\n",
            "375/375 [==============================] - 4s 10ms/step - loss: 5.7147e-04 - accuracy: 0.9998 - val_loss: 0.1037 - val_accuracy: 0.9917\n",
            "Epoch 36/100\n",
            "375/375 [==============================] - 4s 10ms/step - loss: 0.0020 - accuracy: 0.9995 - val_loss: 0.1184 - val_accuracy: 0.9908\n",
            "Epoch 37/100\n",
            "375/375 [==============================] - 4s 10ms/step - loss: 0.0012 - accuracy: 0.9996 - val_loss: 0.0987 - val_accuracy: 0.9919\n",
            "Epoch 38/100\n",
            "375/375 [==============================] - 4s 10ms/step - loss: 0.0020 - accuracy: 0.9995 - val_loss: 0.1036 - val_accuracy: 0.9918\n",
            "Epoch 39/100\n",
            "375/375 [==============================] - 4s 10ms/step - loss: 0.0015 - accuracy: 0.9996 - val_loss: 0.0920 - val_accuracy: 0.9922\n",
            "Epoch 40/100\n",
            "375/375 [==============================] - 4s 10ms/step - loss: 6.4843e-04 - accuracy: 0.9997 - val_loss: 0.1118 - val_accuracy: 0.9923\n",
            "Epoch 41/100\n",
            "375/375 [==============================] - 4s 11ms/step - loss: 0.0011 - accuracy: 0.9997 - val_loss: 0.1097 - val_accuracy: 0.9917\n",
            "Epoch 42/100\n",
            "375/375 [==============================] - 4s 10ms/step - loss: 9.4367e-04 - accuracy: 0.9998 - val_loss: 0.0944 - val_accuracy: 0.9912\n",
            "Epoch 43/100\n",
            "375/375 [==============================] - 4s 11ms/step - loss: 0.0012 - accuracy: 0.9997 - val_loss: 0.1081 - val_accuracy: 0.9917\n",
            "Epoch 44/100\n",
            "375/375 [==============================] - 4s 10ms/step - loss: 0.0020 - accuracy: 0.9995 - val_loss: 0.1045 - val_accuracy: 0.9906\n",
            "Epoch 45/100\n",
            "375/375 [==============================] - 4s 10ms/step - loss: 0.0014 - accuracy: 0.9996 - val_loss: 0.0992 - val_accuracy: 0.9913\n",
            "Epoch 46/100\n",
            "375/375 [==============================] - 4s 10ms/step - loss: 0.0012 - accuracy: 0.9998 - val_loss: 0.1334 - val_accuracy: 0.9905\n",
            "Epoch 47/100\n",
            "375/375 [==============================] - 4s 11ms/step - loss: 0.0017 - accuracy: 0.9997 - val_loss: 0.1007 - val_accuracy: 0.9913\n",
            "Epoch 48/100\n",
            "375/375 [==============================] - 4s 10ms/step - loss: 9.0013e-04 - accuracy: 0.9997 - val_loss: 0.1083 - val_accuracy: 0.9913\n",
            "Epoch 49/100\n",
            "375/375 [==============================] - 4s 10ms/step - loss: 8.9962e-04 - accuracy: 0.9997 - val_loss: 0.1192 - val_accuracy: 0.9908\n",
            "Epoch 50/100\n",
            "375/375 [==============================] - 4s 10ms/step - loss: 6.4356e-04 - accuracy: 0.9998 - val_loss: 0.1290 - val_accuracy: 0.9908\n",
            "Epoch 51/100\n",
            "375/375 [==============================] - 4s 10ms/step - loss: 6.4060e-04 - accuracy: 0.9999 - val_loss: 0.1235 - val_accuracy: 0.9910\n",
            "Epoch 52/100\n",
            "375/375 [==============================] - 4s 10ms/step - loss: 6.7070e-04 - accuracy: 0.9998 - val_loss: 0.1107 - val_accuracy: 0.9913\n",
            "Epoch 53/100\n",
            "375/375 [==============================] - 4s 11ms/step - loss: 0.0011 - accuracy: 0.9998 - val_loss: 0.1346 - val_accuracy: 0.9910\n",
            "Epoch 54/100\n",
            "375/375 [==============================] - 4s 10ms/step - loss: 0.0013 - accuracy: 0.9997 - val_loss: 0.1153 - val_accuracy: 0.9913\n",
            "Epoch 55/100\n",
            "375/375 [==============================] - 4s 10ms/step - loss: 0.0016 - accuracy: 0.9998 - val_loss: 0.1257 - val_accuracy: 0.9907\n",
            "Epoch 56/100\n",
            "375/375 [==============================] - 4s 10ms/step - loss: 7.2639e-04 - accuracy: 0.9999 - val_loss: 0.1364 - val_accuracy: 0.9910\n",
            "Epoch 57/100\n",
            "375/375 [==============================] - 4s 10ms/step - loss: 0.0011 - accuracy: 0.9999 - val_loss: 0.1373 - val_accuracy: 0.9911\n",
            "Epoch 58/100\n",
            "375/375 [==============================] - 4s 10ms/step - loss: 0.0018 - accuracy: 0.9995 - val_loss: 0.1196 - val_accuracy: 0.9903\n",
            "Epoch 59/100\n",
            "375/375 [==============================] - 4s 10ms/step - loss: 7.1411e-04 - accuracy: 0.9998 - val_loss: 0.1396 - val_accuracy: 0.9907\n",
            "Epoch 60/100\n",
            "375/375 [==============================] - 4s 11ms/step - loss: 4.1984e-04 - accuracy: 0.9999 - val_loss: 0.1466 - val_accuracy: 0.9905\n",
            "Epoch 61/100\n",
            "375/375 [==============================] - 4s 10ms/step - loss: 0.0018 - accuracy: 0.9998 - val_loss: 0.1401 - val_accuracy: 0.9902\n",
            "Epoch 62/100\n",
            "375/375 [==============================] - 4s 10ms/step - loss: 7.5448e-04 - accuracy: 0.9998 - val_loss: 0.1503 - val_accuracy: 0.9902\n",
            "Epoch 63/100\n",
            "375/375 [==============================] - 4s 10ms/step - loss: 9.0515e-04 - accuracy: 0.9999 - val_loss: 0.1302 - val_accuracy: 0.9917\n",
            "Epoch 64/100\n",
            "375/375 [==============================] - 4s 10ms/step - loss: 0.0016 - accuracy: 0.9998 - val_loss: 0.1391 - val_accuracy: 0.9904\n",
            "Epoch 65/100\n",
            "375/375 [==============================] - 4s 10ms/step - loss: 5.6659e-04 - accuracy: 0.9999 - val_loss: 0.1646 - val_accuracy: 0.9903\n",
            "Epoch 66/100\n",
            "375/375 [==============================] - 4s 10ms/step - loss: 0.0011 - accuracy: 0.9997 - val_loss: 0.1328 - val_accuracy: 0.9911\n",
            "Epoch 67/100\n",
            "375/375 [==============================] - 4s 10ms/step - loss: 6.8388e-04 - accuracy: 0.9999 - val_loss: 0.1392 - val_accuracy: 0.9906\n",
            "Epoch 68/100\n",
            "375/375 [==============================] - 4s 11ms/step - loss: 0.0012 - accuracy: 0.9998 - val_loss: 0.1367 - val_accuracy: 0.9911\n",
            "Epoch 69/100\n",
            "375/375 [==============================] - 4s 10ms/step - loss: 2.6877e-04 - accuracy: 0.9999 - val_loss: 0.1584 - val_accuracy: 0.9906\n",
            "Epoch 70/100\n",
            "375/375 [==============================] - 4s 10ms/step - loss: 8.4267e-04 - accuracy: 0.9999 - val_loss: 0.1821 - val_accuracy: 0.9908\n",
            "Epoch 71/100\n",
            "375/375 [==============================] - 4s 11ms/step - loss: 3.2019e-04 - accuracy: 0.9999 - val_loss: 0.1462 - val_accuracy: 0.9915\n",
            "Epoch 72/100\n",
            "375/375 [==============================] - 4s 10ms/step - loss: 0.0015 - accuracy: 0.9997 - val_loss: 0.1499 - val_accuracy: 0.9913\n",
            "Epoch 73/100\n",
            "375/375 [==============================] - 4s 10ms/step - loss: 1.6148e-04 - accuracy: 0.9999 - val_loss: 0.1753 - val_accuracy: 0.9915\n",
            "Epoch 74/100\n",
            "375/375 [==============================] - 4s 11ms/step - loss: 0.0014 - accuracy: 0.9998 - val_loss: 0.1738 - val_accuracy: 0.9908\n",
            "Epoch 75/100\n",
            "375/375 [==============================] - 4s 10ms/step - loss: 0.0011 - accuracy: 0.9998 - val_loss: 0.1670 - val_accuracy: 0.9911\n",
            "Epoch 76/100\n",
            "375/375 [==============================] - 4s 10ms/step - loss: 0.0019 - accuracy: 0.9996 - val_loss: 0.1721 - val_accuracy: 0.9903\n",
            "Epoch 77/100\n",
            "375/375 [==============================] - 4s 11ms/step - loss: 0.0013 - accuracy: 0.9997 - val_loss: 0.1525 - val_accuracy: 0.9906\n",
            "Epoch 78/100\n",
            "375/375 [==============================] - 4s 10ms/step - loss: 0.0011 - accuracy: 0.9998 - val_loss: 0.2202 - val_accuracy: 0.9889\n",
            "Epoch 79/100\n",
            "375/375 [==============================] - 4s 10ms/step - loss: 0.0012 - accuracy: 0.9997 - val_loss: 0.1624 - val_accuracy: 0.9907\n",
            "Epoch 80/100\n",
            "375/375 [==============================] - 4s 11ms/step - loss: 0.0013 - accuracy: 0.9998 - val_loss: 0.1556 - val_accuracy: 0.9911\n",
            "Epoch 81/100\n",
            "375/375 [==============================] - 4s 10ms/step - loss: 5.0290e-04 - accuracy: 0.9999 - val_loss: 0.1939 - val_accuracy: 0.9904\n",
            "Epoch 82/100\n",
            "375/375 [==============================] - 4s 10ms/step - loss: 0.0015 - accuracy: 0.9996 - val_loss: 0.1884 - val_accuracy: 0.9898\n",
            "Epoch 83/100\n",
            "375/375 [==============================] - 4s 10ms/step - loss: 8.3256e-04 - accuracy: 0.9999 - val_loss: 0.1851 - val_accuracy: 0.9902\n",
            "Epoch 84/100\n",
            "375/375 [==============================] - 4s 10ms/step - loss: 0.0012 - accuracy: 0.9997 - val_loss: 0.1582 - val_accuracy: 0.9906\n",
            "Epoch 85/100\n",
            "375/375 [==============================] - 4s 11ms/step - loss: 2.4924e-04 - accuracy: 1.0000 - val_loss: 0.1762 - val_accuracy: 0.9906\n",
            "Epoch 86/100\n",
            "375/375 [==============================] - 4s 10ms/step - loss: 4.5788e-04 - accuracy: 0.9999 - val_loss: 0.1892 - val_accuracy: 0.9898\n",
            "Epoch 87/100\n",
            "375/375 [==============================] - 4s 10ms/step - loss: 4.3260e-04 - accuracy: 0.9999 - val_loss: 0.1765 - val_accuracy: 0.9904\n",
            "Epoch 88/100\n",
            "375/375 [==============================] - 4s 11ms/step - loss: 2.1135e-04 - accuracy: 1.0000 - val_loss: 0.1657 - val_accuracy: 0.9919\n",
            "Epoch 89/100\n",
            "375/375 [==============================] - 4s 10ms/step - loss: 0.0018 - accuracy: 0.9998 - val_loss: 0.1493 - val_accuracy: 0.9929\n",
            "Epoch 90/100\n",
            "375/375 [==============================] - 4s 11ms/step - loss: 0.0012 - accuracy: 0.9998 - val_loss: 0.2134 - val_accuracy: 0.9897\n",
            "Epoch 91/100\n",
            "375/375 [==============================] - 4s 10ms/step - loss: 3.7895e-04 - accuracy: 0.9999 - val_loss: 0.1748 - val_accuracy: 0.9918\n",
            "Epoch 92/100\n",
            "375/375 [==============================] - 4s 11ms/step - loss: 3.0584e-05 - accuracy: 1.0000 - val_loss: 0.2098 - val_accuracy: 0.9907\n",
            "Epoch 93/100\n",
            "375/375 [==============================] - 4s 10ms/step - loss: 6.9295e-04 - accuracy: 0.9998 - val_loss: 0.2597 - val_accuracy: 0.9899\n",
            "Epoch 94/100\n",
            "375/375 [==============================] - 4s 10ms/step - loss: 0.0014 - accuracy: 0.9998 - val_loss: 0.2081 - val_accuracy: 0.9918\n",
            "Epoch 95/100\n",
            "375/375 [==============================] - 4s 11ms/step - loss: 2.5274e-04 - accuracy: 0.9999 - val_loss: 0.1838 - val_accuracy: 0.9908\n",
            "Epoch 96/100\n",
            "375/375 [==============================] - 4s 10ms/step - loss: 1.1191e-06 - accuracy: 1.0000 - val_loss: 0.1834 - val_accuracy: 0.9912\n",
            "Epoch 97/100\n",
            "375/375 [==============================] - 4s 10ms/step - loss: 2.4388e-09 - accuracy: 1.0000 - val_loss: 0.1846 - val_accuracy: 0.9916\n",
            "Epoch 98/100\n",
            "375/375 [==============================] - 4s 10ms/step - loss: 7.4506e-12 - accuracy: 1.0000 - val_loss: 0.1849 - val_accuracy: 0.9916\n",
            "Epoch 99/100\n",
            "375/375 [==============================] - 4s 10ms/step - loss: 0.0000e+00 - accuracy: 1.0000 - val_loss: 0.1850 - val_accuracy: 0.9913\n",
            "Epoch 100/100\n",
            "375/375 [==============================] - 4s 10ms/step - loss: 0.0000e+00 - accuracy: 1.0000 - val_loss: 0.1852 - val_accuracy: 0.9913\n",
            "CPU times: user 6min 13s, sys: 33.8 s, total: 6min 47s\n",
            "Wall time: 7min 22s\n"
          ],
          "name": "stdout"
        }
      ]
    },
    {
      "cell_type": "markdown",
      "metadata": {
        "id": "J5sU5jslXXKO"
      },
      "source": [
        "> ## **4) 학습 결과 시각화**"
      ]
    },
    {
      "cell_type": "markdown",
      "metadata": {
        "id": "92B7SbIDXmN6"
      },
      "source": [
        "- Loss Visualization"
      ]
    },
    {
      "cell_type": "code",
      "metadata": {
        "id": "XNIeeXycXohU",
        "colab": {
          "base_uri": "https://localhost:8080/",
          "height": 404
        },
        "outputId": "cf2557e2-d15e-4f7c-d352-a47367fcd133"
      },
      "source": [
        "import matplotlib.pyplot as plt\n",
        "\n",
        "epochs = range(1, len(Hist_mnist.history['loss']) + 1)\n",
        "\n",
        "plt. figure(figsize=(9, 6))\n",
        "plt.plot(epochs, Hist_mnist.history['loss'])\n",
        "plt.plot(epochs, Hist_mnist.history['val_loss'])\n",
        "# plt.ylim(0, 0.4)\n",
        "plt.title('Training & & Validation Loss')\n",
        "plt.xlabel('Epochs')\n",
        "plt.ylabel('Loss')\n",
        "plt.legend(['Training Loss', 'Validation Loss'])\n",
        "plt.grid()\n",
        "plt.show()"
      ],
      "execution_count": null,
      "outputs": [
        {
          "output_type": "display_data",
          "data": {
            "image/png": "[encoded data removed]",
            "text/plain": [
              "<Figure size 648x432 with 1 Axes>"
            ]
          },
          "metadata": {
            "tags": [],
            "needs_background": "light"
          }
        }
      ]
    },
    {
      "cell_type": "markdown",
      "metadata": {
        "id": "_WAgyQA6YLYO"
      },
      "source": [
        "> ## **5) Model Evaluate**"
      ]
    },
    {
      "cell_type": "markdown",
      "metadata": {
        "id": "CqF4nYdtYTQm"
      },
      "source": [
        "- Loss & Accuracy"
      ]
    },
    {
      "cell_type": "code",
      "metadata": {
        "id": "YEO4StZFYVUw",
        "colab": {
          "base_uri": "https://localhost:8080/"
        },
        "outputId": "eabc0df0-d5d2-47cf-92a1-6fda5508ee3e"
      },
      "source": [
        "loss, accuracy = model.evaluate(X_test, y_test)\n",
        "\n",
        "print('Loss = {:.5f}'.format(loss))\n",
        "print('Accuracy = {:.5f}'.format(accuracy))"
      ],
      "execution_count": null,
      "outputs": [
        {
          "output_type": "stream",
          "text": [
            "313/313 [==============================] - 1s 4ms/step - loss: 0.1283 - accuracy: 0.9936\n",
            "Loss = 0.12826\n",
            "Accuracy = 0.99360\n"
          ],
          "name": "stdout"
        }
      ]
    },
    {
      "cell_type": "code",
      "metadata": {
        "id": "x0Y2p_ynYgFu"
      },
      "source": [
        ""
      ],
      "execution_count": null,
      "outputs": []
    }
  ]
}