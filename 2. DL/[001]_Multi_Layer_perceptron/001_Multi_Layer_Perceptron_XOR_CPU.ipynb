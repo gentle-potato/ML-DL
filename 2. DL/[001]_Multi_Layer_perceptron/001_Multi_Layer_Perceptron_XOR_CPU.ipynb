{
  "nbformat": 4,
  "nbformat_minor": 0,
  "metadata": {
    "colab": {
      "name": "001_Multi_Layer_Perceptron_XOR_CPU.ipynb",
      "provenance": [],
      "collapsed_sections": []
    },
    "kernelspec": {
      "name": "python3",
      "display_name": "Python 3"
    },
    "language_info": {
      "name": "python"
    }
  },
  "cells": [
    {
      "cell_type": "markdown",
      "metadata": {
        "id": "vZUaB62znFHz"
      },
      "source": [
        "# **I. 수치 미분(Numerical Derivative)**"
      ]
    },
    {
      "cell_type": "code",
      "metadata": {
        "id": "U-eCYa7QnUNQ"
      },
      "source": [
        "import warnings\n",
        "warnings.filterwarnings('ignore')"
      ],
      "execution_count": 1,
      "outputs": []
    },
    {
      "cell_type": "markdown",
      "metadata": {
        "id": "JCO5464EngfE"
      },
      "source": [
        "> ## **1) Import Numpy**"
      ]
    },
    {
      "cell_type": "code",
      "metadata": {
        "id": "6MA91241nj28"
      },
      "source": [
        "import numpy as np"
      ],
      "execution_count": 2,
      "outputs": []
    },
    {
      "cell_type": "markdown",
      "metadata": {
        "id": "YXNqrfmxnk-h"
      },
      "source": [
        "> ## **2) gradient() 함수 정의**"
      ]
    },
    {
      "cell_type": "markdown",
      "metadata": {
        "id": "wU1kJv4InocF"
      },
      "source": [
        "- 다변수 함수의 수치 미분"
      ]
    },
    {
      "cell_type": "code",
      "metadata": {
        "id": "i5aLVGB9nqxe"
      },
      "source": [
        "def gradient(machine, param):\n",
        "\n",
        "  if param.ndim == 1:\n",
        "    temp_param = param\n",
        "    delta = 0.00005\n",
        "    learned_param = np.zeros(param.shape)\n",
        "\n",
        "    for index in range(len(param)):\n",
        "      target_param = float(temp_param[index])\n",
        "      temp_param[index] = target_param + delta\n",
        "      param_plus_delta = machine(temp_param)\n",
        "      temp_param[index] = target_param - delta\n",
        "      param_minus_delta = machine(temp_param)\n",
        "      learned_param[index] = (param_plus_delta - param_minus_delta) / (2 * delta)\n",
        "      temp_param[index] = target_param\n",
        "    \n",
        "    return learned_param\n",
        "  \n",
        "  elif param.ndim == 2:\n",
        "    temp_param = param\n",
        "    delta = 0.00005\n",
        "    learned_param = np.zeros(param.shape)\n",
        "\n",
        "    rows = param.shape[0]\n",
        "    columns = param.shape[1]\n",
        "\n",
        "    for row in range(rows):\n",
        "      for column in range(columns):\n",
        "        target_param = float(temp_param[row, column])\n",
        "        temp_param[row, column] = target_param + delta\n",
        "        param_plus_delta = machine(temp_param)\n",
        "        temp_param[row, column] = target_param - delta\n",
        "        param_minus_delta = machine(temp_param)\n",
        "        learned_param[row, column] = (param_plus_delta - param_minus_delta) / (2 * delta)\n",
        "        temp_param[row, column] = target_param\n",
        "    \n",
        "    return learned_param"
      ],
      "execution_count": 3,
      "outputs": []
    },
    {
      "cell_type": "markdown",
      "metadata": {
        "id": "ctnDWbROqRvj"
      },
      "source": [
        "# **Logic Gate() - 'AND', 'OR', 'NAND**"
      ]
    },
    {
      "cell_type": "markdown",
      "metadata": {
        "id": "ddDmw5znzDKE"
      },
      "source": [
        "> ## **1) sigmoid() 함수 정의**"
      ]
    },
    {
      "cell_type": "code",
      "metadata": {
        "id": "-hhEw_OazGa3"
      },
      "source": [
        "import numpy as np\n",
        "\n",
        "def sigmoid(x):\n",
        "  y_hat = 1 / (1 + np.exp(-x))\n",
        "  return y_hat"
      ],
      "execution_count": 4,
      "outputs": []
    },
    {
      "cell_type": "markdown",
      "metadata": {
        "id": "bkKAFdbizPiS"
      },
      "source": [
        "> ## **2) LogicGate 클래스 선언**"
      ]
    },
    {
      "cell_type": "code",
      "metadata": {
        "id": "oIWD1vBAzTKw"
      },
      "source": [
        "class LogicGate:\n",
        "\n",
        "  def __init__(self, gate_Type, X_input, y_output):\n",
        "\n",
        "    # gate_Type 문자열 지정 Member\n",
        "    self.Type = gate_Type\n",
        "\n",
        "    # X_input, y_output Member 초기화\n",
        "    self.X_input = X_input.reshape(4, 2)\n",
        "    self.y_output = y_output.reshape(4, 1)\n",
        "\n",
        "    # W, b Member 초기화\n",
        "    self.W = np.random.rand(2, 1)\n",
        "    self.b = np.random.rand(1)\n",
        "\n",
        "    # Learning_rate Member 지정\n",
        "    self.learning_rate = 0.01\n",
        "  \n",
        "  # Cost_Function(CEE) Method\n",
        "  def cost_func(self):\n",
        "    z = np.dot(self.X_input, self.W) + self.b\n",
        "    y_hat = sigmoid(z)\n",
        "    delta = 0.00001\n",
        "    return -np.sum(self.y_output * np.log(y_hat + delta) + (1 - self.y_output) * np.log((1 - y_hat) + delta))\n",
        "  \n",
        "  # Learning Method\n",
        "  def learn(self):\n",
        "    machine = lambda x: self.cost_func()\n",
        "    print('Initial Cost =', self.cost_func())\n",
        "\n",
        "    for step in range(10001):\n",
        "      self.W = self.W - self.learning_rate * gradient(machine, self.W)\n",
        "      self.b = self.b - self.learning_rate * gradient(machine, self.b)\n",
        "\n",
        "      if (step % 1000 == 0):\n",
        "        print('Step =', step, 'Cost =', self.cost_func())\n",
        "  \n",
        "  # Predict Method\n",
        "  def predict(self, input_data):\n",
        "\n",
        "    z = np.dot(input_data, self.W) + self.b\n",
        "    y_prob = sigmoid(z)\n",
        "\n",
        "    if y_prob > 0.5:\n",
        "      result = 1\n",
        "    \n",
        "    else:\n",
        "      result = 0\n",
        "    \n",
        "    return y_prob, result"
      ],
      "execution_count": 5,
      "outputs": []
    },
    {
      "cell_type": "markdown",
      "metadata": {
        "id": "6V7tUkx4j90K"
      },
      "source": [
        "> ## **3) AND_Gate**"
      ]
    },
    {
      "cell_type": "markdown",
      "metadata": {
        "id": "FgLyNNYtkB9r"
      },
      "source": [
        "- X_input, y_output 지정"
      ]
    },
    {
      "cell_type": "code",
      "metadata": {
        "id": "mKpIVvmZkG-u"
      },
      "source": [
        "X_input  = np.array([[0, 0], [0, 1], [1, 0], [1, 1]])\n",
        "y_output = np.array([0, 0, 0, 1])"
      ],
      "execution_count": 6,
      "outputs": []
    },
    {
      "cell_type": "markdown",
      "metadata": {
        "id": "Qz6GeZ3ikT5H"
      },
      "source": [
        "- AND Gate 객체 생성 및 학습"
      ]
    },
    {
      "cell_type": "code",
      "metadata": {
        "colab": {
          "base_uri": "https://localhost:8080/"
        },
        "id": "ltVpqfRDkg2c",
        "outputId": "a1e4b4ae-7094-4e55-c3e0-a693b816ed5c"
      },
      "source": [
        "AND_Gate = LogicGate('AND GATE', X_input, y_output)\n",
        "\n",
        "AND_Gate.learn()"
      ],
      "execution_count": 7,
      "outputs": [
        {
          "output_type": "stream",
          "text": [
            "Initial Cost = 3.1954649857946684\n",
            "Step = 0 Cost = 3.168960338196716\n",
            "Step = 1000 Cost = 1.0116054689373557\n",
            "Step = 2000 Cost = 0.662057130720771\n",
            "Step = 3000 Cost = 0.4923959512487791\n",
            "Step = 4000 Cost = 0.3908877609613125\n",
            "Step = 5000 Cost = 0.3233207445732245\n",
            "Step = 6000 Cost = 0.2751973056444791\n",
            "Step = 7000 Cost = 0.23924713681949555\n",
            "Step = 8000 Cost = 0.21141297153574218\n",
            "Step = 9000 Cost = 0.18925249948945913\n",
            "Step = 10000 Cost = 0.17120891456110726\n"
          ],
          "name": "stdout"
        }
      ]
    },
    {
      "cell_type": "markdown",
      "metadata": {
        "id": "Am8kxs9-ktl8"
      },
      "source": [
        "- AND_Gate 테스트"
      ]
    },
    {
      "cell_type": "code",
      "metadata": {
        "colab": {
          "base_uri": "https://localhost:8080/"
        },
        "id": "6WP3CXuh1GmZ",
        "outputId": "7bba9191-b9f2-40c0-d566-59ddfb23375a"
      },
      "source": [
        "print(AND_Gate.Type, '\\n')\n",
        "\n",
        "test_data = np.array([[0, 0], [0, 1], [1, 0], [1, 1]])\n",
        "\n",
        "for input_data in test_data:\n",
        "  (sigmoid_val, logical_val) = AND_Gate.predict(input_data)\n",
        "  print(input_data, '=', logical_val)"
      ],
      "execution_count": 8,
      "outputs": [
        {
          "output_type": "stream",
          "text": [
            "AND GATE \n",
            "\n",
            "[0 0] = 0\n",
            "[0 1] = 0\n",
            "[1 0] = 0\n",
            "[1 1] = 1\n"
          ],
          "name": "stdout"
        }
      ]
    },
    {
      "cell_type": "markdown",
      "metadata": {
        "id": "u8jWvJYd1wz2"
      },
      "source": [
        "> ## **4) OR_Gate**"
      ]
    },
    {
      "cell_type": "markdown",
      "metadata": {
        "id": "658F04Ue11IF"
      },
      "source": [
        "- X_input, y_output"
      ]
    },
    {
      "cell_type": "code",
      "metadata": {
        "id": "H83cUKRh13sk"
      },
      "source": [
        "X_input  = np.array([[0, 0], [0, 1], [1, 0], [1, 1]])\n",
        "y_output = np.array([0, 1, 1, 1])"
      ],
      "execution_count": 9,
      "outputs": []
    },
    {
      "cell_type": "markdown",
      "metadata": {
        "id": "YsZ1onBQ1-13"
      },
      "source": [
        "- OR_Gate 객체 생성 및 학습"
      ]
    },
    {
      "cell_type": "code",
      "metadata": {
        "colab": {
          "base_uri": "https://localhost:8080/"
        },
        "id": "y8hNhL702BU1",
        "outputId": "74aa3dac-0cf4-4c66-fb91-bc6369b11897"
      },
      "source": [
        "OR_Gate = LogicGate('OR_GATE', X_input, y_output)\n",
        "\n",
        "OR_Gate.learn()"
      ],
      "execution_count": 10,
      "outputs": [
        {
          "output_type": "stream",
          "text": [
            "Initial Cost = 1.6117715825756775\n",
            "Step = 0 Cost = 1.6095540470194263\n",
            "Step = 1000 Cost = 0.6792490837156622\n",
            "Step = 2000 Cost = 0.4159212352141876\n",
            "Step = 3000 Cost = 0.29552126051544947\n",
            "Step = 4000 Cost = 0.22765512401639398\n",
            "Step = 5000 Cost = 0.1844821713017988\n",
            "Step = 6000 Cost = 0.1547511771918616\n",
            "Step = 7000 Cost = 0.13309779528399696\n",
            "Step = 8000 Cost = 0.11665744775819654\n",
            "Step = 9000 Cost = 0.1037679431236311\n",
            "Step = 10000 Cost = 0.09340141339130796\n"
          ],
          "name": "stdout"
        }
      ]
    },
    {
      "cell_type": "markdown",
      "metadata": {
        "id": "65vGENxH2NDq"
      },
      "source": [
        "- OR_Gate 테스트"
      ]
    },
    {
      "cell_type": "code",
      "metadata": {
        "colab": {
          "base_uri": "https://localhost:8080/"
        },
        "id": "VUT-8NfQ2f5j",
        "outputId": "607ff6ed-acd2-4de4-b15a-b322b48163eb"
      },
      "source": [
        "print(OR_Gate.Type, '\\n')\n",
        "\n",
        "test_data = np.array([[0, 0], [0, 1], [1, 0], [1, 1]])\n",
        "\n",
        "for input_data in test_data:\n",
        "  (sigmoid_val, logical_val) = OR_Gate.predict(input_data)\n",
        "  print(input_data, '=', logical_val)"
      ],
      "execution_count": 11,
      "outputs": [
        {
          "output_type": "stream",
          "text": [
            "OR_GATE \n",
            "\n",
            "[0 0] = 0\n",
            "[0 1] = 1\n",
            "[1 0] = 1\n",
            "[1 1] = 1\n"
          ],
          "name": "stdout"
        }
      ]
    },
    {
      "cell_type": "markdown",
      "metadata": {
        "id": "nZWo3rtz2yaI"
      },
      "source": [
        "> ## **5) NAND_Gate**"
      ]
    },
    {
      "cell_type": "markdown",
      "metadata": {
        "id": "a5RyWDA024Hl"
      },
      "source": [
        "- X_input, y_output"
      ]
    },
    {
      "cell_type": "code",
      "metadata": {
        "id": "JLfSgGgS28Pk"
      },
      "source": [
        "X_input  = np.array([[0, 0], [0, 1], [1, 0], [1, 1]])\n",
        "y_output = np.array([1, 1, 1, 0])"
      ],
      "execution_count": 12,
      "outputs": []
    },
    {
      "cell_type": "markdown",
      "metadata": {
        "id": "sDVSgr7Q2_VB"
      },
      "source": [
        "- NAND_Gate 객체 생성 및 학습"
      ]
    },
    {
      "cell_type": "code",
      "metadata": {
        "colab": {
          "base_uri": "https://localhost:8080/"
        },
        "id": "WCP7h5cR3Cnz",
        "outputId": "5025ce78-e729-4602-8be8-c70f6ee5b4a6"
      },
      "source": [
        "NAND_Gate = LogicGate('NAND_GATE', X_input, y_output)\n",
        "\n",
        "NAND_Gate.learn()"
      ],
      "execution_count": 13,
      "outputs": [
        {
          "output_type": "stream",
          "text": [
            "Initial Cost = 2.8277648226391134\n",
            "Step = 0 Cost = 2.819046618101127\n",
            "Step = 1000 Cost = 1.036615106871588\n",
            "Step = 2000 Cost = 0.6723948878123792\n",
            "Step = 3000 Cost = 0.4981511854738206\n",
            "Step = 4000 Cost = 0.39455857979253617\n",
            "Step = 5000 Cost = 0.3258605319106197\n",
            "Step = 6000 Cost = 0.27705477487742713\n",
            "Step = 7000 Cost = 0.2406620036282845\n",
            "Step = 8000 Cost = 0.21252493424071162\n",
            "Step = 9000 Cost = 0.19014838480663326\n",
            "Step = 10000 Cost = 0.17194545852516133\n"
          ],
          "name": "stdout"
        }
      ]
    },
    {
      "cell_type": "code",
      "metadata": {
        "colab": {
          "base_uri": "https://localhost:8080/"
        },
        "id": "2y6fCDhz3Mn9",
        "outputId": "b2320a1a-daff-48f7-8c5f-645d2b71ea60"
      },
      "source": [
        "print(NAND_Gate.Type, '\\n')\n",
        "\n",
        "test_data = np.array([[0, 0], [0, 1], [1, 0], [1, 1]])\n",
        "\n",
        "for input_data in test_data:\n",
        "  (sigmoid_val, logical_val) = NAND_Gate.predict(input_data)\n",
        "  print(input_data, '=', logical_val)"
      ],
      "execution_count": 14,
      "outputs": [
        {
          "output_type": "stream",
          "text": [
            "NAND_GATE \n",
            "\n",
            "[0 0] = 1\n",
            "[0 1] = 1\n",
            "[1 0] = 1\n",
            "[1 1] = 0\n"
          ],
          "name": "stdout"
        }
      ]
    },
    {
      "cell_type": "markdown",
      "metadata": {
        "id": "M6044Ne63UGo"
      },
      "source": [
        "# **III. XOR_Gate Issue**"
      ]
    },
    {
      "cell_type": "markdown",
      "metadata": {
        "id": "3MAFg7mJ3cuz"
      },
      "source": [
        "> ## **1) XOR_Gate Failure**"
      ]
    },
    {
      "cell_type": "markdown",
      "metadata": {
        "id": "AM38KWed3izZ"
      },
      "source": [
        "- X_input, y_output"
      ]
    },
    {
      "cell_type": "code",
      "metadata": {
        "id": "qYev4JUb3k2Y"
      },
      "source": [
        "X_input  = np.array([[0, 0], [0, 1], [1, 0], [1, 1]])\n",
        "y_output = np.array([0, 1, 1, 0])"
      ],
      "execution_count": 15,
      "outputs": []
    },
    {
      "cell_type": "markdown",
      "metadata": {
        "id": "UaIJJZle3rav"
      },
      "source": [
        "- XOR_Gate 객체 생성 및 학습"
      ]
    },
    {
      "cell_type": "code",
      "metadata": {
        "colab": {
          "base_uri": "https://localhost:8080/"
        },
        "id": "Qw2KTfwK3uOw",
        "outputId": "202e0ede-0002-4a40-8d55-b26a153408bf"
      },
      "source": [
        "XOR_Gate = LogicGate('XOR_GATE', X_input, y_output)\n",
        "\n",
        "XOR_Gate.learn()"
      ],
      "execution_count": 16,
      "outputs": [
        {
          "output_type": "stream",
          "text": [
            "Initial Cost = 4.033014355255624\n",
            "Step = 0 Cost = 4.005206832359088\n",
            "Step = 1000 Cost = 2.7725948006008703\n",
            "Step = 2000 Cost = 2.772512098330756\n",
            "Step = 3000 Cost = 2.7725088653492316\n",
            "Step = 4000 Cost = 2.7725087291126016\n",
            "Step = 5000 Cost = 2.7725087232994134\n",
            "Step = 6000 Cost = 2.7725087230508745\n",
            "Step = 7000 Cost = 2.772508723040245\n",
            "Step = 8000 Cost = 2.772508723039791\n",
            "Step = 9000 Cost = 2.7725087230397722\n",
            "Step = 10000 Cost = 2.7725087230397714\n"
          ],
          "name": "stdout"
        }
      ]
    },
    {
      "cell_type": "markdown",
      "metadata": {
        "id": "_rQDYVj032kr"
      },
      "source": [
        "- XOR_Gate 테스트"
      ]
    },
    {
      "cell_type": "code",
      "metadata": {
        "colab": {
          "base_uri": "https://localhost:8080/"
        },
        "id": "QpR4aX_t39d6",
        "outputId": "cf9eff71-5b15-475a-8cd3-0529ccefd9f0"
      },
      "source": [
        "print(XOR_Gate.Type, '\\n')\n",
        "\n",
        "test_data = np.array([[0, 0], [0, 1], [1, 0], [1, 1]])\n",
        "\n",
        "for input_data in test_data:\n",
        "  (sigmoid_val, logical_val) = XOR_Gate.predict(input_data)\n",
        "  print(input_data, '=', logical_val)"
      ],
      "execution_count": 17,
      "outputs": [
        {
          "output_type": "stream",
          "text": [
            "XOR_GATE \n",
            "\n",
            "[0 0] = 0\n",
            "[0 1] = 0\n",
            "[1 0] = 0\n",
            "[1 1] = 1\n"
          ],
          "name": "stdout"
        }
      ]
    },
    {
      "cell_type": "markdown",
      "metadata": {
        "id": "WMNGlk4-4D1G"
      },
      "source": [
        "**예측 틀림...!**"
      ]
    },
    {
      "cell_type": "markdown",
      "metadata": {
        "id": "uvxuEjFH4JJ7"
      },
      "source": [
        "> # **2) XOR_Gate Succeed**"
      ]
    },
    {
      "cell_type": "markdown",
      "metadata": {
        "id": "et11Ddta4T21"
      },
      "source": [
        "- XOR를 (NAND + OR) 계층 및 AND 계층의 조합으로 연산\n",
        "- 이전 학습된 Parameter로 XOR 수행"
      ]
    },
    {
      "cell_type": "code",
      "metadata": {
        "id": "qY4Q3Xdt5JhY"
      },
      "source": [
        "input_data = np.array([[0, 0], [0, 1], [1, 0], [1, 1]])\n",
        "\n",
        "HL1_1 = []   # NAND 출력\n",
        "HL1_2 = []   # OR   출력\n",
        "\n",
        "new_input_data = []   # AND      입력\n",
        "final_output = []     # AND(XOR) 출력\n",
        "\n",
        "for index in range(len(input_data)):\n",
        "\n",
        "  HL1_1 = NAND_Gate.predict(input_data[index])   # NAND 출력\n",
        "  HL1_2 = OR_Gate.predict(input_data[index])     # OR   출력\n",
        "\n",
        "  new_input_data.append(HL1_1[-1])   # AND 입력\n",
        "  new_input_data.append(HL1_2[-1])   # AND 입력\n",
        "\n",
        "  (sigmoid_val, logical_val) = AND_Gate.predict(np.array(new_input_data))\n",
        "\n",
        "  final_output.append(logical_val)   # AND(XOR) 출력\n",
        "  new_input_data = []                # AND 입력 초기화"
      ],
      "execution_count": 18,
      "outputs": []
    },
    {
      "cell_type": "code",
      "metadata": {
        "colab": {
          "base_uri": "https://localhost:8080/"
        },
        "id": "cD9PqOnO6YB8",
        "outputId": "1c9f6a92-0cd2-4d6c-be89-82119ace6f4f"
      },
      "source": [
        "print(XOR_Gate.Type, '\\n')\n",
        "\n",
        "for index in range(len(input_data)):\n",
        "  print(input_data[index], '=', final_output[index])"
      ],
      "execution_count": 19,
      "outputs": [
        {
          "output_type": "stream",
          "text": [
            "XOR_GATE \n",
            "\n",
            "[0 0] = 0\n",
            "[0 1] = 1\n",
            "[1 0] = 1\n",
            "[1 1] = 0\n"
          ],
          "name": "stdout"
        }
      ]
    },
    {
      "cell_type": "code",
      "metadata": {
        "id": "rQegOzSA6lN9"
      },
      "source": [
        ""
      ],
      "execution_count": 19,
      "outputs": []
    }
  ]
}