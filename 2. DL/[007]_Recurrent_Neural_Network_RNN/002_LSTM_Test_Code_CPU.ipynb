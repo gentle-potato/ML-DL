{
  "nbformat": 4,
  "nbformat_minor": 0,
  "metadata": {
    "colab": {
      "name": "002_LSTM_Test_Code_CPU.ipynb",
      "provenance": [],
      "collapsed_sections": [],
      "toc_visible": true
    },
    "kernelspec": {
      "name": "python3",
      "display_name": "Python 3"
    },
    "language_info": {
      "name": "python"
    }
  },
  "cells": [
    {
      "cell_type": "markdown",
      "metadata": {
        "id": "whEsM7PIHEBY"
      },
      "source": [
        "# **LSTM Test Code**"
      ]
    },
    {
      "cell_type": "code",
      "metadata": {
        "id": "uPtpNSPlKo2C"
      },
      "source": [
        "import warnings\n",
        "warnings.filterwarnings('ignore')"
      ],
      "execution_count": 1,
      "outputs": []
    },
    {
      "cell_type": "markdown",
      "metadata": {
        "id": "eu6PjBaSKwBY"
      },
      "source": [
        "> ## **Import Packages**"
      ]
    },
    {
      "cell_type": "code",
      "metadata": {
        "id": "EBa7WGYtKycG"
      },
      "source": [
        "import numpy as np\n",
        "import matplotlib.pyplot as plt"
      ],
      "execution_count": 2,
      "outputs": []
    },
    {
      "cell_type": "markdown",
      "metadata": {
        "id": "ZgHquaTyK0FH"
      },
      "source": [
        "# **I. LSTM - without Normalization**"
      ]
    },
    {
      "cell_type": "markdown",
      "metadata": {
        "id": "b7gyCR-2K3ml"
      },
      "source": [
        "> ## **1) Sample Data**"
      ]
    },
    {
      "cell_type": "markdown",
      "metadata": {
        "id": "K5xEtw4zK7AN"
      },
      "source": [
        "- Inputs 데이터 생성 → (100, 5, 1)"
      ]
    },
    {
      "cell_type": "code",
      "metadata": {
        "colab": {
          "base_uri": "https://localhost:8080/"
        },
        "id": "g7B-Len_LA3L",
        "outputId": "6d17092f-0571-4aa5-ab14-bd345494f07d"
      },
      "source": [
        "X = [[[i + j] for i in range(5)] for j in range(100)]\n",
        "\n",
        "X[:3], X[-3:]"
      ],
      "execution_count": 3,
      "outputs": [
        {
          "output_type": "execute_result",
          "data": {
            "text/plain": [
              "([[[0], [1], [2], [3], [4]],\n",
              "  [[1], [2], [3], [4], [5]],\n",
              "  [[2], [3], [4], [5], [6]]],\n",
              " [[[97], [98], [99], [100], [101]],\n",
              "  [[98], [99], [100], [101], [102]],\n",
              "  [[99], [100], [101], [102], [103]]])"
            ]
          },
          "metadata": {
            "tags": []
          },
          "execution_count": 3
        }
      ]
    },
    {
      "cell_type": "markdown",
      "metadata": {
        "id": "dStmTyBgLSQw"
      },
      "source": [
        "- Outputs 데이터 생성 → (100, 1)"
      ]
    },
    {
      "cell_type": "code",
      "metadata": {
        "colab": {
          "base_uri": "https://localhost:8080/"
        },
        "id": "cLb03GbBLZTb",
        "outputId": "2ca52be3-53c1-4272-d175-554e07d931b4"
      },
      "source": [
        "y = [(i + 5) for i in range(100)]\n",
        "\n",
        "y[:3], y[-3:]"
      ],
      "execution_count": 4,
      "outputs": [
        {
          "output_type": "execute_result",
          "data": {
            "text/plain": [
              "([5, 6, 7], [102, 103, 104])"
            ]
          },
          "metadata": {
            "tags": []
          },
          "execution_count": 4
        }
      ]
    },
    {
      "cell_type": "markdown",
      "metadata": {
        "id": "yG4ttoezLgX3"
      },
      "source": [
        "> ## **2) Numpy_Array Casting**"
      ]
    },
    {
      "cell_type": "code",
      "metadata": {
        "colab": {
          "base_uri": "https://localhost:8080/"
        },
        "id": "_jrEtZesLkbY",
        "outputId": "32cede90-40b6-4861-e26b-410fabd568e0"
      },
      "source": [
        "X = np.array(X, dtype=float)\n",
        "y = np.array(y, dtype=float)\n",
        "\n",
        "X.shape, y.shape"
      ],
      "execution_count": 5,
      "outputs": [
        {
          "output_type": "execute_result",
          "data": {
            "text/plain": [
              "((100, 5, 1), (100,))"
            ]
          },
          "metadata": {
            "tags": []
          },
          "execution_count": 5
        }
      ]
    },
    {
      "cell_type": "markdown",
      "metadata": {
        "id": "Gh-V7OprLzbE"
      },
      "source": [
        "> ## **3) Train vs. Test Split**"
      ]
    },
    {
      "cell_type": "markdown",
      "metadata": {
        "id": "naddix7NL2wU"
      },
      "source": [
        "- 80:20"
      ]
    },
    {
      "cell_type": "code",
      "metadata": {
        "colab": {
          "base_uri": "https://localhost:8080/"
        },
        "id": "6Et7IIiPL373",
        "outputId": "5ce7e4b3-9406-4c04-a630-fa1333f3fe11"
      },
      "source": [
        "from sklearn.model_selection import train_test_split\n",
        "\n",
        "X_train, X_test, y_train, y_test = train_test_split(X, y,\n",
        "                                                    test_size=0.2,\n",
        "                                                    random_state=2045)\n",
        "\n",
        "X_train.shape, y_train.shape, X_test.shape, y_test.shape"
      ],
      "execution_count": 6,
      "outputs": [
        {
          "output_type": "execute_result",
          "data": {
            "text/plain": [
              "((80, 5, 1), (80,), (20, 5, 1), (20,))"
            ]
          },
          "metadata": {
            "tags": []
          },
          "execution_count": 6
        }
      ]
    },
    {
      "cell_type": "markdown",
      "metadata": {
        "id": "UBUxEuTLMIOP"
      },
      "source": [
        "> ## **4) Keras LSTM Modeling**"
      ]
    },
    {
      "cell_type": "markdown",
      "metadata": {
        "id": "331Q5f0dMiQJ"
      },
      "source": [
        "### **(1) Model Define & Summary**\n",
        "- Unit(output_dim) : 3\n",
        "- input_shape(input_length, input_dim) : (5, 1)\n",
        "- return_sequences=False : 최종 Unit만 출력 → **<span style=\"color:orange\">Stacked_LSTM</span>을 사용하기 위해서는 <span style=\"color:blue\">True</span>**(아래 코드로 예시 나옴)\n",
        "- layers.Dense(1) : y_hat"
      ]
    },
    {
      "cell_type": "code",
      "metadata": {
        "colab": {
          "base_uri": "https://localhost:8080/"
        },
        "id": "L793Sy_eNPUh",
        "outputId": "59c90563-e2c6-460b-c634-c623007fadde"
      },
      "source": [
        "from tensorflow.keras import models, layers\n",
        "\n",
        "model_1 = models.Sequential(name='LSTM_1')\n",
        "model_1.add(layers.LSTM(3,\n",
        "                        input_shape=(5, 1),\n",
        "                        return_sequences=False))\n",
        "model_1.add(layers.Dense(1))   # 수치 예측이기 때문에 노드 1개\n",
        "\n",
        "model_1.summary()"
      ],
      "execution_count": 7,
      "outputs": [
        {
          "output_type": "stream",
          "text": [
            "Model: \"LSTM_1\"\n",
            "_________________________________________________________________\n",
            "Layer (type)                 Output Shape              Param #   \n",
            "=================================================================\n",
            "lstm (LSTM)                  (None, 3)                 60        \n",
            "_________________________________________________________________\n",
            "dense (Dense)                (None, 1)                 4         \n",
            "=================================================================\n",
            "Total params: 64\n",
            "Trainable params: 64\n",
            "Non-trainable params: 0\n",
            "_________________________________________________________________\n"
          ],
          "name": "stdout"
        }
      ]
    },
    {
      "cell_type": "markdown",
      "metadata": {
        "id": "CPO7g7OTXnXF"
      },
      "source": [
        "### **(2) Model Compile**"
      ]
    },
    {
      "cell_type": "code",
      "metadata": {
        "id": "fzCKYfGEX0oC"
      },
      "source": [
        "model_1.compile(loss='mse',\n",
        "                optimizer='adam',\n",
        "                metrics=['accuracy'])   # 연속된 수치이기 때문에 어떤 걸로 해도 무방"
      ],
      "execution_count": 8,
      "outputs": []
    },
    {
      "cell_type": "markdown",
      "metadata": {
        "id": "Yd3y1yZqYGHi"
      },
      "source": [
        "### **(3) Model Fit**"
      ]
    },
    {
      "cell_type": "code",
      "metadata": {
        "colab": {
          "base_uri": "https://localhost:8080/"
        },
        "id": "MTohPhhiYbc8",
        "outputId": "6d919de2-7451-458d-81d2-4ba217c364a4"
      },
      "source": [
        "Hist_1 = model_1.fit(X_train, y_train,\n",
        "                     epochs=100,\n",
        "                     batch_size=8,\n",
        "                     validation_data=(X_test, y_test))"
      ],
      "execution_count": 9,
      "outputs": [
        {
          "output_type": "stream",
          "text": [
            "Epoch 1/100\n",
            "10/10 [==============================] - 2s 56ms/step - loss: 3737.5703 - accuracy: 0.0000e+00 - val_loss: 3689.3704 - val_accuracy: 0.0000e+00\n",
            "Epoch 2/100\n",
            "10/10 [==============================] - 0s 4ms/step - loss: 3734.2993 - accuracy: 0.0000e+00 - val_loss: 3686.8040 - val_accuracy: 0.0000e+00\n",
            "Epoch 3/100\n",
            "10/10 [==============================] - 0s 3ms/step - loss: 3731.8926 - accuracy: 0.0000e+00 - val_loss: 3684.4946 - val_accuracy: 0.0000e+00\n",
            "Epoch 4/100\n",
            "10/10 [==============================] - 0s 4ms/step - loss: 3729.6567 - accuracy: 0.0000e+00 - val_loss: 3682.2651 - val_accuracy: 0.0000e+00\n",
            "Epoch 5/100\n",
            "10/10 [==============================] - 0s 4ms/step - loss: 3727.5703 - accuracy: 0.0000e+00 - val_loss: 3680.0117 - val_accuracy: 0.0000e+00\n",
            "Epoch 6/100\n",
            "10/10 [==============================] - 0s 4ms/step - loss: 3725.3359 - accuracy: 0.0000e+00 - val_loss: 3677.8423 - val_accuracy: 0.0000e+00\n",
            "Epoch 7/100\n",
            "10/10 [==============================] - 0s 4ms/step - loss: 3723.2297 - accuracy: 0.0000e+00 - val_loss: 3675.6450 - val_accuracy: 0.0000e+00\n",
            "Epoch 8/100\n",
            "10/10 [==============================] - 0s 4ms/step - loss: 3721.0535 - accuracy: 0.0000e+00 - val_loss: 3673.4907 - val_accuracy: 0.0000e+00\n",
            "Epoch 9/100\n",
            "10/10 [==============================] - 0s 4ms/step - loss: 3718.9458 - accuracy: 0.0000e+00 - val_loss: 3671.3169 - val_accuracy: 0.0000e+00\n",
            "Epoch 10/100\n",
            "10/10 [==============================] - 0s 4ms/step - loss: 3716.8196 - accuracy: 0.0000e+00 - val_loss: 3669.1438 - val_accuracy: 0.0000e+00\n",
            "Epoch 11/100\n",
            "10/10 [==============================] - 0s 4ms/step - loss: 3714.6836 - accuracy: 0.0000e+00 - val_loss: 3666.9863 - val_accuracy: 0.0000e+00\n",
            "Epoch 12/100\n",
            "10/10 [==============================] - 0s 4ms/step - loss: 3712.5610 - accuracy: 0.0000e+00 - val_loss: 3664.8313 - val_accuracy: 0.0000e+00\n",
            "Epoch 13/100\n",
            "10/10 [==============================] - 0s 4ms/step - loss: 3710.3882 - accuracy: 0.0000e+00 - val_loss: 3662.7227 - val_accuracy: 0.0000e+00\n",
            "Epoch 14/100\n",
            "10/10 [==============================] - 0s 4ms/step - loss: 3708.3860 - accuracy: 0.0000e+00 - val_loss: 3660.5093 - val_accuracy: 0.0000e+00\n",
            "Epoch 15/100\n",
            "10/10 [==============================] - 0s 4ms/step - loss: 3706.2070 - accuracy: 0.0000e+00 - val_loss: 3658.3613 - val_accuracy: 0.0000e+00\n",
            "Epoch 16/100\n",
            "10/10 [==============================] - 0s 4ms/step - loss: 3704.0540 - accuracy: 0.0000e+00 - val_loss: 3656.2527 - val_accuracy: 0.0000e+00\n",
            "Epoch 17/100\n",
            "10/10 [==============================] - 0s 4ms/step - loss: 3702.0046 - accuracy: 0.0000e+00 - val_loss: 3654.0845 - val_accuracy: 0.0000e+00\n",
            "Epoch 18/100\n",
            "10/10 [==============================] - 0s 5ms/step - loss: 3699.8679 - accuracy: 0.0000e+00 - val_loss: 3651.9446 - val_accuracy: 0.0000e+00\n",
            "Epoch 19/100\n",
            "10/10 [==============================] - 0s 4ms/step - loss: 3697.7734 - accuracy: 0.0000e+00 - val_loss: 3649.7922 - val_accuracy: 0.0000e+00\n",
            "Epoch 20/100\n",
            "10/10 [==============================] - 0s 4ms/step - loss: 3695.6379 - accuracy: 0.0000e+00 - val_loss: 3647.6665 - val_accuracy: 0.0000e+00\n",
            "Epoch 21/100\n",
            "10/10 [==============================] - 0s 4ms/step - loss: 3693.5383 - accuracy: 0.0000e+00 - val_loss: 3645.5337 - val_accuracy: 0.0000e+00\n",
            "Epoch 22/100\n",
            "10/10 [==============================] - 0s 4ms/step - loss: 3691.4309 - accuracy: 0.0000e+00 - val_loss: 3643.4004 - val_accuracy: 0.0000e+00\n",
            "Epoch 23/100\n",
            "10/10 [==============================] - 0s 4ms/step - loss: 3689.3247 - accuracy: 0.0000e+00 - val_loss: 3641.2590 - val_accuracy: 0.0000e+00\n",
            "Epoch 24/100\n",
            "10/10 [==============================] - 0s 4ms/step - loss: 3687.2219 - accuracy: 0.0000e+00 - val_loss: 3639.1040 - val_accuracy: 0.0000e+00\n",
            "Epoch 25/100\n",
            "10/10 [==============================] - 0s 4ms/step - loss: 3685.1353 - accuracy: 0.0000e+00 - val_loss: 3636.9180 - val_accuracy: 0.0000e+00\n",
            "Epoch 26/100\n",
            "10/10 [==============================] - 0s 3ms/step - loss: 3682.9653 - accuracy: 0.0000e+00 - val_loss: 3634.7688 - val_accuracy: 0.0000e+00\n",
            "Epoch 27/100\n",
            "10/10 [==============================] - 0s 4ms/step - loss: 3680.8542 - accuracy: 0.0000e+00 - val_loss: 3632.5781 - val_accuracy: 0.0000e+00\n",
            "Epoch 28/100\n",
            "10/10 [==============================] - 0s 4ms/step - loss: 3678.6353 - accuracy: 0.0000e+00 - val_loss: 3630.4128 - val_accuracy: 0.0000e+00\n",
            "Epoch 29/100\n",
            "10/10 [==============================] - 0s 5ms/step - loss: 3676.4370 - accuracy: 0.0000e+00 - val_loss: 3628.1921 - val_accuracy: 0.0000e+00\n",
            "Epoch 30/100\n",
            "10/10 [==============================] - 0s 4ms/step - loss: 3674.1614 - accuracy: 0.0000e+00 - val_loss: 3625.8521 - val_accuracy: 0.0000e+00\n",
            "Epoch 31/100\n",
            "10/10 [==============================] - 0s 4ms/step - loss: 3671.6199 - accuracy: 0.0000e+00 - val_loss: 3623.2754 - val_accuracy: 0.0000e+00\n",
            "Epoch 32/100\n",
            "10/10 [==============================] - 0s 4ms/step - loss: 3668.6333 - accuracy: 0.0000e+00 - val_loss: 3619.7007 - val_accuracy: 0.0000e+00\n",
            "Epoch 33/100\n",
            "10/10 [==============================] - 0s 4ms/step - loss: 3663.6394 - accuracy: 0.0000e+00 - val_loss: 3611.4258 - val_accuracy: 0.0000e+00\n",
            "Epoch 34/100\n",
            "10/10 [==============================] - 0s 4ms/step - loss: 3648.5854 - accuracy: 0.0000e+00 - val_loss: 3576.5288 - val_accuracy: 0.0000e+00\n",
            "Epoch 35/100\n",
            "10/10 [==============================] - 0s 4ms/step - loss: 3603.1824 - accuracy: 0.0000e+00 - val_loss: 3537.8835 - val_accuracy: 0.0000e+00\n",
            "Epoch 36/100\n",
            "10/10 [==============================] - 0s 4ms/step - loss: 3581.7720 - accuracy: 0.0000e+00 - val_loss: 3529.0710 - val_accuracy: 0.0000e+00\n",
            "Epoch 37/100\n",
            "10/10 [==============================] - 0s 4ms/step - loss: 3574.9507 - accuracy: 0.0000e+00 - val_loss: 3522.9272 - val_accuracy: 0.0000e+00\n",
            "Epoch 38/100\n",
            "10/10 [==============================] - 0s 4ms/step - loss: 3569.4253 - accuracy: 0.0000e+00 - val_loss: 3517.4922 - val_accuracy: 0.0000e+00\n",
            "Epoch 39/100\n",
            "10/10 [==============================] - 0s 3ms/step - loss: 3564.2847 - accuracy: 0.0000e+00 - val_loss: 3512.5208 - val_accuracy: 0.0000e+00\n",
            "Epoch 40/100\n",
            "10/10 [==============================] - 0s 4ms/step - loss: 3559.5171 - accuracy: 0.0000e+00 - val_loss: 3507.8372 - val_accuracy: 0.0000e+00\n",
            "Epoch 41/100\n",
            "10/10 [==============================] - 0s 4ms/step - loss: 3554.9075 - accuracy: 0.0000e+00 - val_loss: 3503.4219 - val_accuracy: 0.0000e+00\n",
            "Epoch 42/100\n",
            "10/10 [==============================] - 0s 4ms/step - loss: 3550.7632 - accuracy: 0.0000e+00 - val_loss: 3498.9773 - val_accuracy: 0.0000e+00\n",
            "Epoch 43/100\n",
            "10/10 [==============================] - 0s 4ms/step - loss: 3546.3367 - accuracy: 0.0000e+00 - val_loss: 3494.8574 - val_accuracy: 0.0000e+00\n",
            "Epoch 44/100\n",
            "10/10 [==============================] - 0s 4ms/step - loss: 3542.3276 - accuracy: 0.0000e+00 - val_loss: 3490.7422 - val_accuracy: 0.0000e+00\n",
            "Epoch 45/100\n",
            "10/10 [==============================] - 0s 4ms/step - loss: 3538.3938 - accuracy: 0.0000e+00 - val_loss: 3486.6484 - val_accuracy: 0.0000e+00\n",
            "Epoch 46/100\n",
            "10/10 [==============================] - 0s 4ms/step - loss: 3534.4172 - accuracy: 0.0000e+00 - val_loss: 3482.6841 - val_accuracy: 0.0000e+00\n",
            "Epoch 47/100\n",
            "10/10 [==============================] - 0s 4ms/step - loss: 3530.5325 - accuracy: 0.0000e+00 - val_loss: 3478.8066 - val_accuracy: 0.0000e+00\n",
            "Epoch 48/100\n",
            "10/10 [==============================] - 0s 4ms/step - loss: 3526.7747 - accuracy: 0.0000e+00 - val_loss: 3474.9465 - val_accuracy: 0.0000e+00\n",
            "Epoch 49/100\n",
            "10/10 [==============================] - 0s 4ms/step - loss: 3523.0620 - accuracy: 0.0000e+00 - val_loss: 3471.1108 - val_accuracy: 0.0000e+00\n",
            "Epoch 50/100\n",
            "10/10 [==============================] - 0s 4ms/step - loss: 3519.2446 - accuracy: 0.0000e+00 - val_loss: 3467.4363 - val_accuracy: 0.0000e+00\n",
            "Epoch 51/100\n",
            "10/10 [==============================] - 0s 4ms/step - loss: 3515.6577 - accuracy: 0.0000e+00 - val_loss: 3463.7429 - val_accuracy: 0.0000e+00\n",
            "Epoch 52/100\n",
            "10/10 [==============================] - 0s 4ms/step - loss: 3511.9810 - accuracy: 0.0000e+00 - val_loss: 3460.1414 - val_accuracy: 0.0000e+00\n",
            "Epoch 53/100\n",
            "10/10 [==============================] - 0s 4ms/step - loss: 3508.4370 - accuracy: 0.0000e+00 - val_loss: 3456.5312 - val_accuracy: 0.0000e+00\n",
            "Epoch 54/100\n",
            "10/10 [==============================] - 0s 4ms/step - loss: 3504.9441 - accuracy: 0.0000e+00 - val_loss: 3452.8958 - val_accuracy: 0.0000e+00\n",
            "Epoch 55/100\n",
            "10/10 [==============================] - 0s 4ms/step - loss: 3501.3516 - accuracy: 0.0000e+00 - val_loss: 3449.3601 - val_accuracy: 0.0000e+00\n",
            "Epoch 56/100\n",
            "10/10 [==============================] - 0s 4ms/step - loss: 3497.9175 - accuracy: 0.0000e+00 - val_loss: 3445.7898 - val_accuracy: 0.0000e+00\n",
            "Epoch 57/100\n",
            "10/10 [==============================] - 0s 4ms/step - loss: 3494.4644 - accuracy: 0.0000e+00 - val_loss: 3442.2319 - val_accuracy: 0.0000e+00\n",
            "Epoch 58/100\n",
            "10/10 [==============================] - 0s 4ms/step - loss: 3491.0500 - accuracy: 0.0000e+00 - val_loss: 3438.6770 - val_accuracy: 0.0000e+00\n",
            "Epoch 59/100\n",
            "10/10 [==============================] - 0s 4ms/step - loss: 3487.5059 - accuracy: 0.0000e+00 - val_loss: 3435.2617 - val_accuracy: 0.0000e+00\n",
            "Epoch 60/100\n",
            "10/10 [==============================] - 0s 4ms/step - loss: 3484.0981 - accuracy: 0.0000e+00 - val_loss: 3431.8696 - val_accuracy: 0.0000e+00\n",
            "Epoch 61/100\n",
            "10/10 [==============================] - 0s 4ms/step - loss: 3480.7722 - accuracy: 0.0000e+00 - val_loss: 3428.4382 - val_accuracy: 0.0000e+00\n",
            "Epoch 62/100\n",
            "10/10 [==============================] - 0s 4ms/step - loss: 3477.3550 - accuracy: 0.0000e+00 - val_loss: 3425.0750 - val_accuracy: 0.0000e+00\n",
            "Epoch 63/100\n",
            "10/10 [==============================] - 0s 4ms/step - loss: 3473.9968 - accuracy: 0.0000e+00 - val_loss: 3421.7319 - val_accuracy: 0.0000e+00\n",
            "Epoch 64/100\n",
            "10/10 [==============================] - 0s 4ms/step - loss: 3470.7336 - accuracy: 0.0000e+00 - val_loss: 3418.3315 - val_accuracy: 0.0000e+00\n",
            "Epoch 65/100\n",
            "10/10 [==============================] - 0s 4ms/step - loss: 3467.4302 - accuracy: 0.0000e+00 - val_loss: 3414.9309 - val_accuracy: 0.0000e+00\n",
            "Epoch 66/100\n",
            "10/10 [==============================] - 0s 3ms/step - loss: 3464.1418 - accuracy: 0.0000e+00 - val_loss: 3411.5317 - val_accuracy: 0.0000e+00\n",
            "Epoch 67/100\n",
            "10/10 [==============================] - 0s 3ms/step - loss: 3460.8164 - accuracy: 0.0000e+00 - val_loss: 3408.1809 - val_accuracy: 0.0000e+00\n",
            "Epoch 68/100\n",
            "10/10 [==============================] - 0s 4ms/step - loss: 3457.4934 - accuracy: 0.0000e+00 - val_loss: 3404.8887 - val_accuracy: 0.0000e+00\n",
            "Epoch 69/100\n",
            "10/10 [==============================] - 0s 4ms/step - loss: 3454.2976 - accuracy: 0.0000e+00 - val_loss: 3401.5396 - val_accuracy: 0.0000e+00\n",
            "Epoch 70/100\n",
            "10/10 [==============================] - 0s 5ms/step - loss: 3450.9771 - accuracy: 0.0000e+00 - val_loss: 3398.2695 - val_accuracy: 0.0000e+00\n",
            "Epoch 71/100\n",
            "10/10 [==============================] - 0s 4ms/step - loss: 3447.7593 - accuracy: 0.0000e+00 - val_loss: 3394.9844 - val_accuracy: 0.0000e+00\n",
            "Epoch 72/100\n",
            "10/10 [==============================] - 0s 4ms/step - loss: 3444.5403 - accuracy: 0.0000e+00 - val_loss: 3391.6978 - val_accuracy: 0.0000e+00\n",
            "Epoch 73/100\n",
            "10/10 [==============================] - 0s 4ms/step - loss: 3441.2554 - accuracy: 0.0000e+00 - val_loss: 3388.4878 - val_accuracy: 0.0000e+00\n",
            "Epoch 74/100\n",
            "10/10 [==============================] - 0s 4ms/step - loss: 3438.1550 - accuracy: 0.0000e+00 - val_loss: 3385.1738 - val_accuracy: 0.0000e+00\n",
            "Epoch 75/100\n",
            "10/10 [==============================] - 0s 4ms/step - loss: 3434.9055 - accuracy: 0.0000e+00 - val_loss: 3381.9224 - val_accuracy: 0.0000e+00\n",
            "Epoch 76/100\n",
            "10/10 [==============================] - 0s 4ms/step - loss: 3431.8132 - accuracy: 0.0000e+00 - val_loss: 3378.5906 - val_accuracy: 0.0000e+00\n",
            "Epoch 77/100\n",
            "10/10 [==============================] - 0s 4ms/step - loss: 3428.4968 - accuracy: 0.0000e+00 - val_loss: 3375.3992 - val_accuracy: 0.0000e+00\n",
            "Epoch 78/100\n",
            "10/10 [==============================] - 0s 4ms/step - loss: 3425.3579 - accuracy: 0.0000e+00 - val_loss: 3372.1863 - val_accuracy: 0.0000e+00\n",
            "Epoch 79/100\n",
            "10/10 [==============================] - 0s 4ms/step - loss: 3422.1746 - accuracy: 0.0000e+00 - val_loss: 3369.0024 - val_accuracy: 0.0000e+00\n",
            "Epoch 80/100\n",
            "10/10 [==============================] - 0s 4ms/step - loss: 3419.1001 - accuracy: 0.0000e+00 - val_loss: 3365.7507 - val_accuracy: 0.0000e+00\n",
            "Epoch 81/100\n",
            "10/10 [==============================] - 0s 4ms/step - loss: 3415.9155 - accuracy: 0.0000e+00 - val_loss: 3362.5488 - val_accuracy: 0.0000e+00\n",
            "Epoch 82/100\n",
            "10/10 [==============================] - 0s 4ms/step - loss: 3412.7300 - accuracy: 0.0000e+00 - val_loss: 3359.4043 - val_accuracy: 0.0000e+00\n",
            "Epoch 83/100\n",
            "10/10 [==============================] - 0s 4ms/step - loss: 3409.6270 - accuracy: 0.0000e+00 - val_loss: 3356.2446 - val_accuracy: 0.0000e+00\n",
            "Epoch 84/100\n",
            "10/10 [==============================] - 0s 5ms/step - loss: 3406.4551 - accuracy: 0.0000e+00 - val_loss: 3353.1445 - val_accuracy: 0.0000e+00\n",
            "Epoch 85/100\n",
            "10/10 [==============================] - 0s 5ms/step - loss: 3403.5093 - accuracy: 0.0000e+00 - val_loss: 3349.8872 - val_accuracy: 0.0000e+00\n",
            "Epoch 86/100\n",
            "10/10 [==============================] - 0s 4ms/step - loss: 3400.2590 - accuracy: 0.0000e+00 - val_loss: 3346.7800 - val_accuracy: 0.0000e+00\n",
            "Epoch 87/100\n",
            "10/10 [==============================] - 0s 4ms/step - loss: 3397.2266 - accuracy: 0.0000e+00 - val_loss: 3343.6128 - val_accuracy: 0.0000e+00\n",
            "Epoch 88/100\n",
            "10/10 [==============================] - 0s 4ms/step - loss: 3394.1106 - accuracy: 0.0000e+00 - val_loss: 3340.4773 - val_accuracy: 0.0000e+00\n",
            "Epoch 89/100\n",
            "10/10 [==============================] - 0s 4ms/step - loss: 3391.0298 - accuracy: 0.0000e+00 - val_loss: 3337.3445 - val_accuracy: 0.0000e+00\n",
            "Epoch 90/100\n",
            "10/10 [==============================] - 0s 5ms/step - loss: 3387.9683 - accuracy: 0.0000e+00 - val_loss: 3334.2007 - val_accuracy: 0.0000e+00\n",
            "Epoch 91/100\n",
            "10/10 [==============================] - 0s 5ms/step - loss: 3384.8235 - accuracy: 0.0000e+00 - val_loss: 3331.1399 - val_accuracy: 0.0000e+00\n",
            "Epoch 92/100\n",
            "10/10 [==============================] - 0s 4ms/step - loss: 3381.9109 - accuracy: 0.0000e+00 - val_loss: 3327.9312 - val_accuracy: 0.0000e+00\n",
            "Epoch 93/100\n",
            "10/10 [==============================] - 0s 5ms/step - loss: 3378.7378 - accuracy: 0.0000e+00 - val_loss: 3324.8398 - val_accuracy: 0.0000e+00\n",
            "Epoch 94/100\n",
            "10/10 [==============================] - 0s 5ms/step - loss: 3375.6379 - accuracy: 0.0000e+00 - val_loss: 3321.7993 - val_accuracy: 0.0000e+00\n",
            "Epoch 95/100\n",
            "10/10 [==============================] - 0s 4ms/step - loss: 3372.6665 - accuracy: 0.0000e+00 - val_loss: 3318.6836 - val_accuracy: 0.0000e+00\n",
            "Epoch 96/100\n",
            "10/10 [==============================] - 0s 4ms/step - loss: 3369.6558 - accuracy: 0.0000e+00 - val_loss: 3315.5415 - val_accuracy: 0.0000e+00\n",
            "Epoch 97/100\n",
            "10/10 [==============================] - 0s 4ms/step - loss: 3366.5571 - accuracy: 0.0000e+00 - val_loss: 3312.4644 - val_accuracy: 0.0000e+00\n",
            "Epoch 98/100\n",
            "10/10 [==============================] - 0s 5ms/step - loss: 3363.5286 - accuracy: 0.0000e+00 - val_loss: 3309.3875 - val_accuracy: 0.0000e+00\n",
            "Epoch 99/100\n",
            "10/10 [==============================] - 0s 4ms/step - loss: 3360.5266 - accuracy: 0.0000e+00 - val_loss: 3306.2878 - val_accuracy: 0.0000e+00\n",
            "Epoch 100/100\n",
            "10/10 [==============================] - 0s 4ms/step - loss: 3357.4773 - accuracy: 0.0000e+00 - val_loss: 3303.2161 - val_accuracy: 0.0000e+00\n"
          ],
          "name": "stdout"
        }
      ]
    },
    {
      "cell_type": "markdown",
      "metadata": {
        "id": "0d8Vo8RDYrIN"
      },
      "source": [
        "### **(4) Model Predict**"
      ]
    },
    {
      "cell_type": "code",
      "metadata": {
        "id": "2Um6DftXY6x4"
      },
      "source": [
        "y_hat = model_1.predict(X_test)"
      ],
      "execution_count": 10,
      "outputs": []
    },
    {
      "cell_type": "markdown",
      "metadata": {
        "id": "lV2mbrpiY7Hp"
      },
      "source": [
        "### **(5) 학습 결과 시각화**"
      ]
    },
    {
      "cell_type": "markdown",
      "metadata": {
        "id": "x2PPfNusY-st"
      },
      "source": [
        "- Loss 감소"
      ]
    },
    {
      "cell_type": "code",
      "metadata": {
        "colab": {
          "base_uri": "https://localhost:8080/",
          "height": 266
        },
        "id": "UQKDb2UZZAMf",
        "outputId": "b9536baf-0b7f-43ad-c570-979cae272b9b"
      },
      "source": [
        "plt.plot(Hist_1.history['loss'])\n",
        "plt.show()"
      ],
      "execution_count": 11,
      "outputs": [
        {
          "output_type": "display_data",
          "data": {
            "image/png": "[encoded data removed]",
            "text/plain": [
              "<Figure size 432x288 with 1 Axes>"
            ]
          },
          "metadata": {
            "tags": [],
            "needs_background": "light"
          }
        }
      ]
    },
    {
      "cell_type": "markdown",
      "metadata": {
        "id": "-5lTTcQgZFbO"
      },
      "source": [
        "- 학습 되지 않음\n",
        "  - <span style=\"color:green\">**녹색**</span> → **정답(y_test)**\n",
        "  - <span style=\"color:red\">**적색**</span> → **예측(y_hat)**"
      ]
    },
    {
      "cell_type": "code",
      "metadata": {
        "colab": {
          "base_uri": "https://localhost:8080/",
          "height": 265
        },
        "id": "V0lFHDkhZOsa",
        "outputId": "ef7cd8a8-7bf5-44d9-c058-34df629edb92"
      },
      "source": [
        "plt.scatter(range(20), y_test, c='g')\n",
        "plt.scatter(range(20), y_hat, c='r')\n",
        "plt.show()"
      ],
      "execution_count": 12,
      "outputs": [
        {
          "output_type": "display_data",
          "data": {
            "image/png": "[encoded data removed]",
            "text/plain": [
              "<Figure size 432x288 with 1 Axes>"
            ]
          },
          "metadata": {
            "tags": [],
            "needs_background": "light"
          }
        }
      ]
    },
    {
      "cell_type": "markdown",
      "metadata": {
        "id": "qeLBKrgcZlQF"
      },
      "source": [
        "# **II. LSTM - with Normalization**"
      ]
    },
    {
      "cell_type": "markdown",
      "metadata": {
        "id": "AOz57T-2ZrYi"
      },
      "source": [
        "> ## **1) Sample Data - with Normalization**"
      ]
    },
    {
      "cell_type": "code",
      "metadata": {
        "id": "LrDd0A2GZwhM"
      },
      "source": [
        "X = [[[i + j] for i in range(5)] for j in range(100)]\n",
        "y= [(i + 5) for i in range(100)]\n",
        "\n",
        "X = (X - np.min(X)) / (np.max(X) - np.min(X))\n",
        "y = (y - np.min(y)) / (np.max(y) - np.min(y))"
      ],
      "execution_count": 13,
      "outputs": []
    },
    {
      "cell_type": "markdown",
      "metadata": {
        "id": "4uhTP-bHaG8Z"
      },
      "source": [
        "> ## **2) Casting**"
      ]
    },
    {
      "cell_type": "code",
      "metadata": {
        "colab": {
          "base_uri": "https://localhost:8080/"
        },
        "id": "XeGHwwBoaNj4",
        "outputId": "9ef2791b-57ae-46d3-bc5e-2b4e1d6fdb18"
      },
      "source": [
        "X = np.array(X, dtype=float)\n",
        "y = np.array(y, dtype=float)\n",
        "\n",
        "X.shape, y.shape"
      ],
      "execution_count": 14,
      "outputs": [
        {
          "output_type": "execute_result",
          "data": {
            "text/plain": [
              "((100, 5, 1), (100,))"
            ]
          },
          "metadata": {
            "tags": []
          },
          "execution_count": 14
        }
      ]
    },
    {
      "cell_type": "markdown",
      "metadata": {
        "id": "szpOLu8MaYnO"
      },
      "source": [
        "> ## **3) Train vs. Test Split**"
      ]
    },
    {
      "cell_type": "code",
      "metadata": {
        "colab": {
          "base_uri": "https://localhost:8080/"
        },
        "id": "Q7ipIRilajTb",
        "outputId": "05acd93e-a849-462d-81a7-13c605f700bb"
      },
      "source": [
        "X_train, X_test, y_train, y_test = train_test_split(X, y,\n",
        "                                                    test_size=0.2,\n",
        "                                                    random_state=2045)\n",
        "\n",
        "X_train.shape, y_train.shape, X_test.shape, y_test.shape"
      ],
      "execution_count": 15,
      "outputs": [
        {
          "output_type": "execute_result",
          "data": {
            "text/plain": [
              "((80, 5, 1), (80,), (20, 5, 1), (20,))"
            ]
          },
          "metadata": {
            "tags": []
          },
          "execution_count": 15
        }
      ]
    },
    {
      "cell_type": "markdown",
      "metadata": {
        "id": "jgonWSSDa56Y"
      },
      "source": [
        "> ## **4) Keras LSTM Modeling**"
      ]
    },
    {
      "cell_type": "markdown",
      "metadata": {
        "id": "ShH3tz7Wy0Jl"
      },
      "source": [
        "### **(1) Model Define & Summary**"
      ]
    },
    {
      "cell_type": "markdown",
      "metadata": {
        "id": "mFN8QfOhy5hB"
      },
      "source": [
        "- None : input_length 자동 맞춤"
      ]
    },
    {
      "cell_type": "code",
      "metadata": {
        "colab": {
          "base_uri": "https://localhost:8080/"
        },
        "id": "mU3ekHccy_GU",
        "outputId": "c2851c33-14c3-4152-807a-da7161ed3f5e"
      },
      "source": [
        "model_2 = models.Sequential(name='LSTM_2')\n",
        "model_2.add(layers.LSTM(3,\n",
        "                        input_shape=(None, 1),\n",
        "                        return_sequences=False))\n",
        "model_2.add(layers.Dense(1))\n",
        "\n",
        "model_2.summary()"
      ],
      "execution_count": 16,
      "outputs": [
        {
          "output_type": "stream",
          "text": [
            "Model: \"LSTM_2\"\n",
            "_________________________________________________________________\n",
            "Layer (type)                 Output Shape              Param #   \n",
            "=================================================================\n",
            "lstm_1 (LSTM)                (None, 3)                 60        \n",
            "_________________________________________________________________\n",
            "dense_1 (Dense)              (None, 1)                 4         \n",
            "=================================================================\n",
            "Total params: 64\n",
            "Trainable params: 64\n",
            "Non-trainable params: 0\n",
            "_________________________________________________________________\n"
          ],
          "name": "stdout"
        }
      ]
    },
    {
      "cell_type": "markdown",
      "metadata": {
        "id": "65K6mePNzWNM"
      },
      "source": [
        "> ### **(2) Model Compile**"
      ]
    },
    {
      "cell_type": "code",
      "metadata": {
        "id": "LCFRrTolzbv6"
      },
      "source": [
        "model_2.compile(loss='mse',\n",
        "                optimizer='adam',\n",
        "                metrics=['accuracy'])"
      ],
      "execution_count": 17,
      "outputs": []
    },
    {
      "cell_type": "markdown",
      "metadata": {
        "id": "HSJH7uFl024C"
      },
      "source": [
        "### **(3) Model Fit**"
      ]
    },
    {
      "cell_type": "code",
      "metadata": {
        "colab": {
          "base_uri": "https://localhost:8080/"
        },
        "id": "viXgmbAFzik3",
        "outputId": "5743ed1a-cf54-44a0-9b92-235748f7b779"
      },
      "source": [
        "Hist_2 = model_2.fit(X_train, y_train,\n",
        "                     epochs=100,\n",
        "                     batch_size=8,\n",
        "                     validation_data=(X_test, y_test))"
      ],
      "execution_count": 18,
      "outputs": [
        {
          "output_type": "stream",
          "text": [
            "Epoch 1/100\n",
            "10/10 [==============================] - 2s 42ms/step - loss: 0.2967 - accuracy: 0.0125 - val_loss: 0.2731 - val_accuracy: 0.0000e+00\n",
            "Epoch 2/100\n",
            "10/10 [==============================] - 0s 4ms/step - loss: 0.2635 - accuracy: 0.0125 - val_loss: 0.2401 - val_accuracy: 0.0000e+00\n",
            "Epoch 3/100\n",
            "10/10 [==============================] - 0s 4ms/step - loss: 0.2323 - accuracy: 0.0125 - val_loss: 0.2097 - val_accuracy: 0.0000e+00\n",
            "Epoch 4/100\n",
            "10/10 [==============================] - 0s 4ms/step - loss: 0.2021 - accuracy: 0.0125 - val_loss: 0.1826 - val_accuracy: 0.0000e+00\n",
            "Epoch 5/100\n",
            "10/10 [==============================] - 0s 5ms/step - loss: 0.1761 - accuracy: 0.0125 - val_loss: 0.1574 - val_accuracy: 0.0000e+00\n",
            "Epoch 6/100\n",
            "10/10 [==============================] - 0s 4ms/step - loss: 0.1524 - accuracy: 0.0125 - val_loss: 0.1349 - val_accuracy: 0.0000e+00\n",
            "Epoch 7/100\n",
            "10/10 [==============================] - 0s 4ms/step - loss: 0.1309 - accuracy: 0.0125 - val_loss: 0.1154 - val_accuracy: 0.0000e+00\n",
            "Epoch 8/100\n",
            "10/10 [==============================] - 0s 4ms/step - loss: 0.1135 - accuracy: 0.0125 - val_loss: 0.0976 - val_accuracy: 0.0000e+00\n",
            "Epoch 9/100\n",
            "10/10 [==============================] - 0s 4ms/step - loss: 0.0969 - accuracy: 0.0125 - val_loss: 0.0829 - val_accuracy: 0.0000e+00\n",
            "Epoch 10/100\n",
            "10/10 [==============================] - 0s 4ms/step - loss: 0.0826 - accuracy: 0.0125 - val_loss: 0.0709 - val_accuracy: 0.0000e+00\n",
            "Epoch 11/100\n",
            "10/10 [==============================] - 0s 4ms/step - loss: 0.0722 - accuracy: 0.0125 - val_loss: 0.0601 - val_accuracy: 0.0000e+00\n",
            "Epoch 12/100\n",
            "10/10 [==============================] - 0s 5ms/step - loss: 0.0616 - accuracy: 0.0125 - val_loss: 0.0520 - val_accuracy: 0.0000e+00\n",
            "Epoch 13/100\n",
            "10/10 [==============================] - 0s 4ms/step - loss: 0.0542 - accuracy: 0.0250 - val_loss: 0.0451 - val_accuracy: 0.0000e+00\n",
            "Epoch 14/100\n",
            "10/10 [==============================] - 0s 4ms/step - loss: 0.0477 - accuracy: 0.0250 - val_loss: 0.0397 - val_accuracy: 0.0000e+00\n",
            "Epoch 15/100\n",
            "10/10 [==============================] - 0s 4ms/step - loss: 0.0428 - accuracy: 0.0250 - val_loss: 0.0353 - val_accuracy: 0.0000e+00\n",
            "Epoch 16/100\n",
            "10/10 [==============================] - 0s 4ms/step - loss: 0.0387 - accuracy: 0.0250 - val_loss: 0.0319 - val_accuracy: 0.0000e+00\n",
            "Epoch 17/100\n",
            "10/10 [==============================] - 0s 4ms/step - loss: 0.0354 - accuracy: 0.0250 - val_loss: 0.0292 - val_accuracy: 0.0000e+00\n",
            "Epoch 18/100\n",
            "10/10 [==============================] - 0s 4ms/step - loss: 0.0327 - accuracy: 0.0250 - val_loss: 0.0272 - val_accuracy: 0.0000e+00\n",
            "Epoch 19/100\n",
            "10/10 [==============================] - 0s 4ms/step - loss: 0.0306 - accuracy: 0.0250 - val_loss: 0.0254 - val_accuracy: 0.0000e+00\n",
            "Epoch 20/100\n",
            "10/10 [==============================] - 0s 4ms/step - loss: 0.0288 - accuracy: 0.0250 - val_loss: 0.0238 - val_accuracy: 0.0000e+00\n",
            "Epoch 21/100\n",
            "10/10 [==============================] - 0s 4ms/step - loss: 0.0271 - accuracy: 0.0250 - val_loss: 0.0224 - val_accuracy: 0.0000e+00\n",
            "Epoch 22/100\n",
            "10/10 [==============================] - 0s 4ms/step - loss: 0.0257 - accuracy: 0.0250 - val_loss: 0.0211 - val_accuracy: 0.0000e+00\n",
            "Epoch 23/100\n",
            "10/10 [==============================] - 0s 4ms/step - loss: 0.0243 - accuracy: 0.0250 - val_loss: 0.0200 - val_accuracy: 0.0000e+00\n",
            "Epoch 24/100\n",
            "10/10 [==============================] - 0s 7ms/step - loss: 0.0230 - accuracy: 0.0250 - val_loss: 0.0189 - val_accuracy: 0.0000e+00\n",
            "Epoch 25/100\n",
            "10/10 [==============================] - 0s 4ms/step - loss: 0.0217 - accuracy: 0.0250 - val_loss: 0.0178 - val_accuracy: 0.0000e+00\n",
            "Epoch 26/100\n",
            "10/10 [==============================] - 0s 4ms/step - loss: 0.0204 - accuracy: 0.0250 - val_loss: 0.0168 - val_accuracy: 0.0000e+00\n",
            "Epoch 27/100\n",
            "10/10 [==============================] - 0s 3ms/step - loss: 0.0193 - accuracy: 0.0250 - val_loss: 0.0158 - val_accuracy: 0.0000e+00\n",
            "Epoch 28/100\n",
            "10/10 [==============================] - 0s 4ms/step - loss: 0.0181 - accuracy: 0.0250 - val_loss: 0.0148 - val_accuracy: 0.0000e+00\n",
            "Epoch 29/100\n",
            "10/10 [==============================] - 0s 3ms/step - loss: 0.0169 - accuracy: 0.0250 - val_loss: 0.0139 - val_accuracy: 0.0000e+00\n",
            "Epoch 30/100\n",
            "10/10 [==============================] - 0s 4ms/step - loss: 0.0158 - accuracy: 0.0250 - val_loss: 0.0129 - val_accuracy: 0.0000e+00\n",
            "Epoch 31/100\n",
            "10/10 [==============================] - 0s 4ms/step - loss: 0.0147 - accuracy: 0.0250 - val_loss: 0.0120 - val_accuracy: 0.0000e+00\n",
            "Epoch 32/100\n",
            "10/10 [==============================] - 0s 4ms/step - loss: 0.0137 - accuracy: 0.0250 - val_loss: 0.0111 - val_accuracy: 0.0000e+00\n",
            "Epoch 33/100\n",
            "10/10 [==============================] - 0s 4ms/step - loss: 0.0127 - accuracy: 0.0250 - val_loss: 0.0103 - val_accuracy: 0.0000e+00\n",
            "Epoch 34/100\n",
            "10/10 [==============================] - 0s 4ms/step - loss: 0.0117 - accuracy: 0.0250 - val_loss: 0.0095 - val_accuracy: 0.0000e+00\n",
            "Epoch 35/100\n",
            "10/10 [==============================] - 0s 4ms/step - loss: 0.0108 - accuracy: 0.0250 - val_loss: 0.0087 - val_accuracy: 0.0000e+00\n",
            "Epoch 36/100\n",
            "10/10 [==============================] - 0s 4ms/step - loss: 0.0099 - accuracy: 0.0250 - val_loss: 0.0080 - val_accuracy: 0.0000e+00\n",
            "Epoch 37/100\n",
            "10/10 [==============================] - 0s 3ms/step - loss: 0.0091 - accuracy: 0.0250 - val_loss: 0.0073 - val_accuracy: 0.0000e+00\n",
            "Epoch 38/100\n",
            "10/10 [==============================] - 0s 4ms/step - loss: 0.0083 - accuracy: 0.0250 - val_loss: 0.0067 - val_accuracy: 0.0000e+00\n",
            "Epoch 39/100\n",
            "10/10 [==============================] - 0s 4ms/step - loss: 0.0075 - accuracy: 0.0250 - val_loss: 0.0061 - val_accuracy: 0.0000e+00\n",
            "Epoch 40/100\n",
            "10/10 [==============================] - 0s 4ms/step - loss: 0.0069 - accuracy: 0.0250 - val_loss: 0.0055 - val_accuracy: 0.0000e+00\n",
            "Epoch 41/100\n",
            "10/10 [==============================] - 0s 4ms/step - loss: 0.0062 - accuracy: 0.0250 - val_loss: 0.0050 - val_accuracy: 0.0000e+00\n",
            "Epoch 42/100\n",
            "10/10 [==============================] - 0s 4ms/step - loss: 0.0056 - accuracy: 0.0250 - val_loss: 0.0045 - val_accuracy: 0.0000e+00\n",
            "Epoch 43/100\n",
            "10/10 [==============================] - 0s 4ms/step - loss: 0.0051 - accuracy: 0.0250 - val_loss: 0.0040 - val_accuracy: 0.0000e+00\n",
            "Epoch 44/100\n",
            "10/10 [==============================] - 0s 4ms/step - loss: 0.0046 - accuracy: 0.0250 - val_loss: 0.0036 - val_accuracy: 0.0000e+00\n",
            "Epoch 45/100\n",
            "10/10 [==============================] - 0s 3ms/step - loss: 0.0042 - accuracy: 0.0250 - val_loss: 0.0032 - val_accuracy: 0.0000e+00\n",
            "Epoch 46/100\n",
            "10/10 [==============================] - 0s 4ms/step - loss: 0.0037 - accuracy: 0.0250 - val_loss: 0.0029 - val_accuracy: 0.0000e+00\n",
            "Epoch 47/100\n",
            "10/10 [==============================] - 0s 4ms/step - loss: 0.0033 - accuracy: 0.0250 - val_loss: 0.0026 - val_accuracy: 0.0000e+00\n",
            "Epoch 48/100\n",
            "10/10 [==============================] - 0s 4ms/step - loss: 0.0030 - accuracy: 0.0250 - val_loss: 0.0023 - val_accuracy: 0.0000e+00\n",
            "Epoch 49/100\n",
            "10/10 [==============================] - 0s 4ms/step - loss: 0.0027 - accuracy: 0.0250 - val_loss: 0.0021 - val_accuracy: 0.0000e+00\n",
            "Epoch 50/100\n",
            "10/10 [==============================] - 0s 4ms/step - loss: 0.0024 - accuracy: 0.0250 - val_loss: 0.0019 - val_accuracy: 0.0000e+00\n",
            "Epoch 51/100\n",
            "10/10 [==============================] - 0s 4ms/step - loss: 0.0022 - accuracy: 0.0250 - val_loss: 0.0017 - val_accuracy: 0.0000e+00\n",
            "Epoch 52/100\n",
            "10/10 [==============================] - 0s 5ms/step - loss: 0.0020 - accuracy: 0.0250 - val_loss: 0.0015 - val_accuracy: 0.0000e+00\n",
            "Epoch 53/100\n",
            "10/10 [==============================] - 0s 4ms/step - loss: 0.0018 - accuracy: 0.0250 - val_loss: 0.0014 - val_accuracy: 0.0000e+00\n",
            "Epoch 54/100\n",
            "10/10 [==============================] - 0s 4ms/step - loss: 0.0016 - accuracy: 0.0250 - val_loss: 0.0012 - val_accuracy: 0.0000e+00\n",
            "Epoch 55/100\n",
            "10/10 [==============================] - 0s 3ms/step - loss: 0.0015 - accuracy: 0.0250 - val_loss: 0.0011 - val_accuracy: 0.0000e+00\n",
            "Epoch 56/100\n",
            "10/10 [==============================] - 0s 4ms/step - loss: 0.0014 - accuracy: 0.0250 - val_loss: 0.0010 - val_accuracy: 0.0000e+00\n",
            "Epoch 57/100\n",
            "10/10 [==============================] - 0s 4ms/step - loss: 0.0013 - accuracy: 0.0250 - val_loss: 9.4873e-04 - val_accuracy: 0.0000e+00\n",
            "Epoch 58/100\n",
            "10/10 [==============================] - 0s 4ms/step - loss: 0.0012 - accuracy: 0.0250 - val_loss: 8.7948e-04 - val_accuracy: 0.0000e+00\n",
            "Epoch 59/100\n",
            "10/10 [==============================] - 0s 4ms/step - loss: 0.0011 - accuracy: 0.0250 - val_loss: 8.2442e-04 - val_accuracy: 0.0000e+00\n",
            "Epoch 60/100\n",
            "10/10 [==============================] - 0s 4ms/step - loss: 0.0011 - accuracy: 0.0250 - val_loss: 7.7145e-04 - val_accuracy: 0.0000e+00\n",
            "Epoch 61/100\n",
            "10/10 [==============================] - 0s 4ms/step - loss: 0.0010 - accuracy: 0.0250 - val_loss: 7.2747e-04 - val_accuracy: 0.0000e+00\n",
            "Epoch 62/100\n",
            "10/10 [==============================] - 0s 4ms/step - loss: 9.5037e-04 - accuracy: 0.0250 - val_loss: 6.9175e-04 - val_accuracy: 0.0000e+00\n",
            "Epoch 63/100\n",
            "10/10 [==============================] - 0s 4ms/step - loss: 9.1249e-04 - accuracy: 0.0250 - val_loss: 6.6187e-04 - val_accuracy: 0.0000e+00\n",
            "Epoch 64/100\n",
            "10/10 [==============================] - 0s 4ms/step - loss: 8.8328e-04 - accuracy: 0.0250 - val_loss: 6.3659e-04 - val_accuracy: 0.0000e+00\n",
            "Epoch 65/100\n",
            "10/10 [==============================] - 0s 4ms/step - loss: 8.4671e-04 - accuracy: 0.0250 - val_loss: 6.1742e-04 - val_accuracy: 0.0000e+00\n",
            "Epoch 66/100\n",
            "10/10 [==============================] - 0s 5ms/step - loss: 8.2505e-04 - accuracy: 0.0250 - val_loss: 5.9956e-04 - val_accuracy: 0.0000e+00\n",
            "Epoch 67/100\n",
            "10/10 [==============================] - 0s 4ms/step - loss: 8.0860e-04 - accuracy: 0.0250 - val_loss: 5.8107e-04 - val_accuracy: 0.0000e+00\n",
            "Epoch 68/100\n",
            "10/10 [==============================] - 0s 4ms/step - loss: 7.8297e-04 - accuracy: 0.0250 - val_loss: 5.6905e-04 - val_accuracy: 0.0000e+00\n",
            "Epoch 69/100\n",
            "10/10 [==============================] - 0s 4ms/step - loss: 7.7310e-04 - accuracy: 0.0250 - val_loss: 5.5673e-04 - val_accuracy: 0.0000e+00\n",
            "Epoch 70/100\n",
            "10/10 [==============================] - 0s 4ms/step - loss: 7.5498e-04 - accuracy: 0.0250 - val_loss: 5.4729e-04 - val_accuracy: 0.0000e+00\n",
            "Epoch 71/100\n",
            "10/10 [==============================] - 0s 4ms/step - loss: 7.4192e-04 - accuracy: 0.0250 - val_loss: 5.3860e-04 - val_accuracy: 0.0000e+00\n",
            "Epoch 72/100\n",
            "10/10 [==============================] - 0s 4ms/step - loss: 7.3081e-04 - accuracy: 0.0250 - val_loss: 5.3156e-04 - val_accuracy: 0.0000e+00\n",
            "Epoch 73/100\n",
            "10/10 [==============================] - 0s 4ms/step - loss: 7.2388e-04 - accuracy: 0.0250 - val_loss: 5.2439e-04 - val_accuracy: 0.0000e+00\n",
            "Epoch 74/100\n",
            "10/10 [==============================] - 0s 4ms/step - loss: 7.1217e-04 - accuracy: 0.0250 - val_loss: 5.1859e-04 - val_accuracy: 0.0000e+00\n",
            "Epoch 75/100\n",
            "10/10 [==============================] - 0s 4ms/step - loss: 7.0353e-04 - accuracy: 0.0250 - val_loss: 5.1344e-04 - val_accuracy: 0.0000e+00\n",
            "Epoch 76/100\n",
            "10/10 [==============================] - 0s 5ms/step - loss: 6.9494e-04 - accuracy: 0.0250 - val_loss: 5.0878e-04 - val_accuracy: 0.0000e+00\n",
            "Epoch 77/100\n",
            "10/10 [==============================] - 0s 4ms/step - loss: 6.8919e-04 - accuracy: 0.0250 - val_loss: 5.0401e-04 - val_accuracy: 0.0000e+00\n",
            "Epoch 78/100\n",
            "10/10 [==============================] - 0s 5ms/step - loss: 6.8306e-04 - accuracy: 0.0250 - val_loss: 4.9912e-04 - val_accuracy: 0.0000e+00\n",
            "Epoch 79/100\n",
            "10/10 [==============================] - 0s 5ms/step - loss: 6.7990e-04 - accuracy: 0.0250 - val_loss: 4.9506e-04 - val_accuracy: 0.0000e+00\n",
            "Epoch 80/100\n",
            "10/10 [==============================] - 0s 5ms/step - loss: 6.6946e-04 - accuracy: 0.0250 - val_loss: 4.9109e-04 - val_accuracy: 0.0000e+00\n",
            "Epoch 81/100\n",
            "10/10 [==============================] - 0s 4ms/step - loss: 6.6265e-04 - accuracy: 0.0250 - val_loss: 4.8758e-04 - val_accuracy: 0.0000e+00\n",
            "Epoch 82/100\n",
            "10/10 [==============================] - 0s 4ms/step - loss: 6.5760e-04 - accuracy: 0.0250 - val_loss: 4.8443e-04 - val_accuracy: 0.0000e+00\n",
            "Epoch 83/100\n",
            "10/10 [==============================] - 0s 4ms/step - loss: 6.5282e-04 - accuracy: 0.0250 - val_loss: 4.8085e-04 - val_accuracy: 0.0000e+00\n",
            "Epoch 84/100\n",
            "10/10 [==============================] - 0s 4ms/step - loss: 6.4784e-04 - accuracy: 0.0250 - val_loss: 4.7766e-04 - val_accuracy: 0.0000e+00\n",
            "Epoch 85/100\n",
            "10/10 [==============================] - 0s 4ms/step - loss: 6.4223e-04 - accuracy: 0.0250 - val_loss: 4.7479e-04 - val_accuracy: 0.0000e+00\n",
            "Epoch 86/100\n",
            "10/10 [==============================] - 0s 4ms/step - loss: 6.3936e-04 - accuracy: 0.0250 - val_loss: 4.7154e-04 - val_accuracy: 0.0000e+00\n",
            "Epoch 87/100\n",
            "10/10 [==============================] - 0s 4ms/step - loss: 6.3424e-04 - accuracy: 0.0250 - val_loss: 4.6843e-04 - val_accuracy: 0.0000e+00\n",
            "Epoch 88/100\n",
            "10/10 [==============================] - 0s 4ms/step - loss: 6.2785e-04 - accuracy: 0.0250 - val_loss: 4.6601e-04 - val_accuracy: 0.0000e+00\n",
            "Epoch 89/100\n",
            "10/10 [==============================] - 0s 4ms/step - loss: 6.2402e-04 - accuracy: 0.0250 - val_loss: 4.6279e-04 - val_accuracy: 0.0000e+00\n",
            "Epoch 90/100\n",
            "10/10 [==============================] - 0s 4ms/step - loss: 6.2095e-04 - accuracy: 0.0250 - val_loss: 4.6106e-04 - val_accuracy: 0.0000e+00\n",
            "Epoch 91/100\n",
            "10/10 [==============================] - 0s 4ms/step - loss: 6.1603e-04 - accuracy: 0.0250 - val_loss: 4.5794e-04 - val_accuracy: 0.0000e+00\n",
            "Epoch 92/100\n",
            "10/10 [==============================] - 0s 4ms/step - loss: 6.1638e-04 - accuracy: 0.0250 - val_loss: 4.5514e-04 - val_accuracy: 0.0000e+00\n",
            "Epoch 93/100\n",
            "10/10 [==============================] - 0s 4ms/step - loss: 6.0609e-04 - accuracy: 0.0250 - val_loss: 4.5234e-04 - val_accuracy: 0.0000e+00\n",
            "Epoch 94/100\n",
            "10/10 [==============================] - 0s 4ms/step - loss: 6.0178e-04 - accuracy: 0.0250 - val_loss: 4.5076e-04 - val_accuracy: 0.0000e+00\n",
            "Epoch 95/100\n",
            "10/10 [==============================] - 0s 4ms/step - loss: 5.9813e-04 - accuracy: 0.0250 - val_loss: 4.4811e-04 - val_accuracy: 0.0000e+00\n",
            "Epoch 96/100\n",
            "10/10 [==============================] - 0s 4ms/step - loss: 5.9483e-04 - accuracy: 0.0250 - val_loss: 4.4530e-04 - val_accuracy: 0.0000e+00\n",
            "Epoch 97/100\n",
            "10/10 [==============================] - 0s 4ms/step - loss: 5.9129e-04 - accuracy: 0.0250 - val_loss: 4.4346e-04 - val_accuracy: 0.0000e+00\n",
            "Epoch 98/100\n",
            "10/10 [==============================] - 0s 4ms/step - loss: 5.8709e-04 - accuracy: 0.0250 - val_loss: 4.4164e-04 - val_accuracy: 0.0000e+00\n",
            "Epoch 99/100\n",
            "10/10 [==============================] - 0s 4ms/step - loss: 5.8412e-04 - accuracy: 0.0250 - val_loss: 4.3809e-04 - val_accuracy: 0.0000e+00\n",
            "Epoch 100/100\n",
            "10/10 [==============================] - 0s 4ms/step - loss: 5.7979e-04 - accuracy: 0.0250 - val_loss: 4.3618e-04 - val_accuracy: 0.0000e+00\n"
          ],
          "name": "stdout"
        }
      ]
    },
    {
      "cell_type": "markdown",
      "metadata": {
        "id": "quSl-k7hzyp_"
      },
      "source": [
        "### **(4) Model Predict**"
      ]
    },
    {
      "cell_type": "code",
      "metadata": {
        "id": "g3WJVhBl00LA"
      },
      "source": [
        "y_hat = model_2.predict(X_test)"
      ],
      "execution_count": 19,
      "outputs": []
    },
    {
      "cell_type": "markdown",
      "metadata": {
        "id": "eznmFrYx08-k"
      },
      "source": [
        "### **(5) 학습 결과 시각화**"
      ]
    },
    {
      "cell_type": "markdown",
      "metadata": {
        "id": "We6pPEW41BAl"
      },
      "source": [
        "- Loss 감소"
      ]
    },
    {
      "cell_type": "code",
      "metadata": {
        "colab": {
          "base_uri": "https://localhost:8080/",
          "height": 265
        },
        "id": "pUc1Rrpd1Cli",
        "outputId": "71bb8da6-4c61-4902-de75-9c3087a52cdd"
      },
      "source": [
        "plt.plot(Hist_2.history['loss'])\n",
        "plt.show()"
      ],
      "execution_count": 20,
      "outputs": [
        {
          "output_type": "display_data",
          "data": {
            "image/png": "[encoded data removed]",
            "text/plain": [
              "<Figure size 432x288 with 1 Axes>"
            ]
          },
          "metadata": {
            "tags": [],
            "needs_background": "light"
          }
        }
      ]
    },
    {
      "cell_type": "markdown",
      "metadata": {
        "id": "oh2iZysO1H6K"
      },
      "source": [
        "- 학습 수행\n",
        "  - <span style=\"color:green\">**녹색**</span> → **정답(y_test)**\n",
        "  - <span style=\"color:red\">**적색**</span> → **예측(y_hat)**"
      ]
    },
    {
      "cell_type": "code",
      "metadata": {
        "colab": {
          "base_uri": "https://localhost:8080/",
          "height": 265
        },
        "id": "5PXnr0kp1PSI",
        "outputId": "ffc57e45-9436-4d40-9219-9880a0f536a4"
      },
      "source": [
        "plt.scatter(range(20), y_test, c='g')\n",
        "plt.scatter(range(20), y_hat, c='r')\n",
        "plt.show()"
      ],
      "execution_count": 21,
      "outputs": [
        {
          "output_type": "display_data",
          "data": {
            "image/png": "[encoded data removed]",
            "text/plain": [
              "<Figure size 432x288 with 1 Axes>"
            ]
          },
          "metadata": {
            "tags": [],
            "needs_background": "light"
          }
        }
      ]
    },
    {
      "cell_type": "markdown",
      "metadata": {
        "id": "wZR2FdMY1xQJ"
      },
      "source": [
        "# **III. Stacked_LSTM**"
      ]
    },
    {
      "cell_type": "markdown",
      "metadata": {
        "id": "nSCkoghp14qh"
      },
      "source": [
        "> ## **1) Model Define & Summary**"
      ]
    },
    {
      "cell_type": "markdown",
      "metadata": {
        "id": "okcyPamJ17_o"
      },
      "source": [
        "- return_sequences=<span style=\"color:blue\">**True**</span>"
      ]
    },
    {
      "cell_type": "code",
      "metadata": {
        "colab": {
          "base_uri": "https://localhost:8080/"
        },
        "id": "aoY24WT_1_VH",
        "outputId": "6816770e-ff9e-4f79-e393-f3022eb445ce"
      },
      "source": [
        "model_3 = models.Sequential(name='Stacked_LSTM')\n",
        "model_3.add(layers.LSTM(3,\n",
        "                        input_shape=(None, 1),\n",
        "                        return_sequences=True))    # CNN 중간에는 True\n",
        "model_3.add(layers.LSTM(3,\n",
        "                        input_shape=(None, 1),\n",
        "                        return_sequences=False))   # CNN 마지막에는 False\n",
        "model_3.add(layers.Dense(1))\n",
        "\n",
        "model_3.summary()"
      ],
      "execution_count": 22,
      "outputs": [
        {
          "output_type": "stream",
          "text": [
            "Model: \"Stacked_LSTM\"\n",
            "_________________________________________________________________\n",
            "Layer (type)                 Output Shape              Param #   \n",
            "=================================================================\n",
            "lstm_2 (LSTM)                (None, None, 3)           60        \n",
            "_________________________________________________________________\n",
            "lstm_3 (LSTM)                (None, 3)                 84        \n",
            "_________________________________________________________________\n",
            "dense_2 (Dense)              (None, 1)                 4         \n",
            "=================================================================\n",
            "Total params: 148\n",
            "Trainable params: 148\n",
            "Non-trainable params: 0\n",
            "_________________________________________________________________\n"
          ],
          "name": "stdout"
        }
      ]
    },
    {
      "cell_type": "markdown",
      "metadata": {
        "id": "OJssqTUY2gGY"
      },
      "source": [
        "> ## **2) Model Compile**"
      ]
    },
    {
      "cell_type": "code",
      "metadata": {
        "id": "_tN-M9z-2r88"
      },
      "source": [
        "model_3.compile(loss='mse',\n",
        "                optimizer='adam',\n",
        "                metrics=['accuracy'])"
      ],
      "execution_count": 23,
      "outputs": []
    },
    {
      "cell_type": "markdown",
      "metadata": {
        "id": "4bjcFNie3Osx"
      },
      "source": [
        "> ## **3) Model Fit**"
      ]
    },
    {
      "cell_type": "code",
      "metadata": {
        "colab": {
          "base_uri": "https://localhost:8080/"
        },
        "id": "fkYKYi143Qy3",
        "outputId": "5c5c602e-08af-4e66-c39e-49ecf4c9938a"
      },
      "source": [
        "Hist_3 = model_3.fit(X_train, y_train,\n",
        "                     epochs=100,\n",
        "                     batch_size=8,\n",
        "                     validation_data=(X_test, y_test))"
      ],
      "execution_count": 24,
      "outputs": [
        {
          "output_type": "stream",
          "text": [
            "Epoch 1/100\n",
            "10/10 [==============================] - 3s 74ms/step - loss: 0.2802 - accuracy: 0.0125 - val_loss: 0.2565 - val_accuracy: 0.0000e+00\n",
            "Epoch 2/100\n",
            "10/10 [==============================] - 0s 5ms/step - loss: 0.2478 - accuracy: 0.0125 - val_loss: 0.2262 - val_accuracy: 0.0000e+00\n",
            "Epoch 3/100\n",
            "10/10 [==============================] - 0s 5ms/step - loss: 0.2197 - accuracy: 0.0125 - val_loss: 0.1979 - val_accuracy: 0.0000e+00\n",
            "Epoch 4/100\n",
            "10/10 [==============================] - 0s 5ms/step - loss: 0.1915 - accuracy: 0.0125 - val_loss: 0.1720 - val_accuracy: 0.0000e+00\n",
            "Epoch 5/100\n",
            "10/10 [==============================] - 0s 5ms/step - loss: 0.1671 - accuracy: 0.0125 - val_loss: 0.1464 - val_accuracy: 0.0000e+00\n",
            "Epoch 6/100\n",
            "10/10 [==============================] - 0s 5ms/step - loss: 0.1415 - accuracy: 0.0125 - val_loss: 0.1236 - val_accuracy: 0.0000e+00\n",
            "Epoch 7/100\n",
            "10/10 [==============================] - 0s 5ms/step - loss: 0.1207 - accuracy: 0.0125 - val_loss: 0.1013 - val_accuracy: 0.0000e+00\n",
            "Epoch 8/100\n",
            "10/10 [==============================] - 0s 6ms/step - loss: 0.1006 - accuracy: 0.0125 - val_loss: 0.0816 - val_accuracy: 0.0000e+00\n",
            "Epoch 9/100\n",
            "10/10 [==============================] - 0s 4ms/step - loss: 0.0815 - accuracy: 0.0125 - val_loss: 0.0661 - val_accuracy: 0.0000e+00\n",
            "Epoch 10/100\n",
            "10/10 [==============================] - 0s 6ms/step - loss: 0.0682 - accuracy: 0.0125 - val_loss: 0.0532 - val_accuracy: 0.0000e+00\n",
            "Epoch 11/100\n",
            "10/10 [==============================] - 0s 5ms/step - loss: 0.0565 - accuracy: 0.0250 - val_loss: 0.0444 - val_accuracy: 0.0000e+00\n",
            "Epoch 12/100\n",
            "10/10 [==============================] - 0s 5ms/step - loss: 0.0485 - accuracy: 0.0250 - val_loss: 0.0388 - val_accuracy: 0.0000e+00\n",
            "Epoch 13/100\n",
            "10/10 [==============================] - 0s 6ms/step - loss: 0.0438 - accuracy: 0.0250 - val_loss: 0.0349 - val_accuracy: 0.0000e+00\n",
            "Epoch 14/100\n",
            "10/10 [==============================] - 0s 5ms/step - loss: 0.0400 - accuracy: 0.0250 - val_loss: 0.0321 - val_accuracy: 0.0000e+00\n",
            "Epoch 15/100\n",
            "10/10 [==============================] - 0s 6ms/step - loss: 0.0367 - accuracy: 0.0250 - val_loss: 0.0297 - val_accuracy: 0.0000e+00\n",
            "Epoch 16/100\n",
            "10/10 [==============================] - 0s 5ms/step - loss: 0.0339 - accuracy: 0.0250 - val_loss: 0.0272 - val_accuracy: 0.0000e+00\n",
            "Epoch 17/100\n",
            "10/10 [==============================] - 0s 5ms/step - loss: 0.0310 - accuracy: 0.0250 - val_loss: 0.0248 - val_accuracy: 0.0000e+00\n",
            "Epoch 18/100\n",
            "10/10 [==============================] - 0s 5ms/step - loss: 0.0282 - accuracy: 0.0250 - val_loss: 0.0223 - val_accuracy: 0.0000e+00\n",
            "Epoch 19/100\n",
            "10/10 [==============================] - 0s 5ms/step - loss: 0.0251 - accuracy: 0.0250 - val_loss: 0.0200 - val_accuracy: 0.0000e+00\n",
            "Epoch 20/100\n",
            "10/10 [==============================] - 0s 5ms/step - loss: 0.0226 - accuracy: 0.0250 - val_loss: 0.0176 - val_accuracy: 0.0000e+00\n",
            "Epoch 21/100\n",
            "10/10 [==============================] - 0s 5ms/step - loss: 0.0198 - accuracy: 0.0250 - val_loss: 0.0154 - val_accuracy: 0.0000e+00\n",
            "Epoch 22/100\n",
            "10/10 [==============================] - 0s 5ms/step - loss: 0.0172 - accuracy: 0.0250 - val_loss: 0.0132 - val_accuracy: 0.0000e+00\n",
            "Epoch 23/100\n",
            "10/10 [==============================] - 0s 5ms/step - loss: 0.0148 - accuracy: 0.0250 - val_loss: 0.0114 - val_accuracy: 0.0000e+00\n",
            "Epoch 24/100\n",
            "10/10 [==============================] - 0s 5ms/step - loss: 0.0126 - accuracy: 0.0250 - val_loss: 0.0095 - val_accuracy: 0.0000e+00\n",
            "Epoch 25/100\n",
            "10/10 [==============================] - 0s 5ms/step - loss: 0.0106 - accuracy: 0.0250 - val_loss: 0.0078 - val_accuracy: 0.0000e+00\n",
            "Epoch 26/100\n",
            "10/10 [==============================] - 0s 5ms/step - loss: 0.0086 - accuracy: 0.0250 - val_loss: 0.0064 - val_accuracy: 0.0000e+00\n",
            "Epoch 27/100\n",
            "10/10 [==============================] - 0s 5ms/step - loss: 0.0070 - accuracy: 0.0250 - val_loss: 0.0052 - val_accuracy: 0.0000e+00\n",
            "Epoch 28/100\n",
            "10/10 [==============================] - 0s 5ms/step - loss: 0.0056 - accuracy: 0.0250 - val_loss: 0.0041 - val_accuracy: 0.0000e+00\n",
            "Epoch 29/100\n",
            "10/10 [==============================] - 0s 5ms/step - loss: 0.0045 - accuracy: 0.0250 - val_loss: 0.0032 - val_accuracy: 0.0000e+00\n",
            "Epoch 30/100\n",
            "10/10 [==============================] - 0s 7ms/step - loss: 0.0035 - accuracy: 0.0250 - val_loss: 0.0024 - val_accuracy: 0.0000e+00\n",
            "Epoch 31/100\n",
            "10/10 [==============================] - 0s 5ms/step - loss: 0.0027 - accuracy: 0.0250 - val_loss: 0.0019 - val_accuracy: 0.0000e+00\n",
            "Epoch 32/100\n",
            "10/10 [==============================] - 0s 5ms/step - loss: 0.0021 - accuracy: 0.0250 - val_loss: 0.0014 - val_accuracy: 0.0000e+00\n",
            "Epoch 33/100\n",
            "10/10 [==============================] - 0s 5ms/step - loss: 0.0016 - accuracy: 0.0250 - val_loss: 0.0011 - val_accuracy: 0.0000e+00\n",
            "Epoch 34/100\n",
            "10/10 [==============================] - 0s 5ms/step - loss: 0.0013 - accuracy: 0.0250 - val_loss: 8.6325e-04 - val_accuracy: 0.0000e+00\n",
            "Epoch 35/100\n",
            "10/10 [==============================] - 0s 5ms/step - loss: 0.0010 - accuracy: 0.0250 - val_loss: 7.0433e-04 - val_accuracy: 0.0000e+00\n",
            "Epoch 36/100\n",
            "10/10 [==============================] - 0s 6ms/step - loss: 8.5761e-04 - accuracy: 0.0250 - val_loss: 6.0223e-04 - val_accuracy: 0.0000e+00\n",
            "Epoch 37/100\n",
            "10/10 [==============================] - 0s 5ms/step - loss: 7.2666e-04 - accuracy: 0.0250 - val_loss: 5.3378e-04 - val_accuracy: 0.0000e+00\n",
            "Epoch 38/100\n",
            "10/10 [==============================] - 0s 6ms/step - loss: 6.4907e-04 - accuracy: 0.0250 - val_loss: 4.9018e-04 - val_accuracy: 0.0000e+00\n",
            "Epoch 39/100\n",
            "10/10 [==============================] - 0s 5ms/step - loss: 5.8891e-04 - accuracy: 0.0250 - val_loss: 4.6609e-04 - val_accuracy: 0.0000e+00\n",
            "Epoch 40/100\n",
            "10/10 [==============================] - 0s 5ms/step - loss: 5.5935e-04 - accuracy: 0.0250 - val_loss: 4.5268e-04 - val_accuracy: 0.0000e+00\n",
            "Epoch 41/100\n",
            "10/10 [==============================] - 0s 5ms/step - loss: 5.4392e-04 - accuracy: 0.0250 - val_loss: 4.5463e-04 - val_accuracy: 0.0000e+00\n",
            "Epoch 42/100\n",
            "10/10 [==============================] - 0s 5ms/step - loss: 5.1385e-04 - accuracy: 0.0250 - val_loss: 4.4441e-04 - val_accuracy: 0.0000e+00\n",
            "Epoch 43/100\n",
            "10/10 [==============================] - 0s 5ms/step - loss: 5.0994e-04 - accuracy: 0.0250 - val_loss: 4.4196e-04 - val_accuracy: 0.0000e+00\n",
            "Epoch 44/100\n",
            "10/10 [==============================] - 0s 5ms/step - loss: 5.0546e-04 - accuracy: 0.0250 - val_loss: 4.4300e-04 - val_accuracy: 0.0000e+00\n",
            "Epoch 45/100\n",
            "10/10 [==============================] - 0s 6ms/step - loss: 5.0568e-04 - accuracy: 0.0250 - val_loss: 4.5790e-04 - val_accuracy: 0.0000e+00\n",
            "Epoch 46/100\n",
            "10/10 [==============================] - 0s 5ms/step - loss: 4.9341e-04 - accuracy: 0.0250 - val_loss: 4.4254e-04 - val_accuracy: 0.0000e+00\n",
            "Epoch 47/100\n",
            "10/10 [==============================] - 0s 6ms/step - loss: 4.9120e-04 - accuracy: 0.0250 - val_loss: 4.4334e-04 - val_accuracy: 0.0000e+00\n",
            "Epoch 48/100\n",
            "10/10 [==============================] - 0s 5ms/step - loss: 4.8459e-04 - accuracy: 0.0250 - val_loss: 4.4036e-04 - val_accuracy: 0.0000e+00\n",
            "Epoch 49/100\n",
            "10/10 [==============================] - 0s 6ms/step - loss: 4.8448e-04 - accuracy: 0.0250 - val_loss: 4.3908e-04 - val_accuracy: 0.0000e+00\n",
            "Epoch 50/100\n",
            "10/10 [==============================] - 0s 6ms/step - loss: 4.8227e-04 - accuracy: 0.0250 - val_loss: 4.4663e-04 - val_accuracy: 0.0000e+00\n",
            "Epoch 51/100\n",
            "10/10 [==============================] - 0s 5ms/step - loss: 4.8120e-04 - accuracy: 0.0250 - val_loss: 4.4488e-04 - val_accuracy: 0.0000e+00\n",
            "Epoch 52/100\n",
            "10/10 [==============================] - 0s 5ms/step - loss: 4.7467e-04 - accuracy: 0.0250 - val_loss: 4.3664e-04 - val_accuracy: 0.0000e+00\n",
            "Epoch 53/100\n",
            "10/10 [==============================] - 0s 5ms/step - loss: 4.7771e-04 - accuracy: 0.0250 - val_loss: 4.3368e-04 - val_accuracy: 0.0000e+00\n",
            "Epoch 54/100\n",
            "10/10 [==============================] - 0s 5ms/step - loss: 4.7599e-04 - accuracy: 0.0250 - val_loss: 4.3597e-04 - val_accuracy: 0.0000e+00\n",
            "Epoch 55/100\n",
            "10/10 [==============================] - 0s 6ms/step - loss: 4.7349e-04 - accuracy: 0.0250 - val_loss: 4.3708e-04 - val_accuracy: 0.0000e+00\n",
            "Epoch 56/100\n",
            "10/10 [==============================] - 0s 6ms/step - loss: 4.7014e-04 - accuracy: 0.0250 - val_loss: 4.3072e-04 - val_accuracy: 0.0000e+00\n",
            "Epoch 57/100\n",
            "10/10 [==============================] - 0s 6ms/step - loss: 4.6639e-04 - accuracy: 0.0250 - val_loss: 4.2759e-04 - val_accuracy: 0.0000e+00\n",
            "Epoch 58/100\n",
            "10/10 [==============================] - 0s 5ms/step - loss: 4.7019e-04 - accuracy: 0.0250 - val_loss: 4.2338e-04 - val_accuracy: 0.0000e+00\n",
            "Epoch 59/100\n",
            "10/10 [==============================] - 0s 5ms/step - loss: 4.6470e-04 - accuracy: 0.0250 - val_loss: 4.2484e-04 - val_accuracy: 0.0000e+00\n",
            "Epoch 60/100\n",
            "10/10 [==============================] - 0s 5ms/step - loss: 4.5957e-04 - accuracy: 0.0250 - val_loss: 4.2162e-04 - val_accuracy: 0.0000e+00\n",
            "Epoch 61/100\n",
            "10/10 [==============================] - 0s 5ms/step - loss: 4.5947e-04 - accuracy: 0.0250 - val_loss: 4.1828e-04 - val_accuracy: 0.0000e+00\n",
            "Epoch 62/100\n",
            "10/10 [==============================] - 0s 5ms/step - loss: 4.5910e-04 - accuracy: 0.0250 - val_loss: 4.2483e-04 - val_accuracy: 0.0000e+00\n",
            "Epoch 63/100\n",
            "10/10 [==============================] - 0s 4ms/step - loss: 4.5591e-04 - accuracy: 0.0250 - val_loss: 4.1660e-04 - val_accuracy: 0.0000e+00\n",
            "Epoch 64/100\n",
            "10/10 [==============================] - 0s 4ms/step - loss: 4.5041e-04 - accuracy: 0.0250 - val_loss: 4.1144e-04 - val_accuracy: 0.0000e+00\n",
            "Epoch 65/100\n",
            "10/10 [==============================] - 0s 5ms/step - loss: 4.5090e-04 - accuracy: 0.0250 - val_loss: 4.0989e-04 - val_accuracy: 0.0000e+00\n",
            "Epoch 66/100\n",
            "10/10 [==============================] - 0s 6ms/step - loss: 4.5498e-04 - accuracy: 0.0250 - val_loss: 4.1571e-04 - val_accuracy: 0.0000e+00\n",
            "Epoch 67/100\n",
            "10/10 [==============================] - 0s 5ms/step - loss: 4.4288e-04 - accuracy: 0.0250 - val_loss: 4.0546e-04 - val_accuracy: 0.0000e+00\n",
            "Epoch 68/100\n",
            "10/10 [==============================] - 0s 6ms/step - loss: 4.4342e-04 - accuracy: 0.0250 - val_loss: 4.0169e-04 - val_accuracy: 0.0000e+00\n",
            "Epoch 69/100\n",
            "10/10 [==============================] - 0s 5ms/step - loss: 4.4018e-04 - accuracy: 0.0250 - val_loss: 4.0046e-04 - val_accuracy: 0.0000e+00\n",
            "Epoch 70/100\n",
            "10/10 [==============================] - 0s 5ms/step - loss: 4.4002e-04 - accuracy: 0.0250 - val_loss: 4.0118e-04 - val_accuracy: 0.0000e+00\n",
            "Epoch 71/100\n",
            "10/10 [==============================] - 0s 5ms/step - loss: 4.3636e-04 - accuracy: 0.0250 - val_loss: 3.9750e-04 - val_accuracy: 0.0000e+00\n",
            "Epoch 72/100\n",
            "10/10 [==============================] - 0s 5ms/step - loss: 4.3878e-04 - accuracy: 0.0250 - val_loss: 3.9926e-04 - val_accuracy: 0.0000e+00\n",
            "Epoch 73/100\n",
            "10/10 [==============================] - 0s 5ms/step - loss: 4.3165e-04 - accuracy: 0.0250 - val_loss: 3.9350e-04 - val_accuracy: 0.0000e+00\n",
            "Epoch 74/100\n",
            "10/10 [==============================] - 0s 5ms/step - loss: 4.3178e-04 - accuracy: 0.0250 - val_loss: 3.9031e-04 - val_accuracy: 0.0000e+00\n",
            "Epoch 75/100\n",
            "10/10 [==============================] - 0s 6ms/step - loss: 4.3514e-04 - accuracy: 0.0250 - val_loss: 3.9362e-04 - val_accuracy: 0.0000e+00\n",
            "Epoch 76/100\n",
            "10/10 [==============================] - 0s 5ms/step - loss: 4.3442e-04 - accuracy: 0.0250 - val_loss: 3.8714e-04 - val_accuracy: 0.0000e+00\n",
            "Epoch 77/100\n",
            "10/10 [==============================] - 0s 5ms/step - loss: 4.3205e-04 - accuracy: 0.0250 - val_loss: 3.9368e-04 - val_accuracy: 0.0000e+00\n",
            "Epoch 78/100\n",
            "10/10 [==============================] - 0s 6ms/step - loss: 4.2151e-04 - accuracy: 0.0250 - val_loss: 3.8181e-04 - val_accuracy: 0.0000e+00\n",
            "Epoch 79/100\n",
            "10/10 [==============================] - 0s 5ms/step - loss: 4.2165e-04 - accuracy: 0.0250 - val_loss: 3.7825e-04 - val_accuracy: 0.0000e+00\n",
            "Epoch 80/100\n",
            "10/10 [==============================] - 0s 4ms/step - loss: 4.1646e-04 - accuracy: 0.0250 - val_loss: 3.7814e-04 - val_accuracy: 0.0000e+00\n",
            "Epoch 81/100\n",
            "10/10 [==============================] - 0s 5ms/step - loss: 4.1915e-04 - accuracy: 0.0250 - val_loss: 3.8260e-04 - val_accuracy: 0.0000e+00\n",
            "Epoch 82/100\n",
            "10/10 [==============================] - 0s 5ms/step - loss: 4.2035e-04 - accuracy: 0.0250 - val_loss: 3.7284e-04 - val_accuracy: 0.0000e+00\n",
            "Epoch 83/100\n",
            "10/10 [==============================] - 0s 5ms/step - loss: 4.1279e-04 - accuracy: 0.0250 - val_loss: 3.7962e-04 - val_accuracy: 0.0000e+00\n",
            "Epoch 84/100\n",
            "10/10 [==============================] - 0s 6ms/step - loss: 4.1048e-04 - accuracy: 0.0250 - val_loss: 3.6970e-04 - val_accuracy: 0.0000e+00\n",
            "Epoch 85/100\n",
            "10/10 [==============================] - 0s 5ms/step - loss: 4.0628e-04 - accuracy: 0.0250 - val_loss: 3.6747e-04 - val_accuracy: 0.0000e+00\n",
            "Epoch 86/100\n",
            "10/10 [==============================] - 0s 5ms/step - loss: 4.0361e-04 - accuracy: 0.0250 - val_loss: 3.6522e-04 - val_accuracy: 0.0000e+00\n",
            "Epoch 87/100\n",
            "10/10 [==============================] - 0s 5ms/step - loss: 4.0015e-04 - accuracy: 0.0250 - val_loss: 3.6580e-04 - val_accuracy: 0.0000e+00\n",
            "Epoch 88/100\n",
            "10/10 [==============================] - 0s 5ms/step - loss: 4.0874e-04 - accuracy: 0.0250 - val_loss: 3.7228e-04 - val_accuracy: 0.0000e+00\n",
            "Epoch 89/100\n",
            "10/10 [==============================] - 0s 6ms/step - loss: 4.1104e-04 - accuracy: 0.0250 - val_loss: 3.5865e-04 - val_accuracy: 0.0000e+00\n",
            "Epoch 90/100\n",
            "10/10 [==============================] - 0s 5ms/step - loss: 3.9393e-04 - accuracy: 0.0250 - val_loss: 3.5946e-04 - val_accuracy: 0.0000e+00\n",
            "Epoch 91/100\n",
            "10/10 [==============================] - 0s 5ms/step - loss: 3.9196e-04 - accuracy: 0.0250 - val_loss: 3.5739e-04 - val_accuracy: 0.0000e+00\n",
            "Epoch 92/100\n",
            "10/10 [==============================] - 0s 5ms/step - loss: 3.9838e-04 - accuracy: 0.0250 - val_loss: 3.5568e-04 - val_accuracy: 0.0000e+00\n",
            "Epoch 93/100\n",
            "10/10 [==============================] - 0s 6ms/step - loss: 3.9436e-04 - accuracy: 0.0250 - val_loss: 3.4827e-04 - val_accuracy: 0.0000e+00\n",
            "Epoch 94/100\n",
            "10/10 [==============================] - 0s 5ms/step - loss: 3.8939e-04 - accuracy: 0.0250 - val_loss: 3.5324e-04 - val_accuracy: 0.0000e+00\n",
            "Epoch 95/100\n",
            "10/10 [==============================] - 0s 5ms/step - loss: 3.8404e-04 - accuracy: 0.0250 - val_loss: 3.4729e-04 - val_accuracy: 0.0000e+00\n",
            "Epoch 96/100\n",
            "10/10 [==============================] - 0s 5ms/step - loss: 3.8303e-04 - accuracy: 0.0250 - val_loss: 3.4447e-04 - val_accuracy: 0.0000e+00\n",
            "Epoch 97/100\n",
            "10/10 [==============================] - 0s 5ms/step - loss: 3.7876e-04 - accuracy: 0.0250 - val_loss: 3.4345e-04 - val_accuracy: 0.0000e+00\n",
            "Epoch 98/100\n",
            "10/10 [==============================] - 0s 5ms/step - loss: 3.8372e-04 - accuracy: 0.0250 - val_loss: 3.4746e-04 - val_accuracy: 0.0000e+00\n",
            "Epoch 99/100\n",
            "10/10 [==============================] - 0s 5ms/step - loss: 3.8411e-04 - accuracy: 0.0250 - val_loss: 3.3843e-04 - val_accuracy: 0.0000e+00\n",
            "Epoch 100/100\n",
            "10/10 [==============================] - 0s 4ms/step - loss: 3.7169e-04 - accuracy: 0.0250 - val_loss: 3.3721e-04 - val_accuracy: 0.0000e+00\n"
          ],
          "name": "stdout"
        }
      ]
    },
    {
      "cell_type": "markdown",
      "metadata": {
        "id": "tkNHY2Vv3bDe"
      },
      "source": [
        "> ## **4) Model Predict**"
      ]
    },
    {
      "cell_type": "code",
      "metadata": {
        "id": "h-eYzNI33fhX"
      },
      "source": [
        "y_hat = model_3.predict(X_test)"
      ],
      "execution_count": 25,
      "outputs": []
    },
    {
      "cell_type": "markdown",
      "metadata": {
        "id": "QBG7lQmz3itN"
      },
      "source": [
        "> ## **5) 학습 결과 시각화**"
      ]
    },
    {
      "cell_type": "code",
      "metadata": {
        "colab": {
          "base_uri": "https://localhost:8080/",
          "height": 265
        },
        "id": "SUxwlQha3mKW",
        "outputId": "426019c4-00b5-4e36-d10e-c657c0d7691d"
      },
      "source": [
        "plt.plot(Hist_3.history['loss'])\n",
        "plt.show()"
      ],
      "execution_count": 26,
      "outputs": [
        {
          "output_type": "display_data",
          "data": {
            "image/png": "[encoded data removed]",
            "text/plain": [
              "<Figure size 432x288 with 1 Axes>"
            ]
          },
          "metadata": {
            "tags": [],
            "needs_background": "light"
          }
        }
      ]
    },
    {
      "cell_type": "markdown",
      "metadata": {
        "id": "LF9soKx8327I"
      },
      "source": [
        "- 학습 수행\n",
        "  - <span style=\"color:green\">**녹색**</span> → **정답(y_test)**\n",
        "  - <span style=\"color:red\">**적색**</span> → **예측(y_hat)**"
      ]
    },
    {
      "cell_type": "code",
      "metadata": {
        "colab": {
          "base_uri": "https://localhost:8080/",
          "height": 265
        },
        "id": "Q_6rGbGS3ql2",
        "outputId": "4aec1116-e06e-4022-b916-3f0d79a49e4d"
      },
      "source": [
        "plt.scatter(range(20), y_test, c='g')\n",
        "plt.scatter(range(20), y_hat, c='r')\n",
        "plt.show()"
      ],
      "execution_count": 27,
      "outputs": [
        {
          "output_type": "display_data",
          "data": {
            "image/png": "[encoded data removed]",
            "text/plain": [
              "<Figure size 432x288 with 1 Axes>"
            ]
          },
          "metadata": {
            "tags": [],
            "needs_background": "light"
          }
        }
      ]
    },
    {
      "cell_type": "code",
      "metadata": {
        "id": "OxSkZtT-5_q2"
      },
      "source": [
        ""
      ],
      "execution_count": 27,
      "outputs": []
    }
  ]
}