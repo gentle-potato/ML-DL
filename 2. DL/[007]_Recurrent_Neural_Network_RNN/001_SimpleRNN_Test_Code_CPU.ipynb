{
  "nbformat": 4,
  "nbformat_minor": 0,
  "metadata": {
    "colab": {
      "name": "001_SimpleRNN_Test_Code_CPU.ipynb",
      "provenance": [],
      "collapsed_sections": [],
      "toc_visible": true
    },
    "kernelspec": {
      "name": "python3",
      "display_name": "Python 3"
    },
    "language_info": {
      "name": "python"
    }
  },
  "cells": [
    {
      "cell_type": "markdown",
      "metadata": {
        "id": "whEsM7PIHEBY"
      },
      "source": [
        "# **SimpleRNN Test Code**"
      ]
    },
    {
      "cell_type": "code",
      "metadata": {
        "id": "uPtpNSPlKo2C"
      },
      "source": [
        "import warnings\n",
        "warnings.filterwarnings('ignore')"
      ],
      "execution_count": 1,
      "outputs": []
    },
    {
      "cell_type": "markdown",
      "metadata": {
        "id": "eu6PjBaSKwBY"
      },
      "source": [
        "> ## **Import Packages**"
      ]
    },
    {
      "cell_type": "code",
      "metadata": {
        "id": "EBa7WGYtKycG"
      },
      "source": [
        "import numpy as np\n",
        "import matplotlib.pyplot as plt"
      ],
      "execution_count": 2,
      "outputs": []
    },
    {
      "cell_type": "markdown",
      "metadata": {
        "id": "ZgHquaTyK0FH"
      },
      "source": [
        "# **I. SimpleRNN - without Normalization**"
      ]
    },
    {
      "cell_type": "markdown",
      "metadata": {
        "id": "b7gyCR-2K3ml"
      },
      "source": [
        "> ## **1) Sample Data**"
      ]
    },
    {
      "cell_type": "markdown",
      "metadata": {
        "id": "K5xEtw4zK7AN"
      },
      "source": [
        "- Inputs 데이터 생성 → (100, 5, 1)"
      ]
    },
    {
      "cell_type": "code",
      "metadata": {
        "colab": {
          "base_uri": "https://localhost:8080/"
        },
        "id": "g7B-Len_LA3L",
        "outputId": "0c566995-d78b-4317-8dfa-e73eb9e7fd44"
      },
      "source": [
        "X = [[[i + j] for i in range(5)] for j in range(100)]\n",
        "\n",
        "X[:3], X[-3:]"
      ],
      "execution_count": 3,
      "outputs": [
        {
          "output_type": "execute_result",
          "data": {
            "text/plain": [
              "([[[0], [1], [2], [3], [4]],\n",
              "  [[1], [2], [3], [4], [5]],\n",
              "  [[2], [3], [4], [5], [6]]],\n",
              " [[[97], [98], [99], [100], [101]],\n",
              "  [[98], [99], [100], [101], [102]],\n",
              "  [[99], [100], [101], [102], [103]]])"
            ]
          },
          "metadata": {
            "tags": []
          },
          "execution_count": 3
        }
      ]
    },
    {
      "cell_type": "markdown",
      "metadata": {
        "id": "dStmTyBgLSQw"
      },
      "source": [
        "- Outputs 데이터 생성 → (100, 1)"
      ]
    },
    {
      "cell_type": "code",
      "metadata": {
        "colab": {
          "base_uri": "https://localhost:8080/"
        },
        "id": "cLb03GbBLZTb",
        "outputId": "5ce2eb09-dee6-4c35-b024-4534d9d1017e"
      },
      "source": [
        "y = [(i + 5) for i in range(100)]\n",
        "\n",
        "y[:3], y[-3:]"
      ],
      "execution_count": 4,
      "outputs": [
        {
          "output_type": "execute_result",
          "data": {
            "text/plain": [
              "([5, 6, 7], [102, 103, 104])"
            ]
          },
          "metadata": {
            "tags": []
          },
          "execution_count": 4
        }
      ]
    },
    {
      "cell_type": "markdown",
      "metadata": {
        "id": "yG4ttoezLgX3"
      },
      "source": [
        "> ## **2) Numpy_Array Casting**"
      ]
    },
    {
      "cell_type": "code",
      "metadata": {
        "colab": {
          "base_uri": "https://localhost:8080/"
        },
        "id": "_jrEtZesLkbY",
        "outputId": "64b00e05-4969-40d0-c303-78f772cac506"
      },
      "source": [
        "X = np.array(X, dtype=float)\n",
        "y = np.array(y, dtype=float)\n",
        "\n",
        "X.shape, y.shape"
      ],
      "execution_count": 5,
      "outputs": [
        {
          "output_type": "execute_result",
          "data": {
            "text/plain": [
              "((100, 5, 1), (100,))"
            ]
          },
          "metadata": {
            "tags": []
          },
          "execution_count": 5
        }
      ]
    },
    {
      "cell_type": "markdown",
      "metadata": {
        "id": "Gh-V7OprLzbE"
      },
      "source": [
        "> ## **3) Train vs. Test Split**"
      ]
    },
    {
      "cell_type": "markdown",
      "metadata": {
        "id": "naddix7NL2wU"
      },
      "source": [
        "- 80:20"
      ]
    },
    {
      "cell_type": "code",
      "metadata": {
        "colab": {
          "base_uri": "https://localhost:8080/"
        },
        "id": "6Et7IIiPL373",
        "outputId": "24b71148-de26-449b-db9f-05b40b6c36a7"
      },
      "source": [
        "from sklearn.model_selection import train_test_split\n",
        "\n",
        "X_train, X_test, y_train, y_test = train_test_split(X, y,\n",
        "                                                    test_size=0.2,\n",
        "                                                    random_state=2045)\n",
        "\n",
        "X_train.shape, y_train.shape, X_test.shape, y_test.shape"
      ],
      "execution_count": 6,
      "outputs": [
        {
          "output_type": "execute_result",
          "data": {
            "text/plain": [
              "((80, 5, 1), (80,), (20, 5, 1), (20,))"
            ]
          },
          "metadata": {
            "tags": []
          },
          "execution_count": 6
        }
      ]
    },
    {
      "cell_type": "markdown",
      "metadata": {
        "id": "UBUxEuTLMIOP"
      },
      "source": [
        "> ## **4) Keras SimpleRNN Modeling**"
      ]
    },
    {
      "cell_type": "markdown",
      "metadata": {
        "id": "331Q5f0dMiQJ"
      },
      "source": [
        "### **(1) Model Define & Summary**\n",
        "- Unit(output_dim) : 3\n",
        "- input_shape(input_length, input_dim) : (5, 1)\n",
        "- return_sequences=False : 최종 Unit만 출력 → **<span style=\"color:orange\">Stacked_SimpleRNN</span>을 사용하기 위해서는 <span style=\"color:blue\">True</span>**(아래 코드로 예시 나옴)\n",
        "- layers.Dense(1) : y_hat"
      ]
    },
    {
      "cell_type": "code",
      "metadata": {
        "colab": {
          "base_uri": "https://localhost:8080/"
        },
        "id": "L793Sy_eNPUh",
        "outputId": "1fac8110-3d29-4cbf-cd1e-1a92ddda8bbb"
      },
      "source": [
        "from tensorflow.keras import models, layers\n",
        "\n",
        "model_1 = models.Sequential(name='SimpleRNN_1')\n",
        "model_1.add(layers.SimpleRNN(3,\n",
        "                             input_shape=(5, 1),\n",
        "                             return_sequences=False))\n",
        "model_1.add(layers.Dense(1))   # 수치 예측이기 때문에 노드 1개\n",
        "\n",
        "model_1.summary()"
      ],
      "execution_count": 7,
      "outputs": [
        {
          "output_type": "stream",
          "text": [
            "Model: \"SimpleRNN_1\"\n",
            "_________________________________________________________________\n",
            "Layer (type)                 Output Shape              Param #   \n",
            "=================================================================\n",
            "simple_rnn (SimpleRNN)       (None, 3)                 15        \n",
            "_________________________________________________________________\n",
            "dense (Dense)                (None, 1)                 4         \n",
            "=================================================================\n",
            "Total params: 19\n",
            "Trainable params: 19\n",
            "Non-trainable params: 0\n",
            "_________________________________________________________________\n"
          ],
          "name": "stdout"
        }
      ]
    },
    {
      "cell_type": "markdown",
      "metadata": {
        "id": "CPO7g7OTXnXF"
      },
      "source": [
        "### **(2) Model Compile**"
      ]
    },
    {
      "cell_type": "code",
      "metadata": {
        "id": "fzCKYfGEX0oC"
      },
      "source": [
        "model_1.compile(loss='mse',\n",
        "                optimizer='adam',\n",
        "                metrics=['accuracy'])   # 연속된 수치이기 때문에 어떤 걸로 해도 무방"
      ],
      "execution_count": 8,
      "outputs": []
    },
    {
      "cell_type": "markdown",
      "metadata": {
        "id": "Yd3y1yZqYGHi"
      },
      "source": [
        "### **(3) Model Fit**"
      ]
    },
    {
      "cell_type": "code",
      "metadata": {
        "colab": {
          "base_uri": "https://localhost:8080/"
        },
        "id": "MTohPhhiYbc8",
        "outputId": "1f41270b-0b65-47cb-e81b-eefb8281185b"
      },
      "source": [
        "Hist_1 = model_1.fit(X_train, y_train,\n",
        "                     epochs=100,\n",
        "                     batch_size=8,\n",
        "                     validation_data=(X_test, y_test))"
      ],
      "execution_count": 9,
      "outputs": [
        {
          "output_type": "stream",
          "text": [
            "Epoch 1/100\n",
            "10/10 [==============================] - 1s 31ms/step - loss: 3556.9487 - accuracy: 0.0000e+00 - val_loss: 3505.4675 - val_accuracy: 0.0000e+00\n",
            "Epoch 2/100\n",
            "10/10 [==============================] - 0s 4ms/step - loss: 3552.7156 - accuracy: 0.0000e+00 - val_loss: 3501.3384 - val_accuracy: 0.0000e+00\n",
            "Epoch 3/100\n",
            "10/10 [==============================] - 0s 4ms/step - loss: 3548.6646 - accuracy: 0.0000e+00 - val_loss: 3497.1406 - val_accuracy: 0.0000e+00\n",
            "Epoch 4/100\n",
            "10/10 [==============================] - 0s 4ms/step - loss: 3544.5327 - accuracy: 0.0000e+00 - val_loss: 3492.9688 - val_accuracy: 0.0000e+00\n",
            "Epoch 5/100\n",
            "10/10 [==============================] - 0s 4ms/step - loss: 3540.4761 - accuracy: 0.0000e+00 - val_loss: 3488.7812 - val_accuracy: 0.0000e+00\n",
            "Epoch 6/100\n",
            "10/10 [==============================] - 0s 4ms/step - loss: 3536.2749 - accuracy: 0.0000e+00 - val_loss: 3484.6882 - val_accuracy: 0.0000e+00\n",
            "Epoch 7/100\n",
            "10/10 [==============================] - 0s 5ms/step - loss: 3532.2844 - accuracy: 0.0000e+00 - val_loss: 3480.5164 - val_accuracy: 0.0000e+00\n",
            "Epoch 8/100\n",
            "10/10 [==============================] - 0s 5ms/step - loss: 3528.1355 - accuracy: 0.0000e+00 - val_loss: 3476.4038 - val_accuracy: 0.0000e+00\n",
            "Epoch 9/100\n",
            "10/10 [==============================] - 0s 5ms/step - loss: 3524.1492 - accuracy: 0.0000e+00 - val_loss: 3472.2319 - val_accuracy: 0.0000e+00\n",
            "Epoch 10/100\n",
            "10/10 [==============================] - 0s 4ms/step - loss: 3520.0325 - accuracy: 0.0000e+00 - val_loss: 3468.1094 - val_accuracy: 0.0000e+00\n",
            "Epoch 11/100\n",
            "10/10 [==============================] - 0s 5ms/step - loss: 3516.0183 - accuracy: 0.0000e+00 - val_loss: 3463.9492 - val_accuracy: 0.0000e+00\n",
            "Epoch 12/100\n",
            "10/10 [==============================] - 0s 6ms/step - loss: 3511.8950 - accuracy: 0.0000e+00 - val_loss: 3459.8555 - val_accuracy: 0.0000e+00\n",
            "Epoch 13/100\n",
            "10/10 [==============================] - 0s 5ms/step - loss: 3507.8784 - accuracy: 0.0000e+00 - val_loss: 3455.7312 - val_accuracy: 0.0000e+00\n",
            "Epoch 14/100\n",
            "10/10 [==============================] - 0s 5ms/step - loss: 3503.9297 - accuracy: 0.0000e+00 - val_loss: 3451.5337 - val_accuracy: 0.0000e+00\n",
            "Epoch 15/100\n",
            "10/10 [==============================] - 0s 4ms/step - loss: 3499.7708 - accuracy: 0.0000e+00 - val_loss: 3447.4524 - val_accuracy: 0.0000e+00\n",
            "Epoch 16/100\n",
            "10/10 [==============================] - 0s 5ms/step - loss: 3495.7700 - accuracy: 0.0000e+00 - val_loss: 3443.3418 - val_accuracy: 0.0000e+00\n",
            "Epoch 17/100\n",
            "10/10 [==============================] - 0s 5ms/step - loss: 3491.7661 - accuracy: 0.0000e+00 - val_loss: 3439.2180 - val_accuracy: 0.0000e+00\n",
            "Epoch 18/100\n",
            "10/10 [==============================] - 0s 4ms/step - loss: 3487.6660 - accuracy: 0.0000e+00 - val_loss: 3435.1704 - val_accuracy: 0.0000e+00\n",
            "Epoch 19/100\n",
            "10/10 [==============================] - 0s 5ms/step - loss: 3483.6765 - accuracy: 0.0000e+00 - val_loss: 3431.0964 - val_accuracy: 0.0000e+00\n",
            "Epoch 20/100\n",
            "10/10 [==============================] - 0s 5ms/step - loss: 3479.6414 - accuracy: 0.0000e+00 - val_loss: 3427.0454 - val_accuracy: 0.0000e+00\n",
            "Epoch 21/100\n",
            "10/10 [==============================] - 0s 5ms/step - loss: 3475.6372 - accuracy: 0.0000e+00 - val_loss: 3422.9875 - val_accuracy: 0.0000e+00\n",
            "Epoch 22/100\n",
            "10/10 [==============================] - 0s 5ms/step - loss: 3471.8047 - accuracy: 0.0000e+00 - val_loss: 3418.7837 - val_accuracy: 0.0000e+00\n",
            "Epoch 23/100\n",
            "10/10 [==============================] - 0s 4ms/step - loss: 3467.6196 - accuracy: 0.0000e+00 - val_loss: 3414.7622 - val_accuracy: 0.0000e+00\n",
            "Epoch 24/100\n",
            "10/10 [==============================] - 0s 4ms/step - loss: 3463.6418 - accuracy: 0.0000e+00 - val_loss: 3410.7319 - val_accuracy: 0.0000e+00\n",
            "Epoch 25/100\n",
            "10/10 [==============================] - 0s 4ms/step - loss: 3459.7786 - accuracy: 0.0000e+00 - val_loss: 3406.5952 - val_accuracy: 0.0000e+00\n",
            "Epoch 26/100\n",
            "10/10 [==============================] - 0s 6ms/step - loss: 3455.6147 - accuracy: 0.0000e+00 - val_loss: 3402.6367 - val_accuracy: 0.0000e+00\n",
            "Epoch 27/100\n",
            "10/10 [==============================] - 0s 5ms/step - loss: 3451.6577 - accuracy: 0.0000e+00 - val_loss: 3398.6587 - val_accuracy: 0.0000e+00\n",
            "Epoch 28/100\n",
            "10/10 [==============================] - 0s 4ms/step - loss: 3447.7532 - accuracy: 0.0000e+00 - val_loss: 3394.6140 - val_accuracy: 0.0000e+00\n",
            "Epoch 29/100\n",
            "10/10 [==============================] - 0s 4ms/step - loss: 3443.7969 - accuracy: 0.0000e+00 - val_loss: 3390.5618 - val_accuracy: 0.0000e+00\n",
            "Epoch 30/100\n",
            "10/10 [==============================] - 0s 6ms/step - loss: 3439.8418 - accuracy: 0.0000e+00 - val_loss: 3386.5085 - val_accuracy: 0.0000e+00\n",
            "Epoch 31/100\n",
            "10/10 [==============================] - 0s 7ms/step - loss: 3435.8906 - accuracy: 0.0000e+00 - val_loss: 3382.4570 - val_accuracy: 0.0000e+00\n",
            "Epoch 32/100\n",
            "10/10 [==============================] - 0s 7ms/step - loss: 3431.8672 - accuracy: 0.0000e+00 - val_loss: 3378.4780 - val_accuracy: 0.0000e+00\n",
            "Epoch 33/100\n",
            "10/10 [==============================] - 0s 6ms/step - loss: 3427.9917 - accuracy: 0.0000e+00 - val_loss: 3374.4324 - val_accuracy: 0.0000e+00\n",
            "Epoch 34/100\n",
            "10/10 [==============================] - 0s 5ms/step - loss: 3424.0242 - accuracy: 0.0000e+00 - val_loss: 3370.4148 - val_accuracy: 0.0000e+00\n",
            "Epoch 35/100\n",
            "10/10 [==============================] - 0s 4ms/step - loss: 3420.0442 - accuracy: 0.0000e+00 - val_loss: 3366.4390 - val_accuracy: 0.0000e+00\n",
            "Epoch 36/100\n",
            "10/10 [==============================] - 0s 4ms/step - loss: 3416.0918 - accuracy: 0.0000e+00 - val_loss: 3362.4851 - val_accuracy: 0.0000e+00\n",
            "Epoch 37/100\n",
            "10/10 [==============================] - 0s 4ms/step - loss: 3412.2546 - accuracy: 0.0000e+00 - val_loss: 3358.4414 - val_accuracy: 0.0000e+00\n",
            "Epoch 38/100\n",
            "10/10 [==============================] - 0s 5ms/step - loss: 3408.2571 - accuracy: 0.0000e+00 - val_loss: 3354.4702 - val_accuracy: 0.0000e+00\n",
            "Epoch 39/100\n",
            "10/10 [==============================] - 0s 4ms/step - loss: 3404.4023 - accuracy: 0.0000e+00 - val_loss: 3350.4368 - val_accuracy: 0.0000e+00\n",
            "Epoch 40/100\n",
            "10/10 [==============================] - 0s 5ms/step - loss: 3400.3647 - accuracy: 0.0000e+00 - val_loss: 3346.5239 - val_accuracy: 0.0000e+00\n",
            "Epoch 41/100\n",
            "10/10 [==============================] - 0s 5ms/step - loss: 3396.6216 - accuracy: 0.0000e+00 - val_loss: 3342.4473 - val_accuracy: 0.0000e+00\n",
            "Epoch 42/100\n",
            "10/10 [==============================] - 0s 5ms/step - loss: 3392.6226 - accuracy: 0.0000e+00 - val_loss: 3338.4644 - val_accuracy: 0.0000e+00\n",
            "Epoch 43/100\n",
            "10/10 [==============================] - 0s 5ms/step - loss: 3388.6450 - accuracy: 0.0000e+00 - val_loss: 3334.5562 - val_accuracy: 0.0000e+00\n",
            "Epoch 44/100\n",
            "10/10 [==============================] - 0s 4ms/step - loss: 3384.7896 - accuracy: 0.0000e+00 - val_loss: 3330.6047 - val_accuracy: 0.0000e+00\n",
            "Epoch 45/100\n",
            "10/10 [==============================] - 0s 7ms/step - loss: 3380.9387 - accuracy: 0.0000e+00 - val_loss: 3326.6133 - val_accuracy: 0.0000e+00\n",
            "Epoch 46/100\n",
            "10/10 [==============================] - 0s 4ms/step - loss: 3376.8853 - accuracy: 0.0000e+00 - val_loss: 3322.7954 - val_accuracy: 0.0000e+00\n",
            "Epoch 47/100\n",
            "10/10 [==============================] - 0s 5ms/step - loss: 3373.1567 - accuracy: 0.0000e+00 - val_loss: 3318.8157 - val_accuracy: 0.0000e+00\n",
            "Epoch 48/100\n",
            "10/10 [==============================] - 0s 5ms/step - loss: 3369.2559 - accuracy: 0.0000e+00 - val_loss: 3314.8613 - val_accuracy: 0.0000e+00\n",
            "Epoch 49/100\n",
            "10/10 [==============================] - 0s 5ms/step - loss: 3365.4487 - accuracy: 0.0000e+00 - val_loss: 3310.8445 - val_accuracy: 0.0000e+00\n",
            "Epoch 50/100\n",
            "10/10 [==============================] - 0s 5ms/step - loss: 3361.4946 - accuracy: 0.0000e+00 - val_loss: 3306.9194 - val_accuracy: 0.0000e+00\n",
            "Epoch 51/100\n",
            "10/10 [==============================] - 0s 5ms/step - loss: 3357.6646 - accuracy: 0.0000e+00 - val_loss: 3302.9629 - val_accuracy: 0.0000e+00\n",
            "Epoch 52/100\n",
            "10/10 [==============================] - 0s 4ms/step - loss: 3353.7329 - accuracy: 0.0000e+00 - val_loss: 3299.0820 - val_accuracy: 0.0000e+00\n",
            "Epoch 53/100\n",
            "10/10 [==============================] - 0s 4ms/step - loss: 3349.9036 - accuracy: 0.0000e+00 - val_loss: 3295.1763 - val_accuracy: 0.0000e+00\n",
            "Epoch 54/100\n",
            "10/10 [==============================] - 0s 5ms/step - loss: 3346.1121 - accuracy: 0.0000e+00 - val_loss: 3291.2136 - val_accuracy: 0.0000e+00\n",
            "Epoch 55/100\n",
            "10/10 [==============================] - 0s 5ms/step - loss: 3342.2512 - accuracy: 0.0000e+00 - val_loss: 3287.2703 - val_accuracy: 0.0000e+00\n",
            "Epoch 56/100\n",
            "10/10 [==============================] - 0s 6ms/step - loss: 3338.2942 - accuracy: 0.0000e+00 - val_loss: 3283.4460 - val_accuracy: 0.0000e+00\n",
            "Epoch 57/100\n",
            "10/10 [==============================] - 0s 5ms/step - loss: 3334.5520 - accuracy: 0.0000e+00 - val_loss: 3279.5278 - val_accuracy: 0.0000e+00\n",
            "Epoch 58/100\n",
            "10/10 [==============================] - 0s 5ms/step - loss: 3330.7397 - accuracy: 0.0000e+00 - val_loss: 3275.5911 - val_accuracy: 0.0000e+00\n",
            "Epoch 59/100\n",
            "10/10 [==============================] - 0s 6ms/step - loss: 3326.8672 - accuracy: 0.0000e+00 - val_loss: 3271.7009 - val_accuracy: 0.0000e+00\n",
            "Epoch 60/100\n",
            "10/10 [==============================] - 0s 5ms/step - loss: 3323.0854 - accuracy: 0.0000e+00 - val_loss: 3267.7727 - val_accuracy: 0.0000e+00\n",
            "Epoch 61/100\n",
            "10/10 [==============================] - 0s 5ms/step - loss: 3319.1431 - accuracy: 0.0000e+00 - val_loss: 3263.9690 - val_accuracy: 0.0000e+00\n",
            "Epoch 62/100\n",
            "10/10 [==============================] - 0s 5ms/step - loss: 3315.4878 - accuracy: 0.0000e+00 - val_loss: 3260.0063 - val_accuracy: 0.0000e+00\n",
            "Epoch 63/100\n",
            "10/10 [==============================] - 0s 5ms/step - loss: 3311.6069 - accuracy: 0.0000e+00 - val_loss: 3256.1167 - val_accuracy: 0.0000e+00\n",
            "Epoch 64/100\n",
            "10/10 [==============================] - 0s 4ms/step - loss: 3307.7019 - accuracy: 0.0000e+00 - val_loss: 3252.3293 - val_accuracy: 0.0000e+00\n",
            "Epoch 65/100\n",
            "10/10 [==============================] - 0s 4ms/step - loss: 3303.9976 - accuracy: 0.0000e+00 - val_loss: 3248.4426 - val_accuracy: 0.0000e+00\n",
            "Epoch 66/100\n",
            "10/10 [==============================] - 0s 5ms/step - loss: 3300.1724 - accuracy: 0.0000e+00 - val_loss: 3244.5867 - val_accuracy: 0.0000e+00\n",
            "Epoch 67/100\n",
            "10/10 [==============================] - 0s 5ms/step - loss: 3296.3599 - accuracy: 0.0000e+00 - val_loss: 3240.7515 - val_accuracy: 0.0000e+00\n",
            "Epoch 68/100\n",
            "10/10 [==============================] - 0s 4ms/step - loss: 3292.7031 - accuracy: 0.0000e+00 - val_loss: 3236.7876 - val_accuracy: 0.0000e+00\n",
            "Epoch 69/100\n",
            "10/10 [==============================] - 0s 5ms/step - loss: 3288.7585 - accuracy: 0.0000e+00 - val_loss: 3232.9836 - val_accuracy: 0.0000e+00\n",
            "Epoch 70/100\n",
            "10/10 [==============================] - 0s 6ms/step - loss: 3285.0874 - accuracy: 0.0000e+00 - val_loss: 3229.0750 - val_accuracy: 0.0000e+00\n",
            "Epoch 71/100\n",
            "10/10 [==============================] - 0s 6ms/step - loss: 3281.1843 - accuracy: 0.0000e+00 - val_loss: 3225.2935 - val_accuracy: 0.0000e+00\n",
            "Epoch 72/100\n",
            "10/10 [==============================] - 0s 5ms/step - loss: 3277.4871 - accuracy: 0.0000e+00 - val_loss: 3221.4360 - val_accuracy: 0.0000e+00\n",
            "Epoch 73/100\n",
            "10/10 [==============================] - 0s 5ms/step - loss: 3273.7786 - accuracy: 0.0000e+00 - val_loss: 3217.5242 - val_accuracy: 0.0000e+00\n",
            "Epoch 74/100\n",
            "10/10 [==============================] - 0s 4ms/step - loss: 3269.9919 - accuracy: 0.0000e+00 - val_loss: 3213.6448 - val_accuracy: 0.0000e+00\n",
            "Epoch 75/100\n",
            "10/10 [==============================] - 0s 4ms/step - loss: 3266.0898 - accuracy: 0.0000e+00 - val_loss: 3209.9075 - val_accuracy: 0.0000e+00\n",
            "Epoch 76/100\n",
            "10/10 [==============================] - 0s 4ms/step - loss: 3262.4717 - accuracy: 0.0000e+00 - val_loss: 3206.0366 - val_accuracy: 0.0000e+00\n",
            "Epoch 77/100\n",
            "10/10 [==============================] - 0s 4ms/step - loss: 3258.6252 - accuracy: 0.0000e+00 - val_loss: 3202.2637 - val_accuracy: 0.0000e+00\n",
            "Epoch 78/100\n",
            "10/10 [==============================] - 0s 5ms/step - loss: 3254.9304 - accuracy: 0.0000e+00 - val_loss: 3198.4429 - val_accuracy: 0.0000e+00\n",
            "Epoch 79/100\n",
            "10/10 [==============================] - 0s 7ms/step - loss: 3251.1753 - accuracy: 0.0000e+00 - val_loss: 3194.6367 - val_accuracy: 0.0000e+00\n",
            "Epoch 80/100\n",
            "10/10 [==============================] - 0s 5ms/step - loss: 3247.3721 - accuracy: 0.0000e+00 - val_loss: 3190.8987 - val_accuracy: 0.0000e+00\n",
            "Epoch 81/100\n",
            "10/10 [==============================] - 0s 5ms/step - loss: 3243.7559 - accuracy: 0.0000e+00 - val_loss: 3187.0442 - val_accuracy: 0.0000e+00\n",
            "Epoch 82/100\n",
            "10/10 [==============================] - 0s 5ms/step - loss: 3239.9661 - accuracy: 0.0000e+00 - val_loss: 3183.2498 - val_accuracy: 0.0000e+00\n",
            "Epoch 83/100\n",
            "10/10 [==============================] - 0s 5ms/step - loss: 3236.1772 - accuracy: 0.0000e+00 - val_loss: 3179.5220 - val_accuracy: 0.0000e+00\n",
            "Epoch 84/100\n",
            "10/10 [==============================] - 0s 5ms/step - loss: 3232.5435 - accuracy: 0.0000e+00 - val_loss: 3175.7036 - val_accuracy: 0.0000e+00\n",
            "Epoch 85/100\n",
            "10/10 [==============================] - 0s 7ms/step - loss: 3228.7649 - accuracy: 0.0000e+00 - val_loss: 3171.9473 - val_accuracy: 0.0000e+00\n",
            "Epoch 86/100\n",
            "10/10 [==============================] - 0s 5ms/step - loss: 3225.0317 - accuracy: 0.0000e+00 - val_loss: 3168.2136 - val_accuracy: 0.0000e+00\n",
            "Epoch 87/100\n",
            "10/10 [==============================] - 0s 6ms/step - loss: 3221.3884 - accuracy: 0.0000e+00 - val_loss: 3164.4080 - val_accuracy: 0.0000e+00\n",
            "Epoch 88/100\n",
            "10/10 [==============================] - 0s 5ms/step - loss: 3217.6509 - accuracy: 0.0000e+00 - val_loss: 3160.6372 - val_accuracy: 0.0000e+00\n",
            "Epoch 89/100\n",
            "10/10 [==============================] - 0s 4ms/step - loss: 3213.9082 - accuracy: 0.0000e+00 - val_loss: 3156.9084 - val_accuracy: 0.0000e+00\n",
            "Epoch 90/100\n",
            "10/10 [==============================] - 0s 5ms/step - loss: 3210.1792 - accuracy: 0.0000e+00 - val_loss: 3153.2153 - val_accuracy: 0.0000e+00\n",
            "Epoch 91/100\n",
            "10/10 [==============================] - 0s 5ms/step - loss: 3206.6663 - accuracy: 0.0000e+00 - val_loss: 3149.3352 - val_accuracy: 0.0000e+00\n",
            "Epoch 92/100\n",
            "10/10 [==============================] - 0s 5ms/step - loss: 3202.9087 - accuracy: 0.0000e+00 - val_loss: 3145.5266 - val_accuracy: 0.0000e+00\n",
            "Epoch 93/100\n",
            "10/10 [==============================] - 0s 5ms/step - loss: 3199.1392 - accuracy: 0.0000e+00 - val_loss: 3141.8062 - val_accuracy: 0.0000e+00\n",
            "Epoch 94/100\n",
            "10/10 [==============================] - 0s 4ms/step - loss: 3195.4980 - accuracy: 0.0000e+00 - val_loss: 3138.0454 - val_accuracy: 0.0000e+00\n",
            "Epoch 95/100\n",
            "10/10 [==============================] - 0s 5ms/step - loss: 3191.7485 - accuracy: 0.0000e+00 - val_loss: 3134.3604 - val_accuracy: 0.0000e+00\n",
            "Epoch 96/100\n",
            "10/10 [==============================] - 0s 5ms/step - loss: 3188.1387 - accuracy: 0.0000e+00 - val_loss: 3130.6079 - val_accuracy: 0.0000e+00\n",
            "Epoch 97/100\n",
            "10/10 [==============================] - 0s 5ms/step - loss: 3184.5498 - accuracy: 0.0000e+00 - val_loss: 3126.7817 - val_accuracy: 0.0000e+00\n",
            "Epoch 98/100\n",
            "10/10 [==============================] - 0s 5ms/step - loss: 3180.8049 - accuracy: 0.0000e+00 - val_loss: 3123.0403 - val_accuracy: 0.0000e+00\n",
            "Epoch 99/100\n",
            "10/10 [==============================] - 0s 4ms/step - loss: 3177.1372 - accuracy: 0.0000e+00 - val_loss: 3119.3071 - val_accuracy: 0.0000e+00\n",
            "Epoch 100/100\n",
            "10/10 [==============================] - 0s 4ms/step - loss: 3173.4624 - accuracy: 0.0000e+00 - val_loss: 3115.5942 - val_accuracy: 0.0000e+00\n"
          ],
          "name": "stdout"
        }
      ]
    },
    {
      "cell_type": "markdown",
      "metadata": {
        "id": "0d8Vo8RDYrIN"
      },
      "source": [
        "### **(4) Model Predict**"
      ]
    },
    {
      "cell_type": "code",
      "metadata": {
        "id": "2Um6DftXY6x4"
      },
      "source": [
        "y_hat = model_1.predict(X_test)"
      ],
      "execution_count": 10,
      "outputs": []
    },
    {
      "cell_type": "markdown",
      "metadata": {
        "id": "lV2mbrpiY7Hp"
      },
      "source": [
        "### **(5) 학습 결과 시각화**"
      ]
    },
    {
      "cell_type": "markdown",
      "metadata": {
        "id": "x2PPfNusY-st"
      },
      "source": [
        "- Loss 감소"
      ]
    },
    {
      "cell_type": "code",
      "metadata": {
        "colab": {
          "base_uri": "https://localhost:8080/",
          "height": 265
        },
        "id": "UQKDb2UZZAMf",
        "outputId": "cc5ed5b3-096d-4d6c-90bf-cd9a728235f0"
      },
      "source": [
        "plt.plot(Hist_1.history['loss'])\n",
        "plt.show()"
      ],
      "execution_count": 11,
      "outputs": [
        {
          "output_type": "display_data",
          "data": {
            "image/png": "[encoded data removed]",
            "text/plain": [
              "<Figure size 432x288 with 1 Axes>"
            ]
          },
          "metadata": {
            "tags": [],
            "needs_background": "light"
          }
        }
      ]
    },
    {
      "cell_type": "markdown",
      "metadata": {
        "id": "-5lTTcQgZFbO"
      },
      "source": [
        "- 학습 되지 않음\n",
        "  - <span style=\"color:green\">**녹색**</span> → **정답(y_test)**\n",
        "  - <span style=\"color:red\">**적색**</span> → **예측(y_hat)**"
      ]
    },
    {
      "cell_type": "code",
      "metadata": {
        "colab": {
          "base_uri": "https://localhost:8080/",
          "height": 265
        },
        "id": "V0lFHDkhZOsa",
        "outputId": "1771f96a-21ba-4942-ff48-1fc6d8e12a61"
      },
      "source": [
        "plt.scatter(range(20), y_test, c='g')\n",
        "plt.scatter(range(20), y_hat, c='r')\n",
        "plt.show()"
      ],
      "execution_count": 12,
      "outputs": [
        {
          "output_type": "display_data",
          "data": {
            "image/png": "[encoded data removed]",
            "text/plain": [
              "<Figure size 432x288 with 1 Axes>"
            ]
          },
          "metadata": {
            "tags": [],
            "needs_background": "light"
          }
        }
      ]
    },
    {
      "cell_type": "markdown",
      "metadata": {
        "id": "qeLBKrgcZlQF"
      },
      "source": [
        "# **II. SimpleRNN - with Normalization**"
      ]
    },
    {
      "cell_type": "markdown",
      "metadata": {
        "id": "AOz57T-2ZrYi"
      },
      "source": [
        "> ## **1) Sample Data - with Normalization**"
      ]
    },
    {
      "cell_type": "code",
      "metadata": {
        "id": "LrDd0A2GZwhM"
      },
      "source": [
        "X = [[[i + j] for i in range(5)] for j in range(100)]\n",
        "y= [(i + 5) for i in range(100)]\n",
        "\n",
        "X = (X - np.min(X)) / (np.max(X) - np.min(X))\n",
        "y = (y - np.min(y)) / (np.max(y) - np.min(y))"
      ],
      "execution_count": 13,
      "outputs": []
    },
    {
      "cell_type": "markdown",
      "metadata": {
        "id": "4uhTP-bHaG8Z"
      },
      "source": [
        "> ## **2) Casting**"
      ]
    },
    {
      "cell_type": "code",
      "metadata": {
        "colab": {
          "base_uri": "https://localhost:8080/"
        },
        "id": "XeGHwwBoaNj4",
        "outputId": "878419d9-7f0c-4c77-b0e5-8b42737dd560"
      },
      "source": [
        "X = np.array(X, dtype=float)\n",
        "y = np.array(y, dtype=float)\n",
        "\n",
        "X.shape, y.shape"
      ],
      "execution_count": 14,
      "outputs": [
        {
          "output_type": "execute_result",
          "data": {
            "text/plain": [
              "((100, 5, 1), (100,))"
            ]
          },
          "metadata": {
            "tags": []
          },
          "execution_count": 14
        }
      ]
    },
    {
      "cell_type": "markdown",
      "metadata": {
        "id": "szpOLu8MaYnO"
      },
      "source": [
        "> ## **3) Train vs. Test Split**"
      ]
    },
    {
      "cell_type": "code",
      "metadata": {
        "colab": {
          "base_uri": "https://localhost:8080/"
        },
        "id": "Q7ipIRilajTb",
        "outputId": "00c78ded-f63a-4d8c-f531-ed19ee3b2a72"
      },
      "source": [
        "X_train, X_test, y_train, y_test = train_test_split(X, y,\n",
        "                                                    test_size=0.2,\n",
        "                                                    random_state=2045)\n",
        "\n",
        "X_train.shape, y_train.shape, X_test.shape, y_test.shape"
      ],
      "execution_count": 15,
      "outputs": [
        {
          "output_type": "execute_result",
          "data": {
            "text/plain": [
              "((80, 5, 1), (80,), (20, 5, 1), (20,))"
            ]
          },
          "metadata": {
            "tags": []
          },
          "execution_count": 15
        }
      ]
    },
    {
      "cell_type": "markdown",
      "metadata": {
        "id": "jgonWSSDa56Y"
      },
      "source": [
        "> ## **4) Keras SimpleRNN Modeling**"
      ]
    },
    {
      "cell_type": "markdown",
      "metadata": {
        "id": "ShH3tz7Wy0Jl"
      },
      "source": [
        "### **(1) Model Define & Summary**"
      ]
    },
    {
      "cell_type": "markdown",
      "metadata": {
        "id": "mFN8QfOhy5hB"
      },
      "source": [
        "- None : input_length 자동 맞춤"
      ]
    },
    {
      "cell_type": "code",
      "metadata": {
        "colab": {
          "base_uri": "https://localhost:8080/"
        },
        "id": "mU3ekHccy_GU",
        "outputId": "6b0e1000-735e-4bc6-d3a3-b3954ec6a7f8"
      },
      "source": [
        "model_2 = models.Sequential(name='SimpleRNN_2')\n",
        "model_2.add(layers.SimpleRNN(3,\n",
        "                             input_shape=(None, 1),\n",
        "                             return_sequences=False))\n",
        "model_2.add(layers.Dense(1))\n",
        "\n",
        "model_2.summary()"
      ],
      "execution_count": 16,
      "outputs": [
        {
          "output_type": "stream",
          "text": [
            "Model: \"SimpleRNN_2\"\n",
            "_________________________________________________________________\n",
            "Layer (type)                 Output Shape              Param #   \n",
            "=================================================================\n",
            "simple_rnn_1 (SimpleRNN)     (None, 3)                 15        \n",
            "_________________________________________________________________\n",
            "dense_1 (Dense)              (None, 1)                 4         \n",
            "=================================================================\n",
            "Total params: 19\n",
            "Trainable params: 19\n",
            "Non-trainable params: 0\n",
            "_________________________________________________________________\n"
          ],
          "name": "stdout"
        }
      ]
    },
    {
      "cell_type": "markdown",
      "metadata": {
        "id": "65K6mePNzWNM"
      },
      "source": [
        "> ### **(2) Model Compile**"
      ]
    },
    {
      "cell_type": "code",
      "metadata": {
        "id": "LCFRrTolzbv6"
      },
      "source": [
        "model_2.compile(loss='mse',\n",
        "                optimizer='adam',\n",
        "                metrics=['accuracy'])"
      ],
      "execution_count": 17,
      "outputs": []
    },
    {
      "cell_type": "markdown",
      "metadata": {
        "id": "HSJH7uFl024C"
      },
      "source": [
        "### **(3) Model Fit**"
      ]
    },
    {
      "cell_type": "code",
      "metadata": {
        "colab": {
          "base_uri": "https://localhost:8080/"
        },
        "id": "viXgmbAFzik3",
        "outputId": "e24bcdfe-6a45-4c64-c989-4b177609e16c"
      },
      "source": [
        "Hist_2 = model_2.fit(X_train, y_train,\n",
        "                     epochs=100,\n",
        "                     batch_size=8,\n",
        "                     validation_data=(X_test, y_test))"
      ],
      "execution_count": 18,
      "outputs": [
        {
          "output_type": "stream",
          "text": [
            "Epoch 1/100\n",
            "10/10 [==============================] - 1s 27ms/step - loss: 1.9728 - accuracy: 0.0125 - val_loss: 1.8704 - val_accuracy: 0.0000e+00\n",
            "Epoch 2/100\n",
            "10/10 [==============================] - 0s 5ms/step - loss: 1.7796 - accuracy: 0.0125 - val_loss: 1.6736 - val_accuracy: 0.0000e+00\n",
            "Epoch 3/100\n",
            "10/10 [==============================] - 0s 5ms/step - loss: 1.5938 - accuracy: 0.0125 - val_loss: 1.4839 - val_accuracy: 0.0000e+00\n",
            "Epoch 4/100\n",
            "10/10 [==============================] - 0s 5ms/step - loss: 1.4181 - accuracy: 0.0125 - val_loss: 1.3018 - val_accuracy: 0.0000e+00\n",
            "Epoch 5/100\n",
            "10/10 [==============================] - 0s 5ms/step - loss: 1.2438 - accuracy: 0.0125 - val_loss: 1.1319 - val_accuracy: 0.0000e+00\n",
            "Epoch 6/100\n",
            "10/10 [==============================] - 0s 4ms/step - loss: 1.0880 - accuracy: 0.0125 - val_loss: 0.9674 - val_accuracy: 0.0000e+00\n",
            "Epoch 7/100\n",
            "10/10 [==============================] - 0s 4ms/step - loss: 0.9276 - accuracy: 0.0125 - val_loss: 0.8207 - val_accuracy: 0.0000e+00\n",
            "Epoch 8/100\n",
            "10/10 [==============================] - 0s 4ms/step - loss: 0.7944 - accuracy: 0.0125 - val_loss: 0.6824 - val_accuracy: 0.0000e+00\n",
            "Epoch 9/100\n",
            "10/10 [==============================] - 0s 5ms/step - loss: 0.6585 - accuracy: 0.0125 - val_loss: 0.5684 - val_accuracy: 0.0000e+00\n",
            "Epoch 10/100\n",
            "10/10 [==============================] - 0s 5ms/step - loss: 0.5552 - accuracy: 0.0125 - val_loss: 0.4681 - val_accuracy: 0.0000e+00\n",
            "Epoch 11/100\n",
            "10/10 [==============================] - 0s 4ms/step - loss: 0.4620 - accuracy: 0.0125 - val_loss: 0.3886 - val_accuracy: 0.0000e+00\n",
            "Epoch 12/100\n",
            "10/10 [==============================] - 0s 5ms/step - loss: 0.3920 - accuracy: 0.0125 - val_loss: 0.3241 - val_accuracy: 0.0000e+00\n",
            "Epoch 13/100\n",
            "10/10 [==============================] - 0s 8ms/step - loss: 0.3301 - accuracy: 0.0125 - val_loss: 0.2773 - val_accuracy: 0.0000e+00\n",
            "Epoch 14/100\n",
            "10/10 [==============================] - 0s 4ms/step - loss: 0.2887 - accuracy: 0.0125 - val_loss: 0.2388 - val_accuracy: 0.0000e+00\n",
            "Epoch 15/100\n",
            "10/10 [==============================] - 0s 4ms/step - loss: 0.2520 - accuracy: 0.0125 - val_loss: 0.2102 - val_accuracy: 0.0000e+00\n",
            "Epoch 16/100\n",
            "10/10 [==============================] - 0s 4ms/step - loss: 0.2262 - accuracy: 0.0125 - val_loss: 0.1867 - val_accuracy: 0.0000e+00\n",
            "Epoch 17/100\n",
            "10/10 [==============================] - 0s 4ms/step - loss: 0.2029 - accuracy: 0.0125 - val_loss: 0.1690 - val_accuracy: 0.0000e+00\n",
            "Epoch 18/100\n",
            "10/10 [==============================] - 0s 5ms/step - loss: 0.1874 - accuracy: 0.0125 - val_loss: 0.1530 - val_accuracy: 0.0000e+00\n",
            "Epoch 19/100\n",
            "10/10 [==============================] - 0s 5ms/step - loss: 0.1707 - accuracy: 0.0125 - val_loss: 0.1413 - val_accuracy: 0.0000e+00\n",
            "Epoch 20/100\n",
            "10/10 [==============================] - 0s 4ms/step - loss: 0.1583 - accuracy: 0.0125 - val_loss: 0.1315 - val_accuracy: 0.0000e+00\n",
            "Epoch 21/100\n",
            "10/10 [==============================] - 0s 4ms/step - loss: 0.1484 - accuracy: 0.0125 - val_loss: 0.1224 - val_accuracy: 0.0000e+00\n",
            "Epoch 22/100\n",
            "10/10 [==============================] - 0s 4ms/step - loss: 0.1393 - accuracy: 0.0125 - val_loss: 0.1143 - val_accuracy: 0.0000e+00\n",
            "Epoch 23/100\n",
            "10/10 [==============================] - 0s 4ms/step - loss: 0.1309 - accuracy: 0.0125 - val_loss: 0.1072 - val_accuracy: 0.0000e+00\n",
            "Epoch 24/100\n",
            "10/10 [==============================] - 0s 5ms/step - loss: 0.1227 - accuracy: 0.0125 - val_loss: 0.1012 - val_accuracy: 0.0000e+00\n",
            "Epoch 25/100\n",
            "10/10 [==============================] - 0s 4ms/step - loss: 0.1161 - accuracy: 0.0125 - val_loss: 0.0952 - val_accuracy: 0.0000e+00\n",
            "Epoch 26/100\n",
            "10/10 [==============================] - 0s 4ms/step - loss: 0.1090 - accuracy: 0.0125 - val_loss: 0.0900 - val_accuracy: 0.0000e+00\n",
            "Epoch 27/100\n",
            "10/10 [==============================] - 0s 6ms/step - loss: 0.1030 - accuracy: 0.0125 - val_loss: 0.0847 - val_accuracy: 0.0000e+00\n",
            "Epoch 28/100\n",
            "10/10 [==============================] - 0s 5ms/step - loss: 0.0969 - accuracy: 0.0125 - val_loss: 0.0797 - val_accuracy: 0.0000e+00\n",
            "Epoch 29/100\n",
            "10/10 [==============================] - 0s 4ms/step - loss: 0.0912 - accuracy: 0.0125 - val_loss: 0.0747 - val_accuracy: 0.0000e+00\n",
            "Epoch 30/100\n",
            "10/10 [==============================] - 0s 6ms/step - loss: 0.0848 - accuracy: 0.0125 - val_loss: 0.0702 - val_accuracy: 0.0000e+00\n",
            "Epoch 31/100\n",
            "10/10 [==============================] - 0s 5ms/step - loss: 0.0794 - accuracy: 0.0125 - val_loss: 0.0655 - val_accuracy: 0.0000e+00\n",
            "Epoch 32/100\n",
            "10/10 [==============================] - 0s 6ms/step - loss: 0.0743 - accuracy: 0.0125 - val_loss: 0.0607 - val_accuracy: 0.0000e+00\n",
            "Epoch 33/100\n",
            "10/10 [==============================] - 0s 5ms/step - loss: 0.0684 - accuracy: 0.0125 - val_loss: 0.0562 - val_accuracy: 0.0000e+00\n",
            "Epoch 34/100\n",
            "10/10 [==============================] - 0s 7ms/step - loss: 0.0628 - accuracy: 0.0125 - val_loss: 0.0520 - val_accuracy: 0.0000e+00\n",
            "Epoch 35/100\n",
            "10/10 [==============================] - 0s 4ms/step - loss: 0.0580 - accuracy: 0.0250 - val_loss: 0.0477 - val_accuracy: 0.0000e+00\n",
            "Epoch 36/100\n",
            "10/10 [==============================] - 0s 5ms/step - loss: 0.0529 - accuracy: 0.0250 - val_loss: 0.0435 - val_accuracy: 0.0000e+00\n",
            "Epoch 37/100\n",
            "10/10 [==============================] - 0s 5ms/step - loss: 0.0478 - accuracy: 0.0250 - val_loss: 0.0397 - val_accuracy: 0.0000e+00\n",
            "Epoch 38/100\n",
            "10/10 [==============================] - 0s 5ms/step - loss: 0.0434 - accuracy: 0.0250 - val_loss: 0.0360 - val_accuracy: 0.0000e+00\n",
            "Epoch 39/100\n",
            "10/10 [==============================] - 0s 5ms/step - loss: 0.0391 - accuracy: 0.0250 - val_loss: 0.0323 - val_accuracy: 0.0000e+00\n",
            "Epoch 40/100\n",
            "10/10 [==============================] - 0s 4ms/step - loss: 0.0349 - accuracy: 0.0250 - val_loss: 0.0290 - val_accuracy: 0.0000e+00\n",
            "Epoch 41/100\n",
            "10/10 [==============================] - 0s 5ms/step - loss: 0.0311 - accuracy: 0.0250 - val_loss: 0.0259 - val_accuracy: 0.0000e+00\n",
            "Epoch 42/100\n",
            "10/10 [==============================] - 0s 4ms/step - loss: 0.0276 - accuracy: 0.0250 - val_loss: 0.0231 - val_accuracy: 0.0000e+00\n",
            "Epoch 43/100\n",
            "10/10 [==============================] - 0s 5ms/step - loss: 0.0245 - accuracy: 0.0250 - val_loss: 0.0204 - val_accuracy: 0.0000e+00\n",
            "Epoch 44/100\n",
            "10/10 [==============================] - 0s 6ms/step - loss: 0.0216 - accuracy: 0.0250 - val_loss: 0.0181 - val_accuracy: 0.0000e+00\n",
            "Epoch 45/100\n",
            "10/10 [==============================] - 0s 4ms/step - loss: 0.0192 - accuracy: 0.0250 - val_loss: 0.0160 - val_accuracy: 0.0000e+00\n",
            "Epoch 46/100\n",
            "10/10 [==============================] - 0s 4ms/step - loss: 0.0169 - accuracy: 0.0250 - val_loss: 0.0142 - val_accuracy: 0.0000e+00\n",
            "Epoch 47/100\n",
            "10/10 [==============================] - 0s 5ms/step - loss: 0.0150 - accuracy: 0.0250 - val_loss: 0.0126 - val_accuracy: 0.0000e+00\n",
            "Epoch 48/100\n",
            "10/10 [==============================] - 0s 4ms/step - loss: 0.0135 - accuracy: 0.0250 - val_loss: 0.0112 - val_accuracy: 0.0000e+00\n",
            "Epoch 49/100\n",
            "10/10 [==============================] - 0s 5ms/step - loss: 0.0120 - accuracy: 0.0250 - val_loss: 0.0101 - val_accuracy: 0.0000e+00\n",
            "Epoch 50/100\n",
            "10/10 [==============================] - 0s 4ms/step - loss: 0.0108 - accuracy: 0.0250 - val_loss: 0.0091 - val_accuracy: 0.0000e+00\n",
            "Epoch 51/100\n",
            "10/10 [==============================] - 0s 5ms/step - loss: 0.0098 - accuracy: 0.0250 - val_loss: 0.0083 - val_accuracy: 0.0000e+00\n",
            "Epoch 52/100\n",
            "10/10 [==============================] - 0s 5ms/step - loss: 0.0090 - accuracy: 0.0250 - val_loss: 0.0076 - val_accuracy: 0.0000e+00\n",
            "Epoch 53/100\n",
            "10/10 [==============================] - 0s 4ms/step - loss: 0.0083 - accuracy: 0.0250 - val_loss: 0.0071 - val_accuracy: 0.0000e+00\n",
            "Epoch 54/100\n",
            "10/10 [==============================] - 0s 5ms/step - loss: 0.0078 - accuracy: 0.0250 - val_loss: 0.0066 - val_accuracy: 0.0000e+00\n",
            "Epoch 55/100\n",
            "10/10 [==============================] - 0s 6ms/step - loss: 0.0073 - accuracy: 0.0250 - val_loss: 0.0062 - val_accuracy: 0.0000e+00\n",
            "Epoch 56/100\n",
            "10/10 [==============================] - 0s 5ms/step - loss: 0.0069 - accuracy: 0.0250 - val_loss: 0.0058 - val_accuracy: 0.0000e+00\n",
            "Epoch 57/100\n",
            "10/10 [==============================] - 0s 5ms/step - loss: 0.0066 - accuracy: 0.0250 - val_loss: 0.0055 - val_accuracy: 0.0000e+00\n",
            "Epoch 58/100\n",
            "10/10 [==============================] - 0s 4ms/step - loss: 0.0063 - accuracy: 0.0250 - val_loss: 0.0053 - val_accuracy: 0.0000e+00\n",
            "Epoch 59/100\n",
            "10/10 [==============================] - 0s 6ms/step - loss: 0.0061 - accuracy: 0.0250 - val_loss: 0.0051 - val_accuracy: 0.0000e+00\n",
            "Epoch 60/100\n",
            "10/10 [==============================] - 0s 4ms/step - loss: 0.0059 - accuracy: 0.0250 - val_loss: 0.0049 - val_accuracy: 0.0000e+00\n",
            "Epoch 61/100\n",
            "10/10 [==============================] - 0s 5ms/step - loss: 0.0057 - accuracy: 0.0250 - val_loss: 0.0047 - val_accuracy: 0.0000e+00\n",
            "Epoch 62/100\n",
            "10/10 [==============================] - 0s 4ms/step - loss: 0.0055 - accuracy: 0.0250 - val_loss: 0.0046 - val_accuracy: 0.0000e+00\n",
            "Epoch 63/100\n",
            "10/10 [==============================] - 0s 4ms/step - loss: 0.0054 - accuracy: 0.0250 - val_loss: 0.0044 - val_accuracy: 0.0000e+00\n",
            "Epoch 64/100\n",
            "10/10 [==============================] - 0s 5ms/step - loss: 0.0053 - accuracy: 0.0250 - val_loss: 0.0043 - val_accuracy: 0.0000e+00\n",
            "Epoch 65/100\n",
            "10/10 [==============================] - 0s 6ms/step - loss: 0.0051 - accuracy: 0.0250 - val_loss: 0.0042 - val_accuracy: 0.0000e+00\n",
            "Epoch 66/100\n",
            "10/10 [==============================] - 0s 5ms/step - loss: 0.0050 - accuracy: 0.0250 - val_loss: 0.0040 - val_accuracy: 0.0000e+00\n",
            "Epoch 67/100\n",
            "10/10 [==============================] - 0s 4ms/step - loss: 0.0049 - accuracy: 0.0250 - val_loss: 0.0040 - val_accuracy: 0.0000e+00\n",
            "Epoch 68/100\n",
            "10/10 [==============================] - 0s 5ms/step - loss: 0.0048 - accuracy: 0.0250 - val_loss: 0.0038 - val_accuracy: 0.0000e+00\n",
            "Epoch 69/100\n",
            "10/10 [==============================] - 0s 4ms/step - loss: 0.0047 - accuracy: 0.0250 - val_loss: 0.0037 - val_accuracy: 0.0000e+00\n",
            "Epoch 70/100\n",
            "10/10 [==============================] - 0s 5ms/step - loss: 0.0045 - accuracy: 0.0250 - val_loss: 0.0036 - val_accuracy: 0.0000e+00\n",
            "Epoch 71/100\n",
            "10/10 [==============================] - 0s 5ms/step - loss: 0.0044 - accuracy: 0.0250 - val_loss: 0.0035 - val_accuracy: 0.0000e+00\n",
            "Epoch 72/100\n",
            "10/10 [==============================] - 0s 5ms/step - loss: 0.0043 - accuracy: 0.0250 - val_loss: 0.0034 - val_accuracy: 0.0000e+00\n",
            "Epoch 73/100\n",
            "10/10 [==============================] - 0s 5ms/step - loss: 0.0042 - accuracy: 0.0250 - val_loss: 0.0033 - val_accuracy: 0.0000e+00\n",
            "Epoch 74/100\n",
            "10/10 [==============================] - 0s 5ms/step - loss: 0.0041 - accuracy: 0.0250 - val_loss: 0.0033 - val_accuracy: 0.0000e+00\n",
            "Epoch 75/100\n",
            "10/10 [==============================] - 0s 4ms/step - loss: 0.0040 - accuracy: 0.0250 - val_loss: 0.0032 - val_accuracy: 0.0000e+00\n",
            "Epoch 76/100\n",
            "10/10 [==============================] - 0s 5ms/step - loss: 0.0040 - accuracy: 0.0250 - val_loss: 0.0031 - val_accuracy: 0.0000e+00\n",
            "Epoch 77/100\n",
            "10/10 [==============================] - 0s 6ms/step - loss: 0.0039 - accuracy: 0.0250 - val_loss: 0.0030 - val_accuracy: 0.0000e+00\n",
            "Epoch 78/100\n",
            "10/10 [==============================] - 0s 4ms/step - loss: 0.0038 - accuracy: 0.0250 - val_loss: 0.0029 - val_accuracy: 0.0000e+00\n",
            "Epoch 79/100\n",
            "10/10 [==============================] - 0s 4ms/step - loss: 0.0037 - accuracy: 0.0250 - val_loss: 0.0028 - val_accuracy: 0.0000e+00\n",
            "Epoch 80/100\n",
            "10/10 [==============================] - 0s 4ms/step - loss: 0.0036 - accuracy: 0.0250 - val_loss: 0.0028 - val_accuracy: 0.0000e+00\n",
            "Epoch 81/100\n",
            "10/10 [==============================] - 0s 7ms/step - loss: 0.0035 - accuracy: 0.0250 - val_loss: 0.0027 - val_accuracy: 0.0000e+00\n",
            "Epoch 82/100\n",
            "10/10 [==============================] - 0s 4ms/step - loss: 0.0034 - accuracy: 0.0250 - val_loss: 0.0026 - val_accuracy: 0.0000e+00\n",
            "Epoch 83/100\n",
            "10/10 [==============================] - 0s 4ms/step - loss: 0.0033 - accuracy: 0.0250 - val_loss: 0.0025 - val_accuracy: 0.0000e+00\n",
            "Epoch 84/100\n",
            "10/10 [==============================] - 0s 4ms/step - loss: 0.0033 - accuracy: 0.0250 - val_loss: 0.0025 - val_accuracy: 0.0000e+00\n",
            "Epoch 85/100\n",
            "10/10 [==============================] - 0s 5ms/step - loss: 0.0032 - accuracy: 0.0250 - val_loss: 0.0024 - val_accuracy: 0.0000e+00\n",
            "Epoch 86/100\n",
            "10/10 [==============================] - 0s 5ms/step - loss: 0.0031 - accuracy: 0.0250 - val_loss: 0.0023 - val_accuracy: 0.0000e+00\n",
            "Epoch 87/100\n",
            "10/10 [==============================] - 0s 6ms/step - loss: 0.0030 - accuracy: 0.0250 - val_loss: 0.0023 - val_accuracy: 0.0000e+00\n",
            "Epoch 88/100\n",
            "10/10 [==============================] - 0s 4ms/step - loss: 0.0030 - accuracy: 0.0250 - val_loss: 0.0022 - val_accuracy: 0.0000e+00\n",
            "Epoch 89/100\n",
            "10/10 [==============================] - 0s 4ms/step - loss: 0.0029 - accuracy: 0.0250 - val_loss: 0.0022 - val_accuracy: 0.0000e+00\n",
            "Epoch 90/100\n",
            "10/10 [==============================] - 0s 4ms/step - loss: 0.0028 - accuracy: 0.0250 - val_loss: 0.0021 - val_accuracy: 0.0000e+00\n",
            "Epoch 91/100\n",
            "10/10 [==============================] - 0s 5ms/step - loss: 0.0028 - accuracy: 0.0250 - val_loss: 0.0021 - val_accuracy: 0.0000e+00\n",
            "Epoch 92/100\n",
            "10/10 [==============================] - 0s 4ms/step - loss: 0.0027 - accuracy: 0.0250 - val_loss: 0.0020 - val_accuracy: 0.0000e+00\n",
            "Epoch 93/100\n",
            "10/10 [==============================] - 0s 5ms/step - loss: 0.0026 - accuracy: 0.0250 - val_loss: 0.0019 - val_accuracy: 0.0000e+00\n",
            "Epoch 94/100\n",
            "10/10 [==============================] - 0s 5ms/step - loss: 0.0026 - accuracy: 0.0250 - val_loss: 0.0019 - val_accuracy: 0.0000e+00\n",
            "Epoch 95/100\n",
            "10/10 [==============================] - 0s 4ms/step - loss: 0.0025 - accuracy: 0.0250 - val_loss: 0.0018 - val_accuracy: 0.0000e+00\n",
            "Epoch 96/100\n",
            "10/10 [==============================] - 0s 6ms/step - loss: 0.0025 - accuracy: 0.0250 - val_loss: 0.0018 - val_accuracy: 0.0000e+00\n",
            "Epoch 97/100\n",
            "10/10 [==============================] - 0s 4ms/step - loss: 0.0024 - accuracy: 0.0250 - val_loss: 0.0017 - val_accuracy: 0.0000e+00\n",
            "Epoch 98/100\n",
            "10/10 [==============================] - 0s 5ms/step - loss: 0.0024 - accuracy: 0.0250 - val_loss: 0.0017 - val_accuracy: 0.0000e+00\n",
            "Epoch 99/100\n",
            "10/10 [==============================] - 0s 4ms/step - loss: 0.0023 - accuracy: 0.0250 - val_loss: 0.0017 - val_accuracy: 0.0000e+00\n",
            "Epoch 100/100\n",
            "10/10 [==============================] - 0s 5ms/step - loss: 0.0023 - accuracy: 0.0250 - val_loss: 0.0016 - val_accuracy: 0.0000e+00\n"
          ],
          "name": "stdout"
        }
      ]
    },
    {
      "cell_type": "markdown",
      "metadata": {
        "id": "quSl-k7hzyp_"
      },
      "source": [
        "### **(4) Model Predict**"
      ]
    },
    {
      "cell_type": "code",
      "metadata": {
        "id": "g3WJVhBl00LA"
      },
      "source": [
        "y_hat = model_2.predict(X_test)"
      ],
      "execution_count": 19,
      "outputs": []
    },
    {
      "cell_type": "markdown",
      "metadata": {
        "id": "eznmFrYx08-k"
      },
      "source": [
        "### **(5) 학습 결과 시각화**"
      ]
    },
    {
      "cell_type": "markdown",
      "metadata": {
        "id": "We6pPEW41BAl"
      },
      "source": [
        "- Loss 감소"
      ]
    },
    {
      "cell_type": "code",
      "metadata": {
        "colab": {
          "base_uri": "https://localhost:8080/",
          "height": 265
        },
        "id": "pUc1Rrpd1Cli",
        "outputId": "0db1bd23-4098-4fdc-e64e-aa0014c591ff"
      },
      "source": [
        "plt.plot(Hist_2.history['loss'])\n",
        "plt.show()"
      ],
      "execution_count": 20,
      "outputs": [
        {
          "output_type": "display_data",
          "data": {
            "image/png": "[encoded data removed]",
            "text/plain": [
              "<Figure size 432x288 with 1 Axes>"
            ]
          },
          "metadata": {
            "tags": [],
            "needs_background": "light"
          }
        }
      ]
    },
    {
      "cell_type": "markdown",
      "metadata": {
        "id": "oh2iZysO1H6K"
      },
      "source": [
        "- 학습 수행\n",
        "  - <span style=\"color:green\">**녹색**</span> → **정답(y_test)**\n",
        "  - <span style=\"color:red\">**적색**</span> → **예측(y_hat)**"
      ]
    },
    {
      "cell_type": "code",
      "metadata": {
        "colab": {
          "base_uri": "https://localhost:8080/",
          "height": 265
        },
        "id": "5PXnr0kp1PSI",
        "outputId": "cea58224-447a-4ca9-ef00-48ee191fabb8"
      },
      "source": [
        "plt.scatter(range(20), y_test, c='g')\n",
        "plt.scatter(range(20), y_hat, c='r')\n",
        "plt.show()"
      ],
      "execution_count": 21,
      "outputs": [
        {
          "output_type": "display_data",
          "data": {
            "image/png": "[encoded data removed]",
            "text/plain": [
              "<Figure size 432x288 with 1 Axes>"
            ]
          },
          "metadata": {
            "tags": [],
            "needs_background": "light"
          }
        }
      ]
    },
    {
      "cell_type": "markdown",
      "metadata": {
        "id": "wZR2FdMY1xQJ"
      },
      "source": [
        "# **III. Stacked_SimpleRNN**"
      ]
    },
    {
      "cell_type": "markdown",
      "metadata": {
        "id": "nSCkoghp14qh"
      },
      "source": [
        "> ## **1) Model Define & Summary**"
      ]
    },
    {
      "cell_type": "markdown",
      "metadata": {
        "id": "okcyPamJ17_o"
      },
      "source": [
        "- return_sequences=<span style=\"color:blue\">**True**</span>"
      ]
    },
    {
      "cell_type": "code",
      "metadata": {
        "colab": {
          "base_uri": "https://localhost:8080/"
        },
        "id": "aoY24WT_1_VH",
        "outputId": "f8cbd163-130d-41cf-c049-95556636644b"
      },
      "source": [
        "model_3 = models.Sequential(name='Stacked_RNN')\n",
        "model_3.add(layers.SimpleRNN(3,\n",
        "                             input_shape=(None, 1),\n",
        "                             return_sequences=True))    # CNN 중간에는 True\n",
        "model_3.add(layers.SimpleRNN(3,\n",
        "                             input_shape=(None, 1),\n",
        "                             return_sequences=False))   # CNN 마지막에는 False\n",
        "model_3.add(layers.Dense(1))\n",
        "\n",
        "model_3.summary()"
      ],
      "execution_count": 22,
      "outputs": [
        {
          "output_type": "stream",
          "text": [
            "Model: \"Stacked_RNN\"\n",
            "_________________________________________________________________\n",
            "Layer (type)                 Output Shape              Param #   \n",
            "=================================================================\n",
            "simple_rnn_2 (SimpleRNN)     (None, None, 3)           15        \n",
            "_________________________________________________________________\n",
            "simple_rnn_3 (SimpleRNN)     (None, 3)                 21        \n",
            "_________________________________________________________________\n",
            "dense_2 (Dense)              (None, 1)                 4         \n",
            "=================================================================\n",
            "Total params: 40\n",
            "Trainable params: 40\n",
            "Non-trainable params: 0\n",
            "_________________________________________________________________\n"
          ],
          "name": "stdout"
        }
      ]
    },
    {
      "cell_type": "markdown",
      "metadata": {
        "id": "OJssqTUY2gGY"
      },
      "source": [
        "> ## **2) Model Compile**"
      ]
    },
    {
      "cell_type": "code",
      "metadata": {
        "id": "_tN-M9z-2r88"
      },
      "source": [
        "model_3.compile(loss='mse',\n",
        "                optimizer='adam',\n",
        "                metrics=['accuracy'])"
      ],
      "execution_count": 23,
      "outputs": []
    },
    {
      "cell_type": "markdown",
      "metadata": {
        "id": "4bjcFNie3Osx"
      },
      "source": [
        "> ## **3) Model Fit**"
      ]
    },
    {
      "cell_type": "code",
      "metadata": {
        "colab": {
          "base_uri": "https://localhost:8080/"
        },
        "id": "fkYKYi143Qy3",
        "outputId": "88046bc2-e0f1-4bf0-90a3-211868a7de2b"
      },
      "source": [
        "Hist_3 = model_3.fit(X_train, y_train,\n",
        "                     epochs=100,\n",
        "                     batch_size=8,\n",
        "                     validation_data=(X_test, y_test))"
      ],
      "execution_count": 24,
      "outputs": [
        {
          "output_type": "stream",
          "text": [
            "Epoch 1/100\n",
            "10/10 [==============================] - 2s 38ms/step - loss: 0.5785 - accuracy: 0.0125 - val_loss: 0.4721 - val_accuracy: 0.0000e+00\n",
            "Epoch 2/100\n",
            "10/10 [==============================] - 0s 6ms/step - loss: 0.4127 - accuracy: 0.0125 - val_loss: 0.3285 - val_accuracy: 0.0000e+00\n",
            "Epoch 3/100\n",
            "10/10 [==============================] - 0s 5ms/step - loss: 0.2882 - accuracy: 0.0125 - val_loss: 0.2181 - val_accuracy: 0.0000e+00\n",
            "Epoch 4/100\n",
            "10/10 [==============================] - 0s 5ms/step - loss: 0.1938 - accuracy: 0.0125 - val_loss: 0.1422 - val_accuracy: 0.0000e+00\n",
            "Epoch 5/100\n",
            "10/10 [==============================] - 0s 5ms/step - loss: 0.1325 - accuracy: 0.0125 - val_loss: 0.0928 - val_accuracy: 0.0000e+00\n",
            "Epoch 6/100\n",
            "10/10 [==============================] - 0s 6ms/step - loss: 0.0907 - accuracy: 0.0125 - val_loss: 0.0647 - val_accuracy: 0.0000e+00\n",
            "Epoch 7/100\n",
            "10/10 [==============================] - 0s 5ms/step - loss: 0.0646 - accuracy: 0.0125 - val_loss: 0.0500 - val_accuracy: 0.0000e+00\n",
            "Epoch 8/100\n",
            "10/10 [==============================] - 0s 5ms/step - loss: 0.0514 - accuracy: 0.0125 - val_loss: 0.0413 - val_accuracy: 0.0000e+00\n",
            "Epoch 9/100\n",
            "10/10 [==============================] - 0s 5ms/step - loss: 0.0436 - accuracy: 0.0250 - val_loss: 0.0358 - val_accuracy: 0.0000e+00\n",
            "Epoch 10/100\n",
            "10/10 [==============================] - 0s 5ms/step - loss: 0.0370 - accuracy: 0.0250 - val_loss: 0.0316 - val_accuracy: 0.0000e+00\n",
            "Epoch 11/100\n",
            "10/10 [==============================] - 0s 5ms/step - loss: 0.0329 - accuracy: 0.0250 - val_loss: 0.0280 - val_accuracy: 0.0000e+00\n",
            "Epoch 12/100\n",
            "10/10 [==============================] - 0s 5ms/step - loss: 0.0281 - accuracy: 0.0250 - val_loss: 0.0246 - val_accuracy: 0.0000e+00\n",
            "Epoch 13/100\n",
            "10/10 [==============================] - 0s 5ms/step - loss: 0.0245 - accuracy: 0.0250 - val_loss: 0.0217 - val_accuracy: 0.0000e+00\n",
            "Epoch 14/100\n",
            "10/10 [==============================] - 0s 5ms/step - loss: 0.0213 - accuracy: 0.0250 - val_loss: 0.0191 - val_accuracy: 0.0000e+00\n",
            "Epoch 15/100\n",
            "10/10 [==============================] - 0s 5ms/step - loss: 0.0186 - accuracy: 0.0250 - val_loss: 0.0169 - val_accuracy: 0.0000e+00\n",
            "Epoch 16/100\n",
            "10/10 [==============================] - 0s 5ms/step - loss: 0.0164 - accuracy: 0.0250 - val_loss: 0.0150 - val_accuracy: 0.0000e+00\n",
            "Epoch 17/100\n",
            "10/10 [==============================] - 0s 6ms/step - loss: 0.0145 - accuracy: 0.0250 - val_loss: 0.0135 - val_accuracy: 0.0000e+00\n",
            "Epoch 18/100\n",
            "10/10 [==============================] - 0s 6ms/step - loss: 0.0130 - accuracy: 0.0250 - val_loss: 0.0122 - val_accuracy: 0.0000e+00\n",
            "Epoch 19/100\n",
            "10/10 [==============================] - 0s 5ms/step - loss: 0.0118 - accuracy: 0.0250 - val_loss: 0.0111 - val_accuracy: 0.0000e+00\n",
            "Epoch 20/100\n",
            "10/10 [==============================] - 0s 6ms/step - loss: 0.0109 - accuracy: 0.0250 - val_loss: 0.0103 - val_accuracy: 0.0000e+00\n",
            "Epoch 21/100\n",
            "10/10 [==============================] - 0s 7ms/step - loss: 0.0101 - accuracy: 0.0250 - val_loss: 0.0096 - val_accuracy: 0.0000e+00\n",
            "Epoch 22/100\n",
            "10/10 [==============================] - 0s 5ms/step - loss: 0.0095 - accuracy: 0.0250 - val_loss: 0.0090 - val_accuracy: 0.0000e+00\n",
            "Epoch 23/100\n",
            "10/10 [==============================] - 0s 5ms/step - loss: 0.0090 - accuracy: 0.0250 - val_loss: 0.0086 - val_accuracy: 0.0000e+00\n",
            "Epoch 24/100\n",
            "10/10 [==============================] - 0s 5ms/step - loss: 0.0086 - accuracy: 0.0250 - val_loss: 0.0082 - val_accuracy: 0.0000e+00\n",
            "Epoch 25/100\n",
            "10/10 [==============================] - 0s 5ms/step - loss: 0.0083 - accuracy: 0.0250 - val_loss: 0.0079 - val_accuracy: 0.0000e+00\n",
            "Epoch 26/100\n",
            "10/10 [==============================] - 0s 5ms/step - loss: 0.0081 - accuracy: 0.0250 - val_loss: 0.0076 - val_accuracy: 0.0000e+00\n",
            "Epoch 27/100\n",
            "10/10 [==============================] - 0s 5ms/step - loss: 0.0078 - accuracy: 0.0250 - val_loss: 0.0074 - val_accuracy: 0.0000e+00\n",
            "Epoch 28/100\n",
            "10/10 [==============================] - 0s 6ms/step - loss: 0.0077 - accuracy: 0.0250 - val_loss: 0.0072 - val_accuracy: 0.0000e+00\n",
            "Epoch 29/100\n",
            "10/10 [==============================] - 0s 6ms/step - loss: 0.0075 - accuracy: 0.0250 - val_loss: 0.0070 - val_accuracy: 0.0000e+00\n",
            "Epoch 30/100\n",
            "10/10 [==============================] - 0s 6ms/step - loss: 0.0073 - accuracy: 0.0250 - val_loss: 0.0068 - val_accuracy: 0.0000e+00\n",
            "Epoch 31/100\n",
            "10/10 [==============================] - 0s 5ms/step - loss: 0.0071 - accuracy: 0.0250 - val_loss: 0.0066 - val_accuracy: 0.0000e+00\n",
            "Epoch 32/100\n",
            "10/10 [==============================] - 0s 5ms/step - loss: 0.0069 - accuracy: 0.0250 - val_loss: 0.0064 - val_accuracy: 0.0000e+00\n",
            "Epoch 33/100\n",
            "10/10 [==============================] - 0s 6ms/step - loss: 0.0068 - accuracy: 0.0250 - val_loss: 0.0063 - val_accuracy: 0.0000e+00\n",
            "Epoch 34/100\n",
            "10/10 [==============================] - 0s 5ms/step - loss: 0.0067 - accuracy: 0.0250 - val_loss: 0.0061 - val_accuracy: 0.0000e+00\n",
            "Epoch 35/100\n",
            "10/10 [==============================] - 0s 6ms/step - loss: 0.0066 - accuracy: 0.0250 - val_loss: 0.0060 - val_accuracy: 0.0000e+00\n",
            "Epoch 36/100\n",
            "10/10 [==============================] - 0s 5ms/step - loss: 0.0064 - accuracy: 0.0250 - val_loss: 0.0059 - val_accuracy: 0.0000e+00\n",
            "Epoch 37/100\n",
            "10/10 [==============================] - 0s 6ms/step - loss: 0.0062 - accuracy: 0.0250 - val_loss: 0.0057 - val_accuracy: 0.0000e+00\n",
            "Epoch 38/100\n",
            "10/10 [==============================] - 0s 5ms/step - loss: 0.0061 - accuracy: 0.0250 - val_loss: 0.0055 - val_accuracy: 0.0000e+00\n",
            "Epoch 39/100\n",
            "10/10 [==============================] - 0s 5ms/step - loss: 0.0059 - accuracy: 0.0250 - val_loss: 0.0054 - val_accuracy: 0.0000e+00\n",
            "Epoch 40/100\n",
            "10/10 [==============================] - 0s 5ms/step - loss: 0.0058 - accuracy: 0.0250 - val_loss: 0.0053 - val_accuracy: 0.0000e+00\n",
            "Epoch 41/100\n",
            "10/10 [==============================] - 0s 6ms/step - loss: 0.0057 - accuracy: 0.0250 - val_loss: 0.0052 - val_accuracy: 0.0000e+00\n",
            "Epoch 42/100\n",
            "10/10 [==============================] - 0s 5ms/step - loss: 0.0056 - accuracy: 0.0250 - val_loss: 0.0051 - val_accuracy: 0.0000e+00\n",
            "Epoch 43/100\n",
            "10/10 [==============================] - 0s 7ms/step - loss: 0.0055 - accuracy: 0.0250 - val_loss: 0.0049 - val_accuracy: 0.0000e+00\n",
            "Epoch 44/100\n",
            "10/10 [==============================] - 0s 5ms/step - loss: 0.0053 - accuracy: 0.0250 - val_loss: 0.0048 - val_accuracy: 0.0000e+00\n",
            "Epoch 45/100\n",
            "10/10 [==============================] - 0s 5ms/step - loss: 0.0052 - accuracy: 0.0250 - val_loss: 0.0048 - val_accuracy: 0.0000e+00\n",
            "Epoch 46/100\n",
            "10/10 [==============================] - 0s 5ms/step - loss: 0.0051 - accuracy: 0.0250 - val_loss: 0.0046 - val_accuracy: 0.0000e+00\n",
            "Epoch 47/100\n",
            "10/10 [==============================] - 0s 6ms/step - loss: 0.0050 - accuracy: 0.0250 - val_loss: 0.0045 - val_accuracy: 0.0000e+00\n",
            "Epoch 48/100\n",
            "10/10 [==============================] - 0s 7ms/step - loss: 0.0049 - accuracy: 0.0250 - val_loss: 0.0044 - val_accuracy: 0.0000e+00\n",
            "Epoch 49/100\n",
            "10/10 [==============================] - 0s 6ms/step - loss: 0.0047 - accuracy: 0.0250 - val_loss: 0.0043 - val_accuracy: 0.0000e+00\n",
            "Epoch 50/100\n",
            "10/10 [==============================] - 0s 6ms/step - loss: 0.0046 - accuracy: 0.0250 - val_loss: 0.0042 - val_accuracy: 0.0000e+00\n",
            "Epoch 51/100\n",
            "10/10 [==============================] - 0s 5ms/step - loss: 0.0045 - accuracy: 0.0250 - val_loss: 0.0041 - val_accuracy: 0.0000e+00\n",
            "Epoch 52/100\n",
            "10/10 [==============================] - 0s 5ms/step - loss: 0.0044 - accuracy: 0.0250 - val_loss: 0.0040 - val_accuracy: 0.0000e+00\n",
            "Epoch 53/100\n",
            "10/10 [==============================] - 0s 6ms/step - loss: 0.0043 - accuracy: 0.0250 - val_loss: 0.0039 - val_accuracy: 0.0000e+00\n",
            "Epoch 54/100\n",
            "10/10 [==============================] - 0s 5ms/step - loss: 0.0043 - accuracy: 0.0250 - val_loss: 0.0038 - val_accuracy: 0.0000e+00\n",
            "Epoch 55/100\n",
            "10/10 [==============================] - 0s 6ms/step - loss: 0.0042 - accuracy: 0.0250 - val_loss: 0.0038 - val_accuracy: 0.0000e+00\n",
            "Epoch 56/100\n",
            "10/10 [==============================] - 0s 5ms/step - loss: 0.0041 - accuracy: 0.0250 - val_loss: 0.0036 - val_accuracy: 0.0000e+00\n",
            "Epoch 57/100\n",
            "10/10 [==============================] - 0s 5ms/step - loss: 0.0040 - accuracy: 0.0250 - val_loss: 0.0035 - val_accuracy: 0.0000e+00\n",
            "Epoch 58/100\n",
            "10/10 [==============================] - 0s 7ms/step - loss: 0.0039 - accuracy: 0.0250 - val_loss: 0.0034 - val_accuracy: 0.0000e+00\n",
            "Epoch 59/100\n",
            "10/10 [==============================] - 0s 6ms/step - loss: 0.0038 - accuracy: 0.0250 - val_loss: 0.0034 - val_accuracy: 0.0000e+00\n",
            "Epoch 60/100\n",
            "10/10 [==============================] - 0s 6ms/step - loss: 0.0037 - accuracy: 0.0250 - val_loss: 0.0033 - val_accuracy: 0.0000e+00\n",
            "Epoch 61/100\n",
            "10/10 [==============================] - 0s 6ms/step - loss: 0.0036 - accuracy: 0.0250 - val_loss: 0.0032 - val_accuracy: 0.0000e+00\n",
            "Epoch 62/100\n",
            "10/10 [==============================] - 0s 5ms/step - loss: 0.0035 - accuracy: 0.0250 - val_loss: 0.0031 - val_accuracy: 0.0000e+00\n",
            "Epoch 63/100\n",
            "10/10 [==============================] - 0s 6ms/step - loss: 0.0035 - accuracy: 0.0250 - val_loss: 0.0031 - val_accuracy: 0.0000e+00\n",
            "Epoch 64/100\n",
            "10/10 [==============================] - 0s 6ms/step - loss: 0.0034 - accuracy: 0.0250 - val_loss: 0.0030 - val_accuracy: 0.0000e+00\n",
            "Epoch 65/100\n",
            "10/10 [==============================] - 0s 5ms/step - loss: 0.0033 - accuracy: 0.0250 - val_loss: 0.0029 - val_accuracy: 0.0000e+00\n",
            "Epoch 66/100\n",
            "10/10 [==============================] - 0s 6ms/step - loss: 0.0033 - accuracy: 0.0250 - val_loss: 0.0028 - val_accuracy: 0.0000e+00\n",
            "Epoch 67/100\n",
            "10/10 [==============================] - 0s 7ms/step - loss: 0.0032 - accuracy: 0.0250 - val_loss: 0.0028 - val_accuracy: 0.0000e+00\n",
            "Epoch 68/100\n",
            "10/10 [==============================] - 0s 6ms/step - loss: 0.0031 - accuracy: 0.0250 - val_loss: 0.0027 - val_accuracy: 0.0000e+00\n",
            "Epoch 69/100\n",
            "10/10 [==============================] - 0s 7ms/step - loss: 0.0030 - accuracy: 0.0250 - val_loss: 0.0026 - val_accuracy: 0.0000e+00\n",
            "Epoch 70/100\n",
            "10/10 [==============================] - 0s 5ms/step - loss: 0.0030 - accuracy: 0.0250 - val_loss: 0.0026 - val_accuracy: 0.0000e+00\n",
            "Epoch 71/100\n",
            "10/10 [==============================] - 0s 6ms/step - loss: 0.0029 - accuracy: 0.0250 - val_loss: 0.0026 - val_accuracy: 0.0000e+00\n",
            "Epoch 72/100\n",
            "10/10 [==============================] - 0s 6ms/step - loss: 0.0028 - accuracy: 0.0250 - val_loss: 0.0025 - val_accuracy: 0.0000e+00\n",
            "Epoch 73/100\n",
            "10/10 [==============================] - 0s 5ms/step - loss: 0.0028 - accuracy: 0.0250 - val_loss: 0.0024 - val_accuracy: 0.0000e+00\n",
            "Epoch 74/100\n",
            "10/10 [==============================] - 0s 6ms/step - loss: 0.0027 - accuracy: 0.0250 - val_loss: 0.0023 - val_accuracy: 0.0000e+00\n",
            "Epoch 75/100\n",
            "10/10 [==============================] - 0s 5ms/step - loss: 0.0027 - accuracy: 0.0250 - val_loss: 0.0023 - val_accuracy: 0.0000e+00\n",
            "Epoch 76/100\n",
            "10/10 [==============================] - 0s 7ms/step - loss: 0.0026 - accuracy: 0.0250 - val_loss: 0.0022 - val_accuracy: 0.0000e+00\n",
            "Epoch 77/100\n",
            "10/10 [==============================] - 0s 6ms/step - loss: 0.0025 - accuracy: 0.0250 - val_loss: 0.0022 - val_accuracy: 0.0000e+00\n",
            "Epoch 78/100\n",
            "10/10 [==============================] - 0s 5ms/step - loss: 0.0025 - accuracy: 0.0250 - val_loss: 0.0022 - val_accuracy: 0.0000e+00\n",
            "Epoch 79/100\n",
            "10/10 [==============================] - 0s 6ms/step - loss: 0.0024 - accuracy: 0.0250 - val_loss: 0.0021 - val_accuracy: 0.0000e+00\n",
            "Epoch 80/100\n",
            "10/10 [==============================] - 0s 6ms/step - loss: 0.0024 - accuracy: 0.0250 - val_loss: 0.0021 - val_accuracy: 0.0000e+00\n",
            "Epoch 81/100\n",
            "10/10 [==============================] - 0s 6ms/step - loss: 0.0023 - accuracy: 0.0250 - val_loss: 0.0020 - val_accuracy: 0.0000e+00\n",
            "Epoch 82/100\n",
            "10/10 [==============================] - 0s 6ms/step - loss: 0.0023 - accuracy: 0.0250 - val_loss: 0.0020 - val_accuracy: 0.0000e+00\n",
            "Epoch 83/100\n",
            "10/10 [==============================] - 0s 6ms/step - loss: 0.0022 - accuracy: 0.0250 - val_loss: 0.0019 - val_accuracy: 0.0000e+00\n",
            "Epoch 84/100\n",
            "10/10 [==============================] - 0s 6ms/step - loss: 0.0022 - accuracy: 0.0250 - val_loss: 0.0019 - val_accuracy: 0.0000e+00\n",
            "Epoch 85/100\n",
            "10/10 [==============================] - 0s 7ms/step - loss: 0.0022 - accuracy: 0.0250 - val_loss: 0.0018 - val_accuracy: 0.0000e+00\n",
            "Epoch 86/100\n",
            "10/10 [==============================] - 0s 6ms/step - loss: 0.0021 - accuracy: 0.0250 - val_loss: 0.0018 - val_accuracy: 0.0000e+00\n",
            "Epoch 87/100\n",
            "10/10 [==============================] - 0s 6ms/step - loss: 0.0021 - accuracy: 0.0250 - val_loss: 0.0018 - val_accuracy: 0.0000e+00\n",
            "Epoch 88/100\n",
            "10/10 [==============================] - 0s 5ms/step - loss: 0.0020 - accuracy: 0.0250 - val_loss: 0.0017 - val_accuracy: 0.0000e+00\n",
            "Epoch 89/100\n",
            "10/10 [==============================] - 0s 6ms/step - loss: 0.0020 - accuracy: 0.0250 - val_loss: 0.0016 - val_accuracy: 0.0000e+00\n",
            "Epoch 90/100\n",
            "10/10 [==============================] - 0s 5ms/step - loss: 0.0020 - accuracy: 0.0250 - val_loss: 0.0016 - val_accuracy: 0.0000e+00\n",
            "Epoch 91/100\n",
            "10/10 [==============================] - 0s 5ms/step - loss: 0.0019 - accuracy: 0.0250 - val_loss: 0.0016 - val_accuracy: 0.0000e+00\n",
            "Epoch 92/100\n",
            "10/10 [==============================] - 0s 5ms/step - loss: 0.0018 - accuracy: 0.0250 - val_loss: 0.0015 - val_accuracy: 0.0000e+00\n",
            "Epoch 93/100\n",
            "10/10 [==============================] - 0s 6ms/step - loss: 0.0018 - accuracy: 0.0250 - val_loss: 0.0015 - val_accuracy: 0.0000e+00\n",
            "Epoch 94/100\n",
            "10/10 [==============================] - 0s 5ms/step - loss: 0.0018 - accuracy: 0.0250 - val_loss: 0.0015 - val_accuracy: 0.0000e+00\n",
            "Epoch 95/100\n",
            "10/10 [==============================] - 0s 6ms/step - loss: 0.0017 - accuracy: 0.0250 - val_loss: 0.0015 - val_accuracy: 0.0000e+00\n",
            "Epoch 96/100\n",
            "10/10 [==============================] - 0s 6ms/step - loss: 0.0017 - accuracy: 0.0250 - val_loss: 0.0014 - val_accuracy: 0.0000e+00\n",
            "Epoch 97/100\n",
            "10/10 [==============================] - 0s 6ms/step - loss: 0.0017 - accuracy: 0.0250 - val_loss: 0.0014 - val_accuracy: 0.0000e+00\n",
            "Epoch 98/100\n",
            "10/10 [==============================] - 0s 8ms/step - loss: 0.0016 - accuracy: 0.0250 - val_loss: 0.0013 - val_accuracy: 0.0000e+00\n",
            "Epoch 99/100\n",
            "10/10 [==============================] - 0s 6ms/step - loss: 0.0016 - accuracy: 0.0250 - val_loss: 0.0013 - val_accuracy: 0.0000e+00\n",
            "Epoch 100/100\n",
            "10/10 [==============================] - 0s 6ms/step - loss: 0.0016 - accuracy: 0.0250 - val_loss: 0.0013 - val_accuracy: 0.0000e+00\n"
          ],
          "name": "stdout"
        }
      ]
    },
    {
      "cell_type": "markdown",
      "metadata": {
        "id": "tkNHY2Vv3bDe"
      },
      "source": [
        "> ## **4) Model Predict**"
      ]
    },
    {
      "cell_type": "code",
      "metadata": {
        "id": "h-eYzNI33fhX"
      },
      "source": [
        "y_hat = model_3.predict(X_test)"
      ],
      "execution_count": 25,
      "outputs": []
    },
    {
      "cell_type": "markdown",
      "metadata": {
        "id": "QBG7lQmz3itN"
      },
      "source": [
        "> ## **5) 학습 결과 시각화**"
      ]
    },
    {
      "cell_type": "code",
      "metadata": {
        "colab": {
          "base_uri": "https://localhost:8080/",
          "height": 267
        },
        "id": "SUxwlQha3mKW",
        "outputId": "4c7a9364-16d8-4b0c-ec71-60badb68c065"
      },
      "source": [
        "plt.plot(Hist_3.history['loss'])\n",
        "plt.show()"
      ],
      "execution_count": 26,
      "outputs": [
        {
          "output_type": "display_data",
          "data": {
            "image/png": "[encoded data removed]",
            "text/plain": [
              "<Figure size 432x288 with 1 Axes>"
            ]
          },
          "metadata": {
            "tags": [],
            "needs_background": "light"
          }
        }
      ]
    },
    {
      "cell_type": "markdown",
      "metadata": {
        "id": "LF9soKx8327I"
      },
      "source": [
        "- 학습 수행\n",
        "  - <span style=\"color:green\">**녹색**</span> → **정답(y_test)**\n",
        "  - <span style=\"color:red\">**적색**</span> → **예측(y_hat)**"
      ]
    },
    {
      "cell_type": "code",
      "metadata": {
        "colab": {
          "base_uri": "https://localhost:8080/",
          "height": 265
        },
        "id": "Q_6rGbGS3ql2",
        "outputId": "9fbb3f07-6483-4a28-cf19-d7d1a7bb344e"
      },
      "source": [
        "plt.scatter(range(20), y_test, c='g')\n",
        "plt.scatter(range(20), y_hat, c='r')\n",
        "plt.show()"
      ],
      "execution_count": 27,
      "outputs": [
        {
          "output_type": "display_data",
          "data": {
            "image/png": "[encoded data removed]",
            "text/plain": [
              "<Figure size 432x288 with 1 Axes>"
            ]
          },
          "metadata": {
            "tags": [],
            "needs_background": "light"
          }
        }
      ]
    },
    {
      "cell_type": "markdown",
      "metadata": {
        "id": "ukLrIb4p3rbZ"
      },
      "source": [
        "# **IV. 'return_sequences' Output_Options**\n",
        "- 'input_length'에 대한 Sequence 전체를 출력할지 설정\n",
        "  - 'False' vs. 'True'"
      ]
    },
    {
      "cell_type": "markdown",
      "metadata": {
        "id": "gWR9qt8S4Amy"
      },
      "source": [
        "> ## **1) 실습 데이터 생성**"
      ]
    },
    {
      "cell_type": "code",
      "metadata": {
        "id": "sjcEj-FJ4MiB"
      },
      "source": [
        "X = [[[i + j] for i in range(5)] for j in range(100)]\n",
        "y = [i + 5 for i in range(100)]"
      ],
      "execution_count": 28,
      "outputs": []
    },
    {
      "cell_type": "code",
      "metadata": {
        "id": "s_DbhGYt4Zkk"
      },
      "source": [
        "X = np.array(X, dtype=float)\n",
        "y = np.array(y, dtype=float)"
      ],
      "execution_count": 29,
      "outputs": []
    },
    {
      "cell_type": "code",
      "metadata": {
        "colab": {
          "base_uri": "https://localhost:8080/"
        },
        "id": "ZBcpueGc4fnH",
        "outputId": "79b389cb-43d2-480d-da71-ea8d95046d4f"
      },
      "source": [
        "X_train, X_test, y_train, y_test = train_test_split(X, y,\n",
        "                                                    test_size=0.2,\n",
        "                                                    random_state=2045)\n",
        "\n",
        "X_train.shape, y_train.shape, X_test.shape, y_test.shape"
      ],
      "execution_count": 30,
      "outputs": [
        {
          "output_type": "execute_result",
          "data": {
            "text/plain": [
              "((80, 5, 1), (80,), (20, 5, 1), (20,))"
            ]
          },
          "metadata": {
            "tags": []
          },
          "execution_count": 30
        }
      ]
    },
    {
      "cell_type": "markdown",
      "metadata": {
        "id": "ZtUAAFGA4rCZ"
      },
      "source": [
        "> ## **2) 테스트용 Input Data**"
      ]
    },
    {
      "cell_type": "code",
      "metadata": {
        "colab": {
          "base_uri": "https://localhost:8080/"
        },
        "id": "ZK1pxYjV4t5F",
        "outputId": "bd4adb94-d925-4f4f-b323-68b7de0c3d7a"
      },
      "source": [
        "X_test[0].reshape(1, 5, 1)"
      ],
      "execution_count": 31,
      "outputs": [
        {
          "output_type": "execute_result",
          "data": {
            "text/plain": [
              "array([[[29.],\n",
              "        [30.],\n",
              "        [31.],\n",
              "        [32.],\n",
              "        [33.]]])"
            ]
          },
          "metadata": {
            "tags": []
          },
          "execution_count": 31
        }
      ]
    },
    {
      "cell_type": "markdown",
      "metadata": {
        "id": "iszxcoNj4zHt"
      },
      "source": [
        "> ## **3) False_Option**"
      ]
    },
    {
      "cell_type": "markdown",
      "metadata": {
        "id": "Hltnw0G642am"
      },
      "source": [
        "- 마지막 Output만 출력"
      ]
    },
    {
      "cell_type": "code",
      "metadata": {
        "id": "UpdcXBmU45NV"
      },
      "source": [
        "Model_False = models.Sequential()\n",
        "Model_False.add(layers.SimpleRNN(1,\n",
        "                                 input_shape=(5, 1), \n",
        "                                 return_sequences=False))\n",
        "\n",
        "Model_False.compile(loss='mse',\n",
        "                    optimizer='adam',\n",
        "                    metrics=['accuracy'])"
      ],
      "execution_count": 32,
      "outputs": []
    },
    {
      "cell_type": "code",
      "metadata": {
        "colab": {
          "base_uri": "https://localhost:8080/"
        },
        "id": "iwkcvYQN5A_w",
        "outputId": "fc8201aa-ac11-48dc-97fa-2b0904991efc"
      },
      "source": [
        "Model_False.predict(X_test[0].reshape(1, 5, 1))"
      ],
      "execution_count": 33,
      "outputs": [
        {
          "output_type": "execute_result",
          "data": {
            "text/plain": [
              "array([[1.]], dtype=float32)"
            ]
          },
          "metadata": {
            "tags": []
          },
          "execution_count": 33
        }
      ]
    },
    {
      "cell_type": "markdown",
      "metadata": {
        "id": "B0DirIUN5HCf"
      },
      "source": [
        "- 마지막 Output만 출력\n",
        "  - Unit : 1 → 3"
      ]
    },
    {
      "cell_type": "code",
      "metadata": {
        "id": "JAYoWF7s5NtU"
      },
      "source": [
        "Model_False = models.Sequential()\n",
        "Model_False.add(layers.SimpleRNN(3,\n",
        "                                 input_shape=(5, 1), \n",
        "                                 return_sequences=False))\n",
        "\n",
        "Model_False.compile(loss='mse',\n",
        "                    optimizer='adam',\n",
        "                    metrics=['accuracy'])"
      ],
      "execution_count": 34,
      "outputs": []
    },
    {
      "cell_type": "code",
      "metadata": {
        "colab": {
          "base_uri": "https://localhost:8080/"
        },
        "id": "fjsHiFmK5S9y",
        "outputId": "fb3af45b-be08-4868-e1c2-33e786b71989"
      },
      "source": [
        "Model_False.predict(X_test[0].reshape(1, 5, 1))"
      ],
      "execution_count": 35,
      "outputs": [
        {
          "output_type": "stream",
          "text": [
            "WARNING:tensorflow:5 out of the last 5 calls to <function Model.make_predict_function.<locals>.predict_function at 0x7f7b1639dcb0> triggered tf.function retracing. Tracing is expensive and the excessive number of tracings could be due to (1) creating @tf.function repeatedly in a loop, (2) passing tensors with different shapes, (3) passing Python objects instead of tensors. For (1), please define your @tf.function outside of the loop. For (2), @tf.function has experimental_relax_shapes=True option that relaxes argument shapes that can avoid unnecessary retracing. For (3), please refer to https://www.tensorflow.org/guide/function#controlling_retracing and https://www.tensorflow.org/api_docs/python/tf/function for  more details.\n"
          ],
          "name": "stdout"
        },
        {
          "output_type": "execute_result",
          "data": {
            "text/plain": [
              "array([[-1.       , -0.9999989, -1.       ]], dtype=float32)"
            ]
          },
          "metadata": {
            "tags": []
          },
          "execution_count": 35
        }
      ]
    },
    {
      "cell_type": "markdown",
      "metadata": {
        "id": "UlJf_dH35VZA"
      },
      "source": [
        "> ## **4) True_Option**"
      ]
    },
    {
      "cell_type": "markdown",
      "metadata": {
        "id": "t6XqEyWR5gDz"
      },
      "source": [
        "- 매 순환마다 Output 출력\n",
        "  - Unit : 1\n",
        "  - input_length : 5"
      ]
    },
    {
      "cell_type": "code",
      "metadata": {
        "id": "hvQE2CCZ5oGC"
      },
      "source": [
        "Model_True = models.Sequential()\n",
        "Model_True.add(layers.SimpleRNN(1,\n",
        "                                input_shape=(5, 1), \n",
        "                                return_sequences=True))\n",
        "\n",
        "Model_True.compile(loss='mse',\n",
        "                   optimizer='adam',\n",
        "                   metrics=['accuracy'])"
      ],
      "execution_count": 36,
      "outputs": []
    },
    {
      "cell_type": "code",
      "metadata": {
        "colab": {
          "base_uri": "https://localhost:8080/"
        },
        "id": "X7crGdS75uHD",
        "outputId": "19f1a04f-4d53-4430-cbf9-a8a2599ded59"
      },
      "source": [
        "Model_True.predict(X_test[0].reshape(1, 5, 1))"
      ],
      "execution_count": 37,
      "outputs": [
        {
          "output_type": "stream",
          "text": [
            "WARNING:tensorflow:6 out of the last 6 calls to <function Model.make_predict_function.<locals>.predict_function at 0x7f7b16c195f0> triggered tf.function retracing. Tracing is expensive and the excessive number of tracings could be due to (1) creating @tf.function repeatedly in a loop, (2) passing tensors with different shapes, (3) passing Python objects instead of tensors. For (1), please define your @tf.function outside of the loop. For (2), @tf.function has experimental_relax_shapes=True option that relaxes argument shapes that can avoid unnecessary retracing. For (3), please refer to https://www.tensorflow.org/guide/function#controlling_retracing and https://www.tensorflow.org/api_docs/python/tf/function for  more details.\n"
          ],
          "name": "stdout"
        },
        {
          "output_type": "execute_result",
          "data": {
            "text/plain": [
              "array([[[-0.9999915 ],\n",
              "        [-0.9999591 ],\n",
              "        [-0.99997324],\n",
              "        [-0.9999826 ],\n",
              "        [-0.9999887 ]]], dtype=float32)"
            ]
          },
          "metadata": {
            "tags": []
          },
          "execution_count": 37
        }
      ]
    },
    {
      "cell_type": "markdown",
      "metadata": {
        "id": "AfGTuf1Q5vgg"
      },
      "source": [
        "- 매 순환마다 Output 출력\n",
        "  - Unit : 1 → 3\n",
        "  - input_length : 5"
      ]
    },
    {
      "cell_type": "code",
      "metadata": {
        "id": "eMMRrQR9554D"
      },
      "source": [
        "Model_True = models.Sequential()\n",
        "Model_True.add(layers.SimpleRNN(3,\n",
        "                                input_shape=(5, 1), \n",
        "                                return_sequences=True))\n",
        "\n",
        "Model_True.compile(loss='mse',\n",
        "                   optimizer='adam',\n",
        "                   metrics=['accuracy'])"
      ],
      "execution_count": 38,
      "outputs": []
    },
    {
      "cell_type": "code",
      "metadata": {
        "colab": {
          "base_uri": "https://localhost:8080/"
        },
        "id": "wCAU3ZDP54lz",
        "outputId": "9982cc4e-a6be-4cf1-9690-818e466fdc86"
      },
      "source": [
        "Model_True.predict(X_test[0].reshape(1, 5, 1))"
      ],
      "execution_count": 39,
      "outputs": [
        {
          "output_type": "execute_result",
          "data": {
            "text/plain": [
              "array([[[-1.       ,  1.       ,  0.9999976],\n",
              "        [-1.       ,  1.       ,  1.       ],\n",
              "        [-1.       ,  1.       ,  1.       ],\n",
              "        [-1.       ,  1.       ,  1.       ],\n",
              "        [-1.       ,  1.       ,  1.       ]]], dtype=float32)"
            ]
          },
          "metadata": {
            "tags": []
          },
          "execution_count": 39
        }
      ]
    },
    {
      "cell_type": "code",
      "metadata": {
        "id": "OxSkZtT-5_q2"
      },
      "source": [
        ""
      ],
      "execution_count": 39,
      "outputs": []
    }
  ]
}