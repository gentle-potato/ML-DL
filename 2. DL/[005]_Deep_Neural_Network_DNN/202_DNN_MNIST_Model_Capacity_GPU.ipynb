{
  "nbformat": 4,
  "nbformat_minor": 0,
  "metadata": {
    "colab": {
      "name": "202_DNN_MNIST_Model_Capacity_GPU.ipynb",
      "provenance": [],
      "collapsed_sections": [],
      "toc_visible": true
    },
    "kernelspec": {
      "name": "python3",
      "display_name": "Python 3"
    },
    "language_info": {
      "name": "python"
    },
    "accelerator": "GPU"
  },
  "cells": [
    {
      "cell_type": "markdown",
      "metadata": {
        "id": "8pBzCPUMbckp"
      },
      "source": [
        "# **MNIST - Categorical Classification**"
      ]
    },
    {
      "cell_type": "markdown",
      "metadata": {
        "id": "o0O12n1GbomH"
      },
      "source": [
        "> # **Overfitting Issue**"
      ]
    },
    {
      "cell_type": "markdown",
      "metadata": {
        "id": "rpDMM2Dqbs-i"
      },
      "source": [
        "## **Import TensorFlow**"
      ]
    },
    {
      "cell_type": "code",
      "metadata": {
        "id": "oQFZUUu_bwiq"
      },
      "source": [
        "import warnings\n",
        "warnings.filterwarnings('ignore')"
      ],
      "execution_count": 1,
      "outputs": []
    },
    {
      "cell_type": "markdown",
      "metadata": {
        "id": "ysPZ3nivb0e3"
      },
      "source": [
        "- import TensorFlow"
      ]
    },
    {
      "cell_type": "code",
      "metadata": {
        "colab": {
          "base_uri": "https://localhost:8080/",
          "height": 35
        },
        "id": "3pAGeZ7Yb33D",
        "outputId": "f09e93ff-8831-44a6-ff4b-a6d1696ee7c8"
      },
      "source": [
        "import tensorflow as tf\n",
        "\n",
        "tf.__version__"
      ],
      "execution_count": 2,
      "outputs": [
        {
          "output_type": "execute_result",
          "data": {
            "application/vnd.google.colaboratory.intrinsic+json": {
              "type": "string"
            },
            "text/plain": [
              "'2.5.0'"
            ]
          },
          "metadata": {
            "tags": []
          },
          "execution_count": 2
        }
      ]
    },
    {
      "cell_type": "markdown",
      "metadata": {
        "id": "qhQjG6qVb7W1"
      },
      "source": [
        "- GPU 설정 확인"
      ]
    },
    {
      "cell_type": "code",
      "metadata": {
        "colab": {
          "base_uri": "https://localhost:8080/",
          "height": 35
        },
        "id": "jYTkMHEf-WqU",
        "outputId": "c82e3744-dafc-4195-f7f7-56d37392f013"
      },
      "source": [
        "tf.test.gpu_device_name()"
      ],
      "execution_count": 3,
      "outputs": [
        {
          "output_type": "execute_result",
          "data": {
            "application/vnd.google.colaboratory.intrinsic+json": {
              "type": "string"
            },
            "text/plain": [
              "'/device:GPU:0'"
            ]
          },
          "metadata": {
            "tags": []
          },
          "execution_count": 3
        }
      ]
    },
    {
      "cell_type": "markdown",
      "metadata": {
        "id": "f5ed3-8fcCAc"
      },
      "source": [
        "# **I. MNIST Data_Set Load & Review**"
      ]
    },
    {
      "cell_type": "markdown",
      "metadata": {
        "id": "-XfzPWghcJC6"
      },
      "source": [
        "> ## **1) Load MNIST Data_Set**"
      ]
    },
    {
      "cell_type": "code",
      "metadata": {
        "id": "81O8TTUxcMmV",
        "colab": {
          "base_uri": "https://localhost:8080/"
        },
        "outputId": "8e24cdaf-b3ea-441a-f930-96d77eee7f87"
      },
      "source": [
        "from tensorflow.keras.datasets import mnist\n",
        "\n",
        "(X_train, y_train,), (X_test, y_test) = mnist.load_data()"
      ],
      "execution_count": 4,
      "outputs": [
        {
          "output_type": "stream",
          "text": [
            "Downloading data from https://storage.googleapis.com/tensorflow/tf-keras-datasets/mnist.npz\n",
            "11493376/11490434 [==============================] - 0s 0us/step\n"
          ],
          "name": "stdout"
        }
      ]
    },
    {
      "cell_type": "markdown",
      "metadata": {
        "id": "gn1QnCEKcUvY"
      },
      "source": [
        "- Train_Data Information"
      ]
    },
    {
      "cell_type": "code",
      "metadata": {
        "colab": {
          "base_uri": "https://localhost:8080/"
        },
        "id": "qhex6WqscaUW",
        "outputId": "d02fc709-3345-4383-cf6b-79796c7e09b5"
      },
      "source": [
        "print(len(X_train))\n",
        "print(X_train.shape)\n",
        "\n",
        "print('')\n",
        "\n",
        "print(len(y_train))\n",
        "print(y_train[0:5])"
      ],
      "execution_count": 5,
      "outputs": [
        {
          "output_type": "stream",
          "text": [
            "60000\n",
            "(60000, 28, 28)\n",
            "\n",
            "60000\n",
            "[5 0 4 1 9]\n"
          ],
          "name": "stdout"
        }
      ]
    },
    {
      "cell_type": "markdown",
      "metadata": {
        "id": "AYXY5UXEcg5i"
      },
      "source": [
        "- Test_Data Information"
      ]
    },
    {
      "cell_type": "code",
      "metadata": {
        "colab": {
          "base_uri": "https://localhost:8080/"
        },
        "id": "qhXtRF4Ecqhs",
        "outputId": "815bec6e-e54c-44c8-e47d-4ef355e3c5cf"
      },
      "source": [
        "print(len(X_test))\n",
        "print(X_test.shape)\n",
        "\n",
        "print('')\n",
        "\n",
        "print(len(y_test))\n",
        "print(y_test[0:5])"
      ],
      "execution_count": 6,
      "outputs": [
        {
          "output_type": "stream",
          "text": [
            "10000\n",
            "(10000, 28, 28)\n",
            "\n",
            "10000\n",
            "[7 2 1 0 4]\n"
          ],
          "name": "stdout"
        }
      ]
    },
    {
      "cell_type": "markdown",
      "metadata": {
        "id": "HL_4RYpHcvEb"
      },
      "source": [
        "> ## **2) Visualization**"
      ]
    },
    {
      "cell_type": "code",
      "metadata": {
        "colab": {
          "base_uri": "https://localhost:8080/",
          "height": 265
        },
        "id": "bdhrsu2AcyC-",
        "outputId": "72c71348-06f5-48d6-d48b-846dfe5c6c8b"
      },
      "source": [
        "import matplotlib.pyplot as plt\n",
        "\n",
        "digit = X_train[4]\n",
        "plt.imshow(digit, cmap='gray')\n",
        "plt.show()"
      ],
      "execution_count": 7,
      "outputs": [
        {
          "output_type": "display_data",
          "data": {
            "image/png": "[encoded data removed]",
            "text/plain": [
              "<Figure size 432x288 with 1 Axes>"
            ]
          },
          "metadata": {
            "tags": [],
            "needs_background": "light"
          }
        }
      ]
    },
    {
      "cell_type": "code",
      "metadata": {
        "colab": {
          "base_uri": "https://localhost:8080/"
        },
        "id": "gideUITbc9Wa",
        "outputId": "48c8ee0f-c891-4af8-afb1-6c8c1a40d532"
      },
      "source": [
        "import numpy as np\n",
        "np.set_printoptions(linewidth=150)\n",
        "\n",
        "print(X_train[4])"
      ],
      "execution_count": 8,
      "outputs": [
        {
          "output_type": "stream",
          "text": [
            "[[  0   0   0   0   0   0   0   0   0   0   0   0   0   0   0   0   0   0   0   0   0   0   0   0   0   0   0   0]\n",
            " [  0   0   0   0   0   0   0   0   0   0   0   0   0   0   0   0   0   0   0   0   0   0   0   0   0   0   0   0]\n",
            " [  0   0   0   0   0   0   0   0   0   0   0   0   0   0   0   0   0   0   0   0   0   0   0   0   0   0   0   0]\n",
            " [  0   0   0   0   0   0   0   0   0   0   0   0   0   0   0   0   0   0   0   0   0   0   0   0   0   0   0   0]\n",
            " [  0   0   0   0   0   0   0   0   0   0   0   0   0   0   0   0   0   0   0   0   0   0   0   0   0   0   0   0]\n",
            " [  0   0   0   0   0   0   0   0   0   0   0   0   0   0   0   0   0   0   0   0   0   0   0   0   0   0   0   0]\n",
            " [  0   0   0   0   0   0   0   0   0   0   0   0   0   0   0   0   0   0   0   0   0   0   0   0   0   0   0   0]\n",
            " [  0   0   0   0   0   0   0   0   0   0   0   0  55 148 210 253 253 113  87 148  55   0   0   0   0   0   0   0]\n",
            " [  0   0   0   0   0   0   0   0   0   0   0  87 232 252 253 189 210 252 252 253 168   0   0   0   0   0   0   0]\n",
            " [  0   0   0   0   0   0   0   0   0   4  57 242 252 190  65   5  12 182 252 253 116   0   0   0   0   0   0   0]\n",
            " [  0   0   0   0   0   0   0   0   0  96 252 252 183  14   0   0  92 252 252 225  21   0   0   0   0   0   0   0]\n",
            " [  0   0   0   0   0   0   0   0 132 253 252 146  14   0   0   0 215 252 252  79   0   0   0   0   0   0   0   0]\n",
            " [  0   0   0   0   0   0   0 126 253 247 176   9   0   0   8  78 245 253 129   0   0   0   0   0   0   0   0   0]\n",
            " [  0   0   0   0   0   0  16 232 252 176   0   0   0  36 201 252 252 169  11   0   0   0   0   0   0   0   0   0]\n",
            " [  0   0   0   0   0   0  22 252 252  30  22 119 197 241 253 252 251  77   0   0   0   0   0   0   0   0   0   0]\n",
            " [  0   0   0   0   0   0  16 231 252 253 252 252 252 226 227 252 231   0   0   0   0   0   0   0   0   0   0   0]\n",
            " [  0   0   0   0   0   0   0  55 235 253 217 138  42  24 192 252 143   0   0   0   0   0   0   0   0   0   0   0]\n",
            " [  0   0   0   0   0   0   0   0   0   0   0   0   0  62 255 253 109   0   0   0   0   0   0   0   0   0   0   0]\n",
            " [  0   0   0   0   0   0   0   0   0   0   0   0   0  71 253 252  21   0   0   0   0   0   0   0   0   0   0   0]\n",
            " [  0   0   0   0   0   0   0   0   0   0   0   0   0   0 253 252  21   0   0   0   0   0   0   0   0   0   0   0]\n",
            " [  0   0   0   0   0   0   0   0   0   0   0   0   0  71 253 252  21   0   0   0   0   0   0   0   0   0   0   0]\n",
            " [  0   0   0   0   0   0   0   0   0   0   0   0   0 106 253 252  21   0   0   0   0   0   0   0   0   0   0   0]\n",
            " [  0   0   0   0   0   0   0   0   0   0   0   0   0  45 255 253  21   0   0   0   0   0   0   0   0   0   0   0]\n",
            " [  0   0   0   0   0   0   0   0   0   0   0   0   0   0 218 252  56   0   0   0   0   0   0   0   0   0   0   0]\n",
            " [  0   0   0   0   0   0   0   0   0   0   0   0   0   0  96 252 189  42   0   0   0   0   0   0   0   0   0   0]\n",
            " [  0   0   0   0   0   0   0   0   0   0   0   0   0   0  14 184 252 170  11   0   0   0   0   0   0   0   0   0]\n",
            " [  0   0   0   0   0   0   0   0   0   0   0   0   0   0   0  14 147 252  42   0   0   0   0   0   0   0   0   0]\n",
            " [  0   0   0   0   0   0   0   0   0   0   0   0   0   0   0   0   0   0   0   0   0   0   0   0   0   0   0   0]]\n"
          ],
          "name": "stdout"
        }
      ]
    },
    {
      "cell_type": "markdown",
      "metadata": {
        "id": "IflEERIKdDpV"
      },
      "source": [
        "# **II. Data Preprocessing**"
      ]
    },
    {
      "cell_type": "markdown",
      "metadata": {
        "id": "JMZsmdNsCKTN"
      },
      "source": [
        "> ## **1) Reshape and Normalization**"
      ]
    },
    {
      "cell_type": "markdown",
      "metadata": {
        "id": "_K7harGNdHA4"
      },
      "source": [
        "- reshape\n",
        "  - (60000, 28, 28) to (60000, 784)"
      ]
    },
    {
      "cell_type": "code",
      "metadata": {
        "colab": {
          "base_uri": "https://localhost:8080/"
        },
        "id": "R2_CQ61EdL87",
        "outputId": "7c9ffdd2-f403-4f1a-f46e-b99dea7d12a6"
      },
      "source": [
        "X_train = X_train.reshape((60000, 28 * 28))\n",
        "X_test = X_test.reshape((10000, 28 * 28))\n",
        "\n",
        "X_train.shape, X_test.shape"
      ],
      "execution_count": 9,
      "outputs": [
        {
          "output_type": "execute_result",
          "data": {
            "text/plain": [
              "((60000, 784), (10000, 784))"
            ]
          },
          "metadata": {
            "tags": []
          },
          "execution_count": 9
        }
      ]
    },
    {
      "cell_type": "markdown",
      "metadata": {
        "id": "gxrl06ovdWrS"
      },
      "source": [
        "- Normalization"
      ]
    },
    {
      "cell_type": "code",
      "metadata": {
        "id": "Q8n2YprNdZKa"
      },
      "source": [
        "X_train = X_train.astype(float) / 255\n",
        "X_test = X_test.astype(float) / 255"
      ],
      "execution_count": 10,
      "outputs": []
    },
    {
      "cell_type": "code",
      "metadata": {
        "colab": {
          "base_uri": "https://localhost:8080/"
        },
        "id": "EHNHiK_KdiPE",
        "outputId": "9e8f09f0-c51d-468b-bb2a-bc5177c61b74"
      },
      "source": [
        "print(X_train[4])"
      ],
      "execution_count": 11,
      "outputs": [
        {
          "output_type": "stream",
          "text": [
            "[0.         0.         0.         0.         0.         0.         0.         0.         0.         0.         0.         0.         0.\n",
            " 0.         0.         0.         0.         0.         0.         0.         0.         0.         0.         0.         0.         0.\n",
            " 0.         0.         0.         0.         0.         0.         0.         0.         0.         0.         0.         0.         0.\n",
            " 0.         0.         0.         0.         0.         0.         0.         0.         0.         0.         0.         0.         0.\n",
            " 0.         0.         0.         0.         0.         0.         0.         0.         0.         0.         0.         0.         0.\n",
            " 0.         0.         0.         0.         0.         0.         0.         0.         0.         0.         0.         0.         0.\n",
            " 0.         0.         0.         0.         0.         0.         0.         0.         0.         0.         0.         0.         0.\n",
            " 0.         0.         0.         0.         0.         0.         0.         0.         0.         0.         0.         0.         0.\n",
            " 0.         0.         0.         0.         0.         0.         0.         0.         0.         0.         0.         0.         0.\n",
            " 0.         0.         0.         0.         0.         0.         0.         0.         0.         0.         0.         0.         0.\n",
            " 0.         0.         0.         0.         0.         0.         0.         0.         0.         0.         0.         0.         0.\n",
            " 0.         0.         0.         0.         0.         0.         0.         0.         0.         0.         0.         0.         0.\n",
            " 0.         0.         0.         0.         0.         0.         0.         0.         0.         0.         0.         0.         0.\n",
            " 0.         0.         0.         0.         0.         0.         0.         0.         0.         0.         0.         0.         0.\n",
            " 0.         0.         0.         0.         0.         0.         0.         0.         0.         0.         0.         0.         0.\n",
            " 0.         0.         0.         0.         0.         0.         0.         0.         0.         0.         0.         0.         0.\n",
            " 0.21568627 0.58039216 0.82352941 0.99215686 0.99215686 0.44313725 0.34117647 0.58039216 0.21568627 0.         0.         0.         0.\n",
            " 0.         0.         0.         0.         0.         0.         0.         0.         0.         0.         0.         0.         0.\n",
            " 0.         0.34117647 0.90980392 0.98823529 0.99215686 0.74117647 0.82352941 0.98823529 0.98823529 0.99215686 0.65882353 0.         0.\n",
            " 0.         0.         0.         0.         0.         0.         0.         0.         0.         0.         0.         0.         0.\n",
            " 0.         0.01568627 0.22352941 0.94901961 0.98823529 0.74509804 0.25490196 0.01960784 0.04705882 0.71372549 0.98823529 0.99215686 0.45490196\n",
            " 0.         0.         0.         0.         0.         0.         0.         0.         0.         0.         0.         0.         0.\n",
            " 0.         0.         0.         0.37647059 0.98823529 0.98823529 0.71764706 0.05490196 0.         0.         0.36078431 0.98823529 0.98823529\n",
            " 0.88235294 0.08235294 0.         0.         0.         0.         0.         0.         0.         0.         0.         0.         0.\n",
            " 0.         0.         0.         0.         0.51764706 0.99215686 0.98823529 0.57254902 0.05490196 0.         0.         0.         0.84313725\n",
            " 0.98823529 0.98823529 0.30980392 0.         0.         0.         0.         0.         0.         0.         0.         0.         0.\n",
            " 0.         0.         0.         0.         0.         0.49411765 0.99215686 0.96862745 0.69019608 0.03529412 0.         0.         0.03137255\n",
            " 0.30588235 0.96078431 0.99215686 0.50588235 0.         0.         0.         0.         0.         0.         0.         0.         0.\n",
            " 0.         0.         0.         0.         0.         0.         0.0627451  0.90980392 0.98823529 0.69019608 0.         0.         0.\n",
            " 0.14117647 0.78823529 0.98823529 0.98823529 0.6627451  0.04313725 0.         0.         0.         0.         0.         0.         0.\n",
            " 0.         0.         0.         0.         0.         0.         0.         0.         0.08627451 0.98823529 0.98823529 0.11764706 0.08627451\n",
            " 0.46666667 0.77254902 0.94509804 0.99215686 0.98823529 0.98431373 0.30196078 0.         0.         0.         0.         0.         0.\n",
            " 0.         0.         0.         0.         0.         0.         0.         0.         0.         0.         0.0627451  0.90588235 0.98823529\n",
            " 0.99215686 0.98823529 0.98823529 0.98823529 0.88627451 0.89019608 0.98823529 0.90588235 0.         0.         0.         0.         0.\n",
            " 0.         0.         0.         0.         0.         0.         0.         0.         0.         0.         0.         0.         0.\n",
            " 0.21568627 0.92156863 0.99215686 0.85098039 0.54117647 0.16470588 0.09411765 0.75294118 0.98823529 0.56078431 0.         0.         0.\n",
            " 0.         0.         0.         0.         0.         0.         0.         0.         0.         0.         0.         0.         0.\n",
            " 0.         0.         0.         0.         0.         0.         0.         0.         0.24313725 1.         0.99215686 0.42745098 0.\n",
            " 0.         0.         0.         0.         0.         0.         0.         0.         0.         0.         0.         0.         0.\n",
            " 0.         0.         0.         0.         0.         0.         0.         0.         0.         0.         0.27843137 0.99215686 0.98823529\n",
            " 0.08235294 0.         0.         0.         0.         0.         0.         0.         0.         0.         0.         0.         0.\n",
            " 0.         0.         0.         0.         0.         0.         0.         0.         0.         0.         0.         0.         0.\n",
            " 0.99215686 0.98823529 0.08235294 0.         0.         0.         0.         0.         0.         0.         0.         0.         0.\n",
            " 0.         0.         0.         0.         0.         0.         0.         0.         0.         0.         0.         0.         0.\n",
            " 0.         0.27843137 0.99215686 0.98823529 0.08235294 0.         0.         0.         0.         0.         0.         0.         0.\n",
            " 0.         0.         0.         0.         0.         0.         0.         0.         0.         0.         0.         0.         0.\n",
            " 0.         0.         0.         0.41568627 0.99215686 0.98823529 0.08235294 0.         0.         0.         0.         0.         0.\n",
            " 0.         0.         0.         0.         0.         0.         0.         0.         0.         0.         0.         0.         0.\n",
            " 0.         0.         0.         0.         0.         0.17647059 1.         0.99215686 0.08235294 0.         0.         0.         0.\n",
            " 0.         0.         0.         0.         0.         0.         0.         0.         0.         0.         0.         0.         0.\n",
            " 0.         0.         0.         0.         0.         0.         0.         0.         0.85490196 0.98823529 0.21960784 0.         0.\n",
            " 0.         0.         0.         0.         0.         0.         0.         0.         0.         0.         0.         0.         0.\n",
            " 0.         0.         0.         0.         0.         0.         0.         0.         0.         0.         0.37647059 0.98823529 0.74117647\n",
            " 0.16470588 0.         0.         0.         0.         0.         0.         0.         0.         0.         0.         0.         0.\n",
            " 0.         0.         0.         0.         0.         0.         0.         0.         0.         0.         0.         0.         0.05490196\n",
            " 0.72156863 0.98823529 0.66666667 0.04313725 0.         0.         0.         0.         0.         0.         0.         0.         0.\n",
            " 0.         0.         0.         0.         0.         0.         0.         0.         0.         0.         0.         0.         0.\n",
            " 0.         0.         0.05490196 0.57647059 0.98823529 0.16470588 0.         0.         0.         0.         0.         0.         0.\n",
            " 0.         0.         0.         0.         0.         0.         0.         0.         0.         0.         0.         0.         0.\n",
            " 0.         0.         0.         0.         0.         0.         0.         0.         0.         0.         0.         0.         0.\n",
            " 0.         0.         0.         0.        ]\n"
          ],
          "name": "stdout"
        }
      ]
    },
    {
      "cell_type": "markdown",
      "metadata": {
        "id": "5ltIJPfmdjnb"
      },
      "source": [
        "> ## **2) One-Hot Encoding**"
      ]
    },
    {
      "cell_type": "code",
      "metadata": {
        "id": "kkUn3PL6doOX"
      },
      "source": [
        "from tensorflow.keras.utils import to_categorical\n",
        "\n",
        "y_train = to_categorical(y_train)\n",
        "y_test = to_categorical(y_test)"
      ],
      "execution_count": 12,
      "outputs": []
    },
    {
      "cell_type": "code",
      "metadata": {
        "colab": {
          "base_uri": "https://localhost:8080/"
        },
        "id": "UoFf9p-ad39k",
        "outputId": "1fe7c953-854b-4bcd-ab86-374edd461535"
      },
      "source": [
        "print(y_train[:5])"
      ],
      "execution_count": 13,
      "outputs": [
        {
          "output_type": "stream",
          "text": [
            "[[0. 0. 0. 0. 0. 1. 0. 0. 0. 0.]\n",
            " [1. 0. 0. 0. 0. 0. 0. 0. 0. 0.]\n",
            " [0. 0. 0. 0. 1. 0. 0. 0. 0. 0.]\n",
            " [0. 1. 0. 0. 0. 0. 0. 0. 0. 0.]\n",
            " [0. 0. 0. 0. 0. 0. 0. 0. 0. 1.]]\n"
          ],
          "name": "stdout"
        }
      ]
    },
    {
      "cell_type": "markdown",
      "metadata": {
        "id": "wd7TdAkPd5AH"
      },
      "source": [
        "# **III. MNIST Keras Modeling**"
      ]
    },
    {
      "cell_type": "markdown",
      "metadata": {
        "id": "BcfYU6iHd_Ba"
      },
      "source": [
        "> ## **1) Model Define**"
      ]
    },
    {
      "cell_type": "markdown",
      "metadata": {
        "id": "fGvf-D4SeBl0"
      },
      "source": [
        "- 모델 신경망 구조 정의\n",
        "  - 2개의 Hidden Layers & 768개의 Nodes\n",
        "  - 복잡한 Model Capacity로 인한 Overfitting"
      ]
    },
    {
      "cell_type": "code",
      "metadata": {
        "id": "e6gG9_jJeLad"
      },
      "source": [
        "from tensorflow.keras import models\n",
        "from tensorflow.keras import layers\n",
        "\n",
        "mnist = models.Sequential()\n",
        "mnist.add(layers.Dense(256, activation='relu', input_shape=(28 * 28, )))\n",
        "# mnist.add(layers.Dense(512, activation='relu', input_shape=(28 * 28, )))\n",
        "# mnist.add(layers.Dense(256, activation='relu'))\n",
        "mnist.add(layers.Dense(10, activation='softmax'))"
      ],
      "execution_count": 14,
      "outputs": []
    },
    {
      "cell_type": "markdown",
      "metadata": {
        "id": "mB5oKgr4ez5w"
      },
      "source": [
        "- 모델 구조 확인"
      ]
    },
    {
      "cell_type": "code",
      "metadata": {
        "colab": {
          "base_uri": "https://localhost:8080/"
        },
        "id": "XtDB5t71e4cz",
        "outputId": "ec7115d3-7113-402a-d1f4-1f2696d0d3d9"
      },
      "source": [
        "mnist.summary()"
      ],
      "execution_count": 15,
      "outputs": [
        {
          "output_type": "stream",
          "text": [
            "Model: \"sequential\"\n",
            "_________________________________________________________________\n",
            "Layer (type)                 Output Shape              Param #   \n",
            "=================================================================\n",
            "dense (Dense)                (None, 256)               200960    \n",
            "_________________________________________________________________\n",
            "dense_1 (Dense)              (None, 10)                2570      \n",
            "=================================================================\n",
            "Total params: 203,530\n",
            "Trainable params: 203,530\n",
            "Non-trainable params: 0\n",
            "_________________________________________________________________\n"
          ],
          "name": "stdout"
        }
      ]
    },
    {
      "cell_type": "markdown",
      "metadata": {
        "id": "ZWcs7HMhe7eM"
      },
      "source": [
        "> ## **2) Model Compile**"
      ]
    },
    {
      "cell_type": "markdown",
      "metadata": {
        "id": "cjsWWHXhe_w-"
      },
      "source": [
        "- 모델 학습 방법 설정"
      ]
    },
    {
      "cell_type": "code",
      "metadata": {
        "id": "hiWgFJ4ZfCB4"
      },
      "source": [
        "mnist.compile(loss='categorical_crossentropy',\n",
        "              optimizer='rmsprop',\n",
        "              metrics=['accuracy'])"
      ],
      "execution_count": 16,
      "outputs": []
    },
    {
      "cell_type": "markdown",
      "metadata": {
        "id": "Nw0civH-fU1Q"
      },
      "source": [
        "> ## **3) Model Fit**"
      ]
    },
    {
      "cell_type": "markdown",
      "metadata": {
        "id": "v6Erru_TfXUI"
      },
      "source": [
        "- 약 3분"
      ]
    },
    {
      "cell_type": "code",
      "metadata": {
        "colab": {
          "base_uri": "https://localhost:8080/"
        },
        "id": "o6t3bjIFfZxK",
        "outputId": "1a17b955-d1ed-48c9-c780-f10a5e1a0f9e"
      },
      "source": [
        "%%time\n",
        "\n",
        "Hist_mnist = mnist.fit(X_train, y_train,\n",
        "                       epochs=100,\n",
        "                       batch_size=128,\n",
        "                       validation_split=0.2)"
      ],
      "execution_count": 17,
      "outputs": [
        {
          "output_type": "stream",
          "text": [
            "Epoch 1/100\n",
            "375/375 [==============================] - 5s 4ms/step - loss: 0.3207 - accuracy: 0.9100 - val_loss: 0.1845 - val_accuracy: 0.9456\n",
            "Epoch 2/100\n",
            "375/375 [==============================] - 1s 3ms/step - loss: 0.1453 - accuracy: 0.9579 - val_loss: 0.1177 - val_accuracy: 0.9665\n",
            "Epoch 3/100\n",
            "375/375 [==============================] - 1s 3ms/step - loss: 0.0988 - accuracy: 0.9715 - val_loss: 0.1063 - val_accuracy: 0.9696\n",
            "Epoch 4/100\n",
            "375/375 [==============================] - 1s 3ms/step - loss: 0.0739 - accuracy: 0.9785 - val_loss: 0.0942 - val_accuracy: 0.9737\n",
            "Epoch 5/100\n",
            "375/375 [==============================] - 1s 3ms/step - loss: 0.0573 - accuracy: 0.9829 - val_loss: 0.0936 - val_accuracy: 0.9734\n",
            "Epoch 6/100\n",
            "375/375 [==============================] - 1s 3ms/step - loss: 0.0451 - accuracy: 0.9872 - val_loss: 0.0876 - val_accuracy: 0.9768\n",
            "Epoch 7/100\n",
            "375/375 [==============================] - 1s 3ms/step - loss: 0.0368 - accuracy: 0.9898 - val_loss: 0.0917 - val_accuracy: 0.9765\n",
            "Epoch 8/100\n",
            "375/375 [==============================] - 1s 3ms/step - loss: 0.0291 - accuracy: 0.9915 - val_loss: 0.0846 - val_accuracy: 0.9783\n",
            "Epoch 9/100\n",
            "375/375 [==============================] - 1s 3ms/step - loss: 0.0244 - accuracy: 0.9934 - val_loss: 0.0813 - val_accuracy: 0.9783\n",
            "Epoch 10/100\n",
            "375/375 [==============================] - 1s 3ms/step - loss: 0.0190 - accuracy: 0.9950 - val_loss: 0.0900 - val_accuracy: 0.9766\n",
            "Epoch 11/100\n",
            "375/375 [==============================] - 1s 3ms/step - loss: 0.0153 - accuracy: 0.9959 - val_loss: 0.0856 - val_accuracy: 0.9782\n",
            "Epoch 12/100\n",
            "375/375 [==============================] - 1s 3ms/step - loss: 0.0123 - accuracy: 0.9969 - val_loss: 0.0958 - val_accuracy: 0.9762\n",
            "Epoch 13/100\n",
            "375/375 [==============================] - 1s 3ms/step - loss: 0.0096 - accuracy: 0.9977 - val_loss: 0.1037 - val_accuracy: 0.9762\n",
            "Epoch 14/100\n",
            "375/375 [==============================] - 1s 3ms/step - loss: 0.0080 - accuracy: 0.9980 - val_loss: 0.0954 - val_accuracy: 0.9774\n",
            "Epoch 15/100\n",
            "375/375 [==============================] - 1s 3ms/step - loss: 0.0064 - accuracy: 0.9984 - val_loss: 0.0979 - val_accuracy: 0.9784\n",
            "Epoch 16/100\n",
            "375/375 [==============================] - 1s 3ms/step - loss: 0.0050 - accuracy: 0.9990 - val_loss: 0.1008 - val_accuracy: 0.9783\n",
            "Epoch 17/100\n",
            "375/375 [==============================] - 1s 3ms/step - loss: 0.0042 - accuracy: 0.9990 - val_loss: 0.1004 - val_accuracy: 0.9789\n",
            "Epoch 18/100\n",
            "375/375 [==============================] - 1s 3ms/step - loss: 0.0030 - accuracy: 0.9994 - val_loss: 0.1095 - val_accuracy: 0.9774\n",
            "Epoch 19/100\n",
            "375/375 [==============================] - 1s 3ms/step - loss: 0.0024 - accuracy: 0.9995 - val_loss: 0.1108 - val_accuracy: 0.9783\n",
            "Epoch 20/100\n",
            "375/375 [==============================] - 1s 3ms/step - loss: 0.0023 - accuracy: 0.9994 - val_loss: 0.1178 - val_accuracy: 0.9784\n",
            "Epoch 21/100\n",
            "375/375 [==============================] - 1s 3ms/step - loss: 0.0016 - accuracy: 0.9997 - val_loss: 0.1081 - val_accuracy: 0.9787\n",
            "Epoch 22/100\n",
            "375/375 [==============================] - 1s 3ms/step - loss: 0.0013 - accuracy: 0.9998 - val_loss: 0.1162 - val_accuracy: 0.9802\n",
            "Epoch 23/100\n",
            "375/375 [==============================] - 1s 3ms/step - loss: 0.0010 - accuracy: 0.9998 - val_loss: 0.1253 - val_accuracy: 0.9787\n",
            "Epoch 24/100\n",
            "375/375 [==============================] - 1s 3ms/step - loss: 8.5678e-04 - accuracy: 0.9998 - val_loss: 0.1286 - val_accuracy: 0.9786\n",
            "Epoch 25/100\n",
            "375/375 [==============================] - 1s 3ms/step - loss: 7.7785e-04 - accuracy: 0.9998 - val_loss: 0.1240 - val_accuracy: 0.9800\n",
            "Epoch 26/100\n",
            "375/375 [==============================] - 1s 3ms/step - loss: 5.7511e-04 - accuracy: 0.9999 - val_loss: 0.1306 - val_accuracy: 0.9804\n",
            "Epoch 27/100\n",
            "375/375 [==============================] - 1s 3ms/step - loss: 4.3481e-04 - accuracy: 0.9999 - val_loss: 0.1426 - val_accuracy: 0.9785\n",
            "Epoch 28/100\n",
            "375/375 [==============================] - 1s 3ms/step - loss: 3.0441e-04 - accuracy: 0.9999 - val_loss: 0.1375 - val_accuracy: 0.9789\n",
            "Epoch 29/100\n",
            "375/375 [==============================] - 1s 3ms/step - loss: 2.7205e-04 - accuracy: 0.9999 - val_loss: 0.1431 - val_accuracy: 0.9800\n",
            "Epoch 30/100\n",
            "375/375 [==============================] - 1s 3ms/step - loss: 1.8543e-04 - accuracy: 1.0000 - val_loss: 0.1407 - val_accuracy: 0.9794\n",
            "Epoch 31/100\n",
            "375/375 [==============================] - 1s 3ms/step - loss: 4.0693e-04 - accuracy: 0.9999 - val_loss: 0.1487 - val_accuracy: 0.9787\n",
            "Epoch 32/100\n",
            "375/375 [==============================] - 1s 3ms/step - loss: 2.6246e-04 - accuracy: 1.0000 - val_loss: 0.1460 - val_accuracy: 0.9798\n",
            "Epoch 33/100\n",
            "375/375 [==============================] - 1s 3ms/step - loss: 8.0880e-05 - accuracy: 1.0000 - val_loss: 0.1528 - val_accuracy: 0.9793\n",
            "Epoch 34/100\n",
            "375/375 [==============================] - 1s 3ms/step - loss: 7.4799e-05 - accuracy: 1.0000 - val_loss: 0.1555 - val_accuracy: 0.9799\n",
            "Epoch 35/100\n",
            "375/375 [==============================] - 1s 3ms/step - loss: 1.0590e-04 - accuracy: 1.0000 - val_loss: 0.1572 - val_accuracy: 0.9797\n",
            "Epoch 36/100\n",
            "375/375 [==============================] - 1s 3ms/step - loss: 6.3192e-05 - accuracy: 1.0000 - val_loss: 0.1589 - val_accuracy: 0.9805\n",
            "Epoch 37/100\n",
            "375/375 [==============================] - 1s 3ms/step - loss: 1.3651e-04 - accuracy: 1.0000 - val_loss: 0.1627 - val_accuracy: 0.9803\n",
            "Epoch 38/100\n",
            "375/375 [==============================] - 1s 3ms/step - loss: 2.6090e-05 - accuracy: 1.0000 - val_loss: 0.1672 - val_accuracy: 0.9797\n",
            "Epoch 39/100\n",
            "375/375 [==============================] - 1s 3ms/step - loss: 2.7690e-05 - accuracy: 1.0000 - val_loss: 0.1681 - val_accuracy: 0.9803\n",
            "Epoch 40/100\n",
            "375/375 [==============================] - 1s 3ms/step - loss: 4.1368e-05 - accuracy: 1.0000 - val_loss: 0.1726 - val_accuracy: 0.9795\n",
            "Epoch 41/100\n",
            "375/375 [==============================] - 1s 3ms/step - loss: 3.0042e-05 - accuracy: 1.0000 - val_loss: 0.1749 - val_accuracy: 0.9811\n",
            "Epoch 42/100\n",
            "375/375 [==============================] - 1s 3ms/step - loss: 1.8506e-05 - accuracy: 1.0000 - val_loss: 0.1767 - val_accuracy: 0.9807\n",
            "Epoch 43/100\n",
            "375/375 [==============================] - 1s 3ms/step - loss: 5.0368e-05 - accuracy: 1.0000 - val_loss: 0.1785 - val_accuracy: 0.9808\n",
            "Epoch 44/100\n",
            "375/375 [==============================] - 1s 3ms/step - loss: 3.6041e-06 - accuracy: 1.0000 - val_loss: 0.1838 - val_accuracy: 0.9811\n",
            "Epoch 45/100\n",
            "375/375 [==============================] - 1s 3ms/step - loss: 5.6667e-06 - accuracy: 1.0000 - val_loss: 0.1867 - val_accuracy: 0.9807\n",
            "Epoch 46/100\n",
            "375/375 [==============================] - 1s 3ms/step - loss: 7.0666e-06 - accuracy: 1.0000 - val_loss: 0.1905 - val_accuracy: 0.9812\n",
            "Epoch 47/100\n",
            "375/375 [==============================] - 1s 3ms/step - loss: 1.0122e-06 - accuracy: 1.0000 - val_loss: 0.1936 - val_accuracy: 0.9805\n",
            "Epoch 48/100\n",
            "375/375 [==============================] - 1s 3ms/step - loss: 9.3296e-07 - accuracy: 1.0000 - val_loss: 0.1920 - val_accuracy: 0.9806\n",
            "Epoch 49/100\n",
            "375/375 [==============================] - 1s 3ms/step - loss: 4.8850e-07 - accuracy: 1.0000 - val_loss: 0.1938 - val_accuracy: 0.9812\n",
            "Epoch 50/100\n",
            "375/375 [==============================] - 1s 3ms/step - loss: 6.1680e-06 - accuracy: 1.0000 - val_loss: 0.1949 - val_accuracy: 0.9808\n",
            "Epoch 51/100\n",
            "375/375 [==============================] - 1s 3ms/step - loss: 4.0118e-07 - accuracy: 1.0000 - val_loss: 0.1943 - val_accuracy: 0.9810\n",
            "Epoch 52/100\n",
            "375/375 [==============================] - 1s 3ms/step - loss: 9.2185e-08 - accuracy: 1.0000 - val_loss: 0.1958 - val_accuracy: 0.9812\n",
            "Epoch 53/100\n",
            "375/375 [==============================] - 1s 3ms/step - loss: 6.2880e-08 - accuracy: 1.0000 - val_loss: 0.1981 - val_accuracy: 0.9809\n",
            "Epoch 54/100\n",
            "375/375 [==============================] - 1s 3ms/step - loss: 5.0820e-08 - accuracy: 1.0000 - val_loss: 0.1987 - val_accuracy: 0.9810\n",
            "Epoch 55/100\n",
            "375/375 [==============================] - 1s 3ms/step - loss: 3.9374e-08 - accuracy: 1.0000 - val_loss: 0.1986 - val_accuracy: 0.9813\n",
            "Epoch 56/100\n",
            "375/375 [==============================] - 1s 3ms/step - loss: 3.4486e-08 - accuracy: 1.0000 - val_loss: 0.2016 - val_accuracy: 0.9808\n",
            "Epoch 57/100\n",
            "375/375 [==============================] - 1s 3ms/step - loss: 3.2750e-08 - accuracy: 1.0000 - val_loss: 0.2009 - val_accuracy: 0.9811\n",
            "Epoch 58/100\n",
            "375/375 [==============================] - 1s 3ms/step - loss: 2.8821e-08 - accuracy: 1.0000 - val_loss: 0.2016 - val_accuracy: 0.9811\n",
            "Epoch 59/100\n",
            "375/375 [==============================] - 1s 3ms/step - loss: 2.7120e-08 - accuracy: 1.0000 - val_loss: 0.2027 - val_accuracy: 0.9809\n",
            "Epoch 60/100\n",
            "375/375 [==============================] - 1s 3ms/step - loss: 2.5198e-08 - accuracy: 1.0000 - val_loss: 0.2034 - val_accuracy: 0.9812\n",
            "Epoch 61/100\n",
            "375/375 [==============================] - 1s 3ms/step - loss: 2.3551e-08 - accuracy: 1.0000 - val_loss: 0.2044 - val_accuracy: 0.9812\n",
            "Epoch 62/100\n",
            "375/375 [==============================] - 1s 3ms/step - loss: 2.2312e-08 - accuracy: 1.0000 - val_loss: 0.2042 - val_accuracy: 0.9810\n",
            "Epoch 63/100\n",
            "375/375 [==============================] - 1s 3ms/step - loss: 2.1150e-08 - accuracy: 1.0000 - val_loss: 0.2048 - val_accuracy: 0.9813\n",
            "Epoch 64/100\n",
            "375/375 [==============================] - 1s 3ms/step - loss: 2.0134e-08 - accuracy: 1.0000 - val_loss: 0.2051 - val_accuracy: 0.9815\n",
            "Epoch 65/100\n",
            "375/375 [==============================] - 1s 3ms/step - loss: 1.9031e-08 - accuracy: 1.0000 - val_loss: 0.2059 - val_accuracy: 0.9810\n",
            "Epoch 66/100\n",
            "375/375 [==============================] - 1s 3ms/step - loss: 1.8165e-08 - accuracy: 1.0000 - val_loss: 0.2068 - val_accuracy: 0.9811\n",
            "Epoch 67/100\n",
            "375/375 [==============================] - 1s 3ms/step - loss: 1.7437e-08 - accuracy: 1.0000 - val_loss: 0.2069 - val_accuracy: 0.9810\n",
            "Epoch 68/100\n",
            "375/375 [==============================] - 1s 3ms/step - loss: 1.6650e-08 - accuracy: 1.0000 - val_loss: 0.2075 - val_accuracy: 0.9813\n",
            "Epoch 69/100\n",
            "375/375 [==============================] - 1s 3ms/step - loss: 1.5989e-08 - accuracy: 1.0000 - val_loss: 0.2075 - val_accuracy: 0.9811\n",
            "Epoch 70/100\n",
            "375/375 [==============================] - 1s 3ms/step - loss: 1.5299e-08 - accuracy: 1.0000 - val_loss: 0.2080 - val_accuracy: 0.9810\n",
            "Epoch 71/100\n",
            "375/375 [==============================] - 1s 3ms/step - loss: 1.4861e-08 - accuracy: 1.0000 - val_loss: 0.2092 - val_accuracy: 0.9809\n",
            "Epoch 72/100\n",
            "375/375 [==============================] - 1s 3ms/step - loss: 1.4255e-08 - accuracy: 1.0000 - val_loss: 0.2092 - val_accuracy: 0.9808\n",
            "Epoch 73/100\n",
            "375/375 [==============================] - 1s 3ms/step - loss: 1.3766e-08 - accuracy: 1.0000 - val_loss: 0.2098 - val_accuracy: 0.9808\n",
            "Epoch 74/100\n",
            "375/375 [==============================] - 1s 3ms/step - loss: 1.3351e-08 - accuracy: 1.0000 - val_loss: 0.2097 - val_accuracy: 0.9808\n",
            "Epoch 75/100\n",
            "375/375 [==============================] - 1s 3ms/step - loss: 1.2922e-08 - accuracy: 1.0000 - val_loss: 0.2100 - val_accuracy: 0.9807\n",
            "Epoch 76/100\n",
            "375/375 [==============================] - 1s 3ms/step - loss: 1.2552e-08 - accuracy: 1.0000 - val_loss: 0.2103 - val_accuracy: 0.9810\n",
            "Epoch 77/100\n",
            "375/375 [==============================] - 1s 3ms/step - loss: 1.2159e-08 - accuracy: 1.0000 - val_loss: 0.2109 - val_accuracy: 0.9808\n",
            "Epoch 78/100\n",
            "375/375 [==============================] - 1s 3ms/step - loss: 1.1879e-08 - accuracy: 1.0000 - val_loss: 0.2109 - val_accuracy: 0.9810\n",
            "Epoch 79/100\n",
            "375/375 [==============================] - 1s 3ms/step - loss: 1.1558e-08 - accuracy: 1.0000 - val_loss: 0.2120 - val_accuracy: 0.9807\n",
            "Epoch 80/100\n",
            "375/375 [==============================] - 1s 3ms/step - loss: 1.1221e-08 - accuracy: 1.0000 - val_loss: 0.2121 - val_accuracy: 0.9808\n",
            "Epoch 81/100\n",
            "375/375 [==============================] - 1s 3ms/step - loss: 1.0955e-08 - accuracy: 1.0000 - val_loss: 0.2126 - val_accuracy: 0.9809\n",
            "Epoch 82/100\n",
            "375/375 [==============================] - 1s 3ms/step - loss: 1.0759e-08 - accuracy: 1.0000 - val_loss: 0.2128 - val_accuracy: 0.9809\n",
            "Epoch 83/100\n",
            "375/375 [==============================] - 1s 3ms/step - loss: 1.0401e-08 - accuracy: 1.0000 - val_loss: 0.2128 - val_accuracy: 0.9811\n",
            "Epoch 84/100\n",
            "375/375 [==============================] - 1s 3ms/step - loss: 1.0279e-08 - accuracy: 1.0000 - val_loss: 0.2132 - val_accuracy: 0.9807\n",
            "Epoch 85/100\n",
            "375/375 [==============================] - 1s 3ms/step - loss: 9.9540e-09 - accuracy: 1.0000 - val_loss: 0.2137 - val_accuracy: 0.9809\n",
            "Epoch 86/100\n",
            "375/375 [==============================] - 1s 3ms/step - loss: 9.7230e-09 - accuracy: 1.0000 - val_loss: 0.2138 - val_accuracy: 0.9809\n",
            "Epoch 87/100\n",
            "375/375 [==============================] - 1s 3ms/step - loss: 9.5566e-09 - accuracy: 1.0000 - val_loss: 0.2143 - val_accuracy: 0.9807\n",
            "Epoch 88/100\n",
            "375/375 [==============================] - 1s 3ms/step - loss: 9.4349e-09 - accuracy: 1.0000 - val_loss: 0.2145 - val_accuracy: 0.9808\n",
            "Epoch 89/100\n",
            "375/375 [==============================] - 1s 3ms/step - loss: 9.2015e-09 - accuracy: 1.0000 - val_loss: 0.2148 - val_accuracy: 0.9808\n",
            "Epoch 90/100\n",
            "375/375 [==============================] - 1s 3ms/step - loss: 9.0227e-09 - accuracy: 1.0000 - val_loss: 0.2148 - val_accuracy: 0.9807\n",
            "Epoch 91/100\n",
            "375/375 [==============================] - 1s 3ms/step - loss: 8.7942e-09 - accuracy: 1.0000 - val_loss: 0.2153 - val_accuracy: 0.9807\n",
            "Epoch 92/100\n",
            "375/375 [==============================] - 1s 3ms/step - loss: 8.7420e-09 - accuracy: 1.0000 - val_loss: 0.2160 - val_accuracy: 0.9806\n",
            "Epoch 93/100\n",
            "375/375 [==============================] - 1s 3ms/step - loss: 8.5756e-09 - accuracy: 1.0000 - val_loss: 0.2162 - val_accuracy: 0.9806\n",
            "Epoch 94/100\n",
            "375/375 [==============================] - 1s 3ms/step - loss: 8.3918e-09 - accuracy: 1.0000 - val_loss: 0.2164 - val_accuracy: 0.9805\n",
            "Epoch 95/100\n",
            "375/375 [==============================] - 1s 3ms/step - loss: 8.3918e-09 - accuracy: 1.0000 - val_loss: 0.2167 - val_accuracy: 0.9808\n",
            "Epoch 96/100\n",
            "375/375 [==============================] - 1s 3ms/step - loss: 8.1013e-09 - accuracy: 1.0000 - val_loss: 0.2170 - val_accuracy: 0.9807\n",
            "Epoch 97/100\n",
            "375/375 [==============================] - 1s 3ms/step - loss: 8.0317e-09 - accuracy: 1.0000 - val_loss: 0.2169 - val_accuracy: 0.9808\n",
            "Epoch 98/100\n",
            "375/375 [==============================] - 1s 3ms/step - loss: 7.9299e-09 - accuracy: 1.0000 - val_loss: 0.2173 - val_accuracy: 0.9805\n",
            "Epoch 99/100\n",
            "375/375 [==============================] - 1s 3ms/step - loss: 7.7759e-09 - accuracy: 1.0000 - val_loss: 0.2175 - val_accuracy: 0.9806\n",
            "Epoch 100/100\n",
            "375/375 [==============================] - 1s 3ms/step - loss: 7.6542e-09 - accuracy: 1.0000 - val_loss: 0.2181 - val_accuracy: 0.9806\n",
            "CPU times: user 2min 4s, sys: 17.7 s, total: 2min 22s\n",
            "Wall time: 2min 2s\n"
          ],
          "name": "stdout"
        }
      ]
    },
    {
      "cell_type": "markdown",
      "metadata": {
        "id": "etl8f10yfk7F"
      },
      "source": [
        "> ## **4) 학습 결과 시각화**"
      ]
    },
    {
      "cell_type": "markdown",
      "metadata": {
        "id": "aInazJcHfp0a"
      },
      "source": [
        "- Loss Visualization"
      ]
    },
    {
      "cell_type": "code",
      "metadata": {
        "colab": {
          "base_uri": "https://localhost:8080/",
          "height": 404
        },
        "id": "JIFMRnT_fso3",
        "outputId": "3c6eb043-d451-4c31-ab7f-e10c1d5a6799"
      },
      "source": [
        "import matplotlib.pyplot as plt\n",
        "\n",
        "epochs = range(1, len(Hist_mnist.history['loss']) + 1)\n",
        "\n",
        "plt.figure(figsize=(9, 6))\n",
        "plt.plot(epochs, Hist_mnist.history['loss'])\n",
        "plt.plot(epochs, Hist_mnist.history['val_loss'])\n",
        "# plt.ylim(0, 0.25)\n",
        "plt.title('Training & Validation Loss')\n",
        "plt.xlabel('Epochs')\n",
        "plt.ylabel('Loss')\n",
        "plt.legend(['Training Loss', 'Validation Loss'])\n",
        "plt.grid()\n",
        "plt.show()"
      ],
      "execution_count": 18,
      "outputs": [
        {
          "output_type": "display_data",
          "data": {
            "image/png": "[encoded data removed]",
            "text/plain": [
              "<Figure size 648x432 with 1 Axes>"
            ]
          },
          "metadata": {
            "tags": [],
            "needs_background": "light"
          }
        }
      ]
    },
    {
      "cell_type": "markdown",
      "metadata": {
        "id": "dqHEbfn9uKvf"
      },
      "source": [
        "**Training과 Validation의 Loss 간격이 넓으면 Overfitting → 간격이 줄어듦**"
      ]
    },
    {
      "cell_type": "markdown",
      "metadata": {
        "id": "IdFam5j1gQI0"
      },
      "source": [
        "> ## **5) Model Evaluate**"
      ]
    },
    {
      "cell_type": "markdown",
      "metadata": {
        "id": "x0hqiog_gZfk"
      },
      "source": [
        "- Loss & Accuracy"
      ]
    },
    {
      "cell_type": "code",
      "metadata": {
        "colab": {
          "base_uri": "https://localhost:8080/"
        },
        "id": "yjC2xsEMgbRc",
        "outputId": "41b9ae6d-e36b-44f9-e790-b48c97f558f0"
      },
      "source": [
        "loss, accuracy = mnist.evaluate(X_test, y_test)\n",
        "\n",
        "print('Loss = {:.5f}'.format(loss))\n",
        "print('Accuracy = {:.5f}'.format(accuracy))"
      ],
      "execution_count": 19,
      "outputs": [
        {
          "output_type": "stream",
          "text": [
            "313/313 [==============================] - 1s 2ms/step - loss: 0.1759 - accuracy: 0.9820\n",
            "Loss = 0.17593\n",
            "Accuracy = 0.98200\n"
          ],
          "name": "stdout"
        }
      ]
    },
    {
      "cell_type": "markdown",
      "metadata": {
        "id": "oQtgTWclgnjs"
      },
      "source": [
        "> ## **6) Model Predict**"
      ]
    },
    {
      "cell_type": "markdown",
      "metadata": {
        "id": "7IMLtby3gvcp"
      },
      "source": [
        "- Probability"
      ]
    },
    {
      "cell_type": "code",
      "metadata": {
        "colab": {
          "base_uri": "https://localhost:8080/"
        },
        "id": "TirXNoVOgyWQ",
        "outputId": "8faabb3e-bf08-415f-f021-47162767a79c"
      },
      "source": [
        "np.set_printoptions(suppress=True, precision=9)\n",
        "\n",
        "print(mnist.predict(X_test[:1, :]))"
      ],
      "execution_count": 20,
      "outputs": [
        {
          "output_type": "stream",
          "text": [
            "[[0. 0. 0. 0. 0. 0. 0. 1. 0. 0.]]\n"
          ],
          "name": "stdout"
        }
      ]
    },
    {
      "cell_type": "markdown",
      "metadata": {
        "id": "h4tSlbMZg75o"
      },
      "source": [
        "- Class"
      ]
    },
    {
      "cell_type": "code",
      "metadata": {
        "colab": {
          "base_uri": "https://localhost:8080/"
        },
        "id": "TYVdAykug_Ku",
        "outputId": "a23f5fc7-6a6a-4c80-d3ea-9d7ff5df7868"
      },
      "source": [
        "print(mnist.predict_classes(X_test[:1, :]))"
      ],
      "execution_count": 21,
      "outputs": [
        {
          "output_type": "stream",
          "text": [
            "[7]\n"
          ],
          "name": "stdout"
        }
      ]
    },
    {
      "cell_type": "code",
      "metadata": {
        "id": "IxBEAaCIhEmU"
      },
      "source": [
        ""
      ],
      "execution_count": 21,
      "outputs": []
    }
  ]
}