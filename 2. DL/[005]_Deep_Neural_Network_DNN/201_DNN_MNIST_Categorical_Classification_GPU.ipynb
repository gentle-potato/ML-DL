{
  "nbformat": 4,
  "nbformat_minor": 0,
  "metadata": {
    "colab": {
      "name": "201_DNN_MNIST_Categorical_Classification_GPU.ipynb",
      "provenance": [],
      "collapsed_sections": [],
      "toc_visible": true
    },
    "kernelspec": {
      "name": "python3",
      "display_name": "Python 3"
    },
    "language_info": {
      "name": "python"
    },
    "accelerator": "GPU"
  },
  "cells": [
    {
      "cell_type": "markdown",
      "metadata": {
        "id": "8pBzCPUMbckp"
      },
      "source": [
        "# **MNIST - Categorical Classification**"
      ]
    },
    {
      "cell_type": "markdown",
      "metadata": {
        "id": "o0O12n1GbomH"
      },
      "source": [
        "> # **Overfitting Issue**"
      ]
    },
    {
      "cell_type": "markdown",
      "metadata": {
        "id": "rpDMM2Dqbs-i"
      },
      "source": [
        "## **Import TensorFlow**"
      ]
    },
    {
      "cell_type": "code",
      "metadata": {
        "id": "oQFZUUu_bwiq"
      },
      "source": [
        "import warnings\n",
        "warnings.filterwarnings('ignore')"
      ],
      "execution_count": 1,
      "outputs": []
    },
    {
      "cell_type": "markdown",
      "metadata": {
        "id": "ysPZ3nivb0e3"
      },
      "source": [
        "- import TensorFlow"
      ]
    },
    {
      "cell_type": "code",
      "metadata": {
        "colab": {
          "base_uri": "https://localhost:8080/",
          "height": 35
        },
        "id": "3pAGeZ7Yb33D",
        "outputId": "aef2c23b-cc26-4d01-a545-86438e6facad"
      },
      "source": [
        "import tensorflow as tf\n",
        "\n",
        "tf.__version__"
      ],
      "execution_count": 2,
      "outputs": [
        {
          "output_type": "execute_result",
          "data": {
            "application/vnd.google.colaboratory.intrinsic+json": {
              "type": "string"
            },
            "text/plain": [
              "'2.5.0'"
            ]
          },
          "metadata": {
            "tags": []
          },
          "execution_count": 2
        }
      ]
    },
    {
      "cell_type": "markdown",
      "metadata": {
        "id": "qhQjG6qVb7W1"
      },
      "source": [
        "- GPU 설정 확인"
      ]
    },
    {
      "cell_type": "code",
      "metadata": {
        "colab": {
          "base_uri": "https://localhost:8080/",
          "height": 35
        },
        "id": "D-nZRjSO9VrE",
        "outputId": "8adbea6a-6086-4ef3-8783-2f60c5eb685e"
      },
      "source": [
        "tf.test.gpu_device_name()"
      ],
      "execution_count": 3,
      "outputs": [
        {
          "output_type": "execute_result",
          "data": {
            "application/vnd.google.colaboratory.intrinsic+json": {
              "type": "string"
            },
            "text/plain": [
              "'/device:GPU:0'"
            ]
          },
          "metadata": {
            "tags": []
          },
          "execution_count": 3
        }
      ]
    },
    {
      "cell_type": "markdown",
      "metadata": {
        "id": "f5ed3-8fcCAc"
      },
      "source": [
        "# **I. MNIST Data_Set Load & Review**"
      ]
    },
    {
      "cell_type": "markdown",
      "metadata": {
        "id": "-XfzPWghcJC6"
      },
      "source": [
        "> ## **1) Load MNIST Data_Set**"
      ]
    },
    {
      "cell_type": "code",
      "metadata": {
        "id": "81O8TTUxcMmV",
        "colab": {
          "base_uri": "https://localhost:8080/"
        },
        "outputId": "0203099a-c9a0-4ac9-a489-bf707b8ff2bd"
      },
      "source": [
        "from tensorflow.keras.datasets import mnist\n",
        "\n",
        "(X_train, y_train,), (X_test, y_test) = mnist.load_data()"
      ],
      "execution_count": 4,
      "outputs": [
        {
          "output_type": "stream",
          "text": [
            "Downloading data from https://storage.googleapis.com/tensorflow/tf-keras-datasets/mnist.npz\n",
            "11493376/11490434 [==============================] - 0s 0us/step\n"
          ],
          "name": "stdout"
        }
      ]
    },
    {
      "cell_type": "markdown",
      "metadata": {
        "id": "gn1QnCEKcUvY"
      },
      "source": [
        "- Train_Data Information"
      ]
    },
    {
      "cell_type": "code",
      "metadata": {
        "colab": {
          "base_uri": "https://localhost:8080/"
        },
        "id": "qhex6WqscaUW",
        "outputId": "0be88789-4a10-460a-96f1-faae0b9b908a"
      },
      "source": [
        "print(len(X_train))\n",
        "print(X_train.shape)\n",
        "\n",
        "print('')\n",
        "\n",
        "print(len(y_train))\n",
        "print(y_train[0:5])"
      ],
      "execution_count": 5,
      "outputs": [
        {
          "output_type": "stream",
          "text": [
            "60000\n",
            "(60000, 28, 28)\n",
            "\n",
            "60000\n",
            "[5 0 4 1 9]\n"
          ],
          "name": "stdout"
        }
      ]
    },
    {
      "cell_type": "markdown",
      "metadata": {
        "id": "AYXY5UXEcg5i"
      },
      "source": [
        "- Test_Data Information"
      ]
    },
    {
      "cell_type": "code",
      "metadata": {
        "colab": {
          "base_uri": "https://localhost:8080/"
        },
        "id": "qhXtRF4Ecqhs",
        "outputId": "d5249c12-f312-4266-80ce-0168e9d9c034"
      },
      "source": [
        "print(len(X_test))\n",
        "print(X_test.shape)\n",
        "\n",
        "print('')\n",
        "\n",
        "print(len(y_test))\n",
        "print(y_test[0:5])"
      ],
      "execution_count": 6,
      "outputs": [
        {
          "output_type": "stream",
          "text": [
            "10000\n",
            "(10000, 28, 28)\n",
            "\n",
            "10000\n",
            "[7 2 1 0 4]\n"
          ],
          "name": "stdout"
        }
      ]
    },
    {
      "cell_type": "markdown",
      "metadata": {
        "id": "HL_4RYpHcvEb"
      },
      "source": [
        "> ## **2) Visualization**"
      ]
    },
    {
      "cell_type": "code",
      "metadata": {
        "colab": {
          "base_uri": "https://localhost:8080/",
          "height": 265
        },
        "id": "bdhrsu2AcyC-",
        "outputId": "e4f5d85c-e9dd-4399-f4fe-4e16b7db915a"
      },
      "source": [
        "import matplotlib.pyplot as plt\n",
        "\n",
        "digit = X_train[4]\n",
        "plt.imshow(digit, cmap='gray')\n",
        "plt.show()"
      ],
      "execution_count": 7,
      "outputs": [
        {
          "output_type": "display_data",
          "data": {
            "image/png": "[encoded data removed]",
            "text/plain": [
              "<Figure size 432x288 with 1 Axes>"
            ]
          },
          "metadata": {
            "tags": [],
            "needs_background": "light"
          }
        }
      ]
    },
    {
      "cell_type": "code",
      "metadata": {
        "colab": {
          "base_uri": "https://localhost:8080/"
        },
        "id": "gideUITbc9Wa",
        "outputId": "c7aeb072-a39c-449f-c1af-71a425165ff4"
      },
      "source": [
        "import numpy as np\n",
        "np.set_printoptions(linewidth=150)\n",
        "\n",
        "print(X_train[4])"
      ],
      "execution_count": 8,
      "outputs": [
        {
          "output_type": "stream",
          "text": [
            "[[  0   0   0   0   0   0   0   0   0   0   0   0   0   0   0   0   0   0   0   0   0   0   0   0   0   0   0   0]\n",
            " [  0   0   0   0   0   0   0   0   0   0   0   0   0   0   0   0   0   0   0   0   0   0   0   0   0   0   0   0]\n",
            " [  0   0   0   0   0   0   0   0   0   0   0   0   0   0   0   0   0   0   0   0   0   0   0   0   0   0   0   0]\n",
            " [  0   0   0   0   0   0   0   0   0   0   0   0   0   0   0   0   0   0   0   0   0   0   0   0   0   0   0   0]\n",
            " [  0   0   0   0   0   0   0   0   0   0   0   0   0   0   0   0   0   0   0   0   0   0   0   0   0   0   0   0]\n",
            " [  0   0   0   0   0   0   0   0   0   0   0   0   0   0   0   0   0   0   0   0   0   0   0   0   0   0   0   0]\n",
            " [  0   0   0   0   0   0   0   0   0   0   0   0   0   0   0   0   0   0   0   0   0   0   0   0   0   0   0   0]\n",
            " [  0   0   0   0   0   0   0   0   0   0   0   0  55 148 210 253 253 113  87 148  55   0   0   0   0   0   0   0]\n",
            " [  0   0   0   0   0   0   0   0   0   0   0  87 232 252 253 189 210 252 252 253 168   0   0   0   0   0   0   0]\n",
            " [  0   0   0   0   0   0   0   0   0   4  57 242 252 190  65   5  12 182 252 253 116   0   0   0   0   0   0   0]\n",
            " [  0   0   0   0   0   0   0   0   0  96 252 252 183  14   0   0  92 252 252 225  21   0   0   0   0   0   0   0]\n",
            " [  0   0   0   0   0   0   0   0 132 253 252 146  14   0   0   0 215 252 252  79   0   0   0   0   0   0   0   0]\n",
            " [  0   0   0   0   0   0   0 126 253 247 176   9   0   0   8  78 245 253 129   0   0   0   0   0   0   0   0   0]\n",
            " [  0   0   0   0   0   0  16 232 252 176   0   0   0  36 201 252 252 169  11   0   0   0   0   0   0   0   0   0]\n",
            " [  0   0   0   0   0   0  22 252 252  30  22 119 197 241 253 252 251  77   0   0   0   0   0   0   0   0   0   0]\n",
            " [  0   0   0   0   0   0  16 231 252 253 252 252 252 226 227 252 231   0   0   0   0   0   0   0   0   0   0   0]\n",
            " [  0   0   0   0   0   0   0  55 235 253 217 138  42  24 192 252 143   0   0   0   0   0   0   0   0   0   0   0]\n",
            " [  0   0   0   0   0   0   0   0   0   0   0   0   0  62 255 253 109   0   0   0   0   0   0   0   0   0   0   0]\n",
            " [  0   0   0   0   0   0   0   0   0   0   0   0   0  71 253 252  21   0   0   0   0   0   0   0   0   0   0   0]\n",
            " [  0   0   0   0   0   0   0   0   0   0   0   0   0   0 253 252  21   0   0   0   0   0   0   0   0   0   0   0]\n",
            " [  0   0   0   0   0   0   0   0   0   0   0   0   0  71 253 252  21   0   0   0   0   0   0   0   0   0   0   0]\n",
            " [  0   0   0   0   0   0   0   0   0   0   0   0   0 106 253 252  21   0   0   0   0   0   0   0   0   0   0   0]\n",
            " [  0   0   0   0   0   0   0   0   0   0   0   0   0  45 255 253  21   0   0   0   0   0   0   0   0   0   0   0]\n",
            " [  0   0   0   0   0   0   0   0   0   0   0   0   0   0 218 252  56   0   0   0   0   0   0   0   0   0   0   0]\n",
            " [  0   0   0   0   0   0   0   0   0   0   0   0   0   0  96 252 189  42   0   0   0   0   0   0   0   0   0   0]\n",
            " [  0   0   0   0   0   0   0   0   0   0   0   0   0   0  14 184 252 170  11   0   0   0   0   0   0   0   0   0]\n",
            " [  0   0   0   0   0   0   0   0   0   0   0   0   0   0   0  14 147 252  42   0   0   0   0   0   0   0   0   0]\n",
            " [  0   0   0   0   0   0   0   0   0   0   0   0   0   0   0   0   0   0   0   0   0   0   0   0   0   0   0   0]]\n"
          ],
          "name": "stdout"
        }
      ]
    },
    {
      "cell_type": "markdown",
      "metadata": {
        "id": "IflEERIKdDpV"
      },
      "source": [
        "# **II. Data Preprocessing**"
      ]
    },
    {
      "cell_type": "markdown",
      "metadata": {
        "id": "f_hfyIvuCUNi"
      },
      "source": [
        "> ## **1) Reshape and Normalization**"
      ]
    },
    {
      "cell_type": "markdown",
      "metadata": {
        "id": "_K7harGNdHA4"
      },
      "source": [
        "- reshape\n",
        "  - (60000, 28, 28) to (60000, 784)"
      ]
    },
    {
      "cell_type": "code",
      "metadata": {
        "colab": {
          "base_uri": "https://localhost:8080/"
        },
        "id": "R2_CQ61EdL87",
        "outputId": "2bd9b2c9-cdd1-4a07-a797-8cb29e7b5c52"
      },
      "source": [
        "X_train = X_train.reshape((60000, 28 * 28))\n",
        "X_test = X_test.reshape((10000, 28 * 28))\n",
        "\n",
        "X_train.shape, X_test.shape"
      ],
      "execution_count": 9,
      "outputs": [
        {
          "output_type": "execute_result",
          "data": {
            "text/plain": [
              "((60000, 784), (10000, 784))"
            ]
          },
          "metadata": {
            "tags": []
          },
          "execution_count": 9
        }
      ]
    },
    {
      "cell_type": "markdown",
      "metadata": {
        "id": "gxrl06ovdWrS"
      },
      "source": [
        "- Normalization"
      ]
    },
    {
      "cell_type": "code",
      "metadata": {
        "id": "Q8n2YprNdZKa"
      },
      "source": [
        "X_train = X_train.astype(float) / 255\n",
        "X_test = X_test.astype(float) / 255"
      ],
      "execution_count": 10,
      "outputs": []
    },
    {
      "cell_type": "code",
      "metadata": {
        "colab": {
          "base_uri": "https://localhost:8080/"
        },
        "id": "EHNHiK_KdiPE",
        "outputId": "24db40fe-4ac4-4f2f-d7b8-efb2a1fba31c"
      },
      "source": [
        "print(X_train[4])"
      ],
      "execution_count": 11,
      "outputs": [
        {
          "output_type": "stream",
          "text": [
            "[0.         0.         0.         0.         0.         0.         0.         0.         0.         0.         0.         0.         0.\n",
            " 0.         0.         0.         0.         0.         0.         0.         0.         0.         0.         0.         0.         0.\n",
            " 0.         0.         0.         0.         0.         0.         0.         0.         0.         0.         0.         0.         0.\n",
            " 0.         0.         0.         0.         0.         0.         0.         0.         0.         0.         0.         0.         0.\n",
            " 0.         0.         0.         0.         0.         0.         0.         0.         0.         0.         0.         0.         0.\n",
            " 0.         0.         0.         0.         0.         0.         0.         0.         0.         0.         0.         0.         0.\n",
            " 0.         0.         0.         0.         0.         0.         0.         0.         0.         0.         0.         0.         0.\n",
            " 0.         0.         0.         0.         0.         0.         0.         0.         0.         0.         0.         0.         0.\n",
            " 0.         0.         0.         0.         0.         0.         0.         0.         0.         0.         0.         0.         0.\n",
            " 0.         0.         0.         0.         0.         0.         0.         0.         0.         0.         0.         0.         0.\n",
            " 0.         0.         0.         0.         0.         0.         0.         0.         0.         0.         0.         0.         0.\n",
            " 0.         0.         0.         0.         0.         0.         0.         0.         0.         0.         0.         0.         0.\n",
            " 0.         0.         0.         0.         0.         0.         0.         0.         0.         0.         0.         0.         0.\n",
            " 0.         0.         0.         0.         0.         0.         0.         0.         0.         0.         0.         0.         0.\n",
            " 0.         0.         0.         0.         0.         0.         0.         0.         0.         0.         0.         0.         0.\n",
            " 0.         0.         0.         0.         0.         0.         0.         0.         0.         0.         0.         0.         0.\n",
            " 0.21568627 0.58039216 0.82352941 0.99215686 0.99215686 0.44313725 0.34117647 0.58039216 0.21568627 0.         0.         0.         0.\n",
            " 0.         0.         0.         0.         0.         0.         0.         0.         0.         0.         0.         0.         0.\n",
            " 0.         0.34117647 0.90980392 0.98823529 0.99215686 0.74117647 0.82352941 0.98823529 0.98823529 0.99215686 0.65882353 0.         0.\n",
            " 0.         0.         0.         0.         0.         0.         0.         0.         0.         0.         0.         0.         0.\n",
            " 0.         0.01568627 0.22352941 0.94901961 0.98823529 0.74509804 0.25490196 0.01960784 0.04705882 0.71372549 0.98823529 0.99215686 0.45490196\n",
            " 0.         0.         0.         0.         0.         0.         0.         0.         0.         0.         0.         0.         0.\n",
            " 0.         0.         0.         0.37647059 0.98823529 0.98823529 0.71764706 0.05490196 0.         0.         0.36078431 0.98823529 0.98823529\n",
            " 0.88235294 0.08235294 0.         0.         0.         0.         0.         0.         0.         0.         0.         0.         0.\n",
            " 0.         0.         0.         0.         0.51764706 0.99215686 0.98823529 0.57254902 0.05490196 0.         0.         0.         0.84313725\n",
            " 0.98823529 0.98823529 0.30980392 0.         0.         0.         0.         0.         0.         0.         0.         0.         0.\n",
            " 0.         0.         0.         0.         0.         0.49411765 0.99215686 0.96862745 0.69019608 0.03529412 0.         0.         0.03137255\n",
            " 0.30588235 0.96078431 0.99215686 0.50588235 0.         0.         0.         0.         0.         0.         0.         0.         0.\n",
            " 0.         0.         0.         0.         0.         0.         0.0627451  0.90980392 0.98823529 0.69019608 0.         0.         0.\n",
            " 0.14117647 0.78823529 0.98823529 0.98823529 0.6627451  0.04313725 0.         0.         0.         0.         0.         0.         0.\n",
            " 0.         0.         0.         0.         0.         0.         0.         0.         0.08627451 0.98823529 0.98823529 0.11764706 0.08627451\n",
            " 0.46666667 0.77254902 0.94509804 0.99215686 0.98823529 0.98431373 0.30196078 0.         0.         0.         0.         0.         0.\n",
            " 0.         0.         0.         0.         0.         0.         0.         0.         0.         0.         0.0627451  0.90588235 0.98823529\n",
            " 0.99215686 0.98823529 0.98823529 0.98823529 0.88627451 0.89019608 0.98823529 0.90588235 0.         0.         0.         0.         0.\n",
            " 0.         0.         0.         0.         0.         0.         0.         0.         0.         0.         0.         0.         0.\n",
            " 0.21568627 0.92156863 0.99215686 0.85098039 0.54117647 0.16470588 0.09411765 0.75294118 0.98823529 0.56078431 0.         0.         0.\n",
            " 0.         0.         0.         0.         0.         0.         0.         0.         0.         0.         0.         0.         0.\n",
            " 0.         0.         0.         0.         0.         0.         0.         0.         0.24313725 1.         0.99215686 0.42745098 0.\n",
            " 0.         0.         0.         0.         0.         0.         0.         0.         0.         0.         0.         0.         0.\n",
            " 0.         0.         0.         0.         0.         0.         0.         0.         0.         0.         0.27843137 0.99215686 0.98823529\n",
            " 0.08235294 0.         0.         0.         0.         0.         0.         0.         0.         0.         0.         0.         0.\n",
            " 0.         0.         0.         0.         0.         0.         0.         0.         0.         0.         0.         0.         0.\n",
            " 0.99215686 0.98823529 0.08235294 0.         0.         0.         0.         0.         0.         0.         0.         0.         0.\n",
            " 0.         0.         0.         0.         0.         0.         0.         0.         0.         0.         0.         0.         0.\n",
            " 0.         0.27843137 0.99215686 0.98823529 0.08235294 0.         0.         0.         0.         0.         0.         0.         0.\n",
            " 0.         0.         0.         0.         0.         0.         0.         0.         0.         0.         0.         0.         0.\n",
            " 0.         0.         0.         0.41568627 0.99215686 0.98823529 0.08235294 0.         0.         0.         0.         0.         0.\n",
            " 0.         0.         0.         0.         0.         0.         0.         0.         0.         0.         0.         0.         0.\n",
            " 0.         0.         0.         0.         0.         0.17647059 1.         0.99215686 0.08235294 0.         0.         0.         0.\n",
            " 0.         0.         0.         0.         0.         0.         0.         0.         0.         0.         0.         0.         0.\n",
            " 0.         0.         0.         0.         0.         0.         0.         0.         0.85490196 0.98823529 0.21960784 0.         0.\n",
            " 0.         0.         0.         0.         0.         0.         0.         0.         0.         0.         0.         0.         0.\n",
            " 0.         0.         0.         0.         0.         0.         0.         0.         0.         0.         0.37647059 0.98823529 0.74117647\n",
            " 0.16470588 0.         0.         0.         0.         0.         0.         0.         0.         0.         0.         0.         0.\n",
            " 0.         0.         0.         0.         0.         0.         0.         0.         0.         0.         0.         0.         0.05490196\n",
            " 0.72156863 0.98823529 0.66666667 0.04313725 0.         0.         0.         0.         0.         0.         0.         0.         0.\n",
            " 0.         0.         0.         0.         0.         0.         0.         0.         0.         0.         0.         0.         0.\n",
            " 0.         0.         0.05490196 0.57647059 0.98823529 0.16470588 0.         0.         0.         0.         0.         0.         0.\n",
            " 0.         0.         0.         0.         0.         0.         0.         0.         0.         0.         0.         0.         0.\n",
            " 0.         0.         0.         0.         0.         0.         0.         0.         0.         0.         0.         0.         0.\n",
            " 0.         0.         0.         0.        ]\n"
          ],
          "name": "stdout"
        }
      ]
    },
    {
      "cell_type": "markdown",
      "metadata": {
        "id": "5ltIJPfmdjnb"
      },
      "source": [
        "> ## **2) One-Hot Encoding**"
      ]
    },
    {
      "cell_type": "code",
      "metadata": {
        "id": "kkUn3PL6doOX"
      },
      "source": [
        "from tensorflow.keras.utils import to_categorical\n",
        "\n",
        "y_train = to_categorical(y_train)\n",
        "y_test = to_categorical(y_test)"
      ],
      "execution_count": 12,
      "outputs": []
    },
    {
      "cell_type": "code",
      "metadata": {
        "colab": {
          "base_uri": "https://localhost:8080/"
        },
        "id": "UoFf9p-ad39k",
        "outputId": "b0d933c3-6151-4b93-90c5-52ca58afa9cc"
      },
      "source": [
        "print(y_train[:5])"
      ],
      "execution_count": 13,
      "outputs": [
        {
          "output_type": "stream",
          "text": [
            "[[0. 0. 0. 0. 0. 1. 0. 0. 0. 0.]\n",
            " [1. 0. 0. 0. 0. 0. 0. 0. 0. 0.]\n",
            " [0. 0. 0. 0. 1. 0. 0. 0. 0. 0.]\n",
            " [0. 1. 0. 0. 0. 0. 0. 0. 0. 0.]\n",
            " [0. 0. 0. 0. 0. 0. 0. 0. 0. 1.]]\n"
          ],
          "name": "stdout"
        }
      ]
    },
    {
      "cell_type": "markdown",
      "metadata": {
        "id": "wd7TdAkPd5AH"
      },
      "source": [
        "# **III. MNIST Keras Modeling**"
      ]
    },
    {
      "cell_type": "markdown",
      "metadata": {
        "id": "BcfYU6iHd_Ba"
      },
      "source": [
        "> ## **1) Model Define**"
      ]
    },
    {
      "cell_type": "markdown",
      "metadata": {
        "id": "fGvf-D4SeBl0"
      },
      "source": [
        "- 모델 신경망 구조 정의\n",
        "  - 2개의 Hidden Layers & 768개의 Nodes\n",
        "  - 복잡한 Model Capacity로 인한 Overfitting"
      ]
    },
    {
      "cell_type": "code",
      "metadata": {
        "id": "e6gG9_jJeLad"
      },
      "source": [
        "from tensorflow.keras import models\n",
        "from tensorflow.keras import layers\n",
        "\n",
        "mnist = models.Sequential()\n",
        "mnist.add(layers.Dense(512, activation='relu', input_shape=(28 * 28, )))\n",
        "mnist.add(layers.Dense(256, activation='relu'))\n",
        "mnist.add(layers.Dense(10, activation='softmax'))"
      ],
      "execution_count": 14,
      "outputs": []
    },
    {
      "cell_type": "markdown",
      "metadata": {
        "id": "mB5oKgr4ez5w"
      },
      "source": [
        "- 모델 구조 확인"
      ]
    },
    {
      "cell_type": "code",
      "metadata": {
        "colab": {
          "base_uri": "https://localhost:8080/"
        },
        "id": "XtDB5t71e4cz",
        "outputId": "08733980-67b9-4e4c-8e2a-edca1f2cb66d"
      },
      "source": [
        "mnist.summary()"
      ],
      "execution_count": 15,
      "outputs": [
        {
          "output_type": "stream",
          "text": [
            "Model: \"sequential\"\n",
            "_________________________________________________________________\n",
            "Layer (type)                 Output Shape              Param #   \n",
            "=================================================================\n",
            "dense (Dense)                (None, 512)               401920    \n",
            "_________________________________________________________________\n",
            "dense_1 (Dense)              (None, 256)               131328    \n",
            "_________________________________________________________________\n",
            "dense_2 (Dense)              (None, 10)                2570      \n",
            "=================================================================\n",
            "Total params: 535,818\n",
            "Trainable params: 535,818\n",
            "Non-trainable params: 0\n",
            "_________________________________________________________________\n"
          ],
          "name": "stdout"
        }
      ]
    },
    {
      "cell_type": "markdown",
      "metadata": {
        "id": "ZWcs7HMhe7eM"
      },
      "source": [
        "> ## **2) Model Compile**"
      ]
    },
    {
      "cell_type": "markdown",
      "metadata": {
        "id": "cjsWWHXhe_w-"
      },
      "source": [
        "- 모델 학습 방법 설정"
      ]
    },
    {
      "cell_type": "code",
      "metadata": {
        "id": "hiWgFJ4ZfCB4"
      },
      "source": [
        "mnist.compile(loss='categorical_crossentropy',\n",
        "              optimizer='rmsprop',\n",
        "              metrics=['accuracy'])"
      ],
      "execution_count": 16,
      "outputs": []
    },
    {
      "cell_type": "markdown",
      "metadata": {
        "id": "Nw0civH-fU1Q"
      },
      "source": [
        "> ## **3) Model Fit**"
      ]
    },
    {
      "cell_type": "markdown",
      "metadata": {
        "id": "v6Erru_TfXUI"
      },
      "source": [
        "- 약 3분"
      ]
    },
    {
      "cell_type": "code",
      "metadata": {
        "colab": {
          "base_uri": "https://localhost:8080/"
        },
        "id": "o6t3bjIFfZxK",
        "outputId": "0ed32af5-79ea-40d7-c2e7-a27005a483b4"
      },
      "source": [
        "%%time\n",
        "\n",
        "Hist_mnist = mnist.fit(X_train, y_train,\n",
        "                       epochs=100,\n",
        "                       batch_size=128,\n",
        "                       validation_split=0.2)"
      ],
      "execution_count": 17,
      "outputs": [
        {
          "output_type": "stream",
          "text": [
            "Epoch 1/100\n",
            "375/375 [==============================] - 5s 4ms/step - loss: 0.2576 - accuracy: 0.9210 - val_loss: 0.1231 - val_accuracy: 0.9625\n",
            "Epoch 2/100\n",
            "375/375 [==============================] - 1s 3ms/step - loss: 0.0965 - accuracy: 0.9709 - val_loss: 0.1036 - val_accuracy: 0.9693\n",
            "Epoch 3/100\n",
            "375/375 [==============================] - 1s 3ms/step - loss: 0.0604 - accuracy: 0.9812 - val_loss: 0.0911 - val_accuracy: 0.9746\n",
            "Epoch 4/100\n",
            "375/375 [==============================] - 1s 3ms/step - loss: 0.0419 - accuracy: 0.9866 - val_loss: 0.0901 - val_accuracy: 0.9753\n",
            "Epoch 5/100\n",
            "375/375 [==============================] - 1s 3ms/step - loss: 0.0304 - accuracy: 0.9903 - val_loss: 0.0861 - val_accuracy: 0.9788\n",
            "Epoch 6/100\n",
            "375/375 [==============================] - 1s 3ms/step - loss: 0.0232 - accuracy: 0.9922 - val_loss: 0.0903 - val_accuracy: 0.9790\n",
            "Epoch 7/100\n",
            "375/375 [==============================] - 1s 4ms/step - loss: 0.0179 - accuracy: 0.9942 - val_loss: 0.1042 - val_accuracy: 0.9788\n",
            "Epoch 8/100\n",
            "375/375 [==============================] - 1s 4ms/step - loss: 0.0140 - accuracy: 0.9957 - val_loss: 0.1067 - val_accuracy: 0.9782\n",
            "Epoch 9/100\n",
            "375/375 [==============================] - 1s 4ms/step - loss: 0.0115 - accuracy: 0.9962 - val_loss: 0.1185 - val_accuracy: 0.9788\n",
            "Epoch 10/100\n",
            "375/375 [==============================] - 1s 3ms/step - loss: 0.0096 - accuracy: 0.9971 - val_loss: 0.1327 - val_accuracy: 0.9772\n",
            "Epoch 11/100\n",
            "375/375 [==============================] - 1s 4ms/step - loss: 0.0091 - accuracy: 0.9972 - val_loss: 0.1238 - val_accuracy: 0.9799\n",
            "Epoch 12/100\n",
            "375/375 [==============================] - 1s 3ms/step - loss: 0.0075 - accuracy: 0.9977 - val_loss: 0.1365 - val_accuracy: 0.9790\n",
            "Epoch 13/100\n",
            "375/375 [==============================] - 1s 3ms/step - loss: 0.0073 - accuracy: 0.9975 - val_loss: 0.1436 - val_accuracy: 0.9804\n",
            "Epoch 14/100\n",
            "375/375 [==============================] - 1s 3ms/step - loss: 0.0051 - accuracy: 0.9984 - val_loss: 0.1486 - val_accuracy: 0.9799\n",
            "Epoch 15/100\n",
            "375/375 [==============================] - 1s 4ms/step - loss: 0.0052 - accuracy: 0.9983 - val_loss: 0.1570 - val_accuracy: 0.9800\n",
            "Epoch 16/100\n",
            "375/375 [==============================] - 1s 4ms/step - loss: 0.0044 - accuracy: 0.9987 - val_loss: 0.1865 - val_accuracy: 0.9787\n",
            "Epoch 17/100\n",
            "375/375 [==============================] - 1s 3ms/step - loss: 0.0065 - accuracy: 0.9981 - val_loss: 0.1717 - val_accuracy: 0.9804\n",
            "Epoch 18/100\n",
            "375/375 [==============================] - 1s 4ms/step - loss: 0.0045 - accuracy: 0.9988 - val_loss: 0.1813 - val_accuracy: 0.9804\n",
            "Epoch 19/100\n",
            "375/375 [==============================] - 1s 4ms/step - loss: 0.0032 - accuracy: 0.9991 - val_loss: 0.1851 - val_accuracy: 0.9802\n",
            "Epoch 20/100\n",
            "375/375 [==============================] - 1s 4ms/step - loss: 0.0027 - accuracy: 0.9991 - val_loss: 0.1806 - val_accuracy: 0.9803\n",
            "Epoch 21/100\n",
            "375/375 [==============================] - 1s 3ms/step - loss: 0.0038 - accuracy: 0.9990 - val_loss: 0.2191 - val_accuracy: 0.9787\n",
            "Epoch 22/100\n",
            "375/375 [==============================] - 1s 4ms/step - loss: 0.0033 - accuracy: 0.9991 - val_loss: 0.2250 - val_accuracy: 0.9776\n",
            "Epoch 23/100\n",
            "375/375 [==============================] - 1s 3ms/step - loss: 0.0041 - accuracy: 0.9990 - val_loss: 0.2138 - val_accuracy: 0.9806\n",
            "Epoch 24/100\n",
            "375/375 [==============================] - 1s 3ms/step - loss: 0.0033 - accuracy: 0.9991 - val_loss: 0.2124 - val_accuracy: 0.9798\n",
            "Epoch 25/100\n",
            "375/375 [==============================] - 1s 3ms/step - loss: 0.0032 - accuracy: 0.9991 - val_loss: 0.2258 - val_accuracy: 0.9797\n",
            "Epoch 26/100\n",
            "375/375 [==============================] - 1s 3ms/step - loss: 0.0026 - accuracy: 0.9994 - val_loss: 0.2473 - val_accuracy: 0.9800\n",
            "Epoch 27/100\n",
            "375/375 [==============================] - 1s 3ms/step - loss: 0.0023 - accuracy: 0.9994 - val_loss: 0.2576 - val_accuracy: 0.9789\n",
            "Epoch 28/100\n",
            "375/375 [==============================] - 1s 3ms/step - loss: 0.0038 - accuracy: 0.9992 - val_loss: 0.2174 - val_accuracy: 0.9806\n",
            "Epoch 29/100\n",
            "375/375 [==============================] - 1s 3ms/step - loss: 0.0022 - accuracy: 0.9995 - val_loss: 0.2546 - val_accuracy: 0.9794\n",
            "Epoch 30/100\n",
            "375/375 [==============================] - 1s 3ms/step - loss: 0.0017 - accuracy: 0.9995 - val_loss: 0.2421 - val_accuracy: 0.9806\n",
            "Epoch 31/100\n",
            "375/375 [==============================] - 1s 3ms/step - loss: 8.2308e-04 - accuracy: 0.9997 - val_loss: 0.2843 - val_accuracy: 0.9802\n",
            "Epoch 32/100\n",
            "375/375 [==============================] - 1s 3ms/step - loss: 0.0034 - accuracy: 0.9993 - val_loss: 0.2901 - val_accuracy: 0.9774\n",
            "Epoch 33/100\n",
            "375/375 [==============================] - 1s 4ms/step - loss: 0.0036 - accuracy: 0.9992 - val_loss: 0.2730 - val_accuracy: 0.9809\n",
            "Epoch 34/100\n",
            "375/375 [==============================] - 1s 3ms/step - loss: 0.0029 - accuracy: 0.9994 - val_loss: 0.2786 - val_accuracy: 0.9808\n",
            "Epoch 35/100\n",
            "375/375 [==============================] - 1s 3ms/step - loss: 0.0024 - accuracy: 0.9994 - val_loss: 0.2914 - val_accuracy: 0.9801\n",
            "Epoch 36/100\n",
            "375/375 [==============================] - 1s 4ms/step - loss: 0.0022 - accuracy: 0.9995 - val_loss: 0.2998 - val_accuracy: 0.9805\n",
            "Epoch 37/100\n",
            "375/375 [==============================] - 1s 3ms/step - loss: 0.0014 - accuracy: 0.9997 - val_loss: 0.3122 - val_accuracy: 0.9790\n",
            "Epoch 38/100\n",
            "375/375 [==============================] - 1s 3ms/step - loss: 0.0017 - accuracy: 0.9996 - val_loss: 0.3087 - val_accuracy: 0.9801\n",
            "Epoch 39/100\n",
            "375/375 [==============================] - 1s 3ms/step - loss: 0.0024 - accuracy: 0.9994 - val_loss: 0.2797 - val_accuracy: 0.9808\n",
            "Epoch 40/100\n",
            "375/375 [==============================] - 1s 3ms/step - loss: 0.0014 - accuracy: 0.9997 - val_loss: 0.3098 - val_accuracy: 0.9808\n",
            "Epoch 41/100\n",
            "375/375 [==============================] - 1s 3ms/step - loss: 0.0018 - accuracy: 0.9996 - val_loss: 0.3228 - val_accuracy: 0.9783\n",
            "Epoch 42/100\n",
            "375/375 [==============================] - 1s 3ms/step - loss: 0.0025 - accuracy: 0.9994 - val_loss: 0.3004 - val_accuracy: 0.9794\n",
            "Epoch 43/100\n",
            "375/375 [==============================] - 1s 3ms/step - loss: 0.0016 - accuracy: 0.9996 - val_loss: 0.2807 - val_accuracy: 0.9807\n",
            "Epoch 44/100\n",
            "375/375 [==============================] - 1s 3ms/step - loss: 9.9761e-04 - accuracy: 0.9997 - val_loss: 0.3154 - val_accuracy: 0.9776\n",
            "Epoch 45/100\n",
            "375/375 [==============================] - 1s 3ms/step - loss: 0.0014 - accuracy: 0.9996 - val_loss: 0.3031 - val_accuracy: 0.9811\n",
            "Epoch 46/100\n",
            "375/375 [==============================] - 1s 3ms/step - loss: 0.0013 - accuracy: 0.9996 - val_loss: 0.3353 - val_accuracy: 0.9805\n",
            "Epoch 47/100\n",
            "375/375 [==============================] - 1s 3ms/step - loss: 0.0015 - accuracy: 0.9997 - val_loss: 0.3171 - val_accuracy: 0.9808\n",
            "Epoch 48/100\n",
            "375/375 [==============================] - 1s 3ms/step - loss: 0.0018 - accuracy: 0.9997 - val_loss: 0.2776 - val_accuracy: 0.9821\n",
            "Epoch 49/100\n",
            "375/375 [==============================] - 1s 3ms/step - loss: 0.0011 - accuracy: 0.9997 - val_loss: 0.3449 - val_accuracy: 0.9810\n",
            "Epoch 50/100\n",
            "375/375 [==============================] - 1s 3ms/step - loss: 9.9211e-04 - accuracy: 0.9998 - val_loss: 0.3509 - val_accuracy: 0.9797\n",
            "Epoch 51/100\n",
            "375/375 [==============================] - 1s 3ms/step - loss: 0.0014 - accuracy: 0.9997 - val_loss: 0.3289 - val_accuracy: 0.9807\n",
            "Epoch 52/100\n",
            "375/375 [==============================] - 1s 3ms/step - loss: 0.0020 - accuracy: 0.9995 - val_loss: 0.3449 - val_accuracy: 0.9798\n",
            "Epoch 53/100\n",
            "375/375 [==============================] - 1s 3ms/step - loss: 0.0015 - accuracy: 0.9998 - val_loss: 0.4020 - val_accuracy: 0.9752\n",
            "Epoch 54/100\n",
            "375/375 [==============================] - 1s 3ms/step - loss: 0.0015 - accuracy: 0.9996 - val_loss: 0.3435 - val_accuracy: 0.9806\n",
            "Epoch 55/100\n",
            "375/375 [==============================] - 1s 3ms/step - loss: 0.0020 - accuracy: 0.9996 - val_loss: 0.3388 - val_accuracy: 0.9818\n",
            "Epoch 56/100\n",
            "375/375 [==============================] - 1s 3ms/step - loss: 0.0013 - accuracy: 0.9997 - val_loss: 0.3383 - val_accuracy: 0.9815\n",
            "Epoch 57/100\n",
            "375/375 [==============================] - 1s 4ms/step - loss: 0.0011 - accuracy: 0.9998 - val_loss: 0.3792 - val_accuracy: 0.9786\n",
            "Epoch 58/100\n",
            "375/375 [==============================] - 1s 3ms/step - loss: 0.0013 - accuracy: 0.9997 - val_loss: 0.3397 - val_accuracy: 0.9814\n",
            "Epoch 59/100\n",
            "375/375 [==============================] - 1s 4ms/step - loss: 0.0011 - accuracy: 0.9998 - val_loss: 0.3960 - val_accuracy: 0.9806\n",
            "Epoch 60/100\n",
            "375/375 [==============================] - 1s 3ms/step - loss: 0.0021 - accuracy: 0.9997 - val_loss: 0.3713 - val_accuracy: 0.9790\n",
            "Epoch 61/100\n",
            "375/375 [==============================] - 1s 4ms/step - loss: 0.0015 - accuracy: 0.9998 - val_loss: 0.3696 - val_accuracy: 0.9815\n",
            "Epoch 62/100\n",
            "375/375 [==============================] - 1s 3ms/step - loss: 7.1448e-04 - accuracy: 0.9998 - val_loss: 0.3741 - val_accuracy: 0.9798\n",
            "Epoch 63/100\n",
            "375/375 [==============================] - 1s 4ms/step - loss: 0.0018 - accuracy: 0.9996 - val_loss: 0.3782 - val_accuracy: 0.9787\n",
            "Epoch 64/100\n",
            "375/375 [==============================] - 1s 4ms/step - loss: 0.0019 - accuracy: 0.9997 - val_loss: 0.3376 - val_accuracy: 0.9811\n",
            "Epoch 65/100\n",
            "375/375 [==============================] - 1s 4ms/step - loss: 7.0457e-04 - accuracy: 0.9999 - val_loss: 0.3714 - val_accuracy: 0.9812\n",
            "Epoch 66/100\n",
            "375/375 [==============================] - 1s 3ms/step - loss: 0.0016 - accuracy: 0.9995 - val_loss: 0.3515 - val_accuracy: 0.9812\n",
            "Epoch 67/100\n",
            "375/375 [==============================] - 1s 4ms/step - loss: 9.8488e-04 - accuracy: 0.9998 - val_loss: 0.3639 - val_accuracy: 0.9813\n",
            "Epoch 68/100\n",
            "375/375 [==============================] - 1s 3ms/step - loss: 5.6494e-04 - accuracy: 0.9998 - val_loss: 0.3529 - val_accuracy: 0.9825\n",
            "Epoch 69/100\n",
            "375/375 [==============================] - 1s 3ms/step - loss: 6.8921e-04 - accuracy: 0.9999 - val_loss: 0.3629 - val_accuracy: 0.9824\n",
            "Epoch 70/100\n",
            "375/375 [==============================] - 1s 3ms/step - loss: 0.0017 - accuracy: 0.9998 - val_loss: 0.3655 - val_accuracy: 0.9825\n",
            "Epoch 71/100\n",
            "375/375 [==============================] - 1s 3ms/step - loss: 7.6352e-04 - accuracy: 0.9998 - val_loss: 0.3606 - val_accuracy: 0.9797\n",
            "Epoch 72/100\n",
            "375/375 [==============================] - 1s 3ms/step - loss: 7.1903e-04 - accuracy: 0.9998 - val_loss: 0.3657 - val_accuracy: 0.9811\n",
            "Epoch 73/100\n",
            "375/375 [==============================] - 1s 4ms/step - loss: 0.0012 - accuracy: 0.9998 - val_loss: 0.3979 - val_accuracy: 0.9799\n",
            "Epoch 74/100\n",
            "375/375 [==============================] - 1s 3ms/step - loss: 0.0014 - accuracy: 0.9998 - val_loss: 0.3857 - val_accuracy: 0.9803\n",
            "Epoch 75/100\n",
            "375/375 [==============================] - 1s 3ms/step - loss: 0.0011 - accuracy: 0.9998 - val_loss: 0.3999 - val_accuracy: 0.9803\n",
            "Epoch 76/100\n",
            "375/375 [==============================] - 1s 3ms/step - loss: 0.0010 - accuracy: 0.9997 - val_loss: 0.3612 - val_accuracy: 0.9812\n",
            "Epoch 77/100\n",
            "375/375 [==============================] - 1s 3ms/step - loss: 8.3949e-04 - accuracy: 0.9999 - val_loss: 0.3618 - val_accuracy: 0.9826\n",
            "Epoch 78/100\n",
            "375/375 [==============================] - 1s 4ms/step - loss: 1.9284e-04 - accuracy: 1.0000 - val_loss: 0.3692 - val_accuracy: 0.9820\n",
            "Epoch 79/100\n",
            "375/375 [==============================] - 1s 3ms/step - loss: 3.3072e-04 - accuracy: 0.9999 - val_loss: 0.3878 - val_accuracy: 0.9818\n",
            "Epoch 80/100\n",
            "375/375 [==============================] - 1s 4ms/step - loss: 7.9513e-04 - accuracy: 0.9999 - val_loss: 0.3994 - val_accuracy: 0.9817\n",
            "Epoch 81/100\n",
            "375/375 [==============================] - 1s 4ms/step - loss: 5.8707e-04 - accuracy: 0.9999 - val_loss: 0.4299 - val_accuracy: 0.9803\n",
            "Epoch 82/100\n",
            "375/375 [==============================] - 1s 3ms/step - loss: 7.4283e-04 - accuracy: 0.9999 - val_loss: 0.3958 - val_accuracy: 0.9808\n",
            "Epoch 83/100\n",
            "375/375 [==============================] - 1s 4ms/step - loss: 5.9096e-04 - accuracy: 0.9999 - val_loss: 0.4158 - val_accuracy: 0.9808\n",
            "Epoch 84/100\n",
            "375/375 [==============================] - 1s 3ms/step - loss: 2.9596e-04 - accuracy: 0.9999 - val_loss: 0.4502 - val_accuracy: 0.9789\n",
            "Epoch 85/100\n",
            "375/375 [==============================] - 1s 4ms/step - loss: 2.7591e-04 - accuracy: 1.0000 - val_loss: 0.4232 - val_accuracy: 0.9808\n",
            "Epoch 86/100\n",
            "375/375 [==============================] - 1s 4ms/step - loss: 7.2790e-04 - accuracy: 0.9999 - val_loss: 0.3898 - val_accuracy: 0.9805\n",
            "Epoch 87/100\n",
            "375/375 [==============================] - 1s 3ms/step - loss: 4.3642e-05 - accuracy: 1.0000 - val_loss: 0.4159 - val_accuracy: 0.9804\n",
            "Epoch 88/100\n",
            "375/375 [==============================] - 1s 3ms/step - loss: 7.2149e-04 - accuracy: 0.9999 - val_loss: 0.4055 - val_accuracy: 0.9804\n",
            "Epoch 89/100\n",
            "375/375 [==============================] - 1s 3ms/step - loss: 4.3398e-04 - accuracy: 0.9999 - val_loss: 0.4111 - val_accuracy: 0.9814\n",
            "Epoch 90/100\n",
            "375/375 [==============================] - 1s 3ms/step - loss: 1.2902e-05 - accuracy: 1.0000 - val_loss: 0.4215 - val_accuracy: 0.9804\n",
            "Epoch 91/100\n",
            "375/375 [==============================] - 1s 4ms/step - loss: 9.2598e-05 - accuracy: 0.9999 - val_loss: 0.4124 - val_accuracy: 0.9810\n",
            "Epoch 92/100\n",
            "375/375 [==============================] - 1s 3ms/step - loss: 2.2969e-04 - accuracy: 0.9999 - val_loss: 0.3940 - val_accuracy: 0.9810\n",
            "Epoch 93/100\n",
            "375/375 [==============================] - 1s 3ms/step - loss: 1.4782e-04 - accuracy: 1.0000 - val_loss: 0.3927 - val_accuracy: 0.9813\n",
            "Epoch 94/100\n",
            "375/375 [==============================] - 1s 3ms/step - loss: 7.5713e-05 - accuracy: 1.0000 - val_loss: 0.3854 - val_accuracy: 0.9814\n",
            "Epoch 95/100\n",
            "375/375 [==============================] - 1s 3ms/step - loss: 5.9909e-05 - accuracy: 1.0000 - val_loss: 0.4109 - val_accuracy: 0.9813\n",
            "Epoch 96/100\n",
            "375/375 [==============================] - 1s 3ms/step - loss: 4.3007e-04 - accuracy: 0.9999 - val_loss: 0.3866 - val_accuracy: 0.9815\n",
            "Epoch 97/100\n",
            "375/375 [==============================] - 1s 3ms/step - loss: 2.7013e-04 - accuracy: 0.9999 - val_loss: 0.3852 - val_accuracy: 0.9823\n",
            "Epoch 98/100\n",
            "375/375 [==============================] - 1s 3ms/step - loss: 3.2988e-04 - accuracy: 0.9999 - val_loss: 0.4155 - val_accuracy: 0.9808\n",
            "Epoch 99/100\n",
            "375/375 [==============================] - 1s 4ms/step - loss: 3.8226e-04 - accuracy: 0.9999 - val_loss: 0.3881 - val_accuracy: 0.9822\n",
            "Epoch 100/100\n",
            "375/375 [==============================] - 1s 3ms/step - loss: 1.2654e-05 - accuracy: 1.0000 - val_loss: 0.4085 - val_accuracy: 0.9822\n",
            "CPU times: user 2min 16s, sys: 18.1 s, total: 2min 34s\n",
            "Wall time: 2min 11s\n"
          ],
          "name": "stdout"
        }
      ]
    },
    {
      "cell_type": "markdown",
      "metadata": {
        "id": "etl8f10yfk7F"
      },
      "source": [
        "> ## **4) 학습 결과 시각화**"
      ]
    },
    {
      "cell_type": "markdown",
      "metadata": {
        "id": "aInazJcHfp0a"
      },
      "source": [
        "- Loss Visualization"
      ]
    },
    {
      "cell_type": "code",
      "metadata": {
        "colab": {
          "base_uri": "https://localhost:8080/",
          "height": 404
        },
        "id": "JIFMRnT_fso3",
        "outputId": "55485552-1770-40f9-942b-94a2d07c66fd"
      },
      "source": [
        "import matplotlib.pyplot as plt\n",
        "\n",
        "epochs = range(1, len(Hist_mnist.history['loss']) + 1)\n",
        "\n",
        "plt.figure(figsize=(9, 6))\n",
        "plt.plot(epochs, Hist_mnist.history['loss'])\n",
        "plt.plot(epochs, Hist_mnist.history['val_loss'])\n",
        "# plt.ylim(0, 0.25)\n",
        "plt.title('Training & Validation Loss')\n",
        "plt.xlabel('Epochs')\n",
        "plt.ylabel('Loss')\n",
        "plt.legend(['Training Loss', 'Validation Loss'])\n",
        "plt.grid()\n",
        "plt.show()"
      ],
      "execution_count": 18,
      "outputs": [
        {
          "output_type": "display_data",
          "data": {
            "image/png": "[encoded data removed]",
            "text/plain": [
              "<Figure size 648x432 with 1 Axes>"
            ]
          },
          "metadata": {
            "tags": [],
            "needs_background": "light"
          }
        }
      ]
    },
    {
      "cell_type": "markdown",
      "metadata": {
        "id": "5Dtx8T5Suh_M"
      },
      "source": [
        "**Training과 Validation의 Loss 간격이 넓으면 Overfitting**"
      ]
    },
    {
      "cell_type": "markdown",
      "metadata": {
        "id": "IdFam5j1gQI0"
      },
      "source": [
        "> ## **5) Model Evaluate**"
      ]
    },
    {
      "cell_type": "markdown",
      "metadata": {
        "id": "x0hqiog_gZfk"
      },
      "source": [
        "- Loss & Accuracy"
      ]
    },
    {
      "cell_type": "code",
      "metadata": {
        "colab": {
          "base_uri": "https://localhost:8080/"
        },
        "id": "yjC2xsEMgbRc",
        "outputId": "629ea241-f8b7-4426-9ece-41843521ae38"
      },
      "source": [
        "loss, accuracy = mnist.evaluate(X_test, y_test)\n",
        "\n",
        "print('Loss = {:.5f}'.format(loss))\n",
        "print('Accuracy = {:.5f}'.format(accuracy))"
      ],
      "execution_count": 19,
      "outputs": [
        {
          "output_type": "stream",
          "text": [
            "313/313 [==============================] - 1s 2ms/step - loss: 0.3165 - accuracy: 0.9848\n",
            "Loss = 0.31649\n",
            "Accuracy = 0.98480\n"
          ],
          "name": "stdout"
        }
      ]
    },
    {
      "cell_type": "markdown",
      "metadata": {
        "id": "oQtgTWclgnjs"
      },
      "source": [
        "> ## **6) Model Predict**"
      ]
    },
    {
      "cell_type": "markdown",
      "metadata": {
        "id": "7IMLtby3gvcp"
      },
      "source": [
        "- Probability"
      ]
    },
    {
      "cell_type": "code",
      "metadata": {
        "colab": {
          "base_uri": "https://localhost:8080/"
        },
        "id": "TirXNoVOgyWQ",
        "outputId": "a9ed9cba-863a-4e8f-f19c-244f6b0dc629"
      },
      "source": [
        "np.set_printoptions(suppress=True, precision=9)\n",
        "\n",
        "print(mnist.predict(X_test[:1, :]))"
      ],
      "execution_count": 20,
      "outputs": [
        {
          "output_type": "stream",
          "text": [
            "[[0. 0. 0. 0. 0. 0. 0. 1. 0. 0.]]\n"
          ],
          "name": "stdout"
        }
      ]
    },
    {
      "cell_type": "markdown",
      "metadata": {
        "id": "h4tSlbMZg75o"
      },
      "source": [
        "- Class"
      ]
    },
    {
      "cell_type": "code",
      "metadata": {
        "colab": {
          "base_uri": "https://localhost:8080/"
        },
        "id": "TYVdAykug_Ku",
        "outputId": "5b41b00c-5e93-4e20-921d-78c77436ff3d"
      },
      "source": [
        "print(mnist.predict_classes(X_test[:1, :]))"
      ],
      "execution_count": 21,
      "outputs": [
        {
          "output_type": "stream",
          "text": [
            "[7]\n"
          ],
          "name": "stdout"
        }
      ]
    },
    {
      "cell_type": "code",
      "metadata": {
        "id": "IxBEAaCIhEmU"
      },
      "source": [
        ""
      ],
      "execution_count": 21,
      "outputs": []
    }
  ]
}