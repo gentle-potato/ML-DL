{
  "nbformat": 4,
  "nbformat_minor": 0,
  "metadata": {
    "colab": {
      "name": "205_DNN_MNIST_Batch_Normalization_GPU.ipynb",
      "provenance": [],
      "collapsed_sections": [],
      "toc_visible": true
    },
    "kernelspec": {
      "name": "python3",
      "display_name": "Python 3"
    },
    "language_info": {
      "name": "python"
    },
    "accelerator": "GPU"
  },
  "cells": [
    {
      "cell_type": "markdown",
      "metadata": {
        "id": "8pBzCPUMbckp"
      },
      "source": [
        "# **MNIST - Categorical Classification**"
      ]
    },
    {
      "cell_type": "markdown",
      "metadata": {
        "id": "o0O12n1GbomH"
      },
      "source": [
        "> # **Overfitting Issue**"
      ]
    },
    {
      "cell_type": "markdown",
      "metadata": {
        "id": "rpDMM2Dqbs-i"
      },
      "source": [
        "## **Import TensorFlow**"
      ]
    },
    {
      "cell_type": "code",
      "metadata": {
        "id": "oQFZUUu_bwiq"
      },
      "source": [
        "import warnings\n",
        "warnings.filterwarnings('ignore')"
      ],
      "execution_count": 1,
      "outputs": []
    },
    {
      "cell_type": "markdown",
      "metadata": {
        "id": "ysPZ3nivb0e3"
      },
      "source": [
        "- import TensorFlow"
      ]
    },
    {
      "cell_type": "code",
      "metadata": {
        "colab": {
          "base_uri": "https://localhost:8080/",
          "height": 35
        },
        "id": "3pAGeZ7Yb33D",
        "outputId": "26bb9171-3a13-4753-90a2-593b24e99923"
      },
      "source": [
        "import tensorflow as tf\n",
        "\n",
        "tf.__version__"
      ],
      "execution_count": 2,
      "outputs": [
        {
          "output_type": "execute_result",
          "data": {
            "application/vnd.google.colaboratory.intrinsic+json": {
              "type": "string"
            },
            "text/plain": [
              "'2.5.0'"
            ]
          },
          "metadata": {
            "tags": []
          },
          "execution_count": 2
        }
      ]
    },
    {
      "cell_type": "markdown",
      "metadata": {
        "id": "qhQjG6qVb7W1"
      },
      "source": [
        "- GPU 설정 확인"
      ]
    },
    {
      "cell_type": "code",
      "metadata": {
        "colab": {
          "base_uri": "https://localhost:8080/",
          "height": 35
        },
        "id": "cAumGQ_Y-Zyz",
        "outputId": "d5882b70-f050-4476-f091-3fc52116a8e5"
      },
      "source": [
        "tf.test.gpu_device_name()"
      ],
      "execution_count": 3,
      "outputs": [
        {
          "output_type": "execute_result",
          "data": {
            "application/vnd.google.colaboratory.intrinsic+json": {
              "type": "string"
            },
            "text/plain": [
              "'/device:GPU:0'"
            ]
          },
          "metadata": {
            "tags": []
          },
          "execution_count": 3
        }
      ]
    },
    {
      "cell_type": "markdown",
      "metadata": {
        "id": "f5ed3-8fcCAc"
      },
      "source": [
        "# **I. MNIST Data_Set Load & Review**"
      ]
    },
    {
      "cell_type": "markdown",
      "metadata": {
        "id": "-XfzPWghcJC6"
      },
      "source": [
        "> ## **1) Load MNIST Data_Set**"
      ]
    },
    {
      "cell_type": "code",
      "metadata": {
        "id": "81O8TTUxcMmV"
      },
      "source": [
        "from tensorflow.keras.datasets import mnist\n",
        "\n",
        "(X_train, y_train,), (X_test, y_test) = mnist.load_data()"
      ],
      "execution_count": 4,
      "outputs": []
    },
    {
      "cell_type": "markdown",
      "metadata": {
        "id": "gn1QnCEKcUvY"
      },
      "source": [
        "- Train_Data Information"
      ]
    },
    {
      "cell_type": "code",
      "metadata": {
        "colab": {
          "base_uri": "https://localhost:8080/"
        },
        "id": "qhex6WqscaUW",
        "outputId": "6f908ee5-711d-42fc-ed84-afdce54fc7dd"
      },
      "source": [
        "print(len(X_train))\n",
        "print(X_train.shape)\n",
        "\n",
        "print('')\n",
        "\n",
        "print(len(y_train))\n",
        "print(y_train[0:5])"
      ],
      "execution_count": 5,
      "outputs": [
        {
          "output_type": "stream",
          "text": [
            "60000\n",
            "(60000, 28, 28)\n",
            "\n",
            "60000\n",
            "[5 0 4 1 9]\n"
          ],
          "name": "stdout"
        }
      ]
    },
    {
      "cell_type": "markdown",
      "metadata": {
        "id": "AYXY5UXEcg5i"
      },
      "source": [
        "- Test_Data Information"
      ]
    },
    {
      "cell_type": "code",
      "metadata": {
        "colab": {
          "base_uri": "https://localhost:8080/"
        },
        "id": "qhXtRF4Ecqhs",
        "outputId": "49981ba2-ae7c-41b5-e06b-8c91681cdf41"
      },
      "source": [
        "print(len(X_test))\n",
        "print(X_test.shape)\n",
        "\n",
        "print('')\n",
        "\n",
        "print(len(y_test))\n",
        "print(y_test[0:5])"
      ],
      "execution_count": 6,
      "outputs": [
        {
          "output_type": "stream",
          "text": [
            "10000\n",
            "(10000, 28, 28)\n",
            "\n",
            "10000\n",
            "[7 2 1 0 4]\n"
          ],
          "name": "stdout"
        }
      ]
    },
    {
      "cell_type": "markdown",
      "metadata": {
        "id": "HL_4RYpHcvEb"
      },
      "source": [
        "> ## **2) Visualization**"
      ]
    },
    {
      "cell_type": "code",
      "metadata": {
        "colab": {
          "base_uri": "https://localhost:8080/",
          "height": 265
        },
        "id": "bdhrsu2AcyC-",
        "outputId": "6e39b6be-68e3-44d7-d7a7-7a18f804c2fe"
      },
      "source": [
        "import matplotlib.pyplot as plt\n",
        "\n",
        "digit = X_train[4]\n",
        "plt.imshow(digit, cmap='gray')\n",
        "plt.show()"
      ],
      "execution_count": 7,
      "outputs": [
        {
          "output_type": "display_data",
          "data": {
            "image/png": "[encoded data removed]",
            "text/plain": [
              "<Figure size 432x288 with 1 Axes>"
            ]
          },
          "metadata": {
            "tags": [],
            "needs_background": "light"
          }
        }
      ]
    },
    {
      "cell_type": "code",
      "metadata": {
        "colab": {
          "base_uri": "https://localhost:8080/"
        },
        "id": "gideUITbc9Wa",
        "outputId": "234bf46e-9ba8-495c-8ee2-2047b2af11f9"
      },
      "source": [
        "import numpy as np\n",
        "np.set_printoptions(linewidth=150)\n",
        "\n",
        "print(X_train[4])"
      ],
      "execution_count": 8,
      "outputs": [
        {
          "output_type": "stream",
          "text": [
            "[[  0   0   0   0   0   0   0   0   0   0   0   0   0   0   0   0   0   0   0   0   0   0   0   0   0   0   0   0]\n",
            " [  0   0   0   0   0   0   0   0   0   0   0   0   0   0   0   0   0   0   0   0   0   0   0   0   0   0   0   0]\n",
            " [  0   0   0   0   0   0   0   0   0   0   0   0   0   0   0   0   0   0   0   0   0   0   0   0   0   0   0   0]\n",
            " [  0   0   0   0   0   0   0   0   0   0   0   0   0   0   0   0   0   0   0   0   0   0   0   0   0   0   0   0]\n",
            " [  0   0   0   0   0   0   0   0   0   0   0   0   0   0   0   0   0   0   0   0   0   0   0   0   0   0   0   0]\n",
            " [  0   0   0   0   0   0   0   0   0   0   0   0   0   0   0   0   0   0   0   0   0   0   0   0   0   0   0   0]\n",
            " [  0   0   0   0   0   0   0   0   0   0   0   0   0   0   0   0   0   0   0   0   0   0   0   0   0   0   0   0]\n",
            " [  0   0   0   0   0   0   0   0   0   0   0   0  55 148 210 253 253 113  87 148  55   0   0   0   0   0   0   0]\n",
            " [  0   0   0   0   0   0   0   0   0   0   0  87 232 252 253 189 210 252 252 253 168   0   0   0   0   0   0   0]\n",
            " [  0   0   0   0   0   0   0   0   0   4  57 242 252 190  65   5  12 182 252 253 116   0   0   0   0   0   0   0]\n",
            " [  0   0   0   0   0   0   0   0   0  96 252 252 183  14   0   0  92 252 252 225  21   0   0   0   0   0   0   0]\n",
            " [  0   0   0   0   0   0   0   0 132 253 252 146  14   0   0   0 215 252 252  79   0   0   0   0   0   0   0   0]\n",
            " [  0   0   0   0   0   0   0 126 253 247 176   9   0   0   8  78 245 253 129   0   0   0   0   0   0   0   0   0]\n",
            " [  0   0   0   0   0   0  16 232 252 176   0   0   0  36 201 252 252 169  11   0   0   0   0   0   0   0   0   0]\n",
            " [  0   0   0   0   0   0  22 252 252  30  22 119 197 241 253 252 251  77   0   0   0   0   0   0   0   0   0   0]\n",
            " [  0   0   0   0   0   0  16 231 252 253 252 252 252 226 227 252 231   0   0   0   0   0   0   0   0   0   0   0]\n",
            " [  0   0   0   0   0   0   0  55 235 253 217 138  42  24 192 252 143   0   0   0   0   0   0   0   0   0   0   0]\n",
            " [  0   0   0   0   0   0   0   0   0   0   0   0   0  62 255 253 109   0   0   0   0   0   0   0   0   0   0   0]\n",
            " [  0   0   0   0   0   0   0   0   0   0   0   0   0  71 253 252  21   0   0   0   0   0   0   0   0   0   0   0]\n",
            " [  0   0   0   0   0   0   0   0   0   0   0   0   0   0 253 252  21   0   0   0   0   0   0   0   0   0   0   0]\n",
            " [  0   0   0   0   0   0   0   0   0   0   0   0   0  71 253 252  21   0   0   0   0   0   0   0   0   0   0   0]\n",
            " [  0   0   0   0   0   0   0   0   0   0   0   0   0 106 253 252  21   0   0   0   0   0   0   0   0   0   0   0]\n",
            " [  0   0   0   0   0   0   0   0   0   0   0   0   0  45 255 253  21   0   0   0   0   0   0   0   0   0   0   0]\n",
            " [  0   0   0   0   0   0   0   0   0   0   0   0   0   0 218 252  56   0   0   0   0   0   0   0   0   0   0   0]\n",
            " [  0   0   0   0   0   0   0   0   0   0   0   0   0   0  96 252 189  42   0   0   0   0   0   0   0   0   0   0]\n",
            " [  0   0   0   0   0   0   0   0   0   0   0   0   0   0  14 184 252 170  11   0   0   0   0   0   0   0   0   0]\n",
            " [  0   0   0   0   0   0   0   0   0   0   0   0   0   0   0  14 147 252  42   0   0   0   0   0   0   0   0   0]\n",
            " [  0   0   0   0   0   0   0   0   0   0   0   0   0   0   0   0   0   0   0   0   0   0   0   0   0   0   0   0]]\n"
          ],
          "name": "stdout"
        }
      ]
    },
    {
      "cell_type": "markdown",
      "metadata": {
        "id": "IflEERIKdDpV"
      },
      "source": [
        "# **II. Data Preprocessing**"
      ]
    },
    {
      "cell_type": "markdown",
      "metadata": {
        "id": "e1slyLXTBK77"
      },
      "source": [
        "> ## **1) Reshape and Normalization**"
      ]
    },
    {
      "cell_type": "markdown",
      "metadata": {
        "id": "_K7harGNdHA4"
      },
      "source": [
        "- reshape\n",
        "  - (60000, 28, 28) to (60000, 784)"
      ]
    },
    {
      "cell_type": "code",
      "metadata": {
        "colab": {
          "base_uri": "https://localhost:8080/"
        },
        "id": "R2_CQ61EdL87",
        "outputId": "075ba49b-540f-46f2-a182-59fe67757feb"
      },
      "source": [
        "X_train = X_train.reshape((60000, 28 * 28))\n",
        "X_test = X_test.reshape((10000, 28 * 28))\n",
        "\n",
        "X_train.shape, X_test.shape"
      ],
      "execution_count": 9,
      "outputs": [
        {
          "output_type": "execute_result",
          "data": {
            "text/plain": [
              "((60000, 784), (10000, 784))"
            ]
          },
          "metadata": {
            "tags": []
          },
          "execution_count": 9
        }
      ]
    },
    {
      "cell_type": "markdown",
      "metadata": {
        "id": "gxrl06ovdWrS"
      },
      "source": [
        "- Normalization"
      ]
    },
    {
      "cell_type": "code",
      "metadata": {
        "id": "Q8n2YprNdZKa"
      },
      "source": [
        "X_train = X_train.astype(float) / 255\n",
        "X_test = X_test.astype(float) / 255"
      ],
      "execution_count": 10,
      "outputs": []
    },
    {
      "cell_type": "code",
      "metadata": {
        "colab": {
          "base_uri": "https://localhost:8080/"
        },
        "id": "EHNHiK_KdiPE",
        "outputId": "c0641b40-b83c-4a0c-c24c-0a969376bd80"
      },
      "source": [
        "print(X_train[4])"
      ],
      "execution_count": 11,
      "outputs": [
        {
          "output_type": "stream",
          "text": [
            "[0.         0.         0.         0.         0.         0.         0.         0.         0.         0.         0.         0.         0.\n",
            " 0.         0.         0.         0.         0.         0.         0.         0.         0.         0.         0.         0.         0.\n",
            " 0.         0.         0.         0.         0.         0.         0.         0.         0.         0.         0.         0.         0.\n",
            " 0.         0.         0.         0.         0.         0.         0.         0.         0.         0.         0.         0.         0.\n",
            " 0.         0.         0.         0.         0.         0.         0.         0.         0.         0.         0.         0.         0.\n",
            " 0.         0.         0.         0.         0.         0.         0.         0.         0.         0.         0.         0.         0.\n",
            " 0.         0.         0.         0.         0.         0.         0.         0.         0.         0.         0.         0.         0.\n",
            " 0.         0.         0.         0.         0.         0.         0.         0.         0.         0.         0.         0.         0.\n",
            " 0.         0.         0.         0.         0.         0.         0.         0.         0.         0.         0.         0.         0.\n",
            " 0.         0.         0.         0.         0.         0.         0.         0.         0.         0.         0.         0.         0.\n",
            " 0.         0.         0.         0.         0.         0.         0.         0.         0.         0.         0.         0.         0.\n",
            " 0.         0.         0.         0.         0.         0.         0.         0.         0.         0.         0.         0.         0.\n",
            " 0.         0.         0.         0.         0.         0.         0.         0.         0.         0.         0.         0.         0.\n",
            " 0.         0.         0.         0.         0.         0.         0.         0.         0.         0.         0.         0.         0.\n",
            " 0.         0.         0.         0.         0.         0.         0.         0.         0.         0.         0.         0.         0.\n",
            " 0.         0.         0.         0.         0.         0.         0.         0.         0.         0.         0.         0.         0.\n",
            " 0.21568627 0.58039216 0.82352941 0.99215686 0.99215686 0.44313725 0.34117647 0.58039216 0.21568627 0.         0.         0.         0.\n",
            " 0.         0.         0.         0.         0.         0.         0.         0.         0.         0.         0.         0.         0.\n",
            " 0.         0.34117647 0.90980392 0.98823529 0.99215686 0.74117647 0.82352941 0.98823529 0.98823529 0.99215686 0.65882353 0.         0.\n",
            " 0.         0.         0.         0.         0.         0.         0.         0.         0.         0.         0.         0.         0.\n",
            " 0.         0.01568627 0.22352941 0.94901961 0.98823529 0.74509804 0.25490196 0.01960784 0.04705882 0.71372549 0.98823529 0.99215686 0.45490196\n",
            " 0.         0.         0.         0.         0.         0.         0.         0.         0.         0.         0.         0.         0.\n",
            " 0.         0.         0.         0.37647059 0.98823529 0.98823529 0.71764706 0.05490196 0.         0.         0.36078431 0.98823529 0.98823529\n",
            " 0.88235294 0.08235294 0.         0.         0.         0.         0.         0.         0.         0.         0.         0.         0.\n",
            " 0.         0.         0.         0.         0.51764706 0.99215686 0.98823529 0.57254902 0.05490196 0.         0.         0.         0.84313725\n",
            " 0.98823529 0.98823529 0.30980392 0.         0.         0.         0.         0.         0.         0.         0.         0.         0.\n",
            " 0.         0.         0.         0.         0.         0.49411765 0.99215686 0.96862745 0.69019608 0.03529412 0.         0.         0.03137255\n",
            " 0.30588235 0.96078431 0.99215686 0.50588235 0.         0.         0.         0.         0.         0.         0.         0.         0.\n",
            " 0.         0.         0.         0.         0.         0.         0.0627451  0.90980392 0.98823529 0.69019608 0.         0.         0.\n",
            " 0.14117647 0.78823529 0.98823529 0.98823529 0.6627451  0.04313725 0.         0.         0.         0.         0.         0.         0.\n",
            " 0.         0.         0.         0.         0.         0.         0.         0.         0.08627451 0.98823529 0.98823529 0.11764706 0.08627451\n",
            " 0.46666667 0.77254902 0.94509804 0.99215686 0.98823529 0.98431373 0.30196078 0.         0.         0.         0.         0.         0.\n",
            " 0.         0.         0.         0.         0.         0.         0.         0.         0.         0.         0.0627451  0.90588235 0.98823529\n",
            " 0.99215686 0.98823529 0.98823529 0.98823529 0.88627451 0.89019608 0.98823529 0.90588235 0.         0.         0.         0.         0.\n",
            " 0.         0.         0.         0.         0.         0.         0.         0.         0.         0.         0.         0.         0.\n",
            " 0.21568627 0.92156863 0.99215686 0.85098039 0.54117647 0.16470588 0.09411765 0.75294118 0.98823529 0.56078431 0.         0.         0.\n",
            " 0.         0.         0.         0.         0.         0.         0.         0.         0.         0.         0.         0.         0.\n",
            " 0.         0.         0.         0.         0.         0.         0.         0.         0.24313725 1.         0.99215686 0.42745098 0.\n",
            " 0.         0.         0.         0.         0.         0.         0.         0.         0.         0.         0.         0.         0.\n",
            " 0.         0.         0.         0.         0.         0.         0.         0.         0.         0.         0.27843137 0.99215686 0.98823529\n",
            " 0.08235294 0.         0.         0.         0.         0.         0.         0.         0.         0.         0.         0.         0.\n",
            " 0.         0.         0.         0.         0.         0.         0.         0.         0.         0.         0.         0.         0.\n",
            " 0.99215686 0.98823529 0.08235294 0.         0.         0.         0.         0.         0.         0.         0.         0.         0.\n",
            " 0.         0.         0.         0.         0.         0.         0.         0.         0.         0.         0.         0.         0.\n",
            " 0.         0.27843137 0.99215686 0.98823529 0.08235294 0.         0.         0.         0.         0.         0.         0.         0.\n",
            " 0.         0.         0.         0.         0.         0.         0.         0.         0.         0.         0.         0.         0.\n",
            " 0.         0.         0.         0.41568627 0.99215686 0.98823529 0.08235294 0.         0.         0.         0.         0.         0.\n",
            " 0.         0.         0.         0.         0.         0.         0.         0.         0.         0.         0.         0.         0.\n",
            " 0.         0.         0.         0.         0.         0.17647059 1.         0.99215686 0.08235294 0.         0.         0.         0.\n",
            " 0.         0.         0.         0.         0.         0.         0.         0.         0.         0.         0.         0.         0.\n",
            " 0.         0.         0.         0.         0.         0.         0.         0.         0.85490196 0.98823529 0.21960784 0.         0.\n",
            " 0.         0.         0.         0.         0.         0.         0.         0.         0.         0.         0.         0.         0.\n",
            " 0.         0.         0.         0.         0.         0.         0.         0.         0.         0.         0.37647059 0.98823529 0.74117647\n",
            " 0.16470588 0.         0.         0.         0.         0.         0.         0.         0.         0.         0.         0.         0.\n",
            " 0.         0.         0.         0.         0.         0.         0.         0.         0.         0.         0.         0.         0.05490196\n",
            " 0.72156863 0.98823529 0.66666667 0.04313725 0.         0.         0.         0.         0.         0.         0.         0.         0.\n",
            " 0.         0.         0.         0.         0.         0.         0.         0.         0.         0.         0.         0.         0.\n",
            " 0.         0.         0.05490196 0.57647059 0.98823529 0.16470588 0.         0.         0.         0.         0.         0.         0.\n",
            " 0.         0.         0.         0.         0.         0.         0.         0.         0.         0.         0.         0.         0.\n",
            " 0.         0.         0.         0.         0.         0.         0.         0.         0.         0.         0.         0.         0.\n",
            " 0.         0.         0.         0.        ]\n"
          ],
          "name": "stdout"
        }
      ]
    },
    {
      "cell_type": "markdown",
      "metadata": {
        "id": "5ltIJPfmdjnb"
      },
      "source": [
        "> ## **2) One-Hot Encoding**"
      ]
    },
    {
      "cell_type": "code",
      "metadata": {
        "id": "kkUn3PL6doOX"
      },
      "source": [
        "from tensorflow.keras.utils import to_categorical\n",
        "\n",
        "y_train = to_categorical(y_train)\n",
        "y_test = to_categorical(y_test)"
      ],
      "execution_count": 12,
      "outputs": []
    },
    {
      "cell_type": "code",
      "metadata": {
        "colab": {
          "base_uri": "https://localhost:8080/"
        },
        "id": "UoFf9p-ad39k",
        "outputId": "1a68ae66-ea3e-4b81-8774-9a72059d339d"
      },
      "source": [
        "print(y_train[:5])"
      ],
      "execution_count": 13,
      "outputs": [
        {
          "output_type": "stream",
          "text": [
            "[[0. 0. 0. 0. 0. 1. 0. 0. 0. 0.]\n",
            " [1. 0. 0. 0. 0. 0. 0. 0. 0. 0.]\n",
            " [0. 0. 0. 0. 1. 0. 0. 0. 0. 0.]\n",
            " [0. 1. 0. 0. 0. 0. 0. 0. 0. 0.]\n",
            " [0. 0. 0. 0. 0. 0. 0. 0. 0. 1.]]\n"
          ],
          "name": "stdout"
        }
      ]
    },
    {
      "cell_type": "markdown",
      "metadata": {
        "id": "wd7TdAkPd5AH"
      },
      "source": [
        "# **III. MNIST Keras Modeling**"
      ]
    },
    {
      "cell_type": "markdown",
      "metadata": {
        "id": "BcfYU6iHd_Ba"
      },
      "source": [
        "> ## **1) Model Define**"
      ]
    },
    {
      "cell_type": "markdown",
      "metadata": {
        "id": "fGvf-D4SeBl0"
      },
      "source": [
        "- 모델 신경망 구조 정의\n",
        "  - 2개의 Hidden Layers & 768개의 Nodes\n",
        "  - 복잡한 Model Capacity로 인한 Overfitting"
      ]
    },
    {
      "cell_type": "code",
      "metadata": {
        "id": "e6gG9_jJeLad"
      },
      "source": [
        "from tensorflow.keras import models\n",
        "from tensorflow.keras import layers\n",
        "\n",
        "mnist = models.Sequential()\n",
        "mnist.add(layers.Dense(512, input_shape=(28 * 28, )))\n",
        "mnist.add(layers.BatchNormalization())\n",
        "mnist.add(layers.Activation('relu'))\n",
        "mnist.add(layers.Dense(256))\n",
        "mnist.add(layers.BatchNormalization())\n",
        "mnist.add(layers.Activation('relu'))\n",
        "mnist.add(layers.Dense(10, activation='softmax'))"
      ],
      "execution_count": 14,
      "outputs": []
    },
    {
      "cell_type": "markdown",
      "metadata": {
        "id": "mB5oKgr4ez5w"
      },
      "source": [
        "- 모델 구조 확인"
      ]
    },
    {
      "cell_type": "code",
      "metadata": {
        "colab": {
          "base_uri": "https://localhost:8080/"
        },
        "id": "XtDB5t71e4cz",
        "outputId": "ed96fef7-33d5-40b2-863d-00d2600b85e6"
      },
      "source": [
        "mnist.summary()"
      ],
      "execution_count": 15,
      "outputs": [
        {
          "output_type": "stream",
          "text": [
            "Model: \"sequential\"\n",
            "_________________________________________________________________\n",
            "Layer (type)                 Output Shape              Param #   \n",
            "=================================================================\n",
            "dense (Dense)                (None, 512)               401920    \n",
            "_________________________________________________________________\n",
            "batch_normalization (BatchNo (None, 512)               2048      \n",
            "_________________________________________________________________\n",
            "activation (Activation)      (None, 512)               0         \n",
            "_________________________________________________________________\n",
            "dense_1 (Dense)              (None, 256)               131328    \n",
            "_________________________________________________________________\n",
            "batch_normalization_1 (Batch (None, 256)               1024      \n",
            "_________________________________________________________________\n",
            "activation_1 (Activation)    (None, 256)               0         \n",
            "_________________________________________________________________\n",
            "dense_2 (Dense)              (None, 10)                2570      \n",
            "=================================================================\n",
            "Total params: 538,890\n",
            "Trainable params: 537,354\n",
            "Non-trainable params: 1,536\n",
            "_________________________________________________________________\n"
          ],
          "name": "stdout"
        }
      ]
    },
    {
      "cell_type": "markdown",
      "metadata": {
        "id": "ZWcs7HMhe7eM"
      },
      "source": [
        "> ## **2) Model Compile**"
      ]
    },
    {
      "cell_type": "markdown",
      "metadata": {
        "id": "cjsWWHXhe_w-"
      },
      "source": [
        "- 모델 학습 방법 설정"
      ]
    },
    {
      "cell_type": "code",
      "metadata": {
        "id": "hiWgFJ4ZfCB4"
      },
      "source": [
        "mnist.compile(loss='categorical_crossentropy',\n",
        "              optimizer='rmsprop',\n",
        "              metrics=['accuracy'])"
      ],
      "execution_count": 16,
      "outputs": []
    },
    {
      "cell_type": "markdown",
      "metadata": {
        "id": "Nw0civH-fU1Q"
      },
      "source": [
        "> ## **3) Model Fit**"
      ]
    },
    {
      "cell_type": "markdown",
      "metadata": {
        "id": "v6Erru_TfXUI"
      },
      "source": [
        "- 약 3분"
      ]
    },
    {
      "cell_type": "code",
      "metadata": {
        "colab": {
          "base_uri": "https://localhost:8080/"
        },
        "id": "o6t3bjIFfZxK",
        "outputId": "7828aa4d-2016-4afd-f429-c5321dbd7b35"
      },
      "source": [
        "%%time\n",
        "\n",
        "Hist_mnist = mnist.fit(X_train, y_train,\n",
        "                       epochs=100,\n",
        "                       batch_size=128,\n",
        "                       validation_split=0.2)"
      ],
      "execution_count": 17,
      "outputs": [
        {
          "output_type": "stream",
          "text": [
            "Epoch 1/100\n",
            "375/375 [==============================] - 3s 5ms/step - loss: 0.1790 - accuracy: 0.9459 - val_loss: 0.1378 - val_accuracy: 0.9586\n",
            "Epoch 2/100\n",
            "375/375 [==============================] - 2s 4ms/step - loss: 0.0738 - accuracy: 0.9779 - val_loss: 0.1091 - val_accuracy: 0.9698\n",
            "Epoch 3/100\n",
            "375/375 [==============================] - 2s 4ms/step - loss: 0.0457 - accuracy: 0.9854 - val_loss: 0.0989 - val_accuracy: 0.9732\n",
            "Epoch 4/100\n",
            "375/375 [==============================] - 2s 4ms/step - loss: 0.0324 - accuracy: 0.9902 - val_loss: 0.0889 - val_accuracy: 0.9763\n",
            "Epoch 5/100\n",
            "375/375 [==============================] - 2s 4ms/step - loss: 0.0248 - accuracy: 0.9918 - val_loss: 0.0847 - val_accuracy: 0.9778\n",
            "Epoch 6/100\n",
            "375/375 [==============================] - 2s 4ms/step - loss: 0.0187 - accuracy: 0.9939 - val_loss: 0.0853 - val_accuracy: 0.9798\n",
            "Epoch 7/100\n",
            "375/375 [==============================] - 2s 4ms/step - loss: 0.0154 - accuracy: 0.9949 - val_loss: 0.0930 - val_accuracy: 0.9783\n",
            "Epoch 8/100\n",
            "375/375 [==============================] - 2s 4ms/step - loss: 0.0123 - accuracy: 0.9961 - val_loss: 0.0966 - val_accuracy: 0.9787\n",
            "Epoch 9/100\n",
            "375/375 [==============================] - 2s 5ms/step - loss: 0.0100 - accuracy: 0.9967 - val_loss: 0.1075 - val_accuracy: 0.9770\n",
            "Epoch 10/100\n",
            "375/375 [==============================] - 2s 5ms/step - loss: 0.0096 - accuracy: 0.9970 - val_loss: 0.1035 - val_accuracy: 0.9781\n",
            "Epoch 11/100\n",
            "375/375 [==============================] - 2s 4ms/step - loss: 0.0083 - accuracy: 0.9977 - val_loss: 0.0906 - val_accuracy: 0.9808\n",
            "Epoch 12/100\n",
            "375/375 [==============================] - 2s 4ms/step - loss: 0.0069 - accuracy: 0.9978 - val_loss: 0.1027 - val_accuracy: 0.9793\n",
            "Epoch 13/100\n",
            "375/375 [==============================] - 2s 4ms/step - loss: 0.0067 - accuracy: 0.9976 - val_loss: 0.1150 - val_accuracy: 0.9783\n",
            "Epoch 14/100\n",
            "375/375 [==============================] - 2s 4ms/step - loss: 0.0064 - accuracy: 0.9979 - val_loss: 0.1139 - val_accuracy: 0.9783\n",
            "Epoch 15/100\n",
            "375/375 [==============================] - 1s 4ms/step - loss: 0.0057 - accuracy: 0.9979 - val_loss: 0.1183 - val_accuracy: 0.9793\n",
            "Epoch 16/100\n",
            "375/375 [==============================] - 1s 4ms/step - loss: 0.0059 - accuracy: 0.9981 - val_loss: 0.1089 - val_accuracy: 0.9813\n",
            "Epoch 17/100\n",
            "375/375 [==============================] - 1s 4ms/step - loss: 0.0055 - accuracy: 0.9982 - val_loss: 0.1184 - val_accuracy: 0.9803\n",
            "Epoch 18/100\n",
            "375/375 [==============================] - 1s 4ms/step - loss: 0.0042 - accuracy: 0.9987 - val_loss: 0.1218 - val_accuracy: 0.9800\n",
            "Epoch 19/100\n",
            "375/375 [==============================] - 1s 4ms/step - loss: 0.0041 - accuracy: 0.9985 - val_loss: 0.1326 - val_accuracy: 0.9794\n",
            "Epoch 20/100\n",
            "375/375 [==============================] - 1s 4ms/step - loss: 0.0034 - accuracy: 0.9988 - val_loss: 0.1323 - val_accuracy: 0.9797\n",
            "Epoch 21/100\n",
            "375/375 [==============================] - 1s 4ms/step - loss: 0.0036 - accuracy: 0.9990 - val_loss: 0.1285 - val_accuracy: 0.9786\n",
            "Epoch 22/100\n",
            "375/375 [==============================] - 2s 4ms/step - loss: 0.0037 - accuracy: 0.9987 - val_loss: 0.1430 - val_accuracy: 0.9785\n",
            "Epoch 23/100\n",
            "375/375 [==============================] - 2s 4ms/step - loss: 0.0033 - accuracy: 0.9990 - val_loss: 0.1255 - val_accuracy: 0.9806\n",
            "Epoch 24/100\n",
            "375/375 [==============================] - 2s 4ms/step - loss: 0.0034 - accuracy: 0.9989 - val_loss: 0.1358 - val_accuracy: 0.9805\n",
            "Epoch 25/100\n",
            "375/375 [==============================] - 1s 4ms/step - loss: 0.0035 - accuracy: 0.9987 - val_loss: 0.1256 - val_accuracy: 0.9800\n",
            "Epoch 26/100\n",
            "375/375 [==============================] - 1s 4ms/step - loss: 0.0022 - accuracy: 0.9993 - val_loss: 0.1328 - val_accuracy: 0.9809\n",
            "Epoch 27/100\n",
            "375/375 [==============================] - 2s 4ms/step - loss: 0.0028 - accuracy: 0.9991 - val_loss: 0.1359 - val_accuracy: 0.9808\n",
            "Epoch 28/100\n",
            "375/375 [==============================] - 2s 4ms/step - loss: 0.0028 - accuracy: 0.9991 - val_loss: 0.1370 - val_accuracy: 0.9803\n",
            "Epoch 29/100\n",
            "375/375 [==============================] - 2s 4ms/step - loss: 0.0027 - accuracy: 0.9991 - val_loss: 0.1374 - val_accuracy: 0.9813\n",
            "Epoch 30/100\n",
            "375/375 [==============================] - 1s 4ms/step - loss: 0.0028 - accuracy: 0.9990 - val_loss: 0.1371 - val_accuracy: 0.9815\n",
            "Epoch 31/100\n",
            "375/375 [==============================] - 2s 4ms/step - loss: 0.0020 - accuracy: 0.9992 - val_loss: 0.1371 - val_accuracy: 0.9825\n",
            "Epoch 32/100\n",
            "375/375 [==============================] - 2s 4ms/step - loss: 0.0017 - accuracy: 0.9993 - val_loss: 0.1441 - val_accuracy: 0.9808\n",
            "Epoch 33/100\n",
            "375/375 [==============================] - 1s 4ms/step - loss: 0.0014 - accuracy: 0.9996 - val_loss: 0.1211 - val_accuracy: 0.9827\n",
            "Epoch 34/100\n",
            "375/375 [==============================] - 2s 4ms/step - loss: 0.0023 - accuracy: 0.9993 - val_loss: 0.1319 - val_accuracy: 0.9818\n",
            "Epoch 35/100\n",
            "375/375 [==============================] - 1s 4ms/step - loss: 0.0019 - accuracy: 0.9994 - val_loss: 0.1329 - val_accuracy: 0.9822\n",
            "Epoch 36/100\n",
            "375/375 [==============================] - 1s 4ms/step - loss: 0.0025 - accuracy: 0.9992 - val_loss: 0.1427 - val_accuracy: 0.9810\n",
            "Epoch 37/100\n",
            "375/375 [==============================] - 1s 4ms/step - loss: 0.0021 - accuracy: 0.9994 - val_loss: 0.1391 - val_accuracy: 0.9829\n",
            "Epoch 38/100\n",
            "375/375 [==============================] - 1s 4ms/step - loss: 0.0014 - accuracy: 0.9995 - val_loss: 0.1650 - val_accuracy: 0.9789\n",
            "Epoch 39/100\n",
            "375/375 [==============================] - 2s 4ms/step - loss: 0.0014 - accuracy: 0.9995 - val_loss: 0.1287 - val_accuracy: 0.9837\n",
            "Epoch 40/100\n",
            "375/375 [==============================] - 2s 4ms/step - loss: 0.0020 - accuracy: 0.9994 - val_loss: 0.1627 - val_accuracy: 0.9805\n",
            "Epoch 41/100\n",
            "375/375 [==============================] - 2s 4ms/step - loss: 0.0011 - accuracy: 0.9996 - val_loss: 0.1464 - val_accuracy: 0.9803\n",
            "Epoch 42/100\n",
            "375/375 [==============================] - 2s 5ms/step - loss: 0.0025 - accuracy: 0.9994 - val_loss: 0.1475 - val_accuracy: 0.9812\n",
            "Epoch 43/100\n",
            "375/375 [==============================] - 2s 5ms/step - loss: 0.0015 - accuracy: 0.9996 - val_loss: 0.1413 - val_accuracy: 0.9818\n",
            "Epoch 44/100\n",
            "375/375 [==============================] - 2s 4ms/step - loss: 0.0015 - accuracy: 0.9995 - val_loss: 0.1481 - val_accuracy: 0.9814\n",
            "Epoch 45/100\n",
            "375/375 [==============================] - 2s 4ms/step - loss: 0.0012 - accuracy: 0.9995 - val_loss: 0.1448 - val_accuracy: 0.9831\n",
            "Epoch 46/100\n",
            "375/375 [==============================] - 2s 5ms/step - loss: 8.1882e-04 - accuracy: 0.9997 - val_loss: 0.1340 - val_accuracy: 0.9827\n",
            "Epoch 47/100\n",
            "375/375 [==============================] - 2s 4ms/step - loss: 0.0015 - accuracy: 0.9996 - val_loss: 0.1517 - val_accuracy: 0.9810\n",
            "Epoch 48/100\n",
            "375/375 [==============================] - 2s 5ms/step - loss: 0.0014 - accuracy: 0.9995 - val_loss: 0.1684 - val_accuracy: 0.9812\n",
            "Epoch 49/100\n",
            "375/375 [==============================] - 2s 5ms/step - loss: 0.0015 - accuracy: 0.9995 - val_loss: 0.1561 - val_accuracy: 0.9808\n",
            "Epoch 50/100\n",
            "375/375 [==============================] - 2s 4ms/step - loss: 0.0010 - accuracy: 0.9996 - val_loss: 0.1604 - val_accuracy: 0.9812\n",
            "Epoch 51/100\n",
            "375/375 [==============================] - 2s 5ms/step - loss: 0.0015 - accuracy: 0.9995 - val_loss: 0.1596 - val_accuracy: 0.9810\n",
            "Epoch 52/100\n",
            "375/375 [==============================] - 2s 4ms/step - loss: 0.0012 - accuracy: 0.9996 - val_loss: 0.1518 - val_accuracy: 0.9817\n",
            "Epoch 53/100\n",
            "375/375 [==============================] - 2s 4ms/step - loss: 0.0015 - accuracy: 0.9996 - val_loss: 0.1323 - val_accuracy: 0.9847\n",
            "Epoch 54/100\n",
            "375/375 [==============================] - 2s 4ms/step - loss: 0.0011 - accuracy: 0.9996 - val_loss: 0.1525 - val_accuracy: 0.9813\n",
            "Epoch 55/100\n",
            "375/375 [==============================] - 1s 4ms/step - loss: 0.0013 - accuracy: 0.9996 - val_loss: 0.1640 - val_accuracy: 0.9818\n",
            "Epoch 56/100\n",
            "375/375 [==============================] - 1s 4ms/step - loss: 0.0011 - accuracy: 0.9996 - val_loss: 0.1765 - val_accuracy: 0.9783\n",
            "Epoch 57/100\n",
            "375/375 [==============================] - 2s 4ms/step - loss: 8.6843e-04 - accuracy: 0.9997 - val_loss: 0.1724 - val_accuracy: 0.9817\n",
            "Epoch 58/100\n",
            "375/375 [==============================] - 2s 4ms/step - loss: 9.5206e-04 - accuracy: 0.9997 - val_loss: 0.1615 - val_accuracy: 0.9823\n",
            "Epoch 59/100\n",
            "375/375 [==============================] - 1s 4ms/step - loss: 0.0012 - accuracy: 0.9996 - val_loss: 0.1758 - val_accuracy: 0.9812\n",
            "Epoch 60/100\n",
            "375/375 [==============================] - 2s 4ms/step - loss: 0.0012 - accuracy: 0.9997 - val_loss: 0.1710 - val_accuracy: 0.9817\n",
            "Epoch 61/100\n",
            "375/375 [==============================] - 2s 4ms/step - loss: 0.0014 - accuracy: 0.9996 - val_loss: 0.1686 - val_accuracy: 0.9818\n",
            "Epoch 62/100\n",
            "375/375 [==============================] - 2s 4ms/step - loss: 7.4808e-04 - accuracy: 0.9998 - val_loss: 0.1711 - val_accuracy: 0.9822\n",
            "Epoch 63/100\n",
            "375/375 [==============================] - 2s 4ms/step - loss: 8.9279e-04 - accuracy: 0.9997 - val_loss: 0.1747 - val_accuracy: 0.9814\n",
            "Epoch 64/100\n",
            "375/375 [==============================] - 1s 4ms/step - loss: 9.5540e-04 - accuracy: 0.9998 - val_loss: 0.1660 - val_accuracy: 0.9826\n",
            "Epoch 65/100\n",
            "375/375 [==============================] - 2s 4ms/step - loss: 7.2828e-04 - accuracy: 0.9998 - val_loss: 0.1824 - val_accuracy: 0.9809\n",
            "Epoch 66/100\n",
            "375/375 [==============================] - 2s 4ms/step - loss: 7.9399e-04 - accuracy: 0.9997 - val_loss: 0.1704 - val_accuracy: 0.9817\n",
            "Epoch 67/100\n",
            "375/375 [==============================] - 1s 4ms/step - loss: 0.0011 - accuracy: 0.9997 - val_loss: 0.1736 - val_accuracy: 0.9822\n",
            "Epoch 68/100\n",
            "375/375 [==============================] - 2s 4ms/step - loss: 6.7616e-04 - accuracy: 0.9998 - val_loss: 0.1763 - val_accuracy: 0.9809\n",
            "Epoch 69/100\n",
            "375/375 [==============================] - 1s 4ms/step - loss: 0.0012 - accuracy: 0.9997 - val_loss: 0.1771 - val_accuracy: 0.9830\n",
            "Epoch 70/100\n",
            "375/375 [==============================] - 2s 4ms/step - loss: 9.9425e-04 - accuracy: 0.9998 - val_loss: 0.1935 - val_accuracy: 0.9807\n",
            "Epoch 71/100\n",
            "375/375 [==============================] - 2s 4ms/step - loss: 8.1284e-04 - accuracy: 0.9998 - val_loss: 0.1734 - val_accuracy: 0.9805\n",
            "Epoch 72/100\n",
            "375/375 [==============================] - 2s 4ms/step - loss: 5.7945e-04 - accuracy: 0.9998 - val_loss: 0.1845 - val_accuracy: 0.9805\n",
            "Epoch 73/100\n",
            "375/375 [==============================] - 2s 4ms/step - loss: 0.0016 - accuracy: 0.9998 - val_loss: 0.1729 - val_accuracy: 0.9826\n",
            "Epoch 74/100\n",
            "375/375 [==============================] - 1s 4ms/step - loss: 5.2477e-04 - accuracy: 0.9998 - val_loss: 0.1791 - val_accuracy: 0.9812\n",
            "Epoch 75/100\n",
            "375/375 [==============================] - 1s 4ms/step - loss: 9.3143e-04 - accuracy: 0.9996 - val_loss: 0.1939 - val_accuracy: 0.9810\n",
            "Epoch 76/100\n",
            "375/375 [==============================] - 2s 4ms/step - loss: 7.2699e-04 - accuracy: 0.9997 - val_loss: 0.1806 - val_accuracy: 0.9822\n",
            "Epoch 77/100\n",
            "375/375 [==============================] - 2s 4ms/step - loss: 7.2763e-04 - accuracy: 0.9997 - val_loss: 0.1918 - val_accuracy: 0.9818\n",
            "Epoch 78/100\n",
            "375/375 [==============================] - 2s 4ms/step - loss: 3.6671e-04 - accuracy: 0.9999 - val_loss: 0.1931 - val_accuracy: 0.9820\n",
            "Epoch 79/100\n",
            "375/375 [==============================] - 1s 4ms/step - loss: 4.6815e-04 - accuracy: 0.9998 - val_loss: 0.1825 - val_accuracy: 0.9820\n",
            "Epoch 80/100\n",
            "375/375 [==============================] - 1s 4ms/step - loss: 4.7864e-04 - accuracy: 0.9999 - val_loss: 0.1875 - val_accuracy: 0.9822\n",
            "Epoch 81/100\n",
            "375/375 [==============================] - 2s 4ms/step - loss: 8.0288e-04 - accuracy: 0.9997 - val_loss: 0.1896 - val_accuracy: 0.9822\n",
            "Epoch 82/100\n",
            "375/375 [==============================] - 2s 5ms/step - loss: 7.2004e-04 - accuracy: 0.9997 - val_loss: 0.1916 - val_accuracy: 0.9815\n",
            "Epoch 83/100\n",
            "375/375 [==============================] - 2s 4ms/step - loss: 5.8101e-04 - accuracy: 0.9998 - val_loss: 0.2019 - val_accuracy: 0.9797\n",
            "Epoch 84/100\n",
            "375/375 [==============================] - 2s 4ms/step - loss: 7.0547e-04 - accuracy: 0.9998 - val_loss: 0.1860 - val_accuracy: 0.9817\n",
            "Epoch 85/100\n",
            "375/375 [==============================] - 2s 4ms/step - loss: 4.1587e-04 - accuracy: 0.9999 - val_loss: 0.2088 - val_accuracy: 0.9808\n",
            "Epoch 86/100\n",
            "375/375 [==============================] - 2s 4ms/step - loss: 2.9992e-04 - accuracy: 0.9999 - val_loss: 0.1967 - val_accuracy: 0.9822\n",
            "Epoch 87/100\n",
            "375/375 [==============================] - 2s 5ms/step - loss: 5.8891e-04 - accuracy: 0.9998 - val_loss: 0.1934 - val_accuracy: 0.9830\n",
            "Epoch 88/100\n",
            "375/375 [==============================] - 2s 4ms/step - loss: 5.1203e-04 - accuracy: 0.9998 - val_loss: 0.2036 - val_accuracy: 0.9820\n",
            "Epoch 89/100\n",
            "375/375 [==============================] - 2s 4ms/step - loss: 0.0011 - accuracy: 0.9996 - val_loss: 0.2227 - val_accuracy: 0.9805\n",
            "Epoch 90/100\n",
            "375/375 [==============================] - 2s 4ms/step - loss: 4.2608e-04 - accuracy: 0.9999 - val_loss: 0.1917 - val_accuracy: 0.9815\n",
            "Epoch 91/100\n",
            "375/375 [==============================] - 2s 5ms/step - loss: 2.5379e-04 - accuracy: 0.9999 - val_loss: 0.1997 - val_accuracy: 0.9816\n",
            "Epoch 92/100\n",
            "375/375 [==============================] - 2s 5ms/step - loss: 4.2067e-04 - accuracy: 0.9999 - val_loss: 0.2003 - val_accuracy: 0.9829\n",
            "Epoch 93/100\n",
            "375/375 [==============================] - 2s 4ms/step - loss: 6.9857e-04 - accuracy: 0.9998 - val_loss: 0.1980 - val_accuracy: 0.9832\n",
            "Epoch 94/100\n",
            "375/375 [==============================] - 2s 5ms/step - loss: 0.0011 - accuracy: 0.9998 - val_loss: 0.2074 - val_accuracy: 0.9814\n",
            "Epoch 95/100\n",
            "375/375 [==============================] - 2s 5ms/step - loss: 5.1793e-04 - accuracy: 0.9999 - val_loss: 0.2090 - val_accuracy: 0.9822\n",
            "Epoch 96/100\n",
            "375/375 [==============================] - 2s 4ms/step - loss: 7.5797e-04 - accuracy: 0.9999 - val_loss: 0.2151 - val_accuracy: 0.9818\n",
            "Epoch 97/100\n",
            "375/375 [==============================] - 2s 4ms/step - loss: 9.0088e-04 - accuracy: 0.9997 - val_loss: 0.2024 - val_accuracy: 0.9823\n",
            "Epoch 98/100\n",
            "375/375 [==============================] - 2s 4ms/step - loss: 0.0011 - accuracy: 0.9997 - val_loss: 0.2114 - val_accuracy: 0.9805\n",
            "Epoch 99/100\n",
            "375/375 [==============================] - 2s 4ms/step - loss: 9.3705e-04 - accuracy: 0.9997 - val_loss: 0.2078 - val_accuracy: 0.9813\n",
            "Epoch 100/100\n",
            "375/375 [==============================] - 1s 4ms/step - loss: 4.9121e-04 - accuracy: 0.9998 - val_loss: 0.2169 - val_accuracy: 0.9806\n",
            "CPU times: user 2min 50s, sys: 19.9 s, total: 3min 10s\n",
            "Wall time: 2min 39s\n"
          ],
          "name": "stdout"
        }
      ]
    },
    {
      "cell_type": "markdown",
      "metadata": {
        "id": "etl8f10yfk7F"
      },
      "source": [
        "> ## **4) 학습 결과 시각화**"
      ]
    },
    {
      "cell_type": "markdown",
      "metadata": {
        "id": "aInazJcHfp0a"
      },
      "source": [
        "- Loss Visualization"
      ]
    },
    {
      "cell_type": "code",
      "metadata": {
        "colab": {
          "base_uri": "https://localhost:8080/",
          "height": 404
        },
        "id": "JIFMRnT_fso3",
        "outputId": "016f906f-03da-4c46-ec1e-ca323389a1c1"
      },
      "source": [
        "import matplotlib.pyplot as plt\n",
        "\n",
        "epochs = range(1, len(Hist_mnist.history['loss']) + 1)\n",
        "\n",
        "plt.figure(figsize=(9, 6))\n",
        "plt.plot(epochs, Hist_mnist.history['loss'])\n",
        "plt.plot(epochs, Hist_mnist.history['val_loss'])\n",
        "# plt.ylim(0, 0.25)\n",
        "plt.title('Training & Validation Loss')\n",
        "plt.xlabel('Epochs')\n",
        "plt.ylabel('Loss')\n",
        "plt.legend(['Training Loss', 'Validation Loss'])\n",
        "plt.grid()\n",
        "plt.show()"
      ],
      "execution_count": 18,
      "outputs": [
        {
          "output_type": "display_data",
          "data": {
            "image/png": "[encoded data removed]",
            "text/plain": [
              "<Figure size 648x432 with 1 Axes>"
            ]
          },
          "metadata": {
            "tags": [],
            "needs_background": "light"
          }
        }
      ]
    },
    {
      "cell_type": "markdown",
      "metadata": {
        "id": "5Dtx8T5Suh_M"
      },
      "source": [
        "**Training과 Validation의 Loss 간격이 넓으면 Overfitting → 간격이 줄어듦**"
      ]
    },
    {
      "cell_type": "markdown",
      "metadata": {
        "id": "IdFam5j1gQI0"
      },
      "source": [
        "> ## **5) Model Evaluate**"
      ]
    },
    {
      "cell_type": "markdown",
      "metadata": {
        "id": "x0hqiog_gZfk"
      },
      "source": [
        "- Loss & Accuracy"
      ]
    },
    {
      "cell_type": "code",
      "metadata": {
        "colab": {
          "base_uri": "https://localhost:8080/"
        },
        "id": "yjC2xsEMgbRc",
        "outputId": "a2d8f4d2-cd2c-4a77-922d-5a6d22e34f89"
      },
      "source": [
        "loss, accuracy = mnist.evaluate(X_test, y_test)\n",
        "\n",
        "print('Loss = {:.5f}'.format(loss))\n",
        "print('Accuracy = {:.5f}'.format(accuracy))"
      ],
      "execution_count": 19,
      "outputs": [
        {
          "output_type": "stream",
          "text": [
            "313/313 [==============================] - 1s 2ms/step - loss: 0.1773 - accuracy: 0.9827\n",
            "Loss = 0.17732\n",
            "Accuracy = 0.98270\n"
          ],
          "name": "stdout"
        }
      ]
    },
    {
      "cell_type": "markdown",
      "metadata": {
        "id": "oQtgTWclgnjs"
      },
      "source": [
        "> ## **6) Model Predict**"
      ]
    },
    {
      "cell_type": "markdown",
      "metadata": {
        "id": "7IMLtby3gvcp"
      },
      "source": [
        "- Probability"
      ]
    },
    {
      "cell_type": "code",
      "metadata": {
        "colab": {
          "base_uri": "https://localhost:8080/"
        },
        "id": "TirXNoVOgyWQ",
        "outputId": "8e33721c-941d-4441-f153-7e18efec2412"
      },
      "source": [
        "np.set_printoptions(suppress=True, precision=9)\n",
        "\n",
        "print(mnist.predict(X_test[:1, :]))"
      ],
      "execution_count": 20,
      "outputs": [
        {
          "output_type": "stream",
          "text": [
            "[[0. 0. 0. 0. 0. 0. 0. 1. 0. 0.]]\n"
          ],
          "name": "stdout"
        }
      ]
    },
    {
      "cell_type": "markdown",
      "metadata": {
        "id": "h4tSlbMZg75o"
      },
      "source": [
        "- Class"
      ]
    },
    {
      "cell_type": "code",
      "metadata": {
        "colab": {
          "base_uri": "https://localhost:8080/"
        },
        "id": "TYVdAykug_Ku",
        "outputId": "886ff137-bef8-4457-85af-c4e9c4049b09"
      },
      "source": [
        "print(mnist.predict_classes(X_test[:1, :]))"
      ],
      "execution_count": 21,
      "outputs": [
        {
          "output_type": "stream",
          "text": [
            "[7]\n"
          ],
          "name": "stdout"
        }
      ]
    },
    {
      "cell_type": "code",
      "metadata": {
        "id": "IxBEAaCIhEmU"
      },
      "source": [
        ""
      ],
      "execution_count": 21,
      "outputs": []
    }
  ]
}